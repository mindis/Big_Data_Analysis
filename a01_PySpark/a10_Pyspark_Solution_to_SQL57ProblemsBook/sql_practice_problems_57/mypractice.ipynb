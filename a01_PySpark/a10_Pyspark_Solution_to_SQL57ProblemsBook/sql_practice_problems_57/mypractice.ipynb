{
 "cells": [
  {
   "cell_type": "code",
   "execution_count": 14,
   "metadata": {
    "ExecuteTime": {
     "end_time": "2020-03-20T02:54:17.609810Z",
     "start_time": "2020-03-20T02:54:17.289797Z"
    }
   },
   "outputs": [
    {
     "name": "stdout",
     "output_type": "stream",
     "text": [
      "root\n",
      " |-- id: long (nullable = true)\n",
      " |-- date: timestamp (nullable = true)\n",
      "\n",
      "+-----+-------------------+\n",
      "|   id|               date|\n",
      "+-----+-------------------+\n",
      "|74085|2010-01-01 00:00:00|\n",
      "| 4881|2010-01-02 00:00:00|\n",
      "|72140|2010-01-03 00:00:00|\n",
      "| 7435|2010-01-04 00:00:00|\n",
      "|47952|2010-01-05 00:00:00|\n",
      "+-----+-------------------+\n",
      "only showing top 5 rows\n",
      "\n"
     ]
    }
   ],
   "source": [
    "import numpy as np\n",
    "import pandas as pd\n",
    "\n",
    "\n",
    "import pyspark\n",
    "spark = pyspark.sql\\\n",
    "          .SparkSession\\\n",
    "          .builder\\\n",
    "          .appName('app')\\\n",
    "          .getOrCreate()\n",
    "\n",
    "# sql\n",
    "from pyspark.sql import functions as F\n",
    "from pyspark.sql.types import *\n",
    "from pyspark import SparkConf, SparkContext, SQLContext\n",
    "\n",
    "sc = spark.sparkContext\n",
    "sqlContext = SQLContext(sc)\n",
    "\n",
    "df = pd.DataFrame({\n",
    "    'id': np.random.randint(0,100000,365*3),\n",
    "    'date': pd.date_range('2010-01-01',periods=365*3)\n",
    "})\n",
    "\n",
    "\n",
    "df.head()\n",
    "sdf = sqlContext.createDataFrame(df)\n",
    "sdf.printSchema()\n",
    "sdf.show(5)\n",
    "\n",
    "# create table\n",
    "sdf.createOrReplaceTempView(\"MyTable\")"
   ]
  },
  {
   "cell_type": "code",
   "execution_count": 13,
   "metadata": {
    "ExecuteTime": {
     "end_time": "2020-03-20T02:53:44.113754Z",
     "start_time": "2020-03-20T02:53:43.848408Z"
    }
   },
   "outputs": [
    {
     "name": "stdout",
     "output_type": "stream",
     "text": [
      "+--------+\n",
      "|count(1)|\n",
      "+--------+\n",
      "|      23|\n",
      "+--------+\n",
      "\n"
     ]
    }
   ],
   "source": [
    "q = \"\"\"\n",
    "SELECT count(*) FROM MyTable TABLESAMPLE(2 percent)\n",
    "\"\"\";\n",
    "\n",
    "spark.sql(q).show()"
   ]
  },
  {
   "cell_type": "code",
   "execution_count": null,
   "metadata": {},
   "outputs": [],
   "source": []
  }
 ],
 "metadata": {
  "kernelspec": {
   "display_name": "Python (dataSc)",
   "language": "python",
   "name": "datasc"
  },
  "language_info": {
   "codemirror_mode": {
    "name": "ipython",
    "version": 3
   },
   "file_extension": ".py",
   "mimetype": "text/x-python",
   "name": "python",
   "nbconvert_exporter": "python",
   "pygments_lexer": "ipython3",
   "version": "3.7.3"
  },
  "toc": {
   "base_numbering": 1,
   "nav_menu": {},
   "number_sections": true,
   "sideBar": true,
   "skip_h1_title": false,
   "title_cell": "Table of Contents",
   "title_sidebar": "Contents",
   "toc_cell": true,
   "toc_position": {},
   "toc_section_display": true,
   "toc_window_display": true
  }
 },
 "nbformat": 4,
 "nbformat_minor": 2
}
