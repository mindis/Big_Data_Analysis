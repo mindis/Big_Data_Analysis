{
 "cells": [
  {
   "cell_type": "markdown",
   "metadata": {
    "toc": true
   },
   "source": [
    "<h1>Table of Contents<span class=\"tocSkip\"></span></h1>\n",
    "<div class=\"toc\"><ul class=\"toc-item\"><li><span><a href=\"#Imports\" data-toc-modified-id=\"Imports-1\"><span class=\"toc-item-num\">1&nbsp;&nbsp;</span>Imports</a></span></li><li><span><a href=\"#Wikibooks-SQL-Exercise:-The-Computer-Store\" data-toc-modified-id=\"Wikibooks-SQL-Exercise:-The-Computer-Store-2\"><span class=\"toc-item-num\">2&nbsp;&nbsp;</span>Wikibooks SQL Exercise: The Computer Store</a></span><ul class=\"toc-item\"><li><span><a href=\"#manufacturer-data\" data-toc-modified-id=\"manufacturer-data-2.1\"><span class=\"toc-item-num\">2.1&nbsp;&nbsp;</span>manufacturer data</a></span></li><li><span><a href=\"#products-data\" data-toc-modified-id=\"products-data-2.2\"><span class=\"toc-item-num\">2.2&nbsp;&nbsp;</span>products data</a></span></li><li><span><a href=\"#combine-data\" data-toc-modified-id=\"combine-data-2.3\"><span class=\"toc-item-num\">2.3&nbsp;&nbsp;</span>combine data</a></span></li></ul></li><li><span><a href=\"#Create-SQL-table-from-spark-dataframes\" data-toc-modified-id=\"Create-SQL-table-from-spark-dataframes-3\"><span class=\"toc-item-num\">3&nbsp;&nbsp;</span>Create SQL table from spark dataframes</a></span></li><li><span><a href=\"#Exercise-Questions\" data-toc-modified-id=\"Exercise-Questions-4\"><span class=\"toc-item-num\">4&nbsp;&nbsp;</span>Exercise Questions</a></span><ul class=\"toc-item\"><li><span><a href=\"#Select-the-names-of-all-the-products-in-the-store.\" data-toc-modified-id=\"Select-the-names-of-all-the-products-in-the-store.-4.1\"><span class=\"toc-item-num\">4.1&nbsp;&nbsp;</span>Select the names of all the products in the store.</a></span></li><li><span><a href=\"#Select-the-names-and-the-prices-of-all-the-products-in-the-store.\" data-toc-modified-id=\"Select-the-names-and-the-prices-of-all-the-products-in-the-store.-4.2\"><span class=\"toc-item-num\">4.2&nbsp;&nbsp;</span>Select the names and the prices of all the products in the store.</a></span></li><li><span><a href=\"#Select-the-name-of-the-products-with-a-price-less-than-or-equal-to-200.\" data-toc-modified-id=\"Select-the-name-of-the-products-with-a-price-less-than-or-equal-to-200.-4.3\"><span class=\"toc-item-num\">4.3&nbsp;&nbsp;</span>Select the name of the products with a price less than or equal to 200.</a></span></li><li><span><a href=\"#Select-all-the-products-with-a-price-between-60-and-120.\" data-toc-modified-id=\"Select-all-the-products-with-a-price-between-60-and-120.-4.4\"><span class=\"toc-item-num\">4.4&nbsp;&nbsp;</span>Select all the products with a price between 60 and 120.</a></span></li><li><span><a href=\"#Select-the-name-and-price-in-cents-(i.e.,-the-price-must-be-multiplied-by-100)\" data-toc-modified-id=\"Select-the-name-and-price-in-cents-(i.e.,-the-price-must-be-multiplied-by-100)-4.5\"><span class=\"toc-item-num\">4.5&nbsp;&nbsp;</span>Select the name and price in cents (i.e., the price must be multiplied by 100)</a></span></li><li><span><a href=\"#Compute-the-average-price-of-all-the-products.\" data-toc-modified-id=\"Compute-the-average-price-of-all-the-products.-4.6\"><span class=\"toc-item-num\">4.6&nbsp;&nbsp;</span>Compute the average price of all the products.</a></span></li><li><span><a href=\"#Compute-the-average-price-of-all-products-with-manufacturer-code-equal-to-2.\" data-toc-modified-id=\"Compute-the-average-price-of-all-products-with-manufacturer-code-equal-to-2.-4.7\"><span class=\"toc-item-num\">4.7&nbsp;&nbsp;</span>Compute the average price of all products with manufacturer code equal to 2.</a></span></li><li><span><a href=\"#Compute-the-number-of-products-with-a-price-larger-than-or-equal-to-180.\" data-toc-modified-id=\"Compute-the-number-of-products-with-a-price-larger-than-or-equal-to-180.-4.8\"><span class=\"toc-item-num\">4.8&nbsp;&nbsp;</span>Compute the number of products with a price larger than or equal to 180.</a></span></li><li><span><a href=\"#Select-the-name-and-price-of-all-products-with-a-price-larger-than-or-equal-to-180,-and-sort-first-by-price-(in-descending-order),-and-then-by-name-(in-ascending-order).\" data-toc-modified-id=\"Select-the-name-and-price-of-all-products-with-a-price-larger-than-or-equal-to-180,-and-sort-first-by-price-(in-descending-order),-and-then-by-name-(in-ascending-order).-4.9\"><span class=\"toc-item-num\">4.9&nbsp;&nbsp;</span>Select the name and price of all products with a price larger than or equal to 180, and sort first by price (in descending order), and then by name (in ascending order).</a></span></li><li><span><a href=\"#Select-all-the-data-from-the-products,-including-all-the-data-for-each-product's-manufacturer.\" data-toc-modified-id=\"Select-all-the-data-from-the-products,-including-all-the-data-for-each-product's-manufacturer.-4.10\"><span class=\"toc-item-num\">4.10&nbsp;&nbsp;</span>Select all the data from the products, including all the data for each product's manufacturer.</a></span></li><li><span><a href=\"#Select-the-product-name,-price,-and-manufacturer-name-of-all-the-products.\" data-toc-modified-id=\"Select-the-product-name,-price,-and-manufacturer-name-of-all-the-products.-4.11\"><span class=\"toc-item-num\">4.11&nbsp;&nbsp;</span>Select the product name, price, and manufacturer name of all the products.</a></span></li><li><span><a href=\"#Select-the-average-price-of-each-manufacturer's-products,-showing-only-the-manufacturer's-code.\" data-toc-modified-id=\"Select-the-average-price-of-each-manufacturer's-products,-showing-only-the-manufacturer's-code.-4.12\"><span class=\"toc-item-num\">4.12&nbsp;&nbsp;</span>Select the average price of each manufacturer's products, showing only the manufacturer's code.</a></span></li><li><span><a href=\"#Select-the-average-price-of-each-manufacturer's-products,-showing-the-manufacturer's-name.\" data-toc-modified-id=\"Select-the-average-price-of-each-manufacturer's-products,-showing-the-manufacturer's-name.-4.13\"><span class=\"toc-item-num\">4.13&nbsp;&nbsp;</span>Select the average price of each manufacturer's products, showing the manufacturer's name.</a></span></li><li><span><a href=\"#Select-the-names-of-manufacturer-whose-products-have-an-average-price-larger-than-or-equal-to-150.\" data-toc-modified-id=\"Select-the-names-of-manufacturer-whose-products-have-an-average-price-larger-than-or-equal-to-150.-4.14\"><span class=\"toc-item-num\">4.14&nbsp;&nbsp;</span>Select the names of manufacturer whose products have an average price larger than or equal to 150.</a></span></li><li><span><a href=\"#Select-the-name-and-price-of-the-cheapest-product.\" data-toc-modified-id=\"Select-the-name-and-price-of-the-cheapest-product.-4.15\"><span class=\"toc-item-num\">4.15&nbsp;&nbsp;</span>Select the name and price of the cheapest product.</a></span></li><li><span><a href=\"#Select-the-name-of-each-manufacturer-along-with-the-name-and-price-of-its-most-expensive-product.\" data-toc-modified-id=\"Select-the-name-of-each-manufacturer-along-with-the-name-and-price-of-its-most-expensive-product.-4.16\"><span class=\"toc-item-num\">4.16&nbsp;&nbsp;</span>Select the name of each manufacturer along with the name and price of its most expensive product.</a></span></li><li><span><a href=\"#Add-a-new-product:-Loudspeakers,-70,-manufacturer-2.\" data-toc-modified-id=\"Add-a-new-product:-Loudspeakers,-70,-manufacturer-2.-4.17\"><span class=\"toc-item-num\">4.17&nbsp;&nbsp;</span>Add a new product: Loudspeakers, 70, manufacturer 2.</a></span></li><li><span><a href=\"#Update-the-name-of-product-8-to-&quot;Laser-Printer&quot;.\" data-toc-modified-id=\"Update-the-name-of-product-8-to-&quot;Laser-Printer&quot;.-4.18\"><span class=\"toc-item-num\">4.18&nbsp;&nbsp;</span>Update the name of product 8 to \"Laser Printer\".</a></span></li><li><span><a href=\"#Apply-a-10%-discount-to-all-products.\" data-toc-modified-id=\"Apply-a-10%-discount-to-all-products.-4.19\"><span class=\"toc-item-num\">4.19&nbsp;&nbsp;</span>Apply a 10% discount to all products.</a></span></li><li><span><a href=\"#Apply-a-10%-discount-to-all-products-with-a-price-larger-than-or-equal-to-120.\" data-toc-modified-id=\"Apply-a-10%-discount-to-all-products-with-a-price-larger-than-or-equal-to-120.-4.20\"><span class=\"toc-item-num\">4.20&nbsp;&nbsp;</span>Apply a 10% discount to all products with a price larger than or equal to 120.</a></span></li></ul></li></ul></div>"
   ]
  },
  {
   "cell_type": "markdown",
   "metadata": {},
   "source": [
    "# Imports\n",
    "\n",
    "This is wikibooks SQL Exercise \"The Computer Store\"\n",
    "https://en.wikibooks.org/wiki/SQL_Exercises/The_computer_store"
   ]
  },
  {
   "cell_type": "code",
   "execution_count": 1,
   "metadata": {
    "ExecuteTime": {
     "end_time": "2020-03-11T03:05:15.631768Z",
     "start_time": "2020-03-11T03:05:15.627778Z"
    }
   },
   "outputs": [],
   "source": [
    "import time\n",
    "time_start_notebook = time.time()"
   ]
  },
  {
   "cell_type": "code",
   "execution_count": 2,
   "metadata": {
    "ExecuteTime": {
     "end_time": "2020-03-11T03:05:19.304663Z",
     "start_time": "2020-03-11T03:05:15.635715Z"
    }
   },
   "outputs": [
    {
     "name": "stderr",
     "output_type": "stream",
     "text": [
      "/Users/poudel/miniconda3/envs/dataSc/lib/python3.7/site-packages/statsmodels/tools/_testing.py:19: FutureWarning: pandas.util.testing is deprecated. Use the functions in the public API at pandas.testing instead.\n",
      "  import pandas.util.testing as tm\n"
     ]
    }
   ],
   "source": [
    "from bhishan import bp"
   ]
  },
  {
   "cell_type": "code",
   "execution_count": 3,
   "metadata": {
    "ExecuteTime": {
     "end_time": "2020-03-11T03:05:19.326582Z",
     "start_time": "2020-03-11T03:05:19.319907Z"
    }
   },
   "outputs": [],
   "source": [
    "import functools\n",
    "from functools import reduce"
   ]
  },
  {
   "cell_type": "code",
   "execution_count": 4,
   "metadata": {
    "ExecuteTime": {
     "end_time": "2020-03-11T03:05:19.388508Z",
     "start_time": "2020-03-11T03:05:19.331217Z"
    }
   },
   "outputs": [
    {
     "name": "stdout",
     "output_type": "stream",
     "text": [
      "[('numpy', '1.16.4'), ('pandas', '1.0.1'), ('pyspark', '2.4.4')]\n"
     ]
    }
   ],
   "source": [
    "import numpy as np\n",
    "import pandas as pd\n",
    "\n",
    "import pyspark\n",
    "\n",
    "print([(x.__name__,x.__version__) for x in [np, pd, pyspark]])"
   ]
  },
  {
   "cell_type": "code",
   "execution_count": 5,
   "metadata": {
    "ExecuteTime": {
     "end_time": "2020-03-11T03:05:19.401780Z",
     "start_time": "2020-03-11T03:05:19.391514Z"
    }
   },
   "outputs": [],
   "source": [
    "# sql\n",
    "from pyspark.sql.functions import col as _col\n",
    "from pyspark.sql.functions import udf # @udf(\"integer\") def myfunc(x,y): return x - y\n",
    "from pyspark.sql import functions as F # stddev format_number date_format, dayofyear, when\n",
    "from pyspark.sql.window import Window\n",
    "\n",
    "from pyspark.sql.functions import (mean as _mean, min as _min,\n",
    "                                   max as _max, avg as _avg,\n",
    "                                   when as _when\n",
    "                                  )\n",
    "\n",
    "from pyspark.sql.types import StructField, StringType, IntegerType,  FloatType, StructType"
   ]
  },
  {
   "cell_type": "code",
   "execution_count": 6,
   "metadata": {
    "ExecuteTime": {
     "end_time": "2020-03-11T03:05:24.448066Z",
     "start_time": "2020-03-11T03:05:19.404792Z"
    }
   },
   "outputs": [],
   "source": [
    "from pyspark import SparkConf, SparkContext, SQLContext\n",
    "\n",
    "spark = pyspark.sql.SparkSession.builder.appName('bhishan').getOrCreate()\n",
    "sc = spark.sparkContext\n",
    "sqlContext = SQLContext(sc) # spark_df = sqlContext.createDataFrame(pandas_df)\n",
    "sc.setLogLevel(\"INFO\")"
   ]
  },
  {
   "cell_type": "code",
   "execution_count": 7,
   "metadata": {
    "ExecuteTime": {
     "end_time": "2020-03-11T03:05:24.560694Z",
     "start_time": "2020-03-11T03:05:24.450414Z"
    }
   },
   "outputs": [
    {
     "data": {
      "text/html": [
       "<div>\n",
       "<style scoped>\n",
       "    .dataframe tbody tr th:only-of-type {\n",
       "        vertical-align: middle;\n",
       "    }\n",
       "\n",
       "    .dataframe tbody tr th {\n",
       "        vertical-align: top;\n",
       "    }\n",
       "\n",
       "    .dataframe thead th {\n",
       "        text-align: right;\n",
       "    }\n",
       "</style>\n",
       "<table border=\"1\" class=\"dataframe\">\n",
       "  <thead>\n",
       "    <tr style=\"text-align: right;\">\n",
       "      <th></th>\n",
       "      <th>0</th>\n",
       "      <th>1</th>\n",
       "      <th>2</th>\n",
       "      <th>3</th>\n",
       "      <th>4</th>\n",
       "    </tr>\n",
       "  </thead>\n",
       "  <tbody>\n",
       "    <tr>\n",
       "      <th>0</th>\n",
       "      <td>Column</td>\n",
       "      <td>ceil</td>\n",
       "      <td>first</td>\n",
       "      <td>map_from_entries</td>\n",
       "      <td>sin</td>\n",
       "    </tr>\n",
       "    <tr>\n",
       "      <th>1</th>\n",
       "      <td>DataFrame</td>\n",
       "      <td>coalesce</td>\n",
       "      <td>flatten</td>\n",
       "      <td>map_keys</td>\n",
       "      <td>since</td>\n",
       "    </tr>\n",
       "    <tr>\n",
       "      <th>2</th>\n",
       "      <td>DataType</td>\n",
       "      <td>col</td>\n",
       "      <td>floor</td>\n",
       "      <td>map_values</td>\n",
       "      <td>sinh</td>\n",
       "    </tr>\n",
       "    <tr>\n",
       "      <th>3</th>\n",
       "      <td>PandasUDFType</td>\n",
       "      <td>collect_list</td>\n",
       "      <td>format_number</td>\n",
       "      <td>max</td>\n",
       "      <td>size</td>\n",
       "    </tr>\n",
       "    <tr>\n",
       "      <th>4</th>\n",
       "      <td>PythonEvalType</td>\n",
       "      <td>collect_set</td>\n",
       "      <td>format_string</td>\n",
       "      <td>md5</td>\n",
       "      <td>skewness</td>\n",
       "    </tr>\n",
       "    <tr>\n",
       "      <th>5</th>\n",
       "      <td>SparkContext</td>\n",
       "      <td>column</td>\n",
       "      <td>from_json</td>\n",
       "      <td>mean</td>\n",
       "      <td>slice</td>\n",
       "    </tr>\n",
       "    <tr>\n",
       "      <th>6</th>\n",
       "      <td>StringType</td>\n",
       "      <td>concat</td>\n",
       "      <td>from_unixtime</td>\n",
       "      <td>min</td>\n",
       "      <td>sort_array</td>\n",
       "    </tr>\n",
       "    <tr>\n",
       "      <th>7</th>\n",
       "      <td>UserDefinedFunction</td>\n",
       "      <td>concat_ws</td>\n",
       "      <td>from_utc_timestamp</td>\n",
       "      <td>minute</td>\n",
       "      <td>soundex</td>\n",
       "    </tr>\n",
       "    <tr>\n",
       "      <th>8</th>\n",
       "      <td>abs</td>\n",
       "      <td>conv</td>\n",
       "      <td>functools</td>\n",
       "      <td>monotonically_increasing_id</td>\n",
       "      <td>spark_partition_id</td>\n",
       "    </tr>\n",
       "    <tr>\n",
       "      <th>9</th>\n",
       "      <td>acos</td>\n",
       "      <td>corr</td>\n",
       "      <td>get_json_object</td>\n",
       "      <td>month</td>\n",
       "      <td>split</td>\n",
       "    </tr>\n",
       "    <tr>\n",
       "      <th>10</th>\n",
       "      <td>add_months</td>\n",
       "      <td>cos</td>\n",
       "      <td>greatest</td>\n",
       "      <td>months_between</td>\n",
       "      <td>sqrt</td>\n",
       "    </tr>\n",
       "    <tr>\n",
       "      <th>11</th>\n",
       "      <td>approxCountDistinct</td>\n",
       "      <td>cosh</td>\n",
       "      <td>grouping</td>\n",
       "      <td>nanvl</td>\n",
       "      <td>stddev</td>\n",
       "    </tr>\n",
       "    <tr>\n",
       "      <th>12</th>\n",
       "      <td>approx_count_distinct</td>\n",
       "      <td>count</td>\n",
       "      <td>grouping_id</td>\n",
       "      <td>next_day</td>\n",
       "      <td>stddev_pop</td>\n",
       "    </tr>\n",
       "    <tr>\n",
       "      <th>13</th>\n",
       "      <td>array</td>\n",
       "      <td>countDistinct</td>\n",
       "      <td>hash</td>\n",
       "      <td>ntile</td>\n",
       "      <td>stddev_samp</td>\n",
       "    </tr>\n",
       "    <tr>\n",
       "      <th>14</th>\n",
       "      <td>array_contains</td>\n",
       "      <td>covar_pop</td>\n",
       "      <td>hex</td>\n",
       "      <td>pandas_udf</td>\n",
       "      <td>struct</td>\n",
       "    </tr>\n",
       "    <tr>\n",
       "      <th>15</th>\n",
       "      <td>array_distinct</td>\n",
       "      <td>covar_samp</td>\n",
       "      <td>hour</td>\n",
       "      <td>percent_rank</td>\n",
       "      <td>substring</td>\n",
       "    </tr>\n",
       "    <tr>\n",
       "      <th>16</th>\n",
       "      <td>array_except</td>\n",
       "      <td>crc32</td>\n",
       "      <td>hypot</td>\n",
       "      <td>posexplode</td>\n",
       "      <td>substring_index</td>\n",
       "    </tr>\n",
       "    <tr>\n",
       "      <th>17</th>\n",
       "      <td>array_intersect</td>\n",
       "      <td>create_map</td>\n",
       "      <td>ignore_unicode_prefix</td>\n",
       "      <td>posexplode_outer</td>\n",
       "      <td>sum</td>\n",
       "    </tr>\n",
       "    <tr>\n",
       "      <th>18</th>\n",
       "      <td>array_join</td>\n",
       "      <td>cume_dist</td>\n",
       "      <td>initcap</td>\n",
       "      <td>pow</td>\n",
       "      <td>sumDistinct</td>\n",
       "    </tr>\n",
       "    <tr>\n",
       "      <th>19</th>\n",
       "      <td>array_max</td>\n",
       "      <td>current_date</td>\n",
       "      <td>input_file_name</td>\n",
       "      <td>quarter</td>\n",
       "      <td>tan</td>\n",
       "    </tr>\n",
       "    <tr>\n",
       "      <th>20</th>\n",
       "      <td>array_min</td>\n",
       "      <td>current_timestamp</td>\n",
       "      <td>instr</td>\n",
       "      <td>radians</td>\n",
       "      <td>tanh</td>\n",
       "    </tr>\n",
       "    <tr>\n",
       "      <th>21</th>\n",
       "      <td>array_position</td>\n",
       "      <td>date_add</td>\n",
       "      <td>isnan</td>\n",
       "      <td>rand</td>\n",
       "      <td>toDegrees</td>\n",
       "    </tr>\n",
       "    <tr>\n",
       "      <th>22</th>\n",
       "      <td>array_remove</td>\n",
       "      <td>date_format</td>\n",
       "      <td>isnull</td>\n",
       "      <td>randn</td>\n",
       "      <td>toRadians</td>\n",
       "    </tr>\n",
       "    <tr>\n",
       "      <th>23</th>\n",
       "      <td>array_repeat</td>\n",
       "      <td>date_sub</td>\n",
       "      <td>json_tuple</td>\n",
       "      <td>rank</td>\n",
       "      <td>to_date</td>\n",
       "    </tr>\n",
       "    <tr>\n",
       "      <th>24</th>\n",
       "      <td>array_sort</td>\n",
       "      <td>date_trunc</td>\n",
       "      <td>kurtosis</td>\n",
       "      <td>regexp_extract</td>\n",
       "      <td>to_json</td>\n",
       "    </tr>\n",
       "    <tr>\n",
       "      <th>25</th>\n",
       "      <td>array_union</td>\n",
       "      <td>datediff</td>\n",
       "      <td>lag</td>\n",
       "      <td>regexp_replace</td>\n",
       "      <td>to_timestamp</td>\n",
       "    </tr>\n",
       "    <tr>\n",
       "      <th>26</th>\n",
       "      <td>arrays_overlap</td>\n",
       "      <td>dayofmonth</td>\n",
       "      <td>last</td>\n",
       "      <td>repeat</td>\n",
       "      <td>to_utc_timestamp</td>\n",
       "    </tr>\n",
       "    <tr>\n",
       "      <th>27</th>\n",
       "      <td>arrays_zip</td>\n",
       "      <td>dayofweek</td>\n",
       "      <td>last_day</td>\n",
       "      <td>reverse</td>\n",
       "      <td>translate</td>\n",
       "    </tr>\n",
       "    <tr>\n",
       "      <th>28</th>\n",
       "      <td>asc</td>\n",
       "      <td>dayofyear</td>\n",
       "      <td>lead</td>\n",
       "      <td>rint</td>\n",
       "      <td>trim</td>\n",
       "    </tr>\n",
       "    <tr>\n",
       "      <th>29</th>\n",
       "      <td>asc_nulls_first</td>\n",
       "      <td>decode</td>\n",
       "      <td>least</td>\n",
       "      <td>round</td>\n",
       "      <td>trunc</td>\n",
       "    </tr>\n",
       "    <tr>\n",
       "      <th>30</th>\n",
       "      <td>asc_nulls_last</td>\n",
       "      <td>degrees</td>\n",
       "      <td>length</td>\n",
       "      <td>row_number</td>\n",
       "      <td>udf</td>\n",
       "    </tr>\n",
       "    <tr>\n",
       "      <th>31</th>\n",
       "      <td>ascii</td>\n",
       "      <td>dense_rank</td>\n",
       "      <td>levenshtein</td>\n",
       "      <td>rpad</td>\n",
       "      <td>unbase64</td>\n",
       "    </tr>\n",
       "    <tr>\n",
       "      <th>32</th>\n",
       "      <td>asin</td>\n",
       "      <td>desc</td>\n",
       "      <td>lit</td>\n",
       "      <td>rtrim</td>\n",
       "      <td>unhex</td>\n",
       "    </tr>\n",
       "    <tr>\n",
       "      <th>33</th>\n",
       "      <td>atan</td>\n",
       "      <td>desc_nulls_first</td>\n",
       "      <td>locate</td>\n",
       "      <td>schema_of_json</td>\n",
       "      <td>unix_timestamp</td>\n",
       "    </tr>\n",
       "    <tr>\n",
       "      <th>34</th>\n",
       "      <td>atan2</td>\n",
       "      <td>desc_nulls_last</td>\n",
       "      <td>log</td>\n",
       "      <td>second</td>\n",
       "      <td>upper</td>\n",
       "    </tr>\n",
       "    <tr>\n",
       "      <th>35</th>\n",
       "      <td>avg</td>\n",
       "      <td>element_at</td>\n",
       "      <td>log10</td>\n",
       "      <td>sequence</td>\n",
       "      <td>var_pop</td>\n",
       "    </tr>\n",
       "    <tr>\n",
       "      <th>36</th>\n",
       "      <td>base64</td>\n",
       "      <td>encode</td>\n",
       "      <td>log1p</td>\n",
       "      <td>sha1</td>\n",
       "      <td>var_samp</td>\n",
       "    </tr>\n",
       "    <tr>\n",
       "      <th>37</th>\n",
       "      <td>basestring</td>\n",
       "      <td>exp</td>\n",
       "      <td>log2</td>\n",
       "      <td>sha2</td>\n",
       "      <td>variance</td>\n",
       "    </tr>\n",
       "    <tr>\n",
       "      <th>38</th>\n",
       "      <td>bin</td>\n",
       "      <td>explode</td>\n",
       "      <td>lower</td>\n",
       "      <td>shiftLeft</td>\n",
       "      <td>warnings</td>\n",
       "    </tr>\n",
       "    <tr>\n",
       "      <th>39</th>\n",
       "      <td>bitwiseNOT</td>\n",
       "      <td>explode_outer</td>\n",
       "      <td>lpad</td>\n",
       "      <td>shiftRight</td>\n",
       "      <td>weekofyear</td>\n",
       "    </tr>\n",
       "    <tr>\n",
       "      <th>40</th>\n",
       "      <td>blacklist</td>\n",
       "      <td>expm1</td>\n",
       "      <td>ltrim</td>\n",
       "      <td>shiftRightUnsigned</td>\n",
       "      <td>when</td>\n",
       "    </tr>\n",
       "    <tr>\n",
       "      <th>41</th>\n",
       "      <td>broadcast</td>\n",
       "      <td>expr</td>\n",
       "      <td>map_concat</td>\n",
       "      <td>shuffle</td>\n",
       "      <td>window</td>\n",
       "    </tr>\n",
       "    <tr>\n",
       "      <th>42</th>\n",
       "      <td>bround</td>\n",
       "      <td>factorial</td>\n",
       "      <td>map_from_arrays</td>\n",
       "      <td>signum</td>\n",
       "      <td>year</td>\n",
       "    </tr>\n",
       "    <tr>\n",
       "      <th>43</th>\n",
       "      <td>cbrt</td>\n",
       "      <td></td>\n",
       "      <td></td>\n",
       "      <td></td>\n",
       "      <td></td>\n",
       "    </tr>\n",
       "  </tbody>\n",
       "</table>\n",
       "</div>"
      ],
      "text/plain": [
       "                        0                  1                      2  \\\n",
       "0                  Column               ceil                  first   \n",
       "1               DataFrame           coalesce                flatten   \n",
       "2                DataType                col                  floor   \n",
       "3           PandasUDFType       collect_list          format_number   \n",
       "4          PythonEvalType        collect_set          format_string   \n",
       "5            SparkContext             column              from_json   \n",
       "6              StringType             concat          from_unixtime   \n",
       "7     UserDefinedFunction          concat_ws     from_utc_timestamp   \n",
       "8                     abs               conv              functools   \n",
       "9                    acos               corr        get_json_object   \n",
       "10             add_months                cos               greatest   \n",
       "11    approxCountDistinct               cosh               grouping   \n",
       "12  approx_count_distinct              count            grouping_id   \n",
       "13                  array      countDistinct                   hash   \n",
       "14         array_contains          covar_pop                    hex   \n",
       "15         array_distinct         covar_samp                   hour   \n",
       "16           array_except              crc32                  hypot   \n",
       "17        array_intersect         create_map  ignore_unicode_prefix   \n",
       "18             array_join          cume_dist                initcap   \n",
       "19              array_max       current_date        input_file_name   \n",
       "20              array_min  current_timestamp                  instr   \n",
       "21         array_position           date_add                  isnan   \n",
       "22           array_remove        date_format                 isnull   \n",
       "23           array_repeat           date_sub             json_tuple   \n",
       "24             array_sort         date_trunc               kurtosis   \n",
       "25            array_union           datediff                    lag   \n",
       "26         arrays_overlap         dayofmonth                   last   \n",
       "27             arrays_zip          dayofweek               last_day   \n",
       "28                    asc          dayofyear                   lead   \n",
       "29        asc_nulls_first             decode                  least   \n",
       "30         asc_nulls_last            degrees                 length   \n",
       "31                  ascii         dense_rank            levenshtein   \n",
       "32                   asin               desc                    lit   \n",
       "33                   atan   desc_nulls_first                 locate   \n",
       "34                  atan2    desc_nulls_last                    log   \n",
       "35                    avg         element_at                  log10   \n",
       "36                 base64             encode                  log1p   \n",
       "37             basestring                exp                   log2   \n",
       "38                    bin            explode                  lower   \n",
       "39             bitwiseNOT      explode_outer                   lpad   \n",
       "40              blacklist              expm1                  ltrim   \n",
       "41              broadcast               expr             map_concat   \n",
       "42                 bround          factorial        map_from_arrays   \n",
       "43                   cbrt                                             \n",
       "\n",
       "                              3                   4  \n",
       "0              map_from_entries                 sin  \n",
       "1                      map_keys               since  \n",
       "2                    map_values                sinh  \n",
       "3                           max                size  \n",
       "4                           md5            skewness  \n",
       "5                          mean               slice  \n",
       "6                           min          sort_array  \n",
       "7                        minute             soundex  \n",
       "8   monotonically_increasing_id  spark_partition_id  \n",
       "9                         month               split  \n",
       "10               months_between                sqrt  \n",
       "11                        nanvl              stddev  \n",
       "12                     next_day          stddev_pop  \n",
       "13                        ntile         stddev_samp  \n",
       "14                   pandas_udf              struct  \n",
       "15                 percent_rank           substring  \n",
       "16                   posexplode     substring_index  \n",
       "17             posexplode_outer                 sum  \n",
       "18                          pow         sumDistinct  \n",
       "19                      quarter                 tan  \n",
       "20                      radians                tanh  \n",
       "21                         rand           toDegrees  \n",
       "22                        randn           toRadians  \n",
       "23                         rank             to_date  \n",
       "24               regexp_extract             to_json  \n",
       "25               regexp_replace        to_timestamp  \n",
       "26                       repeat    to_utc_timestamp  \n",
       "27                      reverse           translate  \n",
       "28                         rint                trim  \n",
       "29                        round               trunc  \n",
       "30                   row_number                 udf  \n",
       "31                         rpad            unbase64  \n",
       "32                        rtrim               unhex  \n",
       "33               schema_of_json      unix_timestamp  \n",
       "34                       second               upper  \n",
       "35                     sequence             var_pop  \n",
       "36                         sha1            var_samp  \n",
       "37                         sha2            variance  \n",
       "38                    shiftLeft            warnings  \n",
       "39                   shiftRight          weekofyear  \n",
       "40           shiftRightUnsigned                when  \n",
       "41                      shuffle              window  \n",
       "42                       signum                year  \n",
       "43                                                   "
      ]
     },
     "execution_count": 7,
     "metadata": {},
     "output_type": "execute_result"
    }
   ],
   "source": [
    "bp.show_method_attributes(F,5)"
   ]
  },
  {
   "cell_type": "markdown",
   "metadata": {},
   "source": [
    "# Wikibooks SQL Exercise: The Computer Store\n",
    "\n",
    "![](https://upload.wikimedia.org/wikipedia/commons/b/b2/Computer-store-db.png)\n",
    "\n",
    "> Please note the datatypes given are `SQLite` datatypes.\n",
    ">\n",
    "> `PK` and `FK` stand for **primary key** and **foreign key** respectively.\n",
    "\n",
    "Note: These are postgres table not Sqlite as said in wikibooks."
   ]
  },
  {
   "cell_type": "markdown",
   "metadata": {},
   "source": [
    "## manufacturer data"
   ]
  },
  {
   "cell_type": "code",
   "execution_count": 8,
   "metadata": {
    "ExecuteTime": {
     "end_time": "2020-03-11T03:05:24.576767Z",
     "start_time": "2020-03-11T03:05:24.563916Z"
    }
   },
   "outputs": [
    {
     "data": {
      "text/html": [
       "<div>\n",
       "<style scoped>\n",
       "    .dataframe tbody tr th:only-of-type {\n",
       "        vertical-align: middle;\n",
       "    }\n",
       "\n",
       "    .dataframe tbody tr th {\n",
       "        vertical-align: top;\n",
       "    }\n",
       "\n",
       "    .dataframe thead th {\n",
       "        text-align: right;\n",
       "    }\n",
       "</style>\n",
       "<table border=\"1\" class=\"dataframe\">\n",
       "  <thead>\n",
       "    <tr style=\"text-align: right;\">\n",
       "      <th></th>\n",
       "      <th>code</th>\n",
       "      <th>name</th>\n",
       "    </tr>\n",
       "  </thead>\n",
       "  <tbody>\n",
       "    <tr>\n",
       "      <th>0</th>\n",
       "      <td>1</td>\n",
       "      <td>Sony</td>\n",
       "    </tr>\n",
       "    <tr>\n",
       "      <th>1</th>\n",
       "      <td>2</td>\n",
       "      <td>Creative Labs</td>\n",
       "    </tr>\n",
       "    <tr>\n",
       "      <th>2</th>\n",
       "      <td>3</td>\n",
       "      <td>Hewlett-Packard</td>\n",
       "    </tr>\n",
       "    <tr>\n",
       "      <th>3</th>\n",
       "      <td>4</td>\n",
       "      <td>Iomega</td>\n",
       "    </tr>\n",
       "    <tr>\n",
       "      <th>4</th>\n",
       "      <td>5</td>\n",
       "      <td>Fujitsu</td>\n",
       "    </tr>\n",
       "    <tr>\n",
       "      <th>5</th>\n",
       "      <td>6</td>\n",
       "      <td>Winchester</td>\n",
       "    </tr>\n",
       "  </tbody>\n",
       "</table>\n",
       "</div>"
      ],
      "text/plain": [
       "   code             name\n",
       "0     1             Sony\n",
       "1     2    Creative Labs\n",
       "2     3  Hewlett-Packard\n",
       "3     4           Iomega\n",
       "4     5          Fujitsu\n",
       "5     6       Winchester"
      ]
     },
     "execution_count": 8,
     "metadata": {},
     "output_type": "execute_result"
    }
   ],
   "source": [
    "dfm = pd.DataFrame({'code': [1, 2, 3, 4, 5, 6],\n",
    "          'name': ['Sony', 'Creative Labs', 'Hewlett-Packard', 'Iomega', 'Fujitsu', 'Winchester']})\n",
    "dfm"
   ]
  },
  {
   "cell_type": "code",
   "execution_count": 9,
   "metadata": {
    "ExecuteTime": {
     "end_time": "2020-03-11T03:05:24.589296Z",
     "start_time": "2020-03-11T03:05:24.580670Z"
    }
   },
   "outputs": [
    {
     "data": {
      "text/plain": [
       "code     int64\n",
       "name    object\n",
       "dtype: object"
      ]
     },
     "execution_count": 9,
     "metadata": {},
     "output_type": "execute_result"
    }
   ],
   "source": [
    "dfm.dtypes"
   ]
  },
  {
   "cell_type": "code",
   "execution_count": 10,
   "metadata": {
    "ExecuteTime": {
     "end_time": "2020-03-11T03:05:30.837460Z",
     "start_time": "2020-03-11T03:05:24.605411Z"
    }
   },
   "outputs": [
    {
     "name": "stdout",
     "output_type": "stream",
     "text": [
      "+----+---------------+\n",
      "|code|           name|\n",
      "+----+---------------+\n",
      "|   1|           Sony|\n",
      "|   2|  Creative Labs|\n",
      "|   3|Hewlett-Packard|\n",
      "|   4|         Iomega|\n",
      "|   5|        Fujitsu|\n",
      "|   6|     Winchester|\n",
      "+----+---------------+\n",
      "\n"
     ]
    }
   ],
   "source": [
    "schema = StructType([\n",
    "    StructField('code',IntegerType(),True),\n",
    "    StructField('name',StringType(),True)\n",
    "    ])\n",
    "\n",
    "sdfm = sqlContext.createDataFrame(dfm, schema)\n",
    "sdfm.show()"
   ]
  },
  {
   "cell_type": "markdown",
   "metadata": {},
   "source": [
    "## products data"
   ]
  },
  {
   "cell_type": "code",
   "execution_count": 11,
   "metadata": {
    "ExecuteTime": {
     "end_time": "2020-03-11T03:05:30.853824Z",
     "start_time": "2020-03-11T03:05:30.841597Z"
    }
   },
   "outputs": [
    {
     "data": {
      "text/html": [
       "<div>\n",
       "<style scoped>\n",
       "    .dataframe tbody tr th:only-of-type {\n",
       "        vertical-align: middle;\n",
       "    }\n",
       "\n",
       "    .dataframe tbody tr th {\n",
       "        vertical-align: top;\n",
       "    }\n",
       "\n",
       "    .dataframe thead th {\n",
       "        text-align: right;\n",
       "    }\n",
       "</style>\n",
       "<table border=\"1\" class=\"dataframe\">\n",
       "  <thead>\n",
       "    <tr style=\"text-align: right;\">\n",
       "      <th></th>\n",
       "      <th>code</th>\n",
       "      <th>name</th>\n",
       "      <th>price</th>\n",
       "      <th>manufacturer</th>\n",
       "    </tr>\n",
       "  </thead>\n",
       "  <tbody>\n",
       "    <tr>\n",
       "      <th>0</th>\n",
       "      <td>1</td>\n",
       "      <td>Hard drive</td>\n",
       "      <td>240</td>\n",
       "      <td>5</td>\n",
       "    </tr>\n",
       "    <tr>\n",
       "      <th>1</th>\n",
       "      <td>2</td>\n",
       "      <td>Memory</td>\n",
       "      <td>120</td>\n",
       "      <td>6</td>\n",
       "    </tr>\n",
       "    <tr>\n",
       "      <th>2</th>\n",
       "      <td>3</td>\n",
       "      <td>ZIP drive</td>\n",
       "      <td>150</td>\n",
       "      <td>4</td>\n",
       "    </tr>\n",
       "    <tr>\n",
       "      <th>3</th>\n",
       "      <td>4</td>\n",
       "      <td>Floppy disk</td>\n",
       "      <td>5</td>\n",
       "      <td>6</td>\n",
       "    </tr>\n",
       "    <tr>\n",
       "      <th>4</th>\n",
       "      <td>5</td>\n",
       "      <td>Monitor</td>\n",
       "      <td>240</td>\n",
       "      <td>1</td>\n",
       "    </tr>\n",
       "    <tr>\n",
       "      <th>5</th>\n",
       "      <td>6</td>\n",
       "      <td>DVD drive</td>\n",
       "      <td>180</td>\n",
       "      <td>2</td>\n",
       "    </tr>\n",
       "    <tr>\n",
       "      <th>6</th>\n",
       "      <td>7</td>\n",
       "      <td>CD drive</td>\n",
       "      <td>90</td>\n",
       "      <td>2</td>\n",
       "    </tr>\n",
       "    <tr>\n",
       "      <th>7</th>\n",
       "      <td>8</td>\n",
       "      <td>Printer</td>\n",
       "      <td>270</td>\n",
       "      <td>3</td>\n",
       "    </tr>\n",
       "    <tr>\n",
       "      <th>8</th>\n",
       "      <td>9</td>\n",
       "      <td>Toner cartridge</td>\n",
       "      <td>66</td>\n",
       "      <td>3</td>\n",
       "    </tr>\n",
       "    <tr>\n",
       "      <th>9</th>\n",
       "      <td>10</td>\n",
       "      <td>DVD burner</td>\n",
       "      <td>180</td>\n",
       "      <td>2</td>\n",
       "    </tr>\n",
       "  </tbody>\n",
       "</table>\n",
       "</div>"
      ],
      "text/plain": [
       "   code             name  price  manufacturer\n",
       "0     1       Hard drive    240             5\n",
       "1     2           Memory    120             6\n",
       "2     3        ZIP drive    150             4\n",
       "3     4      Floppy disk      5             6\n",
       "4     5          Monitor    240             1\n",
       "5     6        DVD drive    180             2\n",
       "6     7         CD drive     90             2\n",
       "7     8          Printer    270             3\n",
       "8     9  Toner cartridge     66             3\n",
       "9    10       DVD burner    180             2"
      ]
     },
     "execution_count": 11,
     "metadata": {},
     "output_type": "execute_result"
    }
   ],
   "source": [
    "dfp = pd.DataFrame({'code': [1, 2, 3, 4, 5, 6, 7, 8, 9, 10],\n",
    "          'name': ['Hard drive', 'Memory', 'ZIP drive', 'Floppy disk', 'Monitor', 'DVD drive', 'CD drive', 'Printer', 'Toner cartridge', 'DVD burner'],\n",
    "          'price': [240, 120, 150, 5, 240, 180, 90, 270, 66, 180],\n",
    "          'manufacturer': [5, 6, 4, 6, 1, 2, 2, 3, 3, 2]})\n",
    "dfp"
   ]
  },
  {
   "cell_type": "code",
   "execution_count": 12,
   "metadata": {
    "ExecuteTime": {
     "end_time": "2020-03-11T03:05:30.861752Z",
     "start_time": "2020-03-11T03:05:30.856603Z"
    }
   },
   "outputs": [
    {
     "data": {
      "text/plain": [
       "code             int64\n",
       "name            object\n",
       "price            int64\n",
       "manufacturer     int64\n",
       "dtype: object"
      ]
     },
     "execution_count": 12,
     "metadata": {},
     "output_type": "execute_result"
    }
   ],
   "source": [
    "dfp.dtypes"
   ]
  },
  {
   "cell_type": "code",
   "execution_count": 13,
   "metadata": {
    "ExecuteTime": {
     "end_time": "2020-03-11T03:05:32.226097Z",
     "start_time": "2020-03-11T03:05:30.863734Z"
    }
   },
   "outputs": [
    {
     "name": "stdout",
     "output_type": "stream",
     "text": [
      "+----+---------------+-----+------------+\n",
      "|code|           name|price|manufacturer|\n",
      "+----+---------------+-----+------------+\n",
      "|   1|     Hard drive|  240|           5|\n",
      "|   2|         Memory|  120|           6|\n",
      "|   3|      ZIP drive|  150|           4|\n",
      "|   4|    Floppy disk|    5|           6|\n",
      "|   5|        Monitor|  240|           1|\n",
      "|   6|      DVD drive|  180|           2|\n",
      "|   7|       CD drive|   90|           2|\n",
      "|   8|        Printer|  270|           3|\n",
      "|   9|Toner cartridge|   66|           3|\n",
      "|  10|     DVD burner|  180|           2|\n",
      "+----+---------------+-----+------------+\n",
      "\n"
     ]
    }
   ],
   "source": [
    "schema = StructType([\n",
    "    StructField('code',IntegerType(),True),\n",
    "    StructField('name',StringType(),True),\n",
    "    StructField('price',IntegerType(),True),\n",
    "    StructField('manufacturer',IntegerType(),True),\n",
    "    \n",
    "    ])\n",
    "\n",
    "sdfp = sqlContext.createDataFrame(dfp, schema)\n",
    "sdfp.show()"
   ]
  },
  {
   "cell_type": "markdown",
   "metadata": {},
   "source": [
    "## combine data"
   ]
  },
  {
   "cell_type": "code",
   "execution_count": 14,
   "metadata": {
    "ExecuteTime": {
     "end_time": "2020-03-11T03:05:32.247146Z",
     "start_time": "2020-03-11T03:05:32.228482Z"
    }
   },
   "outputs": [
    {
     "data": {
      "text/html": [
       "<div>\n",
       "<style scoped>\n",
       "    .dataframe tbody tr th:only-of-type {\n",
       "        vertical-align: middle;\n",
       "    }\n",
       "\n",
       "    .dataframe tbody tr th {\n",
       "        vertical-align: top;\n",
       "    }\n",
       "\n",
       "    .dataframe thead th {\n",
       "        text-align: right;\n",
       "    }\n",
       "</style>\n",
       "<table border=\"1\" class=\"dataframe\">\n",
       "  <thead>\n",
       "    <tr style=\"text-align: right;\">\n",
       "      <th></th>\n",
       "      <th>code_x</th>\n",
       "      <th>name_x</th>\n",
       "      <th>price</th>\n",
       "      <th>manufacturer</th>\n",
       "      <th>code_y</th>\n",
       "      <th>name_y</th>\n",
       "    </tr>\n",
       "  </thead>\n",
       "  <tbody>\n",
       "    <tr>\n",
       "      <th>0</th>\n",
       "      <td>1</td>\n",
       "      <td>Hard drive</td>\n",
       "      <td>240</td>\n",
       "      <td>5</td>\n",
       "      <td>5</td>\n",
       "      <td>Fujitsu</td>\n",
       "    </tr>\n",
       "    <tr>\n",
       "      <th>1</th>\n",
       "      <td>2</td>\n",
       "      <td>Memory</td>\n",
       "      <td>120</td>\n",
       "      <td>6</td>\n",
       "      <td>6</td>\n",
       "      <td>Winchester</td>\n",
       "    </tr>\n",
       "    <tr>\n",
       "      <th>2</th>\n",
       "      <td>4</td>\n",
       "      <td>Floppy disk</td>\n",
       "      <td>5</td>\n",
       "      <td>6</td>\n",
       "      <td>6</td>\n",
       "      <td>Winchester</td>\n",
       "    </tr>\n",
       "    <tr>\n",
       "      <th>3</th>\n",
       "      <td>3</td>\n",
       "      <td>ZIP drive</td>\n",
       "      <td>150</td>\n",
       "      <td>4</td>\n",
       "      <td>4</td>\n",
       "      <td>Iomega</td>\n",
       "    </tr>\n",
       "    <tr>\n",
       "      <th>4</th>\n",
       "      <td>5</td>\n",
       "      <td>Monitor</td>\n",
       "      <td>240</td>\n",
       "      <td>1</td>\n",
       "      <td>1</td>\n",
       "      <td>Sony</td>\n",
       "    </tr>\n",
       "    <tr>\n",
       "      <th>5</th>\n",
       "      <td>6</td>\n",
       "      <td>DVD drive</td>\n",
       "      <td>180</td>\n",
       "      <td>2</td>\n",
       "      <td>2</td>\n",
       "      <td>Creative Labs</td>\n",
       "    </tr>\n",
       "    <tr>\n",
       "      <th>6</th>\n",
       "      <td>7</td>\n",
       "      <td>CD drive</td>\n",
       "      <td>90</td>\n",
       "      <td>2</td>\n",
       "      <td>2</td>\n",
       "      <td>Creative Labs</td>\n",
       "    </tr>\n",
       "    <tr>\n",
       "      <th>7</th>\n",
       "      <td>10</td>\n",
       "      <td>DVD burner</td>\n",
       "      <td>180</td>\n",
       "      <td>2</td>\n",
       "      <td>2</td>\n",
       "      <td>Creative Labs</td>\n",
       "    </tr>\n",
       "    <tr>\n",
       "      <th>8</th>\n",
       "      <td>8</td>\n",
       "      <td>Printer</td>\n",
       "      <td>270</td>\n",
       "      <td>3</td>\n",
       "      <td>3</td>\n",
       "      <td>Hewlett-Packard</td>\n",
       "    </tr>\n",
       "    <tr>\n",
       "      <th>9</th>\n",
       "      <td>9</td>\n",
       "      <td>Toner cartridge</td>\n",
       "      <td>66</td>\n",
       "      <td>3</td>\n",
       "      <td>3</td>\n",
       "      <td>Hewlett-Packard</td>\n",
       "    </tr>\n",
       "  </tbody>\n",
       "</table>\n",
       "</div>"
      ],
      "text/plain": [
       "   code_x           name_x  price  manufacturer  code_y           name_y\n",
       "0       1       Hard drive    240             5       5          Fujitsu\n",
       "1       2           Memory    120             6       6       Winchester\n",
       "2       4      Floppy disk      5             6       6       Winchester\n",
       "3       3        ZIP drive    150             4       4           Iomega\n",
       "4       5          Monitor    240             1       1             Sony\n",
       "5       6        DVD drive    180             2       2    Creative Labs\n",
       "6       7         CD drive     90             2       2    Creative Labs\n",
       "7      10       DVD burner    180             2       2    Creative Labs\n",
       "8       8          Printer    270             3       3  Hewlett-Packard\n",
       "9       9  Toner cartridge     66             3       3  Hewlett-Packard"
      ]
     },
     "execution_count": 14,
     "metadata": {},
     "output_type": "execute_result"
    }
   ],
   "source": [
    "df = dfp.merge(dfm,left_on='manufacturer', right_on='code')\n",
    "df"
   ]
  },
  {
   "cell_type": "code",
   "execution_count": 15,
   "metadata": {
    "ExecuteTime": {
     "end_time": "2020-03-11T03:05:32.263584Z",
     "start_time": "2020-03-11T03:05:32.250551Z"
    }
   },
   "outputs": [
    {
     "data": {
      "text/html": [
       "<div>\n",
       "<style scoped>\n",
       "    .dataframe tbody tr th:only-of-type {\n",
       "        vertical-align: middle;\n",
       "    }\n",
       "\n",
       "    .dataframe tbody tr th {\n",
       "        vertical-align: top;\n",
       "    }\n",
       "\n",
       "    .dataframe thead th {\n",
       "        text-align: right;\n",
       "    }\n",
       "</style>\n",
       "<table border=\"1\" class=\"dataframe\">\n",
       "  <thead>\n",
       "    <tr style=\"text-align: right;\">\n",
       "      <th></th>\n",
       "      <th>code_product</th>\n",
       "      <th>name_product</th>\n",
       "      <th>price</th>\n",
       "      <th>manufacturer</th>\n",
       "      <th>code_manufacturer</th>\n",
       "      <th>name_manufacturer</th>\n",
       "    </tr>\n",
       "  </thead>\n",
       "  <tbody>\n",
       "    <tr>\n",
       "      <th>0</th>\n",
       "      <td>1</td>\n",
       "      <td>Hard drive</td>\n",
       "      <td>240</td>\n",
       "      <td>5</td>\n",
       "      <td>5</td>\n",
       "      <td>Fujitsu</td>\n",
       "    </tr>\n",
       "    <tr>\n",
       "      <th>1</th>\n",
       "      <td>2</td>\n",
       "      <td>Memory</td>\n",
       "      <td>120</td>\n",
       "      <td>6</td>\n",
       "      <td>6</td>\n",
       "      <td>Winchester</td>\n",
       "    </tr>\n",
       "    <tr>\n",
       "      <th>2</th>\n",
       "      <td>4</td>\n",
       "      <td>Floppy disk</td>\n",
       "      <td>5</td>\n",
       "      <td>6</td>\n",
       "      <td>6</td>\n",
       "      <td>Winchester</td>\n",
       "    </tr>\n",
       "    <tr>\n",
       "      <th>3</th>\n",
       "      <td>3</td>\n",
       "      <td>ZIP drive</td>\n",
       "      <td>150</td>\n",
       "      <td>4</td>\n",
       "      <td>4</td>\n",
       "      <td>Iomega</td>\n",
       "    </tr>\n",
       "    <tr>\n",
       "      <th>4</th>\n",
       "      <td>5</td>\n",
       "      <td>Monitor</td>\n",
       "      <td>240</td>\n",
       "      <td>1</td>\n",
       "      <td>1</td>\n",
       "      <td>Sony</td>\n",
       "    </tr>\n",
       "    <tr>\n",
       "      <th>5</th>\n",
       "      <td>6</td>\n",
       "      <td>DVD drive</td>\n",
       "      <td>180</td>\n",
       "      <td>2</td>\n",
       "      <td>2</td>\n",
       "      <td>Creative Labs</td>\n",
       "    </tr>\n",
       "    <tr>\n",
       "      <th>6</th>\n",
       "      <td>7</td>\n",
       "      <td>CD drive</td>\n",
       "      <td>90</td>\n",
       "      <td>2</td>\n",
       "      <td>2</td>\n",
       "      <td>Creative Labs</td>\n",
       "    </tr>\n",
       "    <tr>\n",
       "      <th>7</th>\n",
       "      <td>10</td>\n",
       "      <td>DVD burner</td>\n",
       "      <td>180</td>\n",
       "      <td>2</td>\n",
       "      <td>2</td>\n",
       "      <td>Creative Labs</td>\n",
       "    </tr>\n",
       "    <tr>\n",
       "      <th>8</th>\n",
       "      <td>8</td>\n",
       "      <td>Printer</td>\n",
       "      <td>270</td>\n",
       "      <td>3</td>\n",
       "      <td>3</td>\n",
       "      <td>Hewlett-Packard</td>\n",
       "    </tr>\n",
       "    <tr>\n",
       "      <th>9</th>\n",
       "      <td>9</td>\n",
       "      <td>Toner cartridge</td>\n",
       "      <td>66</td>\n",
       "      <td>3</td>\n",
       "      <td>3</td>\n",
       "      <td>Hewlett-Packard</td>\n",
       "    </tr>\n",
       "  </tbody>\n",
       "</table>\n",
       "</div>"
      ],
      "text/plain": [
       "   code_product     name_product  price  manufacturer  code_manufacturer  \\\n",
       "0             1       Hard drive    240             5                  5   \n",
       "1             2           Memory    120             6                  6   \n",
       "2             4      Floppy disk      5             6                  6   \n",
       "3             3        ZIP drive    150             4                  4   \n",
       "4             5          Monitor    240             1                  1   \n",
       "5             6        DVD drive    180             2                  2   \n",
       "6             7         CD drive     90             2                  2   \n",
       "7            10       DVD burner    180             2                  2   \n",
       "8             8          Printer    270             3                  3   \n",
       "9             9  Toner cartridge     66             3                  3   \n",
       "\n",
       "  name_manufacturer  \n",
       "0           Fujitsu  \n",
       "1        Winchester  \n",
       "2        Winchester  \n",
       "3            Iomega  \n",
       "4              Sony  \n",
       "5     Creative Labs  \n",
       "6     Creative Labs  \n",
       "7     Creative Labs  \n",
       "8   Hewlett-Packard  \n",
       "9   Hewlett-Packard  "
      ]
     },
     "execution_count": 15,
     "metadata": {},
     "output_type": "execute_result"
    }
   ],
   "source": [
    "df1 = df.rename(columns={'code_x':'code_product',\n",
    "                        'code_y': 'code_manufacturer',\n",
    "                        'name_x': 'name_product',\n",
    "                        'name_y': 'name_manufacturer'})\n",
    "\n",
    "df1\n"
   ]
  },
  {
   "cell_type": "code",
   "execution_count": 16,
   "metadata": {
    "ExecuteTime": {
     "end_time": "2020-03-11T03:05:32.268026Z",
     "start_time": "2020-03-11T03:05:32.265904Z"
    }
   },
   "outputs": [],
   "source": [
    "# bp.show_method_attributes(sdfm,4)"
   ]
  },
  {
   "cell_type": "code",
   "execution_count": 17,
   "metadata": {
    "ExecuteTime": {
     "end_time": "2020-03-11T03:05:32.272810Z",
     "start_time": "2020-03-11T03:05:32.270531Z"
    }
   },
   "outputs": [],
   "source": [
    "# help(sdfm.join)"
   ]
  },
  {
   "cell_type": "code",
   "execution_count": 18,
   "metadata": {
    "ExecuteTime": {
     "end_time": "2020-03-11T03:05:32.883272Z",
     "start_time": "2020-03-11T03:05:32.275196Z"
    }
   },
   "outputs": [
    {
     "name": "stdout",
     "output_type": "stream",
     "text": [
      "+----+----------+-----+------------+\n",
      "|code|      name|price|manufacturer|\n",
      "+----+----------+-----+------------+\n",
      "|   1|Hard drive|  240|           5|\n",
      "|   2|    Memory|  120|           6|\n",
      "+----+----------+-----+------------+\n",
      "only showing top 2 rows\n",
      "\n"
     ]
    }
   ],
   "source": [
    "sdfp.show(2)"
   ]
  },
  {
   "cell_type": "code",
   "execution_count": 19,
   "metadata": {
    "ExecuteTime": {
     "end_time": "2020-03-11T03:05:34.527749Z",
     "start_time": "2020-03-11T03:05:32.885336Z"
    }
   },
   "outputs": [
    {
     "name": "stdout",
     "output_type": "stream",
     "text": [
      "+----+-------------+\n",
      "|code|         name|\n",
      "+----+-------------+\n",
      "|   1|         Sony|\n",
      "|   2|Creative Labs|\n",
      "+----+-------------+\n",
      "only showing top 2 rows\n",
      "\n"
     ]
    }
   ],
   "source": [
    "sdfm.show(2)"
   ]
  },
  {
   "cell_type": "code",
   "execution_count": 20,
   "metadata": {
    "ExecuteTime": {
     "end_time": "2020-03-11T03:05:41.896625Z",
     "start_time": "2020-03-11T03:05:34.529718Z"
    }
   },
   "outputs": [
    {
     "name": "stdout",
     "output_type": "stream",
     "text": [
      "+----+---------------+-----+------------+----+---------------+\n",
      "|code|           name|price|manufacturer|code|           name|\n",
      "+----+---------------+-----+------------+----+---------------+\n",
      "|   5|        Monitor|  240|           1|   1|           Sony|\n",
      "|   2|         Memory|  120|           6|   6|     Winchester|\n",
      "|   4|    Floppy disk|    5|           6|   6|     Winchester|\n",
      "|   8|        Printer|  270|           3|   3|Hewlett-Packard|\n",
      "|   9|Toner cartridge|   66|           3|   3|Hewlett-Packard|\n",
      "|   1|     Hard drive|  240|           5|   5|        Fujitsu|\n",
      "|   3|      ZIP drive|  150|           4|   4|         Iomega|\n",
      "|   6|      DVD drive|  180|           2|   2|  Creative Labs|\n",
      "|   7|       CD drive|   90|           2|   2|  Creative Labs|\n",
      "|  10|     DVD burner|  180|           2|   2|  Creative Labs|\n",
      "+----+---------------+-----+------------+----+---------------+\n",
      "\n"
     ]
    }
   ],
   "source": [
    "sdf1 = sdfp.join(sdfm,sdfp.manufacturer==sdfm.code)\n",
    "sdf1.show()"
   ]
  },
  {
   "cell_type": "code",
   "execution_count": 21,
   "metadata": {
    "ExecuteTime": {
     "end_time": "2020-03-11T03:05:44.973949Z",
     "start_time": "2020-03-11T03:05:41.908179Z"
    }
   },
   "outputs": [
    {
     "name": "stdout",
     "output_type": "stream",
     "text": [
      "+-----+\n",
      "|price|\n",
      "+-----+\n",
      "|  240|\n",
      "+-----+\n",
      "only showing top 1 row\n",
      "\n"
     ]
    }
   ],
   "source": [
    "sdf1.select('price').show(1) # this works\n",
    "# sdf1.select('code').show(2) # this fails, "
   ]
  },
  {
   "cell_type": "code",
   "execution_count": 22,
   "metadata": {
    "ExecuteTime": {
     "end_time": "2020-03-11T03:05:44.982439Z",
     "start_time": "2020-03-11T03:05:44.977581Z"
    }
   },
   "outputs": [
    {
     "data": {
      "text/plain": [
       "['code', 'name', 'price', 'manufacturer']"
      ]
     },
     "execution_count": 22,
     "metadata": {},
     "output_type": "execute_result"
    }
   ],
   "source": [
    "sdfp.columns"
   ]
  },
  {
   "cell_type": "code",
   "execution_count": 23,
   "metadata": {
    "ExecuteTime": {
     "end_time": "2020-03-11T03:05:44.989260Z",
     "start_time": "2020-03-11T03:05:44.984717Z"
    }
   },
   "outputs": [
    {
     "data": {
      "text/plain": [
       "['code', 'name']"
      ]
     },
     "execution_count": 23,
     "metadata": {},
     "output_type": "execute_result"
    }
   ],
   "source": [
    "sdfm.columns"
   ]
  },
  {
   "cell_type": "code",
   "execution_count": 24,
   "metadata": {
    "ExecuteTime": {
     "end_time": "2020-03-11T03:05:44.996237Z",
     "start_time": "2020-03-11T03:05:44.992756Z"
    }
   },
   "outputs": [],
   "source": [
    "# we have repeated column names, spark keeps duplicate column names unlike pandas."
   ]
  },
  {
   "cell_type": "code",
   "execution_count": 25,
   "metadata": {
    "ExecuteTime": {
     "end_time": "2020-03-11T03:05:46.330190Z",
     "start_time": "2020-03-11T03:05:44.998346Z"
    }
   },
   "outputs": [
    {
     "name": "stdout",
     "output_type": "stream",
     "text": [
      "+------------+----------+-----+------------+\n",
      "|code_product|      name|price|manufacturer|\n",
      "+------------+----------+-----+------------+\n",
      "|           1|Hard drive|  240|           5|\n",
      "|           2|    Memory|  120|           6|\n",
      "+------------+----------+-----+------------+\n",
      "only showing top 2 rows\n",
      "\n"
     ]
    }
   ],
   "source": [
    "sdfp.withColumnRenamed('code','code_product').show(2)"
   ]
  },
  {
   "cell_type": "code",
   "execution_count": 26,
   "metadata": {
    "ExecuteTime": {
     "end_time": "2020-03-11T03:05:47.282448Z",
     "start_time": "2020-03-11T03:05:46.332522Z"
    }
   },
   "outputs": [
    {
     "name": "stdout",
     "output_type": "stream",
     "text": [
      "+------------+\n",
      "|code_product|\n",
      "+------------+\n",
      "|           1|\n",
      "|           2|\n",
      "+------------+\n",
      "only showing top 2 rows\n",
      "\n"
     ]
    }
   ],
   "source": [
    "sdfp.selectExpr('code as code_product').show(2)"
   ]
  },
  {
   "cell_type": "code",
   "execution_count": 27,
   "metadata": {
    "ExecuteTime": {
     "end_time": "2020-03-11T03:05:47.289721Z",
     "start_time": "2020-03-11T03:05:47.286234Z"
    }
   },
   "outputs": [],
   "source": [
    "# oldColumns = sdfp.schema.names"
   ]
  },
  {
   "cell_type": "code",
   "execution_count": 28,
   "metadata": {
    "ExecuteTime": {
     "end_time": "2020-03-11T03:05:47.316458Z",
     "start_time": "2020-03-11T03:05:47.293759Z"
    }
   },
   "outputs": [
    {
     "name": "stdout",
     "output_type": "stream",
     "text": [
      "root\n",
      " |-- code_product: integer (nullable = true)\n",
      " |-- name_product: string (nullable = true)\n",
      " |-- price: integer (nullable = true)\n",
      " |-- manufacturer: integer (nullable = true)\n",
      "\n"
     ]
    }
   ],
   "source": [
    "oldColumns = ['code','name']\n",
    "newColumns = [i + '_product' for i in oldColumns]\n",
    "\n",
    "sdfp2 = functools.reduce(lambda data, idx: data.withColumnRenamed(oldColumns[idx],\n",
    "                                                                 newColumns[idx]),\n",
    "                        range(len(oldColumns)),\n",
    "                        sdfp\n",
    "                       )\n",
    "sdfp2.printSchema()"
   ]
  },
  {
   "cell_type": "code",
   "execution_count": 29,
   "metadata": {
    "ExecuteTime": {
     "end_time": "2020-03-11T03:05:48.593540Z",
     "start_time": "2020-03-11T03:05:47.319781Z"
    }
   },
   "outputs": [
    {
     "name": "stdout",
     "output_type": "stream",
     "text": [
      "+------------+------------+-----+------------+\n",
      "|code_product|name_product|price|manufacturer|\n",
      "+------------+------------+-----+------------+\n",
      "|           1|  Hard drive|  240|           5|\n",
      "|           2|      Memory|  120|           6|\n",
      "+------------+------------+-----+------------+\n",
      "only showing top 2 rows\n",
      "\n"
     ]
    }
   ],
   "source": [
    "sdfp2.show(2)"
   ]
  },
  {
   "cell_type": "code",
   "execution_count": 30,
   "metadata": {
    "ExecuteTime": {
     "end_time": "2020-03-11T03:05:49.525453Z",
     "start_time": "2020-03-11T03:05:48.595889Z"
    }
   },
   "outputs": [
    {
     "name": "stdout",
     "output_type": "stream",
     "text": [
      "+----+-------------+\n",
      "|code|         name|\n",
      "+----+-------------+\n",
      "|   1|         Sony|\n",
      "|   2|Creative Labs|\n",
      "+----+-------------+\n",
      "only showing top 2 rows\n",
      "\n"
     ]
    }
   ],
   "source": [
    "sdfm.show(2)"
   ]
  },
  {
   "cell_type": "code",
   "execution_count": 31,
   "metadata": {
    "ExecuteTime": {
     "end_time": "2020-03-11T03:05:50.372975Z",
     "start_time": "2020-03-11T03:05:49.528089Z"
    }
   },
   "outputs": [
    {
     "name": "stdout",
     "output_type": "stream",
     "text": [
      "+-----------------+-----------------+\n",
      "|code_manufacturer|name_manufacturer|\n",
      "+-----------------+-----------------+\n",
      "|                1|             Sony|\n",
      "|                2|    Creative Labs|\n",
      "+-----------------+-----------------+\n",
      "only showing top 2 rows\n",
      "\n"
     ]
    }
   ],
   "source": [
    "oldColumns = ['code','name']\n",
    "newColumns = [i + '_manufacturer' for i in oldColumns]\n",
    "\n",
    "sdfm2 = functools.reduce(lambda data, idx: data.withColumnRenamed(oldColumns[idx],\n",
    "                                                                 newColumns[idx]),\n",
    "                        range(len(oldColumns)),\n",
    "                        sdfm\n",
    "                       )\n",
    "\n",
    "\n",
    "sdfm2.show(2)"
   ]
  },
  {
   "cell_type": "code",
   "execution_count": 32,
   "metadata": {
    "ExecuteTime": {
     "end_time": "2020-03-11T03:05:53.517776Z",
     "start_time": "2020-03-11T03:05:50.375934Z"
    }
   },
   "outputs": [
    {
     "name": "stdout",
     "output_type": "stream",
     "text": [
      "+------------+---------------+-----+------------+-----------------+-----------------+\n",
      "|code_product|   name_product|price|manufacturer|code_manufacturer|name_manufacturer|\n",
      "+------------+---------------+-----+------------+-----------------+-----------------+\n",
      "|           5|        Monitor|  240|           1|                1|             Sony|\n",
      "|           2|         Memory|  120|           6|                6|       Winchester|\n",
      "|           4|    Floppy disk|    5|           6|                6|       Winchester|\n",
      "|           8|        Printer|  270|           3|                3|  Hewlett-Packard|\n",
      "|           9|Toner cartridge|   66|           3|                3|  Hewlett-Packard|\n",
      "|           1|     Hard drive|  240|           5|                5|          Fujitsu|\n",
      "|           3|      ZIP drive|  150|           4|                4|           Iomega|\n",
      "|           6|      DVD drive|  180|           2|                2|    Creative Labs|\n",
      "|           7|       CD drive|   90|           2|                2|    Creative Labs|\n",
      "|          10|     DVD burner|  180|           2|                2|    Creative Labs|\n",
      "+------------+---------------+-----+------------+-----------------+-----------------+\n",
      "\n"
     ]
    }
   ],
   "source": [
    "sdf = sdfp2.join(sdfm2,sdfp2.manufacturer==sdfm2.code_manufacturer)\n",
    "sdf.show()"
   ]
  },
  {
   "cell_type": "code",
   "execution_count": 33,
   "metadata": {
    "ExecuteTime": {
     "end_time": "2020-03-11T03:05:53.641369Z",
     "start_time": "2020-03-11T03:05:53.526980Z"
    }
   },
   "outputs": [
    {
     "name": "stdout",
     "output_type": "stream",
     "text": [
      "+------------+---------------+-------------+--------------------+\n",
      "|product_code|   product_name|product_price|product_manufacturer|\n",
      "+------------+---------------+-------------+--------------------+\n",
      "|           1|     Hard drive|          240|                   5|\n",
      "|           2|         Memory|          120|                   6|\n",
      "|           3|      ZIP drive|          150|                   4|\n",
      "|           4|    Floppy disk|            5|                   6|\n",
      "|           5|        Monitor|          240|                   1|\n",
      "|           6|      DVD drive|          180|                   2|\n",
      "|           7|       CD drive|           90|                   2|\n",
      "|           8|        Printer|          270|                   3|\n",
      "|           9|Toner cartridge|           66|                   3|\n",
      "|          10|     DVD burner|          180|                   2|\n",
      "+------------+---------------+-------------+--------------------+\n",
      "\n"
     ]
    }
   ],
   "source": [
    "sdfp3 = sdfp.selectExpr([c + ' as product_' + c for c in sdfp.columns])\n",
    "sdfp3.show()"
   ]
  },
  {
   "cell_type": "code",
   "execution_count": 34,
   "metadata": {
    "ExecuteTime": {
     "end_time": "2020-03-11T03:05:53.875822Z",
     "start_time": "2020-03-11T03:05:53.658309Z"
    }
   },
   "outputs": [
    {
     "name": "stdout",
     "output_type": "stream",
     "text": [
      "+-----------------+-----------------+\n",
      "|manufacturer_code|manufacturer_name|\n",
      "+-----------------+-----------------+\n",
      "|                1|             Sony|\n",
      "|                2|    Creative Labs|\n",
      "|                3|  Hewlett-Packard|\n",
      "|                4|           Iomega|\n",
      "|                5|          Fujitsu|\n",
      "|                6|       Winchester|\n",
      "+-----------------+-----------------+\n",
      "\n"
     ]
    }
   ],
   "source": [
    "sdfm3 = sdfm.selectExpr([c + ' as manufacturer_' + c for c in sdfm.columns])\n",
    "sdfm3.show()"
   ]
  },
  {
   "cell_type": "code",
   "execution_count": 35,
   "metadata": {
    "ExecuteTime": {
     "end_time": "2020-03-11T03:05:54.966216Z",
     "start_time": "2020-03-11T03:05:53.909347Z"
    }
   },
   "outputs": [
    {
     "name": "stdout",
     "output_type": "stream",
     "text": [
      "+------------+---------------+-------------+--------------------+-----------------+-----------------+\n",
      "|product_code|   product_name|product_price|product_manufacturer|manufacturer_code|manufacturer_name|\n",
      "+------------+---------------+-------------+--------------------+-----------------+-----------------+\n",
      "|           5|        Monitor|          240|                   1|                1|             Sony|\n",
      "|           2|         Memory|          120|                   6|                6|       Winchester|\n",
      "|           4|    Floppy disk|            5|                   6|                6|       Winchester|\n",
      "|           8|        Printer|          270|                   3|                3|  Hewlett-Packard|\n",
      "|           9|Toner cartridge|           66|                   3|                3|  Hewlett-Packard|\n",
      "|           1|     Hard drive|          240|                   5|                5|          Fujitsu|\n",
      "|           3|      ZIP drive|          150|                   4|                4|           Iomega|\n",
      "|           6|      DVD drive|          180|                   2|                2|    Creative Labs|\n",
      "|           7|       CD drive|           90|                   2|                2|    Creative Labs|\n",
      "|          10|     DVD burner|          180|                   2|                2|    Creative Labs|\n",
      "+------------+---------------+-------------+--------------------+-----------------+-----------------+\n",
      "\n"
     ]
    }
   ],
   "source": [
    "sdf3 = sdfp3.join(sdfm3,sdfp3.product_manufacturer==sdfm3.manufacturer_code)\n",
    "sdf3.show()"
   ]
  },
  {
   "cell_type": "code",
   "execution_count": 36,
   "metadata": {
    "ExecuteTime": {
     "end_time": "2020-03-11T03:05:55.606979Z",
     "start_time": "2020-03-11T03:05:54.968334Z"
    }
   },
   "outputs": [
    {
     "name": "stdout",
     "output_type": "stream",
     "text": [
      "+------------+------------+-----+------------+-----------------+-----------------+\n",
      "|code_product|name_product|price|manufacturer|code_manufacturer|name_manufacturer|\n",
      "+------------+------------+-----+------------+-----------------+-----------------+\n",
      "|           5|     Monitor|  240|           1|                1|             Sony|\n",
      "|           2|      Memory|  120|           6|                6|       Winchester|\n",
      "+------------+------------+-----+------------+-----------------+-----------------+\n",
      "only showing top 2 rows\n",
      "\n"
     ]
    }
   ],
   "source": [
    "# our sdf has duplicate column names and gives problem,\n",
    "# so, I have replaced the variable sdf by sdf2\n",
    "\n",
    "sdf.show(2)"
   ]
  },
  {
   "cell_type": "code",
   "execution_count": 37,
   "metadata": {
    "ExecuteTime": {
     "end_time": "2020-03-11T03:05:55.630469Z",
     "start_time": "2020-03-11T03:05:55.609738Z"
    }
   },
   "outputs": [
    {
     "data": {
      "text/html": [
       "<div>\n",
       "<style scoped>\n",
       "    .dataframe tbody tr th:only-of-type {\n",
       "        vertical-align: middle;\n",
       "    }\n",
       "\n",
       "    .dataframe tbody tr th {\n",
       "        vertical-align: top;\n",
       "    }\n",
       "\n",
       "    .dataframe thead th {\n",
       "        text-align: right;\n",
       "    }\n",
       "</style>\n",
       "<table border=\"1\" class=\"dataframe\">\n",
       "  <thead>\n",
       "    <tr style=\"text-align: right;\">\n",
       "      <th></th>\n",
       "      <th>0</th>\n",
       "      <th>1</th>\n",
       "      <th>2</th>\n",
       "      <th>3</th>\n",
       "    </tr>\n",
       "  </thead>\n",
       "  <tbody>\n",
       "    <tr>\n",
       "      <th>0</th>\n",
       "      <td>agg</td>\n",
       "      <td>dropDuplicates</td>\n",
       "      <td>join</td>\n",
       "      <td>sortWithinPartitions</td>\n",
       "    </tr>\n",
       "    <tr>\n",
       "      <th>1</th>\n",
       "      <td>alias</td>\n",
       "      <td>drop_duplicates</td>\n",
       "      <td>limit</td>\n",
       "      <td>sql_ctx</td>\n",
       "    </tr>\n",
       "    <tr>\n",
       "      <th>2</th>\n",
       "      <td>approxQuantile</td>\n",
       "      <td>dropna</td>\n",
       "      <td>localCheckpoint</td>\n",
       "      <td>stat</td>\n",
       "    </tr>\n",
       "    <tr>\n",
       "      <th>3</th>\n",
       "      <td>cache</td>\n",
       "      <td>dtypes</td>\n",
       "      <td>na</td>\n",
       "      <td>storageLevel</td>\n",
       "    </tr>\n",
       "    <tr>\n",
       "      <th>4</th>\n",
       "      <td>checkpoint</td>\n",
       "      <td>exceptAll</td>\n",
       "      <td>orderBy</td>\n",
       "      <td>subtract</td>\n",
       "    </tr>\n",
       "    <tr>\n",
       "      <th>5</th>\n",
       "      <td>coalesce</td>\n",
       "      <td>explain</td>\n",
       "      <td>persist</td>\n",
       "      <td>summary</td>\n",
       "    </tr>\n",
       "    <tr>\n",
       "      <th>6</th>\n",
       "      <td>colRegex</td>\n",
       "      <td>fillna</td>\n",
       "      <td>printSchema</td>\n",
       "      <td>take</td>\n",
       "    </tr>\n",
       "    <tr>\n",
       "      <th>7</th>\n",
       "      <td>collect</td>\n",
       "      <td>filter</td>\n",
       "      <td>randomSplit</td>\n",
       "      <td>toDF</td>\n",
       "    </tr>\n",
       "    <tr>\n",
       "      <th>8</th>\n",
       "      <td>columns</td>\n",
       "      <td>first</td>\n",
       "      <td>rdd</td>\n",
       "      <td>toJSON</td>\n",
       "    </tr>\n",
       "    <tr>\n",
       "      <th>9</th>\n",
       "      <td>corr</td>\n",
       "      <td>foreach</td>\n",
       "      <td>registerTempTable</td>\n",
       "      <td>toLocalIterator</td>\n",
       "    </tr>\n",
       "    <tr>\n",
       "      <th>10</th>\n",
       "      <td>count</td>\n",
       "      <td>foreachPartition</td>\n",
       "      <td>repartition</td>\n",
       "      <td>toPandas</td>\n",
       "    </tr>\n",
       "    <tr>\n",
       "      <th>11</th>\n",
       "      <td>cov</td>\n",
       "      <td>freqItems</td>\n",
       "      <td>repartitionByRange</td>\n",
       "      <td>union</td>\n",
       "    </tr>\n",
       "    <tr>\n",
       "      <th>12</th>\n",
       "      <td>createGlobalTempView</td>\n",
       "      <td>groupBy</td>\n",
       "      <td>replace</td>\n",
       "      <td>unionAll</td>\n",
       "    </tr>\n",
       "    <tr>\n",
       "      <th>13</th>\n",
       "      <td>createOrReplaceGlobalTempView</td>\n",
       "      <td>groupby</td>\n",
       "      <td>rollup</td>\n",
       "      <td>unionByName</td>\n",
       "    </tr>\n",
       "    <tr>\n",
       "      <th>14</th>\n",
       "      <td>createOrReplaceTempView</td>\n",
       "      <td>head</td>\n",
       "      <td>sample</td>\n",
       "      <td>unpersist</td>\n",
       "    </tr>\n",
       "    <tr>\n",
       "      <th>15</th>\n",
       "      <td>createTempView</td>\n",
       "      <td>hint</td>\n",
       "      <td>sampleBy</td>\n",
       "      <td>where</td>\n",
       "    </tr>\n",
       "    <tr>\n",
       "      <th>16</th>\n",
       "      <td>crossJoin</td>\n",
       "      <td>intersect</td>\n",
       "      <td>schema</td>\n",
       "      <td>withColumn</td>\n",
       "    </tr>\n",
       "    <tr>\n",
       "      <th>17</th>\n",
       "      <td>crosstab</td>\n",
       "      <td>intersectAll</td>\n",
       "      <td>select</td>\n",
       "      <td>withColumnRenamed</td>\n",
       "    </tr>\n",
       "    <tr>\n",
       "      <th>18</th>\n",
       "      <td>cube</td>\n",
       "      <td>isLocal</td>\n",
       "      <td>selectExpr</td>\n",
       "      <td>withWatermark</td>\n",
       "    </tr>\n",
       "    <tr>\n",
       "      <th>19</th>\n",
       "      <td>describe</td>\n",
       "      <td>isStreaming</td>\n",
       "      <td>show</td>\n",
       "      <td>write</td>\n",
       "    </tr>\n",
       "    <tr>\n",
       "      <th>20</th>\n",
       "      <td>distinct</td>\n",
       "      <td>is_cached</td>\n",
       "      <td>sort</td>\n",
       "      <td>writeStream</td>\n",
       "    </tr>\n",
       "    <tr>\n",
       "      <th>21</th>\n",
       "      <td>drop</td>\n",
       "      <td></td>\n",
       "      <td></td>\n",
       "      <td></td>\n",
       "    </tr>\n",
       "  </tbody>\n",
       "</table>\n",
       "</div>"
      ],
      "text/plain": [
       "                                0                 1                   2  \\\n",
       "0                             agg    dropDuplicates                join   \n",
       "1                           alias   drop_duplicates               limit   \n",
       "2                  approxQuantile            dropna     localCheckpoint   \n",
       "3                           cache            dtypes                  na   \n",
       "4                      checkpoint         exceptAll             orderBy   \n",
       "5                        coalesce           explain             persist   \n",
       "6                        colRegex            fillna         printSchema   \n",
       "7                         collect            filter         randomSplit   \n",
       "8                         columns             first                 rdd   \n",
       "9                            corr           foreach   registerTempTable   \n",
       "10                          count  foreachPartition         repartition   \n",
       "11                            cov         freqItems  repartitionByRange   \n",
       "12           createGlobalTempView           groupBy             replace   \n",
       "13  createOrReplaceGlobalTempView           groupby              rollup   \n",
       "14        createOrReplaceTempView              head              sample   \n",
       "15                 createTempView              hint            sampleBy   \n",
       "16                      crossJoin         intersect              schema   \n",
       "17                       crosstab      intersectAll              select   \n",
       "18                           cube           isLocal          selectExpr   \n",
       "19                       describe       isStreaming                show   \n",
       "20                       distinct         is_cached                sort   \n",
       "21                           drop                                         \n",
       "\n",
       "                       3  \n",
       "0   sortWithinPartitions  \n",
       "1                sql_ctx  \n",
       "2                   stat  \n",
       "3           storageLevel  \n",
       "4               subtract  \n",
       "5                summary  \n",
       "6                   take  \n",
       "7                   toDF  \n",
       "8                 toJSON  \n",
       "9        toLocalIterator  \n",
       "10              toPandas  \n",
       "11                 union  \n",
       "12              unionAll  \n",
       "13           unionByName  \n",
       "14             unpersist  \n",
       "15                 where  \n",
       "16            withColumn  \n",
       "17     withColumnRenamed  \n",
       "18         withWatermark  \n",
       "19                 write  \n",
       "20           writeStream  \n",
       "21                        "
      ]
     },
     "execution_count": 37,
     "metadata": {},
     "output_type": "execute_result"
    }
   ],
   "source": [
    "bp.show_method_attributes(sdf,4)"
   ]
  },
  {
   "cell_type": "code",
   "execution_count": 38,
   "metadata": {
    "ExecuteTime": {
     "end_time": "2020-03-11T03:05:55.793750Z",
     "start_time": "2020-03-11T03:05:55.632919Z"
    }
   },
   "outputs": [
    {
     "data": {
      "text/html": [
       "<div>\n",
       "<style scoped>\n",
       "    .dataframe tbody tr th:only-of-type {\n",
       "        vertical-align: middle;\n",
       "    }\n",
       "\n",
       "    .dataframe tbody tr th {\n",
       "        vertical-align: top;\n",
       "    }\n",
       "\n",
       "    .dataframe thead th {\n",
       "        text-align: right;\n",
       "    }\n",
       "</style>\n",
       "<table border=\"1\" class=\"dataframe\">\n",
       "  <thead>\n",
       "    <tr style=\"text-align: right;\">\n",
       "      <th></th>\n",
       "      <th>0</th>\n",
       "      <th>1</th>\n",
       "      <th>2</th>\n",
       "      <th>3</th>\n",
       "    </tr>\n",
       "  </thead>\n",
       "  <tbody>\n",
       "    <tr>\n",
       "      <th>0</th>\n",
       "      <td>aggregate</td>\n",
       "      <td>fullOuterJoin</td>\n",
       "      <td>max</td>\n",
       "      <td>saveAsTextFile</td>\n",
       "    </tr>\n",
       "    <tr>\n",
       "      <th>1</th>\n",
       "      <td>aggregateByKey</td>\n",
       "      <td>getCheckpointFile</td>\n",
       "      <td>mean</td>\n",
       "      <td>setName</td>\n",
       "    </tr>\n",
       "    <tr>\n",
       "      <th>2</th>\n",
       "      <td>barrier</td>\n",
       "      <td>getNumPartitions</td>\n",
       "      <td>meanApprox</td>\n",
       "      <td>sortBy</td>\n",
       "    </tr>\n",
       "    <tr>\n",
       "      <th>3</th>\n",
       "      <td>cache</td>\n",
       "      <td>getStorageLevel</td>\n",
       "      <td>min</td>\n",
       "      <td>sortByKey</td>\n",
       "    </tr>\n",
       "    <tr>\n",
       "      <th>4</th>\n",
       "      <td>cartesian</td>\n",
       "      <td>glom</td>\n",
       "      <td>name</td>\n",
       "      <td>stats</td>\n",
       "    </tr>\n",
       "    <tr>\n",
       "      <th>5</th>\n",
       "      <td>checkpoint</td>\n",
       "      <td>groupBy</td>\n",
       "      <td>partitionBy</td>\n",
       "      <td>stdev</td>\n",
       "    </tr>\n",
       "    <tr>\n",
       "      <th>6</th>\n",
       "      <td>coalesce</td>\n",
       "      <td>groupByKey</td>\n",
       "      <td>partitioner</td>\n",
       "      <td>subtract</td>\n",
       "    </tr>\n",
       "    <tr>\n",
       "      <th>7</th>\n",
       "      <td>cogroup</td>\n",
       "      <td>groupWith</td>\n",
       "      <td>persist</td>\n",
       "      <td>subtractByKey</td>\n",
       "    </tr>\n",
       "    <tr>\n",
       "      <th>8</th>\n",
       "      <td>collect</td>\n",
       "      <td>histogram</td>\n",
       "      <td>pipe</td>\n",
       "      <td>sum</td>\n",
       "    </tr>\n",
       "    <tr>\n",
       "      <th>9</th>\n",
       "      <td>collectAsMap</td>\n",
       "      <td>id</td>\n",
       "      <td>randomSplit</td>\n",
       "      <td>sumApprox</td>\n",
       "    </tr>\n",
       "    <tr>\n",
       "      <th>10</th>\n",
       "      <td>combineByKey</td>\n",
       "      <td>intersection</td>\n",
       "      <td>reduce</td>\n",
       "      <td>take</td>\n",
       "    </tr>\n",
       "    <tr>\n",
       "      <th>11</th>\n",
       "      <td>context</td>\n",
       "      <td>isCheckpointed</td>\n",
       "      <td>reduceByKey</td>\n",
       "      <td>takeOrdered</td>\n",
       "    </tr>\n",
       "    <tr>\n",
       "      <th>12</th>\n",
       "      <td>count</td>\n",
       "      <td>isEmpty</td>\n",
       "      <td>reduceByKeyLocally</td>\n",
       "      <td>takeSample</td>\n",
       "    </tr>\n",
       "    <tr>\n",
       "      <th>13</th>\n",
       "      <td>countApprox</td>\n",
       "      <td>isLocallyCheckpointed</td>\n",
       "      <td>repartition</td>\n",
       "      <td>toDF</td>\n",
       "    </tr>\n",
       "    <tr>\n",
       "      <th>14</th>\n",
       "      <td>countApproxDistinct</td>\n",
       "      <td>is_cached</td>\n",
       "      <td>repartitionAndSortWithinPartitions</td>\n",
       "      <td>toDebugString</td>\n",
       "    </tr>\n",
       "    <tr>\n",
       "      <th>15</th>\n",
       "      <td>countByKey</td>\n",
       "      <td>is_checkpointed</td>\n",
       "      <td>rightOuterJoin</td>\n",
       "      <td>toLocalIterator</td>\n",
       "    </tr>\n",
       "    <tr>\n",
       "      <th>16</th>\n",
       "      <td>countByValue</td>\n",
       "      <td>join</td>\n",
       "      <td>sample</td>\n",
       "      <td>top</td>\n",
       "    </tr>\n",
       "    <tr>\n",
       "      <th>17</th>\n",
       "      <td>ctx</td>\n",
       "      <td>keyBy</td>\n",
       "      <td>sampleByKey</td>\n",
       "      <td>treeAggregate</td>\n",
       "    </tr>\n",
       "    <tr>\n",
       "      <th>18</th>\n",
       "      <td>distinct</td>\n",
       "      <td>keys</td>\n",
       "      <td>sampleStdev</td>\n",
       "      <td>treeReduce</td>\n",
       "    </tr>\n",
       "    <tr>\n",
       "      <th>19</th>\n",
       "      <td>filter</td>\n",
       "      <td>leftOuterJoin</td>\n",
       "      <td>sampleVariance</td>\n",
       "      <td>union</td>\n",
       "    </tr>\n",
       "    <tr>\n",
       "      <th>20</th>\n",
       "      <td>first</td>\n",
       "      <td>localCheckpoint</td>\n",
       "      <td>saveAsHadoopDataset</td>\n",
       "      <td>unpersist</td>\n",
       "    </tr>\n",
       "    <tr>\n",
       "      <th>21</th>\n",
       "      <td>flatMap</td>\n",
       "      <td>lookup</td>\n",
       "      <td>saveAsHadoopFile</td>\n",
       "      <td>values</td>\n",
       "    </tr>\n",
       "    <tr>\n",
       "      <th>22</th>\n",
       "      <td>flatMapValues</td>\n",
       "      <td>map</td>\n",
       "      <td>saveAsNewAPIHadoopDataset</td>\n",
       "      <td>variance</td>\n",
       "    </tr>\n",
       "    <tr>\n",
       "      <th>23</th>\n",
       "      <td>fold</td>\n",
       "      <td>mapPartitions</td>\n",
       "      <td>saveAsNewAPIHadoopFile</td>\n",
       "      <td>zip</td>\n",
       "    </tr>\n",
       "    <tr>\n",
       "      <th>24</th>\n",
       "      <td>foldByKey</td>\n",
       "      <td>mapPartitionsWithIndex</td>\n",
       "      <td>saveAsPickleFile</td>\n",
       "      <td>zipWithIndex</td>\n",
       "    </tr>\n",
       "    <tr>\n",
       "      <th>25</th>\n",
       "      <td>foreach</td>\n",
       "      <td>mapPartitionsWithSplit</td>\n",
       "      <td>saveAsSequenceFile</td>\n",
       "      <td>zipWithUniqueId</td>\n",
       "    </tr>\n",
       "    <tr>\n",
       "      <th>26</th>\n",
       "      <td>foreachPartition</td>\n",
       "      <td>mapValues</td>\n",
       "      <td></td>\n",
       "      <td></td>\n",
       "    </tr>\n",
       "  </tbody>\n",
       "</table>\n",
       "</div>"
      ],
      "text/plain": [
       "                      0                       1  \\\n",
       "0             aggregate           fullOuterJoin   \n",
       "1        aggregateByKey       getCheckpointFile   \n",
       "2               barrier        getNumPartitions   \n",
       "3                 cache         getStorageLevel   \n",
       "4             cartesian                    glom   \n",
       "5            checkpoint                 groupBy   \n",
       "6              coalesce              groupByKey   \n",
       "7               cogroup               groupWith   \n",
       "8               collect               histogram   \n",
       "9          collectAsMap                      id   \n",
       "10         combineByKey            intersection   \n",
       "11              context          isCheckpointed   \n",
       "12                count                 isEmpty   \n",
       "13          countApprox   isLocallyCheckpointed   \n",
       "14  countApproxDistinct               is_cached   \n",
       "15           countByKey         is_checkpointed   \n",
       "16         countByValue                    join   \n",
       "17                  ctx                   keyBy   \n",
       "18             distinct                    keys   \n",
       "19               filter           leftOuterJoin   \n",
       "20                first         localCheckpoint   \n",
       "21              flatMap                  lookup   \n",
       "22        flatMapValues                     map   \n",
       "23                 fold           mapPartitions   \n",
       "24            foldByKey  mapPartitionsWithIndex   \n",
       "25              foreach  mapPartitionsWithSplit   \n",
       "26     foreachPartition               mapValues   \n",
       "\n",
       "                                     2                3  \n",
       "0                                  max   saveAsTextFile  \n",
       "1                                 mean          setName  \n",
       "2                           meanApprox           sortBy  \n",
       "3                                  min        sortByKey  \n",
       "4                                 name            stats  \n",
       "5                          partitionBy            stdev  \n",
       "6                          partitioner         subtract  \n",
       "7                              persist    subtractByKey  \n",
       "8                                 pipe              sum  \n",
       "9                          randomSplit        sumApprox  \n",
       "10                              reduce             take  \n",
       "11                         reduceByKey      takeOrdered  \n",
       "12                  reduceByKeyLocally       takeSample  \n",
       "13                         repartition             toDF  \n",
       "14  repartitionAndSortWithinPartitions    toDebugString  \n",
       "15                      rightOuterJoin  toLocalIterator  \n",
       "16                              sample              top  \n",
       "17                         sampleByKey    treeAggregate  \n",
       "18                         sampleStdev       treeReduce  \n",
       "19                      sampleVariance            union  \n",
       "20                 saveAsHadoopDataset        unpersist  \n",
       "21                    saveAsHadoopFile           values  \n",
       "22           saveAsNewAPIHadoopDataset         variance  \n",
       "23              saveAsNewAPIHadoopFile              zip  \n",
       "24                    saveAsPickleFile     zipWithIndex  \n",
       "25                  saveAsSequenceFile  zipWithUniqueId  \n",
       "26                                                       "
      ]
     },
     "execution_count": 38,
     "metadata": {},
     "output_type": "execute_result"
    }
   ],
   "source": [
    "bp.show_method_attributes(sdf.rdd,4) # rdd attributes"
   ]
  },
  {
   "cell_type": "markdown",
   "metadata": {},
   "source": [
    "# Create SQL table from spark dataframes\n",
    "\n",
    "- https://spark.apache.org/docs/2.2.0/sql-programming-guide.html\n",
    "\n",
    "**Global Temporary View** \n",
    "\n",
    "Temporary views in Spark SQL are session-scoped and will disappear if the session that creates it terminates. If you want to have a temporary view that is shared among all sessions and keep alive until the Spark application terminates, you can create a global temporary view. Global temporary view is tied to a system preserved database global_temp, and we must use the qualified name to refer it, e.g. `SELECT * FROM global_temp.view1`."
   ]
  },
  {
   "cell_type": "code",
   "execution_count": 39,
   "metadata": {
    "ExecuteTime": {
     "end_time": "2020-03-11T03:05:55.843957Z",
     "start_time": "2020-03-11T03:05:55.797797Z"
    }
   },
   "outputs": [],
   "source": [
    "# Register the DataFrame as a SQL temporary view\n",
    "sdfp.createOrReplaceTempView(\"Products\")"
   ]
  },
  {
   "cell_type": "code",
   "execution_count": 40,
   "metadata": {
    "ExecuteTime": {
     "end_time": "2020-03-11T03:05:55.850528Z",
     "start_time": "2020-03-11T03:05:55.847636Z"
    }
   },
   "outputs": [],
   "source": [
    "# # Register the DataFrame as a global temporary view\n",
    "# sdfp.createGlobalTempView(\"people\")"
   ]
  },
  {
   "cell_type": "code",
   "execution_count": 41,
   "metadata": {
    "ExecuteTime": {
     "end_time": "2020-03-11T03:05:55.871456Z",
     "start_time": "2020-03-11T03:05:55.856582Z"
    }
   },
   "outputs": [],
   "source": [
    "# Register the DataFrame as a SQL temporary view\n",
    "sdfm.createOrReplaceTempView(\"Manufacturers\")"
   ]
  },
  {
   "cell_type": "code",
   "execution_count": 42,
   "metadata": {
    "ExecuteTime": {
     "end_time": "2020-03-11T03:05:56.719945Z",
     "start_time": "2020-03-11T03:05:55.876643Z"
    }
   },
   "outputs": [
    {
     "name": "stdout",
     "output_type": "stream",
     "text": [
      "+----+---------------+-----+------------+\n",
      "|code|           name|price|manufacturer|\n",
      "+----+---------------+-----+------------+\n",
      "|   1|     Hard drive|  240|           5|\n",
      "|   2|         Memory|  120|           6|\n",
      "|   3|      ZIP drive|  150|           4|\n",
      "|   4|    Floppy disk|    5|           6|\n",
      "|   5|        Monitor|  240|           1|\n",
      "|   6|      DVD drive|  180|           2|\n",
      "|   7|       CD drive|   90|           2|\n",
      "|   8|        Printer|  270|           3|\n",
      "|   9|Toner cartridge|   66|           3|\n",
      "|  10|     DVD burner|  180|           2|\n",
      "+----+---------------+-----+------------+\n",
      "\n"
     ]
    }
   ],
   "source": [
    "spark.sql(\"select * from Products\").show()"
   ]
  },
  {
   "cell_type": "code",
   "execution_count": 43,
   "metadata": {
    "ExecuteTime": {
     "end_time": "2020-03-11T03:05:57.371961Z",
     "start_time": "2020-03-11T03:05:56.722207Z"
    }
   },
   "outputs": [
    {
     "name": "stdout",
     "output_type": "stream",
     "text": [
      "+------------+------------+-----+------------+-----------------+-----------------+\n",
      "|code_product|name_product|price|manufacturer|code_manufacturer|name_manufacturer|\n",
      "+------------+------------+-----+------------+-----------------+-----------------+\n",
      "|           5|     Monitor|  240|           1|                1|             Sony|\n",
      "|           2|      Memory|  120|           6|                6|       Winchester|\n",
      "+------------+------------+-----+------------+-----------------+-----------------+\n",
      "only showing top 2 rows\n",
      "\n"
     ]
    }
   ],
   "source": [
    "sdf.show(2)"
   ]
  },
  {
   "cell_type": "markdown",
   "metadata": {},
   "source": [
    "# Exercise Questions"
   ]
  },
  {
   "cell_type": "markdown",
   "metadata": {},
   "source": [
    "## Select the names of all the products in the store."
   ]
  },
  {
   "cell_type": "markdown",
   "metadata": {
    "ExecuteTime": {
     "end_time": "2020-03-08T23:20:54.112151Z",
     "start_time": "2020-03-08T23:20:54.109146Z"
    }
   },
   "source": [
    "<div class=\"alert alert-block alert-info\">\n",
    "<b>Question:</b> \n",
    "    1. Select the names of all the products in the store.\n",
    "</div> "
   ]
  },
  {
   "cell_type": "code",
   "execution_count": 44,
   "metadata": {
    "ExecuteTime": {
     "end_time": "2020-03-11T03:05:57.385149Z",
     "start_time": "2020-03-11T03:05:57.374715Z"
    }
   },
   "outputs": [
    {
     "data": {
      "text/html": [
       "<div>\n",
       "<style scoped>\n",
       "    .dataframe tbody tr th:only-of-type {\n",
       "        vertical-align: middle;\n",
       "    }\n",
       "\n",
       "    .dataframe tbody tr th {\n",
       "        vertical-align: top;\n",
       "    }\n",
       "\n",
       "    .dataframe thead th {\n",
       "        text-align: right;\n",
       "    }\n",
       "</style>\n",
       "<table border=\"1\" class=\"dataframe\">\n",
       "  <thead>\n",
       "    <tr style=\"text-align: right;\">\n",
       "      <th></th>\n",
       "      <th>name</th>\n",
       "    </tr>\n",
       "  </thead>\n",
       "  <tbody>\n",
       "    <tr>\n",
       "      <th>0</th>\n",
       "      <td>Hard drive</td>\n",
       "    </tr>\n",
       "    <tr>\n",
       "      <th>1</th>\n",
       "      <td>Memory</td>\n",
       "    </tr>\n",
       "    <tr>\n",
       "      <th>2</th>\n",
       "      <td>ZIP drive</td>\n",
       "    </tr>\n",
       "    <tr>\n",
       "      <th>3</th>\n",
       "      <td>Floppy disk</td>\n",
       "    </tr>\n",
       "    <tr>\n",
       "      <th>4</th>\n",
       "      <td>Monitor</td>\n",
       "    </tr>\n",
       "    <tr>\n",
       "      <th>5</th>\n",
       "      <td>DVD drive</td>\n",
       "    </tr>\n",
       "    <tr>\n",
       "      <th>6</th>\n",
       "      <td>CD drive</td>\n",
       "    </tr>\n",
       "    <tr>\n",
       "      <th>7</th>\n",
       "      <td>Printer</td>\n",
       "    </tr>\n",
       "    <tr>\n",
       "      <th>8</th>\n",
       "      <td>Toner cartridge</td>\n",
       "    </tr>\n",
       "    <tr>\n",
       "      <th>9</th>\n",
       "      <td>DVD burner</td>\n",
       "    </tr>\n",
       "  </tbody>\n",
       "</table>\n",
       "</div>"
      ],
      "text/plain": [
       "              name\n",
       "0       Hard drive\n",
       "1           Memory\n",
       "2        ZIP drive\n",
       "3      Floppy disk\n",
       "4          Monitor\n",
       "5        DVD drive\n",
       "6         CD drive\n",
       "7          Printer\n",
       "8  Toner cartridge\n",
       "9       DVD burner"
      ]
     },
     "execution_count": 44,
     "metadata": {},
     "output_type": "execute_result"
    }
   ],
   "source": [
    "# dfp['name'] # series\n",
    "dfp[['name']] # dataframe"
   ]
  },
  {
   "cell_type": "code",
   "execution_count": 45,
   "metadata": {
    "ExecuteTime": {
     "end_time": "2020-03-11T03:05:57.469014Z",
     "start_time": "2020-03-11T03:05:57.387463Z"
    }
   },
   "outputs": [
    {
     "name": "stdout",
     "output_type": "stream",
     "text": [
      "+---------------+\n",
      "|           name|\n",
      "+---------------+\n",
      "|     Hard drive|\n",
      "|         Memory|\n",
      "|      ZIP drive|\n",
      "|    Floppy disk|\n",
      "|        Monitor|\n",
      "|      DVD drive|\n",
      "|       CD drive|\n",
      "|        Printer|\n",
      "|Toner cartridge|\n",
      "|     DVD burner|\n",
      "+---------------+\n",
      "\n"
     ]
    }
   ],
   "source": [
    "# sdfp[['name']].show()\n",
    "sdfp.select('name').show()"
   ]
  },
  {
   "cell_type": "code",
   "execution_count": 46,
   "metadata": {
    "ExecuteTime": {
     "end_time": "2020-03-11T03:05:57.560142Z",
     "start_time": "2020-03-11T03:05:57.472523Z"
    }
   },
   "outputs": [
    {
     "name": "stdout",
     "output_type": "stream",
     "text": [
      "+---------------+\n",
      "|           name|\n",
      "+---------------+\n",
      "|     Hard drive|\n",
      "|         Memory|\n",
      "|      ZIP drive|\n",
      "|    Floppy disk|\n",
      "|        Monitor|\n",
      "|      DVD drive|\n",
      "|       CD drive|\n",
      "|        Printer|\n",
      "|Toner cartridge|\n",
      "|     DVD burner|\n",
      "+---------------+\n",
      "\n"
     ]
    }
   ],
   "source": [
    "spark.sql(\"select name from Products\").show()"
   ]
  },
  {
   "cell_type": "markdown",
   "metadata": {},
   "source": [
    "## Select the names and the prices of all the products in the store."
   ]
  },
  {
   "cell_type": "markdown",
   "metadata": {},
   "source": [
    "<div class=\"alert alert-block alert-info\">\n",
    "<b>Question:</b> \n",
    "    2. Select the names and the prices of all the products in the store.\n",
    "</div> "
   ]
  },
  {
   "cell_type": "code",
   "execution_count": 47,
   "metadata": {
    "ExecuteTime": {
     "end_time": "2020-03-11T03:05:57.569415Z",
     "start_time": "2020-03-11T03:05:57.564383Z"
    }
   },
   "outputs": [
    {
     "data": {
      "text/plain": [
       "Index(['code', 'name', 'price', 'manufacturer'], dtype='object')"
      ]
     },
     "execution_count": 47,
     "metadata": {},
     "output_type": "execute_result"
    }
   ],
   "source": [
    "dfp.columns"
   ]
  },
  {
   "cell_type": "code",
   "execution_count": 48,
   "metadata": {
    "ExecuteTime": {
     "end_time": "2020-03-11T03:05:57.584552Z",
     "start_time": "2020-03-11T03:05:57.573574Z"
    }
   },
   "outputs": [
    {
     "data": {
      "text/html": [
       "<div>\n",
       "<style scoped>\n",
       "    .dataframe tbody tr th:only-of-type {\n",
       "        vertical-align: middle;\n",
       "    }\n",
       "\n",
       "    .dataframe tbody tr th {\n",
       "        vertical-align: top;\n",
       "    }\n",
       "\n",
       "    .dataframe thead th {\n",
       "        text-align: right;\n",
       "    }\n",
       "</style>\n",
       "<table border=\"1\" class=\"dataframe\">\n",
       "  <thead>\n",
       "    <tr style=\"text-align: right;\">\n",
       "      <th></th>\n",
       "      <th>name</th>\n",
       "      <th>price</th>\n",
       "    </tr>\n",
       "  </thead>\n",
       "  <tbody>\n",
       "    <tr>\n",
       "      <th>0</th>\n",
       "      <td>Hard drive</td>\n",
       "      <td>240</td>\n",
       "    </tr>\n",
       "    <tr>\n",
       "      <th>1</th>\n",
       "      <td>Memory</td>\n",
       "      <td>120</td>\n",
       "    </tr>\n",
       "    <tr>\n",
       "      <th>2</th>\n",
       "      <td>ZIP drive</td>\n",
       "      <td>150</td>\n",
       "    </tr>\n",
       "    <tr>\n",
       "      <th>3</th>\n",
       "      <td>Floppy disk</td>\n",
       "      <td>5</td>\n",
       "    </tr>\n",
       "    <tr>\n",
       "      <th>4</th>\n",
       "      <td>Monitor</td>\n",
       "      <td>240</td>\n",
       "    </tr>\n",
       "    <tr>\n",
       "      <th>5</th>\n",
       "      <td>DVD drive</td>\n",
       "      <td>180</td>\n",
       "    </tr>\n",
       "    <tr>\n",
       "      <th>6</th>\n",
       "      <td>CD drive</td>\n",
       "      <td>90</td>\n",
       "    </tr>\n",
       "    <tr>\n",
       "      <th>7</th>\n",
       "      <td>Printer</td>\n",
       "      <td>270</td>\n",
       "    </tr>\n",
       "    <tr>\n",
       "      <th>8</th>\n",
       "      <td>Toner cartridge</td>\n",
       "      <td>66</td>\n",
       "    </tr>\n",
       "    <tr>\n",
       "      <th>9</th>\n",
       "      <td>DVD burner</td>\n",
       "      <td>180</td>\n",
       "    </tr>\n",
       "  </tbody>\n",
       "</table>\n",
       "</div>"
      ],
      "text/plain": [
       "              name  price\n",
       "0       Hard drive    240\n",
       "1           Memory    120\n",
       "2        ZIP drive    150\n",
       "3      Floppy disk      5\n",
       "4          Monitor    240\n",
       "5        DVD drive    180\n",
       "6         CD drive     90\n",
       "7          Printer    270\n",
       "8  Toner cartridge     66\n",
       "9       DVD burner    180"
      ]
     },
     "execution_count": 48,
     "metadata": {},
     "output_type": "execute_result"
    }
   ],
   "source": [
    "dfp[['name','price']]"
   ]
  },
  {
   "cell_type": "code",
   "execution_count": 49,
   "metadata": {
    "ExecuteTime": {
     "end_time": "2020-03-11T03:05:57.697698Z",
     "start_time": "2020-03-11T03:05:57.588568Z"
    }
   },
   "outputs": [
    {
     "name": "stdout",
     "output_type": "stream",
     "text": [
      "+----------+-----+\n",
      "|      name|price|\n",
      "+----------+-----+\n",
      "|Hard drive|  240|\n",
      "|    Memory|  120|\n",
      "+----------+-----+\n",
      "only showing top 2 rows\n",
      "\n"
     ]
    }
   ],
   "source": [
    "sdfp[['name','price']].show(2)"
   ]
  },
  {
   "cell_type": "code",
   "execution_count": 50,
   "metadata": {
    "ExecuteTime": {
     "end_time": "2020-03-11T03:05:57.863456Z",
     "start_time": "2020-03-11T03:05:57.701785Z"
    }
   },
   "outputs": [
    {
     "name": "stdout",
     "output_type": "stream",
     "text": [
      "+----------+-----+\n",
      "|      name|price|\n",
      "+----------+-----+\n",
      "|Hard drive|  240|\n",
      "|    Memory|  120|\n",
      "+----------+-----+\n",
      "only showing top 2 rows\n",
      "\n"
     ]
    }
   ],
   "source": [
    "sdfp.select('name','price').show(2)"
   ]
  },
  {
   "cell_type": "code",
   "execution_count": 51,
   "metadata": {
    "ExecuteTime": {
     "end_time": "2020-03-11T03:05:58.114602Z",
     "start_time": "2020-03-11T03:05:57.868844Z"
    }
   },
   "outputs": [
    {
     "name": "stdout",
     "output_type": "stream",
     "text": [
      "+----------+-----+\n",
      "|      name|price|\n",
      "+----------+-----+\n",
      "|Hard drive|  240|\n",
      "|    Memory|  120|\n",
      "+----------+-----+\n",
      "\n"
     ]
    }
   ],
   "source": [
    "spark.sql(\"select name, price from Products limit 2\").show()"
   ]
  },
  {
   "cell_type": "markdown",
   "metadata": {},
   "source": [
    "## Select the name of the products with a price less than or equal to 200."
   ]
  },
  {
   "cell_type": "markdown",
   "metadata": {},
   "source": [
    "<div class=\"alert alert-block alert-info\">\n",
    "<b>Question:</b> \n",
    "    3. Select the name of the products with a price less than or equal to $200.\n",
    "</div> "
   ]
  },
  {
   "cell_type": "code",
   "execution_count": 52,
   "metadata": {
    "ExecuteTime": {
     "end_time": "2020-03-11T03:05:58.125264Z",
     "start_time": "2020-03-11T03:05:58.116742Z"
    }
   },
   "outputs": [
    {
     "data": {
      "text/html": [
       "<div>\n",
       "<style scoped>\n",
       "    .dataframe tbody tr th:only-of-type {\n",
       "        vertical-align: middle;\n",
       "    }\n",
       "\n",
       "    .dataframe tbody tr th {\n",
       "        vertical-align: top;\n",
       "    }\n",
       "\n",
       "    .dataframe thead th {\n",
       "        text-align: right;\n",
       "    }\n",
       "</style>\n",
       "<table border=\"1\" class=\"dataframe\">\n",
       "  <thead>\n",
       "    <tr style=\"text-align: right;\">\n",
       "      <th></th>\n",
       "      <th>code</th>\n",
       "      <th>name</th>\n",
       "      <th>price</th>\n",
       "      <th>manufacturer</th>\n",
       "    </tr>\n",
       "  </thead>\n",
       "  <tbody>\n",
       "    <tr>\n",
       "      <th>0</th>\n",
       "      <td>1</td>\n",
       "      <td>Hard drive</td>\n",
       "      <td>240</td>\n",
       "      <td>5</td>\n",
       "    </tr>\n",
       "  </tbody>\n",
       "</table>\n",
       "</div>"
      ],
      "text/plain": [
       "   code        name  price  manufacturer\n",
       "0     1  Hard drive    240             5"
      ]
     },
     "execution_count": 52,
     "metadata": {},
     "output_type": "execute_result"
    }
   ],
   "source": [
    "dfp.head(1)"
   ]
  },
  {
   "cell_type": "code",
   "execution_count": 53,
   "metadata": {
    "ExecuteTime": {
     "end_time": "2020-03-11T03:05:58.136312Z",
     "start_time": "2020-03-11T03:05:58.127259Z"
    }
   },
   "outputs": [
    {
     "data": {
      "text/plain": [
       "1             Memory\n",
       "2          ZIP drive\n",
       "3        Floppy disk\n",
       "5          DVD drive\n",
       "6           CD drive\n",
       "8    Toner cartridge\n",
       "9         DVD burner\n",
       "Name: name, dtype: object"
      ]
     },
     "execution_count": 53,
     "metadata": {},
     "output_type": "execute_result"
    }
   ],
   "source": [
    "dfp.loc[dfp.price <=200, 'name']"
   ]
  },
  {
   "cell_type": "code",
   "execution_count": 54,
   "metadata": {
    "ExecuteTime": {
     "end_time": "2020-03-11T03:05:58.140940Z",
     "start_time": "2020-03-11T03:05:58.138487Z"
    }
   },
   "outputs": [],
   "source": [
    "# dfp.query(\"price <= 200\")['name']"
   ]
  },
  {
   "cell_type": "code",
   "execution_count": 55,
   "metadata": {
    "ExecuteTime": {
     "end_time": "2020-03-11T03:05:59.245223Z",
     "start_time": "2020-03-11T03:05:58.142791Z"
    }
   },
   "outputs": [
    {
     "name": "stdout",
     "output_type": "stream",
     "text": [
      "+---------------+\n",
      "|           name|\n",
      "+---------------+\n",
      "|         Memory|\n",
      "|      ZIP drive|\n",
      "|    Floppy disk|\n",
      "|      DVD drive|\n",
      "|       CD drive|\n",
      "|Toner cartridge|\n",
      "|     DVD burner|\n",
      "+---------------+\n",
      "\n"
     ]
    }
   ],
   "source": [
    "sdfp[sdfp.price<=200].select('name').show()"
   ]
  },
  {
   "cell_type": "code",
   "execution_count": 56,
   "metadata": {
    "ExecuteTime": {
     "end_time": "2020-03-11T03:05:59.410266Z",
     "start_time": "2020-03-11T03:05:59.248019Z"
    }
   },
   "outputs": [
    {
     "name": "stdout",
     "output_type": "stream",
     "text": [
      "+---------------+\n",
      "|           name|\n",
      "+---------------+\n",
      "|         Memory|\n",
      "|      ZIP drive|\n",
      "|    Floppy disk|\n",
      "|      DVD drive|\n",
      "|       CD drive|\n",
      "|Toner cartridge|\n",
      "|     DVD burner|\n",
      "+---------------+\n",
      "\n"
     ]
    }
   ],
   "source": [
    "sdfp[['name']][sdfp.price<=200].show()"
   ]
  },
  {
   "cell_type": "code",
   "execution_count": 57,
   "metadata": {
    "ExecuteTime": {
     "end_time": "2020-03-11T03:05:59.538862Z",
     "start_time": "2020-03-11T03:05:59.412386Z"
    }
   },
   "outputs": [
    {
     "name": "stdout",
     "output_type": "stream",
     "text": [
      "+---------------+\n",
      "|           name|\n",
      "+---------------+\n",
      "|         Memory|\n",
      "|      ZIP drive|\n",
      "|    Floppy disk|\n",
      "|      DVD drive|\n",
      "|       CD drive|\n",
      "|Toner cartridge|\n",
      "|     DVD burner|\n",
      "+---------------+\n",
      "\n"
     ]
    }
   ],
   "source": [
    "sdfp.filter(sdfp.price<=200).select('name').show()"
   ]
  },
  {
   "cell_type": "code",
   "execution_count": 58,
   "metadata": {
    "ExecuteTime": {
     "end_time": "2020-03-11T03:05:59.853977Z",
     "start_time": "2020-03-11T03:05:59.541219Z"
    }
   },
   "outputs": [
    {
     "name": "stdout",
     "output_type": "stream",
     "text": [
      "+---------------+\n",
      "|           name|\n",
      "+---------------+\n",
      "|         Memory|\n",
      "|      ZIP drive|\n",
      "|    Floppy disk|\n",
      "|      DVD drive|\n",
      "|       CD drive|\n",
      "|Toner cartridge|\n",
      "|     DVD burner|\n",
      "+---------------+\n",
      "\n"
     ]
    }
   ],
   "source": [
    "sdfp.where((sdfp.price <=200)).select('name').show()"
   ]
  },
  {
   "cell_type": "code",
   "execution_count": 59,
   "metadata": {
    "ExecuteTime": {
     "end_time": "2020-03-11T03:06:00.021107Z",
     "start_time": "2020-03-11T03:05:59.855840Z"
    }
   },
   "outputs": [
    {
     "name": "stdout",
     "output_type": "stream",
     "text": [
      "+---------------+\n",
      "|           name|\n",
      "+---------------+\n",
      "|         Memory|\n",
      "|      ZIP drive|\n",
      "|    Floppy disk|\n",
      "|      DVD drive|\n",
      "|       CD drive|\n",
      "|Toner cartridge|\n",
      "|     DVD burner|\n",
      "+---------------+\n",
      "\n"
     ]
    }
   ],
   "source": [
    "spark.sql(\"select name from Products where price <= 200\").show()"
   ]
  },
  {
   "cell_type": "markdown",
   "metadata": {},
   "source": [
    "## Select all the products with a price between 60 and 120."
   ]
  },
  {
   "cell_type": "markdown",
   "metadata": {},
   "source": [
    "<div class=\"alert alert-block alert-info\">\n",
    "<b>Question:</b> \n",
    "    4. Select all the products with a price between \\$60 and \\$120.\n",
    "</div> "
   ]
  },
  {
   "cell_type": "code",
   "execution_count": 60,
   "metadata": {
    "ExecuteTime": {
     "end_time": "2020-03-11T03:06:00.048608Z",
     "start_time": "2020-03-11T03:06:00.022707Z"
    }
   },
   "outputs": [
    {
     "data": {
      "text/html": [
       "<div>\n",
       "<style scoped>\n",
       "    .dataframe tbody tr th:only-of-type {\n",
       "        vertical-align: middle;\n",
       "    }\n",
       "\n",
       "    .dataframe tbody tr th {\n",
       "        vertical-align: top;\n",
       "    }\n",
       "\n",
       "    .dataframe thead th {\n",
       "        text-align: right;\n",
       "    }\n",
       "</style>\n",
       "<table border=\"1\" class=\"dataframe\">\n",
       "  <thead>\n",
       "    <tr style=\"text-align: right;\">\n",
       "      <th></th>\n",
       "      <th>code</th>\n",
       "      <th>name</th>\n",
       "      <th>price</th>\n",
       "      <th>manufacturer</th>\n",
       "    </tr>\n",
       "  </thead>\n",
       "  <tbody>\n",
       "    <tr>\n",
       "      <th>1</th>\n",
       "      <td>2</td>\n",
       "      <td>Memory</td>\n",
       "      <td>120</td>\n",
       "      <td>6</td>\n",
       "    </tr>\n",
       "    <tr>\n",
       "      <th>6</th>\n",
       "      <td>7</td>\n",
       "      <td>CD drive</td>\n",
       "      <td>90</td>\n",
       "      <td>2</td>\n",
       "    </tr>\n",
       "    <tr>\n",
       "      <th>8</th>\n",
       "      <td>9</td>\n",
       "      <td>Toner cartridge</td>\n",
       "      <td>66</td>\n",
       "      <td>3</td>\n",
       "    </tr>\n",
       "  </tbody>\n",
       "</table>\n",
       "</div>"
      ],
      "text/plain": [
       "   code             name  price  manufacturer\n",
       "1     2           Memory    120             6\n",
       "6     7         CD drive     90             2\n",
       "8     9  Toner cartridge     66             3"
      ]
     },
     "execution_count": 60,
     "metadata": {},
     "output_type": "execute_result"
    }
   ],
   "source": [
    "dfp.query(\"60<= price <= 120\")"
   ]
  },
  {
   "cell_type": "code",
   "execution_count": 61,
   "metadata": {
    "ExecuteTime": {
     "end_time": "2020-03-11T03:06:00.059996Z",
     "start_time": "2020-03-11T03:06:00.050450Z"
    }
   },
   "outputs": [
    {
     "data": {
      "text/html": [
       "<div>\n",
       "<style scoped>\n",
       "    .dataframe tbody tr th:only-of-type {\n",
       "        vertical-align: middle;\n",
       "    }\n",
       "\n",
       "    .dataframe tbody tr th {\n",
       "        vertical-align: top;\n",
       "    }\n",
       "\n",
       "    .dataframe thead th {\n",
       "        text-align: right;\n",
       "    }\n",
       "</style>\n",
       "<table border=\"1\" class=\"dataframe\">\n",
       "  <thead>\n",
       "    <tr style=\"text-align: right;\">\n",
       "      <th></th>\n",
       "      <th>code</th>\n",
       "      <th>name</th>\n",
       "      <th>price</th>\n",
       "      <th>manufacturer</th>\n",
       "    </tr>\n",
       "  </thead>\n",
       "  <tbody>\n",
       "    <tr>\n",
       "      <th>1</th>\n",
       "      <td>2</td>\n",
       "      <td>Memory</td>\n",
       "      <td>120</td>\n",
       "      <td>6</td>\n",
       "    </tr>\n",
       "    <tr>\n",
       "      <th>6</th>\n",
       "      <td>7</td>\n",
       "      <td>CD drive</td>\n",
       "      <td>90</td>\n",
       "      <td>2</td>\n",
       "    </tr>\n",
       "    <tr>\n",
       "      <th>8</th>\n",
       "      <td>9</td>\n",
       "      <td>Toner cartridge</td>\n",
       "      <td>66</td>\n",
       "      <td>3</td>\n",
       "    </tr>\n",
       "  </tbody>\n",
       "</table>\n",
       "</div>"
      ],
      "text/plain": [
       "   code             name  price  manufacturer\n",
       "1     2           Memory    120             6\n",
       "6     7         CD drive     90             2\n",
       "8     9  Toner cartridge     66             3"
      ]
     },
     "execution_count": 61,
     "metadata": {},
     "output_type": "execute_result"
    }
   ],
   "source": [
    "dfp.loc[ (dfp.price>=60) & (dfp.price<=120)]"
   ]
  },
  {
   "cell_type": "code",
   "execution_count": 62,
   "metadata": {
    "ExecuteTime": {
     "end_time": "2020-03-11T03:06:00.064544Z",
     "start_time": "2020-03-11T03:06:00.061675Z"
    }
   },
   "outputs": [],
   "source": [
    "# dfp.loc[ 60<= dfp.price <=120] # syntax error."
   ]
  },
  {
   "cell_type": "code",
   "execution_count": 63,
   "metadata": {
    "ExecuteTime": {
     "end_time": "2020-03-11T03:06:00.082387Z",
     "start_time": "2020-03-11T03:06:00.066185Z"
    }
   },
   "outputs": [
    {
     "data": {
      "text/html": [
       "<div>\n",
       "<style scoped>\n",
       "    .dataframe tbody tr th:only-of-type {\n",
       "        vertical-align: middle;\n",
       "    }\n",
       "\n",
       "    .dataframe tbody tr th {\n",
       "        vertical-align: top;\n",
       "    }\n",
       "\n",
       "    .dataframe thead th {\n",
       "        text-align: right;\n",
       "    }\n",
       "</style>\n",
       "<table border=\"1\" class=\"dataframe\">\n",
       "  <thead>\n",
       "    <tr style=\"text-align: right;\">\n",
       "      <th></th>\n",
       "      <th>code</th>\n",
       "      <th>name</th>\n",
       "      <th>price</th>\n",
       "      <th>manufacturer</th>\n",
       "    </tr>\n",
       "  </thead>\n",
       "  <tbody>\n",
       "    <tr>\n",
       "      <th>1</th>\n",
       "      <td>2</td>\n",
       "      <td>Memory</td>\n",
       "      <td>120</td>\n",
       "      <td>6</td>\n",
       "    </tr>\n",
       "    <tr>\n",
       "      <th>6</th>\n",
       "      <td>7</td>\n",
       "      <td>CD drive</td>\n",
       "      <td>90</td>\n",
       "      <td>2</td>\n",
       "    </tr>\n",
       "    <tr>\n",
       "      <th>8</th>\n",
       "      <td>9</td>\n",
       "      <td>Toner cartridge</td>\n",
       "      <td>66</td>\n",
       "      <td>3</td>\n",
       "    </tr>\n",
       "  </tbody>\n",
       "</table>\n",
       "</div>"
      ],
      "text/plain": [
       "   code             name  price  manufacturer\n",
       "1     2           Memory    120             6\n",
       "6     7         CD drive     90             2\n",
       "8     9  Toner cartridge     66             3"
      ]
     },
     "execution_count": 63,
     "metadata": {},
     "output_type": "execute_result"
    }
   ],
   "source": [
    "dfp.loc[dfp.price.between(60,120)]"
   ]
  },
  {
   "cell_type": "code",
   "execution_count": 64,
   "metadata": {
    "ExecuteTime": {
     "end_time": "2020-03-11T03:06:00.368717Z",
     "start_time": "2020-03-11T03:06:00.087741Z"
    }
   },
   "outputs": [
    {
     "name": "stdout",
     "output_type": "stream",
     "text": [
      "+----+---------------+-----+------------+\n",
      "|code|           name|price|manufacturer|\n",
      "+----+---------------+-----+------------+\n",
      "|   2|         Memory|  120|           6|\n",
      "|   7|       CD drive|   90|           2|\n",
      "|   9|Toner cartridge|   66|           3|\n",
      "+----+---------------+-----+------------+\n",
      "\n"
     ]
    }
   ],
   "source": [
    "sdfp[sdfp.price.between(60,120)].show()"
   ]
  },
  {
   "cell_type": "code",
   "execution_count": 65,
   "metadata": {
    "ExecuteTime": {
     "end_time": "2020-03-11T03:06:00.614072Z",
     "start_time": "2020-03-11T03:06:00.374947Z"
    }
   },
   "outputs": [
    {
     "name": "stdout",
     "output_type": "stream",
     "text": [
      "+----+---------------+-----+------------+\n",
      "|code|           name|price|manufacturer|\n",
      "+----+---------------+-----+------------+\n",
      "|   2|         Memory|  120|           6|\n",
      "|   7|       CD drive|   90|           2|\n",
      "|   9|Toner cartridge|   66|           3|\n",
      "+----+---------------+-----+------------+\n",
      "\n"
     ]
    }
   ],
   "source": [
    "spark.sql(\"select * from Products where price between 60 and 120\").show()"
   ]
  },
  {
   "cell_type": "markdown",
   "metadata": {},
   "source": [
    "## Select the name and price in cents (i.e., the price must be multiplied by 100)"
   ]
  },
  {
   "cell_type": "markdown",
   "metadata": {
    "ExecuteTime": {
     "end_time": "2020-03-08T23:53:00.783633Z",
     "start_time": "2020-03-08T23:53:00.777872Z"
    }
   },
   "source": [
    "<div class=\"alert alert-block alert-info\">\n",
    "<b>Question:</b> \n",
    "    5. Select the name and price in cents (i.e., the price must be multiplied by 100)\n",
    "</div>"
   ]
  },
  {
   "cell_type": "code",
   "execution_count": 66,
   "metadata": {
    "ExecuteTime": {
     "end_time": "2020-03-11T03:06:00.621534Z",
     "start_time": "2020-03-11T03:06:00.617854Z"
    }
   },
   "outputs": [],
   "source": [
    "# dfp['price_cents'] = dfp['price'] * 100\n",
    "# dfp[['name','price_cents']]"
   ]
  },
  {
   "cell_type": "code",
   "execution_count": 67,
   "metadata": {
    "ExecuteTime": {
     "end_time": "2020-03-11T03:06:00.635240Z",
     "start_time": "2020-03-11T03:06:00.625094Z"
    }
   },
   "outputs": [
    {
     "data": {
      "text/html": [
       "<div>\n",
       "<style scoped>\n",
       "    .dataframe tbody tr th:only-of-type {\n",
       "        vertical-align: middle;\n",
       "    }\n",
       "\n",
       "    .dataframe tbody tr th {\n",
       "        vertical-align: top;\n",
       "    }\n",
       "\n",
       "    .dataframe thead th {\n",
       "        text-align: right;\n",
       "    }\n",
       "</style>\n",
       "<table border=\"1\" class=\"dataframe\">\n",
       "  <thead>\n",
       "    <tr style=\"text-align: right;\">\n",
       "      <th></th>\n",
       "      <th>code</th>\n",
       "      <th>name</th>\n",
       "      <th>price</th>\n",
       "      <th>manufacturer</th>\n",
       "    </tr>\n",
       "  </thead>\n",
       "  <tbody>\n",
       "    <tr>\n",
       "      <th>0</th>\n",
       "      <td>1</td>\n",
       "      <td>Hard drive</td>\n",
       "      <td>240</td>\n",
       "      <td>5</td>\n",
       "    </tr>\n",
       "    <tr>\n",
       "      <th>1</th>\n",
       "      <td>2</td>\n",
       "      <td>Memory</td>\n",
       "      <td>120</td>\n",
       "      <td>6</td>\n",
       "    </tr>\n",
       "  </tbody>\n",
       "</table>\n",
       "</div>"
      ],
      "text/plain": [
       "   code        name  price  manufacturer\n",
       "0     1  Hard drive    240             5\n",
       "1     2      Memory    120             6"
      ]
     },
     "execution_count": 67,
     "metadata": {},
     "output_type": "execute_result"
    }
   ],
   "source": [
    "dfp.head(2)"
   ]
  },
  {
   "cell_type": "code",
   "execution_count": 68,
   "metadata": {
    "ExecuteTime": {
     "end_time": "2020-03-11T03:06:00.653634Z",
     "start_time": "2020-03-11T03:06:00.639054Z"
    }
   },
   "outputs": [
    {
     "data": {
      "text/html": [
       "<div>\n",
       "<style scoped>\n",
       "    .dataframe tbody tr th:only-of-type {\n",
       "        vertical-align: middle;\n",
       "    }\n",
       "\n",
       "    .dataframe tbody tr th {\n",
       "        vertical-align: top;\n",
       "    }\n",
       "\n",
       "    .dataframe thead th {\n",
       "        text-align: right;\n",
       "    }\n",
       "</style>\n",
       "<table border=\"1\" class=\"dataframe\">\n",
       "  <thead>\n",
       "    <tr style=\"text-align: right;\">\n",
       "      <th></th>\n",
       "      <th>name</th>\n",
       "      <th>price_cents</th>\n",
       "    </tr>\n",
       "  </thead>\n",
       "  <tbody>\n",
       "    <tr>\n",
       "      <th>0</th>\n",
       "      <td>Hard drive</td>\n",
       "      <td>24000</td>\n",
       "    </tr>\n",
       "    <tr>\n",
       "      <th>1</th>\n",
       "      <td>Memory</td>\n",
       "      <td>12000</td>\n",
       "    </tr>\n",
       "    <tr>\n",
       "      <th>2</th>\n",
       "      <td>ZIP drive</td>\n",
       "      <td>15000</td>\n",
       "    </tr>\n",
       "    <tr>\n",
       "      <th>3</th>\n",
       "      <td>Floppy disk</td>\n",
       "      <td>500</td>\n",
       "    </tr>\n",
       "    <tr>\n",
       "      <th>4</th>\n",
       "      <td>Monitor</td>\n",
       "      <td>24000</td>\n",
       "    </tr>\n",
       "    <tr>\n",
       "      <th>5</th>\n",
       "      <td>DVD drive</td>\n",
       "      <td>18000</td>\n",
       "    </tr>\n",
       "    <tr>\n",
       "      <th>6</th>\n",
       "      <td>CD drive</td>\n",
       "      <td>9000</td>\n",
       "    </tr>\n",
       "    <tr>\n",
       "      <th>7</th>\n",
       "      <td>Printer</td>\n",
       "      <td>27000</td>\n",
       "    </tr>\n",
       "    <tr>\n",
       "      <th>8</th>\n",
       "      <td>Toner cartridge</td>\n",
       "      <td>6600</td>\n",
       "    </tr>\n",
       "    <tr>\n",
       "      <th>9</th>\n",
       "      <td>DVD burner</td>\n",
       "      <td>18000</td>\n",
       "    </tr>\n",
       "  </tbody>\n",
       "</table>\n",
       "</div>"
      ],
      "text/plain": [
       "              name  price_cents\n",
       "0       Hard drive        24000\n",
       "1           Memory        12000\n",
       "2        ZIP drive        15000\n",
       "3      Floppy disk          500\n",
       "4          Monitor        24000\n",
       "5        DVD drive        18000\n",
       "6         CD drive         9000\n",
       "7          Printer        27000\n",
       "8  Toner cartridge         6600\n",
       "9       DVD burner        18000"
      ]
     },
     "execution_count": 68,
     "metadata": {},
     "output_type": "execute_result"
    }
   ],
   "source": [
    "dfp.assign(\n",
    "price_cents = dfp['price']*100)[['name','price_cents']]"
   ]
  },
  {
   "cell_type": "code",
   "execution_count": 69,
   "metadata": {
    "ExecuteTime": {
     "end_time": "2020-03-11T03:06:00.901290Z",
     "start_time": "2020-03-11T03:06:00.659996Z"
    }
   },
   "outputs": [
    {
     "name": "stdout",
     "output_type": "stream",
     "text": [
      "+---------------+-----------+\n",
      "|           name|price_cents|\n",
      "+---------------+-----------+\n",
      "|     Hard drive|      24000|\n",
      "|         Memory|      12000|\n",
      "|      ZIP drive|      15000|\n",
      "|    Floppy disk|        500|\n",
      "|        Monitor|      24000|\n",
      "|      DVD drive|      18000|\n",
      "|       CD drive|       9000|\n",
      "|        Printer|      27000|\n",
      "|Toner cartridge|       6600|\n",
      "|     DVD burner|      18000|\n",
      "+---------------+-----------+\n",
      "\n"
     ]
    }
   ],
   "source": [
    "sdfp.withColumn('price_cents',\n",
    "               sdfp['price']*100)[['name', 'price_cents']].show()"
   ]
  },
  {
   "cell_type": "code",
   "execution_count": 70,
   "metadata": {
    "ExecuteTime": {
     "end_time": "2020-03-11T03:06:01.044885Z",
     "start_time": "2020-03-11T03:06:00.906583Z"
    }
   },
   "outputs": [
    {
     "name": "stdout",
     "output_type": "stream",
     "text": [
      "+---------------+-----------+\n",
      "|           name|price_cents|\n",
      "+---------------+-----------+\n",
      "|     Hard drive|      24000|\n",
      "|         Memory|      12000|\n",
      "|      ZIP drive|      15000|\n",
      "|    Floppy disk|        500|\n",
      "|        Monitor|      24000|\n",
      "|      DVD drive|      18000|\n",
      "|       CD drive|       9000|\n",
      "|        Printer|      27000|\n",
      "|Toner cartridge|       6600|\n",
      "|     DVD burner|      18000|\n",
      "+---------------+-----------+\n",
      "\n"
     ]
    }
   ],
   "source": [
    "spark.sql(\"select name, price * 100 as price_cents from Products\").show()"
   ]
  },
  {
   "cell_type": "markdown",
   "metadata": {},
   "source": [
    "## Compute the average price of all the products."
   ]
  },
  {
   "cell_type": "markdown",
   "metadata": {},
   "source": [
    "<div class=\"alert alert-block alert-info\">\n",
    "<b>Question:</b> \n",
    "    6. Compute the average price of all the products.\n",
    "</div> "
   ]
  },
  {
   "cell_type": "code",
   "execution_count": 71,
   "metadata": {
    "ExecuteTime": {
     "end_time": "2020-03-11T03:06:01.053924Z",
     "start_time": "2020-03-11T03:06:01.048709Z"
    }
   },
   "outputs": [
    {
     "data": {
      "text/plain": [
       "154.1"
      ]
     },
     "execution_count": 71,
     "metadata": {},
     "output_type": "execute_result"
    }
   ],
   "source": [
    "dfp['price'].mean()"
   ]
  },
  {
   "cell_type": "code",
   "execution_count": 72,
   "metadata": {
    "ExecuteTime": {
     "end_time": "2020-03-11T03:06:01.702153Z",
     "start_time": "2020-03-11T03:06:01.056937Z"
    }
   },
   "outputs": [
    {
     "name": "stdout",
     "output_type": "stream",
     "text": [
      "+----------+\n",
      "|avg(price)|\n",
      "+----------+\n",
      "|     154.1|\n",
      "+----------+\n",
      "\n"
     ]
    }
   ],
   "source": [
    "sdfp.select(_mean('price')).show()"
   ]
  },
  {
   "cell_type": "code",
   "execution_count": 73,
   "metadata": {
    "ExecuteTime": {
     "end_time": "2020-03-11T03:06:01.970874Z",
     "start_time": "2020-03-11T03:06:01.704380Z"
    }
   },
   "outputs": [
    {
     "name": "stdout",
     "output_type": "stream",
     "text": [
      "+----------+\n",
      "|avg(price)|\n",
      "+----------+\n",
      "|     154.1|\n",
      "+----------+\n",
      "\n"
     ]
    }
   ],
   "source": [
    "sdfp.select(F.mean(sdfp['price'])).show()"
   ]
  },
  {
   "cell_type": "code",
   "execution_count": 74,
   "metadata": {
    "ExecuteTime": {
     "end_time": "2020-03-11T03:06:02.227179Z",
     "start_time": "2020-03-11T03:06:01.973405Z"
    }
   },
   "outputs": [
    {
     "data": {
      "text/plain": [
       "154.1"
      ]
     },
     "execution_count": 74,
     "metadata": {},
     "output_type": "execute_result"
    }
   ],
   "source": [
    "sdfp.select(_mean('price')).collect()[0].asDict()['avg(price)']"
   ]
  },
  {
   "cell_type": "code",
   "execution_count": 75,
   "metadata": {
    "ExecuteTime": {
     "end_time": "2020-03-11T03:06:04.426892Z",
     "start_time": "2020-03-11T03:06:02.229038Z"
    }
   },
   "outputs": [
    {
     "data": {
      "text/plain": [
       "Row(price=270)"
      ]
     },
     "execution_count": 75,
     "metadata": {},
     "output_type": "execute_result"
    }
   ],
   "source": [
    "sdf.select(\"price\").rdd.max() # .max() works, .mean() fails."
   ]
  },
  {
   "cell_type": "code",
   "execution_count": 76,
   "metadata": {
    "ExecuteTime": {
     "end_time": "2020-03-11T03:06:04.431543Z",
     "start_time": "2020-03-11T03:06:04.429132Z"
    }
   },
   "outputs": [],
   "source": [
    "# [i for i in dir(sdf.select(\"price\").rdd) if 'm' in i if i[0]!='_']\n",
    "# this shows mean, but does not work"
   ]
  },
  {
   "cell_type": "code",
   "execution_count": 77,
   "metadata": {
    "ExecuteTime": {
     "end_time": "2020-03-11T03:06:04.648763Z",
     "start_time": "2020-03-11T03:06:04.433643Z"
    }
   },
   "outputs": [
    {
     "name": "stdout",
     "output_type": "stream",
     "text": [
      "+----+-----+------------+\n",
      "|code|price|manufacturer|\n",
      "+----+-----+------------+\n",
      "| 5.5|154.1|         3.4|\n",
      "+----+-----+------------+\n",
      "\n"
     ]
    }
   ],
   "source": [
    "sdfp.select(*[F.mean(c).alias(c) for c in ['code','price','manufacturer']]).show()"
   ]
  },
  {
   "cell_type": "code",
   "execution_count": 78,
   "metadata": {
    "ExecuteTime": {
     "end_time": "2020-03-11T03:06:05.254577Z",
     "start_time": "2020-03-11T03:06:04.651093Z"
    }
   },
   "outputs": [
    {
     "name": "stdout",
     "output_type": "stream",
     "text": [
      "+-------+------------------+---------+-----------------+-----------------+\n",
      "|summary|              code|     name|            price|     manufacturer|\n",
      "+-------+------------------+---------+-----------------+-----------------+\n",
      "|  count|                10|       10|               10|               10|\n",
      "|   mean|               5.5|     null|            154.1|              3.4|\n",
      "| stddev|3.0276503540974917|     null|84.86125931974692|1.776388345929897|\n",
      "|    min|                 1| CD drive|                5|                1|\n",
      "|    max|                10|ZIP drive|              270|                6|\n",
      "+-------+------------------+---------+-----------------+-----------------+\n",
      "\n"
     ]
    }
   ],
   "source": [
    "sdfp.describe().show()"
   ]
  },
  {
   "cell_type": "code",
   "execution_count": 79,
   "metadata": {
    "ExecuteTime": {
     "end_time": "2020-03-11T03:06:05.382566Z",
     "start_time": "2020-03-11T03:06:05.256821Z"
    }
   },
   "outputs": [
    {
     "name": "stdout",
     "output_type": "stream",
     "text": [
      "+---------+----------+-----------------+\n",
      "|avg(code)|min(price)|max(manufacturer)|\n",
      "+---------+----------+-----------------+\n",
      "|      5.5|         5|                6|\n",
      "+---------+----------+-----------------+\n",
      "\n"
     ]
    }
   ],
   "source": [
    "sdfp.select([_mean('code'),\n",
    "             _min('price'),\n",
    "             _max('manufacturer')]\n",
    "           ).show()"
   ]
  },
  {
   "cell_type": "code",
   "execution_count": 80,
   "metadata": {
    "ExecuteTime": {
     "end_time": "2020-03-11T03:06:05.586558Z",
     "start_time": "2020-03-11T03:06:05.384663Z"
    }
   },
   "outputs": [
    {
     "name": "stdout",
     "output_type": "stream",
     "text": [
      "+----------+\n",
      "|avg(price)|\n",
      "+----------+\n",
      "|     154.1|\n",
      "+----------+\n",
      "\n"
     ]
    }
   ],
   "source": [
    "spark.sql(\"select avg(price) from Products\").show()"
   ]
  },
  {
   "cell_type": "markdown",
   "metadata": {},
   "source": [
    "## Compute the average price of all products with manufacturer code equal to 2."
   ]
  },
  {
   "cell_type": "markdown",
   "metadata": {},
   "source": [
    "<div class=\"alert alert-block alert-info\">\n",
    "<b>Question:</b> \n",
    "    7. Compute the average price of all products with manufacturer code equal to 2.\n",
    "</div> "
   ]
  },
  {
   "cell_type": "code",
   "execution_count": 81,
   "metadata": {
    "ExecuteTime": {
     "end_time": "2020-03-11T03:06:05.606417Z",
     "start_time": "2020-03-11T03:06:05.588534Z"
    }
   },
   "outputs": [
    {
     "data": {
      "text/html": [
       "<div>\n",
       "<style scoped>\n",
       "    .dataframe tbody tr th:only-of-type {\n",
       "        vertical-align: middle;\n",
       "    }\n",
       "\n",
       "    .dataframe tbody tr th {\n",
       "        vertical-align: top;\n",
       "    }\n",
       "\n",
       "    .dataframe thead th {\n",
       "        text-align: right;\n",
       "    }\n",
       "</style>\n",
       "<table border=\"1\" class=\"dataframe\">\n",
       "  <thead>\n",
       "    <tr style=\"text-align: right;\">\n",
       "      <th></th>\n",
       "      <th>code</th>\n",
       "      <th>name</th>\n",
       "      <th>price</th>\n",
       "      <th>manufacturer</th>\n",
       "    </tr>\n",
       "  </thead>\n",
       "  <tbody>\n",
       "    <tr>\n",
       "      <th>5</th>\n",
       "      <td>6</td>\n",
       "      <td>DVD drive</td>\n",
       "      <td>180</td>\n",
       "      <td>2</td>\n",
       "    </tr>\n",
       "    <tr>\n",
       "      <th>6</th>\n",
       "      <td>7</td>\n",
       "      <td>CD drive</td>\n",
       "      <td>90</td>\n",
       "      <td>2</td>\n",
       "    </tr>\n",
       "    <tr>\n",
       "      <th>9</th>\n",
       "      <td>10</td>\n",
       "      <td>DVD burner</td>\n",
       "      <td>180</td>\n",
       "      <td>2</td>\n",
       "    </tr>\n",
       "  </tbody>\n",
       "</table>\n",
       "</div>"
      ],
      "text/plain": [
       "   code        name  price  manufacturer\n",
       "5     6   DVD drive    180             2\n",
       "6     7    CD drive     90             2\n",
       "9    10  DVD burner    180             2"
      ]
     },
     "execution_count": 81,
     "metadata": {},
     "output_type": "execute_result"
    }
   ],
   "source": [
    "dfp[dfp.manufacturer==2]"
   ]
  },
  {
   "cell_type": "code",
   "execution_count": 82,
   "metadata": {
    "ExecuteTime": {
     "end_time": "2020-03-11T03:06:05.614438Z",
     "start_time": "2020-03-11T03:06:05.608544Z"
    }
   },
   "outputs": [
    {
     "data": {
      "text/plain": [
       "150.0"
      ]
     },
     "execution_count": 82,
     "metadata": {},
     "output_type": "execute_result"
    }
   ],
   "source": [
    "dfp.price[dfp.manufacturer==2].mean()"
   ]
  },
  {
   "cell_type": "code",
   "execution_count": 83,
   "metadata": {
    "ExecuteTime": {
     "end_time": "2020-03-11T03:06:05.622527Z",
     "start_time": "2020-03-11T03:06:05.616637Z"
    }
   },
   "outputs": [
    {
     "data": {
      "text/plain": [
       "150.0"
      ]
     },
     "execution_count": 83,
     "metadata": {},
     "output_type": "execute_result"
    }
   ],
   "source": [
    "# Never do:\n",
    "dfp[dfp.manufacturer==2]['price'].mean()\n",
    "# never select whole dataframe, if you just need one series."
   ]
  },
  {
   "cell_type": "code",
   "execution_count": 84,
   "metadata": {
    "ExecuteTime": {
     "end_time": "2020-03-11T03:06:05.626997Z",
     "start_time": "2020-03-11T03:06:05.624812Z"
    }
   },
   "outputs": [],
   "source": [
    "#********* spark***************"
   ]
  },
  {
   "cell_type": "code",
   "execution_count": 85,
   "metadata": {
    "ExecuteTime": {
     "end_time": "2020-03-11T03:06:05.879203Z",
     "start_time": "2020-03-11T03:06:05.629553Z"
    }
   },
   "outputs": [
    {
     "name": "stdout",
     "output_type": "stream",
     "text": [
      "+-----+\n",
      "|price|\n",
      "+-----+\n",
      "|  180|\n",
      "|   90|\n",
      "|  180|\n",
      "+-----+\n",
      "\n"
     ]
    }
   ],
   "source": [
    "sdfp[['price']][sdfp.manufacturer==2].show()"
   ]
  },
  {
   "cell_type": "code",
   "execution_count": 86,
   "metadata": {
    "ExecuteTime": {
     "end_time": "2020-03-11T03:06:06.157630Z",
     "start_time": "2020-03-11T03:06:05.882559Z"
    }
   },
   "outputs": [
    {
     "name": "stdout",
     "output_type": "stream",
     "text": [
      "+-------+-----------------+\n",
      "|summary|            price|\n",
      "+-------+-----------------+\n",
      "|  count|                3|\n",
      "|   mean|            150.0|\n",
      "| stddev|51.96152422706632|\n",
      "|    min|               90|\n",
      "|    max|              180|\n",
      "+-------+-----------------+\n",
      "\n"
     ]
    }
   ],
   "source": [
    "sdfp[['price']][sdfp.manufacturer==2].describe().show()"
   ]
  },
  {
   "cell_type": "code",
   "execution_count": 87,
   "metadata": {
    "ExecuteTime": {
     "end_time": "2020-03-11T03:06:06.408535Z",
     "start_time": "2020-03-11T03:06:06.160234Z"
    }
   },
   "outputs": [
    {
     "name": "stdout",
     "output_type": "stream",
     "text": [
      "+----------+\n",
      "|avg(price)|\n",
      "+----------+\n",
      "|     150.0|\n",
      "+----------+\n",
      "\n"
     ]
    }
   ],
   "source": [
    "sdfp[['price']][sdfp.manufacturer==2].agg({\"price\": \"avg\"}).show()"
   ]
  },
  {
   "cell_type": "code",
   "execution_count": 88,
   "metadata": {
    "ExecuteTime": {
     "end_time": "2020-03-11T03:06:06.912656Z",
     "start_time": "2020-03-11T03:06:06.410652Z"
    }
   },
   "outputs": [
    {
     "name": "stdout",
     "output_type": "stream",
     "text": [
      "+----------+\n",
      "|avg(price)|\n",
      "+----------+\n",
      "|     150.0|\n",
      "+----------+\n",
      "\n"
     ]
    }
   ],
   "source": [
    "sdfp[['price']][sdfp.manufacturer==2].agg(_avg(_col('price'))).show()"
   ]
  },
  {
   "cell_type": "code",
   "execution_count": 89,
   "metadata": {
    "ExecuteTime": {
     "end_time": "2020-03-11T03:06:07.075806Z",
     "start_time": "2020-03-11T03:06:06.916831Z"
    }
   },
   "outputs": [
    {
     "name": "stdout",
     "output_type": "stream",
     "text": [
      "+----------+\n",
      "|avg(price)|\n",
      "+----------+\n",
      "|     150.0|\n",
      "+----------+\n",
      "\n"
     ]
    }
   ],
   "source": [
    "# bad\n",
    "sdfp.filter(sdfp['manufacturer'] == 2).agg(_avg(_col(\"price\"))).show()"
   ]
  },
  {
   "cell_type": "code",
   "execution_count": 90,
   "metadata": {
    "ExecuteTime": {
     "end_time": "2020-03-11T03:06:07.284055Z",
     "start_time": "2020-03-11T03:06:07.078608Z"
    }
   },
   "outputs": [
    {
     "name": "stdout",
     "output_type": "stream",
     "text": [
      "+------------------------------------------------+\n",
      "|avg(CASE WHEN (manufacturer = 2) THEN price END)|\n",
      "+------------------------------------------------+\n",
      "|                                           150.0|\n",
      "+------------------------------------------------+\n",
      "\n"
     ]
    }
   ],
   "source": [
    "# good\n",
    "sdfp.select(_avg(_when(sdfp['manufacturer']==2, \n",
    "                       sdfp['price']))\n",
    "           ).show()"
   ]
  },
  {
   "cell_type": "code",
   "execution_count": 91,
   "metadata": {
    "ExecuteTime": {
     "end_time": "2020-03-11T03:06:07.446825Z",
     "start_time": "2020-03-11T03:06:07.286516Z"
    }
   },
   "outputs": [
    {
     "name": "stdout",
     "output_type": "stream",
     "text": [
      "+----------+\n",
      "|avg(price)|\n",
      "+----------+\n",
      "|     150.0|\n",
      "+----------+\n",
      "\n"
     ]
    }
   ],
   "source": [
    "spark.sql(\"\"\"\n",
    "select avg(price)\n",
    "from Products\n",
    "where manufacturer =2\n",
    "\"\"\").show()"
   ]
  },
  {
   "cell_type": "markdown",
   "metadata": {},
   "source": [
    "## Compute the number of products with a price larger than or equal to 180."
   ]
  },
  {
   "cell_type": "markdown",
   "metadata": {},
   "source": [
    "<div class=\"alert alert-block alert-info\">\n",
    "<b>Question:</b> \n",
    "    8. Compute the number of products with a price larger than or equal to $180.\n",
    "</div> "
   ]
  },
  {
   "cell_type": "code",
   "execution_count": 92,
   "metadata": {
    "ExecuteTime": {
     "end_time": "2020-03-11T03:06:07.458714Z",
     "start_time": "2020-03-11T03:06:07.450403Z"
    }
   },
   "outputs": [
    {
     "data": {
      "text/plain": [
       "5"
      ]
     },
     "execution_count": 92,
     "metadata": {},
     "output_type": "execute_result"
    }
   ],
   "source": [
    "dfp[dfp.price >= 180].shape[0]"
   ]
  },
  {
   "cell_type": "code",
   "execution_count": 93,
   "metadata": {
    "ExecuteTime": {
     "end_time": "2020-03-11T03:06:07.465105Z",
     "start_time": "2020-03-11T03:06:07.460569Z"
    }
   },
   "outputs": [
    {
     "data": {
      "text/plain": [
       "5"
      ]
     },
     "execution_count": 93,
     "metadata": {},
     "output_type": "execute_result"
    }
   ],
   "source": [
    "dfp.price[dfp.price >= 180].shape[0]"
   ]
  },
  {
   "cell_type": "code",
   "execution_count": 94,
   "metadata": {
    "ExecuteTime": {
     "end_time": "2020-03-11T03:06:07.739611Z",
     "start_time": "2020-03-11T03:06:07.466935Z"
    }
   },
   "outputs": [
    {
     "name": "stdout",
     "output_type": "stream",
     "text": [
      "+-----+\n",
      "|price|\n",
      "+-----+\n",
      "|  240|\n",
      "|  240|\n",
      "|  180|\n",
      "|  270|\n",
      "|  180|\n",
      "+-----+\n",
      "\n"
     ]
    }
   ],
   "source": [
    "sdfp[['price']][sdfp.price>=180].show()"
   ]
  },
  {
   "cell_type": "code",
   "execution_count": 95,
   "metadata": {
    "ExecuteTime": {
     "end_time": "2020-03-11T03:06:07.956448Z",
     "start_time": "2020-03-11T03:06:07.743335Z"
    }
   },
   "outputs": [
    {
     "name": "stdout",
     "output_type": "stream",
     "text": [
      "+------------+\n",
      "|count(price)|\n",
      "+------------+\n",
      "|           5|\n",
      "+------------+\n",
      "\n"
     ]
    }
   ],
   "source": [
    "sdfp[['price']][sdfp.price>=180].agg({'price':'count'}).show()"
   ]
  },
  {
   "cell_type": "code",
   "execution_count": 96,
   "metadata": {
    "ExecuteTime": {
     "end_time": "2020-03-11T03:06:08.094285Z",
     "start_time": "2020-03-11T03:06:07.960268Z"
    }
   },
   "outputs": [
    {
     "name": "stdout",
     "output_type": "stream",
     "text": [
      "+------------+\n",
      "|count(price)|\n",
      "+------------+\n",
      "|           5|\n",
      "+------------+\n",
      "\n"
     ]
    }
   ],
   "source": [
    "sdfp[['price']][_col('price') >=180].agg({'price':'count'}).show()"
   ]
  },
  {
   "cell_type": "code",
   "execution_count": 97,
   "metadata": {
    "ExecuteTime": {
     "end_time": "2020-03-11T03:06:08.280768Z",
     "start_time": "2020-03-11T03:06:08.098906Z"
    }
   },
   "outputs": [
    {
     "name": "stdout",
     "output_type": "stream",
     "text": [
      "+------------+\n",
      "|count(price)|\n",
      "+------------+\n",
      "|           5|\n",
      "+------------+\n",
      "\n"
     ]
    }
   ],
   "source": [
    "spark.sql(\"\"\"\n",
    "select count(price)\n",
    "from Products\n",
    "where price >= 180\n",
    "\"\"\").show()"
   ]
  },
  {
   "cell_type": "markdown",
   "metadata": {},
   "source": [
    "##  Select the name and price of all products with a price larger than or equal to 180, and sort first by price (in descending order), and then by name (in ascending order)."
   ]
  },
  {
   "cell_type": "markdown",
   "metadata": {},
   "source": [
    "<div class=\"alert alert-block alert-info\">\n",
    "<b>Question:</b> \n",
    "    9. Select the name and price of all products with a price larger than or equal to $180, and sort first by price (in descending order), and then by name (in ascending order).\n",
    "</div> "
   ]
  },
  {
   "cell_type": "code",
   "execution_count": 98,
   "metadata": {
    "ExecuteTime": {
     "end_time": "2020-03-11T03:06:08.299935Z",
     "start_time": "2020-03-11T03:06:08.282803Z"
    }
   },
   "outputs": [
    {
     "data": {
      "text/html": [
       "<div>\n",
       "<style scoped>\n",
       "    .dataframe tbody tr th:only-of-type {\n",
       "        vertical-align: middle;\n",
       "    }\n",
       "\n",
       "    .dataframe tbody tr th {\n",
       "        vertical-align: top;\n",
       "    }\n",
       "\n",
       "    .dataframe thead th {\n",
       "        text-align: right;\n",
       "    }\n",
       "</style>\n",
       "<table border=\"1\" class=\"dataframe\">\n",
       "  <thead>\n",
       "    <tr style=\"text-align: right;\">\n",
       "      <th></th>\n",
       "      <th>name</th>\n",
       "      <th>price</th>\n",
       "    </tr>\n",
       "  </thead>\n",
       "  <tbody>\n",
       "    <tr>\n",
       "      <th>7</th>\n",
       "      <td>Printer</td>\n",
       "      <td>270</td>\n",
       "    </tr>\n",
       "    <tr>\n",
       "      <th>0</th>\n",
       "      <td>Hard drive</td>\n",
       "      <td>240</td>\n",
       "    </tr>\n",
       "    <tr>\n",
       "      <th>4</th>\n",
       "      <td>Monitor</td>\n",
       "      <td>240</td>\n",
       "    </tr>\n",
       "    <tr>\n",
       "      <th>9</th>\n",
       "      <td>DVD burner</td>\n",
       "      <td>180</td>\n",
       "    </tr>\n",
       "    <tr>\n",
       "      <th>5</th>\n",
       "      <td>DVD drive</td>\n",
       "      <td>180</td>\n",
       "    </tr>\n",
       "  </tbody>\n",
       "</table>\n",
       "</div>"
      ],
      "text/plain": [
       "         name  price\n",
       "7     Printer    270\n",
       "0  Hard drive    240\n",
       "4     Monitor    240\n",
       "9  DVD burner    180\n",
       "5   DVD drive    180"
      ]
     },
     "execution_count": 98,
     "metadata": {},
     "output_type": "execute_result"
    }
   ],
   "source": [
    "dfp[['name','price']].query(\"price >= 180\")\\\n",
    ".sort_values(['price','name'],ascending=[False,True])"
   ]
  },
  {
   "cell_type": "code",
   "execution_count": 99,
   "metadata": {
    "ExecuteTime": {
     "end_time": "2020-03-11T03:06:08.587209Z",
     "start_time": "2020-03-11T03:06:08.302717Z"
    }
   },
   "outputs": [
    {
     "name": "stdout",
     "output_type": "stream",
     "text": [
      "+----------+-----+\n",
      "|      name|price|\n",
      "+----------+-----+\n",
      "|   Printer|  270|\n",
      "|Hard drive|  240|\n",
      "|   Monitor|  240|\n",
      "|DVD burner|  180|\n",
      "| DVD drive|  180|\n",
      "+----------+-----+\n",
      "\n"
     ]
    }
   ],
   "source": [
    "sdfp.select('name','price').filter(sdfp.price >= 180)\\\n",
    ".orderBy(['price','name'],ascending=[False,True]).show()"
   ]
  },
  {
   "cell_type": "code",
   "execution_count": 100,
   "metadata": {
    "ExecuteTime": {
     "end_time": "2020-03-11T03:06:08.810474Z",
     "start_time": "2020-03-11T03:06:08.590450Z"
    }
   },
   "outputs": [
    {
     "name": "stdout",
     "output_type": "stream",
     "text": [
      "+----------+-----+\n",
      "|      name|price|\n",
      "+----------+-----+\n",
      "|   Printer|  270|\n",
      "|Hard drive|  240|\n",
      "|   Monitor|  240|\n",
      "|DVD burner|  180|\n",
      "| DVD drive|  180|\n",
      "+----------+-----+\n",
      "\n"
     ]
    }
   ],
   "source": [
    "sdfp[['name','price']][sdfp.price >= 180]\\\n",
    ".orderBy(['price','name'],ascending=[False,True]).show()"
   ]
  },
  {
   "cell_type": "code",
   "execution_count": 101,
   "metadata": {
    "ExecuteTime": {
     "end_time": "2020-03-11T03:06:09.014100Z",
     "start_time": "2020-03-11T03:06:08.819771Z"
    }
   },
   "outputs": [
    {
     "name": "stdout",
     "output_type": "stream",
     "text": [
      "+----------+-----+\n",
      "|      name|price|\n",
      "+----------+-----+\n",
      "|   Printer|  270|\n",
      "|Hard drive|  240|\n",
      "|   Monitor|  240|\n",
      "|DVD burner|  180|\n",
      "| DVD drive|  180|\n",
      "+----------+-----+\n",
      "\n"
     ]
    }
   ],
   "source": [
    "sdfp[['name','price']].filter(sdfp.price >= 180)\\\n",
    ".orderBy(F.desc('price'),F.asc('name')).show()"
   ]
  },
  {
   "cell_type": "code",
   "execution_count": 102,
   "metadata": {
    "ExecuteTime": {
     "end_time": "2020-03-11T03:06:09.022158Z",
     "start_time": "2020-03-11T03:06:09.018061Z"
    }
   },
   "outputs": [],
   "source": [
    "# sql"
   ]
  },
  {
   "cell_type": "code",
   "execution_count": 103,
   "metadata": {
    "ExecuteTime": {
     "end_time": "2020-03-11T03:06:09.159559Z",
     "start_time": "2020-03-11T03:06:09.025492Z"
    }
   },
   "outputs": [
    {
     "name": "stdout",
     "output_type": "stream",
     "text": [
      "+----------+-----+\n",
      "|      name|price|\n",
      "+----------+-----+\n",
      "|   Printer|  270|\n",
      "|Hard drive|  240|\n",
      "|   Monitor|  240|\n",
      "|DVD burner|  180|\n",
      "| DVD drive|  180|\n",
      "+----------+-----+\n",
      "\n"
     ]
    }
   ],
   "source": [
    "spark.sql(\"\"\"\n",
    "select name, price\n",
    "from Products\n",
    "where price >= 180\n",
    "order by price desc, name asc\n",
    "\"\"\").show()"
   ]
  },
  {
   "cell_type": "markdown",
   "metadata": {},
   "source": [
    "## Select all the data from the products, including all the data for each product's manufacturer."
   ]
  },
  {
   "cell_type": "markdown",
   "metadata": {},
   "source": [
    "<div class=\"alert alert-block alert-info\">\n",
    "<b>Question:</b> \n",
    "    10. Select all the data from the products, including all the data for each product's manufacturer.\n",
    "</div> "
   ]
  },
  {
   "cell_type": "code",
   "execution_count": 104,
   "metadata": {
    "ExecuteTime": {
     "end_time": "2020-03-11T03:06:09.166293Z",
     "start_time": "2020-03-11T03:06:09.163438Z"
    }
   },
   "outputs": [],
   "source": [
    "# dfp.merge(dfm,left_on='manufacturer', right_on='code',how='left')"
   ]
  },
  {
   "cell_type": "code",
   "execution_count": 105,
   "metadata": {
    "ExecuteTime": {
     "end_time": "2020-03-11T03:06:09.837896Z",
     "start_time": "2020-03-11T03:06:09.173453Z"
    }
   },
   "outputs": [
    {
     "name": "stdout",
     "output_type": "stream",
     "text": [
      "+----+---------------+-----+------------+----+---------------+\n",
      "|code|           name|price|manufacturer|code|           name|\n",
      "+----+---------------+-----+------------+----+---------------+\n",
      "|   5|        Monitor|  240|           1|   1|           Sony|\n",
      "|   2|         Memory|  120|           6|   6|     Winchester|\n",
      "|   4|    Floppy disk|    5|           6|   6|     Winchester|\n",
      "|   8|        Printer|  270|           3|   3|Hewlett-Packard|\n",
      "|   9|Toner cartridge|   66|           3|   3|Hewlett-Packard|\n",
      "|   1|     Hard drive|  240|           5|   5|        Fujitsu|\n",
      "|   3|      ZIP drive|  150|           4|   4|         Iomega|\n",
      "|   6|      DVD drive|  180|           2|   2|  Creative Labs|\n",
      "|   7|       CD drive|   90|           2|   2|  Creative Labs|\n",
      "|  10|     DVD burner|  180|           2|   2|  Creative Labs|\n",
      "+----+---------------+-----+------------+----+---------------+\n",
      "\n"
     ]
    }
   ],
   "source": [
    "sdfp.join(sdfm,sdfp.manufacturer==sdfm.code).show() # this is bad, does not work."
   ]
  },
  {
   "cell_type": "code",
   "execution_count": 106,
   "metadata": {
    "ExecuteTime": {
     "end_time": "2020-03-11T03:06:09.859470Z",
     "start_time": "2020-03-11T03:06:09.857231Z"
    }
   },
   "outputs": [],
   "source": [
    "# sdfp.join(sdfm,sdfp.manufacturer==sdfm.code).select('name').show()\n",
    "# Py4JJavaError\n",
    "# AnalysisException: \"Reference 'name' is ambiguous, could be: name, name.;\""
   ]
  },
  {
   "cell_type": "code",
   "execution_count": 107,
   "metadata": {
    "ExecuteTime": {
     "end_time": "2020-03-11T03:06:09.901910Z",
     "start_time": "2020-03-11T03:06:09.865818Z"
    }
   },
   "outputs": [
    {
     "data": {
      "text/plain": [
       "[Row(code=1, name='Hard drive', price=240, manufacturer=5)]"
      ]
     },
     "execution_count": 107,
     "metadata": {},
     "output_type": "execute_result"
    }
   ],
   "source": [
    "sdfp.take(1)"
   ]
  },
  {
   "cell_type": "code",
   "execution_count": 108,
   "metadata": {
    "ExecuteTime": {
     "end_time": "2020-03-11T03:06:09.939999Z",
     "start_time": "2020-03-11T03:06:09.904902Z"
    }
   },
   "outputs": [
    {
     "data": {
      "text/plain": [
       "[Row(code=1, name='Sony')]"
      ]
     },
     "execution_count": 108,
     "metadata": {},
     "output_type": "execute_result"
    }
   ],
   "source": [
    "sdfm.take(1)"
   ]
  },
  {
   "cell_type": "code",
   "execution_count": 109,
   "metadata": {
    "ExecuteTime": {
     "end_time": "2020-03-11T03:06:09.944983Z",
     "start_time": "2020-03-11T03:06:09.942174Z"
    }
   },
   "outputs": [],
   "source": [
    "# sdfp.show(2)"
   ]
  },
  {
   "cell_type": "code",
   "execution_count": 110,
   "metadata": {
    "ExecuteTime": {
     "end_time": "2020-03-11T03:06:10.035798Z",
     "start_time": "2020-03-11T03:06:09.947029Z"
    }
   },
   "outputs": [
    {
     "name": "stdout",
     "output_type": "stream",
     "text": [
      "+----+-------------+\n",
      "|code|         name|\n",
      "+----+-------------+\n",
      "|   1|         Sony|\n",
      "|   2|Creative Labs|\n",
      "+----+-------------+\n",
      "only showing top 2 rows\n",
      "\n"
     ]
    }
   ],
   "source": [
    "sdfm.show(2)"
   ]
  },
  {
   "cell_type": "code",
   "execution_count": 111,
   "metadata": {
    "ExecuteTime": {
     "end_time": "2020-03-11T03:06:10.861535Z",
     "start_time": "2020-03-11T03:06:10.040751Z"
    }
   },
   "outputs": [
    {
     "name": "stdout",
     "output_type": "stream",
     "text": [
      "+---------+---------------+-----+------------+---------+---------------+\n",
      "|code_proj|      name_proj|price|manufacturer|code_manu|           manu|\n",
      "+---------+---------------+-----+------------+---------+---------------+\n",
      "|        5|        Monitor|  240|           1|        1|           Sony|\n",
      "|        2|         Memory|  120|           6|        6|     Winchester|\n",
      "|        4|    Floppy disk|    5|           6|        6|     Winchester|\n",
      "|        8|        Printer|  270|           3|        3|Hewlett-Packard|\n",
      "|        9|Toner cartridge|   66|           3|        3|Hewlett-Packard|\n",
      "|        1|     Hard drive|  240|           5|        5|        Fujitsu|\n",
      "|        3|      ZIP drive|  150|           4|        4|         Iomega|\n",
      "|        6|      DVD drive|  180|           2|        2|  Creative Labs|\n",
      "|        7|       CD drive|   90|           2|        2|  Creative Labs|\n",
      "|       10|     DVD burner|  180|           2|        2|  Creative Labs|\n",
      "+---------+---------------+-----+------------+---------+---------------+\n",
      "\n"
     ]
    }
   ],
   "source": [
    "(sdfp.selectExpr('code as code_proj',\n",
    "                 'name as name_proj',\n",
    "                 'price','manufacturer')\n",
    "     .alias('A')\n",
    ".join(\n",
    "    sdfm.selectExpr('code as code_manu','name as manu')\n",
    "        .alias('B'),\n",
    "    _col('A.manufacturer') == _col('B.code_manu')\n",
    "      )\n",
    ".show()\n",
    ")\n",
    "\n"
   ]
  },
  {
   "cell_type": "code",
   "execution_count": 112,
   "metadata": {
    "ExecuteTime": {
     "end_time": "2020-03-11T03:06:10.882841Z",
     "start_time": "2020-03-11T03:06:10.863735Z"
    }
   },
   "outputs": [
    {
     "data": {
      "text/html": [
       "<div>\n",
       "<style scoped>\n",
       "    .dataframe tbody tr th:only-of-type {\n",
       "        vertical-align: middle;\n",
       "    }\n",
       "\n",
       "    .dataframe tbody tr th {\n",
       "        vertical-align: top;\n",
       "    }\n",
       "\n",
       "    .dataframe thead th {\n",
       "        text-align: right;\n",
       "    }\n",
       "</style>\n",
       "<table border=\"1\" class=\"dataframe\">\n",
       "  <thead>\n",
       "    <tr style=\"text-align: right;\">\n",
       "      <th></th>\n",
       "      <th>code_x</th>\n",
       "      <th>name_x</th>\n",
       "      <th>price</th>\n",
       "      <th>manufacturer</th>\n",
       "      <th>code_y</th>\n",
       "      <th>name_y</th>\n",
       "    </tr>\n",
       "  </thead>\n",
       "  <tbody>\n",
       "    <tr>\n",
       "      <th>0</th>\n",
       "      <td>1</td>\n",
       "      <td>Hard drive</td>\n",
       "      <td>240</td>\n",
       "      <td>5</td>\n",
       "      <td>5</td>\n",
       "      <td>Fujitsu</td>\n",
       "    </tr>\n",
       "    <tr>\n",
       "      <th>1</th>\n",
       "      <td>2</td>\n",
       "      <td>Memory</td>\n",
       "      <td>120</td>\n",
       "      <td>6</td>\n",
       "      <td>6</td>\n",
       "      <td>Winchester</td>\n",
       "    </tr>\n",
       "    <tr>\n",
       "      <th>2</th>\n",
       "      <td>3</td>\n",
       "      <td>ZIP drive</td>\n",
       "      <td>150</td>\n",
       "      <td>4</td>\n",
       "      <td>4</td>\n",
       "      <td>Iomega</td>\n",
       "    </tr>\n",
       "    <tr>\n",
       "      <th>3</th>\n",
       "      <td>4</td>\n",
       "      <td>Floppy disk</td>\n",
       "      <td>5</td>\n",
       "      <td>6</td>\n",
       "      <td>6</td>\n",
       "      <td>Winchester</td>\n",
       "    </tr>\n",
       "    <tr>\n",
       "      <th>4</th>\n",
       "      <td>5</td>\n",
       "      <td>Monitor</td>\n",
       "      <td>240</td>\n",
       "      <td>1</td>\n",
       "      <td>1</td>\n",
       "      <td>Sony</td>\n",
       "    </tr>\n",
       "    <tr>\n",
       "      <th>5</th>\n",
       "      <td>6</td>\n",
       "      <td>DVD drive</td>\n",
       "      <td>180</td>\n",
       "      <td>2</td>\n",
       "      <td>2</td>\n",
       "      <td>Creative Labs</td>\n",
       "    </tr>\n",
       "    <tr>\n",
       "      <th>6</th>\n",
       "      <td>7</td>\n",
       "      <td>CD drive</td>\n",
       "      <td>90</td>\n",
       "      <td>2</td>\n",
       "      <td>2</td>\n",
       "      <td>Creative Labs</td>\n",
       "    </tr>\n",
       "    <tr>\n",
       "      <th>7</th>\n",
       "      <td>8</td>\n",
       "      <td>Printer</td>\n",
       "      <td>270</td>\n",
       "      <td>3</td>\n",
       "      <td>3</td>\n",
       "      <td>Hewlett-Packard</td>\n",
       "    </tr>\n",
       "    <tr>\n",
       "      <th>8</th>\n",
       "      <td>9</td>\n",
       "      <td>Toner cartridge</td>\n",
       "      <td>66</td>\n",
       "      <td>3</td>\n",
       "      <td>3</td>\n",
       "      <td>Hewlett-Packard</td>\n",
       "    </tr>\n",
       "    <tr>\n",
       "      <th>9</th>\n",
       "      <td>10</td>\n",
       "      <td>DVD burner</td>\n",
       "      <td>180</td>\n",
       "      <td>2</td>\n",
       "      <td>2</td>\n",
       "      <td>Creative Labs</td>\n",
       "    </tr>\n",
       "  </tbody>\n",
       "</table>\n",
       "</div>"
      ],
      "text/plain": [
       "   code_x           name_x  price  manufacturer  code_y           name_y\n",
       "0       1       Hard drive    240             5       5          Fujitsu\n",
       "1       2           Memory    120             6       6       Winchester\n",
       "2       3        ZIP drive    150             4       4           Iomega\n",
       "3       4      Floppy disk      5             6       6       Winchester\n",
       "4       5          Monitor    240             1       1             Sony\n",
       "5       6        DVD drive    180             2       2    Creative Labs\n",
       "6       7         CD drive     90             2       2    Creative Labs\n",
       "7       8          Printer    270             3       3  Hewlett-Packard\n",
       "8       9  Toner cartridge     66             3       3  Hewlett-Packard\n",
       "9      10       DVD burner    180             2       2    Creative Labs"
      ]
     },
     "execution_count": 112,
     "metadata": {},
     "output_type": "execute_result"
    }
   ],
   "source": [
    "dfp.merge(dfm,left_on='manufacturer', right_on='code',how='left')"
   ]
  },
  {
   "cell_type": "code",
   "execution_count": 113,
   "metadata": {
    "ExecuteTime": {
     "end_time": "2020-03-11T03:06:12.019754Z",
     "start_time": "2020-03-11T03:06:10.885186Z"
    }
   },
   "outputs": [
    {
     "name": "stdout",
     "output_type": "stream",
     "text": [
      "+---------+---------------+-----+------------+---------+---------------+\n",
      "|code_proj|      name_proj|price|manufacturer|code_manu|      name_manu|\n",
      "+---------+---------------+-----+------------+---------+---------------+\n",
      "|        5|        Monitor|  240|           1|        1|           Sony|\n",
      "|        2|         Memory|  120|           6|        6|     Winchester|\n",
      "|        4|    Floppy disk|    5|           6|        6|     Winchester|\n",
      "|        8|        Printer|  270|           3|        3|Hewlett-Packard|\n",
      "|        9|Toner cartridge|   66|           3|        3|Hewlett-Packard|\n",
      "|        1|     Hard drive|  240|           5|        5|        Fujitsu|\n",
      "|        3|      ZIP drive|  150|           4|        4|         Iomega|\n",
      "|        6|      DVD drive|  180|           2|        2|  Creative Labs|\n",
      "|        7|       CD drive|   90|           2|        2|  Creative Labs|\n",
      "|       10|     DVD burner|  180|           2|        2|  Creative Labs|\n",
      "+---------+---------------+-----+------------+---------+---------------+\n",
      "\n"
     ]
    }
   ],
   "source": [
    "spark.sql(\"\"\"\n",
    "select P.code as code_proj, P.name as name_proj, price, \n",
    "       manufacturer, M.code as code_manu, M.name as name_manu\n",
    "from Products P inner join Manufacturers M\n",
    "on P.manufacturer = M.code\n",
    "\"\"\").show()"
   ]
  },
  {
   "cell_type": "markdown",
   "metadata": {},
   "source": [
    "## Select the product name, price, and manufacturer name of all the products."
   ]
  },
  {
   "cell_type": "markdown",
   "metadata": {},
   "source": [
    "<div class=\"alert alert-block alert-info\">\n",
    "<b>Question:</b> \n",
    "    11. Select the product name, price, and manufacturer name of all the products.\n",
    "</div> "
   ]
  },
  {
   "cell_type": "code",
   "execution_count": 114,
   "metadata": {
    "ExecuteTime": {
     "end_time": "2020-03-11T03:06:12.029935Z",
     "start_time": "2020-03-11T03:06:12.022006Z"
    }
   },
   "outputs": [
    {
     "data": {
      "text/html": [
       "<div>\n",
       "<style scoped>\n",
       "    .dataframe tbody tr th:only-of-type {\n",
       "        vertical-align: middle;\n",
       "    }\n",
       "\n",
       "    .dataframe tbody tr th {\n",
       "        vertical-align: top;\n",
       "    }\n",
       "\n",
       "    .dataframe thead th {\n",
       "        text-align: right;\n",
       "    }\n",
       "</style>\n",
       "<table border=\"1\" class=\"dataframe\">\n",
       "  <thead>\n",
       "    <tr style=\"text-align: right;\">\n",
       "      <th></th>\n",
       "      <th>code</th>\n",
       "      <th>name</th>\n",
       "      <th>price</th>\n",
       "      <th>manufacturer</th>\n",
       "    </tr>\n",
       "  </thead>\n",
       "  <tbody>\n",
       "    <tr>\n",
       "      <th>0</th>\n",
       "      <td>1</td>\n",
       "      <td>Hard drive</td>\n",
       "      <td>240</td>\n",
       "      <td>5</td>\n",
       "    </tr>\n",
       "    <tr>\n",
       "      <th>1</th>\n",
       "      <td>2</td>\n",
       "      <td>Memory</td>\n",
       "      <td>120</td>\n",
       "      <td>6</td>\n",
       "    </tr>\n",
       "  </tbody>\n",
       "</table>\n",
       "</div>"
      ],
      "text/plain": [
       "   code        name  price  manufacturer\n",
       "0     1  Hard drive    240             5\n",
       "1     2      Memory    120             6"
      ]
     },
     "execution_count": 114,
     "metadata": {},
     "output_type": "execute_result"
    }
   ],
   "source": [
    "dfp.head(2)"
   ]
  },
  {
   "cell_type": "code",
   "execution_count": 115,
   "metadata": {
    "ExecuteTime": {
     "end_time": "2020-03-11T03:06:12.045538Z",
     "start_time": "2020-03-11T03:06:12.032928Z"
    }
   },
   "outputs": [
    {
     "data": {
      "text/html": [
       "<div>\n",
       "<style scoped>\n",
       "    .dataframe tbody tr th:only-of-type {\n",
       "        vertical-align: middle;\n",
       "    }\n",
       "\n",
       "    .dataframe tbody tr th {\n",
       "        vertical-align: top;\n",
       "    }\n",
       "\n",
       "    .dataframe thead th {\n",
       "        text-align: right;\n",
       "    }\n",
       "</style>\n",
       "<table border=\"1\" class=\"dataframe\">\n",
       "  <thead>\n",
       "    <tr style=\"text-align: right;\">\n",
       "      <th></th>\n",
       "      <th>code</th>\n",
       "      <th>name</th>\n",
       "    </tr>\n",
       "  </thead>\n",
       "  <tbody>\n",
       "    <tr>\n",
       "      <th>0</th>\n",
       "      <td>1</td>\n",
       "      <td>Sony</td>\n",
       "    </tr>\n",
       "    <tr>\n",
       "      <th>1</th>\n",
       "      <td>2</td>\n",
       "      <td>Creative Labs</td>\n",
       "    </tr>\n",
       "  </tbody>\n",
       "</table>\n",
       "</div>"
      ],
      "text/plain": [
       "   code           name\n",
       "0     1           Sony\n",
       "1     2  Creative Labs"
      ]
     },
     "execution_count": 115,
     "metadata": {},
     "output_type": "execute_result"
    }
   ],
   "source": [
    "dfm.head(2)"
   ]
  },
  {
   "cell_type": "code",
   "execution_count": 116,
   "metadata": {
    "ExecuteTime": {
     "end_time": "2020-03-11T03:06:12.064866Z",
     "start_time": "2020-03-11T03:06:12.049419Z"
    }
   },
   "outputs": [
    {
     "data": {
      "text/html": [
       "<div>\n",
       "<style scoped>\n",
       "    .dataframe tbody tr th:only-of-type {\n",
       "        vertical-align: middle;\n",
       "    }\n",
       "\n",
       "    .dataframe tbody tr th {\n",
       "        vertical-align: top;\n",
       "    }\n",
       "\n",
       "    .dataframe thead th {\n",
       "        text-align: right;\n",
       "    }\n",
       "</style>\n",
       "<table border=\"1\" class=\"dataframe\">\n",
       "  <thead>\n",
       "    <tr style=\"text-align: right;\">\n",
       "      <th></th>\n",
       "      <th>name_proj</th>\n",
       "      <th>price</th>\n",
       "      <th>name_manu</th>\n",
       "    </tr>\n",
       "  </thead>\n",
       "  <tbody>\n",
       "    <tr>\n",
       "      <th>0</th>\n",
       "      <td>Hard drive</td>\n",
       "      <td>240</td>\n",
       "      <td>Fujitsu</td>\n",
       "    </tr>\n",
       "    <tr>\n",
       "      <th>1</th>\n",
       "      <td>Memory</td>\n",
       "      <td>120</td>\n",
       "      <td>Winchester</td>\n",
       "    </tr>\n",
       "    <tr>\n",
       "      <th>2</th>\n",
       "      <td>Floppy disk</td>\n",
       "      <td>5</td>\n",
       "      <td>Winchester</td>\n",
       "    </tr>\n",
       "    <tr>\n",
       "      <th>3</th>\n",
       "      <td>ZIP drive</td>\n",
       "      <td>150</td>\n",
       "      <td>Iomega</td>\n",
       "    </tr>\n",
       "    <tr>\n",
       "      <th>4</th>\n",
       "      <td>Monitor</td>\n",
       "      <td>240</td>\n",
       "      <td>Sony</td>\n",
       "    </tr>\n",
       "    <tr>\n",
       "      <th>5</th>\n",
       "      <td>DVD drive</td>\n",
       "      <td>180</td>\n",
       "      <td>Creative Labs</td>\n",
       "    </tr>\n",
       "    <tr>\n",
       "      <th>6</th>\n",
       "      <td>CD drive</td>\n",
       "      <td>90</td>\n",
       "      <td>Creative Labs</td>\n",
       "    </tr>\n",
       "    <tr>\n",
       "      <th>7</th>\n",
       "      <td>DVD burner</td>\n",
       "      <td>180</td>\n",
       "      <td>Creative Labs</td>\n",
       "    </tr>\n",
       "    <tr>\n",
       "      <th>8</th>\n",
       "      <td>Printer</td>\n",
       "      <td>270</td>\n",
       "      <td>Hewlett-Packard</td>\n",
       "    </tr>\n",
       "    <tr>\n",
       "      <th>9</th>\n",
       "      <td>Toner cartridge</td>\n",
       "      <td>66</td>\n",
       "      <td>Hewlett-Packard</td>\n",
       "    </tr>\n",
       "  </tbody>\n",
       "</table>\n",
       "</div>"
      ],
      "text/plain": [
       "         name_proj  price        name_manu\n",
       "0       Hard drive    240          Fujitsu\n",
       "1           Memory    120       Winchester\n",
       "2      Floppy disk      5       Winchester\n",
       "3        ZIP drive    150           Iomega\n",
       "4          Monitor    240             Sony\n",
       "5        DVD drive    180    Creative Labs\n",
       "6         CD drive     90    Creative Labs\n",
       "7       DVD burner    180    Creative Labs\n",
       "8          Printer    270  Hewlett-Packard\n",
       "9  Toner cartridge     66  Hewlett-Packard"
      ]
     },
     "execution_count": 116,
     "metadata": {},
     "output_type": "execute_result"
    }
   ],
   "source": [
    "dfp.merge(dfm,left_on='manufacturer',\n",
    "          right_on='code',\n",
    "          suffixes=('_proj','_manu')\n",
    "         )[['name_proj','price','name_manu']]"
   ]
  },
  {
   "cell_type": "code",
   "execution_count": 117,
   "metadata": {
    "ExecuteTime": {
     "end_time": "2020-03-11T03:06:12.069315Z",
     "start_time": "2020-03-11T03:06:12.066978Z"
    }
   },
   "outputs": [],
   "source": [
    "# dfm.set_index('code')\n",
    "# dfm.set_index('code')['name']\n",
    "# dfp['manufacturer'].map(dfm.set_index('code')['name'])"
   ]
  },
  {
   "cell_type": "code",
   "execution_count": 118,
   "metadata": {
    "ExecuteTime": {
     "end_time": "2020-03-11T03:06:12.088539Z",
     "start_time": "2020-03-11T03:06:12.072374Z"
    }
   },
   "outputs": [
    {
     "data": {
      "text/html": [
       "<div>\n",
       "<style scoped>\n",
       "    .dataframe tbody tr th:only-of-type {\n",
       "        vertical-align: middle;\n",
       "    }\n",
       "\n",
       "    .dataframe tbody tr th {\n",
       "        vertical-align: top;\n",
       "    }\n",
       "\n",
       "    .dataframe thead th {\n",
       "        text-align: right;\n",
       "    }\n",
       "</style>\n",
       "<table border=\"1\" class=\"dataframe\">\n",
       "  <thead>\n",
       "    <tr style=\"text-align: right;\">\n",
       "      <th></th>\n",
       "      <th>name</th>\n",
       "      <th>price</th>\n",
       "      <th>name_manu</th>\n",
       "    </tr>\n",
       "  </thead>\n",
       "  <tbody>\n",
       "    <tr>\n",
       "      <th>0</th>\n",
       "      <td>Hard drive</td>\n",
       "      <td>240</td>\n",
       "      <td>Fujitsu</td>\n",
       "    </tr>\n",
       "    <tr>\n",
       "      <th>1</th>\n",
       "      <td>Memory</td>\n",
       "      <td>120</td>\n",
       "      <td>Winchester</td>\n",
       "    </tr>\n",
       "    <tr>\n",
       "      <th>2</th>\n",
       "      <td>ZIP drive</td>\n",
       "      <td>150</td>\n",
       "      <td>Iomega</td>\n",
       "    </tr>\n",
       "    <tr>\n",
       "      <th>3</th>\n",
       "      <td>Floppy disk</td>\n",
       "      <td>5</td>\n",
       "      <td>Winchester</td>\n",
       "    </tr>\n",
       "    <tr>\n",
       "      <th>4</th>\n",
       "      <td>Monitor</td>\n",
       "      <td>240</td>\n",
       "      <td>Sony</td>\n",
       "    </tr>\n",
       "    <tr>\n",
       "      <th>5</th>\n",
       "      <td>DVD drive</td>\n",
       "      <td>180</td>\n",
       "      <td>Creative Labs</td>\n",
       "    </tr>\n",
       "    <tr>\n",
       "      <th>6</th>\n",
       "      <td>CD drive</td>\n",
       "      <td>90</td>\n",
       "      <td>Creative Labs</td>\n",
       "    </tr>\n",
       "    <tr>\n",
       "      <th>7</th>\n",
       "      <td>Printer</td>\n",
       "      <td>270</td>\n",
       "      <td>Hewlett-Packard</td>\n",
       "    </tr>\n",
       "    <tr>\n",
       "      <th>8</th>\n",
       "      <td>Toner cartridge</td>\n",
       "      <td>66</td>\n",
       "      <td>Hewlett-Packard</td>\n",
       "    </tr>\n",
       "    <tr>\n",
       "      <th>9</th>\n",
       "      <td>DVD burner</td>\n",
       "      <td>180</td>\n",
       "      <td>Creative Labs</td>\n",
       "    </tr>\n",
       "  </tbody>\n",
       "</table>\n",
       "</div>"
      ],
      "text/plain": [
       "              name  price        name_manu\n",
       "0       Hard drive    240          Fujitsu\n",
       "1           Memory    120       Winchester\n",
       "2        ZIP drive    150           Iomega\n",
       "3      Floppy disk      5       Winchester\n",
       "4          Monitor    240             Sony\n",
       "5        DVD drive    180    Creative Labs\n",
       "6         CD drive     90    Creative Labs\n",
       "7          Printer    270  Hewlett-Packard\n",
       "8  Toner cartridge     66  Hewlett-Packard\n",
       "9       DVD burner    180    Creative Labs"
      ]
     },
     "execution_count": 118,
     "metadata": {},
     "output_type": "execute_result"
    }
   ],
   "source": [
    "dfp[['name','price']].assign(\n",
    "name_manu = dfp['manufacturer'].map(dfm.set_index('code')['name']))"
   ]
  },
  {
   "cell_type": "code",
   "execution_count": 119,
   "metadata": {
    "ExecuteTime": {
     "end_time": "2020-03-11T03:06:12.093262Z",
     "start_time": "2020-03-11T03:06:12.090744Z"
    }
   },
   "outputs": [],
   "source": [
    "# using spark"
   ]
  },
  {
   "cell_type": "code",
   "execution_count": 120,
   "metadata": {
    "ExecuteTime": {
     "end_time": "2020-03-11T03:06:13.025120Z",
     "start_time": "2020-03-11T03:06:12.100503Z"
    }
   },
   "outputs": [
    {
     "name": "stdout",
     "output_type": "stream",
     "text": [
      "+---------------+-----+---------------+\n",
      "|      name_proj|price|      name_manu|\n",
      "+---------------+-----+---------------+\n",
      "|        Monitor|  240|           Sony|\n",
      "|         Memory|  120|     Winchester|\n",
      "|    Floppy disk|    5|     Winchester|\n",
      "|        Printer|  270|Hewlett-Packard|\n",
      "|Toner cartridge|   66|Hewlett-Packard|\n",
      "|     Hard drive|  240|        Fujitsu|\n",
      "|      ZIP drive|  150|         Iomega|\n",
      "|      DVD drive|  180|  Creative Labs|\n",
      "|       CD drive|   90|  Creative Labs|\n",
      "|     DVD burner|  180|  Creative Labs|\n",
      "+---------------+-----+---------------+\n",
      "\n"
     ]
    }
   ],
   "source": [
    "(sdfp.selectExpr(\n",
    "                 'name as name_proj',\n",
    "                 'price','manufacturer')\n",
    "     .alias('A')\n",
    ".join(\n",
    "    sdfm.selectExpr('code as code_manu','name as name_manu')\n",
    "        .alias('B'),\n",
    "    _col('A.manufacturer') == _col('B.code_manu')\n",
    "      )\n",
    ".select('name_proj','price','name_manu')\n",
    ".show()\n",
    ")"
   ]
  },
  {
   "cell_type": "code",
   "execution_count": 121,
   "metadata": {
    "ExecuteTime": {
     "end_time": "2020-03-11T03:06:13.030462Z",
     "start_time": "2020-03-11T03:06:13.027354Z"
    }
   },
   "outputs": [],
   "source": [
    "# using sql"
   ]
  },
  {
   "cell_type": "code",
   "execution_count": 122,
   "metadata": {
    "ExecuteTime": {
     "end_time": "2020-03-11T03:06:13.837860Z",
     "start_time": "2020-03-11T03:06:13.033322Z"
    }
   },
   "outputs": [
    {
     "name": "stdout",
     "output_type": "stream",
     "text": [
      "+---------------+-----+---------------+\n",
      "|      name_proj|price|      name_manu|\n",
      "+---------------+-----+---------------+\n",
      "|        Monitor|  240|           Sony|\n",
      "|         Memory|  120|     Winchester|\n",
      "|    Floppy disk|    5|     Winchester|\n",
      "|        Printer|  270|Hewlett-Packard|\n",
      "|Toner cartridge|   66|Hewlett-Packard|\n",
      "|     Hard drive|  240|        Fujitsu|\n",
      "|      ZIP drive|  150|         Iomega|\n",
      "|      DVD drive|  180|  Creative Labs|\n",
      "|       CD drive|   90|  Creative Labs|\n",
      "|     DVD burner|  180|  Creative Labs|\n",
      "+---------------+-----+---------------+\n",
      "\n"
     ]
    }
   ],
   "source": [
    "spark.sql(\"\"\"\n",
    "select P.name as name_proj, P.price as price,\n",
    "       M.name as name_manu\n",
    "from Products P inner join Manufacturers M\n",
    "on P.manufacturer = M.code\n",
    "\n",
    "\"\"\"\n",
    ").show()"
   ]
  },
  {
   "cell_type": "markdown",
   "metadata": {},
   "source": [
    "##  Select the average price of each manufacturer's products, showing only the manufacturer's code."
   ]
  },
  {
   "cell_type": "markdown",
   "metadata": {},
   "source": [
    "<div class=\"alert alert-block alert-info\">\n",
    "<b>Question:</b> \n",
    "    12. Select the average price of each manufacturer's products, showing only the manufacturer's code.\n",
    "</div> "
   ]
  },
  {
   "cell_type": "code",
   "execution_count": 123,
   "metadata": {
    "ExecuteTime": {
     "end_time": "2020-03-11T03:06:13.853327Z",
     "start_time": "2020-03-11T03:06:13.840706Z"
    }
   },
   "outputs": [
    {
     "data": {
      "text/html": [
       "<div>\n",
       "<style scoped>\n",
       "    .dataframe tbody tr th:only-of-type {\n",
       "        vertical-align: middle;\n",
       "    }\n",
       "\n",
       "    .dataframe tbody tr th {\n",
       "        vertical-align: top;\n",
       "    }\n",
       "\n",
       "    .dataframe thead th {\n",
       "        text-align: right;\n",
       "    }\n",
       "</style>\n",
       "<table border=\"1\" class=\"dataframe\">\n",
       "  <thead>\n",
       "    <tr style=\"text-align: right;\">\n",
       "      <th></th>\n",
       "      <th>code</th>\n",
       "      <th>name</th>\n",
       "      <th>price</th>\n",
       "      <th>manufacturer</th>\n",
       "    </tr>\n",
       "  </thead>\n",
       "  <tbody>\n",
       "    <tr>\n",
       "      <th>0</th>\n",
       "      <td>1</td>\n",
       "      <td>Hard drive</td>\n",
       "      <td>240</td>\n",
       "      <td>5</td>\n",
       "    </tr>\n",
       "    <tr>\n",
       "      <th>1</th>\n",
       "      <td>2</td>\n",
       "      <td>Memory</td>\n",
       "      <td>120</td>\n",
       "      <td>6</td>\n",
       "    </tr>\n",
       "  </tbody>\n",
       "</table>\n",
       "</div>"
      ],
      "text/plain": [
       "   code        name  price  manufacturer\n",
       "0     1  Hard drive    240             5\n",
       "1     2      Memory    120             6"
      ]
     },
     "execution_count": 123,
     "metadata": {},
     "output_type": "execute_result"
    }
   ],
   "source": [
    "dfp.head(2)"
   ]
  },
  {
   "cell_type": "code",
   "execution_count": 124,
   "metadata": {
    "ExecuteTime": {
     "end_time": "2020-03-11T03:06:13.869869Z",
     "start_time": "2020-03-11T03:06:13.859636Z"
    }
   },
   "outputs": [
    {
     "data": {
      "text/html": [
       "<div>\n",
       "<style scoped>\n",
       "    .dataframe tbody tr th:only-of-type {\n",
       "        vertical-align: middle;\n",
       "    }\n",
       "\n",
       "    .dataframe tbody tr th {\n",
       "        vertical-align: top;\n",
       "    }\n",
       "\n",
       "    .dataframe thead th {\n",
       "        text-align: right;\n",
       "    }\n",
       "</style>\n",
       "<table border=\"1\" class=\"dataframe\">\n",
       "  <thead>\n",
       "    <tr style=\"text-align: right;\">\n",
       "      <th></th>\n",
       "      <th>code</th>\n",
       "      <th>name</th>\n",
       "    </tr>\n",
       "  </thead>\n",
       "  <tbody>\n",
       "    <tr>\n",
       "      <th>0</th>\n",
       "      <td>1</td>\n",
       "      <td>Sony</td>\n",
       "    </tr>\n",
       "    <tr>\n",
       "      <th>1</th>\n",
       "      <td>2</td>\n",
       "      <td>Creative Labs</td>\n",
       "    </tr>\n",
       "  </tbody>\n",
       "</table>\n",
       "</div>"
      ],
      "text/plain": [
       "   code           name\n",
       "0     1           Sony\n",
       "1     2  Creative Labs"
      ]
     },
     "execution_count": 124,
     "metadata": {},
     "output_type": "execute_result"
    }
   ],
   "source": [
    "dfm.head(2)"
   ]
  },
  {
   "cell_type": "code",
   "execution_count": 125,
   "metadata": {
    "ExecuteTime": {
     "end_time": "2020-03-11T03:06:13.883648Z",
     "start_time": "2020-03-11T03:06:13.872770Z"
    }
   },
   "outputs": [
    {
     "data": {
      "text/plain": [
       "manufacturer\n",
       "1    240.0\n",
       "2    150.0\n",
       "3    168.0\n",
       "4    150.0\n",
       "5    240.0\n",
       "6     62.5\n",
       "Name: price, dtype: float64"
      ]
     },
     "execution_count": 125,
     "metadata": {},
     "output_type": "execute_result"
    }
   ],
   "source": [
    "dfp.groupby('manufacturer')['price'].mean()"
   ]
  },
  {
   "cell_type": "code",
   "execution_count": 126,
   "metadata": {
    "ExecuteTime": {
     "end_time": "2020-03-11T03:06:13.893696Z",
     "start_time": "2020-03-11T03:06:13.888791Z"
    }
   },
   "outputs": [
    {
     "data": {
      "text/plain": [
       "array([5, 6, 4, 1, 2, 3])"
      ]
     },
     "execution_count": 126,
     "metadata": {},
     "output_type": "execute_result"
    }
   ],
   "source": [
    "dfp['manufacturer'].unique()"
   ]
  },
  {
   "cell_type": "code",
   "execution_count": 127,
   "metadata": {
    "ExecuteTime": {
     "end_time": "2020-03-11T03:06:13.907150Z",
     "start_time": "2020-03-11T03:06:13.898718Z"
    }
   },
   "outputs": [
    {
     "data": {
      "text/plain": [
       "manufacturer\n",
       "1    240.0\n",
       "2    150.0\n",
       "3    168.0\n",
       "4    150.0\n",
       "5    240.0\n",
       "6     62.5\n",
       "Name: price, dtype: float64"
      ]
     },
     "execution_count": 127,
     "metadata": {},
     "output_type": "execute_result"
    }
   ],
   "source": [
    "dfp.groupby('manufacturer')['price'].mean()"
   ]
  },
  {
   "cell_type": "code",
   "execution_count": 128,
   "metadata": {
    "ExecuteTime": {
     "end_time": "2020-03-11T03:06:13.914181Z",
     "start_time": "2020-03-11T03:06:13.911701Z"
    }
   },
   "outputs": [],
   "source": [
    "# spark"
   ]
  },
  {
   "cell_type": "code",
   "execution_count": 129,
   "metadata": {
    "ExecuteTime": {
     "end_time": "2020-03-11T03:06:15.068663Z",
     "start_time": "2020-03-11T03:06:13.918276Z"
    },
    "scrolled": true
   },
   "outputs": [
    {
     "name": "stdout",
     "output_type": "stream",
     "text": [
      "+------------+-----------------+----------+-----------------+\n",
      "|manufacturer|        avg(code)|avg(price)|avg(manufacturer)|\n",
      "+------------+-----------------+----------+-----------------+\n",
      "|           1|              5.0|     240.0|              1.0|\n",
      "|           6|              3.0|      62.5|              6.0|\n",
      "|           3|              8.5|     168.0|              3.0|\n",
      "|           5|              1.0|     240.0|              5.0|\n",
      "|           4|              3.0|     150.0|              4.0|\n",
      "|           2|7.666666666666667|     150.0|              2.0|\n",
      "+------------+-----------------+----------+-----------------+\n",
      "\n"
     ]
    }
   ],
   "source": [
    "sdfp.groupBy('manufacturer').mean().show()"
   ]
  },
  {
   "cell_type": "code",
   "execution_count": 130,
   "metadata": {
    "ExecuteTime": {
     "end_time": "2020-03-11T03:06:15.733755Z",
     "start_time": "2020-03-11T03:06:15.070614Z"
    }
   },
   "outputs": [
    {
     "name": "stdout",
     "output_type": "stream",
     "text": [
      "+------------+----------+\n",
      "|manufacturer|avg(price)|\n",
      "+------------+----------+\n",
      "|           1|     240.0|\n",
      "|           6|      62.5|\n",
      "|           3|     168.0|\n",
      "|           5|     240.0|\n",
      "|           4|     150.0|\n",
      "|           2|     150.0|\n",
      "+------------+----------+\n",
      "\n"
     ]
    }
   ],
   "source": [
    "gby = sdfp.groupBy('manufacturer')\n",
    "gby.agg({'price':'avg'}).show()"
   ]
  },
  {
   "cell_type": "code",
   "execution_count": 131,
   "metadata": {
    "ExecuteTime": {
     "end_time": "2020-03-11T03:06:15.739627Z",
     "start_time": "2020-03-11T03:06:15.736092Z"
    }
   },
   "outputs": [],
   "source": [
    "# sql"
   ]
  },
  {
   "cell_type": "code",
   "execution_count": 132,
   "metadata": {
    "ExecuteTime": {
     "end_time": "2020-03-11T03:06:16.518839Z",
     "start_time": "2020-03-11T03:06:15.742086Z"
    }
   },
   "outputs": [
    {
     "name": "stdout",
     "output_type": "stream",
     "text": [
      "+------------+----------+\n",
      "|manufacturer|avg(price)|\n",
      "+------------+----------+\n",
      "|           1|     240.0|\n",
      "|           6|      62.5|\n",
      "|           3|     168.0|\n",
      "|           5|     240.0|\n",
      "|           4|     150.0|\n",
      "|           2|     150.0|\n",
      "+------------+----------+\n",
      "\n"
     ]
    }
   ],
   "source": [
    "spark.sql(\"\"\"\n",
    "select manufacturer, avg(price)\n",
    "from Products\n",
    "group by manufacturer\n",
    "\"\"\").show()"
   ]
  },
  {
   "cell_type": "markdown",
   "metadata": {},
   "source": [
    "## Select the average price of each manufacturer's products, showing the manufacturer's name."
   ]
  },
  {
   "cell_type": "markdown",
   "metadata": {},
   "source": [
    "<div class=\"alert alert-block alert-info\">\n",
    "<b>Question:</b> \n",
    "    13. Select the average price of each manufacturer's products, showing the manufacturer's name.\n",
    "</div> "
   ]
  },
  {
   "cell_type": "code",
   "execution_count": 133,
   "metadata": {
    "ExecuteTime": {
     "end_time": "2020-03-11T03:06:16.532435Z",
     "start_time": "2020-03-11T03:06:16.520874Z"
    }
   },
   "outputs": [
    {
     "data": {
      "text/plain": [
       "name_y\n",
       "Creative Labs      150.0\n",
       "Fujitsu            240.0\n",
       "Hewlett-Packard    168.0\n",
       "Iomega             150.0\n",
       "Sony               240.0\n",
       "Winchester          62.5\n",
       "Name: price, dtype: float64"
      ]
     },
     "execution_count": 133,
     "metadata": {},
     "output_type": "execute_result"
    }
   ],
   "source": [
    "dfp.merge(dfm,left_on='manufacturer', right_on='code')\\\n",
    ".groupby('name_y')['price'].mean()"
   ]
  },
  {
   "cell_type": "code",
   "execution_count": 134,
   "metadata": {
    "ExecuteTime": {
     "end_time": "2020-03-11T03:06:16.537333Z",
     "start_time": "2020-03-11T03:06:16.534974Z"
    }
   },
   "outputs": [],
   "source": [
    "# spark"
   ]
  },
  {
   "cell_type": "code",
   "execution_count": 135,
   "metadata": {
    "ExecuteTime": {
     "end_time": "2020-03-11T03:06:17.356393Z",
     "start_time": "2020-03-11T03:06:16.539267Z"
    }
   },
   "outputs": [
    {
     "name": "stdout",
     "output_type": "stream",
     "text": [
      "+------------+------------+-----+------------+-----------------+-----------------+\n",
      "|code_product|name_product|price|manufacturer|code_manufacturer|name_manufacturer|\n",
      "+------------+------------+-----+------------+-----------------+-----------------+\n",
      "|           5|     Monitor|  240|           1|                1|             Sony|\n",
      "|           2|      Memory|  120|           6|                6|       Winchester|\n",
      "+------------+------------+-----+------------+-----------------+-----------------+\n",
      "only showing top 2 rows\n",
      "\n"
     ]
    }
   ],
   "source": [
    "sdf.show(2)"
   ]
  },
  {
   "cell_type": "code",
   "execution_count": 136,
   "metadata": {
    "ExecuteTime": {
     "end_time": "2020-03-11T03:06:19.232534Z",
     "start_time": "2020-03-11T03:06:17.359669Z"
    }
   },
   "outputs": [
    {
     "name": "stdout",
     "output_type": "stream",
     "text": [
      "+-----------------+----------+\n",
      "|name_manufacturer|avg(price)|\n",
      "+-----------------+----------+\n",
      "|           Iomega|     150.0|\n",
      "|    Creative Labs|     150.0|\n",
      "|             Sony|     240.0|\n",
      "|          Fujitsu|     240.0|\n",
      "|       Winchester|      62.5|\n",
      "|  Hewlett-Packard|     168.0|\n",
      "+-----------------+----------+\n",
      "\n"
     ]
    }
   ],
   "source": [
    "sdf.groupBy('name_manufacturer').agg({'price':'avg'}).show()"
   ]
  },
  {
   "cell_type": "code",
   "execution_count": 137,
   "metadata": {
    "ExecuteTime": {
     "end_time": "2020-03-11T03:06:19.237065Z",
     "start_time": "2020-03-11T03:06:19.234638Z"
    }
   },
   "outputs": [],
   "source": [
    "# sql"
   ]
  },
  {
   "cell_type": "code",
   "execution_count": 138,
   "metadata": {
    "ExecuteTime": {
     "end_time": "2020-03-11T03:06:20.754340Z",
     "start_time": "2020-03-11T03:06:19.239601Z"
    }
   },
   "outputs": [
    {
     "name": "stdout",
     "output_type": "stream",
     "text": [
      "+---------------+----------+\n",
      "|           name|avg(price)|\n",
      "+---------------+----------+\n",
      "|         Iomega|     150.0|\n",
      "|  Creative Labs|     150.0|\n",
      "|           Sony|     240.0|\n",
      "|        Fujitsu|     240.0|\n",
      "|     Winchester|      62.5|\n",
      "|Hewlett-Packard|     168.0|\n",
      "+---------------+----------+\n",
      "\n"
     ]
    }
   ],
   "source": [
    "spark.sql(\"\"\"\n",
    "select M.name, avg(price)\n",
    "from Products P inner join Manufacturers M\n",
    "on P.manufacturer = M.code\n",
    "group by M.name\n",
    "\"\"\").show()"
   ]
  },
  {
   "cell_type": "markdown",
   "metadata": {},
   "source": [
    "## Select the names of manufacturer whose products have an average price larger than or equal to 150."
   ]
  },
  {
   "cell_type": "markdown",
   "metadata": {},
   "source": [
    "<div class=\"alert alert-block alert-info\">\n",
    "<b>Question:</b> \n",
    "    14. Select the names of manufacturer whose products have an average price larger than or equal to $150.\n",
    "</div> "
   ]
  },
  {
   "cell_type": "code",
   "execution_count": 139,
   "metadata": {
    "ExecuteTime": {
     "end_time": "2020-03-11T03:06:20.765981Z",
     "start_time": "2020-03-11T03:06:20.756248Z"
    }
   },
   "outputs": [
    {
     "data": {
      "text/html": [
       "<div>\n",
       "<style scoped>\n",
       "    .dataframe tbody tr th:only-of-type {\n",
       "        vertical-align: middle;\n",
       "    }\n",
       "\n",
       "    .dataframe tbody tr th {\n",
       "        vertical-align: top;\n",
       "    }\n",
       "\n",
       "    .dataframe thead th {\n",
       "        text-align: right;\n",
       "    }\n",
       "</style>\n",
       "<table border=\"1\" class=\"dataframe\">\n",
       "  <thead>\n",
       "    <tr style=\"text-align: right;\">\n",
       "      <th></th>\n",
       "      <th>code</th>\n",
       "      <th>name</th>\n",
       "      <th>price</th>\n",
       "      <th>manufacturer</th>\n",
       "    </tr>\n",
       "  </thead>\n",
       "  <tbody>\n",
       "    <tr>\n",
       "      <th>0</th>\n",
       "      <td>1</td>\n",
       "      <td>Hard drive</td>\n",
       "      <td>240</td>\n",
       "      <td>5</td>\n",
       "    </tr>\n",
       "    <tr>\n",
       "      <th>1</th>\n",
       "      <td>2</td>\n",
       "      <td>Memory</td>\n",
       "      <td>120</td>\n",
       "      <td>6</td>\n",
       "    </tr>\n",
       "  </tbody>\n",
       "</table>\n",
       "</div>"
      ],
      "text/plain": [
       "   code        name  price  manufacturer\n",
       "0     1  Hard drive    240             5\n",
       "1     2      Memory    120             6"
      ]
     },
     "execution_count": 139,
     "metadata": {},
     "output_type": "execute_result"
    }
   ],
   "source": [
    "dfp.head(2)"
   ]
  },
  {
   "cell_type": "code",
   "execution_count": 140,
   "metadata": {
    "ExecuteTime": {
     "end_time": "2020-03-11T03:06:20.785821Z",
     "start_time": "2020-03-11T03:06:20.768535Z"
    }
   },
   "outputs": [
    {
     "data": {
      "text/html": [
       "<div>\n",
       "<style scoped>\n",
       "    .dataframe tbody tr th:only-of-type {\n",
       "        vertical-align: middle;\n",
       "    }\n",
       "\n",
       "    .dataframe tbody tr th {\n",
       "        vertical-align: top;\n",
       "    }\n",
       "\n",
       "    .dataframe thead th {\n",
       "        text-align: right;\n",
       "    }\n",
       "</style>\n",
       "<table border=\"1\" class=\"dataframe\">\n",
       "  <thead>\n",
       "    <tr style=\"text-align: right;\">\n",
       "      <th></th>\n",
       "      <th>manufacturer</th>\n",
       "      <th>avg_price</th>\n",
       "    </tr>\n",
       "  </thead>\n",
       "  <tbody>\n",
       "    <tr>\n",
       "      <th>0</th>\n",
       "      <td>Creative Labs</td>\n",
       "      <td>150.0</td>\n",
       "    </tr>\n",
       "    <tr>\n",
       "      <th>1</th>\n",
       "      <td>Fujitsu</td>\n",
       "      <td>240.0</td>\n",
       "    </tr>\n",
       "    <tr>\n",
       "      <th>2</th>\n",
       "      <td>Hewlett-Packard</td>\n",
       "      <td>168.0</td>\n",
       "    </tr>\n",
       "    <tr>\n",
       "      <th>3</th>\n",
       "      <td>Iomega</td>\n",
       "      <td>150.0</td>\n",
       "    </tr>\n",
       "    <tr>\n",
       "      <th>4</th>\n",
       "      <td>Sony</td>\n",
       "      <td>240.0</td>\n",
       "    </tr>\n",
       "  </tbody>\n",
       "</table>\n",
       "</div>"
      ],
      "text/plain": [
       "      manufacturer  avg_price\n",
       "0    Creative Labs      150.0\n",
       "1          Fujitsu      240.0\n",
       "2  Hewlett-Packard      168.0\n",
       "3           Iomega      150.0\n",
       "4             Sony      240.0"
      ]
     },
     "execution_count": 140,
     "metadata": {},
     "output_type": "execute_result"
    }
   ],
   "source": [
    "dfp.merge(dfm,left_on='manufacturer', right_on='code')\\\n",
    ".groupby('name_y')['price'].mean()\\\n",
    ".rename('avg_price').rename_axis('manufacturer')\\\n",
    ".loc[lambda x: x>=150]\\\n",
    ".reset_index()"
   ]
  },
  {
   "cell_type": "code",
   "execution_count": 141,
   "metadata": {
    "ExecuteTime": {
     "end_time": "2020-03-11T03:06:20.794341Z",
     "start_time": "2020-03-11T03:06:20.788090Z"
    }
   },
   "outputs": [],
   "source": [
    "# spark"
   ]
  },
  {
   "cell_type": "code",
   "execution_count": 142,
   "metadata": {
    "ExecuteTime": {
     "end_time": "2020-03-11T03:06:21.227876Z",
     "start_time": "2020-03-11T03:06:20.797846Z"
    }
   },
   "outputs": [
    {
     "name": "stdout",
     "output_type": "stream",
     "text": [
      "+------------+------------+-----+------------+-----------------+-----------------+\n",
      "|code_product|name_product|price|manufacturer|code_manufacturer|name_manufacturer|\n",
      "+------------+------------+-----+------------+-----------------+-----------------+\n",
      "|           5|     Monitor|  240|           1|                1|             Sony|\n",
      "|           2|      Memory|  120|           6|                6|       Winchester|\n",
      "+------------+------------+-----+------------+-----------------+-----------------+\n",
      "only showing top 2 rows\n",
      "\n"
     ]
    }
   ],
   "source": [
    "sdf.show(2)"
   ]
  },
  {
   "cell_type": "code",
   "execution_count": 143,
   "metadata": {
    "ExecuteTime": {
     "end_time": "2020-03-11T03:06:22.724176Z",
     "start_time": "2020-03-11T03:06:21.231706Z"
    }
   },
   "outputs": [
    {
     "name": "stdout",
     "output_type": "stream",
     "text": [
      "+-----------------+----------+\n",
      "|name_manufacturer|avg(price)|\n",
      "+-----------------+----------+\n",
      "|           Iomega|     150.0|\n",
      "|    Creative Labs|     150.0|\n",
      "|             Sony|     240.0|\n",
      "|          Fujitsu|     240.0|\n",
      "|  Hewlett-Packard|     168.0|\n",
      "+-----------------+----------+\n",
      "\n"
     ]
    }
   ],
   "source": [
    "sdf.groupBy('name_manufacturer').agg({'price':'avg'})\\\n",
    ".filter('avg(price) >= 150').show()"
   ]
  },
  {
   "cell_type": "code",
   "execution_count": 144,
   "metadata": {
    "ExecuteTime": {
     "end_time": "2020-03-11T03:06:22.729503Z",
     "start_time": "2020-03-11T03:06:22.726670Z"
    }
   },
   "outputs": [],
   "source": [
    "# sql"
   ]
  },
  {
   "cell_type": "code",
   "execution_count": 145,
   "metadata": {
    "ExecuteTime": {
     "end_time": "2020-03-11T03:06:24.097341Z",
     "start_time": "2020-03-11T03:06:22.732417Z"
    }
   },
   "outputs": [
    {
     "name": "stdout",
     "output_type": "stream",
     "text": [
      "+---------------+----------+\n",
      "|           name|avg(price)|\n",
      "+---------------+----------+\n",
      "|         Iomega|     150.0|\n",
      "|  Creative Labs|     150.0|\n",
      "|           Sony|     240.0|\n",
      "|        Fujitsu|     240.0|\n",
      "|Hewlett-Packard|     168.0|\n",
      "+---------------+----------+\n",
      "\n"
     ]
    }
   ],
   "source": [
    "spark.sql(\"\"\"\n",
    "select M.name, avg(price)\n",
    "from Products P inner join Manufacturers M\n",
    "on P.manufacturer = M.code\n",
    "group by M.name\n",
    "having avg(price) >= 150\n",
    "\"\"\").show()"
   ]
  },
  {
   "cell_type": "markdown",
   "metadata": {},
   "source": [
    "## Select the name and price of the cheapest product."
   ]
  },
  {
   "cell_type": "markdown",
   "metadata": {},
   "source": [
    "<div class=\"alert alert-block alert-info\">\n",
    "<b>Question:</b> \n",
    "    15. Select the name and price of the cheapest product.\n",
    "</div> "
   ]
  },
  {
   "cell_type": "code",
   "execution_count": 146,
   "metadata": {
    "ExecuteTime": {
     "end_time": "2020-03-11T03:06:24.107902Z",
     "start_time": "2020-03-11T03:06:24.099179Z"
    }
   },
   "outputs": [
    {
     "data": {
      "text/html": [
       "<div>\n",
       "<style scoped>\n",
       "    .dataframe tbody tr th:only-of-type {\n",
       "        vertical-align: middle;\n",
       "    }\n",
       "\n",
       "    .dataframe tbody tr th {\n",
       "        vertical-align: top;\n",
       "    }\n",
       "\n",
       "    .dataframe thead th {\n",
       "        text-align: right;\n",
       "    }\n",
       "</style>\n",
       "<table border=\"1\" class=\"dataframe\">\n",
       "  <thead>\n",
       "    <tr style=\"text-align: right;\">\n",
       "      <th></th>\n",
       "      <th>code</th>\n",
       "      <th>name</th>\n",
       "      <th>price</th>\n",
       "      <th>manufacturer</th>\n",
       "    </tr>\n",
       "  </thead>\n",
       "  <tbody>\n",
       "    <tr>\n",
       "      <th>0</th>\n",
       "      <td>1</td>\n",
       "      <td>Hard drive</td>\n",
       "      <td>240</td>\n",
       "      <td>5</td>\n",
       "    </tr>\n",
       "    <tr>\n",
       "      <th>1</th>\n",
       "      <td>2</td>\n",
       "      <td>Memory</td>\n",
       "      <td>120</td>\n",
       "      <td>6</td>\n",
       "    </tr>\n",
       "  </tbody>\n",
       "</table>\n",
       "</div>"
      ],
      "text/plain": [
       "   code        name  price  manufacturer\n",
       "0     1  Hard drive    240             5\n",
       "1     2      Memory    120             6"
      ]
     },
     "execution_count": 146,
     "metadata": {},
     "output_type": "execute_result"
    }
   ],
   "source": [
    "dfp.head(2)"
   ]
  },
  {
   "cell_type": "code",
   "execution_count": 147,
   "metadata": {
    "ExecuteTime": {
     "end_time": "2020-03-11T03:06:24.121198Z",
     "start_time": "2020-03-11T03:06:24.111511Z"
    }
   },
   "outputs": [
    {
     "data": {
      "text/html": [
       "<div>\n",
       "<style scoped>\n",
       "    .dataframe tbody tr th:only-of-type {\n",
       "        vertical-align: middle;\n",
       "    }\n",
       "\n",
       "    .dataframe tbody tr th {\n",
       "        vertical-align: top;\n",
       "    }\n",
       "\n",
       "    .dataframe thead th {\n",
       "        text-align: right;\n",
       "    }\n",
       "</style>\n",
       "<table border=\"1\" class=\"dataframe\">\n",
       "  <thead>\n",
       "    <tr style=\"text-align: right;\">\n",
       "      <th></th>\n",
       "      <th>name</th>\n",
       "      <th>price</th>\n",
       "    </tr>\n",
       "  </thead>\n",
       "  <tbody>\n",
       "    <tr>\n",
       "      <th>3</th>\n",
       "      <td>Floppy disk</td>\n",
       "      <td>5</td>\n",
       "    </tr>\n",
       "  </tbody>\n",
       "</table>\n",
       "</div>"
      ],
      "text/plain": [
       "          name  price\n",
       "3  Floppy disk      5"
      ]
     },
     "execution_count": 147,
     "metadata": {},
     "output_type": "execute_result"
    }
   ],
   "source": [
    "dfp.loc[dfp.price==dfp.price.min(), ['name','price']]"
   ]
  },
  {
   "cell_type": "code",
   "execution_count": 148,
   "metadata": {
    "ExecuteTime": {
     "end_time": "2020-03-11T03:06:24.138298Z",
     "start_time": "2020-03-11T03:06:24.124891Z"
    }
   },
   "outputs": [
    {
     "data": {
      "text/html": [
       "<div>\n",
       "<style scoped>\n",
       "    .dataframe tbody tr th:only-of-type {\n",
       "        vertical-align: middle;\n",
       "    }\n",
       "\n",
       "    .dataframe tbody tr th {\n",
       "        vertical-align: top;\n",
       "    }\n",
       "\n",
       "    .dataframe thead th {\n",
       "        text-align: right;\n",
       "    }\n",
       "</style>\n",
       "<table border=\"1\" class=\"dataframe\">\n",
       "  <thead>\n",
       "    <tr style=\"text-align: right;\">\n",
       "      <th></th>\n",
       "      <th>name</th>\n",
       "      <th>price</th>\n",
       "    </tr>\n",
       "  </thead>\n",
       "  <tbody>\n",
       "    <tr>\n",
       "      <th>3</th>\n",
       "      <td>Floppy disk</td>\n",
       "      <td>5</td>\n",
       "    </tr>\n",
       "  </tbody>\n",
       "</table>\n",
       "</div>"
      ],
      "text/plain": [
       "          name  price\n",
       "3  Floppy disk      5"
      ]
     },
     "execution_count": 148,
     "metadata": {},
     "output_type": "execute_result"
    }
   ],
   "source": [
    "m = dfp.price.min()\n",
    "dfp.query(\"price == @m\")[['name','price']]"
   ]
  },
  {
   "cell_type": "code",
   "execution_count": 149,
   "metadata": {
    "ExecuteTime": {
     "end_time": "2020-03-11T03:06:24.158152Z",
     "start_time": "2020-03-11T03:06:24.141711Z"
    }
   },
   "outputs": [
    {
     "data": {
      "text/html": [
       "<div>\n",
       "<style scoped>\n",
       "    .dataframe tbody tr th:only-of-type {\n",
       "        vertical-align: middle;\n",
       "    }\n",
       "\n",
       "    .dataframe tbody tr th {\n",
       "        vertical-align: top;\n",
       "    }\n",
       "\n",
       "    .dataframe thead th {\n",
       "        text-align: right;\n",
       "    }\n",
       "</style>\n",
       "<table border=\"1\" class=\"dataframe\">\n",
       "  <thead>\n",
       "    <tr style=\"text-align: right;\">\n",
       "      <th></th>\n",
       "      <th>name</th>\n",
       "      <th>price</th>\n",
       "    </tr>\n",
       "  </thead>\n",
       "  <tbody>\n",
       "    <tr>\n",
       "      <th>3</th>\n",
       "      <td>Floppy disk</td>\n",
       "      <td>5</td>\n",
       "    </tr>\n",
       "  </tbody>\n",
       "</table>\n",
       "</div>"
      ],
      "text/plain": [
       "          name  price\n",
       "3  Floppy disk      5"
      ]
     },
     "execution_count": 149,
     "metadata": {},
     "output_type": "execute_result"
    }
   ],
   "source": [
    "dfp.query(\"price == @dfp.price.min()\")[['name','price']]"
   ]
  },
  {
   "cell_type": "code",
   "execution_count": 150,
   "metadata": {
    "ExecuteTime": {
     "end_time": "2020-03-11T03:06:24.184567Z",
     "start_time": "2020-03-11T03:06:24.164577Z"
    }
   },
   "outputs": [
    {
     "data": {
      "text/html": [
       "<div>\n",
       "<style scoped>\n",
       "    .dataframe tbody tr th:only-of-type {\n",
       "        vertical-align: middle;\n",
       "    }\n",
       "\n",
       "    .dataframe tbody tr th {\n",
       "        vertical-align: top;\n",
       "    }\n",
       "\n",
       "    .dataframe thead th {\n",
       "        text-align: right;\n",
       "    }\n",
       "</style>\n",
       "<table border=\"1\" class=\"dataframe\">\n",
       "  <thead>\n",
       "    <tr style=\"text-align: right;\">\n",
       "      <th></th>\n",
       "      <th>name</th>\n",
       "      <th>price</th>\n",
       "    </tr>\n",
       "  </thead>\n",
       "  <tbody>\n",
       "    <tr>\n",
       "      <th>3</th>\n",
       "      <td>Floppy disk</td>\n",
       "      <td>5</td>\n",
       "    </tr>\n",
       "  </tbody>\n",
       "</table>\n",
       "</div>"
      ],
      "text/plain": [
       "          name  price\n",
       "3  Floppy disk      5"
      ]
     },
     "execution_count": 150,
     "metadata": {},
     "output_type": "execute_result"
    }
   ],
   "source": [
    "dfp.nsmallest(1,'price')[['name','price']]"
   ]
  },
  {
   "cell_type": "code",
   "execution_count": 151,
   "metadata": {
    "ExecuteTime": {
     "end_time": "2020-03-11T03:06:24.203194Z",
     "start_time": "2020-03-11T03:06:24.189770Z"
    }
   },
   "outputs": [
    {
     "data": {
      "text/html": [
       "<div>\n",
       "<style scoped>\n",
       "    .dataframe tbody tr th:only-of-type {\n",
       "        vertical-align: middle;\n",
       "    }\n",
       "\n",
       "    .dataframe tbody tr th {\n",
       "        vertical-align: top;\n",
       "    }\n",
       "\n",
       "    .dataframe thead th {\n",
       "        text-align: right;\n",
       "    }\n",
       "</style>\n",
       "<table border=\"1\" class=\"dataframe\">\n",
       "  <thead>\n",
       "    <tr style=\"text-align: right;\">\n",
       "      <th></th>\n",
       "      <th>name</th>\n",
       "      <th>price</th>\n",
       "    </tr>\n",
       "  </thead>\n",
       "  <tbody>\n",
       "    <tr>\n",
       "      <th>3</th>\n",
       "      <td>Floppy disk</td>\n",
       "      <td>5</td>\n",
       "    </tr>\n",
       "  </tbody>\n",
       "</table>\n",
       "</div>"
      ],
      "text/plain": [
       "          name  price\n",
       "3  Floppy disk      5"
      ]
     },
     "execution_count": 151,
     "metadata": {},
     "output_type": "execute_result"
    }
   ],
   "source": [
    "dfp.sort_values('price').head(1)[['name','price']]"
   ]
  },
  {
   "cell_type": "code",
   "execution_count": 152,
   "metadata": {
    "ExecuteTime": {
     "end_time": "2020-03-11T03:06:24.227576Z",
     "start_time": "2020-03-11T03:06:24.207776Z"
    }
   },
   "outputs": [
    {
     "data": {
      "text/html": [
       "<div>\n",
       "<style scoped>\n",
       "    .dataframe tbody tr th:only-of-type {\n",
       "        vertical-align: middle;\n",
       "    }\n",
       "\n",
       "    .dataframe tbody tr th {\n",
       "        vertical-align: top;\n",
       "    }\n",
       "\n",
       "    .dataframe thead th {\n",
       "        text-align: right;\n",
       "    }\n",
       "</style>\n",
       "<table border=\"1\" class=\"dataframe\">\n",
       "  <thead>\n",
       "    <tr style=\"text-align: right;\">\n",
       "      <th></th>\n",
       "      <th>name</th>\n",
       "      <th>price</th>\n",
       "    </tr>\n",
       "  </thead>\n",
       "  <tbody>\n",
       "    <tr>\n",
       "      <th>3</th>\n",
       "      <td>Floppy disk</td>\n",
       "      <td>5</td>\n",
       "    </tr>\n",
       "  </tbody>\n",
       "</table>\n",
       "</div>"
      ],
      "text/plain": [
       "          name  price\n",
       "3  Floppy disk      5"
      ]
     },
     "execution_count": 152,
     "metadata": {},
     "output_type": "execute_result"
    }
   ],
   "source": [
    "dfp.sort_values('price').iloc[[0]][['name','price']]"
   ]
  },
  {
   "cell_type": "code",
   "execution_count": 153,
   "metadata": {
    "ExecuteTime": {
     "end_time": "2020-03-11T03:06:24.234178Z",
     "start_time": "2020-03-11T03:06:24.230525Z"
    }
   },
   "outputs": [],
   "source": [
    "# spark"
   ]
  },
  {
   "cell_type": "code",
   "execution_count": 154,
   "metadata": {
    "ExecuteTime": {
     "end_time": "2020-03-11T03:06:24.240418Z",
     "start_time": "2020-03-11T03:06:24.236898Z"
    }
   },
   "outputs": [],
   "source": [
    "# sdfp.select('name','price').filter(sdfp.price == _min(sdfp.price)).show()\n",
    "# this gives Py4JJavaError"
   ]
  },
  {
   "cell_type": "code",
   "execution_count": 155,
   "metadata": {
    "ExecuteTime": {
     "end_time": "2020-03-11T03:06:24.406215Z",
     "start_time": "2020-03-11T03:06:24.244203Z"
    }
   },
   "outputs": [
    {
     "name": "stdout",
     "output_type": "stream",
     "text": [
      "+-----------+-----+\n",
      "|       name|price|\n",
      "+-----------+-----+\n",
      "|Floppy disk|    5|\n",
      "+-----------+-----+\n",
      "\n"
     ]
    }
   ],
   "source": [
    "sdfp.orderBy('price',ascending=True).limit(1).select('name','price').show()"
   ]
  },
  {
   "cell_type": "code",
   "execution_count": 156,
   "metadata": {
    "ExecuteTime": {
     "end_time": "2020-03-11T03:06:24.412869Z",
     "start_time": "2020-03-11T03:06:24.410081Z"
    }
   },
   "outputs": [],
   "source": [
    "# sql"
   ]
  },
  {
   "cell_type": "code",
   "execution_count": 157,
   "metadata": {
    "ExecuteTime": {
     "end_time": "2020-03-11T03:06:24.682605Z",
     "start_time": "2020-03-11T03:06:24.418700Z"
    }
   },
   "outputs": [
    {
     "name": "stdout",
     "output_type": "stream",
     "text": [
      "+-----------+-----+\n",
      "|       name|price|\n",
      "+-----------+-----+\n",
      "|Floppy disk|    5|\n",
      "+-----------+-----+\n",
      "\n"
     ]
    }
   ],
   "source": [
    "spark.sql(\"\"\"\n",
    "select name, price\n",
    "from Products\n",
    "where price = (select min(price) from Products)\n",
    "\"\"\").show()"
   ]
  },
  {
   "cell_type": "code",
   "execution_count": 158,
   "metadata": {
    "ExecuteTime": {
     "end_time": "2020-03-11T03:06:24.809181Z",
     "start_time": "2020-03-11T03:06:24.685517Z"
    }
   },
   "outputs": [
    {
     "name": "stdout",
     "output_type": "stream",
     "text": [
      "+----+-----------+-----+------------+\n",
      "|code|       name|price|manufacturer|\n",
      "+----+-----------+-----+------------+\n",
      "|   4|Floppy disk|    5|           6|\n",
      "+----+-----------+-----+------------+\n",
      "\n"
     ]
    }
   ],
   "source": [
    "# bad way\n",
    "spark.sql(\"\"\"\n",
    "select *\n",
    "from Products\n",
    "order by price\n",
    "limit 1\n",
    "\"\"\").show()"
   ]
  },
  {
   "cell_type": "markdown",
   "metadata": {},
   "source": [
    "## Select the name of each manufacturer along with the name and price of its most expensive product."
   ]
  },
  {
   "cell_type": "markdown",
   "metadata": {},
   "source": [
    "<div class=\"alert alert-block alert-info\">\n",
    "<b>Question:</b> \n",
    "    16. Select the name of each manufacturer along with the name and price of its most expensive product.\n",
    "</div> "
   ]
  },
  {
   "cell_type": "code",
   "execution_count": 159,
   "metadata": {
    "ExecuteTime": {
     "end_time": "2020-03-11T03:06:24.840267Z",
     "start_time": "2020-03-11T03:06:24.812542Z"
    }
   },
   "outputs": [
    {
     "data": {
      "text/html": [
       "<div>\n",
       "<style scoped>\n",
       "    .dataframe tbody tr th:only-of-type {\n",
       "        vertical-align: middle;\n",
       "    }\n",
       "\n",
       "    .dataframe tbody tr th {\n",
       "        vertical-align: top;\n",
       "    }\n",
       "\n",
       "    .dataframe thead th {\n",
       "        text-align: right;\n",
       "    }\n",
       "</style>\n",
       "<table border=\"1\" class=\"dataframe\">\n",
       "  <thead>\n",
       "    <tr style=\"text-align: right;\">\n",
       "      <th></th>\n",
       "      <th>name_y</th>\n",
       "      <th>price</th>\n",
       "    </tr>\n",
       "  </thead>\n",
       "  <tbody>\n",
       "    <tr>\n",
       "      <th>8</th>\n",
       "      <td>Hewlett-Packard</td>\n",
       "      <td>270</td>\n",
       "    </tr>\n",
       "  </tbody>\n",
       "</table>\n",
       "</div>"
      ],
      "text/plain": [
       "            name_y  price\n",
       "8  Hewlett-Packard    270"
      ]
     },
     "execution_count": 159,
     "metadata": {},
     "output_type": "execute_result"
    }
   ],
   "source": [
    "dfp.merge(dfm,left_on='manufacturer', right_on='code')\\\n",
    ".nlargest(1,'price')[['name_y','price']]"
   ]
  },
  {
   "cell_type": "code",
   "execution_count": 160,
   "metadata": {
    "ExecuteTime": {
     "end_time": "2020-03-11T03:06:24.861954Z",
     "start_time": "2020-03-11T03:06:24.843477Z"
    }
   },
   "outputs": [
    {
     "data": {
      "text/html": [
       "<div>\n",
       "<style scoped>\n",
       "    .dataframe tbody tr th:only-of-type {\n",
       "        vertical-align: middle;\n",
       "    }\n",
       "\n",
       "    .dataframe tbody tr th {\n",
       "        vertical-align: top;\n",
       "    }\n",
       "\n",
       "    .dataframe thead th {\n",
       "        text-align: right;\n",
       "    }\n",
       "</style>\n",
       "<table border=\"1\" class=\"dataframe\">\n",
       "  <thead>\n",
       "    <tr style=\"text-align: right;\">\n",
       "      <th></th>\n",
       "      <th>code_x</th>\n",
       "      <th>name_x</th>\n",
       "      <th>price</th>\n",
       "      <th>manufacturer</th>\n",
       "      <th>code_y</th>\n",
       "      <th>name_y</th>\n",
       "    </tr>\n",
       "  </thead>\n",
       "  <tbody>\n",
       "    <tr>\n",
       "      <th>0</th>\n",
       "      <td>1</td>\n",
       "      <td>Hard drive</td>\n",
       "      <td>240</td>\n",
       "      <td>5</td>\n",
       "      <td>5</td>\n",
       "      <td>Fujitsu</td>\n",
       "    </tr>\n",
       "    <tr>\n",
       "      <th>1</th>\n",
       "      <td>2</td>\n",
       "      <td>Memory</td>\n",
       "      <td>120</td>\n",
       "      <td>6</td>\n",
       "      <td>6</td>\n",
       "      <td>Winchester</td>\n",
       "    </tr>\n",
       "    <tr>\n",
       "      <th>2</th>\n",
       "      <td>4</td>\n",
       "      <td>Floppy disk</td>\n",
       "      <td>5</td>\n",
       "      <td>6</td>\n",
       "      <td>6</td>\n",
       "      <td>Winchester</td>\n",
       "    </tr>\n",
       "    <tr>\n",
       "      <th>3</th>\n",
       "      <td>3</td>\n",
       "      <td>ZIP drive</td>\n",
       "      <td>150</td>\n",
       "      <td>4</td>\n",
       "      <td>4</td>\n",
       "      <td>Iomega</td>\n",
       "    </tr>\n",
       "    <tr>\n",
       "      <th>4</th>\n",
       "      <td>5</td>\n",
       "      <td>Monitor</td>\n",
       "      <td>240</td>\n",
       "      <td>1</td>\n",
       "      <td>1</td>\n",
       "      <td>Sony</td>\n",
       "    </tr>\n",
       "    <tr>\n",
       "      <th>5</th>\n",
       "      <td>6</td>\n",
       "      <td>DVD drive</td>\n",
       "      <td>180</td>\n",
       "      <td>2</td>\n",
       "      <td>2</td>\n",
       "      <td>Creative Labs</td>\n",
       "    </tr>\n",
       "    <tr>\n",
       "      <th>6</th>\n",
       "      <td>7</td>\n",
       "      <td>CD drive</td>\n",
       "      <td>90</td>\n",
       "      <td>2</td>\n",
       "      <td>2</td>\n",
       "      <td>Creative Labs</td>\n",
       "    </tr>\n",
       "    <tr>\n",
       "      <th>7</th>\n",
       "      <td>10</td>\n",
       "      <td>DVD burner</td>\n",
       "      <td>180</td>\n",
       "      <td>2</td>\n",
       "      <td>2</td>\n",
       "      <td>Creative Labs</td>\n",
       "    </tr>\n",
       "    <tr>\n",
       "      <th>8</th>\n",
       "      <td>8</td>\n",
       "      <td>Printer</td>\n",
       "      <td>270</td>\n",
       "      <td>3</td>\n",
       "      <td>3</td>\n",
       "      <td>Hewlett-Packard</td>\n",
       "    </tr>\n",
       "    <tr>\n",
       "      <th>9</th>\n",
       "      <td>9</td>\n",
       "      <td>Toner cartridge</td>\n",
       "      <td>66</td>\n",
       "      <td>3</td>\n",
       "      <td>3</td>\n",
       "      <td>Hewlett-Packard</td>\n",
       "    </tr>\n",
       "  </tbody>\n",
       "</table>\n",
       "</div>"
      ],
      "text/plain": [
       "   code_x           name_x  price  manufacturer  code_y           name_y\n",
       "0       1       Hard drive    240             5       5          Fujitsu\n",
       "1       2           Memory    120             6       6       Winchester\n",
       "2       4      Floppy disk      5             6       6       Winchester\n",
       "3       3        ZIP drive    150             4       4           Iomega\n",
       "4       5          Monitor    240             1       1             Sony\n",
       "5       6        DVD drive    180             2       2    Creative Labs\n",
       "6       7         CD drive     90             2       2    Creative Labs\n",
       "7      10       DVD burner    180             2       2    Creative Labs\n",
       "8       8          Printer    270             3       3  Hewlett-Packard\n",
       "9       9  Toner cartridge     66             3       3  Hewlett-Packard"
      ]
     },
     "execution_count": 160,
     "metadata": {},
     "output_type": "execute_result"
    }
   ],
   "source": [
    "df = dfp.merge(dfm,left_on='manufacturer', right_on='code')\n",
    "df"
   ]
  },
  {
   "cell_type": "code",
   "execution_count": 161,
   "metadata": {
    "ExecuteTime": {
     "end_time": "2020-03-11T03:06:24.868783Z",
     "start_time": "2020-03-11T03:06:24.865816Z"
    }
   },
   "outputs": [],
   "source": [
    "# for each manufactures, seleect rows with max price for that manufacturer."
   ]
  },
  {
   "cell_type": "code",
   "execution_count": 162,
   "metadata": {
    "ExecuteTime": {
     "end_time": "2020-03-11T03:06:24.897853Z",
     "start_time": "2020-03-11T03:06:24.875270Z"
    }
   },
   "outputs": [
    {
     "data": {
      "text/html": [
       "<div>\n",
       "<style scoped>\n",
       "    .dataframe tbody tr th:only-of-type {\n",
       "        vertical-align: middle;\n",
       "    }\n",
       "\n",
       "    .dataframe tbody tr th {\n",
       "        vertical-align: top;\n",
       "    }\n",
       "\n",
       "    .dataframe thead th {\n",
       "        text-align: right;\n",
       "    }\n",
       "</style>\n",
       "<table border=\"1\" class=\"dataframe\">\n",
       "  <thead>\n",
       "    <tr style=\"text-align: right;\">\n",
       "      <th></th>\n",
       "      <th>code_x</th>\n",
       "      <th>name_x</th>\n",
       "      <th>price</th>\n",
       "      <th>manufacturer</th>\n",
       "      <th>code_y</th>\n",
       "      <th>name_y</th>\n",
       "      <th>max_price_manufacturer</th>\n",
       "    </tr>\n",
       "  </thead>\n",
       "  <tbody>\n",
       "    <tr>\n",
       "      <th>0</th>\n",
       "      <td>1</td>\n",
       "      <td>Hard drive</td>\n",
       "      <td>240</td>\n",
       "      <td>5</td>\n",
       "      <td>5</td>\n",
       "      <td>Fujitsu</td>\n",
       "      <td>240</td>\n",
       "    </tr>\n",
       "    <tr>\n",
       "      <th>1</th>\n",
       "      <td>2</td>\n",
       "      <td>Memory</td>\n",
       "      <td>120</td>\n",
       "      <td>6</td>\n",
       "      <td>6</td>\n",
       "      <td>Winchester</td>\n",
       "      <td>120</td>\n",
       "    </tr>\n",
       "    <tr>\n",
       "      <th>2</th>\n",
       "      <td>4</td>\n",
       "      <td>Floppy disk</td>\n",
       "      <td>5</td>\n",
       "      <td>6</td>\n",
       "      <td>6</td>\n",
       "      <td>Winchester</td>\n",
       "      <td>120</td>\n",
       "    </tr>\n",
       "    <tr>\n",
       "      <th>3</th>\n",
       "      <td>3</td>\n",
       "      <td>ZIP drive</td>\n",
       "      <td>150</td>\n",
       "      <td>4</td>\n",
       "      <td>4</td>\n",
       "      <td>Iomega</td>\n",
       "      <td>150</td>\n",
       "    </tr>\n",
       "    <tr>\n",
       "      <th>4</th>\n",
       "      <td>5</td>\n",
       "      <td>Monitor</td>\n",
       "      <td>240</td>\n",
       "      <td>1</td>\n",
       "      <td>1</td>\n",
       "      <td>Sony</td>\n",
       "      <td>240</td>\n",
       "    </tr>\n",
       "    <tr>\n",
       "      <th>5</th>\n",
       "      <td>6</td>\n",
       "      <td>DVD drive</td>\n",
       "      <td>180</td>\n",
       "      <td>2</td>\n",
       "      <td>2</td>\n",
       "      <td>Creative Labs</td>\n",
       "      <td>180</td>\n",
       "    </tr>\n",
       "    <tr>\n",
       "      <th>6</th>\n",
       "      <td>7</td>\n",
       "      <td>CD drive</td>\n",
       "      <td>90</td>\n",
       "      <td>2</td>\n",
       "      <td>2</td>\n",
       "      <td>Creative Labs</td>\n",
       "      <td>180</td>\n",
       "    </tr>\n",
       "    <tr>\n",
       "      <th>7</th>\n",
       "      <td>10</td>\n",
       "      <td>DVD burner</td>\n",
       "      <td>180</td>\n",
       "      <td>2</td>\n",
       "      <td>2</td>\n",
       "      <td>Creative Labs</td>\n",
       "      <td>180</td>\n",
       "    </tr>\n",
       "    <tr>\n",
       "      <th>8</th>\n",
       "      <td>8</td>\n",
       "      <td>Printer</td>\n",
       "      <td>270</td>\n",
       "      <td>3</td>\n",
       "      <td>3</td>\n",
       "      <td>Hewlett-Packard</td>\n",
       "      <td>270</td>\n",
       "    </tr>\n",
       "    <tr>\n",
       "      <th>9</th>\n",
       "      <td>9</td>\n",
       "      <td>Toner cartridge</td>\n",
       "      <td>66</td>\n",
       "      <td>3</td>\n",
       "      <td>3</td>\n",
       "      <td>Hewlett-Packard</td>\n",
       "      <td>270</td>\n",
       "    </tr>\n",
       "  </tbody>\n",
       "</table>\n",
       "</div>"
      ],
      "text/plain": [
       "   code_x           name_x  price  manufacturer  code_y           name_y  \\\n",
       "0       1       Hard drive    240             5       5          Fujitsu   \n",
       "1       2           Memory    120             6       6       Winchester   \n",
       "2       4      Floppy disk      5             6       6       Winchester   \n",
       "3       3        ZIP drive    150             4       4           Iomega   \n",
       "4       5          Monitor    240             1       1             Sony   \n",
       "5       6        DVD drive    180             2       2    Creative Labs   \n",
       "6       7         CD drive     90             2       2    Creative Labs   \n",
       "7      10       DVD burner    180             2       2    Creative Labs   \n",
       "8       8          Printer    270             3       3  Hewlett-Packard   \n",
       "9       9  Toner cartridge     66             3       3  Hewlett-Packard   \n",
       "\n",
       "   max_price_manufacturer  \n",
       "0                     240  \n",
       "1                     120  \n",
       "2                     120  \n",
       "3                     150  \n",
       "4                     240  \n",
       "5                     180  \n",
       "6                     180  \n",
       "7                     180  \n",
       "8                     270  \n",
       "9                     270  "
      ]
     },
     "execution_count": 162,
     "metadata": {},
     "output_type": "execute_result"
    }
   ],
   "source": [
    "df['max_price_manufacturer'] = df.groupby('name_y')['price'].transform(max)\n",
    "\n",
    "df"
   ]
  },
  {
   "cell_type": "code",
   "execution_count": 163,
   "metadata": {
    "ExecuteTime": {
     "end_time": "2020-03-11T03:06:24.922488Z",
     "start_time": "2020-03-11T03:06:24.901179Z"
    }
   },
   "outputs": [
    {
     "data": {
      "text/html": [
       "<div>\n",
       "<style scoped>\n",
       "    .dataframe tbody tr th:only-of-type {\n",
       "        vertical-align: middle;\n",
       "    }\n",
       "\n",
       "    .dataframe tbody tr th {\n",
       "        vertical-align: top;\n",
       "    }\n",
       "\n",
       "    .dataframe thead th {\n",
       "        text-align: right;\n",
       "    }\n",
       "</style>\n",
       "<table border=\"1\" class=\"dataframe\">\n",
       "  <thead>\n",
       "    <tr style=\"text-align: right;\">\n",
       "      <th></th>\n",
       "      <th>code_x</th>\n",
       "      <th>name_x</th>\n",
       "      <th>price</th>\n",
       "      <th>manufacturer</th>\n",
       "      <th>code_y</th>\n",
       "      <th>name_y</th>\n",
       "      <th>max_price_manufacturer</th>\n",
       "    </tr>\n",
       "  </thead>\n",
       "  <tbody>\n",
       "    <tr>\n",
       "      <th>0</th>\n",
       "      <td>1</td>\n",
       "      <td>Hard drive</td>\n",
       "      <td>240</td>\n",
       "      <td>5</td>\n",
       "      <td>5</td>\n",
       "      <td>Fujitsu</td>\n",
       "      <td>240</td>\n",
       "    </tr>\n",
       "    <tr>\n",
       "      <th>1</th>\n",
       "      <td>2</td>\n",
       "      <td>Memory</td>\n",
       "      <td>120</td>\n",
       "      <td>6</td>\n",
       "      <td>6</td>\n",
       "      <td>Winchester</td>\n",
       "      <td>120</td>\n",
       "    </tr>\n",
       "    <tr>\n",
       "      <th>3</th>\n",
       "      <td>3</td>\n",
       "      <td>ZIP drive</td>\n",
       "      <td>150</td>\n",
       "      <td>4</td>\n",
       "      <td>4</td>\n",
       "      <td>Iomega</td>\n",
       "      <td>150</td>\n",
       "    </tr>\n",
       "    <tr>\n",
       "      <th>4</th>\n",
       "      <td>5</td>\n",
       "      <td>Monitor</td>\n",
       "      <td>240</td>\n",
       "      <td>1</td>\n",
       "      <td>1</td>\n",
       "      <td>Sony</td>\n",
       "      <td>240</td>\n",
       "    </tr>\n",
       "    <tr>\n",
       "      <th>5</th>\n",
       "      <td>6</td>\n",
       "      <td>DVD drive</td>\n",
       "      <td>180</td>\n",
       "      <td>2</td>\n",
       "      <td>2</td>\n",
       "      <td>Creative Labs</td>\n",
       "      <td>180</td>\n",
       "    </tr>\n",
       "    <tr>\n",
       "      <th>7</th>\n",
       "      <td>10</td>\n",
       "      <td>DVD burner</td>\n",
       "      <td>180</td>\n",
       "      <td>2</td>\n",
       "      <td>2</td>\n",
       "      <td>Creative Labs</td>\n",
       "      <td>180</td>\n",
       "    </tr>\n",
       "    <tr>\n",
       "      <th>8</th>\n",
       "      <td>8</td>\n",
       "      <td>Printer</td>\n",
       "      <td>270</td>\n",
       "      <td>3</td>\n",
       "      <td>3</td>\n",
       "      <td>Hewlett-Packard</td>\n",
       "      <td>270</td>\n",
       "    </tr>\n",
       "  </tbody>\n",
       "</table>\n",
       "</div>"
      ],
      "text/plain": [
       "   code_x      name_x  price  manufacturer  code_y           name_y  \\\n",
       "0       1  Hard drive    240             5       5          Fujitsu   \n",
       "1       2      Memory    120             6       6       Winchester   \n",
       "3       3   ZIP drive    150             4       4           Iomega   \n",
       "4       5     Monitor    240             1       1             Sony   \n",
       "5       6   DVD drive    180             2       2    Creative Labs   \n",
       "7      10  DVD burner    180             2       2    Creative Labs   \n",
       "8       8     Printer    270             3       3  Hewlett-Packard   \n",
       "\n",
       "   max_price_manufacturer  \n",
       "0                     240  \n",
       "1                     120  \n",
       "3                     150  \n",
       "4                     240  \n",
       "5                     180  \n",
       "7                     180  \n",
       "8                     270  "
      ]
     },
     "execution_count": 163,
     "metadata": {},
     "output_type": "execute_result"
    }
   ],
   "source": [
    "df[df.price==df.max_price_manufacturer]"
   ]
  },
  {
   "cell_type": "code",
   "execution_count": 164,
   "metadata": {
    "ExecuteTime": {
     "end_time": "2020-03-11T03:06:24.930420Z",
     "start_time": "2020-03-11T03:06:24.927681Z"
    }
   },
   "outputs": [],
   "source": [
    "# spark"
   ]
  },
  {
   "cell_type": "code",
   "execution_count": 165,
   "metadata": {
    "ExecuteTime": {
     "end_time": "2020-03-11T03:06:25.328637Z",
     "start_time": "2020-03-11T03:06:24.934625Z"
    }
   },
   "outputs": [
    {
     "name": "stdout",
     "output_type": "stream",
     "text": [
      "+------------+------------+-----+------------+-----------------+-----------------+\n",
      "|code_product|name_product|price|manufacturer|code_manufacturer|name_manufacturer|\n",
      "+------------+------------+-----+------------+-----------------+-----------------+\n",
      "|           5|     Monitor|  240|           1|                1|             Sony|\n",
      "|           2|      Memory|  120|           6|                6|       Winchester|\n",
      "+------------+------------+-----+------------+-----------------+-----------------+\n",
      "only showing top 2 rows\n",
      "\n"
     ]
    }
   ],
   "source": [
    "sdf.show(2)"
   ]
  },
  {
   "cell_type": "code",
   "execution_count": 166,
   "metadata": {
    "ExecuteTime": {
     "end_time": "2020-03-11T03:06:26.837058Z",
     "start_time": "2020-03-11T03:06:25.335846Z"
    }
   },
   "outputs": [
    {
     "name": "stdout",
     "output_type": "stream",
     "text": [
      "+-----------------+-----+----------------------+\n",
      "|name_manufacturer|price|max_price_manufacturer|\n",
      "+-----------------+-----+----------------------+\n",
      "|           Iomega|  150|                   150|\n",
      "|    Creative Labs|  180|                   180|\n",
      "|    Creative Labs|   90|                   180|\n",
      "|    Creative Labs|  180|                   180|\n",
      "|             Sony|  240|                   240|\n",
      "|          Fujitsu|  240|                   240|\n",
      "|       Winchester|  120|                   120|\n",
      "|       Winchester|    5|                   120|\n",
      "|  Hewlett-Packard|  270|                   270|\n",
      "|  Hewlett-Packard|   66|                   270|\n",
      "+-----------------+-----+----------------------+\n",
      "\n"
     ]
    }
   ],
   "source": [
    "from pyspark.sql.window import Window\n",
    "\n",
    "window = Window().partitionBy('name_manufacturer')\n",
    "\n",
    "sdf = sdf.withColumn('max_price_manufacturer',\n",
    "                      F.max('price').over(window))\n",
    "\n",
    "sdf.select('name_manufacturer','price','max_price_manufacturer').show()"
   ]
  },
  {
   "cell_type": "code",
   "execution_count": 167,
   "metadata": {
    "ExecuteTime": {
     "end_time": "2020-03-11T03:06:28.426649Z",
     "start_time": "2020-03-11T03:06:26.839222Z"
    }
   },
   "outputs": [
    {
     "name": "stdout",
     "output_type": "stream",
     "text": [
      "+------------+------------+-----+------------+-----------------+-----------------+----------------------+\n",
      "|code_product|name_product|price|manufacturer|code_manufacturer|name_manufacturer|max_price_manufacturer|\n",
      "+------------+------------+-----+------------+-----------------+-----------------+----------------------+\n",
      "|           3|   ZIP drive|  150|           4|                4|           Iomega|                   150|\n",
      "|           6|   DVD drive|  180|           2|                2|    Creative Labs|                   180|\n",
      "|          10|  DVD burner|  180|           2|                2|    Creative Labs|                   180|\n",
      "|           5|     Monitor|  240|           1|                1|             Sony|                   240|\n",
      "|           1|  Hard drive|  240|           5|                5|          Fujitsu|                   240|\n",
      "|           2|      Memory|  120|           6|                6|       Winchester|                   120|\n",
      "|           8|     Printer|  270|           3|                3|  Hewlett-Packard|                   270|\n",
      "+------------+------------+-----+------------+-----------------+-----------------+----------------------+\n",
      "\n"
     ]
    }
   ],
   "source": [
    "sdf[sdf.price==sdf.max_price_manufacturer].show()"
   ]
  },
  {
   "cell_type": "code",
   "execution_count": 168,
   "metadata": {
    "ExecuteTime": {
     "end_time": "2020-03-11T03:06:28.431181Z",
     "start_time": "2020-03-11T03:06:28.428718Z"
    }
   },
   "outputs": [],
   "source": [
    "# sql"
   ]
  },
  {
   "cell_type": "code",
   "execution_count": 169,
   "metadata": {
    "ExecuteTime": {
     "end_time": "2020-03-11T03:06:30.857861Z",
     "start_time": "2020-03-11T03:06:28.433365Z"
    }
   },
   "outputs": [
    {
     "name": "stdout",
     "output_type": "stream",
     "text": [
      "+----------+-----+---------------+\n",
      "|      name|price|           name|\n",
      "+----------+-----+---------------+\n",
      "| DVD drive|  180|  Creative Labs|\n",
      "|DVD burner|  180|  Creative Labs|\n",
      "|    Memory|  120|     Winchester|\n",
      "|Hard drive|  240|        Fujitsu|\n",
      "| ZIP drive|  150|         Iomega|\n",
      "|   Monitor|  240|           Sony|\n",
      "|   Printer|  270|Hewlett-Packard|\n",
      "+----------+-----+---------------+\n",
      "\n"
     ]
    }
   ],
   "source": [
    "spark.sql(\"\"\"\n",
    "select P.name, P.price, M.name\n",
    "from Products P, Manufacturers M\n",
    "where P.manufacturer = M.code\n",
    " and P.price =\n",
    " (\n",
    "   select max(P.price)\n",
    "     from Products P\n",
    "     where P.Manufacturer = M.Code\n",
    " )\n",
    "\"\"\").show()"
   ]
  },
  {
   "cell_type": "code",
   "execution_count": 170,
   "metadata": {
    "ExecuteTime": {
     "end_time": "2020-03-11T03:06:32.624448Z",
     "start_time": "2020-03-11T03:06:30.860185Z"
    }
   },
   "outputs": [
    {
     "name": "stdout",
     "output_type": "stream",
     "text": [
      "+-------+-----+---------------+\n",
      "|   name|price|           name|\n",
      "+-------+-----+---------------+\n",
      "|Printer|  270|Hewlett-Packard|\n",
      "+-------+-----+---------------+\n",
      "\n"
     ]
    }
   ],
   "source": [
    "spark.sql(\"\"\"\n",
    "select P.name, P.price, M.name\n",
    "from Products P, Manufacturers M\n",
    "where P.manufacturer = M.code\n",
    " and P.price =\n",
    " (\n",
    "   select max(P.price)\n",
    "     from Products P, Manufacturers M\n",
    "     where P.Manufacturer = M.Code\n",
    " )\n",
    "\"\"\").show()"
   ]
  },
  {
   "cell_type": "markdown",
   "metadata": {},
   "source": [
    "## Add a new product: Loudspeakers, 70, manufacturer 2."
   ]
  },
  {
   "cell_type": "markdown",
   "metadata": {},
   "source": [
    "<div class=\"alert alert-block alert-info\">\n",
    "<b>Question: 17</b> \n",
    "    Add a new product: Loudspeakers, $70, manufacturer 2.\n",
    "</div> "
   ]
  },
  {
   "cell_type": "code",
   "execution_count": 171,
   "metadata": {
    "ExecuteTime": {
     "end_time": "2020-03-11T03:06:32.636988Z",
     "start_time": "2020-03-11T03:06:32.626865Z"
    }
   },
   "outputs": [
    {
     "data": {
      "text/html": [
       "<div>\n",
       "<style scoped>\n",
       "    .dataframe tbody tr th:only-of-type {\n",
       "        vertical-align: middle;\n",
       "    }\n",
       "\n",
       "    .dataframe tbody tr th {\n",
       "        vertical-align: top;\n",
       "    }\n",
       "\n",
       "    .dataframe thead th {\n",
       "        text-align: right;\n",
       "    }\n",
       "</style>\n",
       "<table border=\"1\" class=\"dataframe\">\n",
       "  <thead>\n",
       "    <tr style=\"text-align: right;\">\n",
       "      <th></th>\n",
       "      <th>code</th>\n",
       "      <th>name</th>\n",
       "      <th>price</th>\n",
       "      <th>manufacturer</th>\n",
       "    </tr>\n",
       "  </thead>\n",
       "  <tbody>\n",
       "    <tr>\n",
       "      <th>8</th>\n",
       "      <td>9</td>\n",
       "      <td>Toner cartridge</td>\n",
       "      <td>66</td>\n",
       "      <td>3</td>\n",
       "    </tr>\n",
       "    <tr>\n",
       "      <th>9</th>\n",
       "      <td>10</td>\n",
       "      <td>DVD burner</td>\n",
       "      <td>180</td>\n",
       "      <td>2</td>\n",
       "    </tr>\n",
       "  </tbody>\n",
       "</table>\n",
       "</div>"
      ],
      "text/plain": [
       "   code             name  price  manufacturer\n",
       "8     9  Toner cartridge     66             3\n",
       "9    10       DVD burner    180             2"
      ]
     },
     "execution_count": 171,
     "metadata": {},
     "output_type": "execute_result"
    }
   ],
   "source": [
    "dfp.tail(2)"
   ]
  },
  {
   "cell_type": "code",
   "execution_count": 172,
   "metadata": {
    "ExecuteTime": {
     "end_time": "2020-03-11T03:06:32.664828Z",
     "start_time": "2020-03-11T03:06:32.640890Z"
    }
   },
   "outputs": [
    {
     "data": {
      "text/html": [
       "<div>\n",
       "<style scoped>\n",
       "    .dataframe tbody tr th:only-of-type {\n",
       "        vertical-align: middle;\n",
       "    }\n",
       "\n",
       "    .dataframe tbody tr th {\n",
       "        vertical-align: top;\n",
       "    }\n",
       "\n",
       "    .dataframe thead th {\n",
       "        text-align: right;\n",
       "    }\n",
       "</style>\n",
       "<table border=\"1\" class=\"dataframe\">\n",
       "  <thead>\n",
       "    <tr style=\"text-align: right;\">\n",
       "      <th></th>\n",
       "      <th>code</th>\n",
       "      <th>name</th>\n",
       "      <th>price</th>\n",
       "      <th>manufacturer</th>\n",
       "    </tr>\n",
       "  </thead>\n",
       "  <tbody>\n",
       "    <tr>\n",
       "      <th>0</th>\n",
       "      <td>1</td>\n",
       "      <td>Hard drive</td>\n",
       "      <td>240</td>\n",
       "      <td>5</td>\n",
       "    </tr>\n",
       "    <tr>\n",
       "      <th>1</th>\n",
       "      <td>2</td>\n",
       "      <td>Memory</td>\n",
       "      <td>120</td>\n",
       "      <td>6</td>\n",
       "    </tr>\n",
       "    <tr>\n",
       "      <th>2</th>\n",
       "      <td>3</td>\n",
       "      <td>ZIP drive</td>\n",
       "      <td>150</td>\n",
       "      <td>4</td>\n",
       "    </tr>\n",
       "    <tr>\n",
       "      <th>3</th>\n",
       "      <td>4</td>\n",
       "      <td>Floppy disk</td>\n",
       "      <td>5</td>\n",
       "      <td>6</td>\n",
       "    </tr>\n",
       "    <tr>\n",
       "      <th>4</th>\n",
       "      <td>5</td>\n",
       "      <td>Monitor</td>\n",
       "      <td>240</td>\n",
       "      <td>1</td>\n",
       "    </tr>\n",
       "    <tr>\n",
       "      <th>5</th>\n",
       "      <td>6</td>\n",
       "      <td>DVD drive</td>\n",
       "      <td>180</td>\n",
       "      <td>2</td>\n",
       "    </tr>\n",
       "    <tr>\n",
       "      <th>6</th>\n",
       "      <td>7</td>\n",
       "      <td>CD drive</td>\n",
       "      <td>90</td>\n",
       "      <td>2</td>\n",
       "    </tr>\n",
       "    <tr>\n",
       "      <th>7</th>\n",
       "      <td>8</td>\n",
       "      <td>Printer</td>\n",
       "      <td>270</td>\n",
       "      <td>3</td>\n",
       "    </tr>\n",
       "    <tr>\n",
       "      <th>8</th>\n",
       "      <td>9</td>\n",
       "      <td>Toner cartridge</td>\n",
       "      <td>66</td>\n",
       "      <td>3</td>\n",
       "    </tr>\n",
       "    <tr>\n",
       "      <th>9</th>\n",
       "      <td>10</td>\n",
       "      <td>DVD burner</td>\n",
       "      <td>180</td>\n",
       "      <td>2</td>\n",
       "    </tr>\n",
       "    <tr>\n",
       "      <th>10</th>\n",
       "      <td>11</td>\n",
       "      <td>Loudspeakers</td>\n",
       "      <td>70</td>\n",
       "      <td>2</td>\n",
       "    </tr>\n",
       "  </tbody>\n",
       "</table>\n",
       "</div>"
      ],
      "text/plain": [
       "    code             name  price  manufacturer\n",
       "0      1       Hard drive    240             5\n",
       "1      2           Memory    120             6\n",
       "2      3        ZIP drive    150             4\n",
       "3      4      Floppy disk      5             6\n",
       "4      5          Monitor    240             1\n",
       "5      6        DVD drive    180             2\n",
       "6      7         CD drive     90             2\n",
       "7      8          Printer    270             3\n",
       "8      9  Toner cartridge     66             3\n",
       "9     10       DVD burner    180             2\n",
       "10    11     Loudspeakers     70             2"
      ]
     },
     "execution_count": 172,
     "metadata": {},
     "output_type": "execute_result"
    }
   ],
   "source": [
    "dfp.loc[len(dfp)] = [dfp.code.iloc[-1]+1, 'Loudspeakers', 70, 2]\n",
    "\n",
    "dfp"
   ]
  },
  {
   "cell_type": "code",
   "execution_count": 173,
   "metadata": {
    "ExecuteTime": {
     "end_time": "2020-03-11T03:06:32.684846Z",
     "start_time": "2020-03-11T03:06:32.671278Z"
    }
   },
   "outputs": [],
   "source": [
    "# pyspark"
   ]
  },
  {
   "cell_type": "code",
   "execution_count": 174,
   "metadata": {
    "ExecuteTime": {
     "end_time": "2020-03-11T03:06:32.692613Z",
     "start_time": "2020-03-11T03:06:32.688260Z"
    }
   },
   "outputs": [],
   "source": [
    "\"\"\"\n",
    "spark df and rdd are immutable, we can not insert row to them,\n",
    "but we can create new dataframe and union to old df and create new immutable dataframe.\n",
    "\n",
    "\"\"\";"
   ]
  },
  {
   "cell_type": "code",
   "execution_count": 175,
   "metadata": {
    "ExecuteTime": {
     "end_time": "2020-03-11T03:06:32.772977Z",
     "start_time": "2020-03-11T03:06:32.698489Z"
    }
   },
   "outputs": [
    {
     "name": "stdout",
     "output_type": "stream",
     "text": [
      "+----+---------------+-----+------------+\n",
      "|code|           name|price|manufacturer|\n",
      "+----+---------------+-----+------------+\n",
      "|   1|     Hard drive|  240|           5|\n",
      "|   2|         Memory|  120|           6|\n",
      "|   3|      ZIP drive|  150|           4|\n",
      "|   4|    Floppy disk|    5|           6|\n",
      "|   5|        Monitor|  240|           1|\n",
      "|   6|      DVD drive|  180|           2|\n",
      "|   7|       CD drive|   90|           2|\n",
      "|   8|        Printer|  270|           3|\n",
      "|   9|Toner cartridge|   66|           3|\n",
      "|  10|     DVD burner|  180|           2|\n",
      "+----+---------------+-----+------------+\n",
      "\n"
     ]
    }
   ],
   "source": [
    "sdfp.show()"
   ]
  },
  {
   "cell_type": "code",
   "execution_count": 176,
   "metadata": {
    "ExecuteTime": {
     "end_time": "2020-03-11T03:06:32.882545Z",
     "start_time": "2020-03-11T03:06:32.778074Z"
    }
   },
   "outputs": [
    {
     "data": {
      "text/plain": [
       "10"
      ]
     },
     "execution_count": 176,
     "metadata": {},
     "output_type": "execute_result"
    }
   ],
   "source": [
    "sdfp.count()"
   ]
  },
  {
   "cell_type": "code",
   "execution_count": 177,
   "metadata": {
    "ExecuteTime": {
     "end_time": "2020-03-11T03:06:33.248538Z",
     "start_time": "2020-03-11T03:06:32.888960Z"
    }
   },
   "outputs": [
    {
     "name": "stdout",
     "output_type": "stream",
     "text": [
      "+----+---------------+-----+------------+\n",
      "|code|           name|price|manufacturer|\n",
      "+----+---------------+-----+------------+\n",
      "|   1|     Hard drive|  240|           5|\n",
      "|   2|         Memory|  120|           6|\n",
      "|   3|      ZIP drive|  150|           4|\n",
      "|   4|    Floppy disk|    5|           6|\n",
      "|   5|        Monitor|  240|           1|\n",
      "|   6|      DVD drive|  180|           2|\n",
      "|   7|       CD drive|   90|           2|\n",
      "|   8|        Printer|  270|           3|\n",
      "|   9|Toner cartridge|   66|           3|\n",
      "|  10|     DVD burner|  180|           2|\n",
      "|  11|   Loudspeakers|   70|           2|\n",
      "+----+---------------+-----+------------+\n",
      "\n"
     ]
    }
   ],
   "source": [
    "newRow = spark.createDataFrame([(sdfp.count()+1,'Loudspeakers', 70, 2)], sdfp.columns)\n",
    "appended = sdfp.union(newRow)\n",
    "appended.show()"
   ]
  },
  {
   "cell_type": "code",
   "execution_count": 178,
   "metadata": {
    "ExecuteTime": {
     "end_time": "2020-03-11T03:06:33.255091Z",
     "start_time": "2020-03-11T03:06:33.251477Z"
    }
   },
   "outputs": [],
   "source": [
    "\"\"\"\n",
    "\n",
    "%%sql\n",
    "\n",
    "insert into Products(code,name,         price,manufacturer)\n",
    "values              (11, 'Loudspeakers',70,   2);\n",
    "\n",
    "\n",
    "\"\"\";"
   ]
  },
  {
   "cell_type": "markdown",
   "metadata": {},
   "source": [
    "## Update the name of product 8 to \"Laser Printer\"."
   ]
  },
  {
   "cell_type": "markdown",
   "metadata": {},
   "source": [
    "<div class=\"alert alert-block alert-info\">\n",
    "<b>Question:</b> \n",
    "    18. Update the name of product 8 to \"Laser Printer\".\n",
    "</div> "
   ]
  },
  {
   "cell_type": "code",
   "execution_count": 179,
   "metadata": {
    "ExecuteTime": {
     "end_time": "2020-03-11T03:06:33.274481Z",
     "start_time": "2020-03-11T03:06:33.259414Z"
    }
   },
   "outputs": [
    {
     "data": {
      "text/html": [
       "<div>\n",
       "<style scoped>\n",
       "    .dataframe tbody tr th:only-of-type {\n",
       "        vertical-align: middle;\n",
       "    }\n",
       "\n",
       "    .dataframe tbody tr th {\n",
       "        vertical-align: top;\n",
       "    }\n",
       "\n",
       "    .dataframe thead th {\n",
       "        text-align: right;\n",
       "    }\n",
       "</style>\n",
       "<table border=\"1\" class=\"dataframe\">\n",
       "  <thead>\n",
       "    <tr style=\"text-align: right;\">\n",
       "      <th></th>\n",
       "      <th>code</th>\n",
       "      <th>name</th>\n",
       "      <th>price</th>\n",
       "      <th>manufacturer</th>\n",
       "    </tr>\n",
       "  </thead>\n",
       "  <tbody>\n",
       "    <tr>\n",
       "      <th>0</th>\n",
       "      <td>1</td>\n",
       "      <td>Hard drive</td>\n",
       "      <td>240</td>\n",
       "      <td>5</td>\n",
       "    </tr>\n",
       "    <tr>\n",
       "      <th>1</th>\n",
       "      <td>2</td>\n",
       "      <td>Memory</td>\n",
       "      <td>120</td>\n",
       "      <td>6</td>\n",
       "    </tr>\n",
       "    <tr>\n",
       "      <th>2</th>\n",
       "      <td>3</td>\n",
       "      <td>ZIP drive</td>\n",
       "      <td>150</td>\n",
       "      <td>4</td>\n",
       "    </tr>\n",
       "    <tr>\n",
       "      <th>3</th>\n",
       "      <td>4</td>\n",
       "      <td>Floppy disk</td>\n",
       "      <td>5</td>\n",
       "      <td>6</td>\n",
       "    </tr>\n",
       "    <tr>\n",
       "      <th>4</th>\n",
       "      <td>5</td>\n",
       "      <td>Monitor</td>\n",
       "      <td>240</td>\n",
       "      <td>1</td>\n",
       "    </tr>\n",
       "    <tr>\n",
       "      <th>5</th>\n",
       "      <td>6</td>\n",
       "      <td>DVD drive</td>\n",
       "      <td>180</td>\n",
       "      <td>2</td>\n",
       "    </tr>\n",
       "    <tr>\n",
       "      <th>6</th>\n",
       "      <td>7</td>\n",
       "      <td>CD drive</td>\n",
       "      <td>90</td>\n",
       "      <td>2</td>\n",
       "    </tr>\n",
       "    <tr>\n",
       "      <th>7</th>\n",
       "      <td>8</td>\n",
       "      <td>Laser Printer</td>\n",
       "      <td>270</td>\n",
       "      <td>3</td>\n",
       "    </tr>\n",
       "    <tr>\n",
       "      <th>8</th>\n",
       "      <td>9</td>\n",
       "      <td>Toner cartridge</td>\n",
       "      <td>66</td>\n",
       "      <td>3</td>\n",
       "    </tr>\n",
       "    <tr>\n",
       "      <th>9</th>\n",
       "      <td>10</td>\n",
       "      <td>DVD burner</td>\n",
       "      <td>180</td>\n",
       "      <td>2</td>\n",
       "    </tr>\n",
       "    <tr>\n",
       "      <th>10</th>\n",
       "      <td>11</td>\n",
       "      <td>Loudspeakers</td>\n",
       "      <td>70</td>\n",
       "      <td>2</td>\n",
       "    </tr>\n",
       "  </tbody>\n",
       "</table>\n",
       "</div>"
      ],
      "text/plain": [
       "    code             name  price  manufacturer\n",
       "0      1       Hard drive    240             5\n",
       "1      2           Memory    120             6\n",
       "2      3        ZIP drive    150             4\n",
       "3      4      Floppy disk      5             6\n",
       "4      5          Monitor    240             1\n",
       "5      6        DVD drive    180             2\n",
       "6      7         CD drive     90             2\n",
       "7      8    Laser Printer    270             3\n",
       "8      9  Toner cartridge     66             3\n",
       "9     10       DVD burner    180             2\n",
       "10    11     Loudspeakers     70             2"
      ]
     },
     "execution_count": 179,
     "metadata": {},
     "output_type": "execute_result"
    }
   ],
   "source": [
    "dfp.loc[dfp.code==8,'name'] = 'Laser Printer'\n",
    "dfp"
   ]
  },
  {
   "cell_type": "code",
   "execution_count": 180,
   "metadata": {
    "ExecuteTime": {
     "end_time": "2020-03-11T03:06:33.281732Z",
     "start_time": "2020-03-11T03:06:33.279196Z"
    }
   },
   "outputs": [],
   "source": [
    "# spark"
   ]
  },
  {
   "cell_type": "code",
   "execution_count": 181,
   "metadata": {
    "ExecuteTime": {
     "end_time": "2020-03-11T03:06:33.358017Z",
     "start_time": "2020-03-11T03:06:33.287610Z"
    }
   },
   "outputs": [
    {
     "name": "stdout",
     "output_type": "stream",
     "text": [
      "+----+---------------+-----+------------+\n",
      "|code|           name|price|manufacturer|\n",
      "+----+---------------+-----+------------+\n",
      "|   1|     Hard drive|  240|           5|\n",
      "|   2|         Memory|  120|           6|\n",
      "|   3|      ZIP drive|  150|           4|\n",
      "|   4|    Floppy disk|    5|           6|\n",
      "|   5|        Monitor|  240|           1|\n",
      "|   6|      DVD drive|  180|           2|\n",
      "|   7|       CD drive|   90|           2|\n",
      "|   8|        Printer|  270|           3|\n",
      "|   9|Toner cartridge|   66|           3|\n",
      "|  10|     DVD burner|  180|           2|\n",
      "+----+---------------+-----+------------+\n",
      "\n"
     ]
    }
   ],
   "source": [
    "sdfp.show()"
   ]
  },
  {
   "cell_type": "code",
   "execution_count": 182,
   "metadata": {
    "ExecuteTime": {
     "end_time": "2020-03-11T03:06:33.534598Z",
     "start_time": "2020-03-11T03:06:33.360959Z"
    }
   },
   "outputs": [
    {
     "name": "stdout",
     "output_type": "stream",
     "text": [
      "+----+-----+------------+---------------+\n",
      "|code|price|manufacturer|           name|\n",
      "+----+-----+------------+---------------+\n",
      "|   1|  240|           5|     Hard drive|\n",
      "|   2|  120|           6|         Memory|\n",
      "|   3|  150|           4|      ZIP drive|\n",
      "|   4|    5|           6|    Floppy disk|\n",
      "|   5|  240|           1|        Monitor|\n",
      "|   6|  180|           2|      DVD drive|\n",
      "|   7|   90|           2|       CD drive|\n",
      "|   8|  270|           3|  Laser Printer|\n",
      "|   9|   66|           3|Toner cartridge|\n",
      "|  10|  180|           2|     DVD burner|\n",
      "+----+-----+------------+---------------+\n",
      "\n"
     ]
    }
   ],
   "source": [
    "sdfp.withColumn(\"new_name\", F.when(F.col(\"code\")==8, 'Laser Printer')\\\n",
    "                             .otherwise(F.col(\"name\")))\\\n",
    ".drop('name')\\\n",
    ".withColumnRenamed('new_name','name')\\\n",
    ".show()"
   ]
  },
  {
   "cell_type": "code",
   "execution_count": 183,
   "metadata": {
    "ExecuteTime": {
     "end_time": "2020-03-11T03:06:33.541225Z",
     "start_time": "2020-03-11T03:06:33.538417Z"
    }
   },
   "outputs": [],
   "source": [
    "\"\"\"\n",
    "\n",
    "%%sql\n",
    "update Products\n",
    "set name = 'Laser Printer'\n",
    "where code = 8;\n",
    "\"\"\";"
   ]
  },
  {
   "cell_type": "markdown",
   "metadata": {},
   "source": [
    "## Apply a 10% discount to all products."
   ]
  },
  {
   "cell_type": "markdown",
   "metadata": {},
   "source": [
    "<div class=\"alert alert-block alert-info\">\n",
    "<b>Question:</b> \n",
    "    19. Apply a 10% discount to all products.\n",
    "</div> "
   ]
  },
  {
   "cell_type": "code",
   "execution_count": 184,
   "metadata": {
    "ExecuteTime": {
     "end_time": "2020-03-11T03:06:33.559523Z",
     "start_time": "2020-03-11T03:06:33.545536Z"
    }
   },
   "outputs": [
    {
     "data": {
      "text/html": [
       "<div>\n",
       "<style scoped>\n",
       "    .dataframe tbody tr th:only-of-type {\n",
       "        vertical-align: middle;\n",
       "    }\n",
       "\n",
       "    .dataframe tbody tr th {\n",
       "        vertical-align: top;\n",
       "    }\n",
       "\n",
       "    .dataframe thead th {\n",
       "        text-align: right;\n",
       "    }\n",
       "</style>\n",
       "<table border=\"1\" class=\"dataframe\">\n",
       "  <thead>\n",
       "    <tr style=\"text-align: right;\">\n",
       "      <th></th>\n",
       "      <th>code</th>\n",
       "      <th>name</th>\n",
       "      <th>price</th>\n",
       "      <th>manufacturer</th>\n",
       "    </tr>\n",
       "  </thead>\n",
       "  <tbody>\n",
       "    <tr>\n",
       "      <th>0</th>\n",
       "      <td>1</td>\n",
       "      <td>Hard drive</td>\n",
       "      <td>216.0</td>\n",
       "      <td>5</td>\n",
       "    </tr>\n",
       "    <tr>\n",
       "      <th>1</th>\n",
       "      <td>2</td>\n",
       "      <td>Memory</td>\n",
       "      <td>108.0</td>\n",
       "      <td>6</td>\n",
       "    </tr>\n",
       "    <tr>\n",
       "      <th>2</th>\n",
       "      <td>3</td>\n",
       "      <td>ZIP drive</td>\n",
       "      <td>135.0</td>\n",
       "      <td>4</td>\n",
       "    </tr>\n",
       "    <tr>\n",
       "      <th>3</th>\n",
       "      <td>4</td>\n",
       "      <td>Floppy disk</td>\n",
       "      <td>4.5</td>\n",
       "      <td>6</td>\n",
       "    </tr>\n",
       "    <tr>\n",
       "      <th>4</th>\n",
       "      <td>5</td>\n",
       "      <td>Monitor</td>\n",
       "      <td>216.0</td>\n",
       "      <td>1</td>\n",
       "    </tr>\n",
       "    <tr>\n",
       "      <th>5</th>\n",
       "      <td>6</td>\n",
       "      <td>DVD drive</td>\n",
       "      <td>162.0</td>\n",
       "      <td>2</td>\n",
       "    </tr>\n",
       "    <tr>\n",
       "      <th>6</th>\n",
       "      <td>7</td>\n",
       "      <td>CD drive</td>\n",
       "      <td>81.0</td>\n",
       "      <td>2</td>\n",
       "    </tr>\n",
       "    <tr>\n",
       "      <th>7</th>\n",
       "      <td>8</td>\n",
       "      <td>Laser Printer</td>\n",
       "      <td>243.0</td>\n",
       "      <td>3</td>\n",
       "    </tr>\n",
       "    <tr>\n",
       "      <th>8</th>\n",
       "      <td>9</td>\n",
       "      <td>Toner cartridge</td>\n",
       "      <td>59.4</td>\n",
       "      <td>3</td>\n",
       "    </tr>\n",
       "    <tr>\n",
       "      <th>9</th>\n",
       "      <td>10</td>\n",
       "      <td>DVD burner</td>\n",
       "      <td>162.0</td>\n",
       "      <td>2</td>\n",
       "    </tr>\n",
       "    <tr>\n",
       "      <th>10</th>\n",
       "      <td>11</td>\n",
       "      <td>Loudspeakers</td>\n",
       "      <td>63.0</td>\n",
       "      <td>2</td>\n",
       "    </tr>\n",
       "  </tbody>\n",
       "</table>\n",
       "</div>"
      ],
      "text/plain": [
       "    code             name  price  manufacturer\n",
       "0      1       Hard drive  216.0             5\n",
       "1      2           Memory  108.0             6\n",
       "2      3        ZIP drive  135.0             4\n",
       "3      4      Floppy disk    4.5             6\n",
       "4      5          Monitor  216.0             1\n",
       "5      6        DVD drive  162.0             2\n",
       "6      7         CD drive   81.0             2\n",
       "7      8    Laser Printer  243.0             3\n",
       "8      9  Toner cartridge   59.4             3\n",
       "9     10       DVD burner  162.0             2\n",
       "10    11     Loudspeakers   63.0             2"
      ]
     },
     "execution_count": 184,
     "metadata": {},
     "output_type": "execute_result"
    }
   ],
   "source": [
    "dfp['price'] *= 0.9\n",
    "dfp"
   ]
  },
  {
   "cell_type": "code",
   "execution_count": 185,
   "metadata": {
    "ExecuteTime": {
     "end_time": "2020-03-11T03:06:33.565420Z",
     "start_time": "2020-03-11T03:06:33.562402Z"
    }
   },
   "outputs": [],
   "source": [
    "# spark"
   ]
  },
  {
   "cell_type": "code",
   "execution_count": 186,
   "metadata": {
    "ExecuteTime": {
     "end_time": "2020-03-11T03:06:33.706993Z",
     "start_time": "2020-03-11T03:06:33.568973Z"
    }
   },
   "outputs": [
    {
     "name": "stdout",
     "output_type": "stream",
     "text": [
      "+----+---------------+-----+------------+----------------+\n",
      "|code|           name|price|manufacturer|discounted_price|\n",
      "+----+---------------+-----+------------+----------------+\n",
      "|   1|     Hard drive|  240|           5|           216.0|\n",
      "|   2|         Memory|  120|           6|           108.0|\n",
      "|   3|      ZIP drive|  150|           4|           135.0|\n",
      "|   4|    Floppy disk|    5|           6|             4.5|\n",
      "|   5|        Monitor|  240|           1|           216.0|\n",
      "|   6|      DVD drive|  180|           2|           162.0|\n",
      "|   7|       CD drive|   90|           2|            81.0|\n",
      "|   8|        Printer|  270|           3|           243.0|\n",
      "|   9|Toner cartridge|   66|           3|            59.4|\n",
      "|  10|     DVD burner|  180|           2|           162.0|\n",
      "+----+---------------+-----+------------+----------------+\n",
      "\n"
     ]
    }
   ],
   "source": [
    "sdfp.withColumn('discounted_price', F.col('price')*0.9).show()"
   ]
  },
  {
   "cell_type": "code",
   "execution_count": 187,
   "metadata": {
    "ExecuteTime": {
     "end_time": "2020-03-11T03:06:33.716555Z",
     "start_time": "2020-03-11T03:06:33.713260Z"
    }
   },
   "outputs": [],
   "source": [
    "# sql"
   ]
  },
  {
   "cell_type": "code",
   "execution_count": 188,
   "metadata": {
    "ExecuteTime": {
     "end_time": "2020-03-11T03:06:33.727352Z",
     "start_time": "2020-03-11T03:06:33.721535Z"
    }
   },
   "outputs": [],
   "source": [
    "\"\"\"\n",
    "update Products\n",
    "set price = price * 0.9\n",
    "\n",
    "set price = price - (price * 0.1)\n",
    "\n",
    "\"\"\";"
   ]
  },
  {
   "cell_type": "markdown",
   "metadata": {},
   "source": [
    "## Apply a 10% discount to all products with a price larger than or equal to 120."
   ]
  },
  {
   "cell_type": "markdown",
   "metadata": {},
   "source": [
    "<div class=\"alert alert-block alert-info\">\n",
    "<b>Question:</b> \n",
    "    20. Apply a 10% discount to all products with a price larger than or equal to $120.\n",
    "</div> "
   ]
  },
  {
   "cell_type": "code",
   "execution_count": 189,
   "metadata": {
    "ExecuteTime": {
     "end_time": "2020-03-11T03:06:33.747983Z",
     "start_time": "2020-03-11T03:06:33.732852Z"
    }
   },
   "outputs": [
    {
     "data": {
      "text/html": [
       "<div>\n",
       "<style scoped>\n",
       "    .dataframe tbody tr th:only-of-type {\n",
       "        vertical-align: middle;\n",
       "    }\n",
       "\n",
       "    .dataframe tbody tr th {\n",
       "        vertical-align: top;\n",
       "    }\n",
       "\n",
       "    .dataframe thead th {\n",
       "        text-align: right;\n",
       "    }\n",
       "</style>\n",
       "<table border=\"1\" class=\"dataframe\">\n",
       "  <thead>\n",
       "    <tr style=\"text-align: right;\">\n",
       "      <th></th>\n",
       "      <th>code</th>\n",
       "      <th>name</th>\n",
       "      <th>price</th>\n",
       "      <th>manufacturer</th>\n",
       "    </tr>\n",
       "  </thead>\n",
       "  <tbody>\n",
       "    <tr>\n",
       "      <th>0</th>\n",
       "      <td>1</td>\n",
       "      <td>Hard drive</td>\n",
       "      <td>216.0</td>\n",
       "      <td>5</td>\n",
       "    </tr>\n",
       "    <tr>\n",
       "      <th>1</th>\n",
       "      <td>2</td>\n",
       "      <td>Memory</td>\n",
       "      <td>108.0</td>\n",
       "      <td>6</td>\n",
       "    </tr>\n",
       "    <tr>\n",
       "      <th>2</th>\n",
       "      <td>3</td>\n",
       "      <td>ZIP drive</td>\n",
       "      <td>135.0</td>\n",
       "      <td>4</td>\n",
       "    </tr>\n",
       "    <tr>\n",
       "      <th>3</th>\n",
       "      <td>4</td>\n",
       "      <td>Floppy disk</td>\n",
       "      <td>4.5</td>\n",
       "      <td>6</td>\n",
       "    </tr>\n",
       "    <tr>\n",
       "      <th>4</th>\n",
       "      <td>5</td>\n",
       "      <td>Monitor</td>\n",
       "      <td>216.0</td>\n",
       "      <td>1</td>\n",
       "    </tr>\n",
       "    <tr>\n",
       "      <th>5</th>\n",
       "      <td>6</td>\n",
       "      <td>DVD drive</td>\n",
       "      <td>162.0</td>\n",
       "      <td>2</td>\n",
       "    </tr>\n",
       "    <tr>\n",
       "      <th>6</th>\n",
       "      <td>7</td>\n",
       "      <td>CD drive</td>\n",
       "      <td>81.0</td>\n",
       "      <td>2</td>\n",
       "    </tr>\n",
       "    <tr>\n",
       "      <th>7</th>\n",
       "      <td>8</td>\n",
       "      <td>Laser Printer</td>\n",
       "      <td>243.0</td>\n",
       "      <td>3</td>\n",
       "    </tr>\n",
       "    <tr>\n",
       "      <th>8</th>\n",
       "      <td>9</td>\n",
       "      <td>Toner cartridge</td>\n",
       "      <td>59.4</td>\n",
       "      <td>3</td>\n",
       "    </tr>\n",
       "    <tr>\n",
       "      <th>9</th>\n",
       "      <td>10</td>\n",
       "      <td>DVD burner</td>\n",
       "      <td>162.0</td>\n",
       "      <td>2</td>\n",
       "    </tr>\n",
       "    <tr>\n",
       "      <th>10</th>\n",
       "      <td>11</td>\n",
       "      <td>Loudspeakers</td>\n",
       "      <td>63.0</td>\n",
       "      <td>2</td>\n",
       "    </tr>\n",
       "  </tbody>\n",
       "</table>\n",
       "</div>"
      ],
      "text/plain": [
       "    code             name  price  manufacturer\n",
       "0      1       Hard drive  216.0             5\n",
       "1      2           Memory  108.0             6\n",
       "2      3        ZIP drive  135.0             4\n",
       "3      4      Floppy disk    4.5             6\n",
       "4      5          Monitor  216.0             1\n",
       "5      6        DVD drive  162.0             2\n",
       "6      7         CD drive   81.0             2\n",
       "7      8    Laser Printer  243.0             3\n",
       "8      9  Toner cartridge   59.4             3\n",
       "9     10       DVD burner  162.0             2\n",
       "10    11     Loudspeakers   63.0             2"
      ]
     },
     "execution_count": 189,
     "metadata": {},
     "output_type": "execute_result"
    }
   ],
   "source": [
    "dfp"
   ]
  },
  {
   "cell_type": "code",
   "execution_count": 190,
   "metadata": {
    "ExecuteTime": {
     "end_time": "2020-03-11T03:06:33.769270Z",
     "start_time": "2020-03-11T03:06:33.753410Z"
    }
   },
   "outputs": [
    {
     "data": {
      "text/html": [
       "<div>\n",
       "<style scoped>\n",
       "    .dataframe tbody tr th:only-of-type {\n",
       "        vertical-align: middle;\n",
       "    }\n",
       "\n",
       "    .dataframe tbody tr th {\n",
       "        vertical-align: top;\n",
       "    }\n",
       "\n",
       "    .dataframe thead th {\n",
       "        text-align: right;\n",
       "    }\n",
       "</style>\n",
       "<table border=\"1\" class=\"dataframe\">\n",
       "  <thead>\n",
       "    <tr style=\"text-align: right;\">\n",
       "      <th></th>\n",
       "      <th>code</th>\n",
       "      <th>name</th>\n",
       "      <th>price</th>\n",
       "      <th>manufacturer</th>\n",
       "    </tr>\n",
       "  </thead>\n",
       "  <tbody>\n",
       "    <tr>\n",
       "      <th>0</th>\n",
       "      <td>1</td>\n",
       "      <td>Hard drive</td>\n",
       "      <td>194.4</td>\n",
       "      <td>5</td>\n",
       "    </tr>\n",
       "    <tr>\n",
       "      <th>1</th>\n",
       "      <td>2</td>\n",
       "      <td>Memory</td>\n",
       "      <td>108.0</td>\n",
       "      <td>6</td>\n",
       "    </tr>\n",
       "    <tr>\n",
       "      <th>2</th>\n",
       "      <td>3</td>\n",
       "      <td>ZIP drive</td>\n",
       "      <td>121.5</td>\n",
       "      <td>4</td>\n",
       "    </tr>\n",
       "    <tr>\n",
       "      <th>3</th>\n",
       "      <td>4</td>\n",
       "      <td>Floppy disk</td>\n",
       "      <td>4.5</td>\n",
       "      <td>6</td>\n",
       "    </tr>\n",
       "    <tr>\n",
       "      <th>4</th>\n",
       "      <td>5</td>\n",
       "      <td>Monitor</td>\n",
       "      <td>194.4</td>\n",
       "      <td>1</td>\n",
       "    </tr>\n",
       "    <tr>\n",
       "      <th>5</th>\n",
       "      <td>6</td>\n",
       "      <td>DVD drive</td>\n",
       "      <td>145.8</td>\n",
       "      <td>2</td>\n",
       "    </tr>\n",
       "    <tr>\n",
       "      <th>6</th>\n",
       "      <td>7</td>\n",
       "      <td>CD drive</td>\n",
       "      <td>81.0</td>\n",
       "      <td>2</td>\n",
       "    </tr>\n",
       "    <tr>\n",
       "      <th>7</th>\n",
       "      <td>8</td>\n",
       "      <td>Laser Printer</td>\n",
       "      <td>218.7</td>\n",
       "      <td>3</td>\n",
       "    </tr>\n",
       "    <tr>\n",
       "      <th>8</th>\n",
       "      <td>9</td>\n",
       "      <td>Toner cartridge</td>\n",
       "      <td>59.4</td>\n",
       "      <td>3</td>\n",
       "    </tr>\n",
       "    <tr>\n",
       "      <th>9</th>\n",
       "      <td>10</td>\n",
       "      <td>DVD burner</td>\n",
       "      <td>145.8</td>\n",
       "      <td>2</td>\n",
       "    </tr>\n",
       "    <tr>\n",
       "      <th>10</th>\n",
       "      <td>11</td>\n",
       "      <td>Loudspeakers</td>\n",
       "      <td>63.0</td>\n",
       "      <td>2</td>\n",
       "    </tr>\n",
       "  </tbody>\n",
       "</table>\n",
       "</div>"
      ],
      "text/plain": [
       "    code             name  price  manufacturer\n",
       "0      1       Hard drive  194.4             5\n",
       "1      2           Memory  108.0             6\n",
       "2      3        ZIP drive  121.5             4\n",
       "3      4      Floppy disk    4.5             6\n",
       "4      5          Monitor  194.4             1\n",
       "5      6        DVD drive  145.8             2\n",
       "6      7         CD drive   81.0             2\n",
       "7      8    Laser Printer  218.7             3\n",
       "8      9  Toner cartridge   59.4             3\n",
       "9     10       DVD burner  145.8             2\n",
       "10    11     Loudspeakers   63.0             2"
      ]
     },
     "execution_count": 190,
     "metadata": {},
     "output_type": "execute_result"
    }
   ],
   "source": [
    "dfp.loc[dfp.price >= 120, 'price'] *= 0.9\n",
    "dfp"
   ]
  },
  {
   "cell_type": "code",
   "execution_count": 191,
   "metadata": {
    "ExecuteTime": {
     "end_time": "2020-03-11T03:06:33.784070Z",
     "start_time": "2020-03-11T03:06:33.777342Z"
    }
   },
   "outputs": [],
   "source": [
    "# spark"
   ]
  },
  {
   "cell_type": "code",
   "execution_count": 192,
   "metadata": {
    "ExecuteTime": {
     "end_time": "2020-03-11T03:06:33.905800Z",
     "start_time": "2020-03-11T03:06:33.788722Z"
    }
   },
   "outputs": [
    {
     "name": "stdout",
     "output_type": "stream",
     "text": [
      "+----+---------------+-----+------------+----------------+\n",
      "|code|           name|price|manufacturer|discounted_price|\n",
      "+----+---------------+-----+------------+----------------+\n",
      "|   1|     Hard drive|  240|           5|           216.0|\n",
      "|   2|         Memory|  120|           6|           108.0|\n",
      "|   3|      ZIP drive|  150|           4|           135.0|\n",
      "|   4|    Floppy disk|    5|           6|             5.0|\n",
      "|   5|        Monitor|  240|           1|           216.0|\n",
      "|   6|      DVD drive|  180|           2|           162.0|\n",
      "|   7|       CD drive|   90|           2|            90.0|\n",
      "|   8|        Printer|  270|           3|           243.0|\n",
      "|   9|Toner cartridge|   66|           3|            66.0|\n",
      "|  10|     DVD burner|  180|           2|           162.0|\n",
      "+----+---------------+-----+------------+----------------+\n",
      "\n"
     ]
    }
   ],
   "source": [
    "sdfp.withColumn(\"discounted_price\",\n",
    "                F.when(F.col(\"price\")>=120, F.col('price')*0.9)\\\n",
    "                 .otherwise(F.col(\"price\"))\n",
    "               ).show()"
   ]
  },
  {
   "cell_type": "code",
   "execution_count": 193,
   "metadata": {
    "ExecuteTime": {
     "end_time": "2020-03-11T03:06:33.914362Z",
     "start_time": "2020-03-11T03:06:33.911434Z"
    }
   },
   "outputs": [],
   "source": [
    "# sql"
   ]
  },
  {
   "cell_type": "code",
   "execution_count": 194,
   "metadata": {
    "ExecuteTime": {
     "end_time": "2020-03-11T03:06:33.921131Z",
     "start_time": "2020-03-11T03:06:33.917456Z"
    }
   },
   "outputs": [],
   "source": [
    "\"\"\"\n",
    "update Products\n",
    "set price = price * 0.9\n",
    "where price >= 120;\n",
    "\n",
    "\"\"\";"
   ]
  },
  {
   "cell_type": "code",
   "execution_count": 195,
   "metadata": {
    "ExecuteTime": {
     "end_time": "2020-03-11T03:06:33.933896Z",
     "start_time": "2020-03-11T03:06:33.925015Z"
    }
   },
   "outputs": [
    {
     "name": "stdout",
     "output_type": "stream",
     "text": [
      "Time taken: 0 hr 1 min 18 secs\n"
     ]
    }
   ],
   "source": [
    "time_taken = time.time() - time_start_notebook\n",
    "h,m = divmod(time_taken,60*60)\n",
    "print('Time taken: {:.0f} hr {:.0f} min {:.0f} secs'.format(h, *divmod(m,60)))"
   ]
  }
 ],
 "metadata": {
  "kernelspec": {
   "display_name": "Python 3",
   "language": "python",
   "name": "python3"
  },
  "language_info": {
   "codemirror_mode": {
    "name": "ipython",
    "version": 3
   },
   "file_extension": ".py",
   "mimetype": "text/x-python",
   "name": "python",
   "nbconvert_exporter": "python",
   "pygments_lexer": "ipython3",
   "version": "3.7.3"
  },
  "toc": {
   "base_numbering": 1,
   "nav_menu": {},
   "number_sections": true,
   "sideBar": true,
   "skip_h1_title": false,
   "title_cell": "Table of Contents",
   "title_sidebar": "Contents",
   "toc_cell": true,
   "toc_position": {},
   "toc_section_display": true,
   "toc_window_display": true
  }
 },
 "nbformat": 4,
 "nbformat_minor": 2
}
