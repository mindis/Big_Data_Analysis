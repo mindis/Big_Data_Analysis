{
 "cells": [
  {
   "cell_type": "markdown",
   "metadata": {
    "toc": true
   },
   "source": [
    "<h1>Table of Contents<span class=\"tocSkip\"></span></h1>\n",
    "<div class=\"toc\"><ul class=\"toc-item\"><li><span><a href=\"#Description\" data-toc-modified-id=\"Description-1\"><span class=\"toc-item-num\">1&nbsp;&nbsp;</span>Description</a></span></li><li><span><a href=\"#Load-the-libraries\" data-toc-modified-id=\"Load-the-libraries-2\"><span class=\"toc-item-num\">2&nbsp;&nbsp;</span>Load the libraries</a></span></li><li><span><a href=\"#Load-the-data\" data-toc-modified-id=\"Load-the-data-3\"><span class=\"toc-item-num\">3&nbsp;&nbsp;</span>Load the data</a></span></li><li><span><a href=\"#Data-Preparation\" data-toc-modified-id=\"Data-Preparation-4\"><span class=\"toc-item-num\">4&nbsp;&nbsp;</span>Data Preparation</a></span></li><li><span><a href=\"#Modelling\" data-toc-modified-id=\"Modelling-5\"><span class=\"toc-item-num\">5&nbsp;&nbsp;</span>Modelling</a></span><ul class=\"toc-item\"><li><span><a href=\"#Logistic-Regression\" data-toc-modified-id=\"Logistic-Regression-5.1\"><span class=\"toc-item-num\">5.1&nbsp;&nbsp;</span>Logistic Regression</a></span></li><li><span><a href=\"#Different-Models\" data-toc-modified-id=\"Different-Models-5.2\"><span class=\"toc-item-num\">5.2&nbsp;&nbsp;</span>Different Models</a></span></li></ul></li></ul></div>"
   ]
  },
  {
   "cell_type": "markdown",
   "metadata": {},
   "source": [
    "# Description\n",
    "Github link: https://github.com/Azure/mmlspark  \n",
    "lightgbm doc: https://github.com/Azure/mmlspark/blob/master/docs/lightgbm.md  "
   ]
  },
  {
   "cell_type": "markdown",
   "metadata": {},
   "source": [
    "# Load the libraries"
   ]
  },
  {
   "cell_type": "code",
   "execution_count": 1,
   "metadata": {
    "ExecuteTime": {
     "end_time": "2020-08-27T00:39:22.250924Z",
     "start_time": "2020-08-27T00:39:16.996581Z"
    }
   },
   "outputs": [
    {
     "name": "stdout",
     "output_type": "stream",
     "text": [
      "pyspark version: 2.4.6\n"
     ]
    }
   ],
   "source": [
    "import numpy as np\n",
    "import pandas as pd\n",
    "import os\n",
    "HOME = os.path.expanduser('~')\n",
    "\n",
    "import findspark\n",
    "# findspark.init(HOME + \"/Softwares/Spark/spark-3.0.0-bin-hadoop2.7\")\n",
    "\n",
    "# We need to use spark 2.4.6 to use lgbm\n",
    "findspark.init(HOME + \"/Softwares/Spark/spark-2.4.6-bin-hadoop2.7\")\n",
    "\n",
    "import pyspark\n",
    "from pyspark.sql.session import SparkSession\n",
    "from pyspark.sql.types import *\n",
    "from pyspark.ml.feature import StringIndexer, VectorAssembler\n",
    "from pyspark.ml import Pipeline\n",
    "from pyspark.sql.functions import col\n",
    "\n",
    "spark = (pyspark.sql.SparkSession.builder.appName(\"MyApp\")\n",
    "\n",
    "    # config for microsoft ml spark\n",
    "    .config(\"spark.jars.packages\", \"com.microsoft.ml.spark:mmlspark_2.11:1.0.0-rc2\") \n",
    "    .config(\"spark.jars.repositories\", \"https://mmlspark.azureedge.net/maven\")\n",
    "         \n",
    "    # usual\n",
    "    .getOrCreate()\n",
    "    )\n",
    "import mmlspark\n",
    "\n",
    "SEED = 100\n",
    "\n",
    "df_eval = pd.DataFrame({\n",
    "    \"Model\": [],\n",
    "    \"Description\": [],\n",
    "    \"Accuracy\": [],\n",
    "    \"Precision\": [],\n",
    "    \"AUC\": []\n",
    "})\n",
    "\n",
    "from pyspark.ml.feature import VectorAssembler\n",
    "\n",
    "from pyspark.ml.classification import RandomForestClassifier\n",
    "from mmlspark.lightgbm import LightGBMClassifier\n",
    "\n",
    "from pyspark.ml.evaluation import BinaryClassificationEvaluator\n",
    "from pyspark.ml.evaluation import MulticlassClassificationEvaluator\n",
    "\n",
    "print(f'pyspark version: {pyspark.__version__}')"
   ]
  },
  {
   "cell_type": "markdown",
   "metadata": {},
   "source": [
    "# Load the data"
   ]
  },
  {
   "cell_type": "code",
   "execution_count": 2,
   "metadata": {
    "ExecuteTime": {
     "end_time": "2020-08-27T00:39:27.819234Z",
     "start_time": "2020-08-27T00:39:22.254299Z"
    }
   },
   "outputs": [
    {
     "name": "stdout",
     "output_type": "stream",
     "text": [
      "(6366, 6)\n",
      "root\n",
      " |-- rate_marriage: integer (nullable = true)\n",
      " |-- age: double (nullable = true)\n",
      " |-- yrs_married: double (nullable = true)\n",
      " |-- children: double (nullable = true)\n",
      " |-- religious: integer (nullable = true)\n",
      " |-- affairs: integer (nullable = true)\n",
      "\n",
      "None\n",
      "+-------------+----+-----------+--------+---------+-------+\n",
      "|rate_marriage| age|yrs_married|children|religious|affairs|\n",
      "+-------------+----+-----------+--------+---------+-------+\n",
      "|            5|32.0|        6.0|     1.0|        3|      0|\n",
      "|            4|22.0|        2.5|     0.0|        2|      0|\n",
      "|            3|32.0|        9.0|     3.0|        3|      1|\n",
      "|            3|27.0|       13.0|     3.0|        1|      1|\n",
      "|            4|22.0|        2.5|     0.0|        1|      1|\n",
      "+-------------+----+-----------+--------+---------+-------+\n",
      "only showing top 5 rows\n",
      "\n"
     ]
    }
   ],
   "source": [
    "sdf = spark.read.csv('affairs.csv',inferSchema=True,header=True)\n",
    "print((sdf.count(),len(sdf.columns)))\n",
    "\n",
    "print(sdf.printSchema())\n",
    "sdf.show(5)"
   ]
  },
  {
   "cell_type": "code",
   "execution_count": 3,
   "metadata": {
    "ExecuteTime": {
     "end_time": "2020-08-27T00:39:32.073340Z",
     "start_time": "2020-08-27T00:39:27.822746Z"
    }
   },
   "outputs": [
    {
     "data": {
      "text/html": [
       "<div>\n",
       "<style scoped>\n",
       "    .dataframe tbody tr th:only-of-type {\n",
       "        vertical-align: middle;\n",
       "    }\n",
       "\n",
       "    .dataframe tbody tr th {\n",
       "        vertical-align: top;\n",
       "    }\n",
       "\n",
       "    .dataframe thead th {\n",
       "        text-align: right;\n",
       "    }\n",
       "</style>\n",
       "<table border=\"1\" class=\"dataframe\">\n",
       "  <thead>\n",
       "    <tr style=\"text-align: right;\">\n",
       "      <th></th>\n",
       "      <th>Feature</th>\n",
       "      <th>Count</th>\n",
       "      <th>Unique_Value_Count</th>\n",
       "      <th>Missing_Value_Count</th>\n",
       "      <th>Min</th>\n",
       "      <th>1st_Quartile</th>\n",
       "      <th>Median</th>\n",
       "      <th>3rd_Quartile</th>\n",
       "      <th>Max</th>\n",
       "      <th>Sample_Variance</th>\n",
       "      <th>Sample_Standard_Deviation</th>\n",
       "      <th>Sample_Skewness</th>\n",
       "      <th>Sample_Kurtosis</th>\n",
       "      <th>P0_5</th>\n",
       "      <th>P1</th>\n",
       "      <th>P5</th>\n",
       "      <th>P95</th>\n",
       "      <th>P99</th>\n",
       "      <th>P99_5</th>\n",
       "    </tr>\n",
       "  </thead>\n",
       "  <tbody>\n",
       "    <tr>\n",
       "      <th>0</th>\n",
       "      <td>rate_marriage</td>\n",
       "      <td>6366.0</td>\n",
       "      <td>5.0</td>\n",
       "      <td>0.0</td>\n",
       "      <td>1.0</td>\n",
       "      <td>4.0</td>\n",
       "      <td>4.0</td>\n",
       "      <td>5.0</td>\n",
       "      <td>5.0</td>\n",
       "      <td>0.924347</td>\n",
       "      <td>0.961430</td>\n",
       "      <td>-1.009472</td>\n",
       "      <td>0.557297</td>\n",
       "      <td>1.0</td>\n",
       "      <td>1.0</td>\n",
       "      <td>2.0</td>\n",
       "      <td>5.0</td>\n",
       "      <td>5.0</td>\n",
       "      <td>5.0</td>\n",
       "    </tr>\n",
       "    <tr>\n",
       "      <th>1</th>\n",
       "      <td>age</td>\n",
       "      <td>6366.0</td>\n",
       "      <td>6.0</td>\n",
       "      <td>0.0</td>\n",
       "      <td>17.5</td>\n",
       "      <td>22.0</td>\n",
       "      <td>27.0</td>\n",
       "      <td>32.0</td>\n",
       "      <td>42.0</td>\n",
       "      <td>46.893486</td>\n",
       "      <td>6.847882</td>\n",
       "      <td>0.576013</td>\n",
       "      <td>-0.733838</td>\n",
       "      <td>17.5</td>\n",
       "      <td>17.5</td>\n",
       "      <td>22.0</td>\n",
       "      <td>42.0</td>\n",
       "      <td>42.0</td>\n",
       "      <td>42.0</td>\n",
       "    </tr>\n",
       "    <tr>\n",
       "      <th>2</th>\n",
       "      <td>yrs_married</td>\n",
       "      <td>6366.0</td>\n",
       "      <td>7.0</td>\n",
       "      <td>0.0</td>\n",
       "      <td>0.5</td>\n",
       "      <td>2.5</td>\n",
       "      <td>6.0</td>\n",
       "      <td>16.5</td>\n",
       "      <td>23.0</td>\n",
       "      <td>53.000147</td>\n",
       "      <td>7.280120</td>\n",
       "      <td>0.725683</td>\n",
       "      <td>-0.791416</td>\n",
       "      <td>0.5</td>\n",
       "      <td>0.5</td>\n",
       "      <td>0.5</td>\n",
       "      <td>23.0</td>\n",
       "      <td>23.0</td>\n",
       "      <td>23.0</td>\n",
       "    </tr>\n",
       "    <tr>\n",
       "      <th>3</th>\n",
       "      <td>children</td>\n",
       "      <td>6366.0</td>\n",
       "      <td>6.0</td>\n",
       "      <td>0.0</td>\n",
       "      <td>0.0</td>\n",
       "      <td>0.0</td>\n",
       "      <td>1.0</td>\n",
       "      <td>2.0</td>\n",
       "      <td>5.5</td>\n",
       "      <td>2.054839</td>\n",
       "      <td>1.433471</td>\n",
       "      <td>0.890770</td>\n",
       "      <td>0.244131</td>\n",
       "      <td>0.0</td>\n",
       "      <td>0.0</td>\n",
       "      <td>0.0</td>\n",
       "      <td>4.0</td>\n",
       "      <td>5.5</td>\n",
       "      <td>5.5</td>\n",
       "    </tr>\n",
       "    <tr>\n",
       "      <th>4</th>\n",
       "      <td>religious</td>\n",
       "      <td>6366.0</td>\n",
       "      <td>4.0</td>\n",
       "      <td>0.0</td>\n",
       "      <td>1.0</td>\n",
       "      <td>2.0</td>\n",
       "      <td>2.0</td>\n",
       "      <td>3.0</td>\n",
       "      <td>4.0</td>\n",
       "      <td>0.771532</td>\n",
       "      <td>0.878369</td>\n",
       "      <td>-0.028343</td>\n",
       "      <td>-0.733520</td>\n",
       "      <td>1.0</td>\n",
       "      <td>1.0</td>\n",
       "      <td>1.0</td>\n",
       "      <td>4.0</td>\n",
       "      <td>4.0</td>\n",
       "      <td>4.0</td>\n",
       "    </tr>\n",
       "    <tr>\n",
       "      <th>5</th>\n",
       "      <td>affairs</td>\n",
       "      <td>6366.0</td>\n",
       "      <td>2.0</td>\n",
       "      <td>0.0</td>\n",
       "      <td>0.0</td>\n",
       "      <td>0.0</td>\n",
       "      <td>0.0</td>\n",
       "      <td>1.0</td>\n",
       "      <td>1.0</td>\n",
       "      <td>0.218526</td>\n",
       "      <td>0.467468</td>\n",
       "      <td>0.759494</td>\n",
       "      <td>-1.423169</td>\n",
       "      <td>0.0</td>\n",
       "      <td>0.0</td>\n",
       "      <td>0.0</td>\n",
       "      <td>1.0</td>\n",
       "      <td>1.0</td>\n",
       "      <td>1.0</td>\n",
       "    </tr>\n",
       "  </tbody>\n",
       "</table>\n",
       "</div>"
      ],
      "text/plain": [
       "         Feature   Count  Unique_Value_Count  Missing_Value_Count   Min  \\\n",
       "0  rate_marriage  6366.0                 5.0                  0.0   1.0   \n",
       "1            age  6366.0                 6.0                  0.0  17.5   \n",
       "2    yrs_married  6366.0                 7.0                  0.0   0.5   \n",
       "3       children  6366.0                 6.0                  0.0   0.0   \n",
       "4      religious  6366.0                 4.0                  0.0   1.0   \n",
       "5        affairs  6366.0                 2.0                  0.0   0.0   \n",
       "\n",
       "   1st_Quartile  Median  3rd_Quartile   Max  Sample_Variance  \\\n",
       "0           4.0     4.0           5.0   5.0         0.924347   \n",
       "1          22.0    27.0          32.0  42.0        46.893486   \n",
       "2           2.5     6.0          16.5  23.0        53.000147   \n",
       "3           0.0     1.0           2.0   5.5         2.054839   \n",
       "4           2.0     2.0           3.0   4.0         0.771532   \n",
       "5           0.0     0.0           1.0   1.0         0.218526   \n",
       "\n",
       "   Sample_Standard_Deviation  Sample_Skewness  Sample_Kurtosis  P0_5    P1  \\\n",
       "0                   0.961430        -1.009472         0.557297   1.0   1.0   \n",
       "1                   6.847882         0.576013        -0.733838  17.5  17.5   \n",
       "2                   7.280120         0.725683        -0.791416   0.5   0.5   \n",
       "3                   1.433471         0.890770         0.244131   0.0   0.0   \n",
       "4                   0.878369        -0.028343        -0.733520   1.0   1.0   \n",
       "5                   0.467468         0.759494        -1.423169   0.0   0.0   \n",
       "\n",
       "     P5   P95   P99  P99_5  \n",
       "0   2.0   5.0   5.0    5.0  \n",
       "1  22.0  42.0  42.0   42.0  \n",
       "2   0.5  23.0  23.0   23.0  \n",
       "3   0.0   4.0   5.5    5.5  \n",
       "4   1.0   4.0   4.0    4.0  \n",
       "5   0.0   1.0   1.0    1.0  "
      ]
     },
     "execution_count": 3,
     "metadata": {},
     "output_type": "execute_result"
    }
   ],
   "source": [
    "from mmlspark.stages import SummarizeData\n",
    "summary = SummarizeData().transform(sdf)\n",
    "summary.toPandas()"
   ]
  },
  {
   "cell_type": "markdown",
   "metadata": {},
   "source": [
    "# Data Preparation"
   ]
  },
  {
   "cell_type": "code",
   "execution_count": 4,
   "metadata": {
    "ExecuteTime": {
     "end_time": "2020-08-27T00:39:32.187449Z",
     "start_time": "2020-08-27T00:39:32.076817Z"
    }
   },
   "outputs": [
    {
     "name": "stdout",
     "output_type": "stream",
     "text": [
      "+-------------+----+-----------+--------+---------+-------+\n",
      "|rate_marriage| age|yrs_married|children|religious|affairs|\n",
      "+-------------+----+-----------+--------+---------+-------+\n",
      "|            5|32.0|        6.0|     1.0|        3|      0|\n",
      "|            4|22.0|        2.5|     0.0|        2|      0|\n",
      "+-------------+----+-----------+--------+---------+-------+\n",
      "only showing top 2 rows\n",
      "\n"
     ]
    }
   ],
   "source": [
    "sdf.show(2)"
   ]
  },
  {
   "cell_type": "code",
   "execution_count": 5,
   "metadata": {
    "ExecuteTime": {
     "end_time": "2020-08-27T00:39:32.196997Z",
     "start_time": "2020-08-27T00:39:32.191908Z"
    }
   },
   "outputs": [
    {
     "data": {
      "text/plain": [
       "['rate_marriage', 'age', 'yrs_married', 'children', 'religious', 'affairs']"
      ]
     },
     "execution_count": 5,
     "metadata": {},
     "output_type": "execute_result"
    }
   ],
   "source": [
    "sdf.columns"
   ]
  },
  {
   "cell_type": "code",
   "execution_count": 6,
   "metadata": {
    "ExecuteTime": {
     "end_time": "2020-08-27T00:39:32.230600Z",
     "start_time": "2020-08-27T00:39:32.201621Z"
    }
   },
   "outputs": [],
   "source": [
    "from mmlspark.featurize import CleanMissingData\n",
    "cols = ['rate_marriage', 'yrs_married', 'children', 'religious']\n",
    "\n",
    "removeNansMedian = (CleanMissingData()\n",
    "              .setCleaningMode(\"Median\")                                                 \n",
    "              .setInputCols(cols)\n",
    "              .setOutputCols(cols))\n",
    "\n",
    "# sdf = removeNansMedian.fit(sdf).transform(sdf)"
   ]
  },
  {
   "cell_type": "code",
   "execution_count": 7,
   "metadata": {
    "ExecuteTime": {
     "end_time": "2020-08-27T00:39:32.253762Z",
     "start_time": "2020-08-27T00:39:32.234925Z"
    }
   },
   "outputs": [],
   "source": [
    "from mmlspark.featurize import CleanMissingData\n",
    "cols = ['age']\n",
    "\n",
    "removeNansMean = (CleanMissingData()\n",
    "              .setCleaningMode(\"Mean\")                                                 \n",
    "              .setInputCols(cols)\n",
    "              .setOutputCols(cols))\n",
    "\n",
    "# sdf = removeNansMean.fit(sdf).transform(sdf)"
   ]
  },
  {
   "cell_type": "code",
   "execution_count": 8,
   "metadata": {
    "ExecuteTime": {
     "end_time": "2020-08-27T00:39:32.284812Z",
     "start_time": "2020-08-27T00:39:32.281465Z"
    }
   },
   "outputs": [],
   "source": [
    "from pyspark.ml.feature import VectorAssembler"
   ]
  },
  {
   "cell_type": "code",
   "execution_count": 9,
   "metadata": {
    "ExecuteTime": {
     "end_time": "2020-08-27T00:39:32.423659Z",
     "start_time": "2020-08-27T00:39:32.290977Z"
    }
   },
   "outputs": [],
   "source": [
    "inputCols = ['rate_marriage', 'age', 'yrs_married', 'children', 'religious']\n",
    "labelCol = \"affairs\"\n",
    "assembler = VectorAssembler(inputCols=inputCols, outputCol=\"features\")\n",
    "\n",
    "sdf = assembler.transform(sdf)"
   ]
  },
  {
   "cell_type": "code",
   "execution_count": 10,
   "metadata": {
    "ExecuteTime": {
     "end_time": "2020-08-27T00:39:32.463943Z",
     "start_time": "2020-08-27T00:39:32.427908Z"
    }
   },
   "outputs": [],
   "source": [
    "train,test,validation = sdf.select(['features',labelCol]).randomSplit([0.6,0.2,0.2],seed=SEED)"
   ]
  },
  {
   "cell_type": "code",
   "execution_count": 11,
   "metadata": {
    "ExecuteTime": {
     "end_time": "2020-08-27T00:39:32.850567Z",
     "start_time": "2020-08-27T00:39:32.467270Z"
    }
   },
   "outputs": [
    {
     "data": {
      "text/plain": [
       "3889"
      ]
     },
     "execution_count": 11,
     "metadata": {},
     "output_type": "execute_result"
    }
   ],
   "source": [
    "train.count()"
   ]
  },
  {
   "cell_type": "code",
   "execution_count": 12,
   "metadata": {
    "ExecuteTime": {
     "end_time": "2020-08-27T00:39:33.518493Z",
     "start_time": "2020-08-27T00:39:32.852997Z"
    }
   },
   "outputs": [
    {
     "name": "stdout",
     "output_type": "stream",
     "text": [
      "+-------+-----+\n",
      "|affairs|count|\n",
      "+-------+-----+\n",
      "|      1| 1241|\n",
      "|      0| 2648|\n",
      "+-------+-----+\n",
      "\n"
     ]
    }
   ],
   "source": [
    "train.groupBy(labelCol).count().show()"
   ]
  },
  {
   "cell_type": "code",
   "execution_count": 13,
   "metadata": {
    "ExecuteTime": {
     "end_time": "2020-08-27T00:39:34.073300Z",
     "start_time": "2020-08-27T00:39:33.521834Z"
    }
   },
   "outputs": [
    {
     "name": "stdout",
     "output_type": "stream",
     "text": [
      "+-------+-----+\n",
      "|affairs|count|\n",
      "+-------+-----+\n",
      "|      1|  421|\n",
      "|      0|  799|\n",
      "+-------+-----+\n",
      "\n"
     ]
    }
   ],
   "source": [
    "test.groupBy(labelCol).count().show()"
   ]
  },
  {
   "cell_type": "markdown",
   "metadata": {},
   "source": [
    "# Modelling"
   ]
  },
  {
   "cell_type": "markdown",
   "metadata": {},
   "source": [
    "## Logistic Regression"
   ]
  },
  {
   "cell_type": "code",
   "execution_count": 14,
   "metadata": {
    "ExecuteTime": {
     "end_time": "2020-08-27T00:39:36.768633Z",
     "start_time": "2020-08-27T00:39:34.075943Z"
    }
   },
   "outputs": [],
   "source": [
    "from mmlspark.train import TrainClassifier\n",
    "from pyspark.ml.classification import LogisticRegression\n",
    "\n",
    "model = TrainClassifier(model=LogisticRegression(), labelCol=labelCol, numFeatures=256)\n",
    "model_name = \"logreg.pkl\"\n",
    "model.write().overwrite().save(model_name)\n",
    "\n",
    "model = TrainClassifier.load(model_name)\n",
    "\n",
    "model = model.fit(train)"
   ]
  },
  {
   "cell_type": "code",
   "execution_count": 15,
   "metadata": {
    "ExecuteTime": {
     "end_time": "2020-08-27T00:39:38.014625Z",
     "start_time": "2020-08-27T00:39:36.770694Z"
    }
   },
   "outputs": [
    {
     "data": {
      "text/html": [
       "<div>\n",
       "<style scoped>\n",
       "    .dataframe tbody tr th:only-of-type {\n",
       "        vertical-align: middle;\n",
       "    }\n",
       "\n",
       "    .dataframe tbody tr th {\n",
       "        vertical-align: top;\n",
       "    }\n",
       "\n",
       "    .dataframe thead th {\n",
       "        text-align: right;\n",
       "    }\n",
       "</style>\n",
       "<table border=\"1\" class=\"dataframe\">\n",
       "  <thead>\n",
       "    <tr style=\"text-align: right;\">\n",
       "      <th></th>\n",
       "      <th>evaluation_type</th>\n",
       "      <th>confusion_matrix</th>\n",
       "      <th>accuracy</th>\n",
       "      <th>precision</th>\n",
       "      <th>recall</th>\n",
       "      <th>AUC</th>\n",
       "    </tr>\n",
       "  </thead>\n",
       "  <tbody>\n",
       "    <tr>\n",
       "      <th>0</th>\n",
       "      <td>Classification</td>\n",
       "      <td>DenseMatrix([[719.,  80.],\\n             [262....</td>\n",
       "      <td>0.719672</td>\n",
       "      <td>0.665272</td>\n",
       "      <td>0.377672</td>\n",
       "      <td>0.726141</td>\n",
       "    </tr>\n",
       "  </tbody>\n",
       "</table>\n",
       "</div>"
      ],
      "text/plain": [
       "  evaluation_type                                   confusion_matrix  \\\n",
       "0  Classification  DenseMatrix([[719.,  80.],\\n             [262....   \n",
       "\n",
       "   accuracy  precision    recall       AUC  \n",
       "0  0.719672   0.665272  0.377672  0.726141  "
      ]
     },
     "execution_count": 15,
     "metadata": {},
     "output_type": "execute_result"
    }
   ],
   "source": [
    "from mmlspark.train import ComputeModelStatistics, TrainedClassifierModel\n",
    "\n",
    "prediction = model.transform(test)\n",
    "metrics = ComputeModelStatistics().transform(prediction)\n",
    "df_metrics = metrics.toPandas()\n",
    "\n",
    "df_metrics"
   ]
  },
  {
   "cell_type": "code",
   "execution_count": 16,
   "metadata": {
    "ExecuteTime": {
     "end_time": "2020-08-27T00:39:38.023028Z",
     "start_time": "2020-08-27T00:39:38.016945Z"
    }
   },
   "outputs": [
    {
     "data": {
      "text/plain": [
       "DenseMatrix(2, 2, [719.0, 262.0, 80.0, 159.0], False)"
      ]
     },
     "execution_count": 16,
     "metadata": {},
     "output_type": "execute_result"
    }
   ],
   "source": [
    "df_metrics['confusion_matrix'][0]"
   ]
  },
  {
   "cell_type": "markdown",
   "metadata": {},
   "source": [
    "## Different Models"
   ]
  },
  {
   "cell_type": "code",
   "execution_count": 17,
   "metadata": {
    "ExecuteTime": {
     "end_time": "2020-08-27T00:39:56.290906Z",
     "start_time": "2020-08-27T00:39:38.025009Z"
    }
   },
   "outputs": [],
   "source": [
    "from pyspark.ml.classification import LogisticRegression, RandomForestClassifier, GBTClassifier\n",
    "from mmlspark.train import TrainClassifier\n",
    "import itertools\n",
    "\n",
    "lrHyperParams       = [0.05, 0.2]\n",
    "logisticRegressions = [LogisticRegression(regParam = hyperParam)\n",
    "                       for hyperParam in lrHyperParams]\n",
    "lrmodels            = [TrainClassifier(model=lrm, labelCol=labelCol).fit(train)\n",
    "                       for lrm in logisticRegressions]\n",
    "\n",
    "rfHyperParams       = itertools.product([5, 10], [2, 3]) # [(5,2),(5,3) etc]\n",
    "randomForests       = [RandomForestClassifier(numTrees=hyperParam[0], maxDepth=hyperParam[1])\n",
    "                       for hyperParam in rfHyperParams]\n",
    "rfmodels            = [TrainClassifier(model=rfm, labelCol=labelCol).fit(train)\n",
    "                       for rfm in randomForests]\n",
    "\n",
    "gbtHyperParams      = itertools.product([8, 16], [2, 3])\n",
    "gbtclassifiers      = [GBTClassifier(maxBins=hyperParam[0], maxDepth=hyperParam[1])\n",
    "                       for hyperParam in gbtHyperParams]\n",
    "gbtmodels           = [TrainClassifier(model=gbt, labelCol=labelCol).fit(train)\n",
    "                       for gbt in gbtclassifiers]\n",
    "\n",
    "trainedModels       = lrmodels + rfmodels + gbtmodels"
   ]
  },
  {
   "cell_type": "code",
   "execution_count": 18,
   "metadata": {
    "ExecuteTime": {
     "end_time": "2020-08-27T00:39:59.522550Z",
     "start_time": "2020-08-27T00:39:56.299916Z"
    }
   },
   "outputs": [
    {
     "data": {
      "text/html": [
       "<div>\n",
       "<style scoped>\n",
       "    .dataframe tbody tr th:only-of-type {\n",
       "        vertical-align: middle;\n",
       "    }\n",
       "\n",
       "    .dataframe tbody tr th {\n",
       "        vertical-align: top;\n",
       "    }\n",
       "\n",
       "    .dataframe thead th {\n",
       "        text-align: right;\n",
       "    }\n",
       "</style>\n",
       "<table border=\"1\" class=\"dataframe\">\n",
       "  <thead>\n",
       "    <tr style=\"text-align: right;\">\n",
       "      <th></th>\n",
       "      <th>false_positive_rate</th>\n",
       "      <th>true_positive_rate</th>\n",
       "    </tr>\n",
       "  </thead>\n",
       "  <tbody>\n",
       "    <tr>\n",
       "      <th>0</th>\n",
       "      <td>0.0</td>\n",
       "      <td>0.000000</td>\n",
       "    </tr>\n",
       "    <tr>\n",
       "      <th>1</th>\n",
       "      <td>0.0</td>\n",
       "      <td>0.002375</td>\n",
       "    </tr>\n",
       "    <tr>\n",
       "      <th>2</th>\n",
       "      <td>0.0</td>\n",
       "      <td>0.004751</td>\n",
       "    </tr>\n",
       "    <tr>\n",
       "      <th>3</th>\n",
       "      <td>0.0</td>\n",
       "      <td>0.007126</td>\n",
       "    </tr>\n",
       "    <tr>\n",
       "      <th>4</th>\n",
       "      <td>0.0</td>\n",
       "      <td>0.009501</td>\n",
       "    </tr>\n",
       "  </tbody>\n",
       "</table>\n",
       "</div>"
      ],
      "text/plain": [
       "   false_positive_rate  true_positive_rate\n",
       "0                  0.0            0.000000\n",
       "1                  0.0            0.002375\n",
       "2                  0.0            0.004751\n",
       "3                  0.0            0.007126\n",
       "4                  0.0            0.009501"
      ]
     },
     "metadata": {},
     "output_type": "display_data"
    },
    {
     "data": {
      "text/html": [
       "<div>\n",
       "<style scoped>\n",
       "    .dataframe tbody tr th:only-of-type {\n",
       "        vertical-align: middle;\n",
       "    }\n",
       "\n",
       "    .dataframe tbody tr th {\n",
       "        vertical-align: top;\n",
       "    }\n",
       "\n",
       "    .dataframe thead th {\n",
       "        text-align: right;\n",
       "    }\n",
       "</style>\n",
       "<table border=\"1\" class=\"dataframe\">\n",
       "  <thead>\n",
       "    <tr style=\"text-align: right;\">\n",
       "      <th></th>\n",
       "      <th>evaluation_type</th>\n",
       "      <th>confusion_matrix</th>\n",
       "      <th>accuracy</th>\n",
       "      <th>precision</th>\n",
       "      <th>recall</th>\n",
       "      <th>AUC</th>\n",
       "    </tr>\n",
       "  </thead>\n",
       "  <tbody>\n",
       "    <tr>\n",
       "      <th>0</th>\n",
       "      <td>Classification</td>\n",
       "      <td>DenseMatrix([[739.,  60.],\\n             [308....</td>\n",
       "      <td>0.698361</td>\n",
       "      <td>0.653179</td>\n",
       "      <td>0.268409</td>\n",
       "      <td>0.720258</td>\n",
       "    </tr>\n",
       "  </tbody>\n",
       "</table>\n",
       "</div>"
      ],
      "text/plain": [
       "  evaluation_type                                   confusion_matrix  \\\n",
       "0  Classification  DenseMatrix([[739.,  60.],\\n             [308....   \n",
       "\n",
       "   accuracy  precision    recall       AUC  \n",
       "0  0.698361   0.653179  0.268409  0.720258  "
      ]
     },
     "metadata": {},
     "output_type": "display_data"
    },
    {
     "data": {
      "text/html": [
       "<div>\n",
       "<style scoped>\n",
       "    .dataframe tbody tr th:only-of-type {\n",
       "        vertical-align: middle;\n",
       "    }\n",
       "\n",
       "    .dataframe tbody tr th {\n",
       "        vertical-align: top;\n",
       "    }\n",
       "\n",
       "    .dataframe thead th {\n",
       "        text-align: right;\n",
       "    }\n",
       "</style>\n",
       "<table border=\"1\" class=\"dataframe\">\n",
       "  <thead>\n",
       "    <tr style=\"text-align: right;\">\n",
       "      <th></th>\n",
       "      <th>model_name</th>\n",
       "      <th>metric</th>\n",
       "      <th>parameters</th>\n",
       "    </tr>\n",
       "  </thead>\n",
       "  <tbody>\n",
       "    <tr>\n",
       "      <th>0</th>\n",
       "      <td>TrainClassifier_b58c02ac354f</td>\n",
       "      <td>0.720258</td>\n",
       "      <td>aggregationDepth: 2, elasticNetParam: 0.0, fam...</td>\n",
       "    </tr>\n",
       "    <tr>\n",
       "      <th>1</th>\n",
       "      <td>TrainClassifier_1406bcdc2152</td>\n",
       "      <td>0.716458</td>\n",
       "      <td>aggregationDepth: 2, elasticNetParam: 0.0, fam...</td>\n",
       "    </tr>\n",
       "    <tr>\n",
       "      <th>2</th>\n",
       "      <td>TrainClassifier_3217762c976f</td>\n",
       "      <td>0.691793</td>\n",
       "      <td>cacheNodeIds: false, checkpointInterval: 10, f...</td>\n",
       "    </tr>\n",
       "    <tr>\n",
       "      <th>3</th>\n",
       "      <td>TrainClassifier_94107f5e0d2c</td>\n",
       "      <td>0.691953</td>\n",
       "      <td>cacheNodeIds: false, checkpointInterval: 10, f...</td>\n",
       "    </tr>\n",
       "    <tr>\n",
       "      <th>4</th>\n",
       "      <td>TrainClassifier_b6d4c3aa4f48</td>\n",
       "      <td>0.691057</td>\n",
       "      <td>cacheNodeIds: false, checkpointInterval: 10, f...</td>\n",
       "    </tr>\n",
       "    <tr>\n",
       "      <th>5</th>\n",
       "      <td>TrainClassifier_115646e3f6b4</td>\n",
       "      <td>0.692549</td>\n",
       "      <td>cacheNodeIds: false, checkpointInterval: 10, f...</td>\n",
       "    </tr>\n",
       "    <tr>\n",
       "      <th>6</th>\n",
       "      <td>TrainClassifier_695deb684592</td>\n",
       "      <td>0.625097</td>\n",
       "      <td>cacheNodeIds: false, checkpointInterval: 10, f...</td>\n",
       "    </tr>\n",
       "    <tr>\n",
       "      <th>7</th>\n",
       "      <td>TrainClassifier_b1a4b9159fea</td>\n",
       "      <td>0.633525</td>\n",
       "      <td>cacheNodeIds: false, checkpointInterval: 10, f...</td>\n",
       "    </tr>\n",
       "    <tr>\n",
       "      <th>8</th>\n",
       "      <td>TrainClassifier_c17bea260adb</td>\n",
       "      <td>0.625097</td>\n",
       "      <td>cacheNodeIds: false, checkpointInterval: 10, f...</td>\n",
       "    </tr>\n",
       "    <tr>\n",
       "      <th>9</th>\n",
       "      <td>TrainClassifier_c31eb9314ffa</td>\n",
       "      <td>0.633525</td>\n",
       "      <td>cacheNodeIds: false, checkpointInterval: 10, f...</td>\n",
       "    </tr>\n",
       "  </tbody>\n",
       "</table>\n",
       "</div>"
      ],
      "text/plain": [
       "                     model_name    metric  \\\n",
       "0  TrainClassifier_b58c02ac354f  0.720258   \n",
       "1  TrainClassifier_1406bcdc2152  0.716458   \n",
       "2  TrainClassifier_3217762c976f  0.691793   \n",
       "3  TrainClassifier_94107f5e0d2c  0.691953   \n",
       "4  TrainClassifier_b6d4c3aa4f48  0.691057   \n",
       "5  TrainClassifier_115646e3f6b4  0.692549   \n",
       "6  TrainClassifier_695deb684592  0.625097   \n",
       "7  TrainClassifier_b1a4b9159fea  0.633525   \n",
       "8  TrainClassifier_c17bea260adb  0.625097   \n",
       "9  TrainClassifier_c31eb9314ffa  0.633525   \n",
       "\n",
       "                                          parameters  \n",
       "0  aggregationDepth: 2, elasticNetParam: 0.0, fam...  \n",
       "1  aggregationDepth: 2, elasticNetParam: 0.0, fam...  \n",
       "2  cacheNodeIds: false, checkpointInterval: 10, f...  \n",
       "3  cacheNodeIds: false, checkpointInterval: 10, f...  \n",
       "4  cacheNodeIds: false, checkpointInterval: 10, f...  \n",
       "5  cacheNodeIds: false, checkpointInterval: 10, f...  \n",
       "6  cacheNodeIds: false, checkpointInterval: 10, f...  \n",
       "7  cacheNodeIds: false, checkpointInterval: 10, f...  \n",
       "8  cacheNodeIds: false, checkpointInterval: 10, f...  \n",
       "9  cacheNodeIds: false, checkpointInterval: 10, f...  "
      ]
     },
     "metadata": {},
     "output_type": "display_data"
    }
   ],
   "source": [
    "from mmlspark.automl import FindBestModel\n",
    "bestModel = FindBestModel(evaluationMetric=\"AUC\", models=trainedModels).fit(test)\n",
    "\n",
    "display(bestModel.getEvaluationResults().limit(5).toPandas())\n",
    "display(bestModel.getBestModelMetrics().toPandas())\n",
    "display(bestModel.getAllModelMetrics().toPandas())"
   ]
  },
  {
   "cell_type": "code",
   "execution_count": 19,
   "metadata": {
    "ExecuteTime": {
     "end_time": "2020-08-27T00:40:00.164461Z",
     "start_time": "2020-08-27T00:39:59.524647Z"
    }
   },
   "outputs": [
    {
     "name": "stdout",
     "output_type": "stream",
     "text": [
      "Best model's accuracy on validation set = 71.20%\n",
      "Best model's AUC on validation set = 74.33%\n"
     ]
    }
   ],
   "source": [
    "from mmlspark.train import ComputeModelStatistics\n",
    "\n",
    "predictions = bestModel.transform(validation)\n",
    "metrics = ComputeModelStatistics().transform(predictions)\n",
    "print(\"Best model's accuracy on validation set = \"\n",
    "      + \"{0:.2f}%\".format(metrics.first()[\"accuracy\"] * 100))\n",
    "print(\"Best model's AUC on validation set = \"\n",
    "      + \"{0:.2f}%\".format(metrics.first()[\"AUC\"] * 100))"
   ]
  },
  {
   "cell_type": "code",
   "execution_count": 20,
   "metadata": {
    "ExecuteTime": {
     "end_time": "2020-08-27T00:40:00.247725Z",
     "start_time": "2020-08-27T00:40:00.166965Z"
    }
   },
   "outputs": [
    {
     "data": {
      "text/html": [
       "<div>\n",
       "<style scoped>\n",
       "    .dataframe tbody tr th:only-of-type {\n",
       "        vertical-align: middle;\n",
       "    }\n",
       "\n",
       "    .dataframe tbody tr th {\n",
       "        vertical-align: top;\n",
       "    }\n",
       "\n",
       "    .dataframe thead th {\n",
       "        text-align: right;\n",
       "    }\n",
       "</style>\n",
       "<table border=\"1\" class=\"dataframe\">\n",
       "  <thead>\n",
       "    <tr style=\"text-align: right;\">\n",
       "      <th></th>\n",
       "      <th>evaluation_type</th>\n",
       "      <th>confusion_matrix</th>\n",
       "      <th>accuracy</th>\n",
       "      <th>precision</th>\n",
       "      <th>recall</th>\n",
       "      <th>AUC</th>\n",
       "    </tr>\n",
       "  </thead>\n",
       "  <tbody>\n",
       "    <tr>\n",
       "      <th>0</th>\n",
       "      <td>Classification</td>\n",
       "      <td>DenseMatrix([[795.,  71.],\\n             [291....</td>\n",
       "      <td>0.712013</td>\n",
       "      <td>0.584795</td>\n",
       "      <td>0.255754</td>\n",
       "      <td>0.743348</td>\n",
       "    </tr>\n",
       "  </tbody>\n",
       "</table>\n",
       "</div>"
      ],
      "text/plain": [
       "  evaluation_type                                   confusion_matrix  \\\n",
       "0  Classification  DenseMatrix([[795.,  71.],\\n             [291....   \n",
       "\n",
       "   accuracy  precision    recall       AUC  \n",
       "0  0.712013   0.584795  0.255754  0.743348  "
      ]
     },
     "execution_count": 20,
     "metadata": {},
     "output_type": "execute_result"
    }
   ],
   "source": [
    "df_metrics = metrics.toPandas()\n",
    "df_metrics"
   ]
  },
  {
   "cell_type": "code",
   "execution_count": 21,
   "metadata": {
    "ExecuteTime": {
     "end_time": "2020-08-27T00:40:00.256465Z",
     "start_time": "2020-08-27T00:40:00.249861Z"
    }
   },
   "outputs": [
    {
     "name": "stdout",
     "output_type": "stream",
     "text": [
      "DenseMatrix([[795.,  71.],\n",
      "             [291., 100.]])\n"
     ]
    },
    {
     "data": {
      "text/plain": [
       "pyspark.ml.linalg.DenseMatrix"
      ]
     },
     "execution_count": 21,
     "metadata": {},
     "output_type": "execute_result"
    }
   ],
   "source": [
    "cm = df_metrics['confusion_matrix'][0]\n",
    "print(cm)\n",
    "type(cm)"
   ]
  },
  {
   "cell_type": "code",
   "execution_count": 22,
   "metadata": {
    "ExecuteTime": {
     "end_time": "2020-08-27T00:40:00.288810Z",
     "start_time": "2020-08-27T00:40:00.259025Z"
    }
   },
   "outputs": [
    {
     "data": {
      "text/plain": [
       "['isTransposed', 'numCols', 'numRows', 'toArray', 'toSparse', 'values']"
      ]
     },
     "execution_count": 22,
     "metadata": {},
     "output_type": "execute_result"
    }
   ],
   "source": [
    "[i for i in dir(cm) if i[0]!='_']"
   ]
  },
  {
   "cell_type": "code",
   "execution_count": 23,
   "metadata": {
    "ExecuteTime": {
     "end_time": "2020-08-27T00:40:00.308336Z",
     "start_time": "2020-08-27T00:40:00.296550Z"
    }
   },
   "outputs": [
    {
     "data": {
      "text/html": [
       "<div>\n",
       "<style scoped>\n",
       "    .dataframe tbody tr th:only-of-type {\n",
       "        vertical-align: middle;\n",
       "    }\n",
       "\n",
       "    .dataframe tbody tr th {\n",
       "        vertical-align: top;\n",
       "    }\n",
       "\n",
       "    .dataframe thead th {\n",
       "        text-align: right;\n",
       "    }\n",
       "</style>\n",
       "<table border=\"1\" class=\"dataframe\">\n",
       "  <thead>\n",
       "    <tr style=\"text-align: right;\">\n",
       "      <th></th>\n",
       "      <th>0</th>\n",
       "      <th>1</th>\n",
       "    </tr>\n",
       "  </thead>\n",
       "  <tbody>\n",
       "    <tr>\n",
       "      <th>0</th>\n",
       "      <td>795.0</td>\n",
       "      <td>71.0</td>\n",
       "    </tr>\n",
       "    <tr>\n",
       "      <th>1</th>\n",
       "      <td>291.0</td>\n",
       "      <td>100.0</td>\n",
       "    </tr>\n",
       "  </tbody>\n",
       "</table>\n",
       "</div>"
      ],
      "text/plain": [
       "       0      1\n",
       "0  795.0   71.0\n",
       "1  291.0  100.0"
      ]
     },
     "execution_count": 23,
     "metadata": {},
     "output_type": "execute_result"
    }
   ],
   "source": [
    "df_cm = pd.DataFrame(cm.toArray())\n",
    "df_cm"
   ]
  }
 ],
 "metadata": {
  "kernelspec": {
   "display_name": "Spark3",
   "language": "python",
   "name": "spk"
  },
  "language_info": {
   "codemirror_mode": {
    "name": "ipython",
    "version": 3
   },
   "file_extension": ".py",
   "mimetype": "text/x-python",
   "name": "python",
   "nbconvert_exporter": "python",
   "pygments_lexer": "ipython3",
   "version": "3.7.7"
  },
  "toc": {
   "base_numbering": 1,
   "nav_menu": {},
   "number_sections": true,
   "sideBar": true,
   "skip_h1_title": false,
   "title_cell": "Table of Contents",
   "title_sidebar": "Contents",
   "toc_cell": true,
   "toc_position": {},
   "toc_section_display": true,
   "toc_window_display": false
  },
  "varInspector": {
   "cols": {
    "lenName": 16,
    "lenType": 16,
    "lenVar": 40
   },
   "kernels_config": {
    "python": {
     "delete_cmd_postfix": "",
     "delete_cmd_prefix": "del ",
     "library": "var_list.py",
     "varRefreshCmd": "print(var_dic_list())"
    },
    "r": {
     "delete_cmd_postfix": ") ",
     "delete_cmd_prefix": "rm(",
     "library": "var_list.r",
     "varRefreshCmd": "cat(var_dic_list()) "
    }
   },
   "types_to_exclude": [
    "module",
    "function",
    "builtin_function_or_method",
    "instance",
    "_Feature"
   ],
   "window_display": false
  }
 },
 "nbformat": 4,
 "nbformat_minor": 2
}
