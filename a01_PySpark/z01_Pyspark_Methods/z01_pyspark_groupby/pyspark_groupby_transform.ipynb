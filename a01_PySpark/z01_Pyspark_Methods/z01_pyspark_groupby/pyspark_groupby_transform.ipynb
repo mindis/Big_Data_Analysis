{
 "cells": [
  {
   "cell_type": "markdown",
   "metadata": {
    "toc": true
   },
   "source": [
    "<h1>Table of Contents<span class=\"tocSkip\"></span></h1>\n",
    "<div class=\"toc\"><ul class=\"toc-item\"></ul></div>"
   ]
  },
  {
   "cell_type": "code",
   "execution_count": 1,
   "metadata": {
    "ExecuteTime": {
     "end_time": "2020-03-11T01:08:48.469594Z",
     "start_time": "2020-03-11T01:08:47.475727Z"
    }
   },
   "outputs": [],
   "source": [
    "import numpy as np\n",
    "import pandas as pd"
   ]
  },
  {
   "cell_type": "code",
   "execution_count": 2,
   "metadata": {
    "ExecuteTime": {
     "end_time": "2020-03-11T01:08:52.971670Z",
     "start_time": "2020-03-11T01:08:48.472319Z"
    }
   },
   "outputs": [
    {
     "name": "stdout",
     "output_type": "stream",
     "text": [
      "[('numpy', '1.17.1'), ('pandas', '0.25.1'), ('pyspark', '2.4.4')]\n"
     ]
    }
   ],
   "source": [
    "import pyspark\n",
    "\n",
    "from pyspark import SparkConf, SparkContext, SQLContext\n",
    "from pyspark.sql import SparkSession\n",
    "from pyspark.sql.functions import udf # @udf(\"integer\") def myfunc(x,y): return x - y\n",
    "from pyspark.sql import functions as F # stddev format_number date_format, dayofyear, when\n",
    "from pyspark.sql.types import StructField, StringType, IntegerType, StructType\n",
    "\n",
    "print([(x.__name__,x.__version__) for x in [np, pd, pyspark]])\n",
    "\n",
    "spark = pyspark.sql.SparkSession.builder.appName('bhishan').getOrCreate()\n",
    "sc = spark.sparkContext\n",
    "sqlContext = SQLContext(sc) # spark_df = sqlContext.createDataFrame(pandas_df)\n",
    "sc.setLogLevel(\"INFO\")"
   ]
  },
  {
   "cell_type": "code",
   "execution_count": 36,
   "metadata": {
    "ExecuteTime": {
     "end_time": "2020-03-11T01:29:58.760459Z",
     "start_time": "2020-03-11T01:29:58.752738Z"
    }
   },
   "outputs": [
    {
     "name": "stdout",
     "output_type": "stream",
     "text": [
      "  category  value\n",
      "0        a     10\n",
      "1        a     20\n",
      "2        b    100\n",
      "3        b    200\n",
      "4        b    300\n"
     ]
    }
   ],
   "source": [
    "#Create Pandas DataFrame\n",
    "df = pd.DataFrame({'category':['a','a','b','b','b'],\n",
    "                   'value': [10,20,100,200,300],\n",
    "                  })\n",
    "\n",
    "print(df)"
   ]
  },
  {
   "cell_type": "code",
   "execution_count": 37,
   "metadata": {
    "ExecuteTime": {
     "end_time": "2020-03-11T01:29:59.802263Z",
     "start_time": "2020-03-11T01:29:59.796031Z"
    }
   },
   "outputs": [
    {
     "data": {
      "text/plain": [
       "category    object\n",
       "value        int64\n",
       "dtype: object"
      ]
     },
     "execution_count": 37,
     "metadata": {},
     "output_type": "execute_result"
    }
   ],
   "source": [
    "df.dtypes"
   ]
  },
  {
   "cell_type": "code",
   "execution_count": 38,
   "metadata": {
    "ExecuteTime": {
     "end_time": "2020-03-11T01:30:01.257203Z",
     "start_time": "2020-03-11T01:30:01.164236Z"
    }
   },
   "outputs": [
    {
     "name": "stdout",
     "output_type": "stream",
     "text": [
      "+--------+-----+\n",
      "|category|value|\n",
      "+--------+-----+\n",
      "|       a|   10|\n",
      "|       a|   20|\n",
      "|       b|  100|\n",
      "|       b|  200|\n",
      "|       b|  300|\n",
      "+--------+-----+\n",
      "\n"
     ]
    }
   ],
   "source": [
    "schema = StructType([\n",
    "    StructField('category',StringType(),True),\n",
    "    StructField('value',IntegerType(),True)\n",
    "    ])\n",
    "\n",
    "sdf = sqlContext.createDataFrame(df, schema)\n",
    "sdf.show()"
   ]
  },
  {
   "cell_type": "code",
   "execution_count": 39,
   "metadata": {
    "ExecuteTime": {
     "end_time": "2020-03-11T01:30:06.251971Z",
     "start_time": "2020-03-11T01:30:06.242069Z"
    }
   },
   "outputs": [
    {
     "name": "stdout",
     "output_type": "stream",
     "text": [
      "  category  value  category_mean\n",
      "0        a     10             15\n",
      "1        a     20             15\n",
      "2        b    100            200\n",
      "3        b    200            200\n",
      "4        b    300            200\n"
     ]
    }
   ],
   "source": [
    "df['category_mean'] = df.groupby(\"category\")[\"value\"].transform('mean')\n",
    "\n",
    "print(df)"
   ]
  },
  {
   "cell_type": "code",
   "execution_count": 44,
   "metadata": {
    "ExecuteTime": {
     "end_time": "2020-03-11T01:33:20.229508Z",
     "start_time": "2020-03-11T01:33:19.675869Z"
    }
   },
   "outputs": [
    {
     "name": "stdout",
     "output_type": "stream",
     "text": [
      "+--------+----------+\n",
      "|category|avg(value)|\n",
      "+--------+----------+\n",
      "|       b|     200.0|\n",
      "|       a|      15.0|\n",
      "+--------+----------+\n",
      "\n"
     ]
    }
   ],
   "source": [
    "from pyspark.sql.functions import col as _col\n",
    "\n",
    "sdf_means = sdf.groupBy(\"category\").mean(\"value\").alias(\"means\")\n",
    "sdf_means.show()"
   ]
  },
  {
   "cell_type": "code",
   "execution_count": 45,
   "metadata": {
    "ExecuteTime": {
     "end_time": "2020-03-11T01:33:25.844160Z",
     "start_time": "2020-03-11T01:33:25.041118Z"
    }
   },
   "outputs": [
    {
     "name": "stdout",
     "output_type": "stream",
     "text": [
      "+--------+-----+--------+----------+\n",
      "|category|value|category|avg(value)|\n",
      "+--------+-----+--------+----------+\n",
      "|       b|  100|       b|     200.0|\n",
      "|       b|  200|       b|     200.0|\n",
      "|       b|  300|       b|     200.0|\n",
      "|       a|   10|       a|      15.0|\n",
      "|       a|   20|       a|      15.0|\n",
      "+--------+-----+--------+----------+\n",
      "\n"
     ]
    }
   ],
   "source": [
    "sdf2 = sdf.alias(\"sdf\").join(sdf_means,\n",
    "                      _col(\"sdf.category\") == \n",
    "                      _col(\"means.category\"))\n",
    "\n",
    "sdf2.show()"
   ]
  },
  {
   "cell_type": "code",
   "execution_count": 41,
   "metadata": {
    "ExecuteTime": {
     "end_time": "2020-03-11T01:30:13.968040Z",
     "start_time": "2020-03-11T01:30:13.496883Z"
    }
   },
   "outputs": [
    {
     "name": "stdout",
     "output_type": "stream",
     "text": [
      "+--------+-----+--------+----------+\n",
      "|category|value|category|avg(value)|\n",
      "+--------+-----+--------+----------+\n",
      "|       a|   10|       a|      15.0|\n",
      "|       a|   20|       a|      15.0|\n",
      "|       b|  100|       b|     200.0|\n",
      "|       b|  200|       b|     200.0|\n",
      "|       b|  300|       b|     200.0|\n",
      "+--------+-----+--------+----------+\n",
      "\n"
     ]
    }
   ],
   "source": [
    "sdf3 = sdf.alias(\"sdf\").join(\n",
    "    F.broadcast(means),\n",
    "    _col(\"sdf.category\") ==\n",
    "    _col(\"means.category\"))\n",
    "\n",
    "sdf3.show()"
   ]
  },
  {
   "cell_type": "code",
   "execution_count": 42,
   "metadata": {
    "ExecuteTime": {
     "end_time": "2020-03-11T01:30:15.892687Z",
     "start_time": "2020-03-11T01:30:15.360532Z"
    }
   },
   "outputs": [
    {
     "name": "stdout",
     "output_type": "stream",
     "text": [
      "+--------+-----+-------------+\n",
      "|category|value|category_mean|\n",
      "+--------+-----+-------------+\n",
      "|       b|  100|        200.0|\n",
      "|       b|  200|        200.0|\n",
      "|       b|  300|        200.0|\n",
      "|       a|   10|         15.0|\n",
      "|       a|   20|         15.0|\n",
      "+--------+-----+-------------+\n",
      "\n"
     ]
    }
   ],
   "source": [
    "sdf.registerTempTable('sdf')\n",
    "\n",
    "sdf4 = spark.sql(\"\"\"\n",
    "select *, mean(value)\n",
    "OVER (PARTITION BY category) as category_mean\n",
    "from sdf\n",
    "\"\"\")\n",
    "\n",
    "sdf4.show()"
   ]
  },
  {
   "cell_type": "code",
   "execution_count": 43,
   "metadata": {
    "ExecuteTime": {
     "end_time": "2020-03-11T01:30:17.048955Z",
     "start_time": "2020-03-11T01:30:16.488118Z"
    }
   },
   "outputs": [
    {
     "name": "stdout",
     "output_type": "stream",
     "text": [
      "+--------+-----+-------------+\n",
      "|category|value|category_mean|\n",
      "+--------+-----+-------------+\n",
      "|       b|  100|        200.0|\n",
      "|       b|  200|        200.0|\n",
      "|       b|  300|        200.0|\n",
      "|       a|   10|         15.0|\n",
      "|       a|   20|         15.0|\n",
      "+--------+-----+-------------+\n",
      "\n"
     ]
    }
   ],
   "source": [
    "from pyspark.sql.window import Window\n",
    "\n",
    "window_var = Window().partitionBy('category')\n",
    "\n",
    "sdf5 = sdf.withColumn('category_mean',\n",
    "                      F.mean('value').over(window_var))\n",
    "\n",
    "sdf5.show()"
   ]
  },
  {
   "cell_type": "code",
   "execution_count": null,
   "metadata": {},
   "outputs": [],
   "source": []
  }
 ],
 "metadata": {
  "kernelspec": {
   "display_name": "Python (spk)",
   "language": "python",
   "name": "spk"
  },
  "language_info": {
   "codemirror_mode": {
    "name": "ipython",
    "version": 3
   },
   "file_extension": ".py",
   "mimetype": "text/x-python",
   "name": "python",
   "nbconvert_exporter": "python",
   "pygments_lexer": "ipython3",
   "version": "3.7.4"
  },
  "toc": {
   "base_numbering": 1,
   "nav_menu": {},
   "number_sections": true,
   "sideBar": true,
   "skip_h1_title": false,
   "title_cell": "Table of Contents",
   "title_sidebar": "Contents",
   "toc_cell": true,
   "toc_position": {},
   "toc_section_display": true,
   "toc_window_display": true
  }
 },
 "nbformat": 4,
 "nbformat_minor": 2
}
