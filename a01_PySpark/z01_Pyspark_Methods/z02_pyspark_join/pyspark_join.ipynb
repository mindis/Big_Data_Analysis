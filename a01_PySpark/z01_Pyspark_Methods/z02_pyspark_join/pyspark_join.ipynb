{
 "cells": [
  {
   "cell_type": "markdown",
   "metadata": {
    "toc": true
   },
   "source": [
    "<h1>Table of Contents<span class=\"tocSkip\"></span></h1>\n",
    "<div class=\"toc\"><ul class=\"toc-item\"><li><span><a href=\"#Join-two-data-frames-which-do-not-have-id-columns\" data-toc-modified-id=\"Join-two-data-frames-which-do-not-have-id-columns-1\"><span class=\"toc-item-num\">1&nbsp;&nbsp;</span>Join two data frames which do not have id columns</a></span></li><li><span><a href=\"#Merge-two-different-columns\" data-toc-modified-id=\"Merge-two-different-columns-2\"><span class=\"toc-item-num\">2&nbsp;&nbsp;</span>Merge two different columns</a></span></li><li><span><a href=\"#Merge-on-two-different-columns-(using-sc.parallize)\" data-toc-modified-id=\"Merge-on-two-different-columns-(using-sc.parallize)-3\"><span class=\"toc-item-num\">3&nbsp;&nbsp;</span>Merge on two different columns (using sc.parallize)</a></span></li><li><span><a href=\"#Join-two-dataframes-and-update-values-from-second-dataframe\" data-toc-modified-id=\"Join-two-dataframes-and-update-values-from-second-dataframe-4\"><span class=\"toc-item-num\">4&nbsp;&nbsp;</span>Join two dataframes and update values from second dataframe</a></span></li></ul></div>"
   ]
  },
  {
   "cell_type": "code",
   "execution_count": 2,
   "metadata": {
    "ExecuteTime": {
     "end_time": "2020-03-11T02:45:40.075697Z",
     "start_time": "2020-03-11T02:45:39.309614Z"
    }
   },
   "outputs": [],
   "source": [
    "import numpy as np\n",
    "import pandas as pd\n",
    "from pyspark.sql.types import *"
   ]
  },
  {
   "cell_type": "code",
   "execution_count": 3,
   "metadata": {
    "ExecuteTime": {
     "end_time": "2020-03-11T02:45:44.966575Z",
     "start_time": "2020-03-11T02:45:40.333863Z"
    }
   },
   "outputs": [
    {
     "name": "stdout",
     "output_type": "stream",
     "text": [
      "[('numpy', '1.17.1'), ('pandas', '0.25.1'), ('pyspark', '2.4.4')]\n"
     ]
    }
   ],
   "source": [
    "import pyspark\n",
    "\n",
    "from pyspark import SparkConf, SparkContext, SQLContext\n",
    "from pyspark.sql import SparkSession\n",
    "from pyspark.sql.functions import udf # @udf(\"integer\") def myfunc(x,y): return x - y\n",
    "from pyspark.sql import functions as F # stddev format_number date_format, dayofyear, when\n",
    "from pyspark.sql.types import StructField, StringType, IntegerType, StructType\n",
    "\n",
    "print([(x.__name__,x.__version__) for x in [np, pd, pyspark]])\n",
    "\n",
    "spark = pyspark.sql.SparkSession.builder.appName('bhishan').getOrCreate()\n",
    "sc = spark.sparkContext\n",
    "sqlContext = SQLContext(sc) # spark_df = sqlContext.createDataFrame(pandas_df)\n",
    "sc.setLogLevel(\"INFO\")"
   ]
  },
  {
   "cell_type": "markdown",
   "metadata": {},
   "source": [
    "# Join two data frames which do not have id columns"
   ]
  },
  {
   "cell_type": "code",
   "execution_count": 55,
   "metadata": {
    "ExecuteTime": {
     "end_time": "2020-03-10T05:10:39.468799Z",
     "start_time": "2020-03-10T05:10:39.307766Z"
    }
   },
   "outputs": [
    {
     "name": "stdout",
     "output_type": "stream",
     "text": [
      "+----+----+----+----+\n",
      "|col1|col2|col3|col4|\n",
      "+----+----+----+----+\n",
      "|   1|   2|   3|   4|\n",
      "|  10|  20|  30|  40|\n",
      "| 100| 200| 300| 400|\n",
      "+----+----+----+----+\n",
      "\n"
     ]
    }
   ],
   "source": [
    "sdf1 = spark.createDataFrame([\n",
    "    (1,2,3,4),(10,20,30,40),(100,200,300,400),                \n",
    "    ], (\"col1\",\"col2\",\"col3\",\"col4\"))\n",
    "\n",
    "sdf1.show()"
   ]
  },
  {
   "cell_type": "code",
   "execution_count": 56,
   "metadata": {
    "ExecuteTime": {
     "end_time": "2020-03-10T05:10:39.570378Z",
     "start_time": "2020-03-10T05:10:39.471728Z"
    }
   },
   "outputs": [
    {
     "name": "stdout",
     "output_type": "stream",
     "text": [
      "+----+----+----+----+\n",
      "|col5|col6|col7|col8|\n",
      "+----+----+----+----+\n",
      "|   5|   6|   7|   8|\n",
      "|  50|  60|  70|  80|\n",
      "| 500| 600| 700| 800|\n",
      "+----+----+----+----+\n",
      "\n"
     ]
    }
   ],
   "source": [
    "sdf2 = spark.createDataFrame([\n",
    "    (5,6,7,8),(50,60,70,80),(500,600,700,800),              \n",
    "    ], (\"col5\",\"col6\",\"col7\",\"col8\"))\n",
    "sdf2.show()"
   ]
  },
  {
   "cell_type": "code",
   "execution_count": 57,
   "metadata": {
    "ExecuteTime": {
     "end_time": "2020-03-10T05:10:39.676338Z",
     "start_time": "2020-03-10T05:10:39.572897Z"
    }
   },
   "outputs": [
    {
     "name": "stdout",
     "output_type": "stream",
     "text": [
      "+----+----+----+----+-----------+\n",
      "|col1|col2|col3|col4|         id|\n",
      "+----+----+----+----+-----------+\n",
      "|   1|   2|   3|   4| 8589934592|\n",
      "|  10|  20|  30|  40|17179869184|\n",
      "| 100| 200| 300| 400|25769803776|\n",
      "+----+----+----+----+-----------+\n",
      "\n"
     ]
    }
   ],
   "source": [
    "sdf1 = sdf1.withColumn(\"id\", F.monotonically_increasing_id())\n",
    "sdf1.show()"
   ]
  },
  {
   "cell_type": "code",
   "execution_count": 58,
   "metadata": {
    "ExecuteTime": {
     "end_time": "2020-03-10T05:10:39.765985Z",
     "start_time": "2020-03-10T05:10:39.678593Z"
    }
   },
   "outputs": [
    {
     "name": "stdout",
     "output_type": "stream",
     "text": [
      "+----+----+----+----+-----------+\n",
      "|col5|col6|col7|col8|         id|\n",
      "+----+----+----+----+-----------+\n",
      "|   5|   6|   7|   8| 8589934592|\n",
      "|  50|  60|  70|  80|17179869184|\n",
      "| 500| 600| 700| 800|25769803776|\n",
      "+----+----+----+----+-----------+\n",
      "\n"
     ]
    }
   ],
   "source": [
    "sdf2 = sdf2.withColumn(\"id\", F.monotonically_increasing_id())\n",
    "sdf2.show()"
   ]
  },
  {
   "cell_type": "code",
   "execution_count": 59,
   "metadata": {
    "ExecuteTime": {
     "end_time": "2020-03-10T05:10:40.668163Z",
     "start_time": "2020-03-10T05:10:39.771076Z"
    }
   },
   "outputs": [
    {
     "name": "stdout",
     "output_type": "stream",
     "text": [
      "+----+----+----+----+----+----+----+----+\n",
      "|col1|col2|col3|col4|col5|col6|col7|col8|\n",
      "+----+----+----+----+----+----+----+----+\n",
      "|   1|   2|   3|   4|   5|   6|   7|   8|\n",
      "| 100| 200| 300| 400| 500| 600| 700| 800|\n",
      "|  10|  20|  30|  40|  50|  60|  70|  80|\n",
      "+----+----+----+----+----+----+----+----+\n",
      "\n"
     ]
    }
   ],
   "source": [
    "sdf = sdf1.join(sdf2, \"id\", \"inner\").drop(\"id\")\n",
    "sdf.show()"
   ]
  },
  {
   "cell_type": "markdown",
   "metadata": {},
   "source": [
    "# Merge two different columns"
   ]
  },
  {
   "cell_type": "code",
   "execution_count": 60,
   "metadata": {
    "ExecuteTime": {
     "end_time": "2020-03-10T05:10:40.678831Z",
     "start_time": "2020-03-10T05:10:40.671807Z"
    }
   },
   "outputs": [
    {
     "data": {
      "text/html": [
       "<div>\n",
       "<style scoped>\n",
       "    .dataframe tbody tr th:only-of-type {\n",
       "        vertical-align: middle;\n",
       "    }\n",
       "\n",
       "    .dataframe tbody tr th {\n",
       "        vertical-align: top;\n",
       "    }\n",
       "\n",
       "    .dataframe thead th {\n",
       "        text-align: right;\n",
       "    }\n",
       "</style>\n",
       "<table border=\"1\" class=\"dataframe\">\n",
       "  <thead>\n",
       "    <tr style=\"text-align: right;\">\n",
       "      <th></th>\n",
       "      <th>A</th>\n",
       "      <th>left</th>\n",
       "    </tr>\n",
       "  </thead>\n",
       "  <tbody>\n",
       "    <tr>\n",
       "      <td>0</td>\n",
       "      <td>1</td>\n",
       "      <td>1</td>\n",
       "    </tr>\n",
       "    <tr>\n",
       "      <td>1</td>\n",
       "      <td>10</td>\n",
       "      <td>5</td>\n",
       "    </tr>\n",
       "    <tr>\n",
       "      <td>2</td>\n",
       "      <td>100</td>\n",
       "      <td>2</td>\n",
       "    </tr>\n",
       "  </tbody>\n",
       "</table>\n",
       "</div>"
      ],
      "text/plain": [
       "     A  left\n",
       "0    1     1\n",
       "1   10     5\n",
       "2  100     2"
      ]
     },
     "execution_count": 60,
     "metadata": {},
     "output_type": "execute_result"
    }
   ],
   "source": [
    "df1 = pd.DataFrame({'A':[1,10,100],'left':[1,5,2]})\n",
    "df1"
   ]
  },
  {
   "cell_type": "code",
   "execution_count": 61,
   "metadata": {
    "ExecuteTime": {
     "end_time": "2020-03-10T05:10:40.692687Z",
     "start_time": "2020-03-10T05:10:40.682806Z"
    }
   },
   "outputs": [
    {
     "data": {
      "text/html": [
       "<div>\n",
       "<style scoped>\n",
       "    .dataframe tbody tr th:only-of-type {\n",
       "        vertical-align: middle;\n",
       "    }\n",
       "\n",
       "    .dataframe tbody tr th {\n",
       "        vertical-align: top;\n",
       "    }\n",
       "\n",
       "    .dataframe thead th {\n",
       "        text-align: right;\n",
       "    }\n",
       "</style>\n",
       "<table border=\"1\" class=\"dataframe\">\n",
       "  <thead>\n",
       "    <tr style=\"text-align: right;\">\n",
       "      <th></th>\n",
       "      <th>right</th>\n",
       "      <th>B</th>\n",
       "    </tr>\n",
       "  </thead>\n",
       "  <tbody>\n",
       "    <tr>\n",
       "      <td>0</td>\n",
       "      <td>5</td>\n",
       "      <td>555</td>\n",
       "    </tr>\n",
       "    <tr>\n",
       "      <td>1</td>\n",
       "      <td>2</td>\n",
       "      <td>222</td>\n",
       "    </tr>\n",
       "    <tr>\n",
       "      <td>2</td>\n",
       "      <td>1</td>\n",
       "      <td>111</td>\n",
       "    </tr>\n",
       "  </tbody>\n",
       "</table>\n",
       "</div>"
      ],
      "text/plain": [
       "   right    B\n",
       "0      5  555\n",
       "1      2  222\n",
       "2      1  111"
      ]
     },
     "execution_count": 61,
     "metadata": {},
     "output_type": "execute_result"
    }
   ],
   "source": [
    "df2 = pd.DataFrame({'right':[5,2,1],'B':[555,222,111]})\n",
    "df2"
   ]
  },
  {
   "cell_type": "code",
   "execution_count": 62,
   "metadata": {
    "ExecuteTime": {
     "end_time": "2020-03-10T05:10:40.706366Z",
     "start_time": "2020-03-10T05:10:40.695675Z"
    }
   },
   "outputs": [
    {
     "data": {
      "text/html": [
       "<div>\n",
       "<style scoped>\n",
       "    .dataframe tbody tr th:only-of-type {\n",
       "        vertical-align: middle;\n",
       "    }\n",
       "\n",
       "    .dataframe tbody tr th {\n",
       "        vertical-align: top;\n",
       "    }\n",
       "\n",
       "    .dataframe thead th {\n",
       "        text-align: right;\n",
       "    }\n",
       "</style>\n",
       "<table border=\"1\" class=\"dataframe\">\n",
       "  <thead>\n",
       "    <tr style=\"text-align: right;\">\n",
       "      <th></th>\n",
       "      <th>A</th>\n",
       "      <th>left</th>\n",
       "      <th>right</th>\n",
       "      <th>B</th>\n",
       "    </tr>\n",
       "  </thead>\n",
       "  <tbody>\n",
       "    <tr>\n",
       "      <td>0</td>\n",
       "      <td>1</td>\n",
       "      <td>1</td>\n",
       "      <td>1</td>\n",
       "      <td>111</td>\n",
       "    </tr>\n",
       "    <tr>\n",
       "      <td>1</td>\n",
       "      <td>10</td>\n",
       "      <td>5</td>\n",
       "      <td>5</td>\n",
       "      <td>555</td>\n",
       "    </tr>\n",
       "    <tr>\n",
       "      <td>2</td>\n",
       "      <td>100</td>\n",
       "      <td>2</td>\n",
       "      <td>2</td>\n",
       "      <td>222</td>\n",
       "    </tr>\n",
       "  </tbody>\n",
       "</table>\n",
       "</div>"
      ],
      "text/plain": [
       "     A  left  right    B\n",
       "0    1     1      1  111\n",
       "1   10     5      5  555\n",
       "2  100     2      2  222"
      ]
     },
     "execution_count": 62,
     "metadata": {},
     "output_type": "execute_result"
    }
   ],
   "source": [
    "df1.merge(df2,left_on='left',right_on='right')"
   ]
  },
  {
   "cell_type": "code",
   "execution_count": 63,
   "metadata": {
    "ExecuteTime": {
     "end_time": "2020-03-10T05:10:40.714095Z",
     "start_time": "2020-03-10T05:10:40.708426Z"
    }
   },
   "outputs": [
    {
     "data": {
      "text/plain": [
       "A       int64\n",
       "left    int64\n",
       "dtype: object"
      ]
     },
     "execution_count": 63,
     "metadata": {},
     "output_type": "execute_result"
    }
   ],
   "source": [
    "df1.dtypes"
   ]
  },
  {
   "cell_type": "code",
   "execution_count": 64,
   "metadata": {
    "ExecuteTime": {
     "end_time": "2020-03-10T05:10:40.854706Z",
     "start_time": "2020-03-10T05:10:40.716695Z"
    }
   },
   "outputs": [
    {
     "name": "stdout",
     "output_type": "stream",
     "text": [
      "+---+----+\n",
      "|  A|left|\n",
      "+---+----+\n",
      "|  1|   1|\n",
      "| 10|   5|\n",
      "|100|   2|\n",
      "+---+----+\n",
      "\n"
     ]
    }
   ],
   "source": [
    "schema = StructType([\n",
    "    StructField('A',IntegerType(),True),\n",
    "    StructField('left',IntegerType(),True)\n",
    "    ])\n",
    "\n",
    "sdf1 = sqlContext.createDataFrame(df1, schema)\n",
    "sdf1.show()"
   ]
  },
  {
   "cell_type": "code",
   "execution_count": 65,
   "metadata": {
    "ExecuteTime": {
     "end_time": "2020-03-10T05:10:40.869953Z",
     "start_time": "2020-03-10T05:10:40.860539Z"
    }
   },
   "outputs": [
    {
     "data": {
      "text/plain": [
       "right    int64\n",
       "B        int64\n",
       "dtype: object"
      ]
     },
     "execution_count": 65,
     "metadata": {},
     "output_type": "execute_result"
    }
   ],
   "source": [
    "df2.dtypes"
   ]
  },
  {
   "cell_type": "code",
   "execution_count": 66,
   "metadata": {
    "ExecuteTime": {
     "end_time": "2020-03-10T05:10:40.973039Z",
     "start_time": "2020-03-10T05:10:40.872688Z"
    }
   },
   "outputs": [
    {
     "name": "stdout",
     "output_type": "stream",
     "text": [
      "+-----+---+\n",
      "|right|  B|\n",
      "+-----+---+\n",
      "|    5|555|\n",
      "|    2|222|\n",
      "|    1|111|\n",
      "+-----+---+\n",
      "\n"
     ]
    }
   ],
   "source": [
    "schema = StructType([\n",
    "    StructField('right',IntegerType(),True),\n",
    "    StructField('B',IntegerType(),True)\n",
    "    ])\n",
    "\n",
    "sdf2 = sqlContext.createDataFrame(df2, schema)\n",
    "sdf2.show()"
   ]
  },
  {
   "cell_type": "code",
   "execution_count": 67,
   "metadata": {
    "ExecuteTime": {
     "end_time": "2020-03-10T05:10:41.867974Z",
     "start_time": "2020-03-10T05:10:40.979060Z"
    }
   },
   "outputs": [
    {
     "name": "stdout",
     "output_type": "stream",
     "text": [
      "+---+----+-----+---+\n",
      "|  A|left|right|  B|\n",
      "+---+----+-----+---+\n",
      "|  1|   1|    1|111|\n",
      "| 10|   5|    5|555|\n",
      "|100|   2|    2|222|\n",
      "+---+----+-----+---+\n",
      "\n"
     ]
    }
   ],
   "source": [
    "sdf = sdf1.join(sdf2, sdf1.left == sdf2.right)\n",
    "sdf.show()"
   ]
  },
  {
   "cell_type": "markdown",
   "metadata": {},
   "source": [
    "# Merge on two different columns (using sc.parallize)"
   ]
  },
  {
   "cell_type": "code",
   "execution_count": 68,
   "metadata": {
    "ExecuteTime": {
     "end_time": "2020-03-10T05:10:42.026780Z",
     "start_time": "2020-03-10T05:10:41.872631Z"
    }
   },
   "outputs": [
    {
     "name": "stdout",
     "output_type": "stream",
     "text": [
      "+----+------+\n",
      "|a_id| fruit|\n",
      "+----+------+\n",
      "|   a| apple|\n",
      "|   b|banana|\n",
      "|   c|cheese|\n",
      "+----+------+\n",
      "\n"
     ]
    }
   ],
   "source": [
    "sdf1 = sc.parallelize([['a', 'apple'],\n",
    "                       ['b', 'banana'],\n",
    "                       ['c', 'cheese']]\n",
    "                     ).toDF(['a_id', 'fruit'])\n",
    "sdf1.show()"
   ]
  },
  {
   "cell_type": "code",
   "execution_count": 69,
   "metadata": {
    "ExecuteTime": {
     "end_time": "2020-03-10T05:10:42.209254Z",
     "start_time": "2020-03-10T05:10:42.030260Z"
    }
   },
   "outputs": [
    {
     "name": "stdout",
     "output_type": "stream",
     "text": [
      "+-----+----+------+\n",
      "|price|b_id| extra|\n",
      "+-----+----+------+\n",
      "|   10|   a|extra1|\n",
      "|   30|   c|extra2|\n",
      "|   20|   b|extra3|\n",
      "+-----+----+------+\n",
      "\n"
     ]
    }
   ],
   "source": [
    "sdf2 = sc.parallelize([[10, 'a','extra1'],\n",
    "                       [30, 'c','extra2'],\n",
    "                       [20, 'b','extra3']]\n",
    "                     ).toDF([\"price\", \"b_id\",'extra'])\n",
    "sdf2.show()"
   ]
  },
  {
   "cell_type": "code",
   "execution_count": 70,
   "metadata": {
    "ExecuteTime": {
     "end_time": "2020-03-10T05:10:42.217086Z",
     "start_time": "2020-03-10T05:10:42.212556Z"
    }
   },
   "outputs": [
    {
     "data": {
      "text/plain": [
       "[('price', 'bigint'), ('b_id', 'string'), ('extra', 'string')]"
      ]
     },
     "execution_count": 70,
     "metadata": {},
     "output_type": "execute_result"
    }
   ],
   "source": [
    "sdf2.dtypes"
   ]
  },
  {
   "cell_type": "code",
   "execution_count": 71,
   "metadata": {
    "ExecuteTime": {
     "end_time": "2020-03-10T05:10:42.717266Z",
     "start_time": "2020-03-10T05:10:42.222837Z"
    }
   },
   "outputs": [
    {
     "name": "stdout",
     "output_type": "stream",
     "text": [
      "+----+------+-----+----+------+\n",
      "|a_id| fruit|price|b_id| extra|\n",
      "+----+------+-----+----+------+\n",
      "|   c|cheese|   30|   c|extra2|\n",
      "|   b|banana|   20|   b|extra3|\n",
      "|   a| apple|   10|   a|extra1|\n",
      "+----+------+-----+----+------+\n",
      "\n"
     ]
    }
   ],
   "source": [
    "sdf = sdf1.join(sdf2, sdf1.a_id == sdf2.b_id)\n",
    "sdf.show()"
   ]
  },
  {
   "cell_type": "code",
   "execution_count": 72,
   "metadata": {
    "ExecuteTime": {
     "end_time": "2020-03-10T05:10:43.193792Z",
     "start_time": "2020-03-10T05:10:42.721097Z"
    }
   },
   "outputs": [
    {
     "name": "stdout",
     "output_type": "stream",
     "text": [
      "+----+------+-----+----+------+\n",
      "|a_id| fruit|price|b_id| extra|\n",
      "+----+------+-----+----+------+\n",
      "|   c|cheese|   30|   c|extra2|\n",
      "|   b|banana|   20|   b|extra3|\n",
      "|   a| apple|   10|   a|extra1|\n",
      "+----+------+-----+----+------+\n",
      "\n"
     ]
    }
   ],
   "source": [
    "sdf = sdf1.alias('A').join(\n",
    "    sdf2.alias('B'),\n",
    "    F.col('A.a_id') == F.col('B.b_id'))\n",
    "sdf.show()"
   ]
  },
  {
   "cell_type": "code",
   "execution_count": 73,
   "metadata": {
    "ExecuteTime": {
     "end_time": "2020-03-10T05:10:43.200268Z",
     "start_time": "2020-03-10T05:10:43.196856Z"
    }
   },
   "outputs": [],
   "source": [
    "from pyspark.sql.functions import col\n",
    "\n",
    "# sdf = sdf1.alias('A').join(\n",
    "#     sdf2.alias('B'),\n",
    "#     col('A.a_id') == col('B.b_id')\n",
    "#         ).select([col('A.'+xx) for xx in A.columns] + \n",
    "#                  [col('B.b_id'),col('B.price')])\n",
    "\n",
    "\n",
    "# sdf.show()\n",
    "# NameError: name 'A' is not defined\n",
    "# in select, A is not recognized."
   ]
  },
  {
   "cell_type": "code",
   "execution_count": 74,
   "metadata": {
    "ExecuteTime": {
     "end_time": "2020-03-10T05:10:43.724799Z",
     "start_time": "2020-03-10T05:10:43.203082Z"
    }
   },
   "outputs": [
    {
     "name": "stdout",
     "output_type": "stream",
     "text": [
      "+----+------+-----+----+\n",
      "|a_id| fruit|price|b_id|\n",
      "+----+------+-----+----+\n",
      "|   c|cheese|   30|   c|\n",
      "|   b|banana|   20|   b|\n",
      "|   a| apple|   10|   a|\n",
      "+----+------+-----+----+\n",
      "\n"
     ]
    }
   ],
   "source": [
    "sdf = sdf1.alias('A').join(\n",
    "        sdf2.alias('B'),\n",
    "        col('A.a_id') == col('B.b_id')\n",
    "        ).drop('extra')\n",
    "\n",
    "sdf.show()"
   ]
  },
  {
   "cell_type": "code",
   "execution_count": null,
   "metadata": {
    "ExecuteTime": {
     "end_time": "2020-03-10T05:10:43.796593Z",
     "start_time": "2020-03-10T05:10:39.334Z"
    }
   },
   "outputs": [],
   "source": [
    "# sdf = sdf1.alias('A').join(\n",
    "#         sdf2.alias('B'),\n",
    "#         'A.a_id' == 'B.b_id'   ===> we need col() function here.\n",
    "#         ).select(sdf1.columns+['price'])\n",
    "\n",
    "# # AssertionError: on should be Column or list of Column"
   ]
  },
  {
   "cell_type": "code",
   "execution_count": 77,
   "metadata": {
    "ExecuteTime": {
     "end_time": "2020-03-10T05:11:21.221513Z",
     "start_time": "2020-03-10T05:11:21.147136Z"
    }
   },
   "outputs": [
    {
     "name": "stdout",
     "output_type": "stream",
     "text": [
      "+----+------+\n",
      "|a_id| fruit|\n",
      "+----+------+\n",
      "|   a| apple|\n",
      "|   b|banana|\n",
      "+----+------+\n",
      "only showing top 2 rows\n",
      "\n"
     ]
    }
   ],
   "source": [
    "sdf1.show(2)"
   ]
  },
  {
   "cell_type": "code",
   "execution_count": 78,
   "metadata": {
    "ExecuteTime": {
     "end_time": "2020-03-10T05:11:25.152138Z",
     "start_time": "2020-03-10T05:11:25.091707Z"
    }
   },
   "outputs": [
    {
     "name": "stdout",
     "output_type": "stream",
     "text": [
      "+-----+----+------+\n",
      "|price|b_id| extra|\n",
      "+-----+----+------+\n",
      "|   10|   a|extra1|\n",
      "|   30|   c|extra2|\n",
      "+-----+----+------+\n",
      "only showing top 2 rows\n",
      "\n"
     ]
    }
   ],
   "source": [
    "sdf2.show(2)"
   ]
  },
  {
   "cell_type": "code",
   "execution_count": 81,
   "metadata": {
    "ExecuteTime": {
     "end_time": "2020-03-10T05:13:01.399123Z",
     "start_time": "2020-03-10T05:13:00.858482Z"
    }
   },
   "outputs": [
    {
     "name": "stdout",
     "output_type": "stream",
     "text": [
      "+----+-------+-----+----+-------------+\n",
      "|a_id|myfruit|price|b_id|renamed_extra|\n",
      "+----+-------+-----+----+-------------+\n",
      "|   c| cheese|   30|   c|       extra2|\n",
      "|   b| banana|   20|   b|       extra3|\n",
      "|   a|  apple|   10|   a|       extra1|\n",
      "+----+-------+-----+----+-------------+\n",
      "\n"
     ]
    }
   ],
   "source": [
    "sdf = sdf1.withColumnRenamed('fruit','myfruit').alias('A').join(\n",
    "        sdf2.withColumnRenamed('extra','renamed_extra').alias('B'),\n",
    "        col('A.a_id') == col('B.b_id')\n",
    "        )\n",
    "\n",
    "sdf.show()"
   ]
  },
  {
   "cell_type": "markdown",
   "metadata": {},
   "source": [
    "# Join two dataframes and update values from second dataframe\n",
    "\n",
    "https://stackoverflow.com/questions/49442572/update-a-dataframe-column-with-new-values"
   ]
  },
  {
   "cell_type": "code",
   "execution_count": 4,
   "metadata": {
    "ExecuteTime": {
     "end_time": "2020-03-11T02:45:51.573971Z",
     "start_time": "2020-03-11T02:45:46.689004Z"
    }
   },
   "outputs": [
    {
     "name": "stdout",
     "output_type": "stream",
     "text": [
      "+---+-----+\n",
      "| id|value|\n",
      "+---+-----+\n",
      "|  1|    a|\n",
      "|  2|    b|\n",
      "|  3|    c|\n",
      "+---+-----+\n",
      "\n"
     ]
    }
   ],
   "source": [
    "data1 = [\n",
    "  (1, \"a\"),\n",
    "  (2, \"b\"),\n",
    "  (3, \"c\")\n",
    "]\n",
    "df1 = sqlContext.createDataFrame(data1, [\"id\", \"value\"])\n",
    "df1.show()"
   ]
  },
  {
   "cell_type": "code",
   "execution_count": 5,
   "metadata": {
    "ExecuteTime": {
     "end_time": "2020-03-11T02:45:57.759281Z",
     "start_time": "2020-03-11T02:45:57.417564Z"
    }
   },
   "outputs": [
    {
     "name": "stdout",
     "output_type": "stream",
     "text": [
      "+---+-----+\n",
      "| id|value|\n",
      "+---+-----+\n",
      "|  1|    x|\n",
      "|  2|    y|\n",
      "+---+-----+\n",
      "\n"
     ]
    }
   ],
   "source": [
    "data2 = [\n",
    "  (1, \"x\"), \n",
    "  (2, \"y\")\n",
    "]\n",
    "\n",
    "df2 = sqlContext.createDataFrame(data2, [\"id\", \"value\"])\n",
    "df2.show()"
   ]
  },
  {
   "cell_type": "code",
   "execution_count": 6,
   "metadata": {
    "ExecuteTime": {
     "end_time": "2020-03-11T02:46:12.512898Z",
     "start_time": "2020-03-11T02:46:06.995057Z"
    }
   },
   "outputs": [
    {
     "name": "stdout",
     "output_type": "stream",
     "text": [
      "+---+----------+-----------+\n",
      "| id|left_value|right_value|\n",
      "+---+----------+-----------+\n",
      "|  1|         a|          x|\n",
      "|  3|         c|       null|\n",
      "|  2|         b|          y|\n",
      "+---+----------+-----------+\n",
      "\n"
     ]
    }
   ],
   "source": [
    "df1.alias('l').join(df2.alias('r'), on='id', how='left')\\\n",
    "    .select(\n",
    "        'id',\n",
    "         F.col('l.value').alias('left_value'),\n",
    "         F.col('r.value').alias('right_value')\n",
    "    )\\\n",
    "    .show()"
   ]
  },
  {
   "cell_type": "code",
   "execution_count": 7,
   "metadata": {
    "ExecuteTime": {
     "end_time": "2020-03-11T02:46:21.210368Z",
     "start_time": "2020-03-11T02:46:18.493651Z"
    }
   },
   "outputs": [
    {
     "name": "stdout",
     "output_type": "stream",
     "text": [
      "+---+-----+\n",
      "| id|value|\n",
      "+---+-----+\n",
      "|  1|    x|\n",
      "|  3|    c|\n",
      "|  2|    y|\n",
      "+---+-----+\n",
      "\n"
     ]
    }
   ],
   "source": [
    "df1.alias('l').join(df2.alias('r'), on='id', how='left')\\\n",
    "    .select(\n",
    "        'id',\n",
    "        F.when(\n",
    "            ~F.isnull(F.col('r.value')),\n",
    "            F.col('r.value')\n",
    "        ).otherwise(F.col('l.value')).alias('value')\n",
    "    )\\\n",
    "    .show()"
   ]
  },
  {
   "cell_type": "code",
   "execution_count": 8,
   "metadata": {
    "ExecuteTime": {
     "end_time": "2020-03-11T02:46:31.700457Z",
     "start_time": "2020-03-11T02:46:28.521892Z"
    }
   },
   "outputs": [
    {
     "name": "stdout",
     "output_type": "stream",
     "text": [
      "+---+-----+\n",
      "| id|value|\n",
      "+---+-----+\n",
      "|  1|    x|\n",
      "|  3|    c|\n",
      "|  2|    y|\n",
      "+---+-----+\n",
      "\n"
     ]
    }
   ],
   "source": [
    "df1.registerTempTable('df1')\n",
    "df2.registerTempTable('df2')\n",
    "\n",
    "query = \"\"\"\n",
    "SELECT l.id, \n",
    "CASE WHEN r.value IS NOT NULL THEN r.value ELSE l.value END AS value \n",
    "FROM df1 l LEFT JOIN df2 r ON l.id = r.id\n",
    "\"\"\"\n",
    "sqlContext.sql(query).show()"
   ]
  },
  {
   "cell_type": "code",
   "execution_count": null,
   "metadata": {},
   "outputs": [],
   "source": []
  }
 ],
 "metadata": {
  "kernelspec": {
   "display_name": "Python (spk)",
   "language": "python",
   "name": "spk"
  },
  "language_info": {
   "codemirror_mode": {
    "name": "ipython",
    "version": 3
   },
   "file_extension": ".py",
   "mimetype": "text/x-python",
   "name": "python",
   "nbconvert_exporter": "python",
   "pygments_lexer": "ipython3",
   "version": "3.7.4"
  },
  "toc": {
   "base_numbering": 1,
   "nav_menu": {},
   "number_sections": true,
   "sideBar": true,
   "skip_h1_title": false,
   "title_cell": "Table of Contents",
   "title_sidebar": "Contents",
   "toc_cell": true,
   "toc_position": {},
   "toc_section_display": true,
   "toc_window_display": true
  }
 },
 "nbformat": 4,
 "nbformat_minor": 2
}
