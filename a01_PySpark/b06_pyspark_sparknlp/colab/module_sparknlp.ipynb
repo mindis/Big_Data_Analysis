{
  "nbformat": 4,
  "nbformat_minor": 0,
  "metadata": {
    "colab": {
      "name": "module_sparknlp.ipynb",
      "provenance": []
    },
    "kernelspec": {
      "name": "python3",
      "display_name": "Python 3"
    }
  },
  "cells": [
    {
      "cell_type": "markdown",
      "metadata": {
        "id": "l0RZsOUxgYsk",
        "colab_type": "text"
      },
      "source": [
        "# Description\n",
        "- https://github.com/JohnSnowLabs/spark-nlp"
      ]
    },
    {
      "cell_type": "markdown",
      "metadata": {
        "id": "PJDSHtFUghwm",
        "colab_type": "text"
      },
      "source": [
        "# Colab"
      ]
    },
    {
      "cell_type": "code",
      "metadata": {
        "id": "QmfkCtqjgjN2",
        "colab_type": "code",
        "colab": {}
      },
      "source": [
        "%%capture\n",
        "# capture will not print in notebook\n",
        "\n",
        "import os\n",
        "import sys\n",
        "ENV_COLAB = 'google.colab' in sys.modules\n",
        "\n",
        "if ENV_COLAB:\n",
        "    ## install modules\n",
        "    import os\n",
        "\n",
        "    # Install java\n",
        "    ! apt-get install -y openjdk-8-jdk-headless -qq > /dev/null\n",
        "    os.environ[\"JAVA_HOME\"] = \"/usr/lib/jvm/java-8-openjdk-amd64\"\n",
        "    os.environ[\"PATH\"] = os.environ[\"JAVA_HOME\"] + \"/bin:\" + os.environ[\"PATH\"]\n",
        "    ! java -version\n",
        "\n",
        "    # Install pyspark\n",
        "    ! pip install --ignore-installed pyspark==2.4.4\n",
        "\n",
        "    # Install Spark NLP\n",
        "    ! pip install --ignore-installed spark-nlp==2.5.5\n",
        "    ## print\n",
        "    print('Environment: Google Colaboratory.')\n",
        "\n",
        "# NOTE: If we update modules in gcolab, we need to restart runtime."
      ],
      "execution_count": 1,
      "outputs": []
    },
    {
      "cell_type": "markdown",
      "metadata": {
        "id": "zG18Gh4jgpvN",
        "colab_type": "text"
      },
      "source": [
        "# Test code"
      ]
    },
    {
      "cell_type": "code",
      "metadata": {
        "id": "MOuPVComhHaG",
        "colab_type": "code",
        "colab": {
          "base_uri": "https://localhost:8080/",
          "height": 301
        },
        "outputId": "a6d5b028-8e00-4ca2-b5c8-b3c1e83bdba9"
      },
      "source": [
        "import sparknlp\n",
        "\n",
        "spark = sparknlp.start()\n",
        "data = [\n",
        "  (\"New York is the greatest city in the world\", 0),\n",
        "  (\"The beauty of Paris is vast\", 1),\n",
        "  (\"The Centre Pompidou is in Paris\", 1)\n",
        "]\n",
        "\n",
        "sdf = spark.createDataFrame(data, [\"text\",\"label\"])\n",
        "sdf.show()"
      ],
      "execution_count": 3,
      "outputs": [
        {
          "output_type": "stream",
          "text": [
            "+--------------------+-----+\n",
            "|                text|label|\n",
            "+--------------------+-----+\n",
            "|New York is the g...|    0|\n",
            "|The beauty of Par...|    1|\n",
            "|The Centre Pompid...|    1|\n",
            "+--------------------+-----+\n",
            "\n",
            "+--------------------+-----+\n",
            "|                text|label|\n",
            "+--------------------+-----+\n",
            "|New York is the g...|    0|\n",
            "|The beauty of Par...|    1|\n",
            "|The Centre Pompid...|    1|\n",
            "+--------------------+-----+\n",
            "\n"
          ],
          "name": "stdout"
        }
      ]
    },
    {
      "cell_type": "code",
      "metadata": {
        "id": "wZKP-Zm2hH9G",
        "colab_type": "code",
        "colab": {}
      },
      "source": [
        ""
      ],
      "execution_count": null,
      "outputs": []
    }
  ]
}