{
 "cells": [
  {
   "cell_type": "code",
   "execution_count": 1,
   "metadata": {
    "ExecuteTime": {
     "end_time": "2018-10-29T23:34:33.994126Z",
     "start_time": "2018-10-29T23:34:33.402002Z"
    }
   },
   "outputs": [],
   "source": [
    "import papermill as pm"
   ]
  },
  {
   "cell_type": "code",
   "execution_count": 2,
   "metadata": {
    "ExecuteTime": {
     "end_time": "2018-10-29T23:38:00.565595Z",
     "start_time": "2018-10-29T23:38:00.544970Z"
    }
   },
   "outputs": [],
   "source": [
    "np = pm.read_notebooks('AQC/')"
   ]
  },
  {
   "cell_type": "code",
   "execution_count": 3,
   "metadata": {
    "ExecuteTime": {
     "end_time": "2018-10-29T23:40:11.293073Z",
     "start_time": "2018-10-29T23:40:11.280490Z"
    }
   },
   "outputs": [
    {
     "data": {
      "text/markdown": [
       "### test_param.ipynb"
      ],
      "text/plain": [
       "<IPython.core.display.Markdown object>"
      ]
     },
     "metadata": {},
     "output_type": "display_data"
    },
    {
     "data": {
      "image/png": "[encoded data removed]",
      "text/plain": [
       "<Figure size 432x288 with 1 Axes>"
      ]
     },
     "metadata": {
      "papermill": {
       "name": "mat_hist"
      }
     },
     "output_type": "display_data"
    }
   ],
   "source": [
    "np.display_output('test_param.ipynb', 'mat_hist')"
   ]
  },
  {
   "cell_type": "code",
   "execution_count": 4,
   "metadata": {
    "ExecuteTime": {
     "end_time": "2018-10-30T02:13:12.076045Z",
     "start_time": "2018-10-30T02:13:12.041241Z"
    }
   },
   "outputs": [
    {
     "data": {
      "text/html": [
       "<div>\n",
       "<style scoped>\n",
       "    .dataframe tbody tr th:only-of-type {\n",
       "        vertical-align: middle;\n",
       "    }\n",
       "\n",
       "    .dataframe tbody tr th {\n",
       "        vertical-align: top;\n",
       "    }\n",
       "\n",
       "    .dataframe thead th {\n",
       "        text-align: right;\n",
       "    }\n",
       "</style>\n",
       "<table border=\"1\" class=\"dataframe\">\n",
       "  <thead>\n",
       "    <tr style=\"text-align: right;\">\n",
       "      <th></th>\n",
       "      <th>name</th>\n",
       "      <th>value</th>\n",
       "      <th>type</th>\n",
       "      <th>filename</th>\n",
       "      <th>key</th>\n",
       "    </tr>\n",
       "  </thead>\n",
       "  <tbody>\n",
       "    <tr>\n",
       "      <th>0</th>\n",
       "      <td>alpha</td>\n",
       "      <td>0.6</td>\n",
       "      <td>parameter</td>\n",
       "      <td>test_output.ipynb</td>\n",
       "      <td>test_output.ipynb</td>\n",
       "    </tr>\n",
       "    <tr>\n",
       "      <th>1</th>\n",
       "      <td>ratio</td>\n",
       "      <td>0.1</td>\n",
       "      <td>parameter</td>\n",
       "      <td>test_output.ipynb</td>\n",
       "      <td>test_output.ipynb</td>\n",
       "    </tr>\n",
       "    <tr>\n",
       "      <th>2</th>\n",
       "      <td>hello</td>\n",
       "      <td>world</td>\n",
       "      <td>record</td>\n",
       "      <td>values.ipynb</td>\n",
       "      <td>values.ipynb</td>\n",
       "    </tr>\n",
       "    <tr>\n",
       "      <th>3</th>\n",
       "      <td>number</td>\n",
       "      <td>123</td>\n",
       "      <td>record</td>\n",
       "      <td>values.ipynb</td>\n",
       "      <td>values.ipynb</td>\n",
       "    </tr>\n",
       "    <tr>\n",
       "      <th>4</th>\n",
       "      <td>some_dict</td>\n",
       "      <td>{'a': 1, 'b': 2}</td>\n",
       "      <td>record</td>\n",
       "      <td>values.ipynb</td>\n",
       "      <td>values.ipynb</td>\n",
       "    </tr>\n",
       "    <tr>\n",
       "      <th>5</th>\n",
       "      <td>some_list</td>\n",
       "      <td>[1, 3, 5]</td>\n",
       "      <td>record</td>\n",
       "      <td>values.ipynb</td>\n",
       "      <td>values.ipynb</td>\n",
       "    </tr>\n",
       "  </tbody>\n",
       "</table>\n",
       "</div>"
      ],
      "text/plain": [
       "        name             value       type           filename  \\\n",
       "0      alpha               0.6  parameter  test_output.ipynb   \n",
       "1      ratio               0.1  parameter  test_output.ipynb   \n",
       "2      hello             world     record       values.ipynb   \n",
       "3     number               123     record       values.ipynb   \n",
       "4  some_dict  {'a': 1, 'b': 2}     record       values.ipynb   \n",
       "5  some_list         [1, 3, 5]     record       values.ipynb   \n",
       "\n",
       "                 key  \n",
       "0  test_output.ipynb  \n",
       "1  test_output.ipynb  \n",
       "2       values.ipynb  \n",
       "3       values.ipynb  \n",
       "4       values.ipynb  \n",
       "5       values.ipynb  "
      ]
     },
     "execution_count": 4,
     "metadata": {},
     "output_type": "execute_result"
    }
   ],
   "source": [
    "np.dataframe"
   ]
  },
  {
   "cell_type": "code",
   "execution_count": 5,
   "metadata": {
    "ExecuteTime": {
     "end_time": "2018-10-30T03:25:39.069945Z",
     "start_time": "2018-10-30T03:25:39.009910Z"
    }
   },
   "outputs": [
    {
     "data": {
      "text/html": [
       "<div>\n",
       "<style scoped>\n",
       "    .dataframe tbody tr th:only-of-type {\n",
       "        vertical-align: middle;\n",
       "    }\n",
       "\n",
       "    .dataframe tbody tr th {\n",
       "        vertical-align: top;\n",
       "    }\n",
       "\n",
       "    .dataframe thead th {\n",
       "        text-align: right;\n",
       "    }\n",
       "</style>\n",
       "<table border=\"1\" class=\"dataframe\">\n",
       "  <thead>\n",
       "    <tr style=\"text-align: right;\">\n",
       "      <th></th>\n",
       "      <th>filename</th>\n",
       "      <th>cell</th>\n",
       "      <th>value</th>\n",
       "      <th>type</th>\n",
       "      <th>key</th>\n",
       "    </tr>\n",
       "  </thead>\n",
       "  <tbody>\n",
       "    <tr>\n",
       "      <th>0</th>\n",
       "      <td>test2.ipynb</td>\n",
       "      <td>Out [2]</td>\n",
       "      <td>0.000000</td>\n",
       "      <td>time (s)</td>\n",
       "      <td>test2.ipynb</td>\n",
       "    </tr>\n",
       "    <tr>\n",
       "      <th>1</th>\n",
       "      <td>test2.ipynb</td>\n",
       "      <td>Out [3]</td>\n",
       "      <td>0.000000</td>\n",
       "      <td>time (s)</td>\n",
       "      <td>test2.ipynb</td>\n",
       "    </tr>\n",
       "    <tr>\n",
       "      <th>2</th>\n",
       "      <td>test2.ipynb</td>\n",
       "      <td>Out [4]</td>\n",
       "      <td>0.000000</td>\n",
       "      <td>time (s)</td>\n",
       "      <td>test2.ipynb</td>\n",
       "    </tr>\n",
       "    <tr>\n",
       "      <th>3</th>\n",
       "      <td>test_output.ipynb</td>\n",
       "      <td>Out [1]</td>\n",
       "      <td>0.006973</td>\n",
       "      <td>time (s)</td>\n",
       "      <td>test_output.ipynb</td>\n",
       "    </tr>\n",
       "    <tr>\n",
       "      <th>4</th>\n",
       "      <td>test_output.ipynb</td>\n",
       "      <td>Out [2]</td>\n",
       "      <td>0.006933</td>\n",
       "      <td>time (s)</td>\n",
       "      <td>test_output.ipynb</td>\n",
       "    </tr>\n",
       "    <tr>\n",
       "      <th>5</th>\n",
       "      <td>test_param.ipynb</td>\n",
       "      <td>Out [1]</td>\n",
       "      <td>0.000000</td>\n",
       "      <td>time (s)</td>\n",
       "      <td>test_param.ipynb</td>\n",
       "    </tr>\n",
       "    <tr>\n",
       "      <th>6</th>\n",
       "      <td>test_param.ipynb</td>\n",
       "      <td>Out [5]</td>\n",
       "      <td>0.000000</td>\n",
       "      <td>time (s)</td>\n",
       "      <td>test_param.ipynb</td>\n",
       "    </tr>\n",
       "    <tr>\n",
       "      <th>7</th>\n",
       "      <td>test_param.ipynb</td>\n",
       "      <td>Out [7]</td>\n",
       "      <td>0.000000</td>\n",
       "      <td>time (s)</td>\n",
       "      <td>test_param.ipynb</td>\n",
       "    </tr>\n",
       "    <tr>\n",
       "      <th>8</th>\n",
       "      <td>test_param.ipynb</td>\n",
       "      <td>Out [9]</td>\n",
       "      <td>0.000000</td>\n",
       "      <td>time (s)</td>\n",
       "      <td>test_param.ipynb</td>\n",
       "    </tr>\n",
       "    <tr>\n",
       "      <th>9</th>\n",
       "      <td>values.ipynb</td>\n",
       "      <td>Out [1]</td>\n",
       "      <td>0.000000</td>\n",
       "      <td>time (s)</td>\n",
       "      <td>values.ipynb</td>\n",
       "    </tr>\n",
       "    <tr>\n",
       "      <th>10</th>\n",
       "      <td>values.ipynb</td>\n",
       "      <td>Out [4]</td>\n",
       "      <td>0.000000</td>\n",
       "      <td>time (s)</td>\n",
       "      <td>values.ipynb</td>\n",
       "    </tr>\n",
       "  </tbody>\n",
       "</table>\n",
       "</div>"
      ],
      "text/plain": [
       "             filename     cell     value      type                key\n",
       "0         test2.ipynb  Out [2]  0.000000  time (s)        test2.ipynb\n",
       "1         test2.ipynb  Out [3]  0.000000  time (s)        test2.ipynb\n",
       "2         test2.ipynb  Out [4]  0.000000  time (s)        test2.ipynb\n",
       "3   test_output.ipynb  Out [1]  0.006973  time (s)  test_output.ipynb\n",
       "4   test_output.ipynb  Out [2]  0.006933  time (s)  test_output.ipynb\n",
       "5    test_param.ipynb  Out [1]  0.000000  time (s)   test_param.ipynb\n",
       "6    test_param.ipynb  Out [5]  0.000000  time (s)   test_param.ipynb\n",
       "7    test_param.ipynb  Out [7]  0.000000  time (s)   test_param.ipynb\n",
       "8    test_param.ipynb  Out [9]  0.000000  time (s)   test_param.ipynb\n",
       "9        values.ipynb  Out [1]  0.000000  time (s)       values.ipynb\n",
       "10       values.ipynb  Out [4]  0.000000  time (s)       values.ipynb"
      ]
     },
     "execution_count": 5,
     "metadata": {},
     "output_type": "execute_result"
    }
   ],
   "source": [
    "np."
   ]
  },
  {
   "cell_type": "code",
   "execution_count": null,
   "metadata": {},
   "outputs": [],
   "source": [
    "pm.execute."
   ]
  }
 ],
 "metadata": {
  "kernelspec": {
   "display_name": "Python 3",
   "language": "python",
   "name": "python3"
  },
  "language_info": {
   "codemirror_mode": {
    "name": "ipython",
    "version": 3
   },
   "file_extension": ".py",
   "mimetype": "text/x-python",
   "name": "python",
   "nbconvert_exporter": "python",
   "pygments_lexer": "ipython3",
   "version": "3.7.2"
  },
  "latex_envs": {
   "LaTeX_envs_menu_present": true,
   "autoclose": false,
   "autocomplete": true,
   "bibliofile": "biblio.bib",
   "cite_by": "apalike",
   "current_citInitial": 1,
   "eqLabelWithNumbers": true,
   "eqNumInitial": 1,
   "hotkeys": {
    "equation": "Ctrl-E",
    "itemize": "Ctrl-I"
   },
   "labels_anchors": false,
   "latex_user_defs": false,
   "report_style_numbering": false,
   "user_envs_cfg": false
  },
  "toc": {
   "base_numbering": 1,
   "nav_menu": {},
   "number_sections": true,
   "sideBar": true,
   "skip_h1_title": false,
   "title_cell": "Table of Contents",
   "title_sidebar": "Contents",
   "toc_cell": false,
   "toc_position": {},
   "toc_section_display": true,
   "toc_window_display": false
  },
  "varInspector": {
   "cols": {
    "lenName": 16,
    "lenType": 16,
    "lenVar": 40
   },
   "kernels_config": {
    "python": {
     "delete_cmd_postfix": "",
     "delete_cmd_prefix": "del ",
     "library": "var_list.py",
     "varRefreshCmd": "print(var_dic_list())"
    },
    "r": {
     "delete_cmd_postfix": ") ",
     "delete_cmd_prefix": "rm(",
     "library": "var_list.r",
     "varRefreshCmd": "cat(var_dic_list()) "
    }
   },
   "types_to_exclude": [
    "module",
    "function",
    "builtin_function_or_method",
    "instance",
    "_Feature"
   ],
   "window_display": false
  }
 },
 "nbformat": 4,
 "nbformat_minor": 2
}
