{
 "cells": [
  {
   "cell_type": "markdown",
   "metadata": {
    "toc": true
   },
   "source": [
    "<h1>Table of Contents<span class=\"tocSkip\"></span></h1>\n",
    "<div class=\"toc\"><ul class=\"toc-item\"><li><span><a href=\"#StringIndexer-for-multiple-columns\" data-toc-modified-id=\"StringIndexer-for-multiple-columns-1\"><span class=\"toc-item-num\">1&nbsp;&nbsp;</span>StringIndexer for multiple columns</a></span></li></ul></div>"
   ]
  },
  {
   "cell_type": "code",
   "execution_count": 1,
   "metadata": {
    "ExecuteTime": {
     "end_time": "2020-08-26T17:57:52.190917Z",
     "start_time": "2020-08-26T17:57:46.470201Z"
    }
   },
   "outputs": [
    {
     "name": "stdout",
     "output_type": "stream",
     "text": [
      "[('numpy', '1.17.5'), ('pandas', '1.0.5'), ('pyspark', '3.0.0')]\n"
     ]
    }
   ],
   "source": [
    "import numpy as np\n",
    "import pandas as pd\n",
    "import pyspark\n",
    "from pyspark import SparkConf, SparkContext, SQLContext\n",
    "from pyspark.sql import SparkSession\n",
    "from pyspark.sql.functions import udf # @udf(\"integer\") def myfunc(x,y): return x - y\n",
    "from pyspark.sql import functions as F # stddev format_number date_format, dayofyear, when\n",
    "from pyspark.sql.types import StructField, StringType, IntegerType, StructType\n",
    "\n",
    "print([(x.__name__,x.__version__) for x in [np, pd, pyspark]])\n",
    "\n",
    "spark = pyspark.sql.SparkSession.builder.appName('example').getOrCreate()\n",
    "sc = spark.sparkContext\n",
    "sqlContext = SQLContext(sc)\n",
    "sc.setLogLevel(\"INFO\")"
   ]
  },
  {
   "cell_type": "code",
   "execution_count": 2,
   "metadata": {
    "ExecuteTime": {
     "end_time": "2020-08-26T17:57:52.305031Z",
     "start_time": "2020-08-26T17:57:52.193430Z"
    }
   },
   "outputs": [],
   "source": [
    "from pyspark.ml.linalg import Vectors\n",
    "from pyspark.ml.feature import VectorAssembler\n",
    "\n",
    "from pyspark.ml import Pipeline\n",
    "from pyspark.ml.feature import StringIndexer\n",
    "\n",
    "from pyspark.ml.regression import LinearRegression"
   ]
  },
  {
   "cell_type": "markdown",
   "metadata": {},
   "source": [
    "# StringIndexer for multiple columns\n",
    "https://stackoverflow.com/questions/36942233/apply-stringindexer-to-several-columns-in-a-pyspark-dataframe"
   ]
  },
  {
   "cell_type": "code",
   "execution_count": 3,
   "metadata": {
    "ExecuteTime": {
     "end_time": "2020-08-26T17:57:52.330205Z",
     "start_time": "2020-08-26T17:57:52.307791Z"
    }
   },
   "outputs": [
    {
     "data": {
      "text/html": [
       "<div>\n",
       "<style scoped>\n",
       "    .dataframe tbody tr th:only-of-type {\n",
       "        vertical-align: middle;\n",
       "    }\n",
       "\n",
       "    .dataframe tbody tr th {\n",
       "        vertical-align: top;\n",
       "    }\n",
       "\n",
       "    .dataframe thead th {\n",
       "        text-align: right;\n",
       "    }\n",
       "</style>\n",
       "<table border=\"1\" class=\"dataframe\">\n",
       "  <thead>\n",
       "    <tr style=\"text-align: right;\">\n",
       "      <th></th>\n",
       "      <th>address</th>\n",
       "      <th>date</th>\n",
       "      <th>name</th>\n",
       "      <th>food</th>\n",
       "    </tr>\n",
       "  </thead>\n",
       "  <tbody>\n",
       "    <tr>\n",
       "      <th>0</th>\n",
       "      <td>1111111</td>\n",
       "      <td>20151122045510</td>\n",
       "      <td>Yin</td>\n",
       "      <td>gre</td>\n",
       "    </tr>\n",
       "    <tr>\n",
       "      <th>1</th>\n",
       "      <td>1111111</td>\n",
       "      <td>20151122045501</td>\n",
       "      <td>Yin</td>\n",
       "      <td>gre</td>\n",
       "    </tr>\n",
       "    <tr>\n",
       "      <th>2</th>\n",
       "      <td>1111111</td>\n",
       "      <td>20151122045500</td>\n",
       "      <td>Yln</td>\n",
       "      <td>gra</td>\n",
       "    </tr>\n",
       "    <tr>\n",
       "      <th>3</th>\n",
       "      <td>1111112</td>\n",
       "      <td>20151122065832</td>\n",
       "      <td>Yun</td>\n",
       "      <td>ddd</td>\n",
       "    </tr>\n",
       "    <tr>\n",
       "      <th>4</th>\n",
       "      <td>1111113</td>\n",
       "      <td>20160101003221</td>\n",
       "      <td>Yan</td>\n",
       "      <td>fdf</td>\n",
       "    </tr>\n",
       "    <tr>\n",
       "      <th>5</th>\n",
       "      <td>1111111</td>\n",
       "      <td>20160703045231</td>\n",
       "      <td>Yin</td>\n",
       "      <td>gre</td>\n",
       "    </tr>\n",
       "    <tr>\n",
       "      <th>6</th>\n",
       "      <td>1111114</td>\n",
       "      <td>20150419134543</td>\n",
       "      <td>Yin</td>\n",
       "      <td>fdf</td>\n",
       "    </tr>\n",
       "    <tr>\n",
       "      <th>7</th>\n",
       "      <td>1111115</td>\n",
       "      <td>20151123174302</td>\n",
       "      <td>Yen</td>\n",
       "      <td>ddd</td>\n",
       "    </tr>\n",
       "    <tr>\n",
       "      <th>8</th>\n",
       "      <td>2111115</td>\n",
       "      <td>20123192</td>\n",
       "      <td>Yen</td>\n",
       "      <td>gre</td>\n",
       "    </tr>\n",
       "  </tbody>\n",
       "</table>\n",
       "</div>"
      ],
      "text/plain": [
       "   address            date name food\n",
       "0  1111111  20151122045510  Yin  gre\n",
       "1  1111111  20151122045501  Yin  gre\n",
       "2  1111111  20151122045500  Yln  gra\n",
       "3  1111112  20151122065832  Yun  ddd\n",
       "4  1111113  20160101003221  Yan  fdf\n",
       "5  1111111  20160703045231  Yin  gre\n",
       "6  1111114  20150419134543  Yin  fdf\n",
       "7  1111115  20151123174302  Yen  ddd\n",
       "8  2111115        20123192  Yen  gre"
      ]
     },
     "execution_count": 3,
     "metadata": {},
     "output_type": "execute_result"
    }
   ],
   "source": [
    "df = pd.DataFrame({'address': [1111111, 1111111, 1111111, 1111112, 1111113,\n",
    "                               1111111, 1111114, 1111115, 2111115],\n",
    "          'date': [20151122045510, 20151122045501, 20151122045500,\n",
    "                   20151122065832, 20160101003221, 20160703045231,\n",
    "                   20150419134543, 20151123174302, 20123192],\n",
    "          'name': ['Yin', 'Yin', 'Yln', 'Yun', 'Yan', 'Yin', 'Yin', 'Yen', 'Yen'],\n",
    "          'food': ['gre', 'gre', 'gra', 'ddd', 'fdf', 'gre', 'fdf', 'ddd', 'gre']})\n",
    "df"
   ]
  },
  {
   "cell_type": "code",
   "execution_count": 4,
   "metadata": {
    "ExecuteTime": {
     "end_time": "2020-08-26T17:57:57.231641Z",
     "start_time": "2020-08-26T17:57:52.333461Z"
    }
   },
   "outputs": [
    {
     "name": "stdout",
     "output_type": "stream",
     "text": [
      "+-------+--------------+----+----+\n",
      "|address|          date|name|food|\n",
      "+-------+--------------+----+----+\n",
      "|1111111|20151122045510| Yin| gre|\n",
      "|1111111|20151122045501| Yin| gre|\n",
      "|1111111|20151122045500| Yln| gra|\n",
      "|1111112|20151122065832| Yun| ddd|\n",
      "|1111113|20160101003221| Yan| fdf|\n",
      "|1111111|20160703045231| Yin| gre|\n",
      "|1111114|20150419134543| Yin| fdf|\n",
      "|1111115|20151123174302| Yen| ddd|\n",
      "|2111115|      20123192| Yen| gre|\n",
      "+-------+--------------+----+----+\n",
      "\n"
     ]
    }
   ],
   "source": [
    "df = sqlContext.createDataFrame(df)\n",
    "df.show()"
   ]
  },
  {
   "cell_type": "code",
   "execution_count": 5,
   "metadata": {
    "ExecuteTime": {
     "end_time": "2020-08-26T17:57:59.585813Z",
     "start_time": "2020-08-26T17:57:57.234177Z"
    }
   },
   "outputs": [
    {
     "name": "stdout",
     "output_type": "stream",
     "text": [
      "+-------+--------------+----+----+----------+-------------+----------+\n",
      "|address|          date|name|food|food_index|address_index|name_index|\n",
      "+-------+--------------+----+----+----------+-------------+----------+\n",
      "|1111111|20151122045510| Yin| gre|       0.0|          0.0|       0.0|\n",
      "|1111111|20151122045501| Yin| gre|       0.0|          0.0|       0.0|\n",
      "|1111111|20151122045500| Yln| gra|       3.0|          0.0|       3.0|\n",
      "|1111112|20151122065832| Yun| ddd|       1.0|          1.0|       4.0|\n",
      "|1111113|20160101003221| Yan| fdf|       2.0|          2.0|       2.0|\n",
      "|1111111|20160703045231| Yin| gre|       0.0|          0.0|       0.0|\n",
      "|1111114|20150419134543| Yin| fdf|       2.0|          3.0|       0.0|\n",
      "|1111115|20151123174302| Yen| ddd|       1.0|          4.0|       1.0|\n",
      "|2111115|      20123192| Yen| gre|       0.0|          5.0|       1.0|\n",
      "+-------+--------------+----+----+----------+-------------+----------+\n",
      "\n"
     ]
    }
   ],
   "source": [
    "indexers = [StringIndexer(inputCol=column, outputCol=column+\"_index\").fit(df)\n",
    "            for column in list(set(df.columns)-set(['date'])) ]\n",
    "\n",
    "\n",
    "pipeline = Pipeline(stages=indexers)\n",
    "df_r = pipeline.fit(df).transform(df)\n",
    "\n",
    "df_r.show()"
   ]
  },
  {
   "cell_type": "code",
   "execution_count": null,
   "metadata": {},
   "outputs": [],
   "source": []
  }
 ],
 "metadata": {
  "kernelspec": {
   "display_name": "Spark3",
   "language": "python",
   "name": "spk"
  },
  "language_info": {
   "codemirror_mode": {
    "name": "ipython",
    "version": 3
   },
   "file_extension": ".py",
   "mimetype": "text/x-python",
   "name": "python",
   "nbconvert_exporter": "python",
   "pygments_lexer": "ipython3",
   "version": "3.7.7"
  },
  "toc": {
   "base_numbering": 1,
   "nav_menu": {},
   "number_sections": true,
   "sideBar": true,
   "skip_h1_title": false,
   "title_cell": "Table of Contents",
   "title_sidebar": "Contents",
   "toc_cell": true,
   "toc_position": {},
   "toc_section_display": true,
   "toc_window_display": false
  },
  "varInspector": {
   "cols": {
    "lenName": 16,
    "lenType": 16,
    "lenVar": 40
   },
   "kernels_config": {
    "python": {
     "delete_cmd_postfix": "",
     "delete_cmd_prefix": "del ",
     "library": "var_list.py",
     "varRefreshCmd": "print(var_dic_list())"
    },
    "r": {
     "delete_cmd_postfix": ") ",
     "delete_cmd_prefix": "rm(",
     "library": "var_list.r",
     "varRefreshCmd": "cat(var_dic_list()) "
    }
   },
   "types_to_exclude": [
    "module",
    "function",
    "builtin_function_or_method",
    "instance",
    "_Feature"
   ],
   "window_display": false
  }
 },
 "nbformat": 4,
 "nbformat_minor": 2
}
