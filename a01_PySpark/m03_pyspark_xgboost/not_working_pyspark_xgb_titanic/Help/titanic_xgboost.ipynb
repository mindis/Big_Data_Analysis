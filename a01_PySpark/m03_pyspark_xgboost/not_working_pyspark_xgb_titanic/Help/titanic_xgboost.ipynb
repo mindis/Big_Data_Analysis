{
 "cells": [
  {
   "cell_type": "code",
   "execution_count": 31,
   "metadata": {},
   "outputs": [],
   "source": [
    "import os\n",
    "os.environ['PYSPARK_SUBMIT_ARGS'] = '--jars xgboost4j-spark-0.72.jar,xgboost4j-0.72.jar pyspark-shell'\n",
    "\n",
    "import findspark\n",
    "findspark.init()\n",
    "\n",
    "import pyspark\n",
    "from pyspark.sql.session import SparkSession\n",
    "from pyspark.sql.types import *\n",
    "from pyspark.ml.feature import StringIndexer, VectorAssembler\n",
    "from pyspark.ml import Pipeline\n",
    "from pyspark.sql.functions import col"
   ]
  },
  {
   "cell_type": "code",
   "execution_count": 2,
   "metadata": {
    "collapsed": true
   },
   "outputs": [],
   "source": [
    "spark = SparkSession\\\n",
    "        .builder\\\n",
    "        .appName(\"PySpark XGBOOST Titanic\")\\\n",
    "        .getOrCreate()"
   ]
  },
  {
   "cell_type": "code",
   "execution_count": 3,
   "metadata": {
    "collapsed": true
   },
   "outputs": [],
   "source": [
    "spark.sparkContext.addPyFile(\"YOUR_PATH/sparkxgb.zip\")"
   ]
  },
  {
   "cell_type": "code",
   "execution_count": 4,
   "metadata": {
    "collapsed": true
   },
   "outputs": [],
   "source": [
    "from sparkxgb import XGBoostEstimator"
   ]
  },
  {
   "cell_type": "code",
   "execution_count": 5,
   "metadata": {
    "collapsed": true
   },
   "outputs": [],
   "source": [
    "schema = StructType(\n",
    "  [StructField(\"PassengerId\", DoubleType()),\n",
    "    StructField(\"Survival\", DoubleType()),\n",
    "    StructField(\"Pclass\", DoubleType()),\n",
    "    StructField(\"Name\", StringType()),\n",
    "    StructField(\"Sex\", StringType()),\n",
    "    StructField(\"Age\", DoubleType()),\n",
    "    StructField(\"SibSp\", DoubleType()),\n",
    "    StructField(\"Parch\", DoubleType()),\n",
    "    StructField(\"Ticket\", StringType()),\n",
    "    StructField(\"Fare\", DoubleType()),\n",
    "    StructField(\"Cabin\", StringType()),\n",
    "    StructField(\"Embarked\", StringType())\n",
    "  ])"
   ]
  },
  {
   "cell_type": "code",
   "execution_count": 6,
   "metadata": {
    "collapsed": true
   },
   "outputs": [],
   "source": [
    "df_raw = spark\\\n",
    "  .read\\\n",
    "  .option(\"header\", \"true\")\\\n",
    "  .schema(schema)\\\n",
    "  .csv(\"YOUR_PATH/train.csv\")"
   ]
  },
  {
   "cell_type": "code",
   "execution_count": 13,
   "metadata": {},
   "outputs": [
    {
     "name": "stdout",
     "output_type": "stream",
     "text": [
      "+-----------+--------+------+--------------------+------+----+-----+-----+---------+-------+-----+--------+\n",
      "|PassengerId|Survival|Pclass|                Name|   Sex| Age|SibSp|Parch|   Ticket|   Fare|Cabin|Embarked|\n",
      "+-----------+--------+------+--------------------+------+----+-----+-----+---------+-------+-----+--------+\n",
      "|        1.0|     0.0|   3.0|Braund, Mr. Owen ...|  male|22.0|  1.0|  0.0|A/5 21171|   7.25| null|       S|\n",
      "|        2.0|     1.0|   1.0|Cumings, Mrs. Joh...|female|38.0|  1.0|  0.0| PC 17599|71.2833|  C85|       C|\n",
      "+-----------+--------+------+--------------------+------+----+-----+-----+---------+-------+-----+--------+\n",
      "only showing top 2 rows\n",
      "\n"
     ]
    }
   ],
   "source": [
    "df_raw.show(2)"
   ]
  },
  {
   "cell_type": "code",
   "execution_count": 8,
   "metadata": {
    "collapsed": true
   },
   "outputs": [],
   "source": [
    "df = df_raw.na.fill(0)"
   ]
  },
  {
   "cell_type": "code",
   "execution_count": 9,
   "metadata": {
    "collapsed": true
   },
   "outputs": [],
   "source": [
    "sexIndexer = StringIndexer()\\\n",
    "  .setInputCol(\"Sex\")\\\n",
    "  .setOutputCol(\"SexIndex\")\\\n",
    "  .setHandleInvalid(\"keep\")\n",
    "    \n",
    "cabinIndexer = StringIndexer()\\\n",
    "  .setInputCol(\"Cabin\")\\\n",
    "  .setOutputCol(\"CabinIndex\")\\\n",
    "  .setHandleInvalid(\"keep\")\n",
    "    \n",
    "embarkedIndexer = StringIndexer()\\\n",
    "  .setInputCol(\"Embarked\")\\\n",
    "  .setOutputCol(\"EmbarkedIndex\")\\\n",
    "  .setHandleInvalid(\"keep\")"
   ]
  },
  {
   "cell_type": "code",
   "execution_count": 10,
   "metadata": {
    "collapsed": true
   },
   "outputs": [],
   "source": [
    "vectorAssembler = VectorAssembler()\\\n",
    "  .setInputCols([\"Pclass\", \"SexIndex\", \"Age\", \"SibSp\", \"Parch\", \"Fare\", \"CabinIndex\", \"EmbarkedIndex\"])\\\n",
    "  .setOutputCol(\"features\")"
   ]
  },
  {
   "cell_type": "code",
   "execution_count": 19,
   "metadata": {},
   "outputs": [],
   "source": [
    "xgboost = XGBoostEstimator(\n",
    "    featuresCol=\"features\", \n",
    "    labelCol=\"Survival\", \n",
    "    predictionCol=\"prediction\"\n",
    ")"
   ]
  },
  {
   "cell_type": "code",
   "execution_count": 20,
   "metadata": {},
   "outputs": [],
   "source": [
    "pipeline = Pipeline().setStages([sexIndexer, cabinIndexer, embarkedIndexer, vectorAssembler, xgboost])"
   ]
  },
  {
   "cell_type": "code",
   "execution_count": 24,
   "metadata": {
    "collapsed": true
   },
   "outputs": [],
   "source": [
    "trainDF, testDF = df.randomSplit([0.8, 0.2], seed=24)"
   ]
  },
  {
   "cell_type": "code",
   "execution_count": 26,
   "metadata": {},
   "outputs": [],
   "source": [
    "model = pipeline.fit(trainDF)"
   ]
  },
  {
   "cell_type": "code",
   "execution_count": 32,
   "metadata": {},
   "outputs": [
    {
     "name": "stdout",
     "output_type": "stream",
     "text": [
      "+-----------+----------+\n",
      "|PassengerId|prediction|\n",
      "+-----------+----------+\n",
      "|        1.0|       0.0|\n",
      "|        4.0|       1.0|\n",
      "|       14.0|       0.0|\n",
      "|       15.0|       1.0|\n",
      "|       20.0|       1.0|\n",
      "|       28.0|       1.0|\n",
      "|       34.0|       0.0|\n",
      "|       38.0|       0.0|\n",
      "|       50.0|       1.0|\n",
      "|       52.0|       0.0|\n",
      "|       59.0|       1.0|\n",
      "|       60.0|       0.0|\n",
      "|       82.0|       0.0|\n",
      "|       94.0|       0.0|\n",
      "|       96.0|       0.0|\n",
      "|       99.0|       1.0|\n",
      "|      104.0|       0.0|\n",
      "|      105.0|       0.0|\n",
      "|      107.0|       1.0|\n",
      "|      116.0|       0.0|\n",
      "+-----------+----------+\n",
      "only showing top 20 rows\n",
      "\n"
     ]
    }
   ],
   "source": [
    "model.transform(testDF).select(col(\"PassengerId\"), col(\"prediction\")).show()"
   ]
  },
  {
   "cell_type": "code",
   "execution_count": null,
   "metadata": {
    "collapsed": true
   },
   "outputs": [],
   "source": []
  }
 ],
 "metadata": {
  "kernelspec": {
   "display_name": "Python 3",
   "language": "python",
   "name": "python3"
  },
  "language_info": {
   "codemirror_mode": {
    "name": "ipython",
    "version": 3
   },
   "file_extension": ".py",
   "mimetype": "text/x-python",
   "name": "python",
   "nbconvert_exporter": "python",
   "pygments_lexer": "ipython3",
   "version": "3.6.1"
  }
 },
 "nbformat": 4,
 "nbformat_minor": 2
}
