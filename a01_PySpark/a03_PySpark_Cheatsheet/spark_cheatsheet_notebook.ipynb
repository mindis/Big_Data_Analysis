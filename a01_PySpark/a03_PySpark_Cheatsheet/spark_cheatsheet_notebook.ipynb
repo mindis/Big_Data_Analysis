{
 "cells": [
  {
   "cell_type": "markdown",
   "metadata": {
    "toc": true
   },
   "source": [
    "<h1>Table of Contents<span class=\"tocSkip\"></span></h1>\n",
    "<div class=\"toc\"><ul class=\"toc-item\"><li><span><a href=\"#Load-the-libraries\" data-toc-modified-id=\"Load-the-libraries-1\"><span class=\"toc-item-num\">1&nbsp;&nbsp;</span>Load the libraries</a></span></li><li><span><a href=\"#Creating-DataFrames\" data-toc-modified-id=\"Creating-DataFrames-2\"><span class=\"toc-item-num\">2&nbsp;&nbsp;</span>Creating DataFrames</a></span><ul class=\"toc-item\"><li><span><a href=\"#From-RDD\" data-toc-modified-id=\"From-RDD-2.1\"><span class=\"toc-item-num\">2.1&nbsp;&nbsp;</span>From RDD</a></span></li><li><span><a href=\"#From-Spark-Data-Sources\" data-toc-modified-id=\"From-Spark-Data-Sources-2.2\"><span class=\"toc-item-num\">2.2&nbsp;&nbsp;</span>From Spark Data Sources</a></span></li></ul></li><li><span><a href=\"#Inspect-Data\" data-toc-modified-id=\"Inspect-Data-3\"><span class=\"toc-item-num\">3&nbsp;&nbsp;</span>Inspect Data</a></span><ul class=\"toc-item\"><li><span><a href=\"#Queries\" data-toc-modified-id=\"Queries-3.1\"><span class=\"toc-item-num\">3.1&nbsp;&nbsp;</span>Queries</a></span></li></ul></li></ul></div>"
   ]
  },
  {
   "cell_type": "markdown",
   "metadata": {},
   "source": [
    "# Load the libraries"
   ]
  },
  {
   "cell_type": "code",
   "execution_count": 1,
   "metadata": {
    "ExecuteTime": {
     "end_time": "2020-09-14T15:16:48.366208Z",
     "start_time": "2020-09-14T15:16:42.364674Z"
    }
   },
   "outputs": [],
   "source": [
    "# pyspark\n",
    "import pyspark\n",
    "spark = pyspark.sql.SparkSession.builder.appName('app').getOrCreate()\n",
    "\n",
    "# sql\n",
    "from pyspark.sql.functions import col as _col\n",
    "from pyspark.sql.functions import udf\n",
    "\n",
    "# @udf(\"integer\") def myfunc(x,y): return x - y\n",
    "# stddev format_number date_format, dayofyear, when\n",
    "from pyspark.sql import functions as F\n",
    "from pyspark.sql.window import Window\n",
    "from pyspark.sql.functions import (mean as _mean, min as _min,\n",
    "                                   max as _max, avg as _avg,\n",
    "                                   when as _when\n",
    "                                  )\n",
    "\n",
    "from pyspark.sql.types import (StructField,StringType,\n",
    "                               IntegerType, FloatType,\n",
    "                               DoubleType,StructType)\n",
    "\n",
    "from pyspark import SparkConf, SparkContext, SQLContext\n",
    "\n",
    "sc = spark.sparkContext\n",
    "sqlContext = SQLContext(sc) \n",
    "sqc = sqlContext\n",
    "# spark_df = sqlContext.createDataFrame(pandas_df)"
   ]
  },
  {
   "cell_type": "code",
   "execution_count": 2,
   "metadata": {
    "ExecuteTime": {
     "end_time": "2020-09-14T15:16:51.743368Z",
     "start_time": "2020-09-14T15:16:49.150792Z"
    }
   },
   "outputs": [
    {
     "data": {
      "text/plain": [
       "[('numpy', '1.17.5'), ('pandas', '1.0.5'), ('seaborn', '0.10.1')]"
      ]
     },
     "execution_count": 2,
     "metadata": {},
     "output_type": "execute_result"
    }
   ],
   "source": [
    "import numpy as np\n",
    "import pandas as pd\n",
    "import seaborn as sns\n",
    "\n",
    "pd.set_option('max_columns',100)\n",
    "\n",
    "import time,os,json\n",
    "time_start_notebook = time.time()\n",
    "home = os.path.expanduser('~')\n",
    "SEED=100\n",
    "\n",
    "import matplotlib.pyplot as plt\n",
    "plt.style.use('ggplot')\n",
    "%matplotlib inline\n",
    "%config InlineBackend.figure_format = 'retina'\n",
    "\n",
    "[(x.__name__,x.__version__) for x in [np,pd,sns]]"
   ]
  },
  {
   "cell_type": "markdown",
   "metadata": {},
   "source": [
    "# Creating DataFrames"
   ]
  },
  {
   "cell_type": "markdown",
   "metadata": {},
   "source": [
    "## From RDD"
   ]
  },
  {
   "cell_type": "code",
   "execution_count": 3,
   "metadata": {
    "ExecuteTime": {
     "end_time": "2020-09-14T15:17:42.864820Z",
     "start_time": "2020-09-14T15:17:42.845053Z"
    }
   },
   "outputs": [
    {
     "name": "stdout",
     "output_type": "stream",
     "text": [
      "Michael, 29\n",
      "Andy, 30\n",
      "Justin, 19\n"
     ]
    }
   ],
   "source": [
    "%%bash\n",
    "cat people.txt"
   ]
  },
  {
   "cell_type": "code",
   "execution_count": 13,
   "metadata": {
    "ExecuteTime": {
     "end_time": "2020-09-14T15:34:20.633618Z",
     "start_time": "2020-09-14T15:34:20.583985Z"
    }
   },
   "outputs": [],
   "source": [
    "# infer schema\n",
    "\n",
    "lines = sc.textFile('people.txt')\n",
    "parts = lines.map(lambda l: l.split(','))\n",
    "people = parts.map(lambda p: Row(name=p[0],\n",
    "                                age=int(p[1])))\n",
    "\n",
    "# peopledf = spark.createDataFrame(people)\n",
    "# peopledf.show()\n",
    "\n",
    "# Py4JJavaError"
   ]
  },
  {
   "cell_type": "markdown",
   "metadata": {},
   "source": [
    "## From Spark Data Sources"
   ]
  },
  {
   "cell_type": "code",
   "execution_count": 15,
   "metadata": {
    "ExecuteTime": {
     "end_time": "2020-09-14T15:36:02.167328Z",
     "start_time": "2020-09-14T15:36:02.010924Z"
    }
   },
   "outputs": [
    {
     "name": "stdout",
     "output_type": "stream",
     "text": [
      "+-----------+\n",
      "|      value|\n",
      "+-----------+\n",
      "|Michael, 29|\n",
      "|   Andy, 30|\n",
      "| Justin, 19|\n",
      "+-----------+\n",
      "\n"
     ]
    }
   ],
   "source": [
    "sdf = spark.read.text(\"people.txt\")\n",
    "sdf.show()"
   ]
  },
  {
   "cell_type": "code",
   "execution_count": 17,
   "metadata": {
    "ExecuteTime": {
     "end_time": "2020-09-14T15:36:52.126693Z",
     "start_time": "2020-09-14T15:36:51.819624Z"
    }
   },
   "outputs": [
    {
     "name": "stdout",
     "output_type": "stream",
     "text": [
      "+----+-------+\n",
      "| age|   name|\n",
      "+----+-------+\n",
      "|null|Michael|\n",
      "|  30|   Andy|\n",
      "|  19| Justin|\n",
      "+----+-------+\n",
      "\n"
     ]
    }
   ],
   "source": [
    "sdf = spark.read.json('people.json')\n",
    "sdf = spark.read.load('people.json',format='json')\n",
    "sdf.show()"
   ]
  },
  {
   "cell_type": "code",
   "execution_count": 39,
   "metadata": {
    "ExecuteTime": {
     "end_time": "2020-09-14T15:49:31.285164Z",
     "start_time": "2020-09-14T15:49:31.278911Z"
    }
   },
   "outputs": [
    {
     "name": "stdout",
     "output_type": "stream",
     "text": [
      "Overwriting customer.json\n"
     ]
    }
   ],
   "source": [
    "%%writefile customer.json\n",
    "{\"address\": [\"New York,10021,N\"],\"age\":25,\"firstName\":\"John\",\"lastName\":\"Smith\",\"phoneNumber\": [[\"212 555-1234 hover\"],[\"213 555-1234 hover\"]]}\n",
    "{\"address\":[\"New York,10021,N\"],\"age\":21,\"firstName\":\"Jane\",\"lastName\":\"Doe\",\"phoneNumber\": [[\"322 888-1234, hover\"],[\"323 888-1234, hover\"]]}"
   ]
  },
  {
   "cell_type": "code",
   "execution_count": 41,
   "metadata": {
    "ExecuteTime": {
     "end_time": "2020-09-14T15:49:39.812944Z",
     "start_time": "2020-09-14T15:49:39.622119Z"
    }
   },
   "outputs": [
    {
     "name": "stdout",
     "output_type": "stream",
     "text": [
      "+------------------+---+---------+--------+----------------------------------------------+\n",
      "|address           |age|firstName|lastName|phoneNumber                                   |\n",
      "+------------------+---+---------+--------+----------------------------------------------+\n",
      "|[New York,10021,N]|25 |John     |Smith   |[[212 555-1234 hover], [213 555-1234 hover]]  |\n",
      "|[New York,10021,N]|21 |Jane     |Doe     |[[322 888-1234, hover], [323 888-1234, hover]]|\n",
      "+------------------+---+---------+--------+----------------------------------------------+\n",
      "\n"
     ]
    }
   ],
   "source": [
    "sdf = spark.read.json(\"customer.json\")\n",
    "sdf.show(truncate=False)"
   ]
  },
  {
   "cell_type": "code",
   "execution_count": 42,
   "metadata": {
    "ExecuteTime": {
     "end_time": "2020-09-14T15:50:02.487944Z",
     "start_time": "2020-09-14T15:50:02.293948Z"
    }
   },
   "outputs": [
    {
     "data": {
      "text/html": [
       "<div>\n",
       "<style scoped>\n",
       "    .dataframe tbody tr th:only-of-type {\n",
       "        vertical-align: middle;\n",
       "    }\n",
       "\n",
       "    .dataframe tbody tr th {\n",
       "        vertical-align: top;\n",
       "    }\n",
       "\n",
       "    .dataframe thead th {\n",
       "        text-align: right;\n",
       "    }\n",
       "</style>\n",
       "<table border=\"1\" class=\"dataframe\">\n",
       "  <thead>\n",
       "    <tr style=\"text-align: right;\">\n",
       "      <th></th>\n",
       "      <th>address</th>\n",
       "      <th>age</th>\n",
       "      <th>firstName</th>\n",
       "      <th>lastName</th>\n",
       "      <th>phoneNumber</th>\n",
       "    </tr>\n",
       "  </thead>\n",
       "  <tbody>\n",
       "    <tr>\n",
       "      <th>0</th>\n",
       "      <td>[New York,10021,N]</td>\n",
       "      <td>25</td>\n",
       "      <td>John</td>\n",
       "      <td>Smith</td>\n",
       "      <td>[[212 555-1234 hover], [213 555-1234 hover]]</td>\n",
       "    </tr>\n",
       "    <tr>\n",
       "      <th>1</th>\n",
       "      <td>[New York,10021,N]</td>\n",
       "      <td>21</td>\n",
       "      <td>Jane</td>\n",
       "      <td>Doe</td>\n",
       "      <td>[[322 888-1234, hover], [323 888-1234, hover]]</td>\n",
       "    </tr>\n",
       "  </tbody>\n",
       "</table>\n",
       "</div>"
      ],
      "text/plain": [
       "              address  age firstName lastName  \\\n",
       "0  [New York,10021,N]   25      John    Smith   \n",
       "1  [New York,10021,N]   21      Jane      Doe   \n",
       "\n",
       "                                      phoneNumber  \n",
       "0    [[212 555-1234 hover], [213 555-1234 hover]]  \n",
       "1  [[322 888-1234, hover], [323 888-1234, hover]]  "
      ]
     },
     "execution_count": 42,
     "metadata": {},
     "output_type": "execute_result"
    }
   ],
   "source": [
    "sdf = spark.read.json(\"customer.json\")\n",
    "sdf.toPandas()"
   ]
  },
  {
   "cell_type": "code",
   "execution_count": 38,
   "metadata": {
    "ExecuteTime": {
     "end_time": "2020-09-14T15:49:07.855963Z",
     "start_time": "2020-09-14T15:49:07.829277Z"
    }
   },
   "outputs": [
    {
     "data": {
      "text/html": [
       "<div>\n",
       "<style scoped>\n",
       "    .dataframe tbody tr th:only-of-type {\n",
       "        vertical-align: middle;\n",
       "    }\n",
       "\n",
       "    .dataframe tbody tr th {\n",
       "        vertical-align: top;\n",
       "    }\n",
       "\n",
       "    .dataframe thead th {\n",
       "        text-align: right;\n",
       "    }\n",
       "</style>\n",
       "<table border=\"1\" class=\"dataframe\">\n",
       "  <thead>\n",
       "    <tr style=\"text-align: right;\">\n",
       "      <th></th>\n",
       "      <th>address</th>\n",
       "      <th>age</th>\n",
       "      <th>firstName</th>\n",
       "      <th>lastName</th>\n",
       "      <th>phoneNumber</th>\n",
       "    </tr>\n",
       "  </thead>\n",
       "  <tbody>\n",
       "    <tr>\n",
       "      <th>0</th>\n",
       "      <td>[New York,10021,N]</td>\n",
       "      <td>25</td>\n",
       "      <td>John</td>\n",
       "      <td>Smith</td>\n",
       "      <td>[[212 555-1234 hover]]</td>\n",
       "    </tr>\n",
       "    <tr>\n",
       "      <th>1</th>\n",
       "      <td>[New York,10021,N]</td>\n",
       "      <td>21</td>\n",
       "      <td>Jane</td>\n",
       "      <td>Doe</td>\n",
       "      <td>[[322 888-1234, hover]]</td>\n",
       "    </tr>\n",
       "  </tbody>\n",
       "</table>\n",
       "</div>"
      ],
      "text/plain": [
       "              address  age firstName lastName              phoneNumber\n",
       "0  [New York,10021,N]   25      John    Smith   [[212 555-1234 hover]]\n",
       "1  [New York,10021,N]   21      Jane      Doe  [[322 888-1234, hover]]"
      ]
     },
     "execution_count": 38,
     "metadata": {},
     "output_type": "execute_result"
    }
   ],
   "source": [
    "pdf = pd.read_json('customer.json',lines=True)\n",
    "pdf"
   ]
  },
  {
   "cell_type": "markdown",
   "metadata": {},
   "source": [
    "# Inspect Data"
   ]
  },
  {
   "cell_type": "code",
   "execution_count": 43,
   "metadata": {
    "ExecuteTime": {
     "end_time": "2020-09-14T15:50:59.854736Z",
     "start_time": "2020-09-14T15:50:59.848035Z"
    }
   },
   "outputs": [
    {
     "data": {
      "text/plain": [
       "[('address', 'array<string>'),\n",
       " ('age', 'bigint'),\n",
       " ('firstName', 'string'),\n",
       " ('lastName', 'string'),\n",
       " ('phoneNumber', 'array<array<string>>')]"
      ]
     },
     "execution_count": 43,
     "metadata": {},
     "output_type": "execute_result"
    }
   ],
   "source": [
    "sdf.dtypes"
   ]
  },
  {
   "cell_type": "code",
   "execution_count": 44,
   "metadata": {
    "ExecuteTime": {
     "end_time": "2020-09-14T15:51:08.991508Z",
     "start_time": "2020-09-14T15:51:08.903522Z"
    }
   },
   "outputs": [
    {
     "data": {
      "text/plain": [
       "Row(address=['New York,10021,N'], age=25, firstName='John', lastName='Smith', phoneNumber=[['212 555-1234 hover'], ['213 555-1234 hover']])"
      ]
     },
     "execution_count": 44,
     "metadata": {},
     "output_type": "execute_result"
    }
   ],
   "source": [
    "sdf.head()"
   ]
  },
  {
   "cell_type": "code",
   "execution_count": 45,
   "metadata": {
    "ExecuteTime": {
     "end_time": "2020-09-14T15:51:14.523531Z",
     "start_time": "2020-09-14T15:51:14.440934Z"
    }
   },
   "outputs": [
    {
     "data": {
      "text/plain": [
       "Row(address=['New York,10021,N'], age=25, firstName='John', lastName='Smith', phoneNumber=[['212 555-1234 hover'], ['213 555-1234 hover']])"
      ]
     },
     "execution_count": 45,
     "metadata": {},
     "output_type": "execute_result"
    }
   ],
   "source": [
    "sdf.first()"
   ]
  },
  {
   "cell_type": "code",
   "execution_count": 46,
   "metadata": {
    "ExecuteTime": {
     "end_time": "2020-09-14T15:51:20.651121Z",
     "start_time": "2020-09-14T15:51:20.527712Z"
    }
   },
   "outputs": [
    {
     "data": {
      "text/plain": [
       "[Row(address=['New York,10021,N'], age=25, firstName='John', lastName='Smith', phoneNumber=[['212 555-1234 hover'], ['213 555-1234 hover']]),\n",
       " Row(address=['New York,10021,N'], age=21, firstName='Jane', lastName='Doe', phoneNumber=[['322 888-1234, hover'], ['323 888-1234, hover']])]"
      ]
     },
     "execution_count": 46,
     "metadata": {},
     "output_type": "execute_result"
    }
   ],
   "source": [
    "sdf.take(2)"
   ]
  },
  {
   "cell_type": "code",
   "execution_count": 47,
   "metadata": {
    "ExecuteTime": {
     "end_time": "2020-09-14T15:51:27.485184Z",
     "start_time": "2020-09-14T15:51:27.459928Z"
    }
   },
   "outputs": [
    {
     "data": {
      "text/plain": [
       "StructType(List(StructField(address,ArrayType(StringType,true),true),StructField(age,LongType,true),StructField(firstName,StringType,true),StructField(lastName,StringType,true),StructField(phoneNumber,ArrayType(ArrayType(StringType,true),true),true)))"
      ]
     },
     "execution_count": 47,
     "metadata": {},
     "output_type": "execute_result"
    }
   ],
   "source": [
    "sdf.schema"
   ]
  },
  {
   "cell_type": "code",
   "execution_count": 48,
   "metadata": {
    "ExecuteTime": {
     "end_time": "2020-09-14T15:51:37.444422Z",
     "start_time": "2020-09-14T15:51:37.423613Z"
    }
   },
   "outputs": [
    {
     "name": "stdout",
     "output_type": "stream",
     "text": [
      "root\n",
      " |-- address: array (nullable = true)\n",
      " |    |-- element: string (containsNull = true)\n",
      " |-- age: long (nullable = true)\n",
      " |-- firstName: string (nullable = true)\n",
      " |-- lastName: string (nullable = true)\n",
      " |-- phoneNumber: array (nullable = true)\n",
      " |    |-- element: array (containsNull = true)\n",
      " |    |    |-- element: string (containsNull = true)\n",
      "\n"
     ]
    }
   ],
   "source": [
    "sdf.printSchema()"
   ]
  },
  {
   "cell_type": "code",
   "execution_count": 49,
   "metadata": {
    "ExecuteTime": {
     "end_time": "2020-09-14T15:52:14.912503Z",
     "start_time": "2020-09-14T15:52:14.904105Z"
    }
   },
   "outputs": [],
   "source": [
    "## Duplicate Values\n",
    "sdf = sdf.dropDuplicates()"
   ]
  },
  {
   "cell_type": "markdown",
   "metadata": {
    "ExecuteTime": {
     "end_time": "2020-09-14T15:52:19.362690Z",
     "start_time": "2020-09-14T15:52:19.359597Z"
    }
   },
   "source": [
    "## Queries"
   ]
  },
  {
   "cell_type": "code",
   "execution_count": 51,
   "metadata": {
    "ExecuteTime": {
     "end_time": "2020-09-14T15:52:28.126430Z",
     "start_time": "2020-09-14T15:52:28.122968Z"
    }
   },
   "outputs": [],
   "source": [
    "## Select"
   ]
  },
  {
   "cell_type": "code",
   "execution_count": null,
   "metadata": {
    "ExecuteTime": {
     "end_time": "2020-09-14T15:55:13.325583Z",
     "start_time": "2020-09-14T15:55:13.241693Z"
    }
   },
   "outputs": [],
   "source": [
    "sdf.select(\"firstName\")\n",
    "sdf.select(\"firstName\",\"lastName\")"
   ]
  },
  {
   "cell_type": "code",
   "execution_count": 61,
   "metadata": {
    "ExecuteTime": {
     "end_time": "2020-09-14T15:58:21.062281Z",
     "start_time": "2020-09-14T15:58:20.555970Z"
    }
   },
   "outputs": [
    {
     "name": "stdout",
     "output_type": "stream",
     "text": [
      "+---------------------+---------+\n",
      "|contactInfo          |firstName|\n",
      "+---------------------+---------+\n",
      "|[212 555-1234 hover] |John     |\n",
      "|[213 555-1234 hover] |John     |\n",
      "|[322 888-1234, hover]|Jane     |\n",
      "|[323 888-1234, hover]|Jane     |\n",
      "+---------------------+---------+\n",
      "\n"
     ]
    }
   ],
   "source": [
    "(sdf.select(\"firstName\",\n",
    "          \"age\",\n",
    "           F.explode(\"phoneNumber\").alias(\"contactInfo\")\n",
    "          )\n",
    "     .select(\"contactInfo\",\"firstName\")\n",
    "     .show(truncate=False)\n",
    ")"
   ]
  },
  {
   "cell_type": "code",
   "execution_count": null,
   "metadata": {},
   "outputs": [],
   "source": []
  }
 ],
 "metadata": {
  "kernelspec": {
   "display_name": "Spark3",
   "language": "python",
   "name": "spk"
  },
  "language_info": {
   "codemirror_mode": {
    "name": "ipython",
    "version": 3
   },
   "file_extension": ".py",
   "mimetype": "text/x-python",
   "name": "python",
   "nbconvert_exporter": "python",
   "pygments_lexer": "ipython3",
   "version": "3.7.7"
  },
  "toc": {
   "base_numbering": 1,
   "nav_menu": {},
   "number_sections": true,
   "sideBar": true,
   "skip_h1_title": false,
   "title_cell": "Table of Contents",
   "title_sidebar": "Contents",
   "toc_cell": true,
   "toc_position": {},
   "toc_section_display": true,
   "toc_window_display": true
  },
  "varInspector": {
   "cols": {
    "lenName": 16,
    "lenType": 16,
    "lenVar": 40
   },
   "kernels_config": {
    "python": {
     "delete_cmd_postfix": "",
     "delete_cmd_prefix": "del ",
     "library": "var_list.py",
     "varRefreshCmd": "print(var_dic_list())"
    },
    "r": {
     "delete_cmd_postfix": ") ",
     "delete_cmd_prefix": "rm(",
     "library": "var_list.r",
     "varRefreshCmd": "cat(var_dic_list()) "
    }
   },
   "types_to_exclude": [
    "module",
    "function",
    "builtin_function_or_method",
    "instance",
    "_Feature"
   ],
   "window_display": false
  }
 },
 "nbformat": 4,
 "nbformat_minor": 4
}
