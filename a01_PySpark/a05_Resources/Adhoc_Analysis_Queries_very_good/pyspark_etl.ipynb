{
 "cells": [
  {
   "cell_type": "code",
   "execution_count": null,
   "metadata": {},
   "outputs": [],
   "source": []
  },
  {
   "cell_type": "code",
   "execution_count": 1,
   "metadata": {},
   "outputs": [],
   "source": [
    "import pyspark\n",
    "from pyspark.sql.functions import *\n",
    "from pyspark.sql.types import *\n",
    "from pyspark.sql import SparkSession\n",
    "from pyspark.sql.dataframe import DataFrame\n",
    "\n",
    "from functools import partial"
   ]
  },
  {
   "cell_type": "code",
   "execution_count": 3,
   "metadata": {},
   "outputs": [],
   "source": [
    "spark = SparkSession.Builder().appName('test').master(\"local[*]\").getOrCreate()"
   ]
  },
  {
   "cell_type": "code",
   "execution_count": 4,
   "metadata": {},
   "outputs": [],
   "source": [
    "schema = StructType([\n",
    "         StructField('date', TimestampType(), True),\n",
    "         StructField('event', StringType(), True),\n",
    "         StructField('os_family', StringType(), True),\n",
    "         StructField('Num', IntegerType(), True)])\n",
    "\n",
    "df = spark.read\\\n",
    "     .schema(schema)\\\n",
    "     .csv('os_family*')"
   ]
  },
  {
   "cell_type": "code",
   "execution_count": 5,
   "metadata": {},
   "outputs": [
    {
     "name": "stdout",
     "output_type": "stream",
     "text": [
      "root\n",
      " |-- date: timestamp (nullable = true)\n",
      " |-- event: string (nullable = true)\n",
      " |-- os_family: string (nullable = true)\n",
      " |-- Num: integer (nullable = true)\n",
      "\n"
     ]
    }
   ],
   "source": [
    "df.printSchema()"
   ]
  },
  {
   "cell_type": "code",
   "execution_count": 5,
   "metadata": {},
   "outputs": [
    {
     "data": {
      "text/plain": [
       "2"
      ]
     },
     "execution_count": 5,
     "metadata": {},
     "output_type": "execute_result"
    }
   ],
   "source": [
    "df.rdd.getNumPartitions()"
   ]
  },
  {
   "cell_type": "code",
   "execution_count": 6,
   "metadata": {},
   "outputs": [
    {
     "name": "stdout",
     "output_type": "stream",
     "text": [
      "+-------------------+-----+-------------+-------+\n",
      "|               date|event|    os_family|    Num|\n",
      "+-------------------+-----+-------------+-------+\n",
      "|2017-11-01 00:00:00| 0042|          VRE|      7|\n",
      "|2017-10-01 00:00:00| 0042|        Other|   5816|\n",
      "|2018-01-01 00:00:00| 0042|     Mac OS X|  12369|\n",
      "|2017-11-01 00:00:00| 0550|      Android|5331398|\n",
      "|2017-06-01 00:00:00| 0042|        Tizen|      2|\n",
      "|2017-07-01 00:00:00| 0042|        Other|   6293|\n",
      "|2017-10-01 00:00:00| 0042|       Fedora|     24|\n",
      "|2017-07-01 00:00:00| 0042|        Linux|   6566|\n",
      "|2017-12-01 00:00:00| 0550|      Android|5278654|\n",
      "|2017-07-01 00:00:00| 0042|     Mac OS X|  13289|\n",
      "|2017-06-01 00:00:00| 0042|     Mac OS X|  11477|\n",
      "|2017-07-01 00:00:00| 1002|          iOS|4251549|\n",
      "|2017-07-01 00:00:00| 1002|        Other|      3|\n",
      "|2018-07-01 00:00:00| 0042|BlackBerry OS|     12|\n",
      "|2018-09-01 00:00:00| 0042|     Mac OS X|   8853|\n",
      "|2018-12-01 00:00:00| 0042|     Mac OS X|   8054|\n",
      "|2018-11-01 00:00:00| 0042|    Symbian^3|      3|\n",
      "|2018-06-01 00:00:00| 0042|     Mac OS X|  10301|\n",
      "|2018-07-01 00:00:00| 0042|    Chrome OS|    123|\n",
      "|2018-08-01 00:00:00| 0042|       Ubuntu|     61|\n",
      "+-------------------+-----+-------------+-------+\n",
      "only showing top 20 rows\n",
      "\n"
     ]
    }
   ],
   "source": [
    "df.sample(0.1, False).show()"
   ]
  },
  {
   "cell_type": "code",
   "execution_count": 7,
   "metadata": {},
   "outputs": [],
   "source": [
    "def transform(self, f):\n",
    "    return f(self)\n",
    "\n",
    "DataFrame.transform = transform"
   ]
  },
  {
   "cell_type": "code",
   "execution_count": 8,
   "metadata": {},
   "outputs": [],
   "source": [
    "def filterfn(df, dt,operator):\n",
    "    if operator == '>':\n",
    "        df =df.filter(col('date')>dt)\\\n",
    "          .withColumnRenamed('Num', 'Num_18')\\\n",
    "          .withColumnRenamed('os_family', 'os_family_18')\\\n",
    "          .withColumnRenamed('event', 'event_18')\\\n",
    "          .withColumnRenamed('date', 'date_18')\n",
    "        return df\n",
    "    else:\n",
    "        df = df.filter(col('date')<dt)\\\n",
    "           .withColumnRenamed('Num', 'Num_17')\\\n",
    "           .withColumnRenamed('os_family', 'os_family_17')\\\n",
    "          .withColumnRenamed('event', 'event_17')\\\n",
    "           .withColumnRenamed('date', 'date_17')\n",
    "        return df\n",
    "        \n",
    "\n",
    "def filter17(df, dt):\n",
    "    df = df.filter(col('date')<dt)\\\n",
    "           .withColumnRenamed('Num', 'Num_17')\\\n",
    "           .withColumnRenamed('os_family', 'os_family_17')\\\n",
    "          .withColumnRenamed('event', 'event_17')\\\n",
    "           .withColumnRenamed('date', 'date_17')\n",
    "    return df\n",
    "\n",
    "def _insometh(df):\n",
    "    df =df.where((col('os_family')=='Android') | (col('os_family')=='iOS'))\\\n",
    "        .sort(col('date'), col('event'), col('os_family'))\n",
    "    return df"
   ]
  },
  {
   "cell_type": "code",
   "execution_count": 17,
   "metadata": {},
   "outputs": [
    {
     "name": "stdout",
     "output_type": "stream",
     "text": [
      "+-------------------+--------+------------+--------+\n",
      "|            date_18|event_18|os_family_18|  Num_18|\n",
      "+-------------------+--------+------------+--------+\n",
      "|2018-06-01 00:00:00|    0042|     Android| 8707778|\n",
      "|2018-06-01 00:00:00|    0042|         iOS|13134720|\n",
      "|2018-06-01 00:00:00|    0550|     Android| 5013732|\n",
      "|2018-06-01 00:00:00|    0550|         iOS| 8534062|\n",
      "|2018-06-01 00:00:00|    1002|     Android| 2089562|\n",
      "|2018-06-01 00:00:00|    1002|         iOS| 8978175|\n",
      "|2018-07-01 00:00:00|    0042|     Android| 9484852|\n",
      "|2018-07-01 00:00:00|    0042|         iOS|14067372|\n",
      "|2018-07-01 00:00:00|    0550|     Android| 5750525|\n",
      "|2018-07-01 00:00:00|    0550|         iOS| 9480238|\n",
      "|2018-07-01 00:00:00|    1002|     Android| 2488602|\n",
      "|2018-07-01 00:00:00|    1002|         iOS|10069556|\n",
      "|2018-08-01 00:00:00|    0042|     Android| 9412543|\n",
      "|2018-08-01 00:00:00|    0042|         iOS|14038098|\n",
      "|2018-08-01 00:00:00|    0550|     Android| 5905011|\n",
      "|2018-08-01 00:00:00|    0550|         iOS| 9685755|\n",
      "|2018-08-01 00:00:00|    1002|     Android| 2649296|\n",
      "|2018-08-01 00:00:00|    1002|         iOS|10430995|\n",
      "|2018-09-01 00:00:00|    0042|     Android| 8631397|\n",
      "|2018-09-01 00:00:00|    0042|         iOS|12930658|\n",
      "+-------------------+--------+------------+--------+\n",
      "only showing top 20 rows\n",
      "\n"
     ]
    }
   ],
   "source": [
    "df_18 = df.transform(lambda df: filterfn(df, lit('2018-01-01 00:00:00'), '>'))\n",
    "df_18 =df_18.where((col('os_family')=='Android') | (col('os_family')=='iOS')).sort(col('date'), col('event'), col('os_family'))"
   ]
  },
  {
   "cell_type": "code",
   "execution_count": 30,
   "metadata": {},
   "outputs": [],
   "source": [
    "df_17 = df.transform(lambda df: filterfn(df, lit('2018-01-01 00:00:00'), \"<\"))\n",
    "df_17_a = df_17.where((col('os_family')=='Android') | (col('os_family')=='iOS')).sort(col('date'), col('event'), col('os_family'))"
   ]
  },
  {
   "cell_type": "code",
   "execution_count": 24,
   "metadata": {},
   "outputs": [
    {
     "name": "stdout",
     "output_type": "stream",
     "text": [
      "+-------------------+--------+------------+--------+\n",
      "|            date_17|event_17|os_family_17|  Num_17|\n",
      "+-------------------+--------+------------+--------+\n",
      "|2017-06-01 00:00:00|    0042|     Android| 7327201|\n",
      "|2017-06-01 00:00:00|    0042|         iOS|11899555|\n",
      "|2017-06-01 00:00:00|    0550|     Android| 5377300|\n",
      "|2017-06-01 00:00:00|    0550|         iOS| 9498861|\n",
      "|2017-06-01 00:00:00|    1002|     Android|  481294|\n",
      "|2017-06-01 00:00:00|    1002|         iOS| 3697954|\n",
      "|2017-07-01 00:00:00|    0042|     Android| 8309729|\n",
      "|2017-07-01 00:00:00|    0042|         iOS|13216455|\n",
      "|2017-07-01 00:00:00|    0550|     Android| 5928348|\n",
      "|2017-07-01 00:00:00|    0550|         iOS|10433398|\n",
      "|2017-07-01 00:00:00|    1002|     Android|  619791|\n",
      "|2017-07-01 00:00:00|    1002|         iOS| 4251549|\n",
      "|2017-08-01 00:00:00|    0042|     Android| 8406219|\n",
      "|2017-08-01 00:00:00|    0042|         iOS|13281837|\n",
      "|2017-08-01 00:00:00|    0550|     Android| 5845129|\n",
      "|2017-08-01 00:00:00|    0550|         iOS|10291916|\n",
      "|2017-08-01 00:00:00|    1002|     Android|  707530|\n",
      "|2017-08-01 00:00:00|    1002|         iOS| 5024174|\n",
      "|2017-09-01 00:00:00|    0042|     Android| 7831918|\n",
      "|2017-09-01 00:00:00|    0042|         iOS|12152338|\n",
      "+-------------------+--------+------------+--------+\n",
      "only showing top 20 rows\n",
      "\n"
     ]
    }
   ],
   "source": [
    "df_17.show()"
   ]
  },
  {
   "cell_type": "code",
   "execution_count": 31,
   "metadata": {},
   "outputs": [],
   "source": [
    "df_new = df_17.join(df_18, \"id\",\"inner\")\\\n",
    "              .drop(\"id\")\\\n",
    "              .withColumn(\"change\", col('Num_18')-col('Num_17'))\\\n",
    "              .withColumn(\"%change\", round((col(\"change\")/col(\"Num_17\")),2))"
   ]
  },
  {
   "cell_type": "markdown",
   "metadata": {},
   "source": [
    "df_new.select('date_18','date_17','event_18','event_17','os_family_18','os_family_17','Num_18','Num_17','change', '%change')\\\n",
    ".show(10)"
   ]
  },
  {
   "cell_type": "code",
   "execution_count": 31,
   "metadata": {},
   "outputs": [],
   "source": [
    "df_18_os_family = (df.transform(lambda df: filterfn(df, lit('2018-01-01 00:00:00'),\">\")))\\\n",
    "             .select('os_family_18').distinct()\n",
    "df_17_os_family = (df.transform(lambda df: filterfn(df, lit('2018-01-01 00:00:00'), \"<\")))\\\n",
    "              .select('os_family_17').distinct()"
   ]
  },
  {
   "cell_type": "markdown",
   "metadata": {},
   "source": [
    "df_18_os_family_g = (df.transform(lambda df: filterfn(df, lit('2018-01-01 00:00:00'), \">\")))\\\n",
    "             .groupby('os_family_18').sum(col('Num_18'))\n",
    "df_17_os_family_g = (df.transform(lambda df: filterfn(df, lit('2018-01-01 00:00:00'), \"<\")))\\\n",
    "               .groupby('os_family_18').sum(col('Num_17'))"
   ]
  },
  {
   "cell_type": "code",
   "execution_count": 33,
   "metadata": {},
   "outputs": [
    {
     "name": "stdout",
     "output_type": "stream",
     "text": [
      "+--------------------+\n",
      "|        os_family_17|\n",
      "+--------------------+\n",
      "|          Symbian OS|\n",
      "|                 iOS|\n",
      "|BlackBerry Tablet OS|\n",
      "|               Linux|\n",
      "|           Symbian^3|\n",
      "|               MeeGo|\n",
      "|               Other|\n",
      "|              Fedora|\n",
      "|             OpenBSD|\n",
      "|               Maemo|\n",
      "|           Chrome OS|\n",
      "|       BlackBerry OS|\n",
      "|              Ubuntu|\n",
      "|              NetBSD|\n",
      "|       Windows Phone|\n",
      "|          Firefox OS|\n",
      "|             FreeBSD|\n",
      "|               Tizen|\n",
      "|             Android|\n",
      "|            Mac OS X|\n",
      "+--------------------+\n",
      "only showing top 20 rows\n",
      "\n"
     ]
    }
   ],
   "source": [
    "df_17_os_family.show()"
   ]
  },
  {
   "cell_type": "code",
   "execution_count": 34,
   "metadata": {},
   "outputs": [
    {
     "name": "stdout",
     "output_type": "stream",
     "text": [
      "+--------------------+\n",
      "|        os_family_18|\n",
      "+--------------------+\n",
      "|          Symbian OS|\n",
      "|                 iOS|\n",
      "|BlackBerry Tablet OS|\n",
      "|          Windows CE|\n",
      "|                BREW|\n",
      "|               Linux|\n",
      "|           Symbian^3|\n",
      "|               MeeGo|\n",
      "|               Other|\n",
      "|              Fedora|\n",
      "|             OpenBSD|\n",
      "|               Maemo|\n",
      "|           Chrome OS|\n",
      "|       BlackBerry OS|\n",
      "|              Ubuntu|\n",
      "|          Chromecast|\n",
      "|       Windows Phone|\n",
      "|          Firefox OS|\n",
      "|             FreeBSD|\n",
      "|               Tizen|\n",
      "+--------------------+\n",
      "only showing top 20 rows\n",
      "\n"
     ]
    }
   ],
   "source": [
    "df_18_os_family.show()"
   ]
  },
  {
   "cell_type": "code",
   "execution_count": 37,
   "metadata": {},
   "outputs": [
    {
     "name": "stdout",
     "output_type": "stream",
     "text": [
      "+------------+\n",
      "|os_family_18|\n",
      "+------------+\n",
      "|  Windows CE|\n",
      "|        BREW|\n",
      "|  Chromecast|\n",
      "+------------+\n",
      "\n"
     ]
    }
   ],
   "source": [
    "df_18_os_family.exceptAll(df_17_os_family).show()"
   ]
  },
  {
   "cell_type": "code",
   "execution_count": 38,
   "metadata": {},
   "outputs": [
    {
     "name": "stdout",
     "output_type": "stream",
     "text": [
      "+--------------+\n",
      "|  os_family_17|\n",
      "+--------------+\n",
      "|        NetBSD|\n",
      "|Windows NT 4.0|\n",
      "+--------------+\n",
      "\n"
     ]
    }
   ],
   "source": [
    "df_17_os_family.exceptAll(df_18_os_family).show()"
   ]
  },
  {
   "cell_type": "code",
   "execution_count": null,
   "metadata": {},
   "outputs": [],
   "source": []
  },
  {
   "cell_type": "code",
   "execution_count": null,
   "metadata": {},
   "outputs": [],
   "source": []
  },
  {
   "cell_type": "code",
   "execution_count": 83,
   "metadata": {},
   "outputs": [
    {
     "name": "stdout",
     "output_type": "stream",
     "text": [
      "+-------------------+-----+---------+--------+-------------------+-----+---------+--------+\n",
      "|               date|event|os_family|     Num|               date|event|os_family|     Num|\n",
      "+-------------------+-----+---------+--------+-------------------+-----+---------+--------+\n",
      "|2017-08-01 00:00:00| 0550|      iOS|10291916|2018-08-01 00:00:00| 0550|      iOS| 9685755|\n",
      "|2017-06-01 00:00:00| 0042|      iOS|11899555|2018-06-01 00:00:00| 0042|      iOS|13134720|\n",
      "|2017-06-01 00:00:00| 0042|  Android| 7327201|2018-06-01 00:00:00| 0042|  Android| 8707778|\n",
      "|               null| null|     null|    null|2019-01-01 00:00:00| 0042|  Android| 9068509|\n",
      "|2017-09-01 00:00:00| 1002|  Android| 1002113|2018-09-01 00:00:00| 1002|  Android| 2582013|\n",
      "|2017-10-01 00:00:00| 0550|  Android| 5368162|2018-10-01 00:00:00| 0550|  Android| 6168170|\n",
      "|2017-09-01 00:00:00| 0042|      iOS|12152338|2018-09-01 00:00:00| 0042|      iOS|12930658|\n",
      "|2017-08-01 00:00:00| 1002|      iOS| 5024174|2018-08-01 00:00:00| 1002|      iOS|10430995|\n",
      "|2017-09-01 00:00:00| 0042|  Android| 7831918|2018-09-01 00:00:00| 0042|  Android| 8631397|\n",
      "|2017-09-01 00:00:00| 1002|      iOS| 5981889|2018-09-01 00:00:00| 1002|      iOS| 9854370|\n",
      "|2017-11-01 00:00:00| 0550|  Android| 5331398|2018-11-01 00:00:00| 0550|  Android| 5984382|\n",
      "|2017-08-01 00:00:00| 1002|  Android|  707530|2018-08-01 00:00:00| 1002|  Android| 2649296|\n",
      "|2017-06-01 00:00:00| 1002|  Android|  481294|2018-06-01 00:00:00| 1002|  Android| 2089562|\n",
      "|               null| null|     null|    null|2019-01-01 00:00:00| 1002|      iOS|11613453|\n",
      "|2017-10-01 00:00:00| 0550|      iOS| 9410095|2018-10-01 00:00:00| 0550|      iOS|10046151|\n",
      "|2017-11-01 00:00:00| 1002|  Android| 1244425|2018-11-01 00:00:00| 1002|  Android| 2999986|\n",
      "|2017-12-01 00:00:00| 0550|      iOS| 9031004|2018-12-01 00:00:00| 0550|      iOS| 9842977|\n",
      "|2017-09-01 00:00:00| 0550|      iOS| 9149972|2018-09-01 00:00:00| 0550|      iOS| 9065061|\n",
      "|2017-10-01 00:00:00| 1002|  Android| 1302663|2018-10-01 00:00:00| 1002|  Android| 2953396|\n",
      "|2017-11-01 00:00:00| 0042|  Android| 8290836|2018-11-01 00:00:00| 0042|  Android| 8967100|\n",
      "+-------------------+-----+---------+--------+-------------------+-----+---------+--------+\n",
      "only showing top 20 rows\n",
      "\n"
     ]
    }
   ],
   "source": [
    "df_new.show()"
   ]
  },
  {
   "cell_type": "code",
   "execution_count": 84,
   "metadata": {},
   "outputs": [
    {
     "name": "stdout",
     "output_type": "stream",
     "text": [
      "root\n",
      " |-- date: timestamp (nullable = true)\n",
      " |-- event: string (nullable = true)\n",
      " |-- os_family: string (nullable = true)\n",
      " |-- Num: integer (nullable = true)\n",
      " |-- date: timestamp (nullable = true)\n",
      " |-- event: string (nullable = true)\n",
      " |-- os_family: string (nullable = true)\n",
      " |-- Num: integer (nullable = true)\n",
      "\n"
     ]
    }
   ],
   "source": [
    "df_new.printSchem"
   ]
  },
  {
   "cell_type": "code",
   "execution_count": null,
   "metadata": {},
   "outputs": [],
   "source": []
  }
 ],
 "metadata": {
  "kernelspec": {
   "display_name": "Python 3",
   "language": "python",
   "name": "python3"
  },
  "language_info": {
   "codemirror_mode": {
    "name": "ipython",
    "version": 3
   },
   "file_extension": ".py",
   "mimetype": "text/x-python",
   "name": "python",
   "nbconvert_exporter": "python",
   "pygments_lexer": "ipython3",
   "version": "3.7.2"
  }
 },
 "nbformat": 4,
 "nbformat_minor": 2
}
