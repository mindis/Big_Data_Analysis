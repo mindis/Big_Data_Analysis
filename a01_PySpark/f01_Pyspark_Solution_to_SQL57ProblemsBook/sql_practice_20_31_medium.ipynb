{
 "cells": [
  {
   "cell_type": "markdown",
   "metadata": {
    "toc": true
   },
   "source": [
    "<h1>Table of Contents<span class=\"tocSkip\"></span></h1>\n",
    "<div class=\"toc\"><ul class=\"toc-item\"><li><span><a href=\"#Description\" data-toc-modified-id=\"Description-1\"><span class=\"toc-item-num\">1&nbsp;&nbsp;</span>Description</a></span></li><li><span><a href=\"#Imports\" data-toc-modified-id=\"Imports-2\"><span class=\"toc-item-num\">2&nbsp;&nbsp;</span>Imports</a></span></li><li><span><a href=\"#Load-the-database\" data-toc-modified-id=\"Load-the-database-3\"><span class=\"toc-item-num\">3&nbsp;&nbsp;</span>Load the database</a></span></li><li><span><a href=\"#Pandas-dataframes\" data-toc-modified-id=\"Pandas-dataframes-4\"><span class=\"toc-item-num\">4&nbsp;&nbsp;</span>Pandas dataframes</a></span></li><li><span><a href=\"#Order-Table-is-Corrupted,-Create-new-table\" data-toc-modified-id=\"Order-Table-is-Corrupted,-Create-new-table-5\"><span class=\"toc-item-num\">5&nbsp;&nbsp;</span>Order Table is Corrupted, Create new table</a></span></li><li><span><a href=\"#Peek-at-dataframes\" data-toc-modified-id=\"Peek-at-dataframes-6\"><span class=\"toc-item-num\">6&nbsp;&nbsp;</span>Peek at dataframes</a></span></li><li><span><a href=\"#PySpark-dataframes\" data-toc-modified-id=\"PySpark-dataframes-7\"><span class=\"toc-item-num\">7&nbsp;&nbsp;</span>PySpark dataframes</a></span></li><li><span><a href=\"#Intermediate-SQL-Questions\" data-toc-modified-id=\"Intermediate-SQL-Questions-8\"><span class=\"toc-item-num\">8&nbsp;&nbsp;</span>Intermediate SQL Questions</a></span><ul class=\"toc-item\"><li><span><a href=\"#20.-Categories,-and-the-total-products-in-each-category\" data-toc-modified-id=\"20.-Categories,-and-the-total-products-in-each-category-8.1\"><span class=\"toc-item-num\">8.1&nbsp;&nbsp;</span>20. Categories, and the total products in each category</a></span></li><li><span><a href=\"#21.-Total-customers-per-country/city\" data-toc-modified-id=\"21.-Total-customers-per-country/city-8.2\"><span class=\"toc-item-num\">8.2&nbsp;&nbsp;</span>21. Total customers per country/city</a></span></li><li><span><a href=\"#22.-Products-that-need-reordering\" data-toc-modified-id=\"22.-Products-that-need-reordering-8.3\"><span class=\"toc-item-num\">8.3&nbsp;&nbsp;</span>22. Products that need reordering</a></span></li><li><span><a href=\"#23.-Products-that-need-reordering,-continued\" data-toc-modified-id=\"23.-Products-that-need-reordering,-continued-8.4\"><span class=\"toc-item-num\">8.4&nbsp;&nbsp;</span>23. Products that need reordering, continued</a></span></li><li><span><a href=\"#24.-Customer-list-by-region\" data-toc-modified-id=\"24.-Customer-list-by-region-8.5\"><span class=\"toc-item-num\">8.5&nbsp;&nbsp;</span>24. Customer list by region</a></span></li><li><span><a href=\"#25.-High-freight-charges\" data-toc-modified-id=\"25.-High-freight-charges-8.6\"><span class=\"toc-item-num\">8.6&nbsp;&nbsp;</span>25. High freight charges</a></span></li><li><span><a href=\"#26.-High-freight-charges---1997\" data-toc-modified-id=\"26.-High-freight-charges---1997-8.7\"><span class=\"toc-item-num\">8.7&nbsp;&nbsp;</span>26. High freight charges - 1997</a></span></li><li><span><a href=\"#27.-High-freight-charges-with-between\" data-toc-modified-id=\"27.-High-freight-charges-with-between-8.8\"><span class=\"toc-item-num\">8.8&nbsp;&nbsp;</span>27. High freight charges with between</a></span></li><li><span><a href=\"#28.-High-freight-charges---last-year\" data-toc-modified-id=\"28.-High-freight-charges---last-year-8.9\"><span class=\"toc-item-num\">8.9&nbsp;&nbsp;</span>28. High freight charges - last year</a></span></li><li><span><a href=\"#29.-Inventory-list\" data-toc-modified-id=\"29.-Inventory-list-8.10\"><span class=\"toc-item-num\">8.10&nbsp;&nbsp;</span>29. Inventory list</a></span></li><li><span><a href=\"#30.-Customers-with-no-orders\" data-toc-modified-id=\"30.-Customers-with-no-orders-8.11\"><span class=\"toc-item-num\">8.11&nbsp;&nbsp;</span>30. Customers with no orders</a></span></li><li><span><a href=\"#31.-Customers-with-no-orders-for-EmployeeID-4\" data-toc-modified-id=\"31.-Customers-with-no-orders-for-EmployeeID-4-8.12\"><span class=\"toc-item-num\">8.12&nbsp;&nbsp;</span>31. Customers with no orders for EmployeeID 4</a></span></li></ul></li><li><span><a href=\"#Time-Taken\" data-toc-modified-id=\"Time-Taken-9\"><span class=\"toc-item-num\">9&nbsp;&nbsp;</span>Time Taken</a></span></li></ul></div>"
   ]
  },
  {
   "cell_type": "markdown",
   "metadata": {},
   "source": [
    "# Description\n",
    "This tutorial is based on the book \"SQL Practice Problems\"\n",
    "- [book link](https://www.amazon.com/SQL-Practice-Problems-learn-doing-ebook/dp/B01N41VQFO)\n",
    "- [Entity Relation](https://docs.yugabyte.com/latest/sample-data/northwind/)\n",
    "\n",
    "Notes:\n",
    "- The table Order is corrupt, can not be deleted.\n",
    "- I will create Orders table from another script.\n",
    "- The table customercustomerdemo is empty.\n",
    "- The table CustomerDemographic is empty.\n",
    "- The Order Table has orderdate between 1996-07-04 to 1998-05-06\n",
    "  Only the year 1997 has the full year data.   \n",
    "\n",
    "![](images/northwind_entity_relation.png)"
   ]
  },
  {
   "cell_type": "markdown",
   "metadata": {},
   "source": [
    "# Imports"
   ]
  },
  {
   "cell_type": "code",
   "execution_count": 1,
   "metadata": {
    "ExecuteTime": {
     "end_time": "2020-03-19T15:11:46.743952Z",
     "start_time": "2020-03-19T15:11:46.195611Z"
    }
   },
   "outputs": [
    {
     "data": {
      "text/plain": [
       "'2.6.0'"
      ]
     },
     "execution_count": 1,
     "metadata": {},
     "output_type": "execute_result"
    }
   ],
   "source": [
    "import time\n",
    "time_start_notebook = time.time()\n",
    "\n",
    "import numpy as np\n",
    "import pandas as pd\n",
    "\n",
    "from datetime import datetime\n",
    "from dateutil.relativedelta import relativedelta\n",
    "# last_year = datetime.now() - relativedelta(years=1)\n",
    "\n",
    "import sqlite3\n",
    "# python module version\n",
    "sqlite3.version"
   ]
  },
  {
   "cell_type": "code",
   "execution_count": 2,
   "metadata": {
    "ExecuteTime": {
     "end_time": "2020-03-19T15:11:46.761407Z",
     "start_time": "2020-03-19T15:11:46.749070Z"
    }
   },
   "outputs": [
    {
     "data": {
      "text/plain": [
       "'3.29.0'"
      ]
     },
     "execution_count": 2,
     "metadata": {},
     "output_type": "execute_result"
    }
   ],
   "source": [
    "# sqlite database version \n",
    "sqlite3.sqlite_version"
   ]
  },
  {
   "cell_type": "code",
   "execution_count": 3,
   "metadata": {
    "ExecuteTime": {
     "end_time": "2020-03-19T15:11:46.845999Z",
     "start_time": "2020-03-19T15:11:46.839990Z"
    }
   },
   "outputs": [
    {
     "data": {
      "application/javascript": [
       "IPython.OutputArea.auto_scroll_threshold = 9999;\n"
      ],
      "text/plain": [
       "<IPython.core.display.Javascript object>"
      ]
     },
     "metadata": {},
     "output_type": "display_data"
    }
   ],
   "source": [
    "%%javascript\n",
    "IPython.OutputArea.auto_scroll_threshold = 9999;"
   ]
  },
  {
   "cell_type": "code",
   "execution_count": 4,
   "metadata": {
    "ExecuteTime": {
     "end_time": "2020-03-19T15:11:46.859066Z",
     "start_time": "2020-03-19T15:11:46.855693Z"
    }
   },
   "outputs": [],
   "source": [
    "# Jupyter notebook settings for pandas\n",
    "pd.set_option('display.max_columns', 200)\n",
    "pd.set_option('display.max_rows', 100)"
   ]
  },
  {
   "cell_type": "code",
   "execution_count": 5,
   "metadata": {
    "ExecuteTime": {
     "end_time": "2020-03-19T15:11:50.926352Z",
     "start_time": "2020-03-19T15:11:46.864049Z"
    }
   },
   "outputs": [],
   "source": [
    "# pyspark\n",
    "import pyspark\n",
    "spark = pyspark.sql\\\n",
    "          .SparkSession\\\n",
    "          .builder\\\n",
    "          .appName('bhishan')\\\n",
    "          .getOrCreate()\n",
    "\n",
    "# sql\n",
    "from pyspark.sql.functions import col as _col\n",
    "from pyspark.sql.functions import udf\n",
    "\n",
    "# @udf(\"integer\") def myfunc(x,y): return x - y\n",
    "# stddev format_number date_format, dayofyear, when\n",
    "from pyspark.sql import functions as F\n",
    "from pyspark.sql.window import Window\n",
    "from pyspark.sql.functions import (mean as _mean, min as _min,\n",
    "                                   max as _max, avg as _avg,\n",
    "                                   when as _when\n",
    "                                  )\n",
    "\n",
    "from pyspark.sql.types import *\n",
    "from pyspark import SparkConf, SparkContext, SQLContext\n",
    "\n",
    "sc = spark.sparkContext\n",
    "sqlContext = SQLContext(sc)\n",
    "# spark_df = sqlContext.createDataFrame(pandas_df)"
   ]
  },
  {
   "cell_type": "markdown",
   "metadata": {},
   "source": [
    "# Load the database"
   ]
  },
  {
   "cell_type": "code",
   "execution_count": 6,
   "metadata": {
    "ExecuteTime": {
     "end_time": "2020-03-19T15:11:50.932405Z",
     "start_time": "2020-03-19T15:11:50.929027Z"
    }
   },
   "outputs": [],
   "source": [
    "database = 'data/Northwind.sqlite'\n",
    "\n",
    "conn = sqlite3.connect(database)\n",
    "cur = conn.cursor() # cur.exectute(query)"
   ]
  },
  {
   "cell_type": "code",
   "execution_count": 7,
   "metadata": {
    "ExecuteTime": {
     "end_time": "2020-03-19T15:11:51.066422Z",
     "start_time": "2020-03-19T15:11:50.935856Z"
    }
   },
   "outputs": [
    {
     "data": {
      "text/html": [
       "<div>\n",
       "<style scoped>\n",
       "    .dataframe tbody tr th:only-of-type {\n",
       "        vertical-align: middle;\n",
       "    }\n",
       "\n",
       "    .dataframe tbody tr th {\n",
       "        vertical-align: top;\n",
       "    }\n",
       "\n",
       "    .dataframe thead th {\n",
       "        text-align: right;\n",
       "    }\n",
       "</style>\n",
       "<table border=\"1\" class=\"dataframe\">\n",
       "  <thead>\n",
       "    <tr style=\"text-align: right;\">\n",
       "      <th></th>\n",
       "      <th>type</th>\n",
       "      <th>name</th>\n",
       "      <th>tbl_name</th>\n",
       "      <th>rootpage</th>\n",
       "      <th>sql</th>\n",
       "    </tr>\n",
       "  </thead>\n",
       "  <tbody>\n",
       "    <tr>\n",
       "      <th>0</th>\n",
       "      <td>table</td>\n",
       "      <td>Employee</td>\n",
       "      <td>Employee</td>\n",
       "      <td>2</td>\n",
       "      <td>CREATE TABLE \"Employee\" \\n(\\n  \"Id\" INTEGER PR...</td>\n",
       "    </tr>\n",
       "    <tr>\n",
       "      <th>1</th>\n",
       "      <td>table</td>\n",
       "      <td>Category</td>\n",
       "      <td>Category</td>\n",
       "      <td>3</td>\n",
       "      <td>CREATE TABLE \"Category\" \\n(\\n  \"Id\" INTEGER PR...</td>\n",
       "    </tr>\n",
       "    <tr>\n",
       "      <th>2</th>\n",
       "      <td>table</td>\n",
       "      <td>Customer</td>\n",
       "      <td>Customer</td>\n",
       "      <td>4</td>\n",
       "      <td>CREATE TABLE \"Customer\" \\n(\\n  \"Id\" VARCHAR(80...</td>\n",
       "    </tr>\n",
       "    <tr>\n",
       "      <th>3</th>\n",
       "      <td>table</td>\n",
       "      <td>Shipper</td>\n",
       "      <td>Shipper</td>\n",
       "      <td>8</td>\n",
       "      <td>CREATE TABLE \"Shipper\" \\n(\\n  \"Id\" INTEGER PRI...</td>\n",
       "    </tr>\n",
       "    <tr>\n",
       "      <th>4</th>\n",
       "      <td>table</td>\n",
       "      <td>Supplier</td>\n",
       "      <td>Supplier</td>\n",
       "      <td>9</td>\n",
       "      <td>CREATE TABLE \"Supplier\" \\n(\\n  \"Id\" INTEGER PR...</td>\n",
       "    </tr>\n",
       "    <tr>\n",
       "      <th>5</th>\n",
       "      <td>table</td>\n",
       "      <td>Product</td>\n",
       "      <td>Product</td>\n",
       "      <td>12</td>\n",
       "      <td>CREATE TABLE \"Product\" \\n(\\n  \"Id\" INTEGER PRI...</td>\n",
       "    </tr>\n",
       "    <tr>\n",
       "      <th>6</th>\n",
       "      <td>table</td>\n",
       "      <td>OrderDetail</td>\n",
       "      <td>OrderDetail</td>\n",
       "      <td>14</td>\n",
       "      <td>CREATE TABLE \"OrderDetail\" \\n(\\n  \"Id\" VARCHAR...</td>\n",
       "    </tr>\n",
       "    <tr>\n",
       "      <th>7</th>\n",
       "      <td>table</td>\n",
       "      <td>CustomerCustomerDemo</td>\n",
       "      <td>CustomerCustomerDemo</td>\n",
       "      <td>16</td>\n",
       "      <td>CREATE TABLE \"CustomerCustomerDemo\" \\n(\\n  \"Id...</td>\n",
       "    </tr>\n",
       "    <tr>\n",
       "      <th>8</th>\n",
       "      <td>table</td>\n",
       "      <td>CustomerDemographic</td>\n",
       "      <td>CustomerDemographic</td>\n",
       "      <td>18</td>\n",
       "      <td>CREATE TABLE \"CustomerDemographic\" \\n(\\n  \"Id\"...</td>\n",
       "    </tr>\n",
       "    <tr>\n",
       "      <th>9</th>\n",
       "      <td>table</td>\n",
       "      <td>Region</td>\n",
       "      <td>Region</td>\n",
       "      <td>21</td>\n",
       "      <td>CREATE TABLE \"Region\" \\n(\\n  \"Id\" INTEGER PRIM...</td>\n",
       "    </tr>\n",
       "    <tr>\n",
       "      <th>10</th>\n",
       "      <td>table</td>\n",
       "      <td>Territory</td>\n",
       "      <td>Territory</td>\n",
       "      <td>22</td>\n",
       "      <td>CREATE TABLE \"Territory\" \\n(\\n  \"Id\" VARCHAR(8...</td>\n",
       "    </tr>\n",
       "    <tr>\n",
       "      <th>11</th>\n",
       "      <td>table</td>\n",
       "      <td>EmployeeTerritory</td>\n",
       "      <td>EmployeeTerritory</td>\n",
       "      <td>24</td>\n",
       "      <td>CREATE TABLE \"EmployeeTerritory\" \\n(\\n  \"Id\" V...</td>\n",
       "    </tr>\n",
       "    <tr>\n",
       "      <th>12</th>\n",
       "      <td>table</td>\n",
       "      <td>Order</td>\n",
       "      <td>Order</td>\n",
       "      <td>11</td>\n",
       "      <td>CREATE TABLE \"Order\" (\\n\"index\" INTEGER,\\n  \"O...</td>\n",
       "    </tr>\n",
       "    <tr>\n",
       "      <th>13</th>\n",
       "      <td>table</td>\n",
       "      <td>orders</td>\n",
       "      <td>orders</td>\n",
       "      <td>155</td>\n",
       "      <td>CREATE TABLE orders (\\n    orderid smallint NO...</td>\n",
       "    </tr>\n",
       "  </tbody>\n",
       "</table>\n",
       "</div>"
      ],
      "text/plain": [
       "     type                  name              tbl_name  rootpage  \\\n",
       "0   table              Employee              Employee         2   \n",
       "1   table              Category              Category         3   \n",
       "2   table              Customer              Customer         4   \n",
       "3   table               Shipper               Shipper         8   \n",
       "4   table              Supplier              Supplier         9   \n",
       "5   table               Product               Product        12   \n",
       "6   table           OrderDetail           OrderDetail        14   \n",
       "7   table  CustomerCustomerDemo  CustomerCustomerDemo        16   \n",
       "8   table   CustomerDemographic   CustomerDemographic        18   \n",
       "9   table                Region                Region        21   \n",
       "10  table             Territory             Territory        22   \n",
       "11  table     EmployeeTerritory     EmployeeTerritory        24   \n",
       "12  table                 Order                 Order        11   \n",
       "13  table                orders                orders       155   \n",
       "\n",
       "                                                  sql  \n",
       "0   CREATE TABLE \"Employee\" \\n(\\n  \"Id\" INTEGER PR...  \n",
       "1   CREATE TABLE \"Category\" \\n(\\n  \"Id\" INTEGER PR...  \n",
       "2   CREATE TABLE \"Customer\" \\n(\\n  \"Id\" VARCHAR(80...  \n",
       "3   CREATE TABLE \"Shipper\" \\n(\\n  \"Id\" INTEGER PRI...  \n",
       "4   CREATE TABLE \"Supplier\" \\n(\\n  \"Id\" INTEGER PR...  \n",
       "5   CREATE TABLE \"Product\" \\n(\\n  \"Id\" INTEGER PRI...  \n",
       "6   CREATE TABLE \"OrderDetail\" \\n(\\n  \"Id\" VARCHAR...  \n",
       "7   CREATE TABLE \"CustomerCustomerDemo\" \\n(\\n  \"Id...  \n",
       "8   CREATE TABLE \"CustomerDemographic\" \\n(\\n  \"Id\"...  \n",
       "9   CREATE TABLE \"Region\" \\n(\\n  \"Id\" INTEGER PRIM...  \n",
       "10  CREATE TABLE \"Territory\" \\n(\\n  \"Id\" VARCHAR(8...  \n",
       "11  CREATE TABLE \"EmployeeTerritory\" \\n(\\n  \"Id\" V...  \n",
       "12  CREATE TABLE \"Order\" (\\n\"index\" INTEGER,\\n  \"O...  \n",
       "13  CREATE TABLE orders (\\n    orderid smallint NO...  "
      ]
     },
     "execution_count": 7,
     "metadata": {},
     "output_type": "execute_result"
    }
   ],
   "source": [
    "tables = pd.read_sql(\"\"\"SELECT *\n",
    "                        FROM sqlite_master\n",
    "                        WHERE type='table';\"\"\", conn)\n",
    "tables # we see many tables in that database including Country"
   ]
  },
  {
   "cell_type": "markdown",
   "metadata": {},
   "source": [
    "# Pandas dataframes"
   ]
  },
  {
   "cell_type": "code",
   "execution_count": 8,
   "metadata": {
    "ExecuteTime": {
     "end_time": "2020-03-19T15:11:51.098990Z",
     "start_time": "2020-03-19T15:11:51.084704Z"
    }
   },
   "outputs": [
    {
     "data": {
      "text/plain": [
       "array(['Employee', 'Category', 'Customer', 'Shipper', 'Supplier',\n",
       "       'Product', 'OrderDetail', 'CustomerCustomerDemo',\n",
       "       'CustomerDemographic', 'Region', 'Territory', 'EmployeeTerritory',\n",
       "       'Order', 'orders'], dtype=object)"
      ]
     },
     "execution_count": 8,
     "metadata": {},
     "output_type": "execute_result"
    }
   ],
   "source": [
    "tables['name'].to_numpy()"
   ]
  },
  {
   "cell_type": "code",
   "execution_count": 9,
   "metadata": {
    "ExecuteTime": {
     "end_time": "2020-03-19T15:11:51.155266Z",
     "start_time": "2020-03-19T15:11:51.105389Z"
    }
   },
   "outputs": [],
   "source": [
    "Employee = pd.read_sql(\"\"\"SELECT * from Employee\"\"\", conn)\n",
    "Category = pd.read_sql(\"\"\"SELECT * from Category\"\"\", conn)\n",
    "Customer = pd.read_sql(\"\"\"SELECT * from Customer\"\"\", conn) \n",
    "Shipper = pd.read_sql(\"\"\"SELECT * from Shipper\"\"\", conn)\n",
    "Supplier = pd.read_sql(\"\"\"SELECT * from Supplier\"\"\", conn) \n",
    "# Order = pd.read_sql(\"\"\"SELECT * from Order\"\"\", conn)\n",
    "Product = pd.read_sql(\"\"\"SELECT * from Product\"\"\", conn)\n",
    "OrderDetail = pd.read_sql(\"\"\"SELECT * from OrderDetail\"\"\", conn)\n",
    "CustomerCustomerDemo = pd.read_sql(\"\"\"SELECT * from CustomerCustomerDemo\"\"\", conn)\n",
    "CustomerDemographic = pd.read_sql(\"\"\"SELECT * from CustomerDemographic\"\"\", conn)\n",
    "Region = pd.read_sql(\"\"\"SELECT * from Region\"\"\", conn)\n",
    "Territory = pd.read_sql(\"\"\"SELECT * from Territory\"\"\", conn)\n",
    "EmployeeTerritory = pd.read_sql(\"\"\"SELECT * from EmployeeTerritory\"\"\", conn)"
   ]
  },
  {
   "cell_type": "markdown",
   "metadata": {},
   "source": [
    "# Order Table is Corrupted, Create new table"
   ]
  },
  {
   "cell_type": "code",
   "execution_count": 10,
   "metadata": {
    "ExecuteTime": {
     "end_time": "2020-03-19T15:11:51.172718Z",
     "start_time": "2020-03-19T15:11:51.161656Z"
    }
   },
   "outputs": [
    {
     "data": {
      "text/plain": [
       "<sqlite3.Cursor at 0x111883e30>"
      ]
     },
     "execution_count": 10,
     "metadata": {},
     "output_type": "execute_result"
    }
   ],
   "source": [
    "cur.execute(\"drop table if exists Orders\")"
   ]
  },
  {
   "cell_type": "code",
   "execution_count": 11,
   "metadata": {
    "ExecuteTime": {
     "end_time": "2020-03-19T15:11:51.186835Z",
     "start_time": "2020-03-19T15:11:51.177847Z"
    }
   },
   "outputs": [
    {
     "data": {
      "text/plain": [
       "<sqlite3.Cursor at 0x111883e30>"
      ]
     },
     "execution_count": 11,
     "metadata": {},
     "output_type": "execute_result"
    }
   ],
   "source": [
    "cur.execute(\n",
    "\"\"\"\n",
    "CREATE TABLE orders (\n",
    "    orderid smallint NOT NULL,\n",
    "    customerid bpchar,\n",
    "    employeeid smallint,\n",
    "    orderdate date,\n",
    "    requireddate date,\n",
    "    shippeddate date,\n",
    "    shipvia smallint,\n",
    "    freight real,\n",
    "    shipname character varying(40),\n",
    "    shipaddress character varying(60),\n",
    "    shipcity character varying(15),\n",
    "    shipregion character varying(15),\n",
    "    shippostalcode character varying(10),\n",
    "    shipcountry character varying(15)\n",
    ")\n",
    "\"\"\")"
   ]
  },
  {
   "cell_type": "code",
   "execution_count": 12,
   "metadata": {
    "ExecuteTime": {
     "end_time": "2020-03-19T15:11:51.326342Z",
     "start_time": "2020-03-19T15:11:51.192061Z"
    }
   },
   "outputs": [
    {
     "name": "stdout",
     "output_type": "stream",
     "text": [
      "INSERT INTO orders VALUES (10248, 'VINET', 5, '1996-07-04', '1996-08-01', '1996-07-16', 3, 32.3800011, 'Vins et alcools Chevalier', '59 rue de l''Abbaye', 'Reims', NULL, '51100', 'France');\r\n",
      "INSERT INTO orders VALUES (10249, 'TOMSP', 6, '1996-07-05', '1996-08-16', '1996-07-10', 1, 11.6099997, 'Toms Spezialitäten', 'Luisenstr. 48', 'Münster', NULL, '44087', 'Germany');\r\n"
     ]
    }
   ],
   "source": [
    "!head -n 2 data/orders_data.sql"
   ]
  },
  {
   "cell_type": "code",
   "execution_count": 13,
   "metadata": {
    "ExecuteTime": {
     "end_time": "2020-03-19T15:11:51.367069Z",
     "start_time": "2020-03-19T15:11:51.333190Z"
    }
   },
   "outputs": [],
   "source": [
    "with open('data/orders_data.sql') as fi:\n",
    "    for line in fi.readlines():\n",
    "        cur.execute(line)\n",
    "        \n",
    "conn.commit()"
   ]
  },
  {
   "cell_type": "code",
   "execution_count": 14,
   "metadata": {
    "ExecuteTime": {
     "end_time": "2020-03-19T15:11:51.419088Z",
     "start_time": "2020-03-19T15:11:51.373353Z"
    }
   },
   "outputs": [
    {
     "data": {
      "text/html": [
       "<div>\n",
       "<style scoped>\n",
       "    .dataframe tbody tr th:only-of-type {\n",
       "        vertical-align: middle;\n",
       "    }\n",
       "\n",
       "    .dataframe tbody tr th {\n",
       "        vertical-align: top;\n",
       "    }\n",
       "\n",
       "    .dataframe thead th {\n",
       "        text-align: right;\n",
       "    }\n",
       "</style>\n",
       "<table border=\"1\" class=\"dataframe\">\n",
       "  <thead>\n",
       "    <tr style=\"text-align: right;\">\n",
       "      <th></th>\n",
       "      <th>orderid</th>\n",
       "      <th>customerid</th>\n",
       "      <th>employeeid</th>\n",
       "      <th>orderdate</th>\n",
       "      <th>requireddate</th>\n",
       "      <th>shippeddate</th>\n",
       "      <th>shipvia</th>\n",
       "      <th>freight</th>\n",
       "      <th>shipname</th>\n",
       "      <th>shipaddress</th>\n",
       "      <th>shipcity</th>\n",
       "      <th>shipregion</th>\n",
       "      <th>shippostalcode</th>\n",
       "      <th>shipcountry</th>\n",
       "    </tr>\n",
       "  </thead>\n",
       "  <tbody>\n",
       "    <tr>\n",
       "      <th>0</th>\n",
       "      <td>10248</td>\n",
       "      <td>VINET</td>\n",
       "      <td>5</td>\n",
       "      <td>1996-07-04</td>\n",
       "      <td>1996-08-01</td>\n",
       "      <td>1996-07-16</td>\n",
       "      <td>3</td>\n",
       "      <td>32.380001</td>\n",
       "      <td>Vins et alcools Chevalier</td>\n",
       "      <td>59 rue de l'Abbaye</td>\n",
       "      <td>Reims</td>\n",
       "      <td>None</td>\n",
       "      <td>51100</td>\n",
       "      <td>France</td>\n",
       "    </tr>\n",
       "    <tr>\n",
       "      <th>1</th>\n",
       "      <td>10249</td>\n",
       "      <td>TOMSP</td>\n",
       "      <td>6</td>\n",
       "      <td>1996-07-05</td>\n",
       "      <td>1996-08-16</td>\n",
       "      <td>1996-07-10</td>\n",
       "      <td>1</td>\n",
       "      <td>11.610000</td>\n",
       "      <td>Toms Spezialitäten</td>\n",
       "      <td>Luisenstr. 48</td>\n",
       "      <td>Münster</td>\n",
       "      <td>None</td>\n",
       "      <td>44087</td>\n",
       "      <td>Germany</td>\n",
       "    </tr>\n",
       "    <tr>\n",
       "      <th>2</th>\n",
       "      <td>10250</td>\n",
       "      <td>HANAR</td>\n",
       "      <td>4</td>\n",
       "      <td>1996-07-08</td>\n",
       "      <td>1996-08-05</td>\n",
       "      <td>1996-07-12</td>\n",
       "      <td>2</td>\n",
       "      <td>65.830002</td>\n",
       "      <td>Hanari Carnes</td>\n",
       "      <td>Rua do Paço, 67</td>\n",
       "      <td>Rio de Janeiro</td>\n",
       "      <td>RJ</td>\n",
       "      <td>05454-876</td>\n",
       "      <td>Brazil</td>\n",
       "    </tr>\n",
       "    <tr>\n",
       "      <th>3</th>\n",
       "      <td>10251</td>\n",
       "      <td>VICTE</td>\n",
       "      <td>3</td>\n",
       "      <td>1996-07-08</td>\n",
       "      <td>1996-08-05</td>\n",
       "      <td>1996-07-15</td>\n",
       "      <td>1</td>\n",
       "      <td>41.340000</td>\n",
       "      <td>Victuailles en stock</td>\n",
       "      <td>2, rue du Commerce</td>\n",
       "      <td>Lyon</td>\n",
       "      <td>None</td>\n",
       "      <td>69004</td>\n",
       "      <td>France</td>\n",
       "    </tr>\n",
       "    <tr>\n",
       "      <th>4</th>\n",
       "      <td>10252</td>\n",
       "      <td>SUPRD</td>\n",
       "      <td>4</td>\n",
       "      <td>1996-07-09</td>\n",
       "      <td>1996-08-06</td>\n",
       "      <td>1996-07-11</td>\n",
       "      <td>2</td>\n",
       "      <td>51.299999</td>\n",
       "      <td>Suprêmes délices</td>\n",
       "      <td>Boulevard Tirou, 255</td>\n",
       "      <td>Charleroi</td>\n",
       "      <td>None</td>\n",
       "      <td>B-6000</td>\n",
       "      <td>Belgium</td>\n",
       "    </tr>\n",
       "  </tbody>\n",
       "</table>\n",
       "</div>"
      ],
      "text/plain": [
       "   orderid customerid  employeeid   orderdate requireddate shippeddate  \\\n",
       "0    10248      VINET           5  1996-07-04   1996-08-01  1996-07-16   \n",
       "1    10249      TOMSP           6  1996-07-05   1996-08-16  1996-07-10   \n",
       "2    10250      HANAR           4  1996-07-08   1996-08-05  1996-07-12   \n",
       "3    10251      VICTE           3  1996-07-08   1996-08-05  1996-07-15   \n",
       "4    10252      SUPRD           4  1996-07-09   1996-08-06  1996-07-11   \n",
       "\n",
       "   shipvia    freight                   shipname           shipaddress  \\\n",
       "0        3  32.380001  Vins et alcools Chevalier    59 rue de l'Abbaye   \n",
       "1        1  11.610000         Toms Spezialitäten         Luisenstr. 48   \n",
       "2        2  65.830002              Hanari Carnes       Rua do Paço, 67   \n",
       "3        1  41.340000       Victuailles en stock    2, rue du Commerce   \n",
       "4        2  51.299999           Suprêmes délices  Boulevard Tirou, 255   \n",
       "\n",
       "         shipcity shipregion shippostalcode shipcountry  \n",
       "0           Reims       None          51100      France  \n",
       "1         Münster       None          44087     Germany  \n",
       "2  Rio de Janeiro         RJ      05454-876      Brazil  \n",
       "3            Lyon       None          69004      France  \n",
       "4       Charleroi       None         B-6000     Belgium  "
      ]
     },
     "execution_count": 14,
     "metadata": {},
     "output_type": "execute_result"
    }
   ],
   "source": [
    "Order = pd.read_sql(\"\"\"SELECT * from Orders\"\"\", conn)\n",
    "Order.head()"
   ]
  },
  {
   "cell_type": "code",
   "execution_count": 15,
   "metadata": {
    "ExecuteTime": {
     "end_time": "2020-03-19T15:11:51.442038Z",
     "start_time": "2020-03-19T15:11:51.425867Z"
    }
   },
   "outputs": [],
   "source": [
    "Order['orderdate'] = pd.to_datetime(Order['orderdate'])\n",
    "Order['requireddate'] = pd.to_datetime(Order['requireddate'])\n",
    "Order['shippeddate'] = pd.to_datetime(Order['shippeddate'])"
   ]
  },
  {
   "cell_type": "code",
   "execution_count": 16,
   "metadata": {
    "ExecuteTime": {
     "end_time": "2020-03-19T15:11:51.465211Z",
     "start_time": "2020-03-19T15:11:51.451888Z"
    }
   },
   "outputs": [
    {
     "data": {
      "text/plain": [
       "orderid                    int64\n",
       "customerid                object\n",
       "employeeid                 int64\n",
       "orderdate         datetime64[ns]\n",
       "requireddate      datetime64[ns]\n",
       "shippeddate       datetime64[ns]\n",
       "shipvia                    int64\n",
       "freight                  float64\n",
       "shipname                  object\n",
       "shipaddress               object\n",
       "shipcity                  object\n",
       "shipregion                object\n",
       "shippostalcode            object\n",
       "shipcountry               object\n",
       "dtype: object"
      ]
     },
     "execution_count": 16,
     "metadata": {},
     "output_type": "execute_result"
    }
   ],
   "source": [
    "Order.dtypes"
   ]
  },
  {
   "cell_type": "code",
   "execution_count": 17,
   "metadata": {
    "ExecuteTime": {
     "end_time": "2020-03-19T15:11:51.484034Z",
     "start_time": "2020-03-19T15:11:51.475548Z"
    }
   },
   "outputs": [
    {
     "name": "stdout",
     "output_type": "stream",
     "text": [
      "['ArrayType', 'AtomicType', 'BinaryType', 'BooleanType', 'ByteType', 'CloudPickleSerializer', 'DataType', 'DataTypeSingleton', 'DateConverter', 'DateType', 'DatetimeConverter', 'DecimalType', 'DoubleType', 'FloatType', 'FractionalType', 'IntegerType', 'IntegralType', 'JavaClass', 'LongType', 'MapType', 'NullType', 'NumericType', 'Row', 'ShortType', 'SparkContext', 'StringType', 'StructField', 'StructType', 'TimestampType', 'UserDefinedType', 'array', 'base64', 'basestring', 'calendar', 'ctypes', 'datetime', 'decimal', 'dt', 'from_arrow_schema', 'from_arrow_type', 'json', 'long', 'platform', 're', 'register_input_converter', 'size', 'sys', 'time', 'to_arrow_schema', 'to_arrow_type', 'unicode']\n"
     ]
    }
   ],
   "source": [
    "print([ i for i in dir(pyspark.sql.types) if i[0]!='_'])"
   ]
  },
  {
   "cell_type": "markdown",
   "metadata": {},
   "source": [
    "# Peek at dataframes"
   ]
  },
  {
   "cell_type": "code",
   "execution_count": 18,
   "metadata": {
    "ExecuteTime": {
     "end_time": "2020-03-19T15:11:51.746174Z",
     "start_time": "2020-03-19T15:11:51.491250Z"
    }
   },
   "outputs": [
    {
     "name": "stdout",
     "output_type": "stream",
     "text": [
      "Employee (9, 18)\n"
     ]
    },
    {
     "data": {
      "text/html": [
       "<div>\n",
       "<style scoped>\n",
       "    .dataframe tbody tr th:only-of-type {\n",
       "        vertical-align: middle;\n",
       "    }\n",
       "\n",
       "    .dataframe tbody tr th {\n",
       "        vertical-align: top;\n",
       "    }\n",
       "\n",
       "    .dataframe thead th {\n",
       "        text-align: right;\n",
       "    }\n",
       "</style>\n",
       "<table border=\"1\" class=\"dataframe\">\n",
       "  <thead>\n",
       "    <tr style=\"text-align: right;\">\n",
       "      <th></th>\n",
       "      <th>Id</th>\n",
       "      <th>LastName</th>\n",
       "      <th>FirstName</th>\n",
       "      <th>Title</th>\n",
       "      <th>TitleOfCourtesy</th>\n",
       "      <th>BirthDate</th>\n",
       "      <th>HireDate</th>\n",
       "      <th>Address</th>\n",
       "      <th>City</th>\n",
       "      <th>Region</th>\n",
       "      <th>PostalCode</th>\n",
       "      <th>Country</th>\n",
       "      <th>HomePhone</th>\n",
       "      <th>Extension</th>\n",
       "      <th>Photo</th>\n",
       "      <th>Notes</th>\n",
       "      <th>ReportsTo</th>\n",
       "      <th>PhotoPath</th>\n",
       "    </tr>\n",
       "  </thead>\n",
       "  <tbody>\n",
       "    <tr>\n",
       "      <th>0</th>\n",
       "      <td>1</td>\n",
       "      <td>Davolio</td>\n",
       "      <td>Nancy</td>\n",
       "      <td>Sales Representative</td>\n",
       "      <td>Ms.</td>\n",
       "      <td>1948-12-08</td>\n",
       "      <td>1992-05-01</td>\n",
       "      <td>507 - 20th Ave. E. Apt. 2A</td>\n",
       "      <td>Seattle</td>\n",
       "      <td>WA</td>\n",
       "      <td>98122</td>\n",
       "      <td>USA</td>\n",
       "      <td>(206) 555-9857</td>\n",
       "      <td>5467</td>\n",
       "      <td>None</td>\n",
       "      <td>Education includes a BA in psychology from Col...</td>\n",
       "      <td>2.0</td>\n",
       "      <td>http://accweb/emmployees/davolio.bmp</td>\n",
       "    </tr>\n",
       "    <tr>\n",
       "      <th>1</th>\n",
       "      <td>2</td>\n",
       "      <td>Fuller</td>\n",
       "      <td>Andrew</td>\n",
       "      <td>Vice President, Sales</td>\n",
       "      <td>Dr.</td>\n",
       "      <td>1952-02-19</td>\n",
       "      <td>1992-08-14</td>\n",
       "      <td>908 W. Capital Way</td>\n",
       "      <td>Tacoma</td>\n",
       "      <td>WA</td>\n",
       "      <td>98401</td>\n",
       "      <td>USA</td>\n",
       "      <td>(206) 555-9482</td>\n",
       "      <td>3457</td>\n",
       "      <td>None</td>\n",
       "      <td>Andrew received his BTS commercial in 1974 and...</td>\n",
       "      <td>NaN</td>\n",
       "      <td>http://accweb/emmployees/fuller.bmp</td>\n",
       "    </tr>\n",
       "  </tbody>\n",
       "</table>\n",
       "</div>"
      ],
      "text/plain": [
       "   Id LastName FirstName                  Title TitleOfCourtesy   BirthDate  \\\n",
       "0   1  Davolio     Nancy   Sales Representative             Ms.  1948-12-08   \n",
       "1   2   Fuller    Andrew  Vice President, Sales             Dr.  1952-02-19   \n",
       "\n",
       "     HireDate                     Address     City Region PostalCode Country  \\\n",
       "0  1992-05-01  507 - 20th Ave. E. Apt. 2A  Seattle     WA      98122     USA   \n",
       "1  1992-08-14          908 W. Capital Way   Tacoma     WA      98401     USA   \n",
       "\n",
       "        HomePhone Extension Photo  \\\n",
       "0  (206) 555-9857      5467  None   \n",
       "1  (206) 555-9482      3457  None   \n",
       "\n",
       "                                               Notes  ReportsTo  \\\n",
       "0  Education includes a BA in psychology from Col...        2.0   \n",
       "1  Andrew received his BTS commercial in 1974 and...        NaN   \n",
       "\n",
       "                              PhotoPath  \n",
       "0  http://accweb/emmployees/davolio.bmp  \n",
       "1   http://accweb/emmployees/fuller.bmp  "
      ]
     },
     "metadata": {},
     "output_type": "display_data"
    },
    {
     "name": "stdout",
     "output_type": "stream",
     "text": [
      "Category (8, 3)\n"
     ]
    },
    {
     "data": {
      "text/html": [
       "<div>\n",
       "<style scoped>\n",
       "    .dataframe tbody tr th:only-of-type {\n",
       "        vertical-align: middle;\n",
       "    }\n",
       "\n",
       "    .dataframe tbody tr th {\n",
       "        vertical-align: top;\n",
       "    }\n",
       "\n",
       "    .dataframe thead th {\n",
       "        text-align: right;\n",
       "    }\n",
       "</style>\n",
       "<table border=\"1\" class=\"dataframe\">\n",
       "  <thead>\n",
       "    <tr style=\"text-align: right;\">\n",
       "      <th></th>\n",
       "      <th>Id</th>\n",
       "      <th>CategoryName</th>\n",
       "      <th>Description</th>\n",
       "    </tr>\n",
       "  </thead>\n",
       "  <tbody>\n",
       "    <tr>\n",
       "      <th>0</th>\n",
       "      <td>1</td>\n",
       "      <td>Beverages</td>\n",
       "      <td>Soft drinks, coffees, teas, beers, and ales</td>\n",
       "    </tr>\n",
       "    <tr>\n",
       "      <th>1</th>\n",
       "      <td>2</td>\n",
       "      <td>Condiments</td>\n",
       "      <td>Sweet and savory sauces, relishes, spreads, an...</td>\n",
       "    </tr>\n",
       "  </tbody>\n",
       "</table>\n",
       "</div>"
      ],
      "text/plain": [
       "   Id CategoryName                                        Description\n",
       "0   1    Beverages        Soft drinks, coffees, teas, beers, and ales\n",
       "1   2   Condiments  Sweet and savory sauces, relishes, spreads, an..."
      ]
     },
     "metadata": {},
     "output_type": "display_data"
    },
    {
     "name": "stdout",
     "output_type": "stream",
     "text": [
      "Customer (91, 11)\n"
     ]
    },
    {
     "data": {
      "text/html": [
       "<div>\n",
       "<style scoped>\n",
       "    .dataframe tbody tr th:only-of-type {\n",
       "        vertical-align: middle;\n",
       "    }\n",
       "\n",
       "    .dataframe tbody tr th {\n",
       "        vertical-align: top;\n",
       "    }\n",
       "\n",
       "    .dataframe thead th {\n",
       "        text-align: right;\n",
       "    }\n",
       "</style>\n",
       "<table border=\"1\" class=\"dataframe\">\n",
       "  <thead>\n",
       "    <tr style=\"text-align: right;\">\n",
       "      <th></th>\n",
       "      <th>Id</th>\n",
       "      <th>CompanyName</th>\n",
       "      <th>ContactName</th>\n",
       "      <th>ContactTitle</th>\n",
       "      <th>Address</th>\n",
       "      <th>City</th>\n",
       "      <th>Region</th>\n",
       "      <th>PostalCode</th>\n",
       "      <th>Country</th>\n",
       "      <th>Phone</th>\n",
       "      <th>Fax</th>\n",
       "    </tr>\n",
       "  </thead>\n",
       "  <tbody>\n",
       "    <tr>\n",
       "      <th>0</th>\n",
       "      <td>ALFKI</td>\n",
       "      <td>Alfreds Futterkiste</td>\n",
       "      <td>Maria Anders</td>\n",
       "      <td>Sales Representative</td>\n",
       "      <td>Obere Str. 57</td>\n",
       "      <td>Berlin</td>\n",
       "      <td>None</td>\n",
       "      <td>12209</td>\n",
       "      <td>Germany</td>\n",
       "      <td>030-0074321</td>\n",
       "      <td>030-0076545</td>\n",
       "    </tr>\n",
       "    <tr>\n",
       "      <th>1</th>\n",
       "      <td>ANATR</td>\n",
       "      <td>Ana Trujillo Emparedados y helados</td>\n",
       "      <td>Ana Trujillo</td>\n",
       "      <td>Owner</td>\n",
       "      <td>Avda. de la Constitución 2222</td>\n",
       "      <td>México D.F.</td>\n",
       "      <td>None</td>\n",
       "      <td>05021</td>\n",
       "      <td>Mexico</td>\n",
       "      <td>(5) 555-4729</td>\n",
       "      <td>(5) 555-3745</td>\n",
       "    </tr>\n",
       "  </tbody>\n",
       "</table>\n",
       "</div>"
      ],
      "text/plain": [
       "      Id                         CompanyName   ContactName  \\\n",
       "0  ALFKI                 Alfreds Futterkiste  Maria Anders   \n",
       "1  ANATR  Ana Trujillo Emparedados y helados  Ana Trujillo   \n",
       "\n",
       "           ContactTitle                        Address         City Region  \\\n",
       "0  Sales Representative                  Obere Str. 57       Berlin   None   \n",
       "1                 Owner  Avda. de la Constitución 2222  México D.F.   None   \n",
       "\n",
       "  PostalCode  Country         Phone           Fax  \n",
       "0      12209  Germany   030-0074321   030-0076545  \n",
       "1      05021   Mexico  (5) 555-4729  (5) 555-3745  "
      ]
     },
     "metadata": {},
     "output_type": "display_data"
    },
    {
     "name": "stdout",
     "output_type": "stream",
     "text": [
      "Shipper (3, 3)\n"
     ]
    },
    {
     "data": {
      "text/html": [
       "<div>\n",
       "<style scoped>\n",
       "    .dataframe tbody tr th:only-of-type {\n",
       "        vertical-align: middle;\n",
       "    }\n",
       "\n",
       "    .dataframe tbody tr th {\n",
       "        vertical-align: top;\n",
       "    }\n",
       "\n",
       "    .dataframe thead th {\n",
       "        text-align: right;\n",
       "    }\n",
       "</style>\n",
       "<table border=\"1\" class=\"dataframe\">\n",
       "  <thead>\n",
       "    <tr style=\"text-align: right;\">\n",
       "      <th></th>\n",
       "      <th>Id</th>\n",
       "      <th>CompanyName</th>\n",
       "      <th>Phone</th>\n",
       "    </tr>\n",
       "  </thead>\n",
       "  <tbody>\n",
       "    <tr>\n",
       "      <th>0</th>\n",
       "      <td>1</td>\n",
       "      <td>Speedy Express</td>\n",
       "      <td>(503) 555-9831</td>\n",
       "    </tr>\n",
       "    <tr>\n",
       "      <th>1</th>\n",
       "      <td>2</td>\n",
       "      <td>United Package</td>\n",
       "      <td>(503) 555-3199</td>\n",
       "    </tr>\n",
       "  </tbody>\n",
       "</table>\n",
       "</div>"
      ],
      "text/plain": [
       "   Id     CompanyName           Phone\n",
       "0   1  Speedy Express  (503) 555-9831\n",
       "1   2  United Package  (503) 555-3199"
      ]
     },
     "metadata": {},
     "output_type": "display_data"
    },
    {
     "name": "stdout",
     "output_type": "stream",
     "text": [
      "Supplier (29, 12)\n"
     ]
    },
    {
     "data": {
      "text/html": [
       "<div>\n",
       "<style scoped>\n",
       "    .dataframe tbody tr th:only-of-type {\n",
       "        vertical-align: middle;\n",
       "    }\n",
       "\n",
       "    .dataframe tbody tr th {\n",
       "        vertical-align: top;\n",
       "    }\n",
       "\n",
       "    .dataframe thead th {\n",
       "        text-align: right;\n",
       "    }\n",
       "</style>\n",
       "<table border=\"1\" class=\"dataframe\">\n",
       "  <thead>\n",
       "    <tr style=\"text-align: right;\">\n",
       "      <th></th>\n",
       "      <th>Id</th>\n",
       "      <th>CompanyName</th>\n",
       "      <th>ContactName</th>\n",
       "      <th>ContactTitle</th>\n",
       "      <th>Address</th>\n",
       "      <th>City</th>\n",
       "      <th>Region</th>\n",
       "      <th>PostalCode</th>\n",
       "      <th>Country</th>\n",
       "      <th>Phone</th>\n",
       "      <th>Fax</th>\n",
       "      <th>HomePage</th>\n",
       "    </tr>\n",
       "  </thead>\n",
       "  <tbody>\n",
       "    <tr>\n",
       "      <th>0</th>\n",
       "      <td>1</td>\n",
       "      <td>Exotic Liquids</td>\n",
       "      <td>Charlotte Cooper</td>\n",
       "      <td>Purchasing Manager</td>\n",
       "      <td>49 Gilbert St.</td>\n",
       "      <td>London</td>\n",
       "      <td>None</td>\n",
       "      <td>EC1 4SD</td>\n",
       "      <td>UK</td>\n",
       "      <td>(171) 555-2222</td>\n",
       "      <td>None</td>\n",
       "      <td>None</td>\n",
       "    </tr>\n",
       "    <tr>\n",
       "      <th>1</th>\n",
       "      <td>2</td>\n",
       "      <td>New Orleans Cajun Delights</td>\n",
       "      <td>Shelley Burke</td>\n",
       "      <td>Order Administrator</td>\n",
       "      <td>P.O. Box 78934</td>\n",
       "      <td>New Orleans</td>\n",
       "      <td>LA</td>\n",
       "      <td>70117</td>\n",
       "      <td>USA</td>\n",
       "      <td>(100) 555-4822</td>\n",
       "      <td>None</td>\n",
       "      <td>#CAJUN.HTM#</td>\n",
       "    </tr>\n",
       "  </tbody>\n",
       "</table>\n",
       "</div>"
      ],
      "text/plain": [
       "   Id                 CompanyName       ContactName         ContactTitle  \\\n",
       "0   1              Exotic Liquids  Charlotte Cooper   Purchasing Manager   \n",
       "1   2  New Orleans Cajun Delights     Shelley Burke  Order Administrator   \n",
       "\n",
       "          Address         City Region PostalCode Country           Phone  \\\n",
       "0  49 Gilbert St.       London   None    EC1 4SD      UK  (171) 555-2222   \n",
       "1  P.O. Box 78934  New Orleans     LA      70117     USA  (100) 555-4822   \n",
       "\n",
       "    Fax     HomePage  \n",
       "0  None         None  \n",
       "1  None  #CAJUN.HTM#  "
      ]
     },
     "metadata": {},
     "output_type": "display_data"
    },
    {
     "name": "stdout",
     "output_type": "stream",
     "text": [
      "Order (830, 14)\n"
     ]
    },
    {
     "data": {
      "text/html": [
       "<div>\n",
       "<style scoped>\n",
       "    .dataframe tbody tr th:only-of-type {\n",
       "        vertical-align: middle;\n",
       "    }\n",
       "\n",
       "    .dataframe tbody tr th {\n",
       "        vertical-align: top;\n",
       "    }\n",
       "\n",
       "    .dataframe thead th {\n",
       "        text-align: right;\n",
       "    }\n",
       "</style>\n",
       "<table border=\"1\" class=\"dataframe\">\n",
       "  <thead>\n",
       "    <tr style=\"text-align: right;\">\n",
       "      <th></th>\n",
       "      <th>orderid</th>\n",
       "      <th>customerid</th>\n",
       "      <th>employeeid</th>\n",
       "      <th>orderdate</th>\n",
       "      <th>requireddate</th>\n",
       "      <th>shippeddate</th>\n",
       "      <th>shipvia</th>\n",
       "      <th>freight</th>\n",
       "      <th>shipname</th>\n",
       "      <th>shipaddress</th>\n",
       "      <th>shipcity</th>\n",
       "      <th>shipregion</th>\n",
       "      <th>shippostalcode</th>\n",
       "      <th>shipcountry</th>\n",
       "    </tr>\n",
       "  </thead>\n",
       "  <tbody>\n",
       "    <tr>\n",
       "      <th>0</th>\n",
       "      <td>10248</td>\n",
       "      <td>VINET</td>\n",
       "      <td>5</td>\n",
       "      <td>1996-07-04</td>\n",
       "      <td>1996-08-01</td>\n",
       "      <td>1996-07-16</td>\n",
       "      <td>3</td>\n",
       "      <td>32.380001</td>\n",
       "      <td>Vins et alcools Chevalier</td>\n",
       "      <td>59 rue de l'Abbaye</td>\n",
       "      <td>Reims</td>\n",
       "      <td>None</td>\n",
       "      <td>51100</td>\n",
       "      <td>France</td>\n",
       "    </tr>\n",
       "    <tr>\n",
       "      <th>1</th>\n",
       "      <td>10249</td>\n",
       "      <td>TOMSP</td>\n",
       "      <td>6</td>\n",
       "      <td>1996-07-05</td>\n",
       "      <td>1996-08-16</td>\n",
       "      <td>1996-07-10</td>\n",
       "      <td>1</td>\n",
       "      <td>11.610000</td>\n",
       "      <td>Toms Spezialitäten</td>\n",
       "      <td>Luisenstr. 48</td>\n",
       "      <td>Münster</td>\n",
       "      <td>None</td>\n",
       "      <td>44087</td>\n",
       "      <td>Germany</td>\n",
       "    </tr>\n",
       "  </tbody>\n",
       "</table>\n",
       "</div>"
      ],
      "text/plain": [
       "   orderid customerid  employeeid  orderdate requireddate shippeddate  \\\n",
       "0    10248      VINET           5 1996-07-04   1996-08-01  1996-07-16   \n",
       "1    10249      TOMSP           6 1996-07-05   1996-08-16  1996-07-10   \n",
       "\n",
       "   shipvia    freight                   shipname         shipaddress shipcity  \\\n",
       "0        3  32.380001  Vins et alcools Chevalier  59 rue de l'Abbaye    Reims   \n",
       "1        1  11.610000         Toms Spezialitäten       Luisenstr. 48  Münster   \n",
       "\n",
       "  shipregion shippostalcode shipcountry  \n",
       "0       None          51100      France  \n",
       "1       None          44087     Germany  "
      ]
     },
     "metadata": {},
     "output_type": "display_data"
    },
    {
     "name": "stdout",
     "output_type": "stream",
     "text": [
      "Product (77, 10)\n"
     ]
    },
    {
     "data": {
      "text/html": [
       "<div>\n",
       "<style scoped>\n",
       "    .dataframe tbody tr th:only-of-type {\n",
       "        vertical-align: middle;\n",
       "    }\n",
       "\n",
       "    .dataframe tbody tr th {\n",
       "        vertical-align: top;\n",
       "    }\n",
       "\n",
       "    .dataframe thead th {\n",
       "        text-align: right;\n",
       "    }\n",
       "</style>\n",
       "<table border=\"1\" class=\"dataframe\">\n",
       "  <thead>\n",
       "    <tr style=\"text-align: right;\">\n",
       "      <th></th>\n",
       "      <th>Id</th>\n",
       "      <th>ProductName</th>\n",
       "      <th>SupplierId</th>\n",
       "      <th>CategoryId</th>\n",
       "      <th>QuantityPerUnit</th>\n",
       "      <th>UnitPrice</th>\n",
       "      <th>UnitsInStock</th>\n",
       "      <th>UnitsOnOrder</th>\n",
       "      <th>ReorderLevel</th>\n",
       "      <th>Discontinued</th>\n",
       "    </tr>\n",
       "  </thead>\n",
       "  <tbody>\n",
       "    <tr>\n",
       "      <th>0</th>\n",
       "      <td>1</td>\n",
       "      <td>Chai</td>\n",
       "      <td>1</td>\n",
       "      <td>1</td>\n",
       "      <td>10 boxes x 20 bags</td>\n",
       "      <td>18.0</td>\n",
       "      <td>39</td>\n",
       "      <td>0</td>\n",
       "      <td>10</td>\n",
       "      <td>0</td>\n",
       "    </tr>\n",
       "    <tr>\n",
       "      <th>1</th>\n",
       "      <td>2</td>\n",
       "      <td>Chang</td>\n",
       "      <td>1</td>\n",
       "      <td>1</td>\n",
       "      <td>24 - 12 oz bottles</td>\n",
       "      <td>19.0</td>\n",
       "      <td>17</td>\n",
       "      <td>40</td>\n",
       "      <td>25</td>\n",
       "      <td>0</td>\n",
       "    </tr>\n",
       "  </tbody>\n",
       "</table>\n",
       "</div>"
      ],
      "text/plain": [
       "   Id ProductName  SupplierId  CategoryId     QuantityPerUnit  UnitPrice  \\\n",
       "0   1        Chai           1           1  10 boxes x 20 bags       18.0   \n",
       "1   2       Chang           1           1  24 - 12 oz bottles       19.0   \n",
       "\n",
       "   UnitsInStock  UnitsOnOrder  ReorderLevel  Discontinued  \n",
       "0            39             0            10             0  \n",
       "1            17            40            25             0  "
      ]
     },
     "metadata": {},
     "output_type": "display_data"
    },
    {
     "name": "stdout",
     "output_type": "stream",
     "text": [
      "OrderDetail (2155, 6)\n"
     ]
    },
    {
     "data": {
      "text/html": [
       "<div>\n",
       "<style scoped>\n",
       "    .dataframe tbody tr th:only-of-type {\n",
       "        vertical-align: middle;\n",
       "    }\n",
       "\n",
       "    .dataframe tbody tr th {\n",
       "        vertical-align: top;\n",
       "    }\n",
       "\n",
       "    .dataframe thead th {\n",
       "        text-align: right;\n",
       "    }\n",
       "</style>\n",
       "<table border=\"1\" class=\"dataframe\">\n",
       "  <thead>\n",
       "    <tr style=\"text-align: right;\">\n",
       "      <th></th>\n",
       "      <th>Id</th>\n",
       "      <th>OrderId</th>\n",
       "      <th>ProductId</th>\n",
       "      <th>UnitPrice</th>\n",
       "      <th>Quantity</th>\n",
       "      <th>Discount</th>\n",
       "    </tr>\n",
       "  </thead>\n",
       "  <tbody>\n",
       "    <tr>\n",
       "      <th>0</th>\n",
       "      <td>10248/11</td>\n",
       "      <td>10248</td>\n",
       "      <td>11</td>\n",
       "      <td>14.0</td>\n",
       "      <td>12</td>\n",
       "      <td>0.0</td>\n",
       "    </tr>\n",
       "    <tr>\n",
       "      <th>1</th>\n",
       "      <td>10248/42</td>\n",
       "      <td>10248</td>\n",
       "      <td>42</td>\n",
       "      <td>9.8</td>\n",
       "      <td>10</td>\n",
       "      <td>0.0</td>\n",
       "    </tr>\n",
       "  </tbody>\n",
       "</table>\n",
       "</div>"
      ],
      "text/plain": [
       "         Id  OrderId  ProductId  UnitPrice  Quantity  Discount\n",
       "0  10248/11    10248         11       14.0        12       0.0\n",
       "1  10248/42    10248         42        9.8        10       0.0"
      ]
     },
     "metadata": {},
     "output_type": "display_data"
    },
    {
     "name": "stdout",
     "output_type": "stream",
     "text": [
      "CustomerCustomerDemo (0, 2)\n"
     ]
    },
    {
     "data": {
      "text/html": [
       "<div>\n",
       "<style scoped>\n",
       "    .dataframe tbody tr th:only-of-type {\n",
       "        vertical-align: middle;\n",
       "    }\n",
       "\n",
       "    .dataframe tbody tr th {\n",
       "        vertical-align: top;\n",
       "    }\n",
       "\n",
       "    .dataframe thead th {\n",
       "        text-align: right;\n",
       "    }\n",
       "</style>\n",
       "<table border=\"1\" class=\"dataframe\">\n",
       "  <thead>\n",
       "    <tr style=\"text-align: right;\">\n",
       "      <th></th>\n",
       "      <th>Id</th>\n",
       "      <th>CustomerTypeId</th>\n",
       "    </tr>\n",
       "  </thead>\n",
       "  <tbody>\n",
       "  </tbody>\n",
       "</table>\n",
       "</div>"
      ],
      "text/plain": [
       "Empty DataFrame\n",
       "Columns: [Id, CustomerTypeId]\n",
       "Index: []"
      ]
     },
     "metadata": {},
     "output_type": "display_data"
    },
    {
     "name": "stdout",
     "output_type": "stream",
     "text": [
      "CustomerDemographic (0, 2)\n"
     ]
    },
    {
     "data": {
      "text/html": [
       "<div>\n",
       "<style scoped>\n",
       "    .dataframe tbody tr th:only-of-type {\n",
       "        vertical-align: middle;\n",
       "    }\n",
       "\n",
       "    .dataframe tbody tr th {\n",
       "        vertical-align: top;\n",
       "    }\n",
       "\n",
       "    .dataframe thead th {\n",
       "        text-align: right;\n",
       "    }\n",
       "</style>\n",
       "<table border=\"1\" class=\"dataframe\">\n",
       "  <thead>\n",
       "    <tr style=\"text-align: right;\">\n",
       "      <th></th>\n",
       "      <th>Id</th>\n",
       "      <th>CustomerDesc</th>\n",
       "    </tr>\n",
       "  </thead>\n",
       "  <tbody>\n",
       "  </tbody>\n",
       "</table>\n",
       "</div>"
      ],
      "text/plain": [
       "Empty DataFrame\n",
       "Columns: [Id, CustomerDesc]\n",
       "Index: []"
      ]
     },
     "metadata": {},
     "output_type": "display_data"
    },
    {
     "name": "stdout",
     "output_type": "stream",
     "text": [
      "Region (4, 2)\n"
     ]
    },
    {
     "data": {
      "text/html": [
       "<div>\n",
       "<style scoped>\n",
       "    .dataframe tbody tr th:only-of-type {\n",
       "        vertical-align: middle;\n",
       "    }\n",
       "\n",
       "    .dataframe tbody tr th {\n",
       "        vertical-align: top;\n",
       "    }\n",
       "\n",
       "    .dataframe thead th {\n",
       "        text-align: right;\n",
       "    }\n",
       "</style>\n",
       "<table border=\"1\" class=\"dataframe\">\n",
       "  <thead>\n",
       "    <tr style=\"text-align: right;\">\n",
       "      <th></th>\n",
       "      <th>Id</th>\n",
       "      <th>RegionDescription</th>\n",
       "    </tr>\n",
       "  </thead>\n",
       "  <tbody>\n",
       "    <tr>\n",
       "      <th>0</th>\n",
       "      <td>1</td>\n",
       "      <td>Eastern</td>\n",
       "    </tr>\n",
       "    <tr>\n",
       "      <th>1</th>\n",
       "      <td>2</td>\n",
       "      <td>Western</td>\n",
       "    </tr>\n",
       "  </tbody>\n",
       "</table>\n",
       "</div>"
      ],
      "text/plain": [
       "   Id RegionDescription\n",
       "0   1           Eastern\n",
       "1   2           Western"
      ]
     },
     "metadata": {},
     "output_type": "display_data"
    },
    {
     "name": "stdout",
     "output_type": "stream",
     "text": [
      "Territory (53, 3)\n"
     ]
    },
    {
     "data": {
      "text/html": [
       "<div>\n",
       "<style scoped>\n",
       "    .dataframe tbody tr th:only-of-type {\n",
       "        vertical-align: middle;\n",
       "    }\n",
       "\n",
       "    .dataframe tbody tr th {\n",
       "        vertical-align: top;\n",
       "    }\n",
       "\n",
       "    .dataframe thead th {\n",
       "        text-align: right;\n",
       "    }\n",
       "</style>\n",
       "<table border=\"1\" class=\"dataframe\">\n",
       "  <thead>\n",
       "    <tr style=\"text-align: right;\">\n",
       "      <th></th>\n",
       "      <th>Id</th>\n",
       "      <th>TerritoryDescription</th>\n",
       "      <th>RegionId</th>\n",
       "    </tr>\n",
       "  </thead>\n",
       "  <tbody>\n",
       "    <tr>\n",
       "      <th>0</th>\n",
       "      <td>01581</td>\n",
       "      <td>Westboro</td>\n",
       "      <td>1</td>\n",
       "    </tr>\n",
       "    <tr>\n",
       "      <th>1</th>\n",
       "      <td>01730</td>\n",
       "      <td>Bedford</td>\n",
       "      <td>1</td>\n",
       "    </tr>\n",
       "  </tbody>\n",
       "</table>\n",
       "</div>"
      ],
      "text/plain": [
       "      Id TerritoryDescription  RegionId\n",
       "0  01581             Westboro         1\n",
       "1  01730              Bedford         1"
      ]
     },
     "metadata": {},
     "output_type": "display_data"
    },
    {
     "name": "stdout",
     "output_type": "stream",
     "text": [
      "EmployeeTerritory (49, 3)\n"
     ]
    },
    {
     "data": {
      "text/html": [
       "<div>\n",
       "<style scoped>\n",
       "    .dataframe tbody tr th:only-of-type {\n",
       "        vertical-align: middle;\n",
       "    }\n",
       "\n",
       "    .dataframe tbody tr th {\n",
       "        vertical-align: top;\n",
       "    }\n",
       "\n",
       "    .dataframe thead th {\n",
       "        text-align: right;\n",
       "    }\n",
       "</style>\n",
       "<table border=\"1\" class=\"dataframe\">\n",
       "  <thead>\n",
       "    <tr style=\"text-align: right;\">\n",
       "      <th></th>\n",
       "      <th>Id</th>\n",
       "      <th>EmployeeId</th>\n",
       "      <th>TerritoryId</th>\n",
       "    </tr>\n",
       "  </thead>\n",
       "  <tbody>\n",
       "    <tr>\n",
       "      <th>0</th>\n",
       "      <td>1/06897</td>\n",
       "      <td>1</td>\n",
       "      <td>06897</td>\n",
       "    </tr>\n",
       "    <tr>\n",
       "      <th>1</th>\n",
       "      <td>1/19713</td>\n",
       "      <td>1</td>\n",
       "      <td>19713</td>\n",
       "    </tr>\n",
       "  </tbody>\n",
       "</table>\n",
       "</div>"
      ],
      "text/plain": [
       "        Id  EmployeeId TerritoryId\n",
       "0  1/06897           1       06897\n",
       "1  1/19713           1       19713"
      ]
     },
     "metadata": {},
     "output_type": "display_data"
    }
   ],
   "source": [
    "dfs_names = [ 'Employee', 'Category','Customer',\n",
    "             'Shipper','Supplier','Order',\n",
    "             'Product','OrderDetail',\n",
    "             'CustomerCustomerDemo','CustomerDemographic',\n",
    "             'Region', 'Territory', 'EmployeeTerritory']\n",
    "\n",
    "dfs = [ Employee, Category,Customer,Shipper,Supplier,\n",
    "        Order, Product,OrderDetail,\n",
    "       CustomerCustomerDemo,CustomerDemographic,\n",
    "       Region, Territory, EmployeeTerritory]\n",
    "\n",
    "for df_name, df in zip(dfs_names,dfs):\n",
    "    print(df_name, df.shape)\n",
    "    display(df.head(2))"
   ]
  },
  {
   "cell_type": "markdown",
   "metadata": {},
   "source": [
    "# PySpark dataframes"
   ]
  },
  {
   "cell_type": "code",
   "execution_count": 19,
   "metadata": {
    "ExecuteTime": {
     "end_time": "2020-03-19T15:11:51.773152Z",
     "start_time": "2020-03-19T15:11:51.761774Z"
    }
   },
   "outputs": [],
   "source": [
    "def spark_df_from_pandas(pandas_df):\n",
    "    df_dtype = pandas_df.dtypes.astype(str).reset_index()\n",
    "    df_dtype.columns = ['column','dtype']\n",
    "\n",
    "    mapping = {'int64'  : 'IntegerType()',\n",
    "               'float64': 'DoubleType()',\n",
    "               'bool'   : 'BooleanType()',\n",
    "               'object' : 'StringType()',\n",
    "               'datetime64[ns]': 'DateType()',\n",
    "              }\n",
    "\n",
    "    df_dtype['dtype'] = df_dtype['dtype'].map(mapping)\n",
    "    df_dtype['schema'] = \"    StructField('\" +\\\n",
    "                         df_dtype['column'] + \"',\" +\\\n",
    "                         df_dtype['dtype'] + \",True),\"\n",
    "\n",
    "    head = 'StructType([\\n'\n",
    "    body = '\\n'.join(df_dtype['schema'])\n",
    "    tail = '\\n    ])'\n",
    "\n",
    "    schema = head + body + tail\n",
    "    spark_df = sqlContext.createDataFrame(pandas_df, eval(schema))\n",
    "    return spark_df"
   ]
  },
  {
   "cell_type": "code",
   "execution_count": 20,
   "metadata": {
    "ExecuteTime": {
     "end_time": "2020-03-19T15:11:55.426689Z",
     "start_time": "2020-03-19T15:11:51.777492Z"
    }
   },
   "outputs": [],
   "source": [
    "sEmployee = spark_df_from_pandas(Employee)\n",
    "sEmployee.createOrReplaceTempView(\"Employee\")\n",
    "\n",
    "sCategory = spark_df_from_pandas(Category)\n",
    "sCategory.createOrReplaceTempView(\"Category\")\n",
    "\n",
    "sCustomer = spark_df_from_pandas(Customer)\n",
    "sCustomer.createOrReplaceTempView(\"Customer\")\n",
    "\n",
    "sShipper = spark_df_from_pandas(Shipper)\n",
    "sShipper.createOrReplaceTempView(\"Shipper\")\n",
    "\n",
    "sSupplier = spark_df_from_pandas(Supplier)\n",
    "sSupplier.createOrReplaceTempView(\"Supplier\")\n",
    "\n",
    "sOrder = spark_df_from_pandas(Order)\n",
    "sOrder.createOrReplaceTempView(\"Order\")\n",
    "\n",
    "sProduct = spark_df_from_pandas(Product)\n",
    "sProduct.createOrReplaceTempView(\"Product\")\n",
    "\n",
    "sOrderDetail = spark_df_from_pandas(OrderDetail)\n",
    "sOrderDetail.createOrReplaceTempView(\"OrderDetail\")\n",
    "\n",
    "sCustomerCustomerDemo = spark_df_from_pandas(CustomerCustomerDemo)\n",
    "sCustomerCustomerDemo.createOrReplaceTempView(\"CustomerCustomerDemo\")\n",
    "\n",
    "sCustomerDemographic = spark_df_from_pandas(CustomerDemographic)\n",
    "sCustomerDemographic.createOrReplaceTempView(\"CustomerDemographic\")\n",
    "\n",
    "sRegion = spark_df_from_pandas(Region)\n",
    "sRegion.createOrReplaceTempView(\"Region\")\n",
    "\n",
    "sTerritory = spark_df_from_pandas(Territory)\n",
    "sTerritory.createOrReplaceTempView(\"Territory\")\n",
    "\n",
    "sEmployeeTerritory = spark_df_from_pandas(EmployeeTerritory)\n",
    "sEmployeeTerritory.createOrReplaceTempView(\"EmployeeTerritory\")"
   ]
  },
  {
   "cell_type": "code",
   "execution_count": 21,
   "metadata": {
    "ExecuteTime": {
     "end_time": "2020-03-19T15:11:55.466234Z",
     "start_time": "2020-03-19T15:11:55.431102Z"
    }
   },
   "outputs": [],
   "source": [
    "sOrder.createOrReplaceTempView(\"Orders\") # create Orders table."
   ]
  },
  {
   "cell_type": "code",
   "execution_count": 22,
   "metadata": {
    "ExecuteTime": {
     "end_time": "2020-03-19T15:11:55.496593Z",
     "start_time": "2020-03-19T15:11:55.471706Z"
    }
   },
   "outputs": [
    {
     "name": "stdout",
     "output_type": "stream",
     "text": [
      "root\n",
      " |-- orderid: integer (nullable = true)\n",
      " |-- customerid: string (nullable = true)\n",
      " |-- employeeid: integer (nullable = true)\n",
      " |-- orderdate: date (nullable = true)\n",
      " |-- requireddate: date (nullable = true)\n",
      " |-- shippeddate: date (nullable = true)\n",
      " |-- shipvia: integer (nullable = true)\n",
      " |-- freight: double (nullable = true)\n",
      " |-- shipname: string (nullable = true)\n",
      " |-- shipaddress: string (nullable = true)\n",
      " |-- shipcity: string (nullable = true)\n",
      " |-- shipregion: string (nullable = true)\n",
      " |-- shippostalcode: string (nullable = true)\n",
      " |-- shipcountry: string (nullable = true)\n",
      "\n"
     ]
    }
   ],
   "source": [
    "sOrder.printSchema()"
   ]
  },
  {
   "cell_type": "code",
   "execution_count": 23,
   "metadata": {
    "ExecuteTime": {
     "end_time": "2020-03-19T15:11:55.509896Z",
     "start_time": "2020-03-19T15:11:55.502321Z"
    }
   },
   "outputs": [],
   "source": [
    "# sEmployee.show(2)"
   ]
  },
  {
   "cell_type": "code",
   "execution_count": 24,
   "metadata": {
    "ExecuteTime": {
     "end_time": "2020-03-19T15:11:55.522618Z",
     "start_time": "2020-03-19T15:11:55.516343Z"
    }
   },
   "outputs": [],
   "source": [
    "# spark.sql('select * from Employee limit 2').show()"
   ]
  },
  {
   "cell_type": "markdown",
   "metadata": {},
   "source": [
    "# Intermediate SQL Questions"
   ]
  },
  {
   "cell_type": "markdown",
   "metadata": {},
   "source": [
    "## 20. Categories, and the total products in each category\n",
    "For this problem, we’d like to see the total number of\n",
    "products in each category. Sort the results by the total\n",
    "number of products, in descending order."
   ]
  },
  {
   "cell_type": "code",
   "execution_count": 25,
   "metadata": {
    "ExecuteTime": {
     "end_time": "2020-03-19T15:11:55.571721Z",
     "start_time": "2020-03-19T15:11:55.529150Z"
    }
   },
   "outputs": [
    {
     "data": {
      "text/html": [
       "<div>\n",
       "<style scoped>\n",
       "    .dataframe tbody tr th:only-of-type {\n",
       "        vertical-align: middle;\n",
       "    }\n",
       "\n",
       "    .dataframe tbody tr th {\n",
       "        vertical-align: top;\n",
       "    }\n",
       "\n",
       "    .dataframe thead th {\n",
       "        text-align: right;\n",
       "    }\n",
       "</style>\n",
       "<table border=\"1\" class=\"dataframe\">\n",
       "  <thead>\n",
       "    <tr style=\"text-align: right;\">\n",
       "      <th></th>\n",
       "      <th>Id</th>\n",
       "      <th>CategoryName</th>\n",
       "      <th>Description</th>\n",
       "    </tr>\n",
       "  </thead>\n",
       "  <tbody>\n",
       "    <tr>\n",
       "      <th>0</th>\n",
       "      <td>1</td>\n",
       "      <td>Beverages</td>\n",
       "      <td>Soft drinks, coffees, teas, beers, and ales</td>\n",
       "    </tr>\n",
       "    <tr>\n",
       "      <th>1</th>\n",
       "      <td>2</td>\n",
       "      <td>Condiments</td>\n",
       "      <td>Sweet and savory sauces, relishes, spreads, an...</td>\n",
       "    </tr>\n",
       "  </tbody>\n",
       "</table>\n",
       "</div>"
      ],
      "text/plain": [
       "   Id CategoryName                                        Description\n",
       "0   1    Beverages        Soft drinks, coffees, teas, beers, and ales\n",
       "1   2   Condiments  Sweet and savory sauces, relishes, spreads, an..."
      ]
     },
     "execution_count": 25,
     "metadata": {},
     "output_type": "execute_result"
    }
   ],
   "source": [
    "Category.head(2)"
   ]
  },
  {
   "cell_type": "code",
   "execution_count": 26,
   "metadata": {
    "ExecuteTime": {
     "end_time": "2020-03-19T15:11:55.599723Z",
     "start_time": "2020-03-19T15:11:55.582107Z"
    }
   },
   "outputs": [
    {
     "data": {
      "text/html": [
       "<div>\n",
       "<style scoped>\n",
       "    .dataframe tbody tr th:only-of-type {\n",
       "        vertical-align: middle;\n",
       "    }\n",
       "\n",
       "    .dataframe tbody tr th {\n",
       "        vertical-align: top;\n",
       "    }\n",
       "\n",
       "    .dataframe thead th {\n",
       "        text-align: right;\n",
       "    }\n",
       "</style>\n",
       "<table border=\"1\" class=\"dataframe\">\n",
       "  <thead>\n",
       "    <tr style=\"text-align: right;\">\n",
       "      <th></th>\n",
       "      <th>Id</th>\n",
       "      <th>ProductName</th>\n",
       "      <th>SupplierId</th>\n",
       "      <th>CategoryId</th>\n",
       "      <th>QuantityPerUnit</th>\n",
       "      <th>UnitPrice</th>\n",
       "      <th>UnitsInStock</th>\n",
       "      <th>UnitsOnOrder</th>\n",
       "      <th>ReorderLevel</th>\n",
       "      <th>Discontinued</th>\n",
       "    </tr>\n",
       "  </thead>\n",
       "  <tbody>\n",
       "    <tr>\n",
       "      <th>0</th>\n",
       "      <td>1</td>\n",
       "      <td>Chai</td>\n",
       "      <td>1</td>\n",
       "      <td>1</td>\n",
       "      <td>10 boxes x 20 bags</td>\n",
       "      <td>18.0</td>\n",
       "      <td>39</td>\n",
       "      <td>0</td>\n",
       "      <td>10</td>\n",
       "      <td>0</td>\n",
       "    </tr>\n",
       "    <tr>\n",
       "      <th>1</th>\n",
       "      <td>2</td>\n",
       "      <td>Chang</td>\n",
       "      <td>1</td>\n",
       "      <td>1</td>\n",
       "      <td>24 - 12 oz bottles</td>\n",
       "      <td>19.0</td>\n",
       "      <td>17</td>\n",
       "      <td>40</td>\n",
       "      <td>25</td>\n",
       "      <td>0</td>\n",
       "    </tr>\n",
       "  </tbody>\n",
       "</table>\n",
       "</div>"
      ],
      "text/plain": [
       "   Id ProductName  SupplierId  CategoryId     QuantityPerUnit  UnitPrice  \\\n",
       "0   1        Chai           1           1  10 boxes x 20 bags       18.0   \n",
       "1   2       Chang           1           1  24 - 12 oz bottles       19.0   \n",
       "\n",
       "   UnitsInStock  UnitsOnOrder  ReorderLevel  Discontinued  \n",
       "0            39             0            10             0  \n",
       "1            17            40            25             0  "
      ]
     },
     "execution_count": 26,
     "metadata": {},
     "output_type": "execute_result"
    }
   ],
   "source": [
    "Product.head(2)"
   ]
  },
  {
   "cell_type": "code",
   "execution_count": 27,
   "metadata": {
    "ExecuteTime": {
     "end_time": "2020-03-19T15:11:55.627802Z",
     "start_time": "2020-03-19T15:11:55.603768Z"
    }
   },
   "outputs": [
    {
     "data": {
      "text/plain": [
       "Confections       13\n",
       "Condiments        12\n",
       "Seafood           12\n",
       "Beverages         12\n",
       "Dairy Products    10\n",
       "Grains/Cereals     7\n",
       "Meat/Poultry       6\n",
       "Produce            5\n",
       "Name: CategoryName, dtype: int64"
      ]
     },
     "execution_count": 27,
     "metadata": {},
     "output_type": "execute_result"
    }
   ],
   "source": [
    "Product[['CategoryId']]\\\n",
    ".merge(Category[['Id','CategoryName']],\n",
    "       left_on='CategoryId',\n",
    "       right_on='Id')\\\n",
    "['CategoryName'].value_counts(ascending=False)"
   ]
  },
  {
   "cell_type": "code",
   "execution_count": 28,
   "metadata": {
    "ExecuteTime": {
     "end_time": "2020-03-19T15:11:55.645836Z",
     "start_time": "2020-03-19T15:11:55.630921Z"
    }
   },
   "outputs": [
    {
     "data": {
      "text/html": [
       "<div>\n",
       "<style scoped>\n",
       "    .dataframe tbody tr th:only-of-type {\n",
       "        vertical-align: middle;\n",
       "    }\n",
       "\n",
       "    .dataframe tbody tr th {\n",
       "        vertical-align: top;\n",
       "    }\n",
       "\n",
       "    .dataframe thead th {\n",
       "        text-align: right;\n",
       "    }\n",
       "</style>\n",
       "<table border=\"1\" class=\"dataframe\">\n",
       "  <thead>\n",
       "    <tr style=\"text-align: right;\">\n",
       "      <th></th>\n",
       "      <th>CategoryName</th>\n",
       "      <th>count(CategoryName)</th>\n",
       "    </tr>\n",
       "  </thead>\n",
       "  <tbody>\n",
       "    <tr>\n",
       "      <th>0</th>\n",
       "      <td>Confections</td>\n",
       "      <td>13</td>\n",
       "    </tr>\n",
       "    <tr>\n",
       "      <th>1</th>\n",
       "      <td>Beverages</td>\n",
       "      <td>12</td>\n",
       "    </tr>\n",
       "    <tr>\n",
       "      <th>2</th>\n",
       "      <td>Condiments</td>\n",
       "      <td>12</td>\n",
       "    </tr>\n",
       "    <tr>\n",
       "      <th>3</th>\n",
       "      <td>Seafood</td>\n",
       "      <td>12</td>\n",
       "    </tr>\n",
       "    <tr>\n",
       "      <th>4</th>\n",
       "      <td>Dairy Products</td>\n",
       "      <td>10</td>\n",
       "    </tr>\n",
       "    <tr>\n",
       "      <th>5</th>\n",
       "      <td>Grains/Cereals</td>\n",
       "      <td>7</td>\n",
       "    </tr>\n",
       "    <tr>\n",
       "      <th>6</th>\n",
       "      <td>Meat/Poultry</td>\n",
       "      <td>6</td>\n",
       "    </tr>\n",
       "    <tr>\n",
       "      <th>7</th>\n",
       "      <td>Produce</td>\n",
       "      <td>5</td>\n",
       "    </tr>\n",
       "  </tbody>\n",
       "</table>\n",
       "</div>"
      ],
      "text/plain": [
       "     CategoryName  count(CategoryName)\n",
       "0     Confections                   13\n",
       "1       Beverages                   12\n",
       "2      Condiments                   12\n",
       "3         Seafood                   12\n",
       "4  Dairy Products                   10\n",
       "5  Grains/Cereals                    7\n",
       "6    Meat/Poultry                    6\n",
       "7         Produce                    5"
      ]
     },
     "execution_count": 28,
     "metadata": {},
     "output_type": "execute_result"
    }
   ],
   "source": [
    "q = \"\"\"\n",
    "select CategoryName, count(CategoryName)\n",
    "from Product P inner join Category C\n",
    "on P.CategoryId = C.Id\n",
    "group by CategoryName\n",
    "order by count(CategoryName) desc\n",
    "\"\"\"\n",
    "pd.read_sql(q,conn)"
   ]
  },
  {
   "cell_type": "code",
   "execution_count": 29,
   "metadata": {
    "ExecuteTime": {
     "end_time": "2020-03-19T15:11:55.654138Z",
     "start_time": "2020-03-19T15:11:55.649958Z"
    }
   },
   "outputs": [],
   "source": [
    "# spark.sql(q).show()"
   ]
  },
  {
   "cell_type": "code",
   "execution_count": null,
   "metadata": {
    "ExecuteTime": {
     "start_time": "2020-03-19T15:11:46.274Z"
    }
   },
   "outputs": [],
   "source": [
    "sProduct.select(['CategoryId'])\\\n",
    ".join(sCategory.withColumnRenamed('Id','CategoryId')\\\n",
    "               .select('CategoryId','CategoryName'),\n",
    "       on='CategoryId')\\\n",
    ".groupby('CategoryName')\\\n",
    ".count()\\\n",
    ".orderBy('count',ascending=False)\\\n",
    ".show()"
   ]
  },
  {
   "cell_type": "markdown",
   "metadata": {},
   "source": [
    "## 21. Total customers per country/city\n",
    "In the Customers table, show the total number of\n",
    "customers per Country and City."
   ]
  },
  {
   "cell_type": "code",
   "execution_count": null,
   "metadata": {
    "ExecuteTime": {
     "start_time": "2020-03-19T15:11:46.280Z"
    }
   },
   "outputs": [],
   "source": [
    "Customer.head(2)"
   ]
  },
  {
   "cell_type": "code",
   "execution_count": null,
   "metadata": {
    "ExecuteTime": {
     "start_time": "2020-03-19T15:11:46.284Z"
    }
   },
   "outputs": [],
   "source": [
    "Customer.groupby(['Country', 'City'])['Id']\\\n",
    ".count().rename('count').reset_index().head(2)"
   ]
  },
  {
   "cell_type": "code",
   "execution_count": null,
   "metadata": {
    "ExecuteTime": {
     "start_time": "2020-03-19T15:11:46.288Z"
    }
   },
   "outputs": [],
   "source": [
    "q = \"\"\"\n",
    "select Country, City, count(*) as count\n",
    "from Customer\n",
    "group by Country, City\n",
    "\"\"\"\n",
    "\n",
    "pd.read_sql(q,conn).head(2)"
   ]
  },
  {
   "cell_type": "code",
   "execution_count": null,
   "metadata": {
    "ExecuteTime": {
     "start_time": "2020-03-19T15:11:46.291Z"
    }
   },
   "outputs": [],
   "source": [
    "sCustomer.groupby(['Country', 'City']).count().show(2)"
   ]
  },
  {
   "cell_type": "markdown",
   "metadata": {},
   "source": [
    "## 22. Products that need reordering\n",
    "What products do we have in our inventory that\n",
    "should be reordered? For now, just use the fields\n",
    "UnitsInStock and ReorderLevel, where UnitsInStock\n",
    "is less than the ReorderLevel, ignoring the fields\n",
    "UnitsOnOrder and Discontinued.\n",
    "Order the results by ProductID."
   ]
  },
  {
   "cell_type": "code",
   "execution_count": null,
   "metadata": {
    "ExecuteTime": {
     "start_time": "2020-03-19T15:11:46.295Z"
    }
   },
   "outputs": [],
   "source": [
    "Product.head(2)"
   ]
  },
  {
   "cell_type": "code",
   "execution_count": null,
   "metadata": {
    "ExecuteTime": {
     "start_time": "2020-03-19T15:11:46.299Z"
    }
   },
   "outputs": [],
   "source": [
    "Product[Product.UnitsInStock < Product.ReorderLevel].sort_values('Id')\\\n",
    "[['Id','ProductName','UnitsInStock','ReorderLevel']]"
   ]
  },
  {
   "cell_type": "code",
   "execution_count": null,
   "metadata": {
    "ExecuteTime": {
     "start_time": "2020-03-19T15:11:46.302Z"
    }
   },
   "outputs": [],
   "source": [
    "q = \"\"\"\n",
    "select Id, ProductName, UnitsInStock, ReorderLevel\n",
    "from Product\n",
    "where UnitsInStock < ReorderLevel\n",
    "order by Id\n",
    "\"\"\"\n",
    "\n",
    "# pd.read_sql(q,conn)"
   ]
  },
  {
   "cell_type": "code",
   "execution_count": null,
   "metadata": {
    "ExecuteTime": {
     "start_time": "2020-03-19T15:11:46.306Z"
    }
   },
   "outputs": [],
   "source": [
    "# spark.sql(q).show()"
   ]
  },
  {
   "cell_type": "code",
   "execution_count": null,
   "metadata": {
    "ExecuteTime": {
     "start_time": "2020-03-19T15:11:46.310Z"
    }
   },
   "outputs": [],
   "source": [
    "sProduct[sProduct.UnitsInStock < sProduct.ReorderLevel].orderBy('Id')\\\n",
    "[['Id','ProductName','UnitsInStock','ReorderLevel']]"
   ]
  },
  {
   "cell_type": "markdown",
   "metadata": {},
   "source": [
    "## 23. Products that need reordering, continued\n",
    "Now we need to incorporate these fields—\n",
    "UnitsInStock, UnitsOnOrder, ReorderLevel,\n",
    "Discontinued—into our calculation. We’ll define\n",
    "“products that need reordering” with the following:\n",
    "- UnitsInStock plus UnitsOnOrder are less than\n",
    "or equal to ReorderLevel\n",
    "- The Discontinued flag is false (0)."
   ]
  },
  {
   "cell_type": "code",
   "execution_count": null,
   "metadata": {
    "ExecuteTime": {
     "start_time": "2020-03-19T15:11:46.313Z"
    }
   },
   "outputs": [],
   "source": [
    "Product.head(2)"
   ]
  },
  {
   "cell_type": "code",
   "execution_count": null,
   "metadata": {
    "ExecuteTime": {
     "start_time": "2020-03-19T15:11:46.317Z"
    }
   },
   "outputs": [],
   "source": [
    "cond1 = (Product['UnitsInStock'] + Product['UnitsOnOrder']) <= Product['ReorderLevel']\n",
    "\n",
    "cond2 = Product['Discontinued'] == 0\n",
    "cond = cond1 & cond2\n",
    "\n",
    "Product[cond][['UnitsInStock', 'UnitsOnOrder', 'ReorderLevel', 'Discontinued']]"
   ]
  },
  {
   "cell_type": "code",
   "execution_count": null,
   "metadata": {
    "ExecuteTime": {
     "start_time": "2020-03-19T15:11:46.321Z"
    }
   },
   "outputs": [],
   "source": [
    "q = \"\"\"\n",
    "select UnitsInStock, UnitsOnOrder, ReorderLevel, Discontinued\n",
    "from Product\n",
    "where (UnitsInStock + UnitsOnOrder) <= ReorderLevel\n",
    "    and Discontinued = 0\n",
    "\"\"\"\n",
    "\n",
    "pd.read_sql(q,conn)"
   ]
  },
  {
   "cell_type": "code",
   "execution_count": null,
   "metadata": {
    "ExecuteTime": {
     "start_time": "2020-03-19T15:11:46.324Z"
    }
   },
   "outputs": [],
   "source": [
    "cond1 = (sProduct['UnitsInStock'] + \n",
    "         sProduct['UnitsOnOrder']\n",
    "        ) <= sProduct['ReorderLevel']\n",
    "\n",
    "cond2 = sProduct['Discontinued'] == 0\n",
    "cond = cond1 & cond2\n",
    "\n",
    "sProduct[cond][['UnitsInStock', 'UnitsOnOrder',\n",
    "                'ReorderLevel', 'Discontinued']].show()"
   ]
  },
  {
   "cell_type": "markdown",
   "metadata": {},
   "source": [
    "## 24. Customer list by region\n",
    "A salesperson for Northwind is going on a business\n",
    "trip to visit customers, and would like to see a list of\n",
    "all customers, sorted by region, alphabetically.\n",
    "However, he wants the customers with no region\n",
    "(null in the Region field) to be at the end, instead of\n",
    "at the top, where you’d normally find the null values.\n",
    "Within the same region, companies should be sorted\n",
    "by CustomerID."
   ]
  },
  {
   "cell_type": "code",
   "execution_count": null,
   "metadata": {
    "ExecuteTime": {
     "start_time": "2020-03-19T15:11:46.328Z"
    }
   },
   "outputs": [],
   "source": [
    "Customer.head(2)"
   ]
  },
  {
   "cell_type": "code",
   "execution_count": null,
   "metadata": {
    "ExecuteTime": {
     "start_time": "2020-03-19T15:11:46.332Z"
    }
   },
   "outputs": [],
   "source": [
    "Customer[['Id','CompanyName','Region']].sort_values(['Region','Id']).head(4)"
   ]
  },
  {
   "cell_type": "code",
   "execution_count": null,
   "metadata": {
    "ExecuteTime": {
     "start_time": "2020-03-19T15:11:46.336Z"
    }
   },
   "outputs": [],
   "source": [
    "q = \"\"\"\n",
    "-- Note: we need two same columns.\n",
    "select Id, CompanyName, Region\n",
    "from Customer\n",
    "\n",
    "order by\n",
    "\n",
    "region is null, region, id \n",
    "-- case when Region is null then 1 else 0 end asc, region asc,  Id asc\n",
    "\"\"\"\n",
    "pd.read_sql(q,conn).head(2)"
   ]
  },
  {
   "cell_type": "code",
   "execution_count": null,
   "metadata": {
    "ExecuteTime": {
     "start_time": "2020-03-19T15:11:46.340Z"
    }
   },
   "outputs": [],
   "source": [
    "sCustomer.select('Id', 'CompanyName', 'Region').orderBy(\n",
    "    sCustomer.Region.asc_nulls_last(), 'Id').show(3)"
   ]
  },
  {
   "cell_type": "markdown",
   "metadata": {},
   "source": [
    "## 25. High freight charges\n",
    "Some of the countries we ship to have very high\n",
    "freight charges. We'd like to investigate some more\n",
    "shipping options for our customers, to be able to\n",
    "offer them lower freight charges. Return the three\n",
    "ship countries with the highest average freight\n",
    "overall, in descending order by average freight."
   ]
  },
  {
   "cell_type": "code",
   "execution_count": null,
   "metadata": {
    "ExecuteTime": {
     "start_time": "2020-03-19T15:11:46.346Z"
    }
   },
   "outputs": [],
   "source": [
    "Order.head(2)"
   ]
  },
  {
   "cell_type": "code",
   "execution_count": null,
   "metadata": {
    "ExecuteTime": {
     "start_time": "2020-03-19T15:11:46.350Z"
    }
   },
   "outputs": [],
   "source": [
    "# good\n",
    "Order.groupby('shipcountry')['freight'].mean().rename('avg_freight').nlargest(3).reset_index()"
   ]
  },
  {
   "cell_type": "code",
   "execution_count": null,
   "metadata": {
    "ExecuteTime": {
     "start_time": "2020-03-19T15:11:46.353Z"
    }
   },
   "outputs": [],
   "source": [
    "# good (Named Aggregation pandas 1.0)\n",
    "Order.groupby('shipcountry').agg(\n",
    "    avg_freight = ('freight','mean')\n",
    ").nlargest(3,'avg_freight')"
   ]
  },
  {
   "cell_type": "code",
   "execution_count": null,
   "metadata": {
    "ExecuteTime": {
     "start_time": "2020-03-19T15:11:46.358Z"
    }
   },
   "outputs": [],
   "source": [
    "# bad\n",
    "Order.groupby('shipcountry')['freight'].mean().sort_values(ascending=False).head(3)"
   ]
  },
  {
   "cell_type": "code",
   "execution_count": null,
   "metadata": {
    "ExecuteTime": {
     "start_time": "2020-03-19T15:11:46.369Z"
    }
   },
   "outputs": [],
   "source": [
    "q = \"\"\"select * from Orders limit 2\"\"\"\n",
    "pd.read_sql(q,conn)"
   ]
  },
  {
   "cell_type": "code",
   "execution_count": null,
   "metadata": {
    "ExecuteTime": {
     "start_time": "2020-03-19T15:11:46.373Z"
    }
   },
   "outputs": [],
   "source": [
    "# checking\n",
    "q = \"\"\"\n",
    "select shipcountry, avg(freight)\n",
    "\n",
    "from Orders\n",
    "group by shipcountry\n",
    "\"\"\"\n",
    "\n",
    "pd.read_sql(q,conn).style.highlight_max()"
   ]
  },
  {
   "cell_type": "code",
   "execution_count": null,
   "metadata": {
    "ExecuteTime": {
     "start_time": "2020-03-19T15:11:46.380Z"
    }
   },
   "outputs": [],
   "source": [
    "q = \"\"\"\n",
    "select shipcountry, avg(freight)\n",
    "from Orders\n",
    "group by shipcountry\n",
    "order by avg(freight) desc\n",
    "limit 3\n",
    "\"\"\"\n",
    "pd.read_sql(q,conn)"
   ]
  },
  {
   "cell_type": "code",
   "execution_count": null,
   "metadata": {
    "ExecuteTime": {
     "start_time": "2020-03-19T15:11:46.383Z"
    }
   },
   "outputs": [],
   "source": [
    "sOrder.groupby('shipcountry')\\\n",
    ".agg({'freight':'avg'})\\\n",
    ".orderBy('avg(freight)',ascending=False)\\\n",
    ".limit(3)\\\n",
    ".show()"
   ]
  },
  {
   "cell_type": "code",
   "execution_count": null,
   "metadata": {
    "ExecuteTime": {
     "start_time": "2020-03-19T15:11:46.390Z"
    }
   },
   "outputs": [],
   "source": [
    "spark.sql(q.replace('Orders','Order')).show()"
   ]
  },
  {
   "cell_type": "markdown",
   "metadata": {},
   "source": [
    "## 26. High freight charges - 1997\n",
    "We're continuing on the question above on high\n",
    "freight charges. Now, instead of using all the orders\n",
    "we have, we only want to see orders from the year\n",
    "1997."
   ]
  },
  {
   "cell_type": "code",
   "execution_count": null,
   "metadata": {
    "ExecuteTime": {
     "start_time": "2020-03-19T15:11:46.399Z"
    }
   },
   "outputs": [],
   "source": [
    "Order.head(2)"
   ]
  },
  {
   "cell_type": "code",
   "execution_count": null,
   "metadata": {
    "ExecuteTime": {
     "start_time": "2020-03-19T15:11:46.410Z"
    }
   },
   "outputs": [],
   "source": [
    "Order['orderdate'] = pd.to_datetime(Order['orderdate'])\n",
    "Order['requireddate'] = pd.to_datetime(Order['requireddate'])\n",
    "Order['shippeddate'] = pd.to_datetime(Order['shippeddate'])\n",
    "\n",
    "Order.head(2)"
   ]
  },
  {
   "cell_type": "code",
   "execution_count": null,
   "metadata": {
    "ExecuteTime": {
     "start_time": "2020-03-19T15:11:46.415Z"
    }
   },
   "outputs": [],
   "source": [
    "Order.orderdate.apply([min,max])"
   ]
  },
  {
   "cell_type": "code",
   "execution_count": null,
   "metadata": {
    "ExecuteTime": {
     "start_time": "2020-03-19T15:11:46.419Z"
    }
   },
   "outputs": [],
   "source": [
    "# I have altered data for Order so I will take 1997 instead of 2015."
   ]
  },
  {
   "cell_type": "code",
   "execution_count": null,
   "metadata": {
    "ExecuteTime": {
     "start_time": "2020-03-19T15:11:46.424Z"
    }
   },
   "outputs": [],
   "source": [
    "Order[Order.orderdate >= '1997-01-01'].head(2)"
   ]
  },
  {
   "cell_type": "code",
   "execution_count": null,
   "metadata": {
    "ExecuteTime": {
     "start_time": "2020-03-19T15:11:46.429Z"
    }
   },
   "outputs": [],
   "source": [
    "df1 = Order[Order.orderdate.between('1997-01-01','1998-01-01')]\n",
    "df1.head(2).append(df1.tail(2))\n",
    "# between is both inclusive"
   ]
  },
  {
   "cell_type": "code",
   "execution_count": null,
   "metadata": {
    "ExecuteTime": {
     "start_time": "2020-03-19T15:11:46.432Z"
    }
   },
   "outputs": [],
   "source": [
    "df1 = Order[ (Order.orderdate >= '1997-01-01') &\n",
    "             (Order.orderdate < '1998-01-01')]\n",
    "df1.head(2).append(df1.tail(2))"
   ]
  },
  {
   "cell_type": "code",
   "execution_count": null,
   "metadata": {
    "ExecuteTime": {
     "start_time": "2020-03-19T15:11:46.436Z"
    }
   },
   "outputs": [],
   "source": [
    "df1.groupby('shipcountry')[['freight']].mean().sort_values('freight',ascending=False)"
   ]
  },
  {
   "cell_type": "code",
   "execution_count": null,
   "metadata": {
    "ExecuteTime": {
     "start_time": "2020-03-19T15:11:46.439Z"
    }
   },
   "outputs": [],
   "source": [
    "Order[ (Order.orderdate >= '1997-01-01') &\n",
    "       (Order.orderdate < '1998-01-01')]\\\n",
    ".groupby('shipcountry')\\\n",
    ".agg(avg_freight = ('freight','mean')\n",
    ").nlargest(3,'avg_freight')"
   ]
  },
  {
   "cell_type": "code",
   "execution_count": null,
   "metadata": {
    "ExecuteTime": {
     "start_time": "2020-03-19T15:11:46.444Z"
    }
   },
   "outputs": [],
   "source": [
    "q = \"\"\"\n",
    "select * from Orders\n",
    "where orderdate between '1997-01-01' and '1998-01-01'\n",
    "limit 3\n",
    "\n",
    "\"\"\"\n",
    "\n",
    "pd.read_sql(q,conn)"
   ]
  },
  {
   "cell_type": "code",
   "execution_count": null,
   "metadata": {
    "ExecuteTime": {
     "start_time": "2020-03-19T15:11:46.449Z"
    }
   },
   "outputs": [],
   "source": [
    "# without casting as date\n",
    "# between is both end inclusive.\n",
    "q = \"\"\"\n",
    "select shipcountry, avg(freight)\n",
    "from Orders\n",
    "where orderdate between '1997-01-01' and '1997-12-31'\n",
    "group by shipcountry\n",
    "order by avg(freight) desc\n",
    "limit 3\n",
    "\"\"\"\n",
    "\n",
    "pd.read_sql(q,conn)"
   ]
  },
  {
   "cell_type": "code",
   "execution_count": null,
   "metadata": {
    "ExecuteTime": {
     "start_time": "2020-03-19T15:11:46.453Z"
    }
   },
   "outputs": [],
   "source": [
    "# using date\n",
    "q = \"\"\"\n",
    "select shipcountry, avg(freight)\n",
    "\n",
    "from Orders\n",
    "\n",
    "where    cast(orderdate as date) >= cast('1997-01-01' as date)\n",
    "    and  cast(orderdate as date) <  cast('1998-01-01' as date)\n",
    "\n",
    "group by shipcountry\n",
    "order by avg(freight) desc\n",
    "limit 3\n",
    "\"\"\"\n",
    "\n",
    "pd.read_sql(q,conn)"
   ]
  },
  {
   "cell_type": "code",
   "execution_count": null,
   "metadata": {
    "ExecuteTime": {
     "start_time": "2020-03-19T15:11:46.456Z"
    }
   },
   "outputs": [],
   "source": [
    "sOrder\\\n",
    "[ (sOrder.orderdate >= '1997-01-01') &\n",
    "  (sOrder.orderdate < '1998-01-01')]\\\n",
    ".groupby('shipcountry')\\\n",
    ".agg({'freight':'avg'})\\\n",
    ".orderBy('avg(freight)',ascending=False)\\\n",
    ".limit(3)\\\n",
    ".show()"
   ]
  },
  {
   "cell_type": "markdown",
   "metadata": {},
   "source": [
    "## 27. High freight charges with between"
   ]
  },
  {
   "cell_type": "code",
   "execution_count": null,
   "metadata": {
    "ExecuteTime": {
     "start_time": "2020-03-19T15:11:46.462Z"
    }
   },
   "outputs": [],
   "source": [
    "# This question simply asks not to use 'between' operator since \n",
    "# it is both inclusive."
   ]
  },
  {
   "cell_type": "markdown",
   "metadata": {},
   "source": [
    "## 28. High freight charges - last year\n",
    "We're continuing to work on high freight charges.\n",
    "We now want to get the three ship countries with the\n",
    "highest average freight charges. But instead of\n",
    "filtering for a particular year, we want to use the last\n",
    "12 months of order data, using as the end date the last\n",
    "OrderDate in Orders."
   ]
  },
  {
   "cell_type": "code",
   "execution_count": null,
   "metadata": {
    "ExecuteTime": {
     "start_time": "2020-03-19T15:11:46.467Z"
    }
   },
   "outputs": [],
   "source": [
    "# we only care sorted data last 12 months."
   ]
  },
  {
   "cell_type": "code",
   "execution_count": null,
   "metadata": {
    "ExecuteTime": {
     "start_time": "2020-03-19T15:11:46.472Z"
    }
   },
   "outputs": [],
   "source": [
    "Order.head(2)"
   ]
  },
  {
   "cell_type": "code",
   "execution_count": null,
   "metadata": {
    "ExecuteTime": {
     "start_time": "2020-03-19T15:11:46.478Z"
    }
   },
   "outputs": [],
   "source": [
    "Order.orderdate.max()"
   ]
  },
  {
   "cell_type": "code",
   "execution_count": null,
   "metadata": {
    "ExecuteTime": {
     "start_time": "2020-03-19T15:11:46.482Z"
    }
   },
   "outputs": [],
   "source": [
    "Order.orderdate.max() - pd.Timedelta('12 M') # 12 minutes before"
   ]
  },
  {
   "cell_type": "code",
   "execution_count": null,
   "metadata": {
    "ExecuteTime": {
     "start_time": "2020-03-19T15:11:46.487Z"
    }
   },
   "outputs": [],
   "source": [
    "Order.orderdate.max() - np.timedelta64(12,'M')"
   ]
  },
  {
   "cell_type": "code",
   "execution_count": null,
   "metadata": {
    "ExecuteTime": {
     "start_time": "2020-03-19T15:11:46.492Z"
    }
   },
   "outputs": [],
   "source": [
    "Order.orderdate.max() - pd.DateOffset(months=12)"
   ]
  },
  {
   "cell_type": "code",
   "execution_count": null,
   "metadata": {
    "ExecuteTime": {
     "start_time": "2020-03-19T15:11:46.498Z"
    }
   },
   "outputs": [],
   "source": [
    "pd.to_datetime('2020-12-31') - pd.DateOffset(months=12)"
   ]
  },
  {
   "cell_type": "code",
   "execution_count": null,
   "metadata": {
    "ExecuteTime": {
     "start_time": "2020-03-19T15:11:46.502Z"
    }
   },
   "outputs": [],
   "source": [
    "cond1 = Order.orderdate <= Order.orderdate.max()\n",
    "cond2 = Order.orderdate > (Order.orderdate.max() -\n",
    "                           pd.DateOffset(months=12))\n",
    "cond = cond1 & cond2\n",
    "\n",
    "df1 = Order[cond]\n",
    "df1.head(2)"
   ]
  },
  {
   "cell_type": "code",
   "execution_count": null,
   "metadata": {
    "ExecuteTime": {
     "start_time": "2020-03-19T15:11:46.506Z"
    }
   },
   "outputs": [],
   "source": [
    "# Order[Order.orderdate == Order.orderdate.max()].head(2)"
   ]
  },
  {
   "cell_type": "code",
   "execution_count": null,
   "metadata": {
    "ExecuteTime": {
     "start_time": "2020-03-19T15:11:46.511Z"
    }
   },
   "outputs": [],
   "source": [
    "Order[cond]\\\n",
    ".groupby('shipcountry')\\\n",
    ".agg(avg_freight = ('freight','mean')\n",
    ").nlargest(3,'avg_freight')"
   ]
  },
  {
   "cell_type": "code",
   "execution_count": null,
   "metadata": {
    "ExecuteTime": {
     "start_time": "2020-03-19T15:11:46.515Z"
    }
   },
   "outputs": [],
   "source": [
    "q = \"\"\"\n",
    "select \n",
    "\n",
    "date(orderdate )\n",
    "from Orders\n",
    "limit 3\n",
    "\"\"\"\n",
    "\n",
    "pd.read_sql(q,conn)"
   ]
  },
  {
   "cell_type": "code",
   "execution_count": null,
   "metadata": {
    "ExecuteTime": {
     "start_time": "2020-03-19T15:11:46.518Z"
    }
   },
   "outputs": [],
   "source": [
    "q = \"\"\"\n",
    "select \n",
    "date(orderdate , '-12 month')\n",
    "from Orders\n",
    "limit 3\n",
    "\"\"\"\n",
    "\n",
    "pd.read_sql(q,conn)"
   ]
  },
  {
   "cell_type": "code",
   "execution_count": null,
   "metadata": {
    "ExecuteTime": {
     "start_time": "2020-03-19T15:11:46.523Z"
    }
   },
   "outputs": [],
   "source": [
    "q = \"\"\"\n",
    "select \n",
    "max(orderdate)\n",
    "from Orders\n",
    "limit 3\n",
    "\"\"\"\n",
    "\n",
    "pd.read_sql(q,conn)"
   ]
  },
  {
   "cell_type": "code",
   "execution_count": null,
   "metadata": {
    "ExecuteTime": {
     "start_time": "2020-03-19T15:11:46.530Z"
    }
   },
   "outputs": [],
   "source": [
    "Order.orderdate.max()"
   ]
  },
  {
   "cell_type": "code",
   "execution_count": null,
   "metadata": {
    "ExecuteTime": {
     "start_time": "2020-03-19T15:11:46.546Z"
    }
   },
   "outputs": [],
   "source": [
    "q = \"\"\"\n",
    "select \n",
    "date(max(orderdate), '-12 month')\n",
    "from Orders\n",
    "limit 3\n",
    "\"\"\"\n",
    "\n",
    "pd.read_sql(q,conn)"
   ]
  },
  {
   "cell_type": "code",
   "execution_count": null,
   "metadata": {
    "ExecuteTime": {
     "start_time": "2020-03-19T15:11:46.553Z"
    }
   },
   "outputs": [],
   "source": [
    "q = \"\"\"\n",
    "select shipcountry, round(avg(freight),2)\n",
    "\n",
    "from Orders\n",
    "\n",
    "where date(orderdate) >= \n",
    "  (\n",
    "    select \n",
    "    date(max(orderdate),\n",
    "    '-12 month')\n",
    "    from Orders\n",
    "   )\n",
    "\n",
    "and  date(orderdate) <  \n",
    "    (\n",
    "    select \n",
    "    date(max(orderdate))\n",
    "    from Orders\n",
    "    )\n",
    "\n",
    "group by shipcountry\n",
    "order by avg(freight) desc\n",
    "limit 3\n",
    "\"\"\"\n",
    "\n",
    "pd.read_sql(q,conn)"
   ]
  },
  {
   "cell_type": "code",
   "execution_count": null,
   "metadata": {
    "ExecuteTime": {
     "start_time": "2020-03-19T15:11:46.557Z"
    }
   },
   "outputs": [],
   "source": [
    "sdf = sOrder[['orderdate','shipcountry','freight']]\n",
    "sdf.show(2)"
   ]
  },
  {
   "cell_type": "code",
   "execution_count": null,
   "metadata": {
    "ExecuteTime": {
     "start_time": "2020-03-19T15:11:46.564Z"
    }
   },
   "outputs": [],
   "source": [
    "orderdate_max = sOrder.agg({'orderdate':'max'}).collect()[0][0]\n",
    "\n",
    "orderdate_max"
   ]
  },
  {
   "cell_type": "code",
   "execution_count": null,
   "metadata": {
    "ExecuteTime": {
     "start_time": "2020-03-19T15:11:46.569Z"
    }
   },
   "outputs": [],
   "source": [
    "from datetime import datetime\n",
    "from dateutil.relativedelta import relativedelta\n",
    "\n",
    "last_year = orderdate_max - relativedelta(years=1)\n",
    "last_year"
   ]
  },
  {
   "cell_type": "code",
   "execution_count": null,
   "metadata": {
    "ExecuteTime": {
     "start_time": "2020-03-19T15:11:46.573Z"
    }
   },
   "outputs": [],
   "source": [
    "orderdate_max = sOrder.agg({'orderdate':'max'}).collect()[0][0]\n",
    "last_year = orderdate_max - relativedelta(years=1)\n",
    "\n",
    "cond1 = sOrder.orderdate <= orderdate_max\n",
    "cond2 = sOrder.orderdate > last_year\n",
    "cond = cond1 & cond2\n",
    "\n",
    "sOrder[cond]\\\n",
    ".groupby('shipcountry')\\\n",
    ".agg({'freight':'avg'})\\\n",
    ".orderBy('avg(freight)',ascending=False)\\\n",
    ".withColumn('avg_freight', F.round(F.col('avg(freight)'),2))\\\n",
    ".drop('avg(freight)')\\\n",
    ".limit(3)\\\n",
    ".show()"
   ]
  },
  {
   "cell_type": "code",
   "execution_count": null,
   "metadata": {
    "ExecuteTime": {
     "start_time": "2020-03-19T15:11:46.579Z"
    }
   },
   "outputs": [],
   "source": [
    "# spark.sql(q).show() # this does not work because of function date."
   ]
  },
  {
   "cell_type": "markdown",
   "metadata": {},
   "source": [
    "## 29. Inventory list\n",
    "We're doing inventory, and need to show information\n",
    "like the below, for all orders. Sort by OrderID and\n",
    "Product ID.\n",
    "\n",
    "Expected Results:\n",
    "\n",
    "`EmployeeID LastName OrderID ProductName Quantity`\n",
    "\n",
    "Look at the entity relation:\n",
    "![](images/northwind_entity_relation.png)"
   ]
  },
  {
   "cell_type": "code",
   "execution_count": null,
   "metadata": {
    "ExecuteTime": {
     "start_time": "2020-03-19T15:11:46.583Z"
    }
   },
   "outputs": [],
   "source": [
    "# from ER diagram, we see we need to join 4 tables:\n",
    "# products order_detals, orders, employees."
   ]
  },
  {
   "cell_type": "code",
   "execution_count": null,
   "metadata": {
    "ExecuteTime": {
     "start_time": "2020-03-19T15:11:46.588Z"
    }
   },
   "outputs": [],
   "source": [
    "Product.head(2)"
   ]
  },
  {
   "cell_type": "code",
   "execution_count": null,
   "metadata": {
    "ExecuteTime": {
     "start_time": "2020-03-19T15:11:46.599Z"
    }
   },
   "outputs": [],
   "source": [
    "OrderDetail.head(2)"
   ]
  },
  {
   "cell_type": "code",
   "execution_count": null,
   "metadata": {
    "ExecuteTime": {
     "start_time": "2020-03-19T15:11:46.611Z"
    },
    "scrolled": true
   },
   "outputs": [],
   "source": [
    "Order.head(2)"
   ]
  },
  {
   "cell_type": "code",
   "execution_count": null,
   "metadata": {
    "ExecuteTime": {
     "start_time": "2020-03-19T15:11:46.615Z"
    }
   },
   "outputs": [],
   "source": [
    "Employee.head(2)"
   ]
  },
  {
   "cell_type": "code",
   "execution_count": null,
   "metadata": {
    "ExecuteTime": {
     "start_time": "2020-03-19T15:11:46.618Z"
    }
   },
   "outputs": [],
   "source": [
    "p_od = (Product[['Id','ProductName']]\\\n",
    "    .rename(columns={'Id': 'ProductId'})\n",
    ".join(\n",
    "    OrderDetail[['OrderId','ProductId','Quantity']]\n",
    "    ,on='ProductId',lsuffix='',rsuffix='_od'\n",
    "    ).drop('ProductId_od',axis=1)\n",
    ")\n",
    "\n",
    "p_od.head(2)"
   ]
  },
  {
   "cell_type": "code",
   "execution_count": null,
   "metadata": {
    "ExecuteTime": {
     "start_time": "2020-03-19T15:11:46.622Z"
    }
   },
   "outputs": [],
   "source": [
    "Order[['orderid','employeeid']]\\\n",
    ".rename(columns={'orderid':'OrderID',\n",
    "                 'employeeid':'EmployeeID'})\\\n",
    ".head(2)"
   ]
  },
  {
   "cell_type": "code",
   "execution_count": null,
   "metadata": {
    "ExecuteTime": {
     "start_time": "2020-03-19T15:11:46.628Z"
    }
   },
   "outputs": [],
   "source": [
    "p_od_o = p_od.join(\n",
    "Order[['orderid','employeeid']]\\\n",
    ".rename(columns={'orderid':'OrderID',\n",
    "                 'employeeid':'EmployeeID'}))\n",
    "\n",
    "p_od_o.head(2)"
   ]
  },
  {
   "cell_type": "code",
   "execution_count": null,
   "metadata": {
    "ExecuteTime": {
     "start_time": "2020-03-19T15:11:46.632Z"
    }
   },
   "outputs": [],
   "source": [
    "Employee[['Id','LastName']]\\\n",
    ".rename(columns={'Id':'EmployeeID'})\\\n",
    ".head(2)"
   ]
  },
  {
   "cell_type": "code",
   "execution_count": null,
   "metadata": {
    "ExecuteTime": {
     "start_time": "2020-03-19T15:11:46.635Z"
    }
   },
   "outputs": [],
   "source": [
    "p_od_o_e = p_od_o.join(\n",
    "Employee[['Id','LastName']]\\\n",
    ".rename(columns={'Id':'EmployeeID'}),\n",
    "on='EmployeeID',lsuffix='',rsuffix='_emp'\n",
    ")\\\n",
    ".sort_values(['OrderID','ProductId'])\\\n",
    "[['EmployeeID','LastName','OrderID','ProductName','Quantity']]\n",
    "\n",
    "p_od_o_e.head(2)"
   ]
  },
  {
   "cell_type": "code",
   "execution_count": null,
   "metadata": {
    "ExecuteTime": {
     "start_time": "2020-03-19T15:11:46.638Z"
    }
   },
   "outputs": [],
   "source": [
    "q = \"\"\"\n",
    "-- look at different tables and write id of table below:\n",
    "select * from Orders limit 1\n",
    "\"\"\"\n",
    "\n",
    "pd.read_sql(q,conn)"
   ]
  },
  {
   "cell_type": "code",
   "execution_count": null,
   "metadata": {
    "ExecuteTime": {
     "start_time": "2020-03-19T15:11:46.643Z"
    }
   },
   "outputs": [],
   "source": [
    "\"\"\"\n",
    "Product.Id\n",
    "OrderDetail.orderid productid\n",
    "Orders orderid employeeid quantity\n",
    "Employee.Id LastName\n",
    "\"\"\";"
   ]
  },
  {
   "cell_type": "code",
   "execution_count": null,
   "metadata": {
    "ExecuteTime": {
     "start_time": "2020-03-19T15:11:46.651Z"
    }
   },
   "outputs": [],
   "source": [
    "q = \"\"\"\n",
    "select e.id as EmployeeId, e.lastname,\n",
    "       o.orderid as OrderId, p.productname, od.quantity\n",
    "\n",
    "from Product p \n",
    "join OrderDetail od on od.productid = p.id\n",
    "join Orders o on o.orderid = od.orderid\n",
    "join Employee e on e.id = o.employeeid\n",
    "\n",
    "order by o.orderid, od.productid\n",
    "\n",
    "limit 3\n",
    "\"\"\"\n",
    "\n",
    "pd.read_sql(q,conn)"
   ]
  },
  {
   "cell_type": "code",
   "execution_count": null,
   "metadata": {
    "ExecuteTime": {
     "start_time": "2020-03-19T15:11:46.655Z"
    }
   },
   "outputs": [],
   "source": [
    "spark.sql(q).show()"
   ]
  },
  {
   "cell_type": "markdown",
   "metadata": {},
   "source": [
    "## 30. Customers with no orders\n",
    "There are some customers who have never actually\n",
    "placed an order. Show these customers."
   ]
  },
  {
   "cell_type": "code",
   "execution_count": null,
   "metadata": {
    "ExecuteTime": {
     "start_time": "2020-03-19T15:11:46.661Z"
    }
   },
   "outputs": [],
   "source": [
    "Customer.head(2)"
   ]
  },
  {
   "cell_type": "code",
   "execution_count": null,
   "metadata": {
    "ExecuteTime": {
     "start_time": "2020-03-19T15:11:46.666Z"
    }
   },
   "outputs": [],
   "source": [
    "Order.head(2)"
   ]
  },
  {
   "cell_type": "code",
   "execution_count": null,
   "metadata": {
    "ExecuteTime": {
     "start_time": "2020-03-19T15:11:46.676Z"
    }
   },
   "outputs": [],
   "source": [
    "np.setdiff1d(Customer['Id'], Order['customerid'])"
   ]
  },
  {
   "cell_type": "code",
   "execution_count": null,
   "metadata": {
    "ExecuteTime": {
     "start_time": "2020-03-19T15:11:46.682Z"
    }
   },
   "outputs": [],
   "source": [
    "set(Customer['Id']).difference(Order['customerid'])"
   ]
  },
  {
   "cell_type": "code",
   "execution_count": null,
   "metadata": {
    "ExecuteTime": {
     "start_time": "2020-03-19T15:11:46.686Z"
    }
   },
   "outputs": [],
   "source": [
    "q = \"\"\"\n",
    "select * from Orders limit 1\n",
    "\"\"\"\n",
    "pd.read_sql(q,conn)"
   ]
  },
  {
   "cell_type": "code",
   "execution_count": null,
   "metadata": {
    "ExecuteTime": {
     "start_time": "2020-03-19T15:11:46.690Z"
    }
   },
   "outputs": [],
   "source": [
    "# Customer Id \n",
    "# Orders customerid\n"
   ]
  },
  {
   "cell_type": "code",
   "execution_count": null,
   "metadata": {
    "ExecuteTime": {
     "start_time": "2020-03-19T15:11:46.697Z"
    }
   },
   "outputs": [],
   "source": [
    "q = \"\"\"\n",
    "-- We need left join (default is inner join)\n",
    "select c.id, o.customerid\n",
    "from Customer c\n",
    "left join Orders o on o.customerid = c.id\n",
    "where o.customerid is null\n",
    "\"\"\"\n",
    "\n",
    "pd.read_sql(q,conn)"
   ]
  },
  {
   "cell_type": "markdown",
   "metadata": {},
   "source": [
    "## 31. Customers with no orders for EmployeeID 4\n",
    "One employee (Margaret Peacock, EmployeeID 4)\n",
    "has placed the most orders. However, there are some\n",
    "customers who've never placed an order with her.\n",
    "Show only those customers who have never placed\n",
    "an order with her."
   ]
  },
  {
   "cell_type": "code",
   "execution_count": null,
   "metadata": {
    "ExecuteTime": {
     "start_time": "2020-03-19T15:11:46.702Z"
    }
   },
   "outputs": [],
   "source": [
    "Order.head(2)\n",
    "# NOTE: order table has column customerid but these are not\n",
    "# all the customers, all the ids of customers are in table Customer."
   ]
  },
  {
   "cell_type": "code",
   "execution_count": null,
   "metadata": {
    "ExecuteTime": {
     "start_time": "2020-03-19T15:11:46.706Z"
    }
   },
   "outputs": [],
   "source": [
    "Order.shape"
   ]
  },
  {
   "cell_type": "code",
   "execution_count": null,
   "metadata": {
    "ExecuteTime": {
     "start_time": "2020-03-19T15:11:46.716Z"
    }
   },
   "outputs": [],
   "source": [
    "Order.employeeid.value_counts().head(2)"
   ]
  },
  {
   "cell_type": "code",
   "execution_count": null,
   "metadata": {
    "ExecuteTime": {
     "start_time": "2020-03-19T15:11:46.724Z"
    }
   },
   "outputs": [],
   "source": [
    "Employee[Employee.Id==4].head(2)"
   ]
  },
  {
   "cell_type": "code",
   "execution_count": null,
   "metadata": {
    "ExecuteTime": {
     "start_time": "2020-03-19T15:11:46.730Z"
    }
   },
   "outputs": [],
   "source": [
    "Customer.head(2)"
   ]
  },
  {
   "cell_type": "code",
   "execution_count": null,
   "metadata": {
    "ExecuteTime": {
     "start_time": "2020-03-19T15:11:46.744Z"
    }
   },
   "outputs": [],
   "source": [
    "np.setdiff1d(Customer['Id'],\n",
    "             Order.loc[Order.employeeid==4, 'customerid']) # .shape\n",
    "             "
   ]
  },
  {
   "cell_type": "code",
   "execution_count": null,
   "metadata": {
    "ExecuteTime": {
     "start_time": "2020-03-19T15:11:46.757Z"
    }
   },
   "outputs": [],
   "source": [
    "q = \"\"\"\n",
    "select * from Orders limit 2\n",
    "\"\"\"\n",
    "pd.read_sql(q,conn)"
   ]
  },
  {
   "cell_type": "code",
   "execution_count": null,
   "metadata": {
    "ExecuteTime": {
     "start_time": "2020-03-19T15:11:46.765Z"
    }
   },
   "outputs": [],
   "source": [
    "# Customer:  Id \n",
    "# Orders: customerid employeeid"
   ]
  },
  {
   "cell_type": "code",
   "execution_count": null,
   "metadata": {
    "ExecuteTime": {
     "start_time": "2020-03-19T15:11:46.778Z"
    }
   },
   "outputs": [],
   "source": [
    "q = \"\"\"\n",
    "select c.Id, o.customerid\n",
    "from Customer c\n",
    "left join Orders o on (o.customerid = c.id\n",
    "                      and o.employeeid = 4)\n",
    "where o.customerid is null\n",
    "\"\"\"\n",
    "pd.read_sql(q,conn)"
   ]
  },
  {
   "cell_type": "code",
   "execution_count": null,
   "metadata": {
    "ExecuteTime": {
     "start_time": "2020-03-19T15:11:46.783Z"
    }
   },
   "outputs": [],
   "source": [
    "spark.sql(q).show()"
   ]
  },
  {
   "cell_type": "code",
   "execution_count": null,
   "metadata": {
    "ExecuteTime": {
     "start_time": "2020-03-19T15:11:46.792Z"
    }
   },
   "outputs": [],
   "source": [
    "sCustomer[['Id']].show(2)"
   ]
  },
  {
   "cell_type": "code",
   "execution_count": null,
   "metadata": {
    "ExecuteTime": {
     "start_time": "2020-03-19T15:11:46.796Z"
    }
   },
   "outputs": [],
   "source": [
    "sOrder[sOrder.employeeid==4].select('customerid').show(2)"
   ]
  },
  {
   "cell_type": "code",
   "execution_count": null,
   "metadata": {
    "ExecuteTime": {
     "start_time": "2020-03-19T15:11:46.806Z"
    }
   },
   "outputs": [],
   "source": [
    "sCustomer.select('Id').subtract(\n",
    "sOrder[sOrder.employeeid==4].select('customerid')\n",
    ").show()"
   ]
  },
  {
   "cell_type": "markdown",
   "metadata": {},
   "source": [
    "# Time Taken"
   ]
  },
  {
   "cell_type": "code",
   "execution_count": null,
   "metadata": {
    "ExecuteTime": {
     "start_time": "2020-03-19T15:11:46.812Z"
    }
   },
   "outputs": [],
   "source": [
    "time_taken = time.time() - time_start_notebook\n",
    "h,m = divmod(time_taken,60*60)\n",
    "print('Time taken: {:.0f} hr {:.0f} min {:.0f} secs'.format(h, *divmod(m,60)))"
   ]
  }
 ],
 "metadata": {
  "kernelspec": {
   "display_name": "Python (dataSc)",
   "language": "python",
   "name": "datasc"
  },
  "language_info": {
   "codemirror_mode": {
    "name": "ipython",
    "version": 3
   },
   "file_extension": ".py",
   "mimetype": "text/x-python",
   "name": "python",
   "nbconvert_exporter": "python",
   "pygments_lexer": "ipython3",
   "version": "3.7.3"
  },
  "toc": {
   "base_numbering": 1,
   "nav_menu": {},
   "number_sections": true,
   "sideBar": true,
   "skip_h1_title": false,
   "title_cell": "Table of Contents",
   "title_sidebar": "Contents",
   "toc_cell": true,
   "toc_position": {},
   "toc_section_display": true,
   "toc_window_display": true
  }
 },
 "nbformat": 4,
 "nbformat_minor": 2
}
