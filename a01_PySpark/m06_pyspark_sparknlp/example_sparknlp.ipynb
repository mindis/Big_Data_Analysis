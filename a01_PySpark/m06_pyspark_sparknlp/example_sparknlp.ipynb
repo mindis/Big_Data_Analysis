{
 "cells": [
  {
   "cell_type": "markdown",
   "metadata": {
    "toc": true
   },
   "source": [
    "<h1>Table of Contents<span class=\"tocSkip\"></span></h1>\n",
    "<div class=\"toc\"><ul class=\"toc-item\"><li><span><a href=\"#Description\" data-toc-modified-id=\"Description-1\"><span class=\"toc-item-num\">1&nbsp;&nbsp;</span>Description</a></span></li><li><span><a href=\"#Sparknlp-setup\" data-toc-modified-id=\"Sparknlp-setup-2\"><span class=\"toc-item-num\">2&nbsp;&nbsp;</span>Sparknlp setup</a></span></li><li><span><a href=\"#Load-the-libraries\" data-toc-modified-id=\"Load-the-libraries-3\"><span class=\"toc-item-num\">3&nbsp;&nbsp;</span>Load the libraries</a></span></li><li><span><a href=\"#Script-(This-works)\" data-toc-modified-id=\"Script-(This-works)-4\"><span class=\"toc-item-num\">4&nbsp;&nbsp;</span>Script (This works)</a></span></li></ul></div>"
   ]
  },
  {
   "cell_type": "markdown",
   "metadata": {},
   "source": [
    "# Description\n",
    "Bert using sparknlp"
   ]
  },
  {
   "cell_type": "markdown",
   "metadata": {},
   "source": [
    "# Sparknlp setup"
   ]
  },
  {
   "cell_type": "code",
   "execution_count": 1,
   "metadata": {
    "ExecuteTime": {
     "end_time": "2020-09-09T00:01:20.484103Z",
     "start_time": "2020-09-09T00:01:20.480381Z"
    }
   },
   "outputs": [],
   "source": [
    "#=============== setup sparknlp\n",
    "import os\n",
    "import sys\n",
    "\n",
    "sys.path.append(\"/Users/poudel/opt/miniconda3/envs/mysparknlp/lib/python3.7/site-packages\")\n",
    "os.environ[\"SPARK_HOME\"] = \"/Users/poudel/Softwares/Spark/spark-2.4.4-bin-hadoop2.7\"\n",
    "os.environ[\"PYSPARK_PYTHON\"] = \"/Users/poudel/opt/miniconda3/envs/mysparknlp/bin/python\"\n",
    "os.environ[\"PYSPARK_DRIVER_PYTHON\"] = \"jupyter\"\n",
    "os.environ[\"PYSPARK_DRIVER_PYTHON_OPTS\"] = \"notebook\"\n",
    "#================ setup sparknlp end"
   ]
  },
  {
   "cell_type": "markdown",
   "metadata": {},
   "source": [
    "# Load the libraries"
   ]
  },
  {
   "cell_type": "code",
   "execution_count": 3,
   "metadata": {
    "ExecuteTime": {
     "end_time": "2020-09-07T23:05:49.512635Z",
     "start_time": "2020-09-07T23:05:39.888775Z"
    }
   },
   "outputs": [
    {
     "name": "stdout",
     "output_type": "stream",
     "text": [
      "+--------------------+-----+\n",
      "|                text|label|\n",
      "+--------------------+-----+\n",
      "|New York is the g...|    0|\n",
      "|The beauty of Par...|    1|\n",
      "|The Centre Pompid...|    1|\n",
      "+--------------------+-----+\n",
      "\n"
     ]
    }
   ],
   "source": [
    "import sparknlp\n",
    "\n",
    "spark = sparknlp.start()\n",
    "data = [\n",
    "  (\"New York is the greatest city in the world\", 0),\n",
    "  (\"The beauty of Paris is vast\", 1),\n",
    "  (\"The Centre Pompidou is in Paris\", 1)\n",
    "]\n",
    "\n",
    "sdf = spark.createDataFrame(data, [\"text\",\"label\"])\n",
    "sdf.show()"
   ]
  },
  {
   "cell_type": "markdown",
   "metadata": {
    "ExecuteTime": {
     "end_time": "2020-09-07T21:33:39.830039Z",
     "start_time": "2020-09-07T21:33:39.704589Z"
    }
   },
   "source": [
    "# Script (This works)\n",
    "\n",
    "Download the spark2.4.4 version : https://archive.apache.org/dist/spark/spark-2.4.4/"
   ]
  },
  {
   "cell_type": "code",
   "execution_count": 4,
   "metadata": {
    "ExecuteTime": {
     "end_time": "2020-09-07T23:05:49.547337Z",
     "start_time": "2020-09-07T23:05:49.524953Z"
    }
   },
   "outputs": [
    {
     "name": "stdout",
     "output_type": "stream",
     "text": [
      "Overwriting myexports.sh\n"
     ]
    }
   ],
   "source": [
    "%%writefile myexports.sh\n",
    "export SPARK_HOME=/Users/poudel/Softwares/Spark/spark-2.4.4-bin-hadoop2.7\n",
    "export PYSPARK_PYTHON=/Users/poudel/opt/miniconda3/envs/mysparknlp/bin/python\n",
    "export PYSPARK_DRIVER_PYTHON=jupyter\n",
    "export PYSPARK_DRIVER_PYTHON_OPTS=notebook\n"
   ]
  },
  {
   "cell_type": "code",
   "execution_count": 5,
   "metadata": {
    "ExecuteTime": {
     "end_time": "2020-09-07T23:05:49.573848Z",
     "start_time": "2020-09-07T23:05:49.565057Z"
    }
   },
   "outputs": [
    {
     "name": "stdout",
     "output_type": "stream",
     "text": [
      "Overwriting test_sparknlp.py\n"
     ]
    }
   ],
   "source": [
    "%%writefile test_sparknlp.py\n",
    "import sys\n",
    "\n",
    "sys.path.append(\"/Users/poudel/opt/miniconda3/envs/mysparknlp/lib/python3.7/site-packages\")\n",
    "\n",
    "import sparknlp\n",
    "\n",
    "\n",
    "spark = sparknlp.start()\n",
    "data = [\n",
    "  (\"New York is the greatest city in the world\", 0),\n",
    "  (\"The beauty of Paris is vast\", 1),\n",
    "  (\"The Centre Pompidou is in Paris\", 1)\n",
    "]\n",
    "\n",
    "sdf = spark.createDataFrame(data, [\"text\",\"label\"])\n",
    "print(sdf.show())"
   ]
  },
  {
   "cell_type": "code",
   "execution_count": null,
   "metadata": {},
   "outputs": [],
   "source": []
  }
 ],
 "metadata": {
  "kernelspec": {
   "display_name": "Python36(myspark)",
   "language": "python",
   "name": "mysparknlp"
  },
  "language_info": {
   "codemirror_mode": {
    "name": "ipython",
    "version": 3
   },
   "file_extension": ".py",
   "mimetype": "text/x-python",
   "name": "python",
   "nbconvert_exporter": "python",
   "pygments_lexer": "ipython3",
   "version": "3.6.10"
  },
  "toc": {
   "base_numbering": 1,
   "nav_menu": {},
   "number_sections": true,
   "sideBar": true,
   "skip_h1_title": false,
   "title_cell": "Table of Contents",
   "title_sidebar": "Contents",
   "toc_cell": true,
   "toc_position": {},
   "toc_section_display": true,
   "toc_window_display": false
  },
  "varInspector": {
   "cols": {
    "lenName": 16,
    "lenType": 16,
    "lenVar": 40
   },
   "kernels_config": {
    "python": {
     "delete_cmd_postfix": "",
     "delete_cmd_prefix": "del ",
     "library": "var_list.py",
     "varRefreshCmd": "print(var_dic_list())"
    },
    "r": {
     "delete_cmd_postfix": ") ",
     "delete_cmd_prefix": "rm(",
     "library": "var_list.r",
     "varRefreshCmd": "cat(var_dic_list()) "
    }
   },
   "types_to_exclude": [
    "module",
    "function",
    "builtin_function_or_method",
    "instance",
    "_Feature"
   ],
   "window_display": false
  }
 },
 "nbformat": 4,
 "nbformat_minor": 4
}
