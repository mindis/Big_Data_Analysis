{
 "cells": [
  {
   "cell_type": "markdown",
   "metadata": {
    "toc": true
   },
   "source": [
    "<h1>Table of Contents<span class=\"tocSkip\"></span></h1>\n",
    "<div class=\"toc\"><ul class=\"toc-item\"><li><span><a href=\"#Imports\" data-toc-modified-id=\"Imports-1\"><span class=\"toc-item-num\">1&nbsp;&nbsp;</span>Imports</a></span></li><li><span><a href=\"#Utility-Functions\" data-toc-modified-id=\"Utility-Functions-2\"><span class=\"toc-item-num\">2&nbsp;&nbsp;</span>Utility Functions</a></span></li><li><span><a href=\"#Create-Tables\" data-toc-modified-id=\"Create-Tables-3\"><span class=\"toc-item-num\">3&nbsp;&nbsp;</span>Create Tables</a></span></li><li><span><a href=\"#Wikibooks-SQL-Exercise:-Employee-management\" data-toc-modified-id=\"Wikibooks-SQL-Exercise:-Employee-management-4\"><span class=\"toc-item-num\">4&nbsp;&nbsp;</span>Wikibooks SQL Exercise: Employee management</a></span><ul class=\"toc-item\"><li><span><a href=\"#data:-Movies\" data-toc-modified-id=\"data:-Movies-4.1\"><span class=\"toc-item-num\">4.1&nbsp;&nbsp;</span>data: Movies</a></span></li><li><span><a href=\"#data:-MovieTheaters\" data-toc-modified-id=\"data:-MovieTheaters-4.2\"><span class=\"toc-item-num\">4.2&nbsp;&nbsp;</span>data: MovieTheaters</a></span></li><li><span><a href=\"#data:-combined-data\" data-toc-modified-id=\"data:-combined-data-4.3\"><span class=\"toc-item-num\">4.3&nbsp;&nbsp;</span>data: combined data</a></span></li><li><span><a href=\"#merge-two-dataframes-using-pyspark\" data-toc-modified-id=\"merge-two-dataframes-using-pyspark-4.4\"><span class=\"toc-item-num\">4.4&nbsp;&nbsp;</span>merge two dataframes using pyspark</a></span></li><li><span><a href=\"#spark-dataframe-attributes\" data-toc-modified-id=\"spark-dataframe-attributes-4.5\"><span class=\"toc-item-num\">4.5&nbsp;&nbsp;</span>spark dataframe attributes</a></span></li></ul></li><li><span><a href=\"#Create-SQL-table-from-spark-dataframes\" data-toc-modified-id=\"Create-SQL-table-from-spark-dataframes-5\"><span class=\"toc-item-num\">5&nbsp;&nbsp;</span>Create SQL table from spark dataframes</a></span></li><li><span><a href=\"#Exercise-Questions\" data-toc-modified-id=\"Exercise-Questions-6\"><span class=\"toc-item-num\">6&nbsp;&nbsp;</span>Exercise Questions</a></span><ul class=\"toc-item\"><li><span><a href=\"#1.-Select-the-title-of-all-movies.\" data-toc-modified-id=\"1.-Select-the-title-of-all-movies.-6.1\"><span class=\"toc-item-num\">6.1&nbsp;&nbsp;</span>1. Select the title of all movies.</a></span></li><li><span><a href=\"#2.-Show-all-the-distinct-ratings-in-the-database.\" data-toc-modified-id=\"2.-Show-all-the-distinct-ratings-in-the-database.-6.2\"><span class=\"toc-item-num\">6.2&nbsp;&nbsp;</span>2. Show all the distinct ratings in the database.</a></span></li><li><span><a href=\"#3.-Show-all-unrated-movies.\" data-toc-modified-id=\"3.-Show-all-unrated-movies.-6.3\"><span class=\"toc-item-num\">6.3&nbsp;&nbsp;</span>3. Show all unrated movies.</a></span></li><li><span><a href=\"#4.-Select-all-movie-theaters-that-are-not-currently-showing-a-movie.\" data-toc-modified-id=\"4.-Select-all-movie-theaters-that-are-not-currently-showing-a-movie.-6.4\"><span class=\"toc-item-num\">6.4&nbsp;&nbsp;</span>4. Select all movie theaters that are not currently showing a movie.</a></span></li><li><span><a href=\"#5.-Select-all-data-from-all-movie-theaters-and,-additionally,-the-data-from-the-movie-that-is-being-shown-in-the-theater-(if-one-is-being-shown).\" data-toc-modified-id=\"5.-Select-all-data-from-all-movie-theaters-and,-additionally,-the-data-from-the-movie-that-is-being-shown-in-the-theater-(if-one-is-being-shown).-6.5\"><span class=\"toc-item-num\">6.5&nbsp;&nbsp;</span>5. Select all data from all movie theaters and, additionally, the data from the movie that is being shown in the theater (if one is being shown).</a></span></li><li><span><a href=\"#6.-Select-all-data-from-all-movies-and,-if-that-movie-is-being-shown-in-a-theater,-show-the-data-from-the-theater.\" data-toc-modified-id=\"6.-Select-all-data-from-all-movies-and,-if-that-movie-is-being-shown-in-a-theater,-show-the-data-from-the-theater.-6.6\"><span class=\"toc-item-num\">6.6&nbsp;&nbsp;</span>6. Select all data from all movies and, if that movie is being shown in a theater, show the data from the theater.</a></span></li><li><span><a href=\"#7.-Show-the-titles-of-movies-not-currently-being-shown-in-any-theaters.\" data-toc-modified-id=\"7.-Show-the-titles-of-movies-not-currently-being-shown-in-any-theaters.-6.7\"><span class=\"toc-item-num\">6.7&nbsp;&nbsp;</span>7. Show the titles of movies not currently being shown in any theaters.</a></span></li><li><span><a href=\"#8.-Add-the-unrated-movie-&quot;One,-Two,-Three&quot;.\" data-toc-modified-id=\"8.-Add-the-unrated-movie-&quot;One,-Two,-Three&quot;.-6.8\"><span class=\"toc-item-num\">6.8&nbsp;&nbsp;</span>8. Add the unrated movie \"One, Two, Three\".</a></span></li><li><span><a href=\"#9.-Set-the-rating-of-all-unrated-movies-to-&quot;G&quot;.\" data-toc-modified-id=\"9.-Set-the-rating-of-all-unrated-movies-to-&quot;G&quot;.-6.9\"><span class=\"toc-item-num\">6.9&nbsp;&nbsp;</span>9. Set the rating of all unrated movies to \"G\".</a></span></li><li><span><a href=\"#10.-Remove-movie-theaters-projecting-movies-rated-&quot;NC-17&quot;.\" data-toc-modified-id=\"10.-Remove-movie-theaters-projecting-movies-rated-&quot;NC-17&quot;.-6.10\"><span class=\"toc-item-num\">6.10&nbsp;&nbsp;</span>10. Remove movie theaters projecting movies rated \"NC-17\".</a></span></li></ul></li><li><span><a href=\"#Time-Taken\" data-toc-modified-id=\"Time-Taken-7\"><span class=\"toc-item-num\">7&nbsp;&nbsp;</span>Time Taken</a></span></li></ul></div>"
   ]
  },
  {
   "cell_type": "markdown",
   "metadata": {},
   "source": [
    "# Imports\n",
    "\n",
    "- https://en.wikibooks.org/wiki/SQL_Exercises\n",
    "- https://en.wikibooks.org/wiki/SQL_Exercises/Movie_theatres"
   ]
  },
  {
   "cell_type": "code",
   "execution_count": 1,
   "metadata": {
    "ExecuteTime": {
     "end_time": "2020-03-23T20:14:28.129502Z",
     "start_time": "2020-03-23T20:14:28.124676Z"
    }
   },
   "outputs": [],
   "source": [
    "import time\n",
    "time_start_notebook = time.time()"
   ]
  },
  {
   "cell_type": "code",
   "execution_count": 2,
   "metadata": {
    "ExecuteTime": {
     "end_time": "2020-03-23T20:14:31.972946Z",
     "start_time": "2020-03-23T20:14:28.134123Z"
    }
   },
   "outputs": [
    {
     "name": "stderr",
     "output_type": "stream",
     "text": [
      "/Users/poudel/miniconda3/envs/dataSc/lib/python3.7/site-packages/statsmodels/tools/_testing.py:19: FutureWarning: pandas.util.testing is deprecated. Use the functions in the public API at pandas.testing instead.\n",
      "  import pandas.util.testing as tm\n"
     ]
    }
   ],
   "source": [
    "from bhishan import bp # my personal library"
   ]
  },
  {
   "cell_type": "code",
   "execution_count": 3,
   "metadata": {
    "ExecuteTime": {
     "end_time": "2020-03-23T20:14:32.006354Z",
     "start_time": "2020-03-23T20:14:31.974957Z"
    }
   },
   "outputs": [],
   "source": [
    "import numpy as np\n",
    "import pandas as pd\n",
    "\n",
    "# Jupyter notebook settings for pandas\n",
    "pd.set_option('display.max_columns', 200)\n",
    "pd.set_option('display.max_rows', 100)"
   ]
  },
  {
   "cell_type": "code",
   "execution_count": 4,
   "metadata": {
    "ExecuteTime": {
     "end_time": "2020-03-23T20:14:32.035112Z",
     "start_time": "2020-03-23T20:14:32.025204Z"
    }
   },
   "outputs": [
    {
     "data": {
      "text/plain": [
       "'2.6.0'"
      ]
     },
     "execution_count": 4,
     "metadata": {},
     "output_type": "execute_result"
    }
   ],
   "source": [
    "from datetime import datetime\n",
    "from dateutil.relativedelta import relativedelta\n",
    "# last_year = datetime.now() - relativedelta(years=1)\n",
    "\n",
    "import sqlite3\n",
    "sqlite3.sqlite_version # sqlite database version 3.29\n",
    "sqlite3.version # python module version"
   ]
  },
  {
   "cell_type": "code",
   "execution_count": 5,
   "metadata": {
    "ExecuteTime": {
     "end_time": "2020-03-23T20:14:35.465915Z",
     "start_time": "2020-03-23T20:14:32.043264Z"
    }
   },
   "outputs": [
    {
     "name": "stdout",
     "output_type": "stream",
     "text": [
      "[('numpy', '1.18.1'), ('pandas', '1.0.1'), ('pyspark', '2.4.4')]\n"
     ]
    }
   ],
   "source": [
    "# pyspark\n",
    "import pyspark\n",
    "spark = pyspark.sql.SparkSession.builder.appName('bhishan').getOrCreate()\n",
    "print([(x.__name__,x.__version__) for x in [np, pd, pyspark]])\n",
    "\n",
    "# sql\n",
    "from pyspark.sql.functions import col as _col\n",
    "from pyspark.sql.functions import udf # @udf(\"integer\") def myfunc(x,y): return x - y\n",
    "from pyspark.sql import functions as F # stddev format_number date_format, dayofyear, when\n",
    "from pyspark.sql.window import Window\n",
    "\n",
    "from pyspark.sql.functions import (mean as _mean, min as _min,\n",
    "                                   max as _max, avg as _avg,\n",
    "                                   when as _when\n",
    "                                  )\n",
    "\n",
    "from pyspark.sql.types import StructField, StructType\n",
    "from pyspark.sql.types import IntegerType, FloatType, DoubleType,StringType"
   ]
  },
  {
   "cell_type": "code",
   "execution_count": 6,
   "metadata": {
    "ExecuteTime": {
     "end_time": "2020-03-23T20:14:35.478592Z",
     "start_time": "2020-03-23T20:14:35.468328Z"
    }
   },
   "outputs": [],
   "source": [
    "from pyspark import SparkConf, SparkContext, SQLContext\n",
    "\n",
    "spark = pyspark.sql.SparkSession.builder.appName('app').getOrCreate()\n",
    "sc = spark.sparkContext\n",
    "sqlContext = SQLContext(sc) # spark_df = sqlContext.createDataFrame(pandas_df)\n",
    "sc.setLogLevel(\"INFO\")"
   ]
  },
  {
   "cell_type": "markdown",
   "metadata": {},
   "source": [
    "# Utility Functions"
   ]
  },
  {
   "cell_type": "code",
   "execution_count": 7,
   "metadata": {
    "ExecuteTime": {
     "end_time": "2020-03-23T20:14:35.486091Z",
     "start_time": "2020-03-23T20:14:35.480604Z"
    }
   },
   "outputs": [],
   "source": [
    "def f(q,n=None):\n",
    "    return pd.read_sql(q,conn).head(n)\n",
    "\n",
    "def s(q,n=5):\n",
    "    sdf = spark.sql(q)\n",
    "    print(f'nrows: {sdf.count()}, ncols: {len(sdf.columns)}')\n",
    "    return sdf.show(n)"
   ]
  },
  {
   "cell_type": "markdown",
   "metadata": {},
   "source": [
    "# Create Tables"
   ]
  },
  {
   "cell_type": "code",
   "execution_count": 8,
   "metadata": {
    "ExecuteTime": {
     "end_time": "2020-03-23T20:14:35.522415Z",
     "start_time": "2020-03-23T20:14:35.515158Z"
    }
   },
   "outputs": [],
   "source": [
    "# create db if does not exist\n",
    "conn = sqlite3.connect(\"mydb.db\")\n",
    "cur = conn.cursor()"
   ]
  },
  {
   "cell_type": "code",
   "execution_count": 9,
   "metadata": {
    "ExecuteTime": {
     "end_time": "2020-03-23T20:14:35.530234Z",
     "start_time": "2020-03-23T20:14:35.524967Z"
    }
   },
   "outputs": [],
   "source": [
    "try:\n",
    "    cur.execute(\"drop table if exists Movies\")\n",
    "except:\n",
    "    pass"
   ]
  },
  {
   "cell_type": "code",
   "execution_count": 10,
   "metadata": {
    "ExecuteTime": {
     "end_time": "2020-03-23T20:14:35.567733Z",
     "start_time": "2020-03-23T20:14:35.534022Z"
    }
   },
   "outputs": [
    {
     "data": {
      "text/plain": [
       "<sqlite3.Cursor at 0x1234fac00>"
      ]
     },
     "execution_count": 10,
     "metadata": {},
     "output_type": "execute_result"
    }
   ],
   "source": [
    "cur.execute(\n",
    "\"\"\"\n",
    " CREATE TABLE Movies (\n",
    "   Code INTEGER PRIMARY KEY NOT NULL,\n",
    "   Title TEXT NOT NULL,\n",
    "   Rating TEXT \n",
    " )\n",
    "\"\"\")"
   ]
  },
  {
   "cell_type": "code",
   "execution_count": 11,
   "metadata": {
    "ExecuteTime": {
     "end_time": "2020-03-23T20:14:35.594323Z",
     "start_time": "2020-03-23T20:14:35.577733Z"
    }
   },
   "outputs": [],
   "source": [
    "try:\n",
    "    cur.execute(\"drop table if exists MovieTheaters\")\n",
    "except:\n",
    "    pass"
   ]
  },
  {
   "cell_type": "code",
   "execution_count": 12,
   "metadata": {
    "ExecuteTime": {
     "end_time": "2020-03-23T20:14:35.656449Z",
     "start_time": "2020-03-23T20:14:35.619546Z"
    }
   },
   "outputs": [
    {
     "data": {
      "text/plain": [
       "<sqlite3.Cursor at 0x1234fac00>"
      ]
     },
     "execution_count": 12,
     "metadata": {},
     "output_type": "execute_result"
    }
   ],
   "source": [
    "cur.execute(\n",
    "\"\"\"\n",
    " CREATE TABLE MovieTheaters (\n",
    "   Code INTEGER PRIMARY KEY NOT NULL,\n",
    "   Name TEXT NOT NULL,\n",
    "   Movie INTEGER  \n",
    "     CONSTRAINT fk_Movies_Code REFERENCES Movies(Code)\n",
    " )\n",
    "\"\"\")"
   ]
  },
  {
   "cell_type": "code",
   "execution_count": 13,
   "metadata": {
    "ExecuteTime": {
     "end_time": "2020-03-23T20:14:35.667087Z",
     "start_time": "2020-03-23T20:14:35.659184Z"
    }
   },
   "outputs": [],
   "source": [
    "data = \"\"\"\n",
    " INSERT INTO Movies(Code,Title,Rating) VALUES(9,'Citizen King','G');\n",
    " INSERT INTO Movies(Code,Title,Rating) VALUES(1,'Citizen Kane','PG');\n",
    " INSERT INTO Movies(Code,Title,Rating) VALUES(2,'Singin'' in the Rain','G');\n",
    " INSERT INTO Movies(Code,Title,Rating) VALUES(3,'The Wizard of Oz','G');\n",
    " INSERT INTO Movies(Code,Title,Rating) VALUES(4,'The Quiet Man',NULL);\n",
    " INSERT INTO Movies(Code,Title,Rating) VALUES(5,'North by Northwest',NULL);\n",
    " INSERT INTO Movies(Code,Title,Rating) VALUES(6,'The Last Tango in Paris','NC-17');\n",
    " INSERT INTO Movies(Code,Title,Rating) VALUES(7,'Some Like it Hot','PG-13');\n",
    " INSERT INTO Movies(Code,Title,Rating) VALUES(8,'A Night at the Opera',NULL);\n",
    " INSERT INTO MovieTheaters(Code,Name,Movie) VALUES(1,'Odeon',5);\n",
    " INSERT INTO MovieTheaters(Code,Name,Movie) VALUES(2,'Imperial',1);\n",
    " INSERT INTO MovieTheaters(Code,Name,Movie) VALUES(3,'Majestic',NULL);\n",
    " INSERT INTO MovieTheaters(Code,Name,Movie) VALUES(4,'Royale',6);\n",
    " INSERT INTO MovieTheaters(Code,Name,Movie) VALUES(5,'Paraiso',3);\n",
    " INSERT INTO MovieTheaters(Code,Name,Movie) VALUES(6,'Nickelodeon',NULL);\n",
    "\"\"\".split('\\n')\n",
    "\n",
    "for i,line in enumerate(data):\n",
    "    if line:\n",
    "        cur.execute(line.strip())\n",
    "        \n",
    "        \n",
    "conn.commit()"
   ]
  },
  {
   "cell_type": "markdown",
   "metadata": {},
   "source": [
    "# Wikibooks SQL Exercise: Employee management\n",
    "Relational Schema  \n",
    "(Right click the image, inspect and copy the element)  \n",
    "\n",
    "\n",
    "<img alt=\"Sql movie theaters.png\" src=\"//upload.wikimedia.org/wikipedia/commons/f/ff/Sql_movie_theaters.png\" decoding=\"async\" width=\"605\" height=\"78\" data-file-width=\"605\" data-file-height=\"78\">"
   ]
  },
  {
   "cell_type": "markdown",
   "metadata": {},
   "source": [
    "## data: Movies"
   ]
  },
  {
   "cell_type": "code",
   "execution_count": 14,
   "metadata": {
    "ExecuteTime": {
     "end_time": "2020-03-23T20:14:35.815156Z",
     "start_time": "2020-03-23T20:14:35.670628Z"
    }
   },
   "outputs": [
    {
     "name": "stdout",
     "output_type": "stream",
     "text": [
      "   Code                    Title Rating\n",
      "0     1             Citizen Kane     PG\n",
      "1     2      Singin' in the Rain      G\n",
      "2     3         The Wizard of Oz      G\n",
      "3     4            The Quiet Man   None\n",
      "4     5       North by Northwest   None\n",
      "5     6  The Last Tango in Paris  NC-17\n",
      "6     7         Some Like it Hot  PG-13\n",
      "7     8     A Night at the Opera   None\n",
      "8     9             Citizen King      G\n"
     ]
    }
   ],
   "source": [
    "pd.read_sql(\"select * from Movies\", conn).pipe(print)"
   ]
  },
  {
   "cell_type": "code",
   "execution_count": 15,
   "metadata": {
    "ExecuteTime": {
     "end_time": "2020-03-23T20:14:35.834736Z",
     "start_time": "2020-03-23T20:14:35.819691Z"
    }
   },
   "outputs": [
    {
     "data": {
      "text/html": [
       "<div>\n",
       "<style scoped>\n",
       "    .dataframe tbody tr th:only-of-type {\n",
       "        vertical-align: middle;\n",
       "    }\n",
       "\n",
       "    .dataframe tbody tr th {\n",
       "        vertical-align: top;\n",
       "    }\n",
       "\n",
       "    .dataframe thead th {\n",
       "        text-align: right;\n",
       "    }\n",
       "</style>\n",
       "<table border=\"1\" class=\"dataframe\">\n",
       "  <thead>\n",
       "    <tr style=\"text-align: right;\">\n",
       "      <th></th>\n",
       "      <th>Code</th>\n",
       "      <th>Title</th>\n",
       "      <th>Rating</th>\n",
       "    </tr>\n",
       "  </thead>\n",
       "  <tbody>\n",
       "    <tr>\n",
       "      <th>0</th>\n",
       "      <td>1</td>\n",
       "      <td>Citizen Kane</td>\n",
       "      <td>PG</td>\n",
       "    </tr>\n",
       "    <tr>\n",
       "      <th>1</th>\n",
       "      <td>2</td>\n",
       "      <td>Singin' in the Rain</td>\n",
       "      <td>G</td>\n",
       "    </tr>\n",
       "    <tr>\n",
       "      <th>2</th>\n",
       "      <td>3</td>\n",
       "      <td>The Wizard of Oz</td>\n",
       "      <td>G</td>\n",
       "    </tr>\n",
       "    <tr>\n",
       "      <th>3</th>\n",
       "      <td>4</td>\n",
       "      <td>The Quiet Man</td>\n",
       "      <td>None</td>\n",
       "    </tr>\n",
       "    <tr>\n",
       "      <th>4</th>\n",
       "      <td>5</td>\n",
       "      <td>North by Northwest</td>\n",
       "      <td>None</td>\n",
       "    </tr>\n",
       "    <tr>\n",
       "      <th>5</th>\n",
       "      <td>6</td>\n",
       "      <td>The Last Tango in Paris</td>\n",
       "      <td>NC-17</td>\n",
       "    </tr>\n",
       "    <tr>\n",
       "      <th>6</th>\n",
       "      <td>7</td>\n",
       "      <td>Some Like it Hot</td>\n",
       "      <td>PG-13</td>\n",
       "    </tr>\n",
       "    <tr>\n",
       "      <th>7</th>\n",
       "      <td>8</td>\n",
       "      <td>A Night at the Opera</td>\n",
       "      <td>None</td>\n",
       "    </tr>\n",
       "    <tr>\n",
       "      <th>8</th>\n",
       "      <td>9</td>\n",
       "      <td>Citizen King</td>\n",
       "      <td>G</td>\n",
       "    </tr>\n",
       "  </tbody>\n",
       "</table>\n",
       "</div>"
      ],
      "text/plain": [
       "   Code                    Title Rating\n",
       "0     1             Citizen Kane     PG\n",
       "1     2      Singin' in the Rain      G\n",
       "2     3         The Wizard of Oz      G\n",
       "3     4            The Quiet Man   None\n",
       "4     5       North by Northwest   None\n",
       "5     6  The Last Tango in Paris  NC-17\n",
       "6     7         Some Like it Hot  PG-13\n",
       "7     8     A Night at the Opera   None\n",
       "8     9             Citizen King      G"
      ]
     },
     "execution_count": 15,
     "metadata": {},
     "output_type": "execute_result"
    }
   ],
   "source": [
    "dfm = pd.DataFrame({\n",
    "    'Code': range(1,10),\n",
    "    'Title': ['Citizen Kane', \"Singin' in the Rain\",\n",
    "              'The Wizard of Oz', 'The Quiet Man',\n",
    "              'North by Northwest', 'The Last Tango in Paris',\n",
    "              'Some Like it Hot', 'A Night at the Opera',\n",
    "              'Citizen King'],\n",
    "    'Rating': ['PG', 'G', 'G',\n",
    "                    None, None, 'NC-17',\n",
    "                    'PG-13', None, 'G']})\n",
    "dfm"
   ]
  },
  {
   "cell_type": "code",
   "execution_count": 16,
   "metadata": {
    "ExecuteTime": {
     "end_time": "2020-03-23T20:14:35.846245Z",
     "start_time": "2020-03-23T20:14:35.837224Z"
    }
   },
   "outputs": [
    {
     "data": {
      "text/plain": [
       "Code       int64\n",
       "Title     object\n",
       "Rating    object\n",
       "dtype: object"
      ]
     },
     "execution_count": 16,
     "metadata": {},
     "output_type": "execute_result"
    }
   ],
   "source": [
    "dfm.dtypes"
   ]
  },
  {
   "cell_type": "code",
   "execution_count": 17,
   "metadata": {
    "ExecuteTime": {
     "end_time": "2020-03-23T20:14:39.476835Z",
     "start_time": "2020-03-23T20:14:35.848458Z"
    }
   },
   "outputs": [
    {
     "name": "stdout",
     "output_type": "stream",
     "text": [
      "+----+--------------------+------+\n",
      "|Code|               Title|Rating|\n",
      "+----+--------------------+------+\n",
      "|   1|        Citizen Kane|    PG|\n",
      "|   2| Singin' in the Rain|     G|\n",
      "|   3|    The Wizard of Oz|     G|\n",
      "|   4|       The Quiet Man|  null|\n",
      "|   5|  North by Northwest|  null|\n",
      "|   6|The Last Tango in...| NC-17|\n",
      "|   7|    Some Like it Hot| PG-13|\n",
      "|   8|A Night at the Opera|  null|\n",
      "|   9|        Citizen King|     G|\n",
      "+----+--------------------+------+\n",
      "\n"
     ]
    }
   ],
   "source": [
    "schema = StructType([\n",
    "    StructField('Code',IntegerType(),True),\n",
    "    StructField('Title',StringType(),True),\n",
    "    StructField('Rating',StringType(),True),\n",
    "    ])\n",
    "\n",
    "sdfm = sqlContext.createDataFrame(dfm, schema)\n",
    "sdfm.show()"
   ]
  },
  {
   "cell_type": "markdown",
   "metadata": {},
   "source": [
    "## data: MovieTheaters"
   ]
  },
  {
   "cell_type": "code",
   "execution_count": 18,
   "metadata": {
    "ExecuteTime": {
     "end_time": "2020-03-23T20:14:39.489107Z",
     "start_time": "2020-03-23T20:14:39.480848Z"
    }
   },
   "outputs": [
    {
     "name": "stdout",
     "output_type": "stream",
     "text": [
      "   Code         Name  Movie\n",
      "0     1        Odeon    5.0\n",
      "1     2     Imperial    1.0\n",
      "2     3     Majestic    NaN\n",
      "3     4       Royale    6.0\n",
      "4     5      Paraiso    3.0\n",
      "5     6  Nickelodeon    NaN\n"
     ]
    }
   ],
   "source": [
    "pd.read_sql(\"select * from MovieTheaters\", conn).pipe(print)"
   ]
  },
  {
   "cell_type": "code",
   "execution_count": 19,
   "metadata": {
    "ExecuteTime": {
     "end_time": "2020-03-23T20:14:39.509750Z",
     "start_time": "2020-03-23T20:14:39.493777Z"
    }
   },
   "outputs": [
    {
     "data": {
      "text/html": [
       "<div>\n",
       "<style scoped>\n",
       "    .dataframe tbody tr th:only-of-type {\n",
       "        vertical-align: middle;\n",
       "    }\n",
       "\n",
       "    .dataframe tbody tr th {\n",
       "        vertical-align: top;\n",
       "    }\n",
       "\n",
       "    .dataframe thead th {\n",
       "        text-align: right;\n",
       "    }\n",
       "</style>\n",
       "<table border=\"1\" class=\"dataframe\">\n",
       "  <thead>\n",
       "    <tr style=\"text-align: right;\">\n",
       "      <th></th>\n",
       "      <th>Code</th>\n",
       "      <th>Name</th>\n",
       "      <th>Movie</th>\n",
       "    </tr>\n",
       "  </thead>\n",
       "  <tbody>\n",
       "    <tr>\n",
       "      <th>0</th>\n",
       "      <td>1</td>\n",
       "      <td>Odeon</td>\n",
       "      <td>5.0</td>\n",
       "    </tr>\n",
       "    <tr>\n",
       "      <th>1</th>\n",
       "      <td>2</td>\n",
       "      <td>Imperial</td>\n",
       "      <td>1.0</td>\n",
       "    </tr>\n",
       "    <tr>\n",
       "      <th>2</th>\n",
       "      <td>3</td>\n",
       "      <td>Majestic</td>\n",
       "      <td>NaN</td>\n",
       "    </tr>\n",
       "    <tr>\n",
       "      <th>3</th>\n",
       "      <td>4</td>\n",
       "      <td>Royale</td>\n",
       "      <td>6.0</td>\n",
       "    </tr>\n",
       "    <tr>\n",
       "      <th>4</th>\n",
       "      <td>5</td>\n",
       "      <td>Paraiso</td>\n",
       "      <td>3.0</td>\n",
       "    </tr>\n",
       "    <tr>\n",
       "      <th>5</th>\n",
       "      <td>6</td>\n",
       "      <td>Nickelodeon</td>\n",
       "      <td>NaN</td>\n",
       "    </tr>\n",
       "  </tbody>\n",
       "</table>\n",
       "</div>"
      ],
      "text/plain": [
       "   Code         Name  Movie\n",
       "0     1        Odeon    5.0\n",
       "1     2     Imperial    1.0\n",
       "2     3     Majestic    NaN\n",
       "3     4       Royale    6.0\n",
       "4     5      Paraiso    3.0\n",
       "5     6  Nickelodeon    NaN"
      ]
     },
     "execution_count": 19,
     "metadata": {},
     "output_type": "execute_result"
    }
   ],
   "source": [
    "dft = pd.DataFrame({\n",
    "    'Code': [1, 2, 3, 4, 5, 6],\n",
    "    'Name': ['Odeon', 'Imperial', 'Majestic',\n",
    "             'Royale', 'Paraiso', 'Nickelodeon'],\n",
    "    'Movie': [5.0, 1.0, np.nan, 6.0, 3.0, np.nan]})\n",
    "dft"
   ]
  },
  {
   "cell_type": "code",
   "execution_count": 20,
   "metadata": {
    "ExecuteTime": {
     "end_time": "2020-03-23T20:14:39.518696Z",
     "start_time": "2020-03-23T20:14:39.512363Z"
    }
   },
   "outputs": [
    {
     "data": {
      "text/plain": [
       "Code       int64\n",
       "Name      object\n",
       "Movie    float64\n",
       "dtype: object"
      ]
     },
     "execution_count": 20,
     "metadata": {},
     "output_type": "execute_result"
    }
   ],
   "source": [
    "dft.dtypes"
   ]
  },
  {
   "cell_type": "code",
   "execution_count": 21,
   "metadata": {
    "ExecuteTime": {
     "end_time": "2020-03-23T20:14:39.864946Z",
     "start_time": "2020-03-23T20:14:39.522310Z"
    }
   },
   "outputs": [
    {
     "name": "stdout",
     "output_type": "stream",
     "text": [
      "+----+-----------+-----+\n",
      "|Code|       Name|Movie|\n",
      "+----+-----------+-----+\n",
      "|   1|      Odeon|  5.0|\n",
      "|   2|   Imperial|  1.0|\n",
      "|   3|   Majestic|  NaN|\n",
      "|   4|     Royale|  6.0|\n",
      "|   5|    Paraiso|  3.0|\n",
      "|   6|Nickelodeon|  NaN|\n",
      "+----+-----------+-----+\n",
      "\n"
     ]
    }
   ],
   "source": [
    "schema = StructType([\n",
    "    StructField('Code',IntegerType(),True),\n",
    "    StructField('Name',StringType(),True),\n",
    "    StructField('Movie',FloatType(),True),\n",
    "\n",
    "    ])\n",
    "\n",
    "sdft = sqlContext.createDataFrame(dft, schema)\n",
    "sdft.show()"
   ]
  },
  {
   "cell_type": "code",
   "execution_count": 22,
   "metadata": {
    "ExecuteTime": {
     "end_time": "2020-03-23T20:14:39.872800Z",
     "start_time": "2020-03-23T20:14:39.869358Z"
    }
   },
   "outputs": [],
   "source": [
    "# sdft.printSchema()"
   ]
  },
  {
   "cell_type": "markdown",
   "metadata": {},
   "source": [
    "## data: combined data"
   ]
  },
  {
   "cell_type": "code",
   "execution_count": 23,
   "metadata": {
    "ExecuteTime": {
     "end_time": "2020-03-23T20:14:39.902093Z",
     "start_time": "2020-03-23T20:14:39.876672Z"
    }
   },
   "outputs": [
    {
     "data": {
      "text/html": [
       "<div>\n",
       "<style scoped>\n",
       "    .dataframe tbody tr th:only-of-type {\n",
       "        vertical-align: middle;\n",
       "    }\n",
       "\n",
       "    .dataframe tbody tr th {\n",
       "        vertical-align: top;\n",
       "    }\n",
       "\n",
       "    .dataframe thead th {\n",
       "        text-align: right;\n",
       "    }\n",
       "</style>\n",
       "<table border=\"1\" class=\"dataframe\">\n",
       "  <thead>\n",
       "    <tr style=\"text-align: right;\">\n",
       "      <th></th>\n",
       "      <th>Code_m</th>\n",
       "      <th>Title</th>\n",
       "      <th>Rating</th>\n",
       "      <th>Code_t</th>\n",
       "      <th>Name</th>\n",
       "      <th>Movie</th>\n",
       "    </tr>\n",
       "  </thead>\n",
       "  <tbody>\n",
       "    <tr>\n",
       "      <th>0</th>\n",
       "      <td>1</td>\n",
       "      <td>Citizen Kane</td>\n",
       "      <td>PG</td>\n",
       "      <td>2</td>\n",
       "      <td>Imperial</td>\n",
       "      <td>1.0</td>\n",
       "    </tr>\n",
       "    <tr>\n",
       "      <th>1</th>\n",
       "      <td>3</td>\n",
       "      <td>The Wizard of Oz</td>\n",
       "      <td>G</td>\n",
       "      <td>5</td>\n",
       "      <td>Paraiso</td>\n",
       "      <td>3.0</td>\n",
       "    </tr>\n",
       "    <tr>\n",
       "      <th>2</th>\n",
       "      <td>5</td>\n",
       "      <td>North by Northwest</td>\n",
       "      <td>None</td>\n",
       "      <td>1</td>\n",
       "      <td>Odeon</td>\n",
       "      <td>5.0</td>\n",
       "    </tr>\n",
       "    <tr>\n",
       "      <th>3</th>\n",
       "      <td>6</td>\n",
       "      <td>The Last Tango in Paris</td>\n",
       "      <td>NC-17</td>\n",
       "      <td>4</td>\n",
       "      <td>Royale</td>\n",
       "      <td>6.0</td>\n",
       "    </tr>\n",
       "  </tbody>\n",
       "</table>\n",
       "</div>"
      ],
      "text/plain": [
       "   Code_m                    Title Rating  Code_t      Name  Movie\n",
       "0       1             Citizen Kane     PG       2  Imperial    1.0\n",
       "1       3         The Wizard of Oz      G       5   Paraiso    3.0\n",
       "2       5       North by Northwest   None       1     Odeon    5.0\n",
       "3       6  The Last Tango in Paris  NC-17       4    Royale    6.0"
      ]
     },
     "execution_count": 23,
     "metadata": {},
     "output_type": "execute_result"
    }
   ],
   "source": [
    "df = dfm.merge(dft,left_on='Code', right_on='Movie',suffixes=['_m','_t'])\n",
    "df"
   ]
  },
  {
   "cell_type": "markdown",
   "metadata": {},
   "source": [
    "## merge two dataframes using pyspark\n",
    "\n",
    "- we need to rename common columns of two tables."
   ]
  },
  {
   "cell_type": "code",
   "execution_count": 24,
   "metadata": {
    "ExecuteTime": {
     "end_time": "2020-03-23T20:14:39.916466Z",
     "start_time": "2020-03-23T20:14:39.908026Z"
    }
   },
   "outputs": [
    {
     "data": {
      "text/plain": [
       "(['Code', 'Name', 'Movie'], ['Code', 'Title', 'Rating'], {'Code'})"
      ]
     },
     "execution_count": 24,
     "metadata": {},
     "output_type": "execute_result"
    }
   ],
   "source": [
    "cols1 = sdft.columns\n",
    "cols2  = sdfm.columns\n",
    "cols_common = set(cols1) & set(cols2)\n",
    "cols1, cols2, cols_common"
   ]
  },
  {
   "cell_type": "code",
   "execution_count": 25,
   "metadata": {
    "ExecuteTime": {
     "end_time": "2020-03-23T20:14:39.924661Z",
     "start_time": "2020-03-23T20:14:39.921765Z"
    }
   },
   "outputs": [],
   "source": [
    "# rename common columns of first spark dataframe."
   ]
  },
  {
   "cell_type": "code",
   "execution_count": 26,
   "metadata": {
    "ExecuteTime": {
     "end_time": "2020-03-23T20:14:40.170233Z",
     "start_time": "2020-03-23T20:14:39.929082Z"
    }
   },
   "outputs": [
    {
     "name": "stdout",
     "output_type": "stream",
     "text": [
      "+------+-------------------+------+\n",
      "|Code_m|              Title|Rating|\n",
      "+------+-------------------+------+\n",
      "|     1|       Citizen Kane|    PG|\n",
      "|     2|Singin' in the Rain|     G|\n",
      "+------+-------------------+------+\n",
      "only showing top 2 rows\n",
      "\n"
     ]
    }
   ],
   "source": [
    "sdfm2 = sdfm.withColumnRenamed('Code','Code_m')\n",
    "sdfm2.show(2)"
   ]
  },
  {
   "cell_type": "code",
   "execution_count": 27,
   "metadata": {
    "ExecuteTime": {
     "end_time": "2020-03-23T20:14:40.183802Z",
     "start_time": "2020-03-23T20:14:40.175950Z"
    }
   },
   "outputs": [],
   "source": [
    "# rename common columns of second spark dataframe."
   ]
  },
  {
   "cell_type": "code",
   "execution_count": 28,
   "metadata": {
    "ExecuteTime": {
     "end_time": "2020-03-23T20:14:40.433167Z",
     "start_time": "2020-03-23T20:14:40.190310Z"
    }
   },
   "outputs": [
    {
     "name": "stdout",
     "output_type": "stream",
     "text": [
      "+------+--------+-----+\n",
      "|Code_t|    Name|Movie|\n",
      "+------+--------+-----+\n",
      "|     1|   Odeon|  5.0|\n",
      "|     2|Imperial|  1.0|\n",
      "+------+--------+-----+\n",
      "only showing top 2 rows\n",
      "\n"
     ]
    }
   ],
   "source": [
    "sdft2 = sdft.withColumnRenamed('Code','Code_t')\n",
    "sdft2.show(2)"
   ]
  },
  {
   "cell_type": "code",
   "execution_count": 29,
   "metadata": {
    "ExecuteTime": {
     "end_time": "2020-03-23T20:14:40.442883Z",
     "start_time": "2020-03-23T20:14:40.438919Z"
    }
   },
   "outputs": [],
   "source": [
    "# now join two spark dataframes which have different column names."
   ]
  },
  {
   "cell_type": "code",
   "execution_count": 30,
   "metadata": {
    "ExecuteTime": {
     "end_time": "2020-03-23T20:14:42.734001Z",
     "start_time": "2020-03-23T20:14:40.446616Z"
    }
   },
   "outputs": [
    {
     "name": "stdout",
     "output_type": "stream",
     "text": [
      "+------+--------------------+------+------+--------+-----+\n",
      "|Code_m|               Title|Rating|Code_t|    Name|Movie|\n",
      "+------+--------------------+------+------+--------+-----+\n",
      "|     5|  North by Northwest|  null|     1|   Odeon|  5.0|\n",
      "|     3|    The Wizard of Oz|     G|     5| Paraiso|  3.0|\n",
      "|     1|        Citizen Kane|    PG|     2|Imperial|  1.0|\n",
      "|     6|The Last Tango in...| NC-17|     4|  Royale|  6.0|\n",
      "+------+--------------------+------+------+--------+-----+\n",
      "\n"
     ]
    }
   ],
   "source": [
    "sdf = sdfm2.join(sdft2,sdfm2.Code_m==sdft2.Movie)\n",
    "sdf.show()"
   ]
  },
  {
   "cell_type": "markdown",
   "metadata": {},
   "source": [
    "## spark dataframe attributes"
   ]
  },
  {
   "cell_type": "code",
   "execution_count": 31,
   "metadata": {
    "ExecuteTime": {
     "end_time": "2020-03-23T20:14:42.763391Z",
     "start_time": "2020-03-23T20:14:42.736635Z"
    }
   },
   "outputs": [
    {
     "data": {
      "text/html": [
       "<div>\n",
       "<style scoped>\n",
       "    .dataframe tbody tr th:only-of-type {\n",
       "        vertical-align: middle;\n",
       "    }\n",
       "\n",
       "    .dataframe tbody tr th {\n",
       "        vertical-align: top;\n",
       "    }\n",
       "\n",
       "    .dataframe thead th {\n",
       "        text-align: right;\n",
       "    }\n",
       "</style>\n",
       "<table border=\"1\" class=\"dataframe\">\n",
       "  <thead>\n",
       "    <tr style=\"text-align: right;\">\n",
       "      <th></th>\n",
       "      <th>0</th>\n",
       "      <th>1</th>\n",
       "      <th>2</th>\n",
       "      <th>3</th>\n",
       "    </tr>\n",
       "  </thead>\n",
       "  <tbody>\n",
       "    <tr>\n",
       "      <th>0</th>\n",
       "      <td>agg</td>\n",
       "      <td>dropDuplicates</td>\n",
       "      <td>join</td>\n",
       "      <td>sortWithinPartitions</td>\n",
       "    </tr>\n",
       "    <tr>\n",
       "      <th>1</th>\n",
       "      <td>alias</td>\n",
       "      <td>drop_duplicates</td>\n",
       "      <td>limit</td>\n",
       "      <td>sql_ctx</td>\n",
       "    </tr>\n",
       "    <tr>\n",
       "      <th>2</th>\n",
       "      <td>approxQuantile</td>\n",
       "      <td>dropna</td>\n",
       "      <td>localCheckpoint</td>\n",
       "      <td>stat</td>\n",
       "    </tr>\n",
       "    <tr>\n",
       "      <th>3</th>\n",
       "      <td>cache</td>\n",
       "      <td>dtypes</td>\n",
       "      <td>na</td>\n",
       "      <td>storageLevel</td>\n",
       "    </tr>\n",
       "    <tr>\n",
       "      <th>4</th>\n",
       "      <td>checkpoint</td>\n",
       "      <td>exceptAll</td>\n",
       "      <td>orderBy</td>\n",
       "      <td>subtract</td>\n",
       "    </tr>\n",
       "    <tr>\n",
       "      <th>5</th>\n",
       "      <td>coalesce</td>\n",
       "      <td>explain</td>\n",
       "      <td>persist</td>\n",
       "      <td>summary</td>\n",
       "    </tr>\n",
       "    <tr>\n",
       "      <th>6</th>\n",
       "      <td>colRegex</td>\n",
       "      <td>fillna</td>\n",
       "      <td>printSchema</td>\n",
       "      <td>take</td>\n",
       "    </tr>\n",
       "    <tr>\n",
       "      <th>7</th>\n",
       "      <td>collect</td>\n",
       "      <td>filter</td>\n",
       "      <td>randomSplit</td>\n",
       "      <td>toDF</td>\n",
       "    </tr>\n",
       "    <tr>\n",
       "      <th>8</th>\n",
       "      <td>columns</td>\n",
       "      <td>first</td>\n",
       "      <td>rdd</td>\n",
       "      <td>toJSON</td>\n",
       "    </tr>\n",
       "    <tr>\n",
       "      <th>9</th>\n",
       "      <td>corr</td>\n",
       "      <td>foreach</td>\n",
       "      <td>registerTempTable</td>\n",
       "      <td>toLocalIterator</td>\n",
       "    </tr>\n",
       "    <tr>\n",
       "      <th>10</th>\n",
       "      <td>count</td>\n",
       "      <td>foreachPartition</td>\n",
       "      <td>repartition</td>\n",
       "      <td>toPandas</td>\n",
       "    </tr>\n",
       "    <tr>\n",
       "      <th>11</th>\n",
       "      <td>cov</td>\n",
       "      <td>freqItems</td>\n",
       "      <td>repartitionByRange</td>\n",
       "      <td>union</td>\n",
       "    </tr>\n",
       "    <tr>\n",
       "      <th>12</th>\n",
       "      <td>createGlobalTempView</td>\n",
       "      <td>groupBy</td>\n",
       "      <td>replace</td>\n",
       "      <td>unionAll</td>\n",
       "    </tr>\n",
       "    <tr>\n",
       "      <th>13</th>\n",
       "      <td>createOrReplaceGlobalTempView</td>\n",
       "      <td>groupby</td>\n",
       "      <td>rollup</td>\n",
       "      <td>unionByName</td>\n",
       "    </tr>\n",
       "    <tr>\n",
       "      <th>14</th>\n",
       "      <td>createOrReplaceTempView</td>\n",
       "      <td>head</td>\n",
       "      <td>sample</td>\n",
       "      <td>unpersist</td>\n",
       "    </tr>\n",
       "    <tr>\n",
       "      <th>15</th>\n",
       "      <td>createTempView</td>\n",
       "      <td>hint</td>\n",
       "      <td>sampleBy</td>\n",
       "      <td>where</td>\n",
       "    </tr>\n",
       "    <tr>\n",
       "      <th>16</th>\n",
       "      <td>crossJoin</td>\n",
       "      <td>intersect</td>\n",
       "      <td>schema</td>\n",
       "      <td>withColumn</td>\n",
       "    </tr>\n",
       "    <tr>\n",
       "      <th>17</th>\n",
       "      <td>crosstab</td>\n",
       "      <td>intersectAll</td>\n",
       "      <td>select</td>\n",
       "      <td>withColumnRenamed</td>\n",
       "    </tr>\n",
       "    <tr>\n",
       "      <th>18</th>\n",
       "      <td>cube</td>\n",
       "      <td>isLocal</td>\n",
       "      <td>selectExpr</td>\n",
       "      <td>withWatermark</td>\n",
       "    </tr>\n",
       "    <tr>\n",
       "      <th>19</th>\n",
       "      <td>describe</td>\n",
       "      <td>isStreaming</td>\n",
       "      <td>show</td>\n",
       "      <td>write</td>\n",
       "    </tr>\n",
       "    <tr>\n",
       "      <th>20</th>\n",
       "      <td>distinct</td>\n",
       "      <td>is_cached</td>\n",
       "      <td>sort</td>\n",
       "      <td>writeStream</td>\n",
       "    </tr>\n",
       "    <tr>\n",
       "      <th>21</th>\n",
       "      <td>drop</td>\n",
       "      <td></td>\n",
       "      <td></td>\n",
       "      <td></td>\n",
       "    </tr>\n",
       "  </tbody>\n",
       "</table>\n",
       "</div>"
      ],
      "text/plain": [
       "                                0                 1                   2  \\\n",
       "0                             agg    dropDuplicates                join   \n",
       "1                           alias   drop_duplicates               limit   \n",
       "2                  approxQuantile            dropna     localCheckpoint   \n",
       "3                           cache            dtypes                  na   \n",
       "4                      checkpoint         exceptAll             orderBy   \n",
       "5                        coalesce           explain             persist   \n",
       "6                        colRegex            fillna         printSchema   \n",
       "7                         collect            filter         randomSplit   \n",
       "8                         columns             first                 rdd   \n",
       "9                            corr           foreach   registerTempTable   \n",
       "10                          count  foreachPartition         repartition   \n",
       "11                            cov         freqItems  repartitionByRange   \n",
       "12           createGlobalTempView           groupBy             replace   \n",
       "13  createOrReplaceGlobalTempView           groupby              rollup   \n",
       "14        createOrReplaceTempView              head              sample   \n",
       "15                 createTempView              hint            sampleBy   \n",
       "16                      crossJoin         intersect              schema   \n",
       "17                       crosstab      intersectAll              select   \n",
       "18                           cube           isLocal          selectExpr   \n",
       "19                       describe       isStreaming                show   \n",
       "20                       distinct         is_cached                sort   \n",
       "21                           drop                                         \n",
       "\n",
       "                       3  \n",
       "0   sortWithinPartitions  \n",
       "1                sql_ctx  \n",
       "2                   stat  \n",
       "3           storageLevel  \n",
       "4               subtract  \n",
       "5                summary  \n",
       "6                   take  \n",
       "7                   toDF  \n",
       "8                 toJSON  \n",
       "9        toLocalIterator  \n",
       "10              toPandas  \n",
       "11                 union  \n",
       "12              unionAll  \n",
       "13           unionByName  \n",
       "14             unpersist  \n",
       "15                 where  \n",
       "16            withColumn  \n",
       "17     withColumnRenamed  \n",
       "18         withWatermark  \n",
       "19                 write  \n",
       "20           writeStream  \n",
       "21                        "
      ]
     },
     "execution_count": 31,
     "metadata": {},
     "output_type": "execute_result"
    }
   ],
   "source": [
    "bp.show_method_attributes(sdf,4)\n",
    "# count, fillna, filter, where, groubpy, first, corr,\n",
    "# missing than pandas: max, min, sum, etc."
   ]
  },
  {
   "cell_type": "markdown",
   "metadata": {},
   "source": [
    "# Create SQL table from spark dataframes\n",
    "\n",
    "- https://spark.apache.org/docs/2.2.0/sql-programming-guide.html\n",
    "\n",
    "**Global Temporary View** \n",
    "\n",
    "Temporary views in Spark SQL are session-scoped and will disappear if the session that creates it terminates. If you want to have a temporary view that is shared among all sessions and keep alive until the Spark application terminates, you can create a global temporary view. Global temporary view is tied to a system preserved database global_temp, and we must use the qualified name to refer it, e.g. `SELECT * FROM global_temp.view1`."
   ]
  },
  {
   "cell_type": "code",
   "execution_count": 32,
   "metadata": {
    "ExecuteTime": {
     "end_time": "2020-03-23T20:14:43.890150Z",
     "start_time": "2020-03-23T20:14:42.765816Z"
    }
   },
   "outputs": [
    {
     "name": "stdout",
     "output_type": "stream",
     "text": [
      "+----+-------------------+------+\n",
      "|Code|              Title|Rating|\n",
      "+----+-------------------+------+\n",
      "|   1|       Citizen Kane|    PG|\n",
      "|   2|Singin' in the Rain|     G|\n",
      "+----+-------------------+------+\n",
      "\n"
     ]
    }
   ],
   "source": [
    "# Register the DataFrame as a SQL temporary view\n",
    "sdfm.createOrReplaceTempView(\"Movies\")\n",
    "sdft.createOrReplaceTempView(\"MovieTheaters\")\n",
    "sdf.createOrReplaceTempView(\"sdf\")\n",
    "\n",
    "spark.sql('select * from Movies limit 2').show()"
   ]
  },
  {
   "cell_type": "markdown",
   "metadata": {},
   "source": [
    "# Exercise Questions"
   ]
  },
  {
   "cell_type": "markdown",
   "metadata": {},
   "source": [
    "## 1. Select the title of all movies."
   ]
  },
  {
   "cell_type": "code",
   "execution_count": 33,
   "metadata": {
    "ExecuteTime": {
     "end_time": "2020-03-23T20:14:43.896960Z",
     "start_time": "2020-03-23T20:14:43.892453Z"
    }
   },
   "outputs": [],
   "source": [
    "# dfm['Title']"
   ]
  },
  {
   "cell_type": "code",
   "execution_count": 34,
   "metadata": {
    "ExecuteTime": {
     "end_time": "2020-03-23T20:14:43.908047Z",
     "start_time": "2020-03-23T20:14:43.899569Z"
    }
   },
   "outputs": [],
   "source": [
    "# sdfm.select('Title').show()"
   ]
  },
  {
   "cell_type": "code",
   "execution_count": 35,
   "metadata": {
    "ExecuteTime": {
     "end_time": "2020-03-23T20:14:43.920502Z",
     "start_time": "2020-03-23T20:14:43.917486Z"
    }
   },
   "outputs": [],
   "source": [
    "q = \"\"\"select title from Movies\"\"\";\n",
    "# f(q)"
   ]
  },
  {
   "cell_type": "code",
   "execution_count": 36,
   "metadata": {
    "ExecuteTime": {
     "end_time": "2020-03-23T20:14:43.926213Z",
     "start_time": "2020-03-23T20:14:43.923659Z"
    }
   },
   "outputs": [],
   "source": [
    "# s(q)"
   ]
  },
  {
   "cell_type": "markdown",
   "metadata": {},
   "source": [
    "## 2. Show all the distinct ratings in the database."
   ]
  },
  {
   "cell_type": "code",
   "execution_count": 37,
   "metadata": {
    "ExecuteTime": {
     "end_time": "2020-03-23T20:14:43.945436Z",
     "start_time": "2020-03-23T20:14:43.938937Z"
    }
   },
   "outputs": [
    {
     "data": {
      "text/plain": [
       "array(['PG', 'G', None, 'NC-17', 'PG-13'], dtype=object)"
      ]
     },
     "execution_count": 37,
     "metadata": {},
     "output_type": "execute_result"
    }
   ],
   "source": [
    "dfm['Rating'].unique()"
   ]
  },
  {
   "cell_type": "code",
   "execution_count": 38,
   "metadata": {
    "ExecuteTime": {
     "end_time": "2020-03-23T20:14:45.140285Z",
     "start_time": "2020-03-23T20:14:43.949205Z"
    }
   },
   "outputs": [
    {
     "name": "stdout",
     "output_type": "stream",
     "text": [
      "+------+\n",
      "|Rating|\n",
      "+------+\n",
      "|  null|\n",
      "|    PG|\n",
      "| NC-17|\n",
      "|     G|\n",
      "| PG-13|\n",
      "+------+\n",
      "\n"
     ]
    }
   ],
   "source": [
    "sdfm.select('Rating').distinct().show()"
   ]
  },
  {
   "cell_type": "code",
   "execution_count": 39,
   "metadata": {
    "ExecuteTime": {
     "end_time": "2020-03-23T20:14:45.145753Z",
     "start_time": "2020-03-23T20:14:45.142530Z"
    }
   },
   "outputs": [],
   "source": [
    "q = \"select distinct rating from Movies\"\n",
    "# f(q)"
   ]
  },
  {
   "cell_type": "code",
   "execution_count": 40,
   "metadata": {
    "ExecuteTime": {
     "end_time": "2020-03-23T20:14:45.151683Z",
     "start_time": "2020-03-23T20:14:45.148998Z"
    }
   },
   "outputs": [],
   "source": [
    "# s(q)"
   ]
  },
  {
   "cell_type": "markdown",
   "metadata": {},
   "source": [
    "## 3. Show all unrated movies."
   ]
  },
  {
   "cell_type": "code",
   "execution_count": 41,
   "metadata": {
    "ExecuteTime": {
     "end_time": "2020-03-23T20:14:45.164977Z",
     "start_time": "2020-03-23T20:14:45.154496Z"
    }
   },
   "outputs": [
    {
     "data": {
      "text/html": [
       "<div>\n",
       "<style scoped>\n",
       "    .dataframe tbody tr th:only-of-type {\n",
       "        vertical-align: middle;\n",
       "    }\n",
       "\n",
       "    .dataframe tbody tr th {\n",
       "        vertical-align: top;\n",
       "    }\n",
       "\n",
       "    .dataframe thead th {\n",
       "        text-align: right;\n",
       "    }\n",
       "</style>\n",
       "<table border=\"1\" class=\"dataframe\">\n",
       "  <thead>\n",
       "    <tr style=\"text-align: right;\">\n",
       "      <th></th>\n",
       "      <th>Code</th>\n",
       "      <th>Title</th>\n",
       "      <th>Rating</th>\n",
       "    </tr>\n",
       "  </thead>\n",
       "  <tbody>\n",
       "    <tr>\n",
       "      <th>3</th>\n",
       "      <td>4</td>\n",
       "      <td>The Quiet Man</td>\n",
       "      <td>None</td>\n",
       "    </tr>\n",
       "    <tr>\n",
       "      <th>4</th>\n",
       "      <td>5</td>\n",
       "      <td>North by Northwest</td>\n",
       "      <td>None</td>\n",
       "    </tr>\n",
       "    <tr>\n",
       "      <th>7</th>\n",
       "      <td>8</td>\n",
       "      <td>A Night at the Opera</td>\n",
       "      <td>None</td>\n",
       "    </tr>\n",
       "  </tbody>\n",
       "</table>\n",
       "</div>"
      ],
      "text/plain": [
       "   Code                 Title Rating\n",
       "3     4         The Quiet Man   None\n",
       "4     5    North by Northwest   None\n",
       "7     8  A Night at the Opera   None"
      ]
     },
     "execution_count": 41,
     "metadata": {},
     "output_type": "execute_result"
    }
   ],
   "source": [
    "dfm[dfm.Rating.isnull()]"
   ]
  },
  {
   "cell_type": "code",
   "execution_count": 42,
   "metadata": {
    "ExecuteTime": {
     "end_time": "2020-03-23T20:14:45.337685Z",
     "start_time": "2020-03-23T20:14:45.167726Z"
    }
   },
   "outputs": [
    {
     "name": "stdout",
     "output_type": "stream",
     "text": [
      "+----+--------------------+------+\n",
      "|Code|               Title|Rating|\n",
      "+----+--------------------+------+\n",
      "|   4|       The Quiet Man|  null|\n",
      "|   5|  North by Northwest|  null|\n",
      "|   8|A Night at the Opera|  null|\n",
      "+----+--------------------+------+\n",
      "\n"
     ]
    }
   ],
   "source": [
    "sdfm.filter(sdfm.Rating.isNull()).show()"
   ]
  },
  {
   "cell_type": "code",
   "execution_count": 43,
   "metadata": {
    "ExecuteTime": {
     "end_time": "2020-03-23T20:14:45.351095Z",
     "start_time": "2020-03-23T20:14:45.345638Z"
    }
   },
   "outputs": [],
   "source": [
    "q = \"select * from Movies where Rating is null\"\n",
    "# f(q)"
   ]
  },
  {
   "cell_type": "code",
   "execution_count": 44,
   "metadata": {
    "ExecuteTime": {
     "end_time": "2020-03-23T20:14:45.989432Z",
     "start_time": "2020-03-23T20:14:45.355726Z"
    }
   },
   "outputs": [
    {
     "name": "stdout",
     "output_type": "stream",
     "text": [
      "nrows: 3, ncols: 3\n",
      "+----+--------------------+------+\n",
      "|Code|               Title|Rating|\n",
      "+----+--------------------+------+\n",
      "|   4|       The Quiet Man|  null|\n",
      "|   5|  North by Northwest|  null|\n",
      "|   8|A Night at the Opera|  null|\n",
      "+----+--------------------+------+\n",
      "\n"
     ]
    }
   ],
   "source": [
    "s(q)"
   ]
  },
  {
   "cell_type": "markdown",
   "metadata": {},
   "source": [
    "## 4. Select all movie theaters that are not currently showing a movie."
   ]
  },
  {
   "cell_type": "code",
   "execution_count": 45,
   "metadata": {
    "ExecuteTime": {
     "end_time": "2020-03-23T20:14:46.003771Z",
     "start_time": "2020-03-23T20:14:45.991572Z"
    }
   },
   "outputs": [
    {
     "data": {
      "text/html": [
       "<div>\n",
       "<style scoped>\n",
       "    .dataframe tbody tr th:only-of-type {\n",
       "        vertical-align: middle;\n",
       "    }\n",
       "\n",
       "    .dataframe tbody tr th {\n",
       "        vertical-align: top;\n",
       "    }\n",
       "\n",
       "    .dataframe thead th {\n",
       "        text-align: right;\n",
       "    }\n",
       "</style>\n",
       "<table border=\"1\" class=\"dataframe\">\n",
       "  <thead>\n",
       "    <tr style=\"text-align: right;\">\n",
       "      <th></th>\n",
       "      <th>Code</th>\n",
       "      <th>Name</th>\n",
       "      <th>Movie</th>\n",
       "    </tr>\n",
       "  </thead>\n",
       "  <tbody>\n",
       "    <tr>\n",
       "      <th>2</th>\n",
       "      <td>3</td>\n",
       "      <td>Majestic</td>\n",
       "      <td>NaN</td>\n",
       "    </tr>\n",
       "    <tr>\n",
       "      <th>5</th>\n",
       "      <td>6</td>\n",
       "      <td>Nickelodeon</td>\n",
       "      <td>NaN</td>\n",
       "    </tr>\n",
       "  </tbody>\n",
       "</table>\n",
       "</div>"
      ],
      "text/plain": [
       "   Code         Name  Movie\n",
       "2     3     Majestic    NaN\n",
       "5     6  Nickelodeon    NaN"
      ]
     },
     "execution_count": 45,
     "metadata": {},
     "output_type": "execute_result"
    }
   ],
   "source": [
    "dft[dft.Movie.isnull()]"
   ]
  },
  {
   "cell_type": "code",
   "execution_count": 46,
   "metadata": {
    "ExecuteTime": {
     "end_time": "2020-03-23T20:14:46.314004Z",
     "start_time": "2020-03-23T20:14:46.006611Z"
    }
   },
   "outputs": [
    {
     "name": "stdout",
     "output_type": "stream",
     "text": [
      "+----+----+-----+\n",
      "|Code|Name|Movie|\n",
      "+----+----+-----+\n",
      "+----+----+-----+\n",
      "\n",
      "+----+----+-----+\n",
      "|Code|Name|Movie|\n",
      "+----+----+-----+\n",
      "+----+----+-----+\n",
      "\n"
     ]
    }
   ],
   "source": [
    "sdft.filter(sdft.Movie.isNull()).show() # fails, gives empty result\n",
    "sdft.where(F.isnull('Movie')).show() # gives empty result"
   ]
  },
  {
   "cell_type": "code",
   "execution_count": 47,
   "metadata": {
    "ExecuteTime": {
     "end_time": "2020-03-23T20:14:46.504208Z",
     "start_time": "2020-03-23T20:14:46.316898Z"
    }
   },
   "outputs": [
    {
     "name": "stdout",
     "output_type": "stream",
     "text": [
      "+----+-----------+-----+\n",
      "|Code|       Name|Movie|\n",
      "+----+-----------+-----+\n",
      "|   3|   Majestic|  NaN|\n",
      "|   6|Nickelodeon|  NaN|\n",
      "+----+-----------+-----+\n",
      "\n"
     ]
    }
   ],
   "source": [
    "spark.sql(\"\"\"select * from MovieTheaters where Movie = 'NaN' \"\"\").show()"
   ]
  },
  {
   "cell_type": "code",
   "execution_count": 48,
   "metadata": {
    "ExecuteTime": {
     "end_time": "2020-03-23T20:14:46.726160Z",
     "start_time": "2020-03-23T20:14:46.506853Z"
    }
   },
   "outputs": [
    {
     "name": "stdout",
     "output_type": "stream",
     "text": [
      "+----+-----------+-----+\n",
      "|Code|       Name|Movie|\n",
      "+----+-----------+-----+\n",
      "|   3|   Majestic|  NaN|\n",
      "|   6|Nickelodeon|  NaN|\n",
      "+----+-----------+-----+\n",
      "\n"
     ]
    }
   ],
   "source": [
    "spark.sql(\"select * from MovieTheaters where isnan(Movie)\").show()"
   ]
  },
  {
   "cell_type": "code",
   "execution_count": 49,
   "metadata": {
    "ExecuteTime": {
     "end_time": "2020-03-23T20:14:46.740193Z",
     "start_time": "2020-03-23T20:14:46.728853Z"
    }
   },
   "outputs": [
    {
     "data": {
      "text/html": [
       "<div>\n",
       "<style scoped>\n",
       "    .dataframe tbody tr th:only-of-type {\n",
       "        vertical-align: middle;\n",
       "    }\n",
       "\n",
       "    .dataframe tbody tr th {\n",
       "        vertical-align: top;\n",
       "    }\n",
       "\n",
       "    .dataframe thead th {\n",
       "        text-align: right;\n",
       "    }\n",
       "</style>\n",
       "<table border=\"1\" class=\"dataframe\">\n",
       "  <thead>\n",
       "    <tr style=\"text-align: right;\">\n",
       "      <th></th>\n",
       "      <th>Code</th>\n",
       "      <th>Name</th>\n",
       "      <th>Movie</th>\n",
       "    </tr>\n",
       "  </thead>\n",
       "  <tbody>\n",
       "    <tr>\n",
       "      <th>0</th>\n",
       "      <td>3</td>\n",
       "      <td>Majestic</td>\n",
       "      <td>None</td>\n",
       "    </tr>\n",
       "    <tr>\n",
       "      <th>1</th>\n",
       "      <td>6</td>\n",
       "      <td>Nickelodeon</td>\n",
       "      <td>None</td>\n",
       "    </tr>\n",
       "  </tbody>\n",
       "</table>\n",
       "</div>"
      ],
      "text/plain": [
       "   Code         Name Movie\n",
       "0     3     Majestic  None\n",
       "1     6  Nickelodeon  None"
      ]
     },
     "execution_count": 49,
     "metadata": {},
     "output_type": "execute_result"
    }
   ],
   "source": [
    "q = 'select * from MovieTheaters where Movie is null'\n",
    "f(q)"
   ]
  },
  {
   "cell_type": "code",
   "execution_count": 50,
   "metadata": {
    "ExecuteTime": {
     "end_time": "2020-03-23T20:14:47.208518Z",
     "start_time": "2020-03-23T20:14:46.742413Z"
    }
   },
   "outputs": [
    {
     "name": "stdout",
     "output_type": "stream",
     "text": [
      "nrows: 0, ncols: 3\n",
      "+----+----+-----+\n",
      "|Code|Name|Movie|\n",
      "+----+----+-----+\n",
      "+----+----+-----+\n",
      "\n"
     ]
    }
   ],
   "source": [
    "s(q)"
   ]
  },
  {
   "cell_type": "markdown",
   "metadata": {},
   "source": [
    "## 5. Select all data from all movie theaters and, additionally, the data from the movie that is being shown in the theater (if one is being shown)."
   ]
  },
  {
   "cell_type": "code",
   "execution_count": 51,
   "metadata": {
    "ExecuteTime": {
     "end_time": "2020-03-23T20:14:47.222003Z",
     "start_time": "2020-03-23T20:14:47.211515Z"
    }
   },
   "outputs": [
    {
     "data": {
      "text/html": [
       "<div>\n",
       "<style scoped>\n",
       "    .dataframe tbody tr th:only-of-type {\n",
       "        vertical-align: middle;\n",
       "    }\n",
       "\n",
       "    .dataframe tbody tr th {\n",
       "        vertical-align: top;\n",
       "    }\n",
       "\n",
       "    .dataframe thead th {\n",
       "        text-align: right;\n",
       "    }\n",
       "</style>\n",
       "<table border=\"1\" class=\"dataframe\">\n",
       "  <thead>\n",
       "    <tr style=\"text-align: right;\">\n",
       "      <th></th>\n",
       "      <th>Code</th>\n",
       "      <th>Name</th>\n",
       "      <th>Movie</th>\n",
       "    </tr>\n",
       "  </thead>\n",
       "  <tbody>\n",
       "    <tr>\n",
       "      <th>0</th>\n",
       "      <td>1</td>\n",
       "      <td>Odeon</td>\n",
       "      <td>5.0</td>\n",
       "    </tr>\n",
       "  </tbody>\n",
       "</table>\n",
       "</div>"
      ],
      "text/plain": [
       "   Code   Name  Movie\n",
       "0     1  Odeon    5.0"
      ]
     },
     "execution_count": 51,
     "metadata": {},
     "output_type": "execute_result"
    }
   ],
   "source": [
    "dft.head(1)"
   ]
  },
  {
   "cell_type": "code",
   "execution_count": 52,
   "metadata": {
    "ExecuteTime": {
     "end_time": "2020-03-23T20:14:47.235607Z",
     "start_time": "2020-03-23T20:14:47.225232Z"
    }
   },
   "outputs": [
    {
     "data": {
      "text/html": [
       "<div>\n",
       "<style scoped>\n",
       "    .dataframe tbody tr th:only-of-type {\n",
       "        vertical-align: middle;\n",
       "    }\n",
       "\n",
       "    .dataframe tbody tr th {\n",
       "        vertical-align: top;\n",
       "    }\n",
       "\n",
       "    .dataframe thead th {\n",
       "        text-align: right;\n",
       "    }\n",
       "</style>\n",
       "<table border=\"1\" class=\"dataframe\">\n",
       "  <thead>\n",
       "    <tr style=\"text-align: right;\">\n",
       "      <th></th>\n",
       "      <th>Code</th>\n",
       "      <th>Title</th>\n",
       "      <th>Rating</th>\n",
       "    </tr>\n",
       "  </thead>\n",
       "  <tbody>\n",
       "    <tr>\n",
       "      <th>0</th>\n",
       "      <td>1</td>\n",
       "      <td>Citizen Kane</td>\n",
       "      <td>PG</td>\n",
       "    </tr>\n",
       "  </tbody>\n",
       "</table>\n",
       "</div>"
      ],
      "text/plain": [
       "   Code         Title Rating\n",
       "0     1  Citizen Kane     PG"
      ]
     },
     "execution_count": 52,
     "metadata": {},
     "output_type": "execute_result"
    }
   ],
   "source": [
    "dfm.head(1)"
   ]
  },
  {
   "cell_type": "code",
   "execution_count": 53,
   "metadata": {
    "ExecuteTime": {
     "end_time": "2020-03-23T20:14:47.258087Z",
     "start_time": "2020-03-23T20:14:47.238459Z"
    }
   },
   "outputs": [
    {
     "data": {
      "text/html": [
       "<div>\n",
       "<style scoped>\n",
       "    .dataframe tbody tr th:only-of-type {\n",
       "        vertical-align: middle;\n",
       "    }\n",
       "\n",
       "    .dataframe tbody tr th {\n",
       "        vertical-align: top;\n",
       "    }\n",
       "\n",
       "    .dataframe thead th {\n",
       "        text-align: right;\n",
       "    }\n",
       "</style>\n",
       "<table border=\"1\" class=\"dataframe\">\n",
       "  <thead>\n",
       "    <tr style=\"text-align: right;\">\n",
       "      <th></th>\n",
       "      <th>Code_t</th>\n",
       "      <th>Name</th>\n",
       "      <th>Movie</th>\n",
       "      <th>Code_m</th>\n",
       "      <th>Title</th>\n",
       "      <th>Rating</th>\n",
       "    </tr>\n",
       "  </thead>\n",
       "  <tbody>\n",
       "    <tr>\n",
       "      <th>0</th>\n",
       "      <td>1</td>\n",
       "      <td>Odeon</td>\n",
       "      <td>5.0</td>\n",
       "      <td>5.0</td>\n",
       "      <td>North by Northwest</td>\n",
       "      <td>None</td>\n",
       "    </tr>\n",
       "    <tr>\n",
       "      <th>1</th>\n",
       "      <td>2</td>\n",
       "      <td>Imperial</td>\n",
       "      <td>1.0</td>\n",
       "      <td>1.0</td>\n",
       "      <td>Citizen Kane</td>\n",
       "      <td>PG</td>\n",
       "    </tr>\n",
       "    <tr>\n",
       "      <th>2</th>\n",
       "      <td>3</td>\n",
       "      <td>Majestic</td>\n",
       "      <td>NaN</td>\n",
       "      <td>NaN</td>\n",
       "      <td>NaN</td>\n",
       "      <td>NaN</td>\n",
       "    </tr>\n",
       "    <tr>\n",
       "      <th>3</th>\n",
       "      <td>4</td>\n",
       "      <td>Royale</td>\n",
       "      <td>6.0</td>\n",
       "      <td>6.0</td>\n",
       "      <td>The Last Tango in Paris</td>\n",
       "      <td>NC-17</td>\n",
       "    </tr>\n",
       "    <tr>\n",
       "      <th>4</th>\n",
       "      <td>5</td>\n",
       "      <td>Paraiso</td>\n",
       "      <td>3.0</td>\n",
       "      <td>3.0</td>\n",
       "      <td>The Wizard of Oz</td>\n",
       "      <td>G</td>\n",
       "    </tr>\n",
       "    <tr>\n",
       "      <th>5</th>\n",
       "      <td>6</td>\n",
       "      <td>Nickelodeon</td>\n",
       "      <td>NaN</td>\n",
       "      <td>NaN</td>\n",
       "      <td>NaN</td>\n",
       "      <td>NaN</td>\n",
       "    </tr>\n",
       "  </tbody>\n",
       "</table>\n",
       "</div>"
      ],
      "text/plain": [
       "   Code_t         Name  Movie  Code_m                    Title Rating\n",
       "0       1        Odeon    5.0     5.0       North by Northwest   None\n",
       "1       2     Imperial    1.0     1.0             Citizen Kane     PG\n",
       "2       3     Majestic    NaN     NaN                      NaN    NaN\n",
       "3       4       Royale    6.0     6.0  The Last Tango in Paris  NC-17\n",
       "4       5      Paraiso    3.0     3.0         The Wizard of Oz      G\n",
       "5       6  Nickelodeon    NaN     NaN                      NaN    NaN"
      ]
     },
     "execution_count": 53,
     "metadata": {},
     "output_type": "execute_result"
    }
   ],
   "source": [
    "dft.merge(dfm,left_on='Movie',right_on='Code',how='left',suffixes=['_t','_m'])\n",
    "# left join also include nulls."
   ]
  },
  {
   "cell_type": "code",
   "execution_count": 54,
   "metadata": {
    "ExecuteTime": {
     "end_time": "2020-03-23T20:14:48.910915Z",
     "start_time": "2020-03-23T20:14:47.262056Z"
    }
   },
   "outputs": [
    {
     "name": "stdout",
     "output_type": "stream",
     "text": [
      "+------+-----------+-----+------+--------------------+------+\n",
      "|Code_t|       Name|Movie|Code_m|               Title|Rating|\n",
      "+------+-----------+-----+------+--------------------+------+\n",
      "|     1|      Odeon|  5.0|     5|  North by Northwest|  null|\n",
      "|     5|    Paraiso|  3.0|     3|    The Wizard of Oz|     G|\n",
      "|     2|   Imperial|  1.0|     1|        Citizen Kane|    PG|\n",
      "|     4|     Royale|  6.0|     6|The Last Tango in...| NC-17|\n",
      "|     3|   Majestic|  NaN|  null|                null|  null|\n",
      "|     6|Nickelodeon|  NaN|  null|                null|  null|\n",
      "+------+-----------+-----+------+--------------------+------+\n",
      "\n"
     ]
    }
   ],
   "source": [
    "(sdft2\n",
    " .join(sdfm2,\n",
    "       sdfm2.Code_m==sdft2.Movie,\n",
    "       how='left'\n",
    "      )\n",
    "\n",
    " .show()\n",
    ")"
   ]
  },
  {
   "cell_type": "code",
   "execution_count": 55,
   "metadata": {
    "ExecuteTime": {
     "end_time": "2020-03-23T20:14:48.934152Z",
     "start_time": "2020-03-23T20:14:48.913382Z"
    }
   },
   "outputs": [
    {
     "data": {
      "text/html": [
       "<div>\n",
       "<style scoped>\n",
       "    .dataframe tbody tr th:only-of-type {\n",
       "        vertical-align: middle;\n",
       "    }\n",
       "\n",
       "    .dataframe tbody tr th {\n",
       "        vertical-align: top;\n",
       "    }\n",
       "\n",
       "    .dataframe thead th {\n",
       "        text-align: right;\n",
       "    }\n",
       "</style>\n",
       "<table border=\"1\" class=\"dataframe\">\n",
       "  <thead>\n",
       "    <tr style=\"text-align: right;\">\n",
       "      <th></th>\n",
       "      <th>Code</th>\n",
       "      <th>Name</th>\n",
       "      <th>Movie</th>\n",
       "      <th>Code</th>\n",
       "      <th>Title</th>\n",
       "      <th>Rating</th>\n",
       "    </tr>\n",
       "  </thead>\n",
       "  <tbody>\n",
       "    <tr>\n",
       "      <th>0</th>\n",
       "      <td>1</td>\n",
       "      <td>Odeon</td>\n",
       "      <td>5.0</td>\n",
       "      <td>5.0</td>\n",
       "      <td>North by Northwest</td>\n",
       "      <td>None</td>\n",
       "    </tr>\n",
       "    <tr>\n",
       "      <th>1</th>\n",
       "      <td>2</td>\n",
       "      <td>Imperial</td>\n",
       "      <td>1.0</td>\n",
       "      <td>1.0</td>\n",
       "      <td>Citizen Kane</td>\n",
       "      <td>PG</td>\n",
       "    </tr>\n",
       "    <tr>\n",
       "      <th>2</th>\n",
       "      <td>3</td>\n",
       "      <td>Majestic</td>\n",
       "      <td>NaN</td>\n",
       "      <td>NaN</td>\n",
       "      <td>None</td>\n",
       "      <td>None</td>\n",
       "    </tr>\n",
       "    <tr>\n",
       "      <th>3</th>\n",
       "      <td>4</td>\n",
       "      <td>Royale</td>\n",
       "      <td>6.0</td>\n",
       "      <td>6.0</td>\n",
       "      <td>The Last Tango in Paris</td>\n",
       "      <td>NC-17</td>\n",
       "    </tr>\n",
       "    <tr>\n",
       "      <th>4</th>\n",
       "      <td>5</td>\n",
       "      <td>Paraiso</td>\n",
       "      <td>3.0</td>\n",
       "      <td>3.0</td>\n",
       "      <td>The Wizard of Oz</td>\n",
       "      <td>G</td>\n",
       "    </tr>\n",
       "    <tr>\n",
       "      <th>5</th>\n",
       "      <td>6</td>\n",
       "      <td>Nickelodeon</td>\n",
       "      <td>NaN</td>\n",
       "      <td>NaN</td>\n",
       "      <td>None</td>\n",
       "      <td>None</td>\n",
       "    </tr>\n",
       "  </tbody>\n",
       "</table>\n",
       "</div>"
      ],
      "text/plain": [
       "   Code         Name  Movie  Code                    Title Rating\n",
       "0     1        Odeon    5.0   5.0       North by Northwest   None\n",
       "1     2     Imperial    1.0   1.0             Citizen Kane     PG\n",
       "2     3     Majestic    NaN   NaN                     None   None\n",
       "3     4       Royale    6.0   6.0  The Last Tango in Paris  NC-17\n",
       "4     5      Paraiso    3.0   3.0         The Wizard of Oz      G\n",
       "5     6  Nickelodeon    NaN   NaN                     None   None"
      ]
     },
     "execution_count": 55,
     "metadata": {},
     "output_type": "execute_result"
    }
   ],
   "source": [
    "q = \"\"\"\n",
    "select *\n",
    "from MovieTheaters t\n",
    "left join Movies m\n",
    "on m.code = t.movie\n",
    "\"\"\"\n",
    "\n",
    "f(q,6)"
   ]
  },
  {
   "cell_type": "markdown",
   "metadata": {},
   "source": [
    "## 6. Select all data from all movies and, if that movie is being shown in a theater, show the data from the theater."
   ]
  },
  {
   "cell_type": "code",
   "execution_count": 56,
   "metadata": {
    "ExecuteTime": {
     "end_time": "2020-03-23T20:14:51.965162Z",
     "start_time": "2020-03-23T20:14:48.936657Z"
    }
   },
   "outputs": [
    {
     "name": "stdout",
     "output_type": "stream",
     "text": [
      "nrows: 9, ncols: 6\n",
      "+----+--------+-----+----+--------------------+------+\n",
      "|Code|    Name|Movie|Code|               Title|Rating|\n",
      "+----+--------+-----+----+--------------------+------+\n",
      "|null|    null| null|   9|        Citizen King|     G|\n",
      "|   1|   Odeon|  5.0|   5|  North by Northwest|  null|\n",
      "|null|    null| null|   7|    Some Like it Hot| PG-13|\n",
      "|null|    null| null|   2| Singin' in the Rain|     G|\n",
      "|   5| Paraiso|  3.0|   3|    The Wizard of Oz|     G|\n",
      "|   2|Imperial|  1.0|   1|        Citizen Kane|    PG|\n",
      "|   4|  Royale|  6.0|   6|The Last Tango in...| NC-17|\n",
      "|null|    null| null|   8|A Night at the Opera|  null|\n",
      "|null|    null| null|   4|       The Quiet Man|  null|\n",
      "+----+--------+-----+----+--------------------+------+\n",
      "\n"
     ]
    }
   ],
   "source": [
    "q = \"\"\"\n",
    "select *\n",
    "from MovieTheaters t\n",
    "right join Movies m\n",
    "on m.code=t.movie\n",
    "\"\"\"\n",
    "\n",
    "s(q,9)"
   ]
  },
  {
   "cell_type": "markdown",
   "metadata": {},
   "source": [
    "## 7. Show the titles of movies not currently being shown in any theaters."
   ]
  },
  {
   "cell_type": "code",
   "execution_count": 57,
   "metadata": {
    "ExecuteTime": {
     "end_time": "2020-03-23T20:14:51.979572Z",
     "start_time": "2020-03-23T20:14:51.968651Z"
    }
   },
   "outputs": [
    {
     "data": {
      "text/html": [
       "<div>\n",
       "<style scoped>\n",
       "    .dataframe tbody tr th:only-of-type {\n",
       "        vertical-align: middle;\n",
       "    }\n",
       "\n",
       "    .dataframe tbody tr th {\n",
       "        vertical-align: top;\n",
       "    }\n",
       "\n",
       "    .dataframe thead th {\n",
       "        text-align: right;\n",
       "    }\n",
       "</style>\n",
       "<table border=\"1\" class=\"dataframe\">\n",
       "  <thead>\n",
       "    <tr style=\"text-align: right;\">\n",
       "      <th></th>\n",
       "      <th>Code</th>\n",
       "      <th>Title</th>\n",
       "      <th>Rating</th>\n",
       "    </tr>\n",
       "  </thead>\n",
       "  <tbody>\n",
       "    <tr>\n",
       "      <th>0</th>\n",
       "      <td>1</td>\n",
       "      <td>Citizen Kane</td>\n",
       "      <td>PG</td>\n",
       "    </tr>\n",
       "    <tr>\n",
       "      <th>1</th>\n",
       "      <td>2</td>\n",
       "      <td>Singin' in the Rain</td>\n",
       "      <td>G</td>\n",
       "    </tr>\n",
       "    <tr>\n",
       "      <th>2</th>\n",
       "      <td>3</td>\n",
       "      <td>The Wizard of Oz</td>\n",
       "      <td>G</td>\n",
       "    </tr>\n",
       "    <tr>\n",
       "      <th>3</th>\n",
       "      <td>4</td>\n",
       "      <td>The Quiet Man</td>\n",
       "      <td>None</td>\n",
       "    </tr>\n",
       "    <tr>\n",
       "      <th>4</th>\n",
       "      <td>5</td>\n",
       "      <td>North by Northwest</td>\n",
       "      <td>None</td>\n",
       "    </tr>\n",
       "    <tr>\n",
       "      <th>5</th>\n",
       "      <td>6</td>\n",
       "      <td>The Last Tango in Paris</td>\n",
       "      <td>NC-17</td>\n",
       "    </tr>\n",
       "    <tr>\n",
       "      <th>6</th>\n",
       "      <td>7</td>\n",
       "      <td>Some Like it Hot</td>\n",
       "      <td>PG-13</td>\n",
       "    </tr>\n",
       "    <tr>\n",
       "      <th>7</th>\n",
       "      <td>8</td>\n",
       "      <td>A Night at the Opera</td>\n",
       "      <td>None</td>\n",
       "    </tr>\n",
       "    <tr>\n",
       "      <th>8</th>\n",
       "      <td>9</td>\n",
       "      <td>Citizen King</td>\n",
       "      <td>G</td>\n",
       "    </tr>\n",
       "  </tbody>\n",
       "</table>\n",
       "</div>"
      ],
      "text/plain": [
       "   Code                    Title Rating\n",
       "0     1             Citizen Kane     PG\n",
       "1     2      Singin' in the Rain      G\n",
       "2     3         The Wizard of Oz      G\n",
       "3     4            The Quiet Man   None\n",
       "4     5       North by Northwest   None\n",
       "5     6  The Last Tango in Paris  NC-17\n",
       "6     7         Some Like it Hot  PG-13\n",
       "7     8     A Night at the Opera   None\n",
       "8     9             Citizen King      G"
      ]
     },
     "execution_count": 57,
     "metadata": {},
     "output_type": "execute_result"
    }
   ],
   "source": [
    "dfm"
   ]
  },
  {
   "cell_type": "code",
   "execution_count": 58,
   "metadata": {
    "ExecuteTime": {
     "end_time": "2020-03-23T20:14:51.997397Z",
     "start_time": "2020-03-23T20:14:51.983247Z"
    }
   },
   "outputs": [
    {
     "data": {
      "text/html": [
       "<div>\n",
       "<style scoped>\n",
       "    .dataframe tbody tr th:only-of-type {\n",
       "        vertical-align: middle;\n",
       "    }\n",
       "\n",
       "    .dataframe tbody tr th {\n",
       "        vertical-align: top;\n",
       "    }\n",
       "\n",
       "    .dataframe thead th {\n",
       "        text-align: right;\n",
       "    }\n",
       "</style>\n",
       "<table border=\"1\" class=\"dataframe\">\n",
       "  <thead>\n",
       "    <tr style=\"text-align: right;\">\n",
       "      <th></th>\n",
       "      <th>Code</th>\n",
       "      <th>Name</th>\n",
       "      <th>Movie</th>\n",
       "    </tr>\n",
       "  </thead>\n",
       "  <tbody>\n",
       "    <tr>\n",
       "      <th>0</th>\n",
       "      <td>1</td>\n",
       "      <td>Odeon</td>\n",
       "      <td>5.0</td>\n",
       "    </tr>\n",
       "    <tr>\n",
       "      <th>1</th>\n",
       "      <td>2</td>\n",
       "      <td>Imperial</td>\n",
       "      <td>1.0</td>\n",
       "    </tr>\n",
       "    <tr>\n",
       "      <th>2</th>\n",
       "      <td>3</td>\n",
       "      <td>Majestic</td>\n",
       "      <td>NaN</td>\n",
       "    </tr>\n",
       "    <tr>\n",
       "      <th>3</th>\n",
       "      <td>4</td>\n",
       "      <td>Royale</td>\n",
       "      <td>6.0</td>\n",
       "    </tr>\n",
       "    <tr>\n",
       "      <th>4</th>\n",
       "      <td>5</td>\n",
       "      <td>Paraiso</td>\n",
       "      <td>3.0</td>\n",
       "    </tr>\n",
       "    <tr>\n",
       "      <th>5</th>\n",
       "      <td>6</td>\n",
       "      <td>Nickelodeon</td>\n",
       "      <td>NaN</td>\n",
       "    </tr>\n",
       "  </tbody>\n",
       "</table>\n",
       "</div>"
      ],
      "text/plain": [
       "   Code         Name  Movie\n",
       "0     1        Odeon    5.0\n",
       "1     2     Imperial    1.0\n",
       "2     3     Majestic    NaN\n",
       "3     4       Royale    6.0\n",
       "4     5      Paraiso    3.0\n",
       "5     6  Nickelodeon    NaN"
      ]
     },
     "execution_count": 58,
     "metadata": {},
     "output_type": "execute_result"
    }
   ],
   "source": [
    "dft"
   ]
  },
  {
   "cell_type": "code",
   "execution_count": 59,
   "metadata": {
    "ExecuteTime": {
     "end_time": "2020-03-23T20:14:52.003856Z",
     "start_time": "2020-03-23T20:14:52.000692Z"
    }
   },
   "outputs": [],
   "source": [
    "# I see only moives 1,3,5,6 are showing in theaters.\n",
    "# movies 2,4,7-9 are not being shown in any theater.\n",
    "\n",
    "# 2\tSingin' in the Rain\tG\n",
    "# 4\tThe Quiet Man\tNone"
   ]
  },
  {
   "cell_type": "code",
   "execution_count": 60,
   "metadata": {
    "ExecuteTime": {
     "end_time": "2020-03-23T20:14:55.029020Z",
     "start_time": "2020-03-23T20:14:52.006464Z"
    }
   },
   "outputs": [
    {
     "name": "stdout",
     "output_type": "stream",
     "text": [
      "nrows: 5, ncols: 6\n",
      "+----+--------------------+------+----+----+-----+\n",
      "|Code|               Title|Rating|Code|Name|Movie|\n",
      "+----+--------------------+------+----+----+-----+\n",
      "|   9|        Citizen King|     G|null|null| null|\n",
      "|   7|    Some Like it Hot| PG-13|null|null| null|\n",
      "|   2| Singin' in the Rain|     G|null|null| null|\n",
      "|   8|A Night at the Opera|  null|null|null| null|\n",
      "|   4|       The Quiet Man|  null|null|null| null|\n",
      "+----+--------------------+------+----+----+-----+\n",
      "\n"
     ]
    }
   ],
   "source": [
    "q = \"\"\"\n",
    "select *\n",
    "from Movies m\n",
    "left join MovieTheaters t\n",
    "on t.movie = m.code\n",
    "where t.movie is null\n",
    "\"\"\"\n",
    "\n",
    "s(q,6)"
   ]
  },
  {
   "cell_type": "code",
   "execution_count": 61,
   "metadata": {
    "ExecuteTime": {
     "end_time": "2020-03-23T20:14:55.040961Z",
     "start_time": "2020-03-23T20:14:55.031276Z"
    }
   },
   "outputs": [
    {
     "data": {
      "text/html": [
       "<div>\n",
       "<style scoped>\n",
       "    .dataframe tbody tr th:only-of-type {\n",
       "        vertical-align: middle;\n",
       "    }\n",
       "\n",
       "    .dataframe tbody tr th {\n",
       "        vertical-align: top;\n",
       "    }\n",
       "\n",
       "    .dataframe thead th {\n",
       "        text-align: right;\n",
       "    }\n",
       "</style>\n",
       "<table border=\"1\" class=\"dataframe\">\n",
       "  <thead>\n",
       "    <tr style=\"text-align: right;\">\n",
       "      <th></th>\n",
       "      <th>Title</th>\n",
       "    </tr>\n",
       "  </thead>\n",
       "  <tbody>\n",
       "    <tr>\n",
       "      <th>0</th>\n",
       "      <td>Singin' in the Rain</td>\n",
       "    </tr>\n",
       "    <tr>\n",
       "      <th>1</th>\n",
       "      <td>The Quiet Man</td>\n",
       "    </tr>\n",
       "    <tr>\n",
       "      <th>2</th>\n",
       "      <td>Some Like it Hot</td>\n",
       "    </tr>\n",
       "    <tr>\n",
       "      <th>3</th>\n",
       "      <td>A Night at the Opera</td>\n",
       "    </tr>\n",
       "    <tr>\n",
       "      <th>4</th>\n",
       "      <td>Citizen King</td>\n",
       "    </tr>\n",
       "  </tbody>\n",
       "</table>\n",
       "</div>"
      ],
      "text/plain": [
       "                  Title\n",
       "0   Singin' in the Rain\n",
       "1         The Quiet Man\n",
       "2      Some Like it Hot\n",
       "3  A Night at the Opera\n",
       "4          Citizen King"
      ]
     },
     "execution_count": 61,
     "metadata": {},
     "output_type": "execute_result"
    }
   ],
   "source": [
    "q = \"\"\"\n",
    "select title\n",
    "from Movies m\n",
    "where code not in\n",
    "(\n",
    "  select movie from MovieTheaters where movie is not null\n",
    ")\n",
    "\"\"\"\n",
    "\n",
    "f(q,9)"
   ]
  },
  {
   "cell_type": "markdown",
   "metadata": {},
   "source": [
    "## 8. Add the unrated movie \"One, Two, Three\"."
   ]
  },
  {
   "cell_type": "code",
   "execution_count": 62,
   "metadata": {
    "ExecuteTime": {
     "end_time": "2020-03-23T20:14:55.057994Z",
     "start_time": "2020-03-23T20:14:55.044673Z"
    }
   },
   "outputs": [
    {
     "data": {
      "text/html": [
       "<div>\n",
       "<style scoped>\n",
       "    .dataframe tbody tr th:only-of-type {\n",
       "        vertical-align: middle;\n",
       "    }\n",
       "\n",
       "    .dataframe tbody tr th {\n",
       "        vertical-align: top;\n",
       "    }\n",
       "\n",
       "    .dataframe thead th {\n",
       "        text-align: right;\n",
       "    }\n",
       "</style>\n",
       "<table border=\"1\" class=\"dataframe\">\n",
       "  <thead>\n",
       "    <tr style=\"text-align: right;\">\n",
       "      <th></th>\n",
       "      <th>Code</th>\n",
       "      <th>Title</th>\n",
       "      <th>Rating</th>\n",
       "    </tr>\n",
       "  </thead>\n",
       "  <tbody>\n",
       "    <tr>\n",
       "      <th>0</th>\n",
       "      <td>1</td>\n",
       "      <td>Citizen Kane</td>\n",
       "      <td>PG</td>\n",
       "    </tr>\n",
       "    <tr>\n",
       "      <th>1</th>\n",
       "      <td>2</td>\n",
       "      <td>Singin' in the Rain</td>\n",
       "      <td>G</td>\n",
       "    </tr>\n",
       "    <tr>\n",
       "      <th>2</th>\n",
       "      <td>3</td>\n",
       "      <td>The Wizard of Oz</td>\n",
       "      <td>G</td>\n",
       "    </tr>\n",
       "    <tr>\n",
       "      <th>3</th>\n",
       "      <td>4</td>\n",
       "      <td>The Quiet Man</td>\n",
       "      <td>None</td>\n",
       "    </tr>\n",
       "    <tr>\n",
       "      <th>4</th>\n",
       "      <td>5</td>\n",
       "      <td>North by Northwest</td>\n",
       "      <td>None</td>\n",
       "    </tr>\n",
       "    <tr>\n",
       "      <th>5</th>\n",
       "      <td>6</td>\n",
       "      <td>The Last Tango in Paris</td>\n",
       "      <td>NC-17</td>\n",
       "    </tr>\n",
       "    <tr>\n",
       "      <th>6</th>\n",
       "      <td>7</td>\n",
       "      <td>Some Like it Hot</td>\n",
       "      <td>PG-13</td>\n",
       "    </tr>\n",
       "    <tr>\n",
       "      <th>7</th>\n",
       "      <td>8</td>\n",
       "      <td>A Night at the Opera</td>\n",
       "      <td>None</td>\n",
       "    </tr>\n",
       "    <tr>\n",
       "      <th>8</th>\n",
       "      <td>9</td>\n",
       "      <td>Citizen King</td>\n",
       "      <td>G</td>\n",
       "    </tr>\n",
       "    <tr>\n",
       "      <th>9</th>\n",
       "      <td>10</td>\n",
       "      <td>One, Two, Three</td>\n",
       "      <td>None</td>\n",
       "    </tr>\n",
       "  </tbody>\n",
       "</table>\n",
       "</div>"
      ],
      "text/plain": [
       "   Code                    Title Rating\n",
       "0     1             Citizen Kane     PG\n",
       "1     2      Singin' in the Rain      G\n",
       "2     3         The Wizard of Oz      G\n",
       "3     4            The Quiet Man   None\n",
       "4     5       North by Northwest   None\n",
       "5     6  The Last Tango in Paris  NC-17\n",
       "6     7         Some Like it Hot  PG-13\n",
       "7     8     A Night at the Opera   None\n",
       "8     9             Citizen King      G\n",
       "9    10          One, Two, Three   None"
      ]
     },
     "execution_count": 62,
     "metadata": {},
     "output_type": "execute_result"
    }
   ],
   "source": [
    "q = \"INSERT INTO Movies(Title,Rating) VALUES('One, Two, Three',NULL);\"\n",
    "cur.execute(q)\n",
    "conn.commit()\n",
    "\n",
    "pd.read_sql('select * from Movies',conn)"
   ]
  },
  {
   "cell_type": "markdown",
   "metadata": {},
   "source": [
    "## 9. Set the rating of all unrated movies to \"G\"."
   ]
  },
  {
   "cell_type": "code",
   "execution_count": 63,
   "metadata": {
    "ExecuteTime": {
     "end_time": "2020-03-23T20:14:55.074518Z",
     "start_time": "2020-03-23T20:14:55.060458Z"
    }
   },
   "outputs": [
    {
     "data": {
      "text/html": [
       "<div>\n",
       "<style scoped>\n",
       "    .dataframe tbody tr th:only-of-type {\n",
       "        vertical-align: middle;\n",
       "    }\n",
       "\n",
       "    .dataframe tbody tr th {\n",
       "        vertical-align: top;\n",
       "    }\n",
       "\n",
       "    .dataframe thead th {\n",
       "        text-align: right;\n",
       "    }\n",
       "</style>\n",
       "<table border=\"1\" class=\"dataframe\">\n",
       "  <thead>\n",
       "    <tr style=\"text-align: right;\">\n",
       "      <th></th>\n",
       "      <th>Code</th>\n",
       "      <th>Title</th>\n",
       "      <th>Rating</th>\n",
       "    </tr>\n",
       "  </thead>\n",
       "  <tbody>\n",
       "    <tr>\n",
       "      <th>0</th>\n",
       "      <td>1</td>\n",
       "      <td>Citizen Kane</td>\n",
       "      <td>PG</td>\n",
       "    </tr>\n",
       "    <tr>\n",
       "      <th>1</th>\n",
       "      <td>2</td>\n",
       "      <td>Singin' in the Rain</td>\n",
       "      <td>G</td>\n",
       "    </tr>\n",
       "    <tr>\n",
       "      <th>2</th>\n",
       "      <td>3</td>\n",
       "      <td>The Wizard of Oz</td>\n",
       "      <td>G</td>\n",
       "    </tr>\n",
       "    <tr>\n",
       "      <th>3</th>\n",
       "      <td>4</td>\n",
       "      <td>The Quiet Man</td>\n",
       "      <td>G</td>\n",
       "    </tr>\n",
       "    <tr>\n",
       "      <th>4</th>\n",
       "      <td>5</td>\n",
       "      <td>North by Northwest</td>\n",
       "      <td>G</td>\n",
       "    </tr>\n",
       "    <tr>\n",
       "      <th>5</th>\n",
       "      <td>6</td>\n",
       "      <td>The Last Tango in Paris</td>\n",
       "      <td>NC-17</td>\n",
       "    </tr>\n",
       "    <tr>\n",
       "      <th>6</th>\n",
       "      <td>7</td>\n",
       "      <td>Some Like it Hot</td>\n",
       "      <td>PG-13</td>\n",
       "    </tr>\n",
       "    <tr>\n",
       "      <th>7</th>\n",
       "      <td>8</td>\n",
       "      <td>A Night at the Opera</td>\n",
       "      <td>G</td>\n",
       "    </tr>\n",
       "    <tr>\n",
       "      <th>8</th>\n",
       "      <td>9</td>\n",
       "      <td>Citizen King</td>\n",
       "      <td>G</td>\n",
       "    </tr>\n",
       "    <tr>\n",
       "      <th>9</th>\n",
       "      <td>10</td>\n",
       "      <td>One, Two, Three</td>\n",
       "      <td>G</td>\n",
       "    </tr>\n",
       "  </tbody>\n",
       "</table>\n",
       "</div>"
      ],
      "text/plain": [
       "   Code                    Title Rating\n",
       "0     1             Citizen Kane     PG\n",
       "1     2      Singin' in the Rain      G\n",
       "2     3         The Wizard of Oz      G\n",
       "3     4            The Quiet Man      G\n",
       "4     5       North by Northwest      G\n",
       "5     6  The Last Tango in Paris  NC-17\n",
       "6     7         Some Like it Hot  PG-13\n",
       "7     8     A Night at the Opera      G\n",
       "8     9             Citizen King      G\n",
       "9    10          One, Two, Three      G"
      ]
     },
     "execution_count": 63,
     "metadata": {},
     "output_type": "execute_result"
    }
   ],
   "source": [
    "q = \"UPDATE Movies SET Rating='G' WHERE Rating IS NULL;\"\n",
    "cur.execute(q)\n",
    "conn.commit()\n",
    "\n",
    "pd.read_sql('select * from Movies',conn)"
   ]
  },
  {
   "cell_type": "markdown",
   "metadata": {},
   "source": [
    "## 10. Remove movie theaters projecting movies rated \"NC-17\"."
   ]
  },
  {
   "cell_type": "code",
   "execution_count": 64,
   "metadata": {
    "ExecuteTime": {
     "end_time": "2020-03-23T20:14:55.088545Z",
     "start_time": "2020-03-23T20:14:55.076861Z"
    }
   },
   "outputs": [
    {
     "data": {
      "text/html": [
       "<div>\n",
       "<style scoped>\n",
       "    .dataframe tbody tr th:only-of-type {\n",
       "        vertical-align: middle;\n",
       "    }\n",
       "\n",
       "    .dataframe tbody tr th {\n",
       "        vertical-align: top;\n",
       "    }\n",
       "\n",
       "    .dataframe thead th {\n",
       "        text-align: right;\n",
       "    }\n",
       "</style>\n",
       "<table border=\"1\" class=\"dataframe\">\n",
       "  <thead>\n",
       "    <tr style=\"text-align: right;\">\n",
       "      <th></th>\n",
       "      <th>Code</th>\n",
       "      <th>Name</th>\n",
       "      <th>Movie</th>\n",
       "    </tr>\n",
       "  </thead>\n",
       "  <tbody>\n",
       "    <tr>\n",
       "      <th>0</th>\n",
       "      <td>1</td>\n",
       "      <td>Odeon</td>\n",
       "      <td>5.0</td>\n",
       "    </tr>\n",
       "    <tr>\n",
       "      <th>1</th>\n",
       "      <td>2</td>\n",
       "      <td>Imperial</td>\n",
       "      <td>1.0</td>\n",
       "    </tr>\n",
       "    <tr>\n",
       "      <th>2</th>\n",
       "      <td>3</td>\n",
       "      <td>Majestic</td>\n",
       "      <td>NaN</td>\n",
       "    </tr>\n",
       "    <tr>\n",
       "      <th>3</th>\n",
       "      <td>5</td>\n",
       "      <td>Paraiso</td>\n",
       "      <td>3.0</td>\n",
       "    </tr>\n",
       "    <tr>\n",
       "      <th>4</th>\n",
       "      <td>6</td>\n",
       "      <td>Nickelodeon</td>\n",
       "      <td>NaN</td>\n",
       "    </tr>\n",
       "  </tbody>\n",
       "</table>\n",
       "</div>"
      ],
      "text/plain": [
       "   Code         Name  Movie\n",
       "0     1        Odeon    5.0\n",
       "1     2     Imperial    1.0\n",
       "2     3     Majestic    NaN\n",
       "3     5      Paraiso    3.0\n",
       "4     6  Nickelodeon    NaN"
      ]
     },
     "execution_count": 64,
     "metadata": {},
     "output_type": "execute_result"
    }
   ],
   "source": [
    "q = \"\"\"\n",
    "DELETE FROM MovieTheaters WHERE Movie IN\n",
    "   (SELECT Code FROM Movies WHERE Rating = 'NC-17');\n",
    "\"\"\".strip()\n",
    "cur.execute(q)\n",
    "conn.commit()\n",
    "\n",
    "pd.read_sql('select * from MovieTheaters',conn)"
   ]
  },
  {
   "cell_type": "markdown",
   "metadata": {},
   "source": [
    "# Time Taken"
   ]
  },
  {
   "cell_type": "code",
   "execution_count": 65,
   "metadata": {
    "ExecuteTime": {
     "end_time": "2020-03-23T20:14:55.095463Z",
     "start_time": "2020-03-23T20:14:55.090636Z"
    }
   },
   "outputs": [
    {
     "name": "stdout",
     "output_type": "stream",
     "text": [
      "Time taken: 0 hr 0 min 27 secs\n"
     ]
    }
   ],
   "source": [
    "time_taken = time.time() - time_start_notebook\n",
    "h,m = divmod(time_taken,60*60)\n",
    "print('Time taken: {:.0f} hr {:.0f} min {:.0f} secs'.format(h, *divmod(m,60)))"
   ]
  }
 ],
 "metadata": {
  "kernelspec": {
   "display_name": "Python 3",
   "language": "python",
   "name": "python3"
  },
  "language_info": {
   "codemirror_mode": {
    "name": "ipython",
    "version": 3
   },
   "file_extension": ".py",
   "mimetype": "text/x-python",
   "name": "python",
   "nbconvert_exporter": "python",
   "pygments_lexer": "ipython3",
   "version": "3.7.3"
  },
  "toc": {
   "base_numbering": 1,
   "nav_menu": {},
   "number_sections": true,
   "sideBar": true,
   "skip_h1_title": false,
   "title_cell": "Table of Contents",
   "title_sidebar": "Contents",
   "toc_cell": true,
   "toc_position": {},
   "toc_section_display": true,
   "toc_window_display": true
  }
 },
 "nbformat": 4,
 "nbformat_minor": 2
}
