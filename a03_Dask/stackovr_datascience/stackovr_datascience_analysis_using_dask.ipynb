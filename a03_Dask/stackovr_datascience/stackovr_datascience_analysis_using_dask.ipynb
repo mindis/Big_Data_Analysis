{
 "cells": [
  {
   "cell_type": "markdown",
   "metadata": {
    "toc": "true"
   },
   "source": [
    "# Table of Contents\n",
    " <p><div class=\"lev1 toc-item\"><a href=\"#Dataset\" data-toc-modified-id=\"Dataset-1\"><span class=\"toc-item-num\">1&nbsp;&nbsp;</span>Dataset</a></div><div class=\"lev1 toc-item\"><a href=\"#Imports\" data-toc-modified-id=\"Imports-2\"><span class=\"toc-item-num\">2&nbsp;&nbsp;</span>Imports</a></div><div class=\"lev1 toc-item\"><a href=\"#Read-Tags\" data-toc-modified-id=\"Read-Tags-3\"><span class=\"toc-item-num\">3&nbsp;&nbsp;</span>Read Tags</a></div><div class=\"lev1 toc-item\"><a href=\"#Read-Posts\" data-toc-modified-id=\"Read-Posts-4\"><span class=\"toc-item-num\">4&nbsp;&nbsp;</span>Read Posts</a></div><div class=\"lev1 toc-item\"><a href=\"#Read-post-parquet\" data-toc-modified-id=\"Read-post-parquet-5\"><span class=\"toc-item-num\">5&nbsp;&nbsp;</span>Read post parquet</a></div><div class=\"lev1 toc-item\"><a href=\"#Read-Tags-xml\" data-toc-modified-id=\"Read-Tags-xml-6\"><span class=\"toc-item-num\">6&nbsp;&nbsp;</span>Read Tags xml</a></div><div class=\"lev1 toc-item\"><a href=\"#Join-post-and-tag\" data-toc-modified-id=\"Join-post-and-tag-7\"><span class=\"toc-item-num\">7&nbsp;&nbsp;</span>Join post and tag</a></div>"
   ]
  },
  {
   "cell_type": "markdown",
   "metadata": {
    "deletable": true,
    "editable": true
   },
   "source": [
    "# Dataset\n",
    "\n",
    "stackoverflow datascience 7zip stored at [Archive.org](https://archive.org/download/stackexchange/datascience.stackexchange.com.7z)\n",
    "\n",
    "Download the 7zip file and decompress the xml files inside the folder called `datascience`."
   ]
  },
  {
   "cell_type": "markdown",
   "metadata": {
    "deletable": true,
    "editable": true
   },
   "source": [
    "# Imports"
   ]
  },
  {
   "cell_type": "code",
   "execution_count": 1,
   "metadata": {
    "ExecuteTime": {
     "end_time": "2019-02-16T17:59:04.392487Z",
     "start_time": "2019-02-16T17:59:03.737876Z"
    },
    "collapsed": true,
    "deletable": true,
    "editable": true
   },
   "outputs": [],
   "source": [
    "import numpy as np\n",
    "import pandas as pd\n",
    "\n",
    "# plotting\n",
    "import matplotlib.pyplot as plt\n",
    "import seaborn as sns\n",
    "%matplotlib inline\n",
    "sns.set(color_codes=True)\n",
    "sns.set()\n",
    "sns.set_style('darkgrid')"
   ]
  },
  {
   "cell_type": "code",
   "execution_count": 2,
   "metadata": {
    "ExecuteTime": {
     "end_time": "2019-02-16T17:59:04.560707Z",
     "start_time": "2019-02-16T17:59:04.394417Z"
    },
    "collapsed": true,
    "deletable": true,
    "editable": true
   },
   "outputs": [],
   "source": [
    "import dask\n",
    "import dask.bag as db\n",
    "import dask.dataframe as dd\n",
    "from dask.dot import dot_graph\n",
    "from dask.diagnostics import ProgressBar"
   ]
  },
  {
   "cell_type": "code",
   "execution_count": 13,
   "metadata": {
    "ExecuteTime": {
     "end_time": "2019-02-16T18:01:34.917254Z",
     "start_time": "2019-02-16T18:01:34.913979Z"
    },
    "collapsed": true,
    "deletable": true,
    "editable": true
   },
   "outputs": [],
   "source": [
    "import re\n",
    "import html\n",
    "from datetime import datetime"
   ]
  },
  {
   "cell_type": "code",
   "execution_count": 15,
   "metadata": {
    "ExecuteTime": {
     "end_time": "2019-02-16T18:02:43.116916Z",
     "start_time": "2019-02-16T18:02:43.112535Z"
    },
    "collapsed": false,
    "deletable": true,
    "editable": true
   },
   "outputs": [
    {
     "name": "stdout",
     "output_type": "stream",
     "text": [
      "The watermark extension is already loaded. To reload it, use:\n",
      "  %reload_ext watermark\n",
      "json       2.0.9\n",
      "re         2.2.1\n",
      "autopep8   1.4\n",
      "pandas     0.23.4\n",
      "matplotlib 3.0.1\n",
      "numpy      1.15.4\n",
      "dask       1.1.1\n",
      "seaborn    0.9.0\n",
      "\n"
     ]
    }
   ],
   "source": [
    "%load_ext watermark\n",
    "\n",
    "%watermark --iversions"
   ]
  },
  {
   "cell_type": "markdown",
   "metadata": {
    "ExecuteTime": {
     "end_time": "2019-02-16T17:56:08.200026Z",
     "start_time": "2019-02-16T17:56:08.194918Z"
    },
    "deletable": true,
    "editable": true
   },
   "source": [
    "# Read Tags"
   ]
  },
  {
   "cell_type": "code",
   "execution_count": 18,
   "metadata": {
    "ExecuteTime": {
     "end_time": "2019-02-16T18:04:11.613542Z",
     "start_time": "2019-02-16T18:04:11.607490Z"
    },
    "collapsed": true,
    "deletable": true,
    "editable": true
   },
   "outputs": [],
   "source": [
    "tags_xml = db.read_text('datascience//Tags.xml', encoding='utf-8')"
   ]
  },
  {
   "cell_type": "code",
   "execution_count": 19,
   "metadata": {
    "ExecuteTime": {
     "end_time": "2019-02-16T18:04:12.336256Z",
     "start_time": "2019-02-16T18:04:12.322427Z"
    },
    "collapsed": false,
    "deletable": true,
    "editable": true
   },
   "outputs": [
    {
     "data": {
      "text/html": [
       "<div>\n",
       "<style scoped>\n",
       "    .dataframe tbody tr th:only-of-type {\n",
       "        vertical-align: middle;\n",
       "    }\n",
       "\n",
       "    .dataframe tbody tr th {\n",
       "        vertical-align: top;\n",
       "    }\n",
       "\n",
       "    .dataframe thead th {\n",
       "        text-align: right;\n",
       "    }\n",
       "</style>\n",
       "<table border=\"1\" class=\"dataframe\">\n",
       "  <thead>\n",
       "    <tr style=\"text-align: right;\">\n",
       "      <th></th>\n",
       "      <th>0</th>\n",
       "      <th>1</th>\n",
       "      <th>2</th>\n",
       "      <th>3</th>\n",
       "      <th>4</th>\n",
       "    </tr>\n",
       "  </thead>\n",
       "  <tbody>\n",
       "    <tr>\n",
       "      <th>0</th>\n",
       "      <td>accumulate</td>\n",
       "      <td>fold</td>\n",
       "      <td>mean</td>\n",
       "      <td>reduction</td>\n",
       "      <td>to_avro</td>\n",
       "    </tr>\n",
       "    <tr>\n",
       "      <th>1</th>\n",
       "      <td>all</td>\n",
       "      <td>foldby</td>\n",
       "      <td>min</td>\n",
       "      <td>remove</td>\n",
       "      <td>to_dataframe</td>\n",
       "    </tr>\n",
       "    <tr>\n",
       "      <th>2</th>\n",
       "      <td>any</td>\n",
       "      <td>frequencies</td>\n",
       "      <td>name</td>\n",
       "      <td>repartition</td>\n",
       "      <td>to_delayed</td>\n",
       "    </tr>\n",
       "    <tr>\n",
       "      <th>3</th>\n",
       "      <td>compute</td>\n",
       "      <td>groupby</td>\n",
       "      <td>npartitions</td>\n",
       "      <td>starmap</td>\n",
       "      <td>to_textfiles</td>\n",
       "    </tr>\n",
       "    <tr>\n",
       "      <th>4</th>\n",
       "      <td>count</td>\n",
       "      <td>join</td>\n",
       "      <td>persist</td>\n",
       "      <td>std</td>\n",
       "      <td>topk</td>\n",
       "    </tr>\n",
       "    <tr>\n",
       "      <th>5</th>\n",
       "      <td>dask</td>\n",
       "      <td>map</td>\n",
       "      <td>pluck</td>\n",
       "      <td>str</td>\n",
       "      <td>unzip</td>\n",
       "    </tr>\n",
       "    <tr>\n",
       "      <th>6</th>\n",
       "      <td>distinct</td>\n",
       "      <td>map_partitions</td>\n",
       "      <td>product</td>\n",
       "      <td>sum</td>\n",
       "      <td>var</td>\n",
       "    </tr>\n",
       "    <tr>\n",
       "      <th>7</th>\n",
       "      <td>filter</td>\n",
       "      <td>max</td>\n",
       "      <td>random_sample</td>\n",
       "      <td>take</td>\n",
       "      <td>visualize</td>\n",
       "    </tr>\n",
       "    <tr>\n",
       "      <th>8</th>\n",
       "      <td>flatten</td>\n",
       "      <td>None</td>\n",
       "      <td>None</td>\n",
       "      <td>None</td>\n",
       "      <td>None</td>\n",
       "    </tr>\n",
       "  </tbody>\n",
       "</table>\n",
       "</div>"
      ],
      "text/plain": [
       "            0               1              2            3             4\n",
       "0  accumulate            fold           mean    reduction       to_avro\n",
       "1         all          foldby            min       remove  to_dataframe\n",
       "2         any     frequencies           name  repartition    to_delayed\n",
       "3     compute         groupby    npartitions      starmap  to_textfiles\n",
       "4       count            join        persist          std          topk\n",
       "5        dask             map          pluck          str         unzip\n",
       "6    distinct  map_partitions        product          sum           var\n",
       "7      filter             max  random_sample         take     visualize\n",
       "8     flatten            None           None         None          None"
      ]
     },
     "execution_count": 19,
     "metadata": {},
     "output_type": "execute_result"
    }
   ],
   "source": [
    "lst = [attr for attr in dir(tags_xml) if attr[0].islower() ]\n",
    "lst = np.array_split(lst,5)\n",
    "pd.DataFrame(lst).T"
   ]
  },
  {
   "cell_type": "code",
   "execution_count": 20,
   "metadata": {
    "ExecuteTime": {
     "end_time": "2019-02-16T18:04:13.136390Z",
     "start_time": "2019-02-16T18:04:13.103718Z"
    },
    "collapsed": false,
    "deletable": true,
    "editable": true
   },
   "outputs": [
    {
     "data": {
      "text/plain": [
       "('\\ufeff<?xml version=\"1.0\" encoding=\"utf-8\"?>\\n',\n",
       " '<tags>\\n',\n",
       " '  <row Id=\"1\" TagName=\"definitions\" Count=\"22\" ExcerptPostId=\"105\" WikiPostId=\"104\" />\\n',\n",
       " '  <row Id=\"2\" TagName=\"machine-learning\" Count=\"4497\" ExcerptPostId=\"4909\" WikiPostId=\"4908\" />\\n',\n",
       " '  <row Id=\"3\" TagName=\"bigdata\" Count=\"343\" ExcerptPostId=\"66\" WikiPostId=\"65\" />\\n',\n",
       " '  <row Id=\"5\" TagName=\"data-mining\" Count=\"782\" ExcerptPostId=\"80\" WikiPostId=\"79\" />\\n',\n",
       " '  <row Id=\"6\" TagName=\"databases\" Count=\"56\" ExcerptPostId=\"8960\" WikiPostId=\"8959\" />\\n',\n",
       " '  <row Id=\"8\" TagName=\"libsvm\" Count=\"12\" ExcerptPostId=\"18\" WikiPostId=\"17\" />\\n',\n",
       " '  <row Id=\"10\" TagName=\"scalability\" Count=\"23\" />\\n',\n",
       " '  <row Id=\"11\" TagName=\"efficiency\" Count=\"26\" ExcerptPostId=\"142\" WikiPostId=\"141\" />\\n')"
      ]
     },
     "execution_count": 20,
     "metadata": {},
     "output_type": "execute_result"
    }
   ],
   "source": [
    "tags_xml.take(10)"
   ]
  },
  {
   "cell_type": "code",
   "execution_count": 21,
   "metadata": {
    "ExecuteTime": {
     "end_time": "2019-02-16T18:04:29.111973Z",
     "start_time": "2019-02-16T18:04:29.108466Z"
    },
    "collapsed": true,
    "deletable": true,
    "editable": true
   },
   "outputs": [],
   "source": [
    "# we need only lines with word rows"
   ]
  },
  {
   "cell_type": "code",
   "execution_count": 22,
   "metadata": {
    "ExecuteTime": {
     "end_time": "2019-02-16T18:04:40.041780Z",
     "start_time": "2019-02-16T18:04:40.001992Z"
    },
    "collapsed": false,
    "deletable": true,
    "editable": true
   },
   "outputs": [
    {
     "data": {
      "text/plain": [
       "('  <row Id=\"1\" TagName=\"definitions\" Count=\"22\" ExcerptPostId=\"105\" WikiPostId=\"104\" />\\n',\n",
       " '  <row Id=\"2\" TagName=\"machine-learning\" Count=\"4497\" ExcerptPostId=\"4909\" WikiPostId=\"4908\" />\\n',\n",
       " '  <row Id=\"3\" TagName=\"bigdata\" Count=\"343\" ExcerptPostId=\"66\" WikiPostId=\"65\" />\\n',\n",
       " '  <row Id=\"5\" TagName=\"data-mining\" Count=\"782\" ExcerptPostId=\"80\" WikiPostId=\"79\" />\\n',\n",
       " '  <row Id=\"6\" TagName=\"databases\" Count=\"56\" ExcerptPostId=\"8960\" WikiPostId=\"8959\" />\\n',\n",
       " '  <row Id=\"8\" TagName=\"libsvm\" Count=\"12\" ExcerptPostId=\"18\" WikiPostId=\"17\" />\\n',\n",
       " '  <row Id=\"10\" TagName=\"scalability\" Count=\"23\" />\\n',\n",
       " '  <row Id=\"11\" TagName=\"efficiency\" Count=\"26\" ExcerptPostId=\"142\" WikiPostId=\"141\" />\\n',\n",
       " '  <row Id=\"12\" TagName=\"performance\" Count=\"84\" />\\n',\n",
       " '  <row Id=\"13\" TagName=\"nosql\" Count=\"20\" ExcerptPostId=\"119\" WikiPostId=\"118\" />\\n')"
      ]
     },
     "execution_count": 22,
     "metadata": {},
     "output_type": "execute_result"
    }
   ],
   "source": [
    "tags_rows = tags_xml.filter(lambda line: line.find('<row') >= 0)\n",
    "tags_rows.take(10)"
   ]
  },
  {
   "cell_type": "code",
   "execution_count": 23,
   "metadata": {
    "ExecuteTime": {
     "end_time": "2019-02-16T18:07:56.868246Z",
     "start_time": "2019-02-16T18:07:56.863232Z"
    },
    "collapsed": true,
    "deletable": true,
    "editable": true
   },
   "outputs": [],
   "source": [
    "def extract_column_value(line, col_name, cast_type=str):\n",
    "    # TagName=\".net\"  ==> .net  when column is TagName\n",
    "    pattern_tpl = r'{col}=\"([^\"]*)\"'\n",
    "    pattern = pattern_tpl.format(col=col_name)\n",
    "    match = re.search(pattern, line)\n",
    "\n",
    "    if cast_type == int:\n",
    "        null_value = 0  # numpy does not have nans for ints, make it zero\n",
    "    else:\n",
    "        null_value = None\n",
    "\n",
    "    return cast_type(match[1]) if match is not None else null_value"
   ]
  },
  {
   "cell_type": "code",
   "execution_count": 24,
   "metadata": {
    "ExecuteTime": {
     "end_time": "2019-02-16T18:08:20.865231Z",
     "start_time": "2019-02-16T18:08:20.855864Z"
    },
    "collapsed": false,
    "deletable": true,
    "editable": true
   },
   "outputs": [
    {
     "name": "stdout",
     "output_type": "stream",
     "text": [
      ".net\n",
      ".net\n",
      "None\n",
      "0\n"
     ]
    }
   ],
   "source": [
    "test_tags_row = '<row Id=\"1\" TagName=\".net\" Count=\"257092\" ExcerptPostId=\"3624959\" WikiPostId=\"3607476\" />'\n",
    "print(extract_column_value(test_tags_row, 'TagName'))\n",
    "print(extract_column_value(test_tags_row, 'TagName'))\n",
    "print(extract_column_value(test_tags_row, 'NotHere', str))\n",
    "print(extract_column_value(test_tags_row, 'NotHere', int))"
   ]
  },
  {
   "cell_type": "code",
   "execution_count": null,
   "metadata": {
    "ExecuteTime": {
     "end_time": "2019-02-16T18:12:12.649047Z",
     "start_time": "2019-02-16T18:12:12.641179Z"
    },
    "collapsed": true,
    "deletable": true,
    "editable": true
   },
   "outputs": [],
   "source": [
    "def extract_tags_columns(line):\n",
    "    row = {\n",
    "        'id': extract_column_value(line, 'Id', int),\n",
    "        'tag_name': extract_column_value(line, 'TagName', str),\n",
    "        'count': extract_column_value(line, 'Count', int),\n",
    "    }\n",
    "    return row"
   ]
  },
  {
   "cell_type": "code",
   "execution_count": 27,
   "metadata": {
    "ExecuteTime": {
     "end_time": "2019-02-16T18:12:42.693932Z",
     "start_time": "2019-02-16T18:12:42.688616Z"
    },
    "collapsed": false,
    "deletable": true,
    "editable": true
   },
   "outputs": [
    {
     "data": {
      "text/plain": [
       "{'id': 1, 'tag_name': '.net', 'count': 257092}"
      ]
     },
     "execution_count": 27,
     "metadata": {},
     "output_type": "execute_result"
    }
   ],
   "source": [
    "test_tags_row = '<row Id=\"1\" TagName=\".net\" Count=\"257092\" ExcerptPostId=\"3624959\" WikiPostId=\"3607476\" />'\n",
    "\n",
    "extract_tags_columns(test_tags_row)"
   ]
  },
  {
   "cell_type": "code",
   "execution_count": 28,
   "metadata": {
    "ExecuteTime": {
     "end_time": "2019-02-16T18:13:52.604188Z",
     "start_time": "2019-02-16T18:13:52.559336Z"
    },
    "collapsed": false,
    "deletable": true,
    "editable": true
   },
   "outputs": [
    {
     "data": {
      "text/html": [
       "<div><strong>Dask DataFrame Structure:</strong></div>\n",
       "<div>\n",
       "<style scoped>\n",
       "    .dataframe tbody tr th:only-of-type {\n",
       "        vertical-align: middle;\n",
       "    }\n",
       "\n",
       "    .dataframe tbody tr th {\n",
       "        vertical-align: top;\n",
       "    }\n",
       "\n",
       "    .dataframe thead th {\n",
       "        text-align: right;\n",
       "    }\n",
       "</style>\n",
       "<table border=\"1\" class=\"dataframe\">\n",
       "  <thead>\n",
       "    <tr style=\"text-align: right;\">\n",
       "      <th></th>\n",
       "      <th>count</th>\n",
       "      <th>id</th>\n",
       "      <th>tag_name</th>\n",
       "    </tr>\n",
       "    <tr>\n",
       "      <th>npartitions=1</th>\n",
       "      <th></th>\n",
       "      <th></th>\n",
       "      <th></th>\n",
       "    </tr>\n",
       "  </thead>\n",
       "  <tbody>\n",
       "    <tr>\n",
       "      <th></th>\n",
       "      <td>int64</td>\n",
       "      <td>int64</td>\n",
       "      <td>object</td>\n",
       "    </tr>\n",
       "    <tr>\n",
       "      <th></th>\n",
       "      <td>...</td>\n",
       "      <td>...</td>\n",
       "      <td>...</td>\n",
       "    </tr>\n",
       "  </tbody>\n",
       "</table>\n",
       "</div>\n",
       "<div>Dask Name: to_dataframe, 3 tasks</div>"
      ],
      "text/plain": [
       "Dask DataFrame Structure:\n",
       "               count     id tag_name\n",
       "npartitions=1                       \n",
       "               int64  int64   object\n",
       "                 ...    ...      ...\n",
       "Dask Name: to_dataframe, 3 tasks"
      ]
     },
     "execution_count": 28,
     "metadata": {},
     "output_type": "execute_result"
    }
   ],
   "source": [
    "# now, get dask dataframes\n",
    "# to_dataframe makes pandas dataframe.\n",
    "tags = tags_rows.map(extract_tags_columns).to_dataframe()\n",
    "tags"
   ]
  },
  {
   "cell_type": "code",
   "execution_count": 29,
   "metadata": {
    "ExecuteTime": {
     "end_time": "2019-02-16T18:14:35.385443Z",
     "start_time": "2019-02-16T18:14:34.757244Z"
    },
    "collapsed": false,
    "deletable": true,
    "editable": true
   },
   "outputs": [
    {
     "data": {
      "image/png": "[encoded data removed]",
      "text/plain": [
       "<IPython.core.display.Image object>"
      ]
     },
     "execution_count": 29,
     "metadata": {},
     "output_type": "execute_result"
    }
   ],
   "source": [
    "tags.visualize()"
   ]
  },
  {
   "cell_type": "code",
   "execution_count": 32,
   "metadata": {
    "ExecuteTime": {
     "end_time": "2019-02-16T18:18:43.909100Z",
     "start_time": "2019-02-16T18:18:43.893748Z"
    },
    "collapsed": false,
    "deletable": true,
    "editable": true
   },
   "outputs": [
    {
     "name": "stdout",
     "output_type": "stream",
     "text": [
      "<class 'pandas.core.frame.DataFrame'>\n"
     ]
    },
    {
     "data": {
      "text/html": [
       "<div>\n",
       "<style scoped>\n",
       "    .dataframe tbody tr th:only-of-type {\n",
       "        vertical-align: middle;\n",
       "    }\n",
       "\n",
       "    .dataframe tbody tr th {\n",
       "        vertical-align: top;\n",
       "    }\n",
       "\n",
       "    .dataframe thead th {\n",
       "        text-align: right;\n",
       "    }\n",
       "</style>\n",
       "<table border=\"1\" class=\"dataframe\">\n",
       "  <thead>\n",
       "    <tr style=\"text-align: right;\">\n",
       "      <th></th>\n",
       "      <th>count</th>\n",
       "      <th>id</th>\n",
       "      <th>tag_name</th>\n",
       "    </tr>\n",
       "  </thead>\n",
       "  <tbody>\n",
       "    <tr>\n",
       "      <th>0</th>\n",
       "      <td>22</td>\n",
       "      <td>1</td>\n",
       "      <td>definitions</td>\n",
       "    </tr>\n",
       "    <tr>\n",
       "      <th>1</th>\n",
       "      <td>4497</td>\n",
       "      <td>2</td>\n",
       "      <td>machine-learning</td>\n",
       "    </tr>\n",
       "    <tr>\n",
       "      <th>2</th>\n",
       "      <td>343</td>\n",
       "      <td>3</td>\n",
       "      <td>bigdata</td>\n",
       "    </tr>\n",
       "    <tr>\n",
       "      <th>3</th>\n",
       "      <td>782</td>\n",
       "      <td>5</td>\n",
       "      <td>data-mining</td>\n",
       "    </tr>\n",
       "    <tr>\n",
       "      <th>4</th>\n",
       "      <td>56</td>\n",
       "      <td>6</td>\n",
       "      <td>databases</td>\n",
       "    </tr>\n",
       "  </tbody>\n",
       "</table>\n",
       "</div>"
      ],
      "text/plain": [
       "   count  id          tag_name\n",
       "0     22   1       definitions\n",
       "1   4497   2  machine-learning\n",
       "2    343   3           bigdata\n",
       "3    782   5       data-mining\n",
       "4     56   6         databases"
      ]
     },
     "execution_count": 32,
     "metadata": {},
     "output_type": "execute_result"
    }
   ],
   "source": [
    "# after building graph, compute\n",
    "# now, its panads! enjoy the calculations.\n",
    "tags_df = tags.compute()\n",
    "print(type(tags_df))\n",
    "tags_df.head()"
   ]
  },
  {
   "cell_type": "markdown",
   "metadata": {
    "ExecuteTime": {
     "end_time": "2019-02-16T18:17:43.375751Z",
     "start_time": "2019-02-16T18:17:43.364791Z"
    },
    "deletable": true,
    "editable": true
   },
   "source": [
    "# Read Posts"
   ]
  },
  {
   "cell_type": "code",
   "execution_count": 34,
   "metadata": {
    "ExecuteTime": {
     "end_time": "2019-02-16T18:19:29.100447Z",
     "start_time": "2019-02-16T18:19:29.094638Z"
    },
    "collapsed": false,
    "deletable": true,
    "editable": true
   },
   "outputs": [
    {
     "data": {
      "text/plain": [
       "dask.bag<bag-fro..., npartitions=1>"
      ]
     },
     "execution_count": 34,
     "metadata": {},
     "output_type": "execute_result"
    }
   ],
   "source": [
    "posts_xml = db.read_text('datascience/Posts.xml', encoding='utf-8', blocksize=1e8)\n",
    "posts_xml"
   ]
  },
  {
   "cell_type": "code",
   "execution_count": 37,
   "metadata": {
    "ExecuteTime": {
     "end_time": "2019-02-16T18:20:07.667492Z",
     "start_time": "2019-02-16T18:20:07.376988Z"
    },
    "collapsed": false,
    "deletable": true,
    "editable": true
   },
   "outputs": [
    {
     "data": {
      "text/plain": [
       "('\\ufeff<?xml version=\"1.0\" encoding=\"utf-8\"?>\\r\\n',\n",
       " '<posts>\\r\\n',\n",
       " '  <row Id=\"5\" PostTypeId=\"1\" CreationDate=\"2014-05-13T23:58:30.457\" Score=\"9\" ViewCount=\"480\" Body=\"&lt;p&gt;I\\'ve always been interested in machine learning, but I can\\'t figure out one thing about starting out with a simple &quot;Hello World&quot; example - how can I avoid hard-coding behavior?&lt;/p&gt;&#xA;&#xA;&lt;p&gt;For example, if I wanted to &quot;teach&quot; a bot how to avoid randomly placed obstacles, I couldn\\'t just use relative motion, because the obstacles move around, but I don\\'t want to hard code, say, distance, because that ruins the whole point of machine learning.&lt;/p&gt;&#xA;&#xA;&lt;p&gt;Obviously, randomly generating code would be impractical, so how could I do this?&lt;/p&gt;&#xA;\" OwnerUserId=\"5\" LastActivityDate=\"2014-05-14T00:36:31.077\" Title=\"How can I do simple machine learning without hard-coding behavior?\" Tags=\"&lt;machine-learning&gt;\" AnswerCount=\"1\" CommentCount=\"1\" FavoriteCount=\"1\" ClosedDate=\"2014-05-14T14:40:25.950\" />\\r\\n',\n",
       " '  <row Id=\"7\" PostTypeId=\"1\" AcceptedAnswerId=\"10\" CreationDate=\"2014-05-14T00:11:06.457\" Score=\"4\" ViewCount=\"400\" Body=\"&lt;p&gt;As a researcher and instructor, I\\'m looking for open-source books (or similar materials) that provide a relatively thorough overview of data science from an applied perspective. To be clear, I\\'m especially interested in a thorough overview that provides material suitable for a college-level course, not particular pieces or papers.&lt;/p&gt;&#xA;\" OwnerUserId=\"36\" LastEditorUserId=\"97\" LastEditDate=\"2014-05-16T13:45:00.237\" LastActivityDate=\"2014-05-16T13:45:00.237\" Title=\"What open-source books (or other materials) provide a relatively thorough overview of data science?\" Tags=\"&lt;education&gt;&lt;open-source&gt;\" AnswerCount=\"3\" CommentCount=\"4\" FavoriteCount=\"1\" ClosedDate=\"2014-05-14T08:40:54.950\" />\\r\\n',\n",
       " '  <row Id=\"9\" PostTypeId=\"2\" ParentId=\"5\" CreationDate=\"2014-05-14T00:36:31.077\" Score=\"5\" Body=\"&lt;p&gt;Not sure if this fits the scope of this SE, but here\\'s a stab at an answer anyway.&lt;/p&gt;&#xA;&#xA;&lt;p&gt;With all AI approaches you have to decide what it is you\\'re modelling and what kind of uncertainty there is. Once you pick a framework that allows modelling of your situation, you then see which elements are &quot;fixed&quot; and which are flexible. For example, the model may allow you to define your own network structure (or even learn it) with certain constraints. You have to decide whether this flexibility is sufficient for your purposes. Then within a particular network structure, you can learn parameters given a specific training dataset.&lt;/p&gt;&#xA;&#xA;&lt;p&gt;You rarely hard-code behavior in AI/ML solutions. It\\'s all about modelling the underlying situation and accommodating different situations by tweaking elements of the model.&lt;/p&gt;&#xA;&#xA;&lt;p&gt;In your example, perhaps you might have the robot learn how to detect obstacles (by analyzing elements in the environment), or you might have it keep track of where the obstacles were and which way they were moving.&lt;/p&gt;&#xA;\" OwnerUserId=\"51\" LastActivityDate=\"2014-05-14T00:36:31.077\" CommentCount=\"0\" />\\r\\n')"
      ]
     },
     "execution_count": 37,
     "metadata": {},
     "output_type": "execute_result"
    }
   ],
   "source": [
    "posts_xml.take(5)"
   ]
  },
  {
   "cell_type": "code",
   "execution_count": 38,
   "metadata": {
    "ExecuteTime": {
     "end_time": "2019-02-16T18:20:41.438606Z",
     "start_time": "2019-02-16T18:20:41.151988Z"
    },
    "collapsed": false,
    "deletable": true,
    "editable": true
   },
   "outputs": [
    {
     "data": {
      "text/plain": [
       "('  <row Id=\"5\" PostTypeId=\"1\" CreationDate=\"2014-05-13T23:58:30.457\" Score=\"9\" ViewCount=\"480\" Body=\"&lt;p&gt;I\\'ve always been interested in machine learning, but I can\\'t figure out one thing about starting out with a simple &quot;Hello World&quot; example - how can I avoid hard-coding behavior?&lt;/p&gt;&#xA;&#xA;&lt;p&gt;For example, if I wanted to &quot;teach&quot; a bot how to avoid randomly placed obstacles, I couldn\\'t just use relative motion, because the obstacles move around, but I don\\'t want to hard code, say, distance, because that ruins the whole point of machine learning.&lt;/p&gt;&#xA;&#xA;&lt;p&gt;Obviously, randomly generating code would be impractical, so how could I do this?&lt;/p&gt;&#xA;\" OwnerUserId=\"5\" LastActivityDate=\"2014-05-14T00:36:31.077\" Title=\"How can I do simple machine learning without hard-coding behavior?\" Tags=\"&lt;machine-learning&gt;\" AnswerCount=\"1\" CommentCount=\"1\" FavoriteCount=\"1\" ClosedDate=\"2014-05-14T14:40:25.950\" />\\r\\n',\n",
       " '  <row Id=\"7\" PostTypeId=\"1\" AcceptedAnswerId=\"10\" CreationDate=\"2014-05-14T00:11:06.457\" Score=\"4\" ViewCount=\"400\" Body=\"&lt;p&gt;As a researcher and instructor, I\\'m looking for open-source books (or similar materials) that provide a relatively thorough overview of data science from an applied perspective. To be clear, I\\'m especially interested in a thorough overview that provides material suitable for a college-level course, not particular pieces or papers.&lt;/p&gt;&#xA;\" OwnerUserId=\"36\" LastEditorUserId=\"97\" LastEditDate=\"2014-05-16T13:45:00.237\" LastActivityDate=\"2014-05-16T13:45:00.237\" Title=\"What open-source books (or other materials) provide a relatively thorough overview of data science?\" Tags=\"&lt;education&gt;&lt;open-source&gt;\" AnswerCount=\"3\" CommentCount=\"4\" FavoriteCount=\"1\" ClosedDate=\"2014-05-14T08:40:54.950\" />\\r\\n',\n",
       " '  <row Id=\"9\" PostTypeId=\"2\" ParentId=\"5\" CreationDate=\"2014-05-14T00:36:31.077\" Score=\"5\" Body=\"&lt;p&gt;Not sure if this fits the scope of this SE, but here\\'s a stab at an answer anyway.&lt;/p&gt;&#xA;&#xA;&lt;p&gt;With all AI approaches you have to decide what it is you\\'re modelling and what kind of uncertainty there is. Once you pick a framework that allows modelling of your situation, you then see which elements are &quot;fixed&quot; and which are flexible. For example, the model may allow you to define your own network structure (or even learn it) with certain constraints. You have to decide whether this flexibility is sufficient for your purposes. Then within a particular network structure, you can learn parameters given a specific training dataset.&lt;/p&gt;&#xA;&#xA;&lt;p&gt;You rarely hard-code behavior in AI/ML solutions. It\\'s all about modelling the underlying situation and accommodating different situations by tweaking elements of the model.&lt;/p&gt;&#xA;&#xA;&lt;p&gt;In your example, perhaps you might have the robot learn how to detect obstacles (by analyzing elements in the environment), or you might have it keep track of where the obstacles were and which way they were moving.&lt;/p&gt;&#xA;\" OwnerUserId=\"51\" LastActivityDate=\"2014-05-14T00:36:31.077\" CommentCount=\"0\" />\\r\\n',\n",
       " '  <row Id=\"10\" PostTypeId=\"2\" ParentId=\"7\" CreationDate=\"2014-05-14T00:53:43.273\" Score=\"12\" Body=\"&lt;p&gt;One book that\\'s freely available is &quot;The Elements of Statistical Learning&quot; by Hastie, Tibshirani, and Friedman (published by Springer): &lt;a href=&quot;http://statweb.stanford.edu/~tibs/ElemStatLearn/&quot;&gt;see Tibshirani\\'s website&lt;/a&gt;.&lt;/p&gt;&#xA;&#xA;&lt;p&gt;Another fantastic source, although it isn\\'t a book, is Andrew Ng\\'s Machine Learning course on Coursera. This has a much more applied-focus than the above book, and Prof. Ng does a great job of explaining the thinking behind several different machine learning algorithms/situations.&lt;/p&gt;&#xA;\" OwnerUserId=\"22\" LastActivityDate=\"2014-05-14T00:53:43.273\" CommentCount=\"1\" />\\r\\n',\n",
       " '  <row Id=\"14\" PostTypeId=\"1\" AcceptedAnswerId=\"29\" CreationDate=\"2014-05-14T01:25:59.677\" Score=\"21\" ViewCount=\"1309\" Body=\"&lt;p&gt;I am sure data science as will be discussed in this forum has several synonyms or at least related fields where large data is analyzed.&lt;/p&gt;&#xA;&#xA;&lt;p&gt;My particular question is in regards to Data Mining.  I took a graduate class in Data Mining a few years back.  What are the differences between Data Science and Data Mining and in particular what more would I need to look at to become proficient in Data Mining?&lt;/p&gt;&#xA;\" OwnerUserId=\"66\" LastEditorUserId=\"322\" LastEditDate=\"2014-06-17T16:17:20.473\" LastActivityDate=\"2014-06-20T17:36:05.023\" Title=\"Is Data Science the Same as Data Mining?\" Tags=\"&lt;data-mining&gt;&lt;definitions&gt;\" AnswerCount=\"4\" CommentCount=\"1\" FavoriteCount=\"4\" />\\r\\n')"
      ]
     },
     "execution_count": 38,
     "metadata": {},
     "output_type": "execute_result"
    }
   ],
   "source": [
    "# filter only the rows\n",
    "posts_rows = posts_xml.filter(lambda line: line.find('<row') >= 0)\n",
    "\n",
    "posts_rows.take(5)"
   ]
  },
  {
   "cell_type": "code",
   "execution_count": 39,
   "metadata": {
    "ExecuteTime": {
     "end_time": "2019-02-16T18:21:29.005625Z",
     "start_time": "2019-02-16T18:21:28.999451Z"
    },
    "collapsed": false,
    "deletable": true,
    "editable": true
   },
   "outputs": [
    {
     "data": {
      "text/plain": [
       "datetime.datetime(2008, 7, 31, 23, 55, 37, 967000)"
      ]
     },
     "execution_count": 39,
     "metadata": {},
     "output_type": "execute_result"
    }
   ],
   "source": [
    "# deal with timestamp\n",
    "def str_to_datetime(timestamp):\n",
    "    f = '%Y-%m-%dT%H:%M:%S.%f'\n",
    "    return datetime.strptime(timestamp, f)\n",
    "\n",
    "str_to_datetime('2008-07-31T23:55:37.967')"
   ]
  },
  {
   "cell_type": "code",
   "execution_count": 40,
   "metadata": {
    "ExecuteTime": {
     "end_time": "2019-02-16T18:21:55.149762Z",
     "start_time": "2019-02-16T18:21:55.144096Z"
    },
    "collapsed": true,
    "deletable": true,
    "editable": true
   },
   "outputs": [],
   "source": [
    "def extract_posts_columns(line):\n",
    "    l = html.unescape(line)\n",
    "    row = {\n",
    "        'id': extract_column_value(l, 'Id', int),\n",
    "        'creation_date': extract_column_value(l, 'CreationDate', str_to_datetime),\n",
    "        'score': extract_column_value(l, 'Score', int),\n",
    "        'view_count': extract_column_value(l, 'ViewCount', int),\n",
    "        'tags': extract_column_value(l, 'Tags', str),\n",
    "    }\n",
    "    return row"
   ]
  },
  {
   "cell_type": "code",
   "execution_count": 41,
   "metadata": {
    "ExecuteTime": {
     "end_time": "2019-02-16T18:22:43.699801Z",
     "start_time": "2019-02-16T18:22:43.692775Z"
    },
    "collapsed": false,
    "deletable": true,
    "editable": true
   },
   "outputs": [
    {
     "data": {
      "text/plain": [
       "{'id': 4,\n",
       " 'creation_date': datetime.datetime(2008, 7, 31, 21, 42, 52, 667000),\n",
       " 'score': 506,\n",
       " 'view_count': 32399,\n",
       " 'tags': '<c#><winforms><type-conversion><decimal><opacity>'}"
      ]
     },
     "execution_count": 41,
     "metadata": {},
     "output_type": "execute_result"
    }
   ],
   "source": [
    "test_posts_row = '  <row Id=\"4\" PostTypeId=\"1\" AcceptedAnswerId=\"7\" CreationDate=\"2008-07-31T21:42:52.667\" Score=\"506\" ViewCount=\"32399\" Body=\"&lt;p&gt;I want to use a track-bar to change a form\\'s opacity.&lt;/p&gt;&#xA;&#xA;&lt;p&gt;This is my code:&lt;/p&gt;&#xA;&#xA;&lt;pre&gt;&lt;code&gt;decimal trans = trackBar1.Value / 5000;&#xA;this.Opacity = trans;&#xA;&lt;/code&gt;&lt;/pre&gt;&#xA;&#xA;&lt;p&gt;When I build the application, it gives the following error:&lt;/p&gt;&#xA;&#xA;&lt;blockquote&gt;&#xA;  &lt;p&gt;Cannot implicitly convert type \\'decimal\\' to \\'double\\'.&lt;/p&gt;&#xA;&lt;/blockquote&gt;&#xA;&#xA;&lt;p&gt;I tried using &lt;code&gt;trans&lt;/code&gt; and &lt;code&gt;double&lt;/code&gt; but then the control doesn\\'t work. This code worked fine in a past VB.NET project. &lt;/p&gt;&#xA;\" OwnerUserId=\"8\" LastEditorUserId=\"126970\" LastEditorDisplayName=\"Rich B\" LastEditDate=\"2017-03-10T15:18:33.147\" LastActivityDate=\"2017-03-10T15:18:33.147\" Title=\"While applying opacity to a form should we use a decimal or double value?\" Tags=\"&lt;c#&gt;&lt;winforms&gt;&lt;type-conversion&gt;&lt;decimal&gt;&lt;opacity&gt;\" AnswerCount=\"13\" CommentCount=\"5\" FavoriteCount=\"37\" CommunityOwnedDate=\"2012-10-31T16:42:47.213\" />\\n'\n",
    "extract_posts_columns(test_posts_row)"
   ]
  },
  {
   "cell_type": "code",
   "execution_count": 42,
   "metadata": {
    "ExecuteTime": {
     "end_time": "2019-02-16T18:23:35.031491Z",
     "start_time": "2019-02-16T18:23:34.719598Z"
    },
    "collapsed": false,
    "deletable": true,
    "editable": true
   },
   "outputs": [
    {
     "data": {
      "text/html": [
       "<div><strong>Dask DataFrame Structure:</strong></div>\n",
       "<div>\n",
       "<style scoped>\n",
       "    .dataframe tbody tr th:only-of-type {\n",
       "        vertical-align: middle;\n",
       "    }\n",
       "\n",
       "    .dataframe tbody tr th {\n",
       "        vertical-align: top;\n",
       "    }\n",
       "\n",
       "    .dataframe thead th {\n",
       "        text-align: right;\n",
       "    }\n",
       "</style>\n",
       "<table border=\"1\" class=\"dataframe\">\n",
       "  <thead>\n",
       "    <tr style=\"text-align: right;\">\n",
       "      <th></th>\n",
       "      <th>creation_date</th>\n",
       "      <th>id</th>\n",
       "      <th>score</th>\n",
       "      <th>tags</th>\n",
       "      <th>view_count</th>\n",
       "    </tr>\n",
       "    <tr>\n",
       "      <th>npartitions=1</th>\n",
       "      <th></th>\n",
       "      <th></th>\n",
       "      <th></th>\n",
       "      <th></th>\n",
       "      <th></th>\n",
       "    </tr>\n",
       "  </thead>\n",
       "  <tbody>\n",
       "    <tr>\n",
       "      <th></th>\n",
       "      <td>datetime64[ns]</td>\n",
       "      <td>int64</td>\n",
       "      <td>int64</td>\n",
       "      <td>object</td>\n",
       "      <td>int64</td>\n",
       "    </tr>\n",
       "    <tr>\n",
       "      <th></th>\n",
       "      <td>...</td>\n",
       "      <td>...</td>\n",
       "      <td>...</td>\n",
       "      <td>...</td>\n",
       "      <td>...</td>\n",
       "    </tr>\n",
       "  </tbody>\n",
       "</table>\n",
       "</div>\n",
       "<div>Dask Name: to_dataframe, 3 tasks</div>"
      ],
      "text/plain": [
       "Dask DataFrame Structure:\n",
       "                creation_date     id  score    tags view_count\n",
       "npartitions=1                                                 \n",
       "               datetime64[ns]  int64  int64  object      int64\n",
       "                          ...    ...    ...     ...        ...\n",
       "Dask Name: to_dataframe, 3 tasks"
      ]
     },
     "execution_count": 42,
     "metadata": {},
     "output_type": "execute_result"
    }
   ],
   "source": [
    "# skip all the posts without tags.\n",
    "posts = posts_rows.map(extract_posts_columns)\\\n",
    "    .filter(lambda r: r['tags'] is not None)\\\n",
    "    .to_dataframe()\n",
    "posts"
   ]
  },
  {
   "cell_type": "code",
   "execution_count": 43,
   "metadata": {
    "ExecuteTime": {
     "end_time": "2019-02-16T18:25:03.238093Z",
     "start_time": "2019-02-16T18:25:01.012119Z"
    },
    "collapsed": false,
    "deletable": true,
    "editable": true
   },
   "outputs": [
    {
     "data": {
      "text/html": [
       "<div>\n",
       "<style scoped>\n",
       "    .dataframe tbody tr th:only-of-type {\n",
       "        vertical-align: middle;\n",
       "    }\n",
       "\n",
       "    .dataframe tbody tr th {\n",
       "        vertical-align: top;\n",
       "    }\n",
       "\n",
       "    .dataframe thead th {\n",
       "        text-align: right;\n",
       "    }\n",
       "</style>\n",
       "<table border=\"1\" class=\"dataframe\">\n",
       "  <thead>\n",
       "    <tr style=\"text-align: right;\">\n",
       "      <th></th>\n",
       "      <th>creation_date</th>\n",
       "      <th>id</th>\n",
       "      <th>score</th>\n",
       "      <th>tags</th>\n",
       "      <th>view_count</th>\n",
       "    </tr>\n",
       "  </thead>\n",
       "  <tbody>\n",
       "    <tr>\n",
       "      <th>0</th>\n",
       "      <td>2014-05-13 23:58:30.457</td>\n",
       "      <td>5</td>\n",
       "      <td>9</td>\n",
       "      <td>&lt;machine-learning&gt;</td>\n",
       "      <td>480</td>\n",
       "    </tr>\n",
       "    <tr>\n",
       "      <th>1</th>\n",
       "      <td>2014-05-14 00:11:06.457</td>\n",
       "      <td>7</td>\n",
       "      <td>4</td>\n",
       "      <td>&lt;education&gt;&lt;open-source&gt;</td>\n",
       "      <td>400</td>\n",
       "    </tr>\n",
       "    <tr>\n",
       "      <th>2</th>\n",
       "      <td>2014-05-14 01:25:59.677</td>\n",
       "      <td>14</td>\n",
       "      <td>21</td>\n",
       "      <td>&lt;data-mining&gt;&lt;definitions&gt;</td>\n",
       "      <td>1309</td>\n",
       "    </tr>\n",
       "    <tr>\n",
       "      <th>3</th>\n",
       "      <td>2014-05-14 01:41:23.110</td>\n",
       "      <td>15</td>\n",
       "      <td>2</td>\n",
       "      <td>&lt;databases&gt;</td>\n",
       "      <td>567</td>\n",
       "    </tr>\n",
       "    <tr>\n",
       "      <th>4</th>\n",
       "      <td>2014-05-14 01:57:56.880</td>\n",
       "      <td>16</td>\n",
       "      <td>18</td>\n",
       "      <td>&lt;machine-learning&gt;&lt;bigdata&gt;&lt;libsvm&gt;</td>\n",
       "      <td>329</td>\n",
       "    </tr>\n",
       "  </tbody>\n",
       "</table>\n",
       "</div>"
      ],
      "text/plain": [
       "            creation_date  id  score                                 tags  \\\n",
       "0 2014-05-13 23:58:30.457   5      9                   <machine-learning>   \n",
       "1 2014-05-14 00:11:06.457   7      4             <education><open-source>   \n",
       "2 2014-05-14 01:25:59.677  14     21           <data-mining><definitions>   \n",
       "3 2014-05-14 01:41:23.110  15      2                          <databases>   \n",
       "4 2014-05-14 01:57:56.880  16     18  <machine-learning><bigdata><libsvm>   \n",
       "\n",
       "   view_count  \n",
       "0         480  \n",
       "1         400  \n",
       "2        1309  \n",
       "3         567  \n",
       "4         329  "
      ]
     },
     "execution_count": 43,
     "metadata": {},
     "output_type": "execute_result"
    }
   ],
   "source": [
    "posts.head()"
   ]
  },
  {
   "cell_type": "code",
   "execution_count": 47,
   "metadata": {
    "ExecuteTime": {
     "end_time": "2019-02-16T18:29:33.480384Z",
     "start_time": "2019-02-16T18:29:30.722903Z"
    },
    "collapsed": false,
    "deletable": true,
    "editable": true
   },
   "outputs": [
    {
     "name": "stdout",
     "output_type": "stream",
     "text": [
      "[########################################] | 100% Completed |  2.7s\n"
     ]
    }
   ],
   "source": [
    "# after cleaning xml, write data to a more suitable parquet format.\n",
    "with ProgressBar():\n",
    "    posts.repartition(npartitions=100)\\\n",
    "        .to_parquet('datascience/posts_tags.parq', engine='fastparquet', compression='GZIP')"
   ]
  },
  {
   "cell_type": "markdown",
   "metadata": {
    "deletable": true,
    "editable": true
   },
   "source": [
    "# Read post parquet"
   ]
  },
  {
   "cell_type": "code",
   "execution_count": 48,
   "metadata": {
    "ExecuteTime": {
     "end_time": "2019-02-16T18:30:41.079588Z",
     "start_time": "2019-02-16T18:30:41.054333Z"
    },
    "collapsed": false,
    "deletable": true,
    "editable": true
   },
   "outputs": [
    {
     "data": {
      "text/html": [
       "<div><strong>Dask DataFrame Structure:</strong></div>\n",
       "<div>\n",
       "<style scoped>\n",
       "    .dataframe tbody tr th:only-of-type {\n",
       "        vertical-align: middle;\n",
       "    }\n",
       "\n",
       "    .dataframe tbody tr th {\n",
       "        vertical-align: top;\n",
       "    }\n",
       "\n",
       "    .dataframe thead th {\n",
       "        text-align: right;\n",
       "    }\n",
       "</style>\n",
       "<table border=\"1\" class=\"dataframe\">\n",
       "  <thead>\n",
       "    <tr style=\"text-align: right;\">\n",
       "      <th></th>\n",
       "      <th>creation_date</th>\n",
       "      <th>id</th>\n",
       "      <th>score</th>\n",
       "      <th>tags</th>\n",
       "      <th>view_count</th>\n",
       "    </tr>\n",
       "    <tr>\n",
       "      <th>npartitions=100</th>\n",
       "      <th></th>\n",
       "      <th></th>\n",
       "      <th></th>\n",
       "      <th></th>\n",
       "      <th></th>\n",
       "    </tr>\n",
       "  </thead>\n",
       "  <tbody>\n",
       "    <tr>\n",
       "      <th></th>\n",
       "      <td>datetime64[ns]</td>\n",
       "      <td>int64</td>\n",
       "      <td>int64</td>\n",
       "      <td>object</td>\n",
       "      <td>int64</td>\n",
       "    </tr>\n",
       "    <tr>\n",
       "      <th></th>\n",
       "      <td>...</td>\n",
       "      <td>...</td>\n",
       "      <td>...</td>\n",
       "      <td>...</td>\n",
       "      <td>...</td>\n",
       "    </tr>\n",
       "    <tr>\n",
       "      <th>...</th>\n",
       "      <td>...</td>\n",
       "      <td>...</td>\n",
       "      <td>...</td>\n",
       "      <td>...</td>\n",
       "      <td>...</td>\n",
       "    </tr>\n",
       "    <tr>\n",
       "      <th></th>\n",
       "      <td>...</td>\n",
       "      <td>...</td>\n",
       "      <td>...</td>\n",
       "      <td>...</td>\n",
       "      <td>...</td>\n",
       "    </tr>\n",
       "    <tr>\n",
       "      <th></th>\n",
       "      <td>...</td>\n",
       "      <td>...</td>\n",
       "      <td>...</td>\n",
       "      <td>...</td>\n",
       "      <td>...</td>\n",
       "    </tr>\n",
       "  </tbody>\n",
       "</table>\n",
       "</div>\n",
       "<div>Dask Name: read-parquet, 100 tasks</div>"
      ],
      "text/plain": [
       "Dask DataFrame Structure:\n",
       "                  creation_date     id  score    tags view_count\n",
       "npartitions=100                                                 \n",
       "                 datetime64[ns]  int64  int64  object      int64\n",
       "                            ...    ...    ...     ...        ...\n",
       "...                         ...    ...    ...     ...        ...\n",
       "                            ...    ...    ...     ...        ...\n",
       "                            ...    ...    ...     ...        ...\n",
       "Dask Name: read-parquet, 100 tasks"
      ]
     },
     "execution_count": 48,
     "metadata": {},
     "output_type": "execute_result"
    }
   ],
   "source": [
    "posts = dd.read_parquet('datascience/posts_tags.parq', engine='fastparquet')\n",
    "posts"
   ]
  },
  {
   "cell_type": "code",
   "execution_count": 50,
   "metadata": {
    "ExecuteTime": {
     "end_time": "2019-02-16T18:32:49.313589Z",
     "start_time": "2019-02-16T18:32:48.424361Z"
    },
    "collapsed": false,
    "deletable": true,
    "editable": true
   },
   "outputs": [
    {
     "name": "stdout",
     "output_type": "stream",
     "text": [
      "[########################################] | 100% Completed |  0.9s\n"
     ]
    },
    {
     "data": {
      "text/html": [
       "<div>\n",
       "<style scoped>\n",
       "    .dataframe tbody tr th:only-of-type {\n",
       "        vertical-align: middle;\n",
       "    }\n",
       "\n",
       "    .dataframe tbody tr th {\n",
       "        vertical-align: top;\n",
       "    }\n",
       "\n",
       "    .dataframe thead th {\n",
       "        text-align: right;\n",
       "    }\n",
       "</style>\n",
       "<table border=\"1\" class=\"dataframe\">\n",
       "  <thead>\n",
       "    <tr style=\"text-align: right;\">\n",
       "      <th></th>\n",
       "      <th>count</th>\n",
       "    </tr>\n",
       "    <tr>\n",
       "      <th>creation_date</th>\n",
       "      <th></th>\n",
       "    </tr>\n",
       "  </thead>\n",
       "  <tbody>\n",
       "    <tr>\n",
       "      <th>2014</th>\n",
       "      <td>562</td>\n",
       "    </tr>\n",
       "    <tr>\n",
       "      <th>2015</th>\n",
       "      <td>1176</td>\n",
       "    </tr>\n",
       "    <tr>\n",
       "      <th>2016</th>\n",
       "      <td>2203</td>\n",
       "    </tr>\n",
       "    <tr>\n",
       "      <th>2017</th>\n",
       "      <td>3153</td>\n",
       "    </tr>\n",
       "    <tr>\n",
       "      <th>2018</th>\n",
       "      <td>6455</td>\n",
       "    </tr>\n",
       "  </tbody>\n",
       "</table>\n",
       "</div>"
      ],
      "text/plain": [
       "               count\n",
       "creation_date       \n",
       "2014             562\n",
       "2015            1176\n",
       "2016            2203\n",
       "2017            3153\n",
       "2018            6455"
      ]
     },
     "execution_count": 50,
     "metadata": {},
     "output_type": "execute_result"
    }
   ],
   "source": [
    "# yearly posts\n",
    "with ProgressBar():\n",
    "    posts_count = posts.groupby(posts.creation_date.dt.year)\\\n",
    "        .id.count()\\\n",
    "        .to_frame()\\\n",
    "        .rename(columns={'id': 'count'})\\\n",
    "        .compute()\n",
    "posts_count"
   ]
  },
  {
   "cell_type": "code",
   "execution_count": 51,
   "metadata": {
    "ExecuteTime": {
     "end_time": "2019-02-16T18:33:35.128551Z",
     "start_time": "2019-02-16T18:33:34.952468Z"
    },
    "collapsed": false,
    "deletable": true,
    "editable": true
   },
   "outputs": [
    {
     "data": {
      "image/png": "[encoded data removed]",
      "text/plain": [
       "<Figure size 432x288 with 1 Axes>"
      ]
     },
     "metadata": {
      "needs_background": "light"
     },
     "output_type": "display_data"
    }
   ],
   "source": [
    "posts_count.plot.bar();"
   ]
  },
  {
   "cell_type": "code",
   "execution_count": 52,
   "metadata": {
    "ExecuteTime": {
     "end_time": "2019-02-16T18:34:34.291879Z",
     "start_time": "2019-02-16T18:34:33.526629Z"
    },
    "collapsed": false,
    "deletable": true,
    "editable": true
   },
   "outputs": [
    {
     "name": "stdout",
     "output_type": "stream",
     "text": [
      "[########################################] | 100% Completed |  0.7s\n"
     ]
    },
    {
     "data": {
      "text/html": [
       "<div>\n",
       "<style scoped>\n",
       "    .dataframe tbody tr th:only-of-type {\n",
       "        vertical-align: middle;\n",
       "    }\n",
       "\n",
       "    .dataframe tbody tr th {\n",
       "        vertical-align: top;\n",
       "    }\n",
       "\n",
       "    .dataframe thead th {\n",
       "        text-align: right;\n",
       "    }\n",
       "</style>\n",
       "<table border=\"1\" class=\"dataframe\">\n",
       "  <thead>\n",
       "    <tr style=\"text-align: right;\">\n",
       "      <th></th>\n",
       "      <th>count</th>\n",
       "    </tr>\n",
       "  </thead>\n",
       "  <tbody>\n",
       "    <tr>\n",
       "      <th>2018</th>\n",
       "      <td>6455</td>\n",
       "    </tr>\n",
       "    <tr>\n",
       "      <th>2017</th>\n",
       "      <td>3153</td>\n",
       "    </tr>\n",
       "    <tr>\n",
       "      <th>2016</th>\n",
       "      <td>2203</td>\n",
       "    </tr>\n",
       "    <tr>\n",
       "      <th>2015</th>\n",
       "      <td>1176</td>\n",
       "    </tr>\n",
       "    <tr>\n",
       "      <th>2014</th>\n",
       "      <td>562</td>\n",
       "    </tr>\n",
       "  </tbody>\n",
       "</table>\n",
       "</div>"
      ],
      "text/plain": [
       "      count\n",
       "2018   6455\n",
       "2017   3153\n",
       "2016   2203\n",
       "2015   1176\n",
       "2014    562"
      ]
     },
     "execution_count": 52,
     "metadata": {},
     "output_type": "execute_result"
    }
   ],
   "source": [
    "# faster method\n",
    "with ProgressBar():\n",
    "    posts_count = posts.creation_date.dt.year.value_counts()\\\n",
    "    .to_frame()\\\n",
    "    .rename(columns={'creation_date': 'count'})\\\n",
    "    .compute()\n",
    "posts_count"
   ]
  },
  {
   "cell_type": "code",
   "execution_count": 53,
   "metadata": {
    "ExecuteTime": {
     "end_time": "2019-02-16T18:39:22.406914Z",
     "start_time": "2019-02-16T18:39:22.403814Z"
    },
    "collapsed": true,
    "deletable": true,
    "editable": true
   },
   "outputs": [],
   "source": [
    "# 1. since parquet files are much much smaller than csv we can use pandas.\n",
    "# 2. dask gives multiple parquet files, one per partition, we need to combine\n",
    "#    them to use in pandas since pandas load only one parquet.\n",
    "#\n",
    "# 3. we can also create pandas df directly from xml above, without writing to\n",
    "#    parquet and then reading from parquet, but resulting pandas dataframe\n",
    "#    will be much large (maybe 2GB) and jupyter kernels may die because of\n",
    "#    large object. e.g. when code completion.\n",
    "#\n",
    "#   WHEN USING BIG OBJECTS, do not use CODE-COMPLETION!!! "
   ]
  },
  {
   "cell_type": "code",
   "execution_count": 54,
   "metadata": {
    "ExecuteTime": {
     "end_time": "2019-02-16T18:44:58.361761Z",
     "start_time": "2019-02-16T18:44:57.988638Z"
    },
    "collapsed": false,
    "deletable": true,
    "editable": true
   },
   "outputs": [
    {
     "data": {
      "text/html": [
       "<div>\n",
       "<style scoped>\n",
       "    .dataframe tbody tr th:only-of-type {\n",
       "        vertical-align: middle;\n",
       "    }\n",
       "\n",
       "    .dataframe tbody tr th {\n",
       "        vertical-align: top;\n",
       "    }\n",
       "\n",
       "    .dataframe thead th {\n",
       "        text-align: right;\n",
       "    }\n",
       "</style>\n",
       "<table border=\"1\" class=\"dataframe\">\n",
       "  <thead>\n",
       "    <tr style=\"text-align: right;\">\n",
       "      <th></th>\n",
       "      <th>creation_date</th>\n",
       "      <th>score</th>\n",
       "      <th>tags</th>\n",
       "      <th>view_count</th>\n",
       "    </tr>\n",
       "    <tr>\n",
       "      <th>id</th>\n",
       "      <th></th>\n",
       "      <th></th>\n",
       "      <th></th>\n",
       "      <th></th>\n",
       "    </tr>\n",
       "  </thead>\n",
       "  <tbody>\n",
       "    <tr>\n",
       "      <th>5</th>\n",
       "      <td>2014-05-13 23:58:30.457</td>\n",
       "      <td>9</td>\n",
       "      <td>&lt;machine-learning&gt;</td>\n",
       "      <td>480</td>\n",
       "    </tr>\n",
       "    <tr>\n",
       "      <th>7</th>\n",
       "      <td>2014-05-14 00:11:06.457</td>\n",
       "      <td>4</td>\n",
       "      <td>&lt;education&gt;&lt;open-source&gt;</td>\n",
       "      <td>400</td>\n",
       "    </tr>\n",
       "  </tbody>\n",
       "</table>\n",
       "</div>"
      ],
      "text/plain": [
       "             creation_date  score                      tags  view_count\n",
       "id                                                                     \n",
       "5  2014-05-13 23:58:30.457      9        <machine-learning>         480\n",
       "7  2014-05-14 00:11:06.457      4  <education><open-source>         400"
      ]
     },
     "execution_count": 54,
     "metadata": {},
     "output_type": "execute_result"
    }
   ],
   "source": [
    "posts = posts.set_index('id')\n",
    "posts.head(2)"
   ]
  },
  {
   "cell_type": "code",
   "execution_count": 55,
   "metadata": {
    "ExecuteTime": {
     "end_time": "2019-02-16T18:45:24.894555Z",
     "start_time": "2019-02-16T18:45:24.889707Z"
    },
    "collapsed": false,
    "deletable": true,
    "editable": true
   },
   "outputs": [
    {
     "data": {
      "text/plain": [
       "dask.dataframe.core.DataFrame"
      ]
     },
     "execution_count": 55,
     "metadata": {},
     "output_type": "execute_result"
    }
   ],
   "source": [
    "type(posts)"
   ]
  },
  {
   "cell_type": "code",
   "execution_count": 56,
   "metadata": {
    "ExecuteTime": {
     "end_time": "2019-02-16T18:46:05.556288Z",
     "start_time": "2019-02-16T18:46:05.545116Z"
    },
    "collapsed": false,
    "deletable": true,
    "editable": true
   },
   "outputs": [
    {
     "data": {
      "text/plain": [
       "Dask Series Structure:\n",
       "npartitions=1\n",
       "    int64\n",
       "      ...\n",
       "Name: creation_date, dtype: int64\n",
       "Dask Name: value-counts-agg, 616 tasks"
      ]
     },
     "execution_count": 56,
     "metadata": {},
     "output_type": "execute_result"
    }
   ],
   "source": [
    "posts_count = posts.creation_date.dt.date.value_counts()\n",
    "posts_count"
   ]
  },
  {
   "cell_type": "code",
   "execution_count": 58,
   "metadata": {
    "ExecuteTime": {
     "end_time": "2019-02-16T18:46:25.215580Z",
     "start_time": "2019-02-16T18:46:24.124221Z"
    },
    "collapsed": false,
    "deletable": true,
    "editable": true
   },
   "outputs": [
    {
     "name": "stdout",
     "output_type": "stream",
     "text": [
      "[########################################] | 100% Completed |  1.1s\n"
     ]
    },
    {
     "data": {
      "text/plain": [
       "2018-11-28    45\n",
       "2018-04-23    35\n",
       "2018-05-23    35\n",
       "2018-08-07    33\n",
       "2018-02-21    33\n",
       "Name: creation_date, dtype: int64"
      ]
     },
     "execution_count": 58,
     "metadata": {},
     "output_type": "execute_result"
    }
   ],
   "source": [
    "with ProgressBar():\n",
    "    posts_count_df = posts_count.compute()\n",
    "\n",
    "posts_count_df.head()"
   ]
  },
  {
   "cell_type": "code",
   "execution_count": 65,
   "metadata": {
    "ExecuteTime": {
     "end_time": "2019-02-16T18:49:57.608492Z",
     "start_time": "2019-02-16T18:49:57.604170Z"
    },
    "collapsed": false,
    "deletable": true,
    "editable": true
   },
   "outputs": [
    {
     "data": {
      "text/plain": [
       "pandas.core.series.Series"
      ]
     },
     "execution_count": 65,
     "metadata": {},
     "output_type": "execute_result"
    }
   ],
   "source": [
    "type(posts_count_df)"
   ]
  },
  {
   "cell_type": "code",
   "execution_count": 59,
   "metadata": {
    "ExecuteTime": {
     "end_time": "2019-02-16T18:47:21.994176Z",
     "start_time": "2019-02-16T18:47:21.875008Z"
    },
    "collapsed": false,
    "deletable": true,
    "editable": true
   },
   "outputs": [
    {
     "data": {
      "image/png": "[encoded data removed]",
      "text/plain": [
       "<Figure size 432x288 with 1 Axes>"
      ]
     },
     "metadata": {
      "needs_background": "light"
     },
     "output_type": "display_data"
    }
   ],
   "source": [
    "posts_count_df.plot();"
   ]
  },
  {
   "cell_type": "code",
   "execution_count": 60,
   "metadata": {
    "ExecuteTime": {
     "end_time": "2019-02-16T18:48:19.401177Z",
     "start_time": "2019-02-16T18:48:19.398533Z"
    },
    "collapsed": true,
    "deletable": true,
    "editable": true
   },
   "outputs": [],
   "source": [
    "# daily data looks messy, make it smoother using monthly resampling"
   ]
  },
  {
   "cell_type": "code",
   "execution_count": 61,
   "metadata": {
    "ExecuteTime": {
     "end_time": "2019-02-16T18:48:47.564559Z",
     "start_time": "2019-02-16T18:48:47.561663Z"
    },
    "collapsed": true,
    "deletable": true,
    "editable": true
   },
   "outputs": [],
   "source": [
    "# to deal with timeseries, alway make index timeseries"
   ]
  },
  {
   "cell_type": "code",
   "execution_count": 62,
   "metadata": {
    "ExecuteTime": {
     "end_time": "2019-02-16T18:48:50.500046Z",
     "start_time": "2019-02-16T18:48:50.496667Z"
    },
    "collapsed": true,
    "deletable": true,
    "editable": true
   },
   "outputs": [],
   "source": [
    "posts_count_df.index = pd.DatetimeIndex(posts_count_df.index)"
   ]
  },
  {
   "cell_type": "code",
   "execution_count": 63,
   "metadata": {
    "ExecuteTime": {
     "end_time": "2019-02-16T18:49:06.427224Z",
     "start_time": "2019-02-16T18:49:06.404530Z"
    },
    "collapsed": false,
    "deletable": true,
    "editable": true
   },
   "outputs": [
    {
     "data": {
      "text/html": [
       "<div>\n",
       "<style scoped>\n",
       "    .dataframe tbody tr th:only-of-type {\n",
       "        vertical-align: middle;\n",
       "    }\n",
       "\n",
       "    .dataframe tbody tr th {\n",
       "        vertical-align: top;\n",
       "    }\n",
       "\n",
       "    .dataframe thead th {\n",
       "        text-align: right;\n",
       "    }\n",
       "</style>\n",
       "<table border=\"1\" class=\"dataframe\">\n",
       "  <thead>\n",
       "    <tr style=\"text-align: right;\">\n",
       "      <th></th>\n",
       "      <th>count</th>\n",
       "    </tr>\n",
       "  </thead>\n",
       "  <tbody>\n",
       "    <tr>\n",
       "      <th>2014-05-01</th>\n",
       "      <td>58</td>\n",
       "    </tr>\n",
       "    <tr>\n",
       "      <th>2014-06-01</th>\n",
       "      <td>99</td>\n",
       "    </tr>\n",
       "    <tr>\n",
       "      <th>2014-07-01</th>\n",
       "      <td>76</td>\n",
       "    </tr>\n",
       "    <tr>\n",
       "      <th>2014-08-01</th>\n",
       "      <td>65</td>\n",
       "    </tr>\n",
       "    <tr>\n",
       "      <th>2014-09-01</th>\n",
       "      <td>48</td>\n",
       "    </tr>\n",
       "  </tbody>\n",
       "</table>\n",
       "</div>"
      ],
      "text/plain": [
       "            count\n",
       "2014-05-01     58\n",
       "2014-06-01     99\n",
       "2014-07-01     76\n",
       "2014-08-01     65\n",
       "2014-09-01     48"
      ]
     },
     "execution_count": 63,
     "metadata": {},
     "output_type": "execute_result"
    }
   ],
   "source": [
    "posts_by_month = posts_count_df.resample('MS').sum()\\\n",
    "    .rename('count').to_frame()\n",
    "posts_by_month.head()"
   ]
  },
  {
   "cell_type": "code",
   "execution_count": 66,
   "metadata": {
    "ExecuteTime": {
     "end_time": "2019-02-16T19:14:38.865577Z",
     "start_time": "2019-02-16T19:14:38.711939Z"
    },
    "collapsed": false,
    "deletable": true,
    "editable": true
   },
   "outputs": [
    {
     "data": {
      "image/png": "[encoded data removed]",
      "text/plain": [
       "<Figure size 432x288 with 1 Axes>"
      ]
     },
     "metadata": {
      "needs_background": "light"
     },
     "output_type": "display_data"
    }
   ],
   "source": [
    "posts_by_month.plot();"
   ]
  },
  {
   "cell_type": "code",
   "execution_count": 67,
   "metadata": {
    "ExecuteTime": {
     "end_time": "2019-02-16T19:16:19.121747Z",
     "start_time": "2019-02-16T19:16:18.995730Z"
    },
    "collapsed": false,
    "deletable": true,
    "editable": true
   },
   "outputs": [
    {
     "data": {
      "image/png": "[encoded data removed]",
      "text/plain": [
       "<Figure size 432x288 with 1 Axes>"
      ]
     },
     "metadata": {
      "needs_background": "light"
     },
     "output_type": "display_data"
    }
   ],
   "source": [
    "# yearly plot\n",
    "posts_count_df.groupby(posts_count_df.index.year).sum()\\\n",
    ".rename('count').to_frame().plot.bar();"
   ]
  },
  {
   "cell_type": "markdown",
   "metadata": {
    "deletable": true,
    "editable": true
   },
   "source": [
    "# Read Tags xml"
   ]
  },
  {
   "cell_type": "code",
   "execution_count": 69,
   "metadata": {
    "ExecuteTime": {
     "end_time": "2019-02-16T19:20:59.857827Z",
     "start_time": "2019-02-16T19:20:59.782023Z"
    },
    "collapsed": false,
    "deletable": true,
    "editable": true
   },
   "outputs": [
    {
     "name": "stdout",
     "output_type": "stream",
     "text": [
      "(422, 2)\n"
     ]
    },
    {
     "data": {
      "text/html": [
       "<div>\n",
       "<style scoped>\n",
       "    .dataframe tbody tr th:only-of-type {\n",
       "        vertical-align: middle;\n",
       "    }\n",
       "\n",
       "    .dataframe tbody tr th {\n",
       "        vertical-align: top;\n",
       "    }\n",
       "\n",
       "    .dataframe thead th {\n",
       "        text-align: right;\n",
       "    }\n",
       "</style>\n",
       "<table border=\"1\" class=\"dataframe\">\n",
       "  <thead>\n",
       "    <tr style=\"text-align: right;\">\n",
       "      <th></th>\n",
       "      <th>count</th>\n",
       "      <th>id</th>\n",
       "    </tr>\n",
       "    <tr>\n",
       "      <th>tag_name</th>\n",
       "      <th></th>\n",
       "      <th></th>\n",
       "    </tr>\n",
       "  </thead>\n",
       "  <tbody>\n",
       "    <tr>\n",
       "      <th>.net</th>\n",
       "      <td>6</td>\n",
       "      <td>62</td>\n",
       "    </tr>\n",
       "    <tr>\n",
       "      <th>ab-test</th>\n",
       "      <td>30</td>\n",
       "      <td>344</td>\n",
       "    </tr>\n",
       "    <tr>\n",
       "      <th>accuracy</th>\n",
       "      <td>101</td>\n",
       "      <td>101</td>\n",
       "    </tr>\n",
       "    <tr>\n",
       "      <th>activation-function</th>\n",
       "      <td>43</td>\n",
       "      <td>564</td>\n",
       "    </tr>\n",
       "    <tr>\n",
       "      <th>active-learning</th>\n",
       "      <td>5</td>\n",
       "      <td>483</td>\n",
       "    </tr>\n",
       "    <tr>\n",
       "      <th>activity-recognition</th>\n",
       "      <td>1</td>\n",
       "      <td>680</td>\n",
       "    </tr>\n",
       "    <tr>\n",
       "      <th>actor-critic</th>\n",
       "      <td>7</td>\n",
       "      <td>584</td>\n",
       "    </tr>\n",
       "    <tr>\n",
       "      <th>aggregation</th>\n",
       "      <td>17</td>\n",
       "      <td>284</td>\n",
       "    </tr>\n",
       "    <tr>\n",
       "      <th>ai</th>\n",
       "      <td>8</td>\n",
       "      <td>614</td>\n",
       "    </tr>\n",
       "    <tr>\n",
       "      <th>alex-net</th>\n",
       "      <td>5</td>\n",
       "      <td>514</td>\n",
       "    </tr>\n",
       "  </tbody>\n",
       "</table>\n",
       "</div>"
      ],
      "text/plain": [
       "                      count   id\n",
       "tag_name                        \n",
       ".net                      6   62\n",
       "ab-test                  30  344\n",
       "accuracy                101  101\n",
       "activation-function      43  564\n",
       "active-learning           5  483\n",
       "activity-recognition      1  680\n",
       "actor-critic              7  584\n",
       "aggregation              17  284\n",
       "ai                        8  614\n",
       "alex-net                  5  514"
      ]
     },
     "execution_count": 69,
     "metadata": {},
     "output_type": "execute_result"
    }
   ],
   "source": [
    "tags = db.read_text('datascience/Tags.xml')\\\n",
    "    .filter(lambda l: l.find('<row') > 0)\\\n",
    "    .map(extract_tags_columns)\\\n",
    "    .to_dataframe()\\\n",
    "    .set_index('tag_name')\\\n",
    "    .compute()\n",
    "\n",
    "print(tags.shape)\n",
    "tags.head(10)"
   ]
  },
  {
   "cell_type": "code",
   "execution_count": 71,
   "metadata": {
    "ExecuteTime": {
     "end_time": "2019-02-16T19:52:44.601675Z",
     "start_time": "2019-02-16T19:52:44.560953Z"
    },
    "collapsed": false,
    "deletable": true,
    "editable": true
   },
   "outputs": [
    {
     "data": {
      "text/html": [
       "<div>\n",
       "<style scoped>\n",
       "    .dataframe tbody tr th:only-of-type {\n",
       "        vertical-align: middle;\n",
       "    }\n",
       "\n",
       "    .dataframe tbody tr th {\n",
       "        vertical-align: top;\n",
       "    }\n",
       "\n",
       "    .dataframe thead th {\n",
       "        text-align: right;\n",
       "    }\n",
       "</style>\n",
       "<table border=\"1\" class=\"dataframe\">\n",
       "  <thead>\n",
       "    <tr style=\"text-align: right;\">\n",
       "      <th></th>\n",
       "      <th>count</th>\n",
       "      <th>id</th>\n",
       "    </tr>\n",
       "    <tr>\n",
       "      <th>tag_name</th>\n",
       "      <th></th>\n",
       "      <th></th>\n",
       "    </tr>\n",
       "  </thead>\n",
       "  <tbody>\n",
       "    <tr>\n",
       "      <th>c</th>\n",
       "      <td>7</td>\n",
       "      <td>286</td>\n",
       "    </tr>\n",
       "    <tr>\n",
       "      <th>java</th>\n",
       "      <td>48</td>\n",
       "      <td>179</td>\n",
       "    </tr>\n",
       "    <tr>\n",
       "      <th>javascript</th>\n",
       "      <td>17</td>\n",
       "      <td>73</td>\n",
       "    </tr>\n",
       "    <tr>\n",
       "      <th>python</th>\n",
       "      <td>2210</td>\n",
       "      <td>46</td>\n",
       "    </tr>\n",
       "    <tr>\n",
       "      <th>r</th>\n",
       "      <td>883</td>\n",
       "      <td>24</td>\n",
       "    </tr>\n",
       "  </tbody>\n",
       "</table>\n",
       "</div>"
      ],
      "text/plain": [
       "            count   id\n",
       "tag_name              \n",
       "c               7  286\n",
       "java           48  179\n",
       "javascript     17   73\n",
       "python       2210   46\n",
       "r             883   24"
      ]
     },
     "execution_count": 71,
     "metadata": {},
     "output_type": "execute_result"
    }
   ],
   "source": [
    "langs = ['c', 'c++', 'c#', 'java', 'javascript', 'python', 'r']\n",
    "tags.loc[tags.index.isin(langs), :]"
   ]
  },
  {
   "cell_type": "code",
   "execution_count": 72,
   "metadata": {
    "ExecuteTime": {
     "end_time": "2019-02-16T19:53:21.894134Z",
     "start_time": "2019-02-16T19:53:21.835159Z"
    },
    "collapsed": false,
    "deletable": true,
    "editable": true
   },
   "outputs": [
    {
     "data": {
      "text/html": [
       "<div>\n",
       "<style scoped>\n",
       "    .dataframe tbody tr th:only-of-type {\n",
       "        vertical-align: middle;\n",
       "    }\n",
       "\n",
       "    .dataframe tbody tr th {\n",
       "        vertical-align: top;\n",
       "    }\n",
       "\n",
       "    .dataframe thead th {\n",
       "        text-align: right;\n",
       "    }\n",
       "</style>\n",
       "<table border=\"1\" class=\"dataframe\">\n",
       "  <thead>\n",
       "    <tr style=\"text-align: right;\">\n",
       "      <th></th>\n",
       "      <th>creation_date</th>\n",
       "      <th>score</th>\n",
       "      <th>tags</th>\n",
       "      <th>view_count</th>\n",
       "    </tr>\n",
       "    <tr>\n",
       "      <th>id</th>\n",
       "      <th></th>\n",
       "      <th></th>\n",
       "      <th></th>\n",
       "      <th></th>\n",
       "    </tr>\n",
       "  </thead>\n",
       "  <tbody>\n",
       "    <tr>\n",
       "      <th>5</th>\n",
       "      <td>2014-05-13 23:58:30.457</td>\n",
       "      <td>9</td>\n",
       "      <td>&lt;machine-learning&gt;</td>\n",
       "      <td>480</td>\n",
       "    </tr>\n",
       "    <tr>\n",
       "      <th>7</th>\n",
       "      <td>2014-05-14 00:11:06.457</td>\n",
       "      <td>4</td>\n",
       "      <td>&lt;education&gt;&lt;open-source&gt;</td>\n",
       "      <td>400</td>\n",
       "    </tr>\n",
       "    <tr>\n",
       "      <th>14</th>\n",
       "      <td>2014-05-14 01:25:59.677</td>\n",
       "      <td>21</td>\n",
       "      <td>&lt;data-mining&gt;&lt;definitions&gt;</td>\n",
       "      <td>1309</td>\n",
       "    </tr>\n",
       "    <tr>\n",
       "      <th>15</th>\n",
       "      <td>2014-05-14 01:41:23.110</td>\n",
       "      <td>2</td>\n",
       "      <td>&lt;databases&gt;</td>\n",
       "      <td>567</td>\n",
       "    </tr>\n",
       "    <tr>\n",
       "      <th>16</th>\n",
       "      <td>2014-05-14 01:57:56.880</td>\n",
       "      <td>18</td>\n",
       "      <td>&lt;machine-learning&gt;&lt;bigdata&gt;&lt;libsvm&gt;</td>\n",
       "      <td>329</td>\n",
       "    </tr>\n",
       "  </tbody>\n",
       "</table>\n",
       "</div>"
      ],
      "text/plain": [
       "             creation_date  score                                 tags  \\\n",
       "id                                                                       \n",
       "5  2014-05-13 23:58:30.457      9                   <machine-learning>   \n",
       "7  2014-05-14 00:11:06.457      4             <education><open-source>   \n",
       "14 2014-05-14 01:25:59.677     21           <data-mining><definitions>   \n",
       "15 2014-05-14 01:41:23.110      2                          <databases>   \n",
       "16 2014-05-14 01:57:56.880     18  <machine-learning><bigdata><libsvm>   \n",
       "\n",
       "    view_count  \n",
       "id              \n",
       "5          480  \n",
       "7          400  \n",
       "14        1309  \n",
       "15         567  \n",
       "16         329  "
      ]
     },
     "execution_count": 72,
     "metadata": {},
     "output_type": "execute_result"
    }
   ],
   "source": [
    "posts.head()"
   ]
  },
  {
   "cell_type": "code",
   "execution_count": 73,
   "metadata": {
    "ExecuteTime": {
     "end_time": "2019-02-16T19:53:55.589541Z",
     "start_time": "2019-02-16T19:53:55.533908Z"
    },
    "collapsed": false,
    "deletable": true,
    "editable": true
   },
   "outputs": [
    {
     "data": {
      "text/html": [
       "<div>\n",
       "<style scoped>\n",
       "    .dataframe tbody tr th:only-of-type {\n",
       "        vertical-align: middle;\n",
       "    }\n",
       "\n",
       "    .dataframe tbody tr th {\n",
       "        vertical-align: top;\n",
       "    }\n",
       "\n",
       "    .dataframe thead th {\n",
       "        text-align: right;\n",
       "    }\n",
       "</style>\n",
       "<table border=\"1\" class=\"dataframe\">\n",
       "  <thead>\n",
       "    <tr style=\"text-align: right;\">\n",
       "      <th></th>\n",
       "      <th></th>\n",
       "      <th>tag</th>\n",
       "    </tr>\n",
       "    <tr>\n",
       "      <th>id</th>\n",
       "      <th>match</th>\n",
       "      <th></th>\n",
       "    </tr>\n",
       "  </thead>\n",
       "  <tbody>\n",
       "    <tr>\n",
       "      <th>5</th>\n",
       "      <th>0</th>\n",
       "      <td>machine-learning</td>\n",
       "    </tr>\n",
       "    <tr>\n",
       "      <th rowspan=\"2\" valign=\"top\">7</th>\n",
       "      <th>0</th>\n",
       "      <td>education</td>\n",
       "    </tr>\n",
       "    <tr>\n",
       "      <th>1</th>\n",
       "      <td>open-source</td>\n",
       "    </tr>\n",
       "    <tr>\n",
       "      <th rowspan=\"2\" valign=\"top\">14</th>\n",
       "      <th>0</th>\n",
       "      <td>data-mining</td>\n",
       "    </tr>\n",
       "    <tr>\n",
       "      <th>1</th>\n",
       "      <td>definitions</td>\n",
       "    </tr>\n",
       "  </tbody>\n",
       "</table>\n",
       "</div>"
      ],
      "text/plain": [
       "                       tag\n",
       "id match                  \n",
       "5  0      machine-learning\n",
       "7  0             education\n",
       "   1           open-source\n",
       "14 0           data-mining\n",
       "   1           definitions"
      ]
     },
     "execution_count": 73,
     "metadata": {},
     "output_type": "execute_result"
    }
   ],
   "source": [
    "post_tags = posts.tags.str.lower()\\\n",
    "    .str.extractall('<([^>]*)>')\\\n",
    "    .rename(columns={0: 'tag'})\n",
    "post_tags.head()"
   ]
  },
  {
   "cell_type": "code",
   "execution_count": null,
   "metadata": {
    "ExecuteTime": {
     "end_time": "2019-02-16T19:55:51.621673Z",
     "start_time": "2019-02-16T19:55:49.512270Z"
    },
    "collapsed": true,
    "deletable": true,
    "editable": true
   },
   "outputs": [],
   "source": [
    "# persist keep data in RAM\n",
    "with ProgressBar():\n",
    "    post_known_tags = post_tags.where(post_tags.tag.isin(langs))\\\n",
    "        .dropna().persist()"
   ]
  },
  {
   "cell_type": "code",
   "execution_count": 74,
   "metadata": {
    "ExecuteTime": {
     "end_time": "2019-02-16T19:55:51.621673Z",
     "start_time": "2019-02-16T19:55:49.512270Z"
    },
    "collapsed": false,
    "deletable": true,
    "editable": true
   },
   "outputs": [
    {
     "name": "stdout",
     "output_type": "stream",
     "text": [
      "[########################################] | 100% Completed |  2.1s\n"
     ]
    },
    {
     "data": {
      "text/html": [
       "<div>\n",
       "<style scoped>\n",
       "    .dataframe tbody tr th:only-of-type {\n",
       "        vertical-align: middle;\n",
       "    }\n",
       "\n",
       "    .dataframe tbody tr th {\n",
       "        vertical-align: top;\n",
       "    }\n",
       "\n",
       "    .dataframe thead th {\n",
       "        text-align: right;\n",
       "    }\n",
       "</style>\n",
       "<table border=\"1\" class=\"dataframe\">\n",
       "  <thead>\n",
       "    <tr style=\"text-align: right;\">\n",
       "      <th></th>\n",
       "      <th></th>\n",
       "      <th>tag</th>\n",
       "    </tr>\n",
       "    <tr>\n",
       "      <th>id</th>\n",
       "      <th>match</th>\n",
       "      <th></th>\n",
       "    </tr>\n",
       "  </thead>\n",
       "  <tbody>\n",
       "    <tr>\n",
       "      <th>41</th>\n",
       "      <th>1</th>\n",
       "      <td>r</td>\n",
       "    </tr>\n",
       "    <tr>\n",
       "      <th>50</th>\n",
       "      <th>0</th>\n",
       "      <td>r</td>\n",
       "    </tr>\n",
       "    <tr>\n",
       "      <th>52</th>\n",
       "      <th>0</th>\n",
       "      <td>r</td>\n",
       "    </tr>\n",
       "    <tr>\n",
       "      <th>59</th>\n",
       "      <th>1</th>\n",
       "      <td>r</td>\n",
       "    </tr>\n",
       "    <tr>\n",
       "      <th>116</th>\n",
       "      <th>2</th>\n",
       "      <td>python</td>\n",
       "    </tr>\n",
       "  </tbody>\n",
       "</table>\n",
       "</div>"
      ],
      "text/plain": [
       "              tag\n",
       "id  match        \n",
       "41  1           r\n",
       "50  0           r\n",
       "52  0           r\n",
       "59  1           r\n",
       "116 2      python"
      ]
     },
     "execution_count": 74,
     "metadata": {},
     "output_type": "execute_result"
    }
   ],
   "source": [
    "post_known_tags.head()"
   ]
  },
  {
   "cell_type": "code",
   "execution_count": null,
   "metadata": {
    "ExecuteTime": {
     "end_time": "2019-02-16T19:56:32.481180Z",
     "start_time": "2019-02-16T19:56:32.255716Z"
    },
    "collapsed": true,
    "deletable": true,
    "editable": true
   },
   "outputs": [],
   "source": [
    "# since we have data in RAM, this takes much small time.\n",
    "with ProgressBar():\n",
    "    known_tags_count = post_known_tags.tag.value_counts().to_frame().compute()"
   ]
  },
  {
   "cell_type": "code",
   "execution_count": 75,
   "metadata": {
    "ExecuteTime": {
     "end_time": "2019-02-16T19:56:32.481180Z",
     "start_time": "2019-02-16T19:56:32.255716Z"
    },
    "collapsed": false,
    "deletable": true,
    "editable": true
   },
   "outputs": [
    {
     "name": "stdout",
     "output_type": "stream",
     "text": [
      "[########################################] | 100% Completed |  0.2s\n"
     ]
    },
    {
     "data": {
      "text/html": [
       "<div>\n",
       "<style scoped>\n",
       "    .dataframe tbody tr th:only-of-type {\n",
       "        vertical-align: middle;\n",
       "    }\n",
       "\n",
       "    .dataframe tbody tr th {\n",
       "        vertical-align: top;\n",
       "    }\n",
       "\n",
       "    .dataframe thead th {\n",
       "        text-align: right;\n",
       "    }\n",
       "</style>\n",
       "<table border=\"1\" class=\"dataframe\">\n",
       "  <thead>\n",
       "    <tr style=\"text-align: right;\">\n",
       "      <th></th>\n",
       "      <th>tag</th>\n",
       "    </tr>\n",
       "  </thead>\n",
       "  <tbody>\n",
       "    <tr>\n",
       "      <th>python</th>\n",
       "      <td>2210</td>\n",
       "    </tr>\n",
       "    <tr>\n",
       "      <th>r</th>\n",
       "      <td>883</td>\n",
       "    </tr>\n",
       "    <tr>\n",
       "      <th>java</th>\n",
       "      <td>48</td>\n",
       "    </tr>\n",
       "    <tr>\n",
       "      <th>javascript</th>\n",
       "      <td>17</td>\n",
       "    </tr>\n",
       "    <tr>\n",
       "      <th>c</th>\n",
       "      <td>7</td>\n",
       "    </tr>\n",
       "  </tbody>\n",
       "</table>\n",
       "</div>"
      ],
      "text/plain": [
       "             tag\n",
       "python      2210\n",
       "r            883\n",
       "java          48\n",
       "javascript    17\n",
       "c              7"
      ]
     },
     "execution_count": 75,
     "metadata": {},
     "output_type": "execute_result"
    }
   ],
   "source": [
    "known_tags_count"
   ]
  },
  {
   "cell_type": "markdown",
   "metadata": {
    "deletable": true,
    "editable": true
   },
   "source": [
    "# Join post and tag"
   ]
  },
  {
   "cell_type": "code",
   "execution_count": 84,
   "metadata": {
    "ExecuteTime": {
     "end_time": "2019-02-16T20:07:42.165367Z",
     "start_time": "2019-02-16T20:07:42.142489Z"
    },
    "collapsed": false,
    "deletable": true,
    "editable": true
   },
   "outputs": [
    {
     "data": {
      "text/html": [
       "<div>\n",
       "<style scoped>\n",
       "    .dataframe tbody tr th:only-of-type {\n",
       "        vertical-align: middle;\n",
       "    }\n",
       "\n",
       "    .dataframe tbody tr th {\n",
       "        vertical-align: top;\n",
       "    }\n",
       "\n",
       "    .dataframe thead th {\n",
       "        text-align: right;\n",
       "    }\n",
       "</style>\n",
       "<table border=\"1\" class=\"dataframe\">\n",
       "  <thead>\n",
       "    <tr style=\"text-align: right;\">\n",
       "      <th></th>\n",
       "      <th>creation_date</th>\n",
       "      <th>score</th>\n",
       "      <th>tags</th>\n",
       "      <th>view_count</th>\n",
       "    </tr>\n",
       "    <tr>\n",
       "      <th>id</th>\n",
       "      <th></th>\n",
       "      <th></th>\n",
       "      <th></th>\n",
       "      <th></th>\n",
       "    </tr>\n",
       "  </thead>\n",
       "  <tbody>\n",
       "    <tr>\n",
       "      <th>5</th>\n",
       "      <td>2014-05-13 23:58:30.457</td>\n",
       "      <td>9</td>\n",
       "      <td>&lt;machine-learning&gt;</td>\n",
       "      <td>480</td>\n",
       "    </tr>\n",
       "    <tr>\n",
       "      <th>7</th>\n",
       "      <td>2014-05-14 00:11:06.457</td>\n",
       "      <td>4</td>\n",
       "      <td>&lt;education&gt;&lt;open-source&gt;</td>\n",
       "      <td>400</td>\n",
       "    </tr>\n",
       "  </tbody>\n",
       "</table>\n",
       "</div>"
      ],
      "text/plain": [
       "             creation_date  score                      tags  view_count\n",
       "id                                                                     \n",
       "5  2014-05-13 23:58:30.457      9        <machine-learning>         480\n",
       "7  2014-05-14 00:11:06.457      4  <education><open-source>         400"
      ]
     },
     "execution_count": 84,
     "metadata": {},
     "output_type": "execute_result"
    }
   ],
   "source": [
    "posts.head(2)"
   ]
  },
  {
   "cell_type": "code",
   "execution_count": 85,
   "metadata": {
    "ExecuteTime": {
     "end_time": "2019-02-16T20:07:49.202715Z",
     "start_time": "2019-02-16T20:07:49.193125Z"
    },
    "collapsed": false,
    "deletable": true,
    "editable": true
   },
   "outputs": [
    {
     "data": {
      "text/html": [
       "<div>\n",
       "<style scoped>\n",
       "    .dataframe tbody tr th:only-of-type {\n",
       "        vertical-align: middle;\n",
       "    }\n",
       "\n",
       "    .dataframe tbody tr th {\n",
       "        vertical-align: top;\n",
       "    }\n",
       "\n",
       "    .dataframe thead th {\n",
       "        text-align: right;\n",
       "    }\n",
       "</style>\n",
       "<table border=\"1\" class=\"dataframe\">\n",
       "  <thead>\n",
       "    <tr style=\"text-align: right;\">\n",
       "      <th></th>\n",
       "      <th></th>\n",
       "      <th>tag</th>\n",
       "    </tr>\n",
       "    <tr>\n",
       "      <th>id</th>\n",
       "      <th>match</th>\n",
       "      <th></th>\n",
       "    </tr>\n",
       "  </thead>\n",
       "  <tbody>\n",
       "    <tr>\n",
       "      <th>41</th>\n",
       "      <th>1</th>\n",
       "      <td>r</td>\n",
       "    </tr>\n",
       "    <tr>\n",
       "      <th>50</th>\n",
       "      <th>0</th>\n",
       "      <td>r</td>\n",
       "    </tr>\n",
       "  </tbody>\n",
       "</table>\n",
       "</div>"
      ],
      "text/plain": [
       "         tag\n",
       "id match    \n",
       "41 1       r\n",
       "50 0       r"
      ]
     },
     "execution_count": 85,
     "metadata": {},
     "output_type": "execute_result"
    }
   ],
   "source": [
    "post_known_tags.head(2)"
   ]
  },
  {
   "cell_type": "code",
   "execution_count": 90,
   "metadata": {
    "ExecuteTime": {
     "end_time": "2019-02-16T20:13:11.730939Z",
     "start_time": "2019-02-16T20:13:11.699288Z"
    },
    "collapsed": false,
    "deletable": true,
    "editable": true
   },
   "outputs": [
    {
     "data": {
      "text/html": [
       "<div><strong>Dask DataFrame Structure:</strong></div>\n",
       "<div>\n",
       "<style scoped>\n",
       "    .dataframe tbody tr th:only-of-type {\n",
       "        vertical-align: middle;\n",
       "    }\n",
       "\n",
       "    .dataframe tbody tr th {\n",
       "        vertical-align: top;\n",
       "    }\n",
       "\n",
       "    .dataframe thead th {\n",
       "        text-align: right;\n",
       "    }\n",
       "</style>\n",
       "<table border=\"1\" class=\"dataframe\">\n",
       "  <thead>\n",
       "    <tr style=\"text-align: right;\">\n",
       "      <th></th>\n",
       "      <th>creation_date</th>\n",
       "      <th>score</th>\n",
       "      <th>tags</th>\n",
       "      <th>view_count</th>\n",
       "      <th>tag</th>\n",
       "    </tr>\n",
       "    <tr>\n",
       "      <th>npartitions=100</th>\n",
       "      <th></th>\n",
       "      <th></th>\n",
       "      <th></th>\n",
       "      <th></th>\n",
       "      <th></th>\n",
       "    </tr>\n",
       "  </thead>\n",
       "  <tbody>\n",
       "    <tr>\n",
       "      <th>5</th>\n",
       "      <td>object</td>\n",
       "      <td>int64</td>\n",
       "      <td>object</td>\n",
       "      <td>int64</td>\n",
       "      <td>category[unknown]</td>\n",
       "    </tr>\n",
       "    <tr>\n",
       "      <th>554</th>\n",
       "      <td>...</td>\n",
       "      <td>...</td>\n",
       "      <td>...</td>\n",
       "      <td>...</td>\n",
       "      <td>...</td>\n",
       "    </tr>\n",
       "    <tr>\n",
       "      <th>...</th>\n",
       "      <td>...</td>\n",
       "      <td>...</td>\n",
       "      <td>...</td>\n",
       "      <td>...</td>\n",
       "      <td>...</td>\n",
       "    </tr>\n",
       "    <tr>\n",
       "      <th>41714</th>\n",
       "      <td>...</td>\n",
       "      <td>...</td>\n",
       "      <td>...</td>\n",
       "      <td>...</td>\n",
       "      <td>...</td>\n",
       "    </tr>\n",
       "    <tr>\n",
       "      <th>41956</th>\n",
       "      <td>...</td>\n",
       "      <td>...</td>\n",
       "      <td>...</td>\n",
       "      <td>...</td>\n",
       "      <td>...</td>\n",
       "    </tr>\n",
       "  </tbody>\n",
       "</table>\n",
       "</div>\n",
       "<div>Dask Name: assign, 1500 tasks</div>"
      ],
      "text/plain": [
       "Dask DataFrame Structure:\n",
       "                creation_date  score    tags view_count                tag\n",
       "npartitions=100                                                           \n",
       "5                      object  int64  object      int64  category[unknown]\n",
       "554                       ...    ...     ...        ...                ...\n",
       "...                       ...    ...     ...        ...                ...\n",
       "41714                     ...    ...     ...        ...                ...\n",
       "41956                     ...    ...     ...        ...                ...\n",
       "Dask Name: assign, 1500 tasks"
      ]
     },
     "execution_count": 90,
     "metadata": {},
     "output_type": "execute_result"
    }
   ],
   "source": [
    "post_tag_join = (posts.join(post_known_tags, how='inner')\n",
    "                 # timestamp 2014-05-14 11:15:40.907 ==> 2014-05-14 string format\n",
    "                 .assign(creation_date = lambda df: df.creation_date.dt.date)\n",
    "                 # object ==> category\n",
    "                 .assign(tag = lambda df: df.tag.astype('category')))\n",
    "\n",
    "post_tag_join"
   ]
  },
  {
   "cell_type": "code",
   "execution_count": 91,
   "metadata": {
    "ExecuteTime": {
     "end_time": "2019-02-16T20:13:15.732260Z",
     "start_time": "2019-02-16T20:13:13.739208Z"
    },
    "collapsed": false,
    "deletable": true,
    "editable": true
   },
   "outputs": [
    {
     "name": "stdout",
     "output_type": "stream",
     "text": [
      "[########################################] | 100% Completed |  2.0s\n"
     ]
    }
   ],
   "source": [
    "with ProgressBar():\n",
    "    post_tag_join = post_tag_join.persist()"
   ]
  },
  {
   "cell_type": "code",
   "execution_count": 89,
   "metadata": {
    "ExecuteTime": {
     "end_time": "2019-02-16T20:12:12.837712Z",
     "start_time": "2019-02-16T20:12:12.825434Z"
    },
    "collapsed": false,
    "deletable": true,
    "editable": true
   },
   "outputs": [
    {
     "data": {
      "text/html": [
       "<div>\n",
       "<style scoped>\n",
       "    .dataframe tbody tr th:only-of-type {\n",
       "        vertical-align: middle;\n",
       "    }\n",
       "\n",
       "    .dataframe tbody tr th {\n",
       "        vertical-align: top;\n",
       "    }\n",
       "\n",
       "    .dataframe thead th {\n",
       "        text-align: right;\n",
       "    }\n",
       "</style>\n",
       "<table border=\"1\" class=\"dataframe\">\n",
       "  <thead>\n",
       "    <tr style=\"text-align: right;\">\n",
       "      <th></th>\n",
       "      <th></th>\n",
       "      <th>creation_date</th>\n",
       "      <th>score</th>\n",
       "      <th>tags</th>\n",
       "      <th>view_count</th>\n",
       "      <th>tag</th>\n",
       "    </tr>\n",
       "    <tr>\n",
       "      <th>id</th>\n",
       "      <th>match</th>\n",
       "      <th></th>\n",
       "      <th></th>\n",
       "      <th></th>\n",
       "      <th></th>\n",
       "      <th></th>\n",
       "    </tr>\n",
       "  </thead>\n",
       "  <tbody>\n",
       "    <tr>\n",
       "      <th>41</th>\n",
       "      <th>1</th>\n",
       "      <td>2014-05-14 11:15:40.907</td>\n",
       "      <td>43</td>\n",
       "      <td>&lt;bigdata&gt;&lt;r&gt;</td>\n",
       "      <td>4883</td>\n",
       "      <td>r</td>\n",
       "    </tr>\n",
       "    <tr>\n",
       "      <th>50</th>\n",
       "      <th>0</th>\n",
       "      <td>2014-05-14 14:26:54.313</td>\n",
       "      <td>6</td>\n",
       "      <td>&lt;r&gt;&lt;databases&gt;&lt;efficiency&gt;&lt;tools&gt;</td>\n",
       "      <td>520</td>\n",
       "      <td>r</td>\n",
       "    </tr>\n",
       "    <tr>\n",
       "      <th>52</th>\n",
       "      <th>0</th>\n",
       "      <td>2014-05-14 15:25:21.700</td>\n",
       "      <td>33</td>\n",
       "      <td>&lt;r&gt;&lt;data-cleaning&gt;</td>\n",
       "      <td>3141</td>\n",
       "      <td>r</td>\n",
       "    </tr>\n",
       "    <tr>\n",
       "      <th>59</th>\n",
       "      <th>1</th>\n",
       "      <td>2014-05-14 17:48:21.240</td>\n",
       "      <td>10</td>\n",
       "      <td>&lt;apache-hadoop&gt;&lt;r&gt;</td>\n",
       "      <td>992</td>\n",
       "      <td>r</td>\n",
       "    </tr>\n",
       "    <tr>\n",
       "      <th>116</th>\n",
       "      <th>2</th>\n",
       "      <td>2014-05-17 09:16:18.823</td>\n",
       "      <td>26</td>\n",
       "      <td>&lt;machine-learning&gt;&lt;dimensionality-reduction&gt;&lt;p...</td>\n",
       "      <td>2720</td>\n",
       "      <td>python</td>\n",
       "    </tr>\n",
       "  </tbody>\n",
       "</table>\n",
       "</div>"
      ],
      "text/plain": [
       "                    creation_date  score  \\\n",
       "id  match                                  \n",
       "41  1     2014-05-14 11:15:40.907     43   \n",
       "50  0     2014-05-14 14:26:54.313      6   \n",
       "52  0     2014-05-14 15:25:21.700     33   \n",
       "59  1     2014-05-14 17:48:21.240     10   \n",
       "116 2     2014-05-17 09:16:18.823     26   \n",
       "\n",
       "                                                        tags  view_count  \\\n",
       "id  match                                                                  \n",
       "41  1                                           <bigdata><r>        4883   \n",
       "50  0                      <r><databases><efficiency><tools>         520   \n",
       "52  0                                     <r><data-cleaning>        3141   \n",
       "59  1                                     <apache-hadoop><r>         992   \n",
       "116 2      <machine-learning><dimensionality-reduction><p...        2720   \n",
       "\n",
       "              tag  \n",
       "id  match          \n",
       "41  1           r  \n",
       "50  0           r  \n",
       "52  0           r  \n",
       "59  1           r  \n",
       "116 2      python  "
      ]
     },
     "execution_count": 89,
     "metadata": {},
     "output_type": "execute_result"
    }
   ],
   "source": [
    "post_tag_join.head()"
   ]
  },
  {
   "cell_type": "code",
   "execution_count": 86,
   "metadata": {
    "ExecuteTime": {
     "end_time": "2019-02-16T20:10:51.878483Z",
     "start_time": "2019-02-16T20:10:51.872399Z"
    },
    "collapsed": false,
    "deletable": true,
    "editable": true
   },
   "outputs": [
    {
     "data": {
      "text/plain": [
       "creation_date      object\n",
       "score               int64\n",
       "tags               object\n",
       "view_count          int64\n",
       "tag              category\n",
       "dtype: object"
      ]
     },
     "execution_count": 86,
     "metadata": {},
     "output_type": "execute_result"
    }
   ],
   "source": [
    "post_tag_join.dtypes"
   ]
  },
  {
   "cell_type": "code",
   "execution_count": 98,
   "metadata": {
    "ExecuteTime": {
     "end_time": "2019-02-16T20:28:42.702356Z",
     "start_time": "2019-02-16T20:28:42.517935Z"
    },
    "collapsed": false,
    "deletable": true,
    "editable": true
   },
   "outputs": [
    {
     "data": {
      "text/html": [
       "<div><strong>Dask DataFrame Structure:</strong></div>\n",
       "<div>\n",
       "<style scoped>\n",
       "    .dataframe tbody tr th:only-of-type {\n",
       "        vertical-align: middle;\n",
       "    }\n",
       "\n",
       "    .dataframe tbody tr th {\n",
       "        vertical-align: top;\n",
       "    }\n",
       "\n",
       "    .dataframe thead th {\n",
       "        text-align: right;\n",
       "    }\n",
       "</style>\n",
       "<table border=\"1\" class=\"dataframe\">\n",
       "  <thead>\n",
       "    <tr style=\"text-align: right;\">\n",
       "      <th></th>\n",
       "      <th>javascript</th>\n",
       "      <th>python</th>\n",
       "      <th>r</th>\n",
       "      <th>java</th>\n",
       "      <th>c</th>\n",
       "    </tr>\n",
       "    <tr>\n",
       "      <th>npartitions=1</th>\n",
       "      <th></th>\n",
       "      <th></th>\n",
       "      <th></th>\n",
       "      <th></th>\n",
       "      <th></th>\n",
       "    </tr>\n",
       "  </thead>\n",
       "  <tbody>\n",
       "    <tr>\n",
       "      <th></th>\n",
       "      <td>float64</td>\n",
       "      <td>float64</td>\n",
       "      <td>float64</td>\n",
       "      <td>float64</td>\n",
       "      <td>float64</td>\n",
       "    </tr>\n",
       "    <tr>\n",
       "      <th></th>\n",
       "      <td>...</td>\n",
       "      <td>...</td>\n",
       "      <td>...</td>\n",
       "      <td>...</td>\n",
       "      <td>...</td>\n",
       "    </tr>\n",
       "  </tbody>\n",
       "</table>\n",
       "</div>\n",
       "<div>Dask Name: pivot_table_count-agg, 516 tasks</div>"
      ],
      "text/plain": [
       "Dask DataFrame Structure:\n",
       "              javascript   python        r     java        c\n",
       "npartitions=1                                               \n",
       "                 float64  float64  float64  float64  float64\n",
       "                     ...      ...      ...      ...      ...\n",
       "Dask Name: pivot_table_count-agg, 516 tasks"
      ]
     },
     "execution_count": 98,
     "metadata": {},
     "output_type": "execute_result"
    }
   ],
   "source": [
    "# languages vs creation date pivot table\n",
    "post_tag_join['tag'] = post_tag_join['tag'].cat.as_known()\n",
    "post_pivot = post_tag_join.pivot_table(\n",
    "    index='creation_date',\n",
    "    columns='tag',\n",
    "    values='score',\n",
    "    aggfunc='count')\n",
    "\n",
    "post_pivot"
   ]
  },
  {
   "cell_type": "code",
   "execution_count": 99,
   "metadata": {
    "ExecuteTime": {
     "end_time": "2019-02-16T20:29:17.652504Z",
     "start_time": "2019-02-16T20:29:07.179114Z"
    },
    "collapsed": false,
    "deletable": true,
    "editable": true
   },
   "outputs": [
    {
     "name": "stdout",
     "output_type": "stream",
     "text": [
      "[########################################] | 100% Completed | 10.4s\n"
     ]
    },
    {
     "data": {
      "text/html": [
       "<div>\n",
       "<style scoped>\n",
       "    .dataframe tbody tr th:only-of-type {\n",
       "        vertical-align: middle;\n",
       "    }\n",
       "\n",
       "    .dataframe tbody tr th {\n",
       "        vertical-align: top;\n",
       "    }\n",
       "\n",
       "    .dataframe thead th {\n",
       "        text-align: right;\n",
       "    }\n",
       "</style>\n",
       "<table border=\"1\" class=\"dataframe\">\n",
       "  <thead>\n",
       "    <tr style=\"text-align: right;\">\n",
       "      <th>tag</th>\n",
       "      <th>c</th>\n",
       "      <th>java</th>\n",
       "      <th>javascript</th>\n",
       "      <th>python</th>\n",
       "      <th>r</th>\n",
       "    </tr>\n",
       "    <tr>\n",
       "      <th>creation_date</th>\n",
       "      <th></th>\n",
       "      <th></th>\n",
       "      <th></th>\n",
       "      <th></th>\n",
       "      <th></th>\n",
       "    </tr>\n",
       "  </thead>\n",
       "  <tbody>\n",
       "    <tr>\n",
       "      <th>2014-05-14</th>\n",
       "      <td>0.0</td>\n",
       "      <td>0.0</td>\n",
       "      <td>0.0</td>\n",
       "      <td>0.0</td>\n",
       "      <td>4.0</td>\n",
       "    </tr>\n",
       "    <tr>\n",
       "      <th>2014-05-17</th>\n",
       "      <td>0.0</td>\n",
       "      <td>0.0</td>\n",
       "      <td>0.0</td>\n",
       "      <td>1.0</td>\n",
       "      <td>0.0</td>\n",
       "    </tr>\n",
       "    <tr>\n",
       "      <th>2014-05-19</th>\n",
       "      <td>0.0</td>\n",
       "      <td>0.0</td>\n",
       "      <td>0.0</td>\n",
       "      <td>1.0</td>\n",
       "      <td>0.0</td>\n",
       "    </tr>\n",
       "    <tr>\n",
       "      <th>2014-05-21</th>\n",
       "      <td>0.0</td>\n",
       "      <td>0.0</td>\n",
       "      <td>1.0</td>\n",
       "      <td>0.0</td>\n",
       "      <td>1.0</td>\n",
       "    </tr>\n",
       "    <tr>\n",
       "      <th>2014-05-27</th>\n",
       "      <td>0.0</td>\n",
       "      <td>0.0</td>\n",
       "      <td>0.0</td>\n",
       "      <td>1.0</td>\n",
       "      <td>0.0</td>\n",
       "    </tr>\n",
       "  </tbody>\n",
       "</table>\n",
       "</div>"
      ],
      "text/plain": [
       "tag              c  java  javascript  python    r\n",
       "creation_date                                    \n",
       "2014-05-14     0.0   0.0         0.0     0.0  4.0\n",
       "2014-05-17     0.0   0.0         0.0     1.0  0.0\n",
       "2014-05-19     0.0   0.0         0.0     1.0  0.0\n",
       "2014-05-21     0.0   0.0         1.0     0.0  1.0\n",
       "2014-05-27     0.0   0.0         0.0     1.0  0.0"
      ]
     },
     "execution_count": 99,
     "metadata": {},
     "output_type": "execute_result"
    }
   ],
   "source": [
    "with ProgressBar():\n",
    "    post_pivot_df = post_pivot.compute()\n",
    "\n",
    "post_pivot_df.head()"
   ]
  },
  {
   "cell_type": "code",
   "execution_count": 100,
   "metadata": {
    "ExecuteTime": {
     "end_time": "2019-02-16T20:30:28.611472Z",
     "start_time": "2019-02-16T20:30:28.423335Z"
    },
    "collapsed": false,
    "deletable": true,
    "editable": true
   },
   "outputs": [
    {
     "data": {
      "image/png": "[encoded data removed]",
      "text/plain": [
       "<Figure size 432x288 with 1 Axes>"
      ]
     },
     "metadata": {
      "needs_background": "light"
     },
     "output_type": "display_data"
    }
   ],
   "source": [
    "post_pivot_df.plot();"
   ]
  },
  {
   "cell_type": "code",
   "execution_count": 101,
   "metadata": {
    "ExecuteTime": {
     "end_time": "2019-02-16T20:31:28.665049Z",
     "start_time": "2019-02-16T20:31:28.661702Z"
    },
    "collapsed": true,
    "deletable": true,
    "editable": true
   },
   "outputs": [],
   "source": [
    "post_pivot_df.index = pd.DatetimeIndex(post_pivot_df.index)"
   ]
  },
  {
   "cell_type": "code",
   "execution_count": 104,
   "metadata": {
    "ExecuteTime": {
     "end_time": "2019-02-16T20:34:07.793556Z",
     "start_time": "2019-02-16T20:34:07.777161Z"
    },
    "collapsed": false,
    "deletable": true,
    "editable": true
   },
   "outputs": [
    {
     "data": {
      "text/html": [
       "<div>\n",
       "<style scoped>\n",
       "    .dataframe tbody tr th:only-of-type {\n",
       "        vertical-align: middle;\n",
       "    }\n",
       "\n",
       "    .dataframe tbody tr th {\n",
       "        vertical-align: top;\n",
       "    }\n",
       "\n",
       "    .dataframe thead th {\n",
       "        text-align: right;\n",
       "    }\n",
       "</style>\n",
       "<table border=\"1\" class=\"dataframe\">\n",
       "  <thead>\n",
       "    <tr style=\"text-align: right;\">\n",
       "      <th>tag</th>\n",
       "      <th>c</th>\n",
       "      <th>java</th>\n",
       "      <th>javascript</th>\n",
       "      <th>python</th>\n",
       "      <th>r</th>\n",
       "    </tr>\n",
       "    <tr>\n",
       "      <th>creation_date</th>\n",
       "      <th></th>\n",
       "      <th></th>\n",
       "      <th></th>\n",
       "      <th></th>\n",
       "      <th></th>\n",
       "    </tr>\n",
       "  </thead>\n",
       "  <tbody>\n",
       "    <tr>\n",
       "      <th>2014-05-01</th>\n",
       "      <td>0.0</td>\n",
       "      <td>0.0</td>\n",
       "      <td>1.0</td>\n",
       "      <td>4.0</td>\n",
       "      <td>5.0</td>\n",
       "    </tr>\n",
       "    <tr>\n",
       "      <th>2014-06-01</th>\n",
       "      <td>0.0</td>\n",
       "      <td>0.0</td>\n",
       "      <td>1.0</td>\n",
       "      <td>8.0</td>\n",
       "      <td>5.0</td>\n",
       "    </tr>\n",
       "    <tr>\n",
       "      <th>2014-07-01</th>\n",
       "      <td>0.0</td>\n",
       "      <td>0.0</td>\n",
       "      <td>0.0</td>\n",
       "      <td>10.0</td>\n",
       "      <td>8.0</td>\n",
       "    </tr>\n",
       "    <tr>\n",
       "      <th>2014-08-01</th>\n",
       "      <td>0.0</td>\n",
       "      <td>0.0</td>\n",
       "      <td>0.0</td>\n",
       "      <td>4.0</td>\n",
       "      <td>11.0</td>\n",
       "    </tr>\n",
       "    <tr>\n",
       "      <th>2014-09-01</th>\n",
       "      <td>0.0</td>\n",
       "      <td>0.0</td>\n",
       "      <td>0.0</td>\n",
       "      <td>0.0</td>\n",
       "      <td>3.0</td>\n",
       "    </tr>\n",
       "    <tr>\n",
       "      <th>2014-10-01</th>\n",
       "      <td>0.0</td>\n",
       "      <td>1.0</td>\n",
       "      <td>0.0</td>\n",
       "      <td>5.0</td>\n",
       "      <td>7.0</td>\n",
       "    </tr>\n",
       "    <tr>\n",
       "      <th>2014-11-01</th>\n",
       "      <td>0.0</td>\n",
       "      <td>3.0</td>\n",
       "      <td>1.0</td>\n",
       "      <td>7.0</td>\n",
       "      <td>6.0</td>\n",
       "    </tr>\n",
       "    <tr>\n",
       "      <th>2014-12-01</th>\n",
       "      <td>0.0</td>\n",
       "      <td>2.0</td>\n",
       "      <td>1.0</td>\n",
       "      <td>5.0</td>\n",
       "      <td>9.0</td>\n",
       "    </tr>\n",
       "    <tr>\n",
       "      <th>2015-01-01</th>\n",
       "      <td>0.0</td>\n",
       "      <td>0.0</td>\n",
       "      <td>0.0</td>\n",
       "      <td>4.0</td>\n",
       "      <td>5.0</td>\n",
       "    </tr>\n",
       "    <tr>\n",
       "      <th>2015-02-01</th>\n",
       "      <td>0.0</td>\n",
       "      <td>0.0</td>\n",
       "      <td>0.0</td>\n",
       "      <td>6.0</td>\n",
       "      <td>10.0</td>\n",
       "    </tr>\n",
       "  </tbody>\n",
       "</table>\n",
       "</div>"
      ],
      "text/plain": [
       "tag              c  java  javascript  python     r\n",
       "creation_date                                     \n",
       "2014-05-01     0.0   0.0         1.0     4.0   5.0\n",
       "2014-06-01     0.0   0.0         1.0     8.0   5.0\n",
       "2014-07-01     0.0   0.0         0.0    10.0   8.0\n",
       "2014-08-01     0.0   0.0         0.0     4.0  11.0\n",
       "2014-09-01     0.0   0.0         0.0     0.0   3.0\n",
       "2014-10-01     0.0   1.0         0.0     5.0   7.0\n",
       "2014-11-01     0.0   3.0         1.0     7.0   6.0\n",
       "2014-12-01     0.0   2.0         1.0     5.0   9.0\n",
       "2015-01-01     0.0   0.0         0.0     4.0   5.0\n",
       "2015-02-01     0.0   0.0         0.0     6.0  10.0"
      ]
     },
     "execution_count": 104,
     "metadata": {},
     "output_type": "execute_result"
    }
   ],
   "source": [
    "tags_by_month = post_pivot_df.resample('MS').sum()\n",
    "tags_by_month.head(10)\n",
    "\n",
    "# weird!!  no c tagged question for 2014 may to 2015 ???"
   ]
  },
  {
   "cell_type": "code",
   "execution_count": 106,
   "metadata": {
    "ExecuteTime": {
     "end_time": "2019-02-16T20:35:38.718832Z",
     "start_time": "2019-02-16T20:35:38.702406Z"
    },
    "collapsed": false,
    "deletable": true,
    "editable": true
   },
   "outputs": [
    {
     "data": {
      "text/html": [
       "<div>\n",
       "<style scoped>\n",
       "    .dataframe tbody tr th:only-of-type {\n",
       "        vertical-align: middle;\n",
       "    }\n",
       "\n",
       "    .dataframe tbody tr th {\n",
       "        vertical-align: top;\n",
       "    }\n",
       "\n",
       "    .dataframe thead th {\n",
       "        text-align: right;\n",
       "    }\n",
       "</style>\n",
       "<table border=\"1\" class=\"dataframe\">\n",
       "  <thead>\n",
       "    <tr style=\"text-align: right;\">\n",
       "      <th>tag</th>\n",
       "      <th>c</th>\n",
       "      <th>java</th>\n",
       "      <th>javascript</th>\n",
       "      <th>python</th>\n",
       "      <th>r</th>\n",
       "    </tr>\n",
       "    <tr>\n",
       "      <th>creation_date</th>\n",
       "      <th></th>\n",
       "      <th></th>\n",
       "      <th></th>\n",
       "      <th></th>\n",
       "      <th></th>\n",
       "    </tr>\n",
       "  </thead>\n",
       "  <tbody>\n",
       "    <tr>\n",
       "      <th>2015-03-01</th>\n",
       "      <td>1.0</td>\n",
       "      <td>0.0</td>\n",
       "      <td>1.0</td>\n",
       "      <td>5.0</td>\n",
       "      <td>9.0</td>\n",
       "    </tr>\n",
       "    <tr>\n",
       "      <th>2015-12-01</th>\n",
       "      <td>1.0</td>\n",
       "      <td>1.0</td>\n",
       "      <td>0.0</td>\n",
       "      <td>21.0</td>\n",
       "      <td>20.0</td>\n",
       "    </tr>\n",
       "    <tr>\n",
       "      <th>2016-04-01</th>\n",
       "      <td>1.0</td>\n",
       "      <td>0.0</td>\n",
       "      <td>1.0</td>\n",
       "      <td>27.0</td>\n",
       "      <td>18.0</td>\n",
       "    </tr>\n",
       "    <tr>\n",
       "      <th>2017-02-01</th>\n",
       "      <td>1.0</td>\n",
       "      <td>3.0</td>\n",
       "      <td>0.0</td>\n",
       "      <td>31.0</td>\n",
       "      <td>9.0</td>\n",
       "    </tr>\n",
       "    <tr>\n",
       "      <th>2018-03-01</th>\n",
       "      <td>1.0</td>\n",
       "      <td>0.0</td>\n",
       "      <td>1.0</td>\n",
       "      <td>97.0</td>\n",
       "      <td>31.0</td>\n",
       "    </tr>\n",
       "  </tbody>\n",
       "</table>\n",
       "</div>"
      ],
      "text/plain": [
       "tag              c  java  javascript  python     r\n",
       "creation_date                                     \n",
       "2015-03-01     1.0   0.0         1.0     5.0   9.0\n",
       "2015-12-01     1.0   1.0         0.0    21.0  20.0\n",
       "2016-04-01     1.0   0.0         1.0    27.0  18.0\n",
       "2017-02-01     1.0   3.0         0.0    31.0   9.0\n",
       "2018-03-01     1.0   0.0         1.0    97.0  31.0"
      ]
     },
     "execution_count": 106,
     "metadata": {},
     "output_type": "execute_result"
    }
   ],
   "source": [
    "tags_by_month.loc[tags_by_month.c >0 ,:].head()"
   ]
  },
  {
   "cell_type": "code",
   "execution_count": 107,
   "metadata": {
    "ExecuteTime": {
     "end_time": "2019-02-16T20:35:49.443950Z",
     "start_time": "2019-02-16T20:35:49.431168Z"
    },
    "collapsed": false,
    "deletable": true,
    "editable": true
   },
   "outputs": [
    {
     "data": {
      "text/html": [
       "<div>\n",
       "<style scoped>\n",
       "    .dataframe tbody tr th:only-of-type {\n",
       "        vertical-align: middle;\n",
       "    }\n",
       "\n",
       "    .dataframe tbody tr th {\n",
       "        vertical-align: top;\n",
       "    }\n",
       "\n",
       "    .dataframe thead th {\n",
       "        text-align: right;\n",
       "    }\n",
       "</style>\n",
       "<table border=\"1\" class=\"dataframe\">\n",
       "  <thead>\n",
       "    <tr style=\"text-align: right;\">\n",
       "      <th>tag</th>\n",
       "      <th>c</th>\n",
       "      <th>java</th>\n",
       "      <th>javascript</th>\n",
       "      <th>python</th>\n",
       "      <th>r</th>\n",
       "    </tr>\n",
       "    <tr>\n",
       "      <th>creation_date</th>\n",
       "      <th></th>\n",
       "      <th></th>\n",
       "      <th></th>\n",
       "      <th></th>\n",
       "      <th></th>\n",
       "    </tr>\n",
       "  </thead>\n",
       "  <tbody>\n",
       "    <tr>\n",
       "      <th>2014-05-01</th>\n",
       "      <td>0.0</td>\n",
       "      <td>0.0</td>\n",
       "      <td>1.0</td>\n",
       "      <td>4.0</td>\n",
       "      <td>5.0</td>\n",
       "    </tr>\n",
       "    <tr>\n",
       "      <th>2014-06-01</th>\n",
       "      <td>0.0</td>\n",
       "      <td>0.0</td>\n",
       "      <td>1.0</td>\n",
       "      <td>8.0</td>\n",
       "      <td>5.0</td>\n",
       "    </tr>\n",
       "    <tr>\n",
       "      <th>2014-11-01</th>\n",
       "      <td>0.0</td>\n",
       "      <td>3.0</td>\n",
       "      <td>1.0</td>\n",
       "      <td>7.0</td>\n",
       "      <td>6.0</td>\n",
       "    </tr>\n",
       "    <tr>\n",
       "      <th>2014-12-01</th>\n",
       "      <td>0.0</td>\n",
       "      <td>2.0</td>\n",
       "      <td>1.0</td>\n",
       "      <td>5.0</td>\n",
       "      <td>9.0</td>\n",
       "    </tr>\n",
       "    <tr>\n",
       "      <th>2015-03-01</th>\n",
       "      <td>1.0</td>\n",
       "      <td>0.0</td>\n",
       "      <td>1.0</td>\n",
       "      <td>5.0</td>\n",
       "      <td>9.0</td>\n",
       "    </tr>\n",
       "  </tbody>\n",
       "</table>\n",
       "</div>"
      ],
      "text/plain": [
       "tag              c  java  javascript  python    r\n",
       "creation_date                                    \n",
       "2014-05-01     0.0   0.0         1.0     4.0  5.0\n",
       "2014-06-01     0.0   0.0         1.0     8.0  5.0\n",
       "2014-11-01     0.0   3.0         1.0     7.0  6.0\n",
       "2014-12-01     0.0   2.0         1.0     5.0  9.0\n",
       "2015-03-01     1.0   0.0         1.0     5.0  9.0"
      ]
     },
     "execution_count": 107,
     "metadata": {},
     "output_type": "execute_result"
    }
   ],
   "source": [
    "tags_by_month.loc[tags_by_month.javascript >0 ,:].head()"
   ]
  },
  {
   "cell_type": "code",
   "execution_count": 105,
   "metadata": {
    "ExecuteTime": {
     "end_time": "2019-02-16T20:35:06.564379Z",
     "start_time": "2019-02-16T20:35:06.377209Z"
    },
    "collapsed": false,
    "deletable": true,
    "editable": true
   },
   "outputs": [
    {
     "data": {
      "image/png": "[encoded data removed]",
      "text/plain": [
       "<Figure size 432x288 with 1 Axes>"
      ]
     },
     "metadata": {
      "needs_background": "light"
     },
     "output_type": "display_data"
    }
   ],
   "source": [
    "tags_by_month.plot();"
   ]
  },
  {
   "cell_type": "code",
   "execution_count": null,
   "metadata": {
    "collapsed": true,
    "deletable": true,
    "editable": true
   },
   "outputs": [],
   "source": []
  }
 ],
 "metadata": {
  "kernelspec": {
   "display_name": "Python 3",
   "language": "python",
   "name": "python3"
  },
  "language_info": {
   "codemirror_mode": {
    "name": "ipython",
    "version": 3
   },
   "file_extension": ".py",
   "mimetype": "text/x-python",
   "name": "python",
   "nbconvert_exporter": "python",
   "pygments_lexer": "ipython3",
   "version": "3.6.0"
  },
  "toc": {
   "base_numbering": 1,
   "colors": {
    "hover_highlight": "#DAA520",
    "navigate_num": "#000000",
    "navigate_text": "#333333",
    "running_highlight": "#FF0000",
    "selected_highlight": "#FFD700",
    "sidebar_border": "#EEEEEE",
    "wrapper_background": "#FFFFFF"
   },
   "moveMenuLeft": true,
   "nav_menu": {},
   "navigate_menu": true,
   "number_sections": true,
   "sideBar": true,
   "skip_h1_title": false,
   "threshold": 4,
   "title_cell": "Table of Contents",
   "title_sidebar": "Contents",
   "toc_cell": true,
   "toc_position": {},
   "toc_section_display": true,
   "toc_window_display": true,
   "widenNotebook": false
  }
 },
 "nbformat": 4,
 "nbformat_minor": 2
}
