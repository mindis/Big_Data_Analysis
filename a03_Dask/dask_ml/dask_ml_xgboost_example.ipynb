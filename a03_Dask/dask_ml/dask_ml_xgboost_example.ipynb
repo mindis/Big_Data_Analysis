{
  "nbformat": 4,
  "nbformat_minor": 0,
  "metadata": {
    "colab": {
      "name": "dask_ml_xgboost_example.ipynb",
      "provenance": [],
      "collapsed_sections": []
    },
    "kernelspec": {
      "name": "python3",
      "display_name": "Python 3"
    }
  },
  "cells": [
    {
      "cell_type": "code",
      "metadata": {
        "id": "-EE8PM-bBH_5",
        "colab_type": "code",
        "colab": {}
      },
      "source": [
        "%%capture\n",
        "# capture will not print in notebook\n",
        "\n",
        "import os\n",
        "import sys\n",
        "ENV_COLAB = 'google.colab' in sys.modules\n",
        "\n",
        "if ENV_COLAB:\n",
        "    ## install modules\n",
        "    !python -m pip install dask[complete] --upgrade\n",
        "    !pip install dask-ml[complete]\n",
        "\n",
        "    ## print\n",
        "    print('Environment: Google Colaboratory.')\n",
        "\n",
        "# NOTE: If we update modules in gcolab, we need to restart runtime."
      ],
      "execution_count": 1,
      "outputs": []
    },
    {
      "cell_type": "code",
      "metadata": {
        "id": "9McKJrxxcuLz",
        "colab_type": "code",
        "colab": {
          "base_uri": "https://localhost:8080/",
          "height": 105
        },
        "outputId": "436bd5de-a12c-40e1-ffe2-87a124679281"
      },
      "source": [
        "#Imports\n",
        "import numpy as np\n",
        "import pandas as pd\n",
        "import seaborn as sns\n",
        "\n",
        "from sklearn import datasets\n",
        "from sklearn.model_selection import train_test_split\n",
        "\n",
        "import dask\n",
        "import dask_ml\n",
        "import dask.array as da\n",
        "from dask.distributed import Client, LocalCluster\n",
        "from dask_ml.xgboost import XGBRegressor\n",
        "\n",
        "print([(x.__name__,x.__version__) for x in [dask, dask_ml]])\n",
        "\n",
        "# data\n",
        "SEED = 100\n",
        "X,y = datasets.load_boston(return_X_y=True)\n",
        "X_train, X_test, y_train, y_test = train_test_split(X,y,\n",
        "                                test_size=0.2,random_state=SEED)\n",
        "da_Xtrain = da.from_array(X_train)\n",
        "da_ytrain = da.from_array(y_train)\n",
        "da_Xtest = da.from_array(X_test)\n",
        "da_ytest = da.from_array(y_test)\n",
        "\n",
        "# modelling\n",
        "cluster = LocalCluster(processes=False,scheduler_port=1234)\n",
        "client = Client(cluster)\n",
        "\n",
        "est = XGBRegressor(random_state=SEED)\n",
        "est.fit(da_Xtrain, da_ytrain)\n",
        "\n",
        "da_txpreds = est.predict(da_Xtest)"
      ],
      "execution_count": 9,
      "outputs": [
        {
          "output_type": "stream",
          "text": [
            "[('dask', '2.20.0'), ('dask_ml', '1.5.0')]\n"
          ],
          "name": "stdout"
        },
        {
          "output_type": "stream",
          "text": [
            "/usr/local/lib/python3.6/dist-packages/distributed/node.py:155: UserWarning: Port 8787 is already in use.\n",
            "Perhaps you already have a cluster running?\n",
            "Hosting the HTTP server on port 36399 instead\n",
            "  http_address[\"port\"], self.http_server.port\n"
          ],
          "name": "stderr"
        }
      ]
    },
    {
      "cell_type": "code",
      "metadata": {
        "id": "AXYG9q6pfBxP",
        "colab_type": "code",
        "colab": {
          "base_uri": "https://localhost:8080/",
          "height": 108
        },
        "outputId": "dd81a516-b067-4cab-b46f-3f981d1233e5"
      },
      "source": [
        "da_txpreds"
      ],
      "execution_count": 10,
      "outputs": [
        {
          "output_type": "execute_result",
          "data": {
            "text/html": [
              "<table>\n",
              "<tr>\n",
              "<td>\n",
              "<table>\n",
              "  <thead>\n",
              "    <tr><td> </td><th> Array </th><th> Chunk </th></tr>\n",
              "  </thead>\n",
              "  <tbody>\n",
              "    <tr><th> Bytes </th><td> 408 B </td> <td> 408 B </td></tr>\n",
              "    <tr><th> Shape </th><td> (102,) </td> <td> (102,) </td></tr>\n",
              "    <tr><th> Count </th><td> 2 Tasks </td><td> 1 Chunks </td></tr>\n",
              "    <tr><th> Type </th><td> float32 </td><td> numpy.ndarray </td></tr>\n",
              "  </tbody>\n",
              "</table>\n",
              "</td>\n",
              "<td>\n",
              "<svg width=\"170\" height=\"75\" style=\"stroke:rgb(0,0,0);stroke-width:1\" >\n",
              "\n",
              "  <!-- Horizontal lines -->\n",
              "  <line x1=\"0\" y1=\"0\" x2=\"120\" y2=\"0\" style=\"stroke-width:2\" />\n",
              "  <line x1=\"0\" y1=\"25\" x2=\"120\" y2=\"25\" style=\"stroke-width:2\" />\n",
              "\n",
              "  <!-- Vertical lines -->\n",
              "  <line x1=\"0\" y1=\"0\" x2=\"0\" y2=\"25\" style=\"stroke-width:2\" />\n",
              "  <line x1=\"120\" y1=\"0\" x2=\"120\" y2=\"25\" style=\"stroke-width:2\" />\n",
              "\n",
              "  <!-- Colored Rectangle -->\n",
              "  <polygon points=\"0.000000,0.000000 120.000000,0.000000 120.000000,25.412617 0.000000,25.412617\" style=\"fill:#ECB172A0;stroke-width:0\"/>\n",
              "\n",
              "  <!-- Text -->\n",
              "  <text x=\"60.000000\" y=\"45.412617\" font-size=\"1.0rem\" font-weight=\"100\" text-anchor=\"middle\" >102</text>\n",
              "  <text x=\"140.000000\" y=\"12.706308\" font-size=\"1.0rem\" font-weight=\"100\" text-anchor=\"middle\" transform=\"rotate(0,140.000000,12.706308)\">1</text>\n",
              "</svg>\n",
              "</td>\n",
              "</tr>\n",
              "</table>"
            ],
            "text/plain": [
              "dask.array<_predict_part, shape=(102,), dtype=float32, chunksize=(102,), chunktype=numpy.ndarray>"
            ]
          },
          "metadata": {
            "tags": []
          },
          "execution_count": 10
        }
      ]
    },
    {
      "cell_type": "code",
      "metadata": {
        "id": "ai_M6f9VfkVj",
        "colab_type": "code",
        "colab": {
          "base_uri": "https://localhost:8080/",
          "height": 34
        },
        "outputId": "86de0484-1989-4387-d0a0-2707d78e7621"
      },
      "source": [
        "type(da_txpreds)"
      ],
      "execution_count": 11,
      "outputs": [
        {
          "output_type": "execute_result",
          "data": {
            "text/plain": [
              "dask.array.core.Array"
            ]
          },
          "metadata": {
            "tags": []
          },
          "execution_count": 11
        }
      ]
    },
    {
      "cell_type": "code",
      "metadata": {
        "id": "TZkxuZYvf2aP",
        "colab_type": "code",
        "colab": {
          "base_uri": "https://localhost:8080/",
          "height": 34
        },
        "outputId": "4a615cb1-94a9-4a17-a6b8-f6af10d033b6"
      },
      "source": [
        "tx_preds = da_txpreds.compute()\n",
        "type(tx_preds)"
      ],
      "execution_count": 14,
      "outputs": [
        {
          "output_type": "execute_result",
          "data": {
            "text/plain": [
              "numpy.ndarray"
            ]
          },
          "metadata": {
            "tags": []
          },
          "execution_count": 14
        }
      ]
    },
    {
      "cell_type": "code",
      "metadata": {
        "id": "Aup6McEBf5q2",
        "colab_type": "code",
        "colab": {}
      },
      "source": [
        "from sklearn import metrics"
      ],
      "execution_count": 15,
      "outputs": []
    },
    {
      "cell_type": "code",
      "metadata": {
        "id": "PitaBGSXgyMF",
        "colab_type": "code",
        "colab": {
          "base_uri": "https://localhost:8080/",
          "height": 52
        },
        "outputId": "7a326849-181d-40c5-bdca-e418025bbecf"
      },
      "source": [
        "rmse = metrics.mean_squared_error(y_test, tx_preds)**0.5\n",
        "r2 = metrics.r2_score(y_test, tx_preds)\n",
        "\n",
        "print('RMSE     : ', rmse)\n",
        "print('R-Squared: ', r2)"
      ],
      "execution_count": 19,
      "outputs": [
        {
          "output_type": "stream",
          "text": [
            "RMSE     :  3.148289197036133\n",
            "R-Squared:  0.8973881297021495\n"
          ],
          "name": "stdout"
        }
      ]
    },
    {
      "cell_type": "code",
      "metadata": {
        "id": "Yhjv0uE5g9MC",
        "colab_type": "code",
        "colab": {}
      },
      "source": [
        ""
      ],
      "execution_count": null,
      "outputs": []
    }
  ]
}