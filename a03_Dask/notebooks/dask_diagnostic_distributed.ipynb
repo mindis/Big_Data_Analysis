{
 "cells": [
  {
   "cell_type": "markdown",
   "metadata": {
    "toc": true
   },
   "source": [
    "<h1>Table of Contents<span class=\"tocSkip\"></span></h1>\n",
    "<div class=\"toc\"><ul class=\"toc-item\"><li><span><a href=\"#Imports\" data-toc-modified-id=\"Imports-1\"><span class=\"toc-item-num\">1&nbsp;&nbsp;</span>Imports</a></span></li><li><span><a href=\"#Data\" data-toc-modified-id=\"Data-2\"><span class=\"toc-item-num\">2&nbsp;&nbsp;</span>Data</a></span></li><li><span><a href=\"#Diagnostic-distributed\" data-toc-modified-id=\"Diagnostic-distributed-3\"><span class=\"toc-item-num\">3&nbsp;&nbsp;</span>Diagnostic distributed</a></span><ul class=\"toc-item\"><li><span><a href=\"#diagnostic-distributed-progressbar\" data-toc-modified-id=\"diagnostic-distributed-progressbar-3.1\"><span class=\"toc-item-num\">3.1&nbsp;&nbsp;</span>diagnostic distributed progressbar</a></span></li></ul></li></ul></div>"
   ]
  },
  {
   "cell_type": "markdown",
   "metadata": {
    "ExecuteTime": {
     "end_time": "2020-07-10T14:57:50.886920Z",
     "start_time": "2020-07-10T14:57:50.884654Z"
    }
   },
   "source": [
    "# Imports"
   ]
  },
  {
   "cell_type": "code",
   "execution_count": 4,
   "metadata": {
    "ExecuteTime": {
     "end_time": "2020-07-10T17:52:20.252064Z",
     "start_time": "2020-07-10T17:52:18.687548Z"
    }
   },
   "outputs": [
    {
     "name": "stdout",
     "output_type": "stream",
     "text": [
      "[('numpy', '1.18.5'), ('pandas', '1.0.5'), ('dask', '2.20.0'), ('dask_ml', '1.5.0'), ('pyarrow', '0.17.1')]\n"
     ]
    }
   ],
   "source": [
    "import numpy as np\n",
    "import pandas as pd\n",
    "\n",
    "import dask\n",
    "import dask.dataframe as dd\n",
    "import dask.array as da\n",
    "import dask_ml\n",
    "import pyarrow\n",
    "\n",
    "print([(x.__name__,x.__version__) for x in \n",
    "       [np,pd, dask, dask_ml,pyarrow]])"
   ]
  },
  {
   "cell_type": "markdown",
   "metadata": {},
   "source": [
    "# Data"
   ]
  },
  {
   "cell_type": "code",
   "execution_count": 13,
   "metadata": {
    "ExecuteTime": {
     "end_time": "2020-07-10T17:56:23.257843Z",
     "start_time": "2020-07-10T17:56:23.227641Z"
    }
   },
   "outputs": [
    {
     "name": "stderr",
     "output_type": "stream",
     "text": [
      "/Users/poudel/opt/miniconda3/envs/dsk/lib/python3.7/site-packages/dask/array/routines.py:272: PerformanceWarning: Increasing number of chunks by factor of 10\n",
      "  axes=(left_axes, right_axes),\n"
     ]
    }
   ],
   "source": [
    "a = da.random.normal(size=(10_000, 10_000), chunks=(1000, 1000)) # data\n",
    "res = a.dot(a.T).mean(axis=0) # operation\n"
   ]
  },
  {
   "cell_type": "markdown",
   "metadata": {},
   "source": [
    "# Diagnostic distributed\n",
    "\n",
    "- https://docs.dask.org/en/latest/diagnostics-distributed.html\n",
    "- https://docs.dask.org/en/latest/diagnostics-local.html\n",
    "\n",
    "It is typically served at http://localhost:8787/status , but may be served elsewhere if this port is taken. The address of the dashboard will be displayed if you are in a Jupyter Notebook, or can be queried from `client.scheduler_info()['services']`."
   ]
  },
  {
   "cell_type": "markdown",
   "metadata": {},
   "source": [
    "## diagnostic distributed progressbar"
   ]
  },
  {
   "cell_type": "code",
   "execution_count": 7,
   "metadata": {
    "ExecuteTime": {
     "end_time": "2020-07-10T17:52:20.680171Z",
     "start_time": "2020-07-10T17:52:20.678061Z"
    }
   },
   "outputs": [],
   "source": [
    "# from dask.diagnostics import ProgressBar # for single machine\n",
    "\n",
    "# a = da.random.normal(size=(2000, 2000), chunks=(1000, 1000))\n",
    "# res = a.dot(a.T).mean(axis=0)\n",
    "# with ProgressBar():\n",
    "#     out = res.compute()"
   ]
  },
  {
   "cell_type": "code",
   "execution_count": 8,
   "metadata": {
    "ExecuteTime": {
     "end_time": "2020-07-10T17:52:20.723826Z",
     "start_time": "2020-07-10T17:52:20.682185Z"
    }
   },
   "outputs": [
    {
     "name": "stderr",
     "output_type": "stream",
     "text": [
      "/Users/poudel/.local/lib/python3.7/site-packages/distributed-2.9.3-py3.7.egg/distributed/dashboard/core.py:72: UserWarning: \n",
      "Port 8787 is already in use. \n",
      "Perhaps you already have a cluster running?\n",
      "Hosting the diagnostics dashboard on a random port instead.\n",
      "  warnings.warn(\"\\n\" + msg)\n"
     ]
    },
    {
     "data": {
      "text/html": [
       "<table style=\"border: 2px solid white;\">\n",
       "<tr>\n",
       "<td style=\"vertical-align: top; border: 0px solid white\">\n",
       "<h3 style=\"text-align: left;\">Client</h3>\n",
       "<ul style=\"text-align: left; list-style: none; margin: 0; padding: 0;\">\n",
       "  <li><b>Scheduler: </b>inproc://192.168.0.188/1007/9</li>\n",
       "  <li><b>Dashboard: </b><a href='http://192.168.0.188/1007/9:49559/status' target='_blank'>http://192.168.0.188/1007/9:49559/status</a>\n",
       "</ul>\n",
       "</td>\n",
       "<td style=\"vertical-align: top; border: 0px solid white\">\n",
       "<h3 style=\"text-align: left;\">Cluster</h3>\n",
       "<ul style=\"text-align: left; list-style:none; margin: 0; padding: 0;\">\n",
       "  <li><b>Workers: </b>1</li>\n",
       "  <li><b>Cores: </b>4</li>\n",
       "  <li><b>Memory: </b>17.18 GB</li>\n",
       "</ul>\n",
       "</td>\n",
       "</tr>\n",
       "</table>"
      ],
      "text/plain": [
       "<Client: 'inproc://192.168.0.188/1007/9' processes=1 threads=4, memory=17.18 GB>"
      ]
     },
     "execution_count": 8,
     "metadata": {},
     "output_type": "execute_result"
    }
   ],
   "source": [
    "# Distributed scheduler ProgressBar\n",
    "\n",
    "from dask.distributed import Client, progress\n",
    "\n",
    "client = Client(processes=False)  # use dask.distributed by default\n",
    "client"
   ]
  },
  {
   "cell_type": "code",
   "execution_count": 9,
   "metadata": {
    "ExecuteTime": {
     "end_time": "2020-07-10T17:52:20.740598Z",
     "start_time": "2020-07-10T17:52:20.727733Z"
    }
   },
   "outputs": [
    {
     "data": {
      "text/plain": [
       "{'dashboard': 49559}"
      ]
     },
     "execution_count": 9,
     "metadata": {},
     "output_type": "execute_result"
    }
   ],
   "source": [
    "client.scheduler_info()['services']"
   ]
  },
  {
   "cell_type": "code",
   "execution_count": 15,
   "metadata": {
    "ExecuteTime": {
     "end_time": "2020-07-10T18:01:38.584410Z",
     "start_time": "2020-07-10T18:01:38.448457Z"
    }
   },
   "outputs": [
    {
     "name": "stderr",
     "output_type": "stream",
     "text": [
      "distributed.scheduler - ERROR - Couldn't gather keys {\"('mean_agg-aggregate-8a3aa5d5a7c11071fd31b41c9dfb8b0c', 0)\": ['inproc://192.168.0.188/1007/3'], \"('mean_agg-aggregate-8a3aa5d5a7c11071fd31b41c9dfb8b0c', 6)\": ['inproc://192.168.0.188/1007/3'], \"('mean_agg-aggregate-8a3aa5d5a7c11071fd31b41c9dfb8b0c', 9)\": ['inproc://192.168.0.188/1007/3'], \"('mean_agg-aggregate-8a3aa5d5a7c11071fd31b41c9dfb8b0c', 2)\": ['inproc://192.168.0.188/1007/3'], \"('mean_agg-aggregate-8a3aa5d5a7c11071fd31b41c9dfb8b0c', 3)\": ['inproc://192.168.0.188/1007/3'], \"('mean_agg-aggregate-8a3aa5d5a7c11071fd31b41c9dfb8b0c', 7)\": ['inproc://192.168.0.188/1007/3'], \"('mean_agg-aggregate-8a3aa5d5a7c11071fd31b41c9dfb8b0c', 8)\": ['inproc://192.168.0.188/1007/3'], \"('mean_agg-aggregate-8a3aa5d5a7c11071fd31b41c9dfb8b0c', 4)\": ['inproc://192.168.0.188/1007/3'], \"('mean_agg-aggregate-8a3aa5d5a7c11071fd31b41c9dfb8b0c', 5)\": ['inproc://192.168.0.188/1007/3']} state: ['memory', 'memory', 'memory', 'memory', 'memory', 'memory', 'memory', 'memory', 'memory'] workers: []\n",
      "NoneType: None\n",
      "distributed.scheduler - ERROR - Workers don't have promised key: ['inproc://192.168.0.188/1007/3'], ('mean_agg-aggregate-8a3aa5d5a7c11071fd31b41c9dfb8b0c', 0)\n",
      "NoneType: None\n",
      "distributed.scheduler - ERROR - Workers don't have promised key: ['inproc://192.168.0.188/1007/3'], ('mean_agg-aggregate-8a3aa5d5a7c11071fd31b41c9dfb8b0c', 6)\n",
      "NoneType: None\n",
      "distributed.scheduler - ERROR - Workers don't have promised key: ['inproc://192.168.0.188/1007/3'], ('mean_agg-aggregate-8a3aa5d5a7c11071fd31b41c9dfb8b0c', 9)\n",
      "NoneType: None\n",
      "distributed.scheduler - ERROR - Workers don't have promised key: ['inproc://192.168.0.188/1007/3'], ('mean_agg-aggregate-8a3aa5d5a7c11071fd31b41c9dfb8b0c', 2)\n",
      "NoneType: None\n",
      "distributed.scheduler - ERROR - Workers don't have promised key: ['inproc://192.168.0.188/1007/3'], ('mean_agg-aggregate-8a3aa5d5a7c11071fd31b41c9dfb8b0c', 3)\n",
      "NoneType: None\n",
      "distributed.scheduler - ERROR - Workers don't have promised key: ['inproc://192.168.0.188/1007/3'], ('mean_agg-aggregate-8a3aa5d5a7c11071fd31b41c9dfb8b0c', 7)\n",
      "NoneType: None\n",
      "distributed.scheduler - ERROR - Workers don't have promised key: ['inproc://192.168.0.188/1007/3'], ('mean_agg-aggregate-8a3aa5d5a7c11071fd31b41c9dfb8b0c', 8)\n",
      "NoneType: None\n",
      "distributed.scheduler - ERROR - Workers don't have promised key: ['inproc://192.168.0.188/1007/3'], ('mean_agg-aggregate-8a3aa5d5a7c11071fd31b41c9dfb8b0c', 4)\n",
      "NoneType: None\n",
      "distributed.scheduler - ERROR - Workers don't have promised key: ['inproc://192.168.0.188/1007/3'], ('mean_agg-aggregate-8a3aa5d5a7c11071fd31b41c9dfb8b0c', 5)\n",
      "NoneType: None\n",
      "distributed.client - WARNING - Couldn't gather 9 keys, rescheduling {\"('mean_agg-aggregate-8a3aa5d5a7c11071fd31b41c9dfb8b0c', 0)\": ['inproc://192.168.0.188/1007/3'], \"('mean_agg-aggregate-8a3aa5d5a7c11071fd31b41c9dfb8b0c', 6)\": ['inproc://192.168.0.188/1007/3'], \"('mean_agg-aggregate-8a3aa5d5a7c11071fd31b41c9dfb8b0c', 9)\": ['inproc://192.168.0.188/1007/3'], \"('mean_agg-aggregate-8a3aa5d5a7c11071fd31b41c9dfb8b0c', 2)\": ['inproc://192.168.0.188/1007/3'], \"('mean_agg-aggregate-8a3aa5d5a7c11071fd31b41c9dfb8b0c', 3)\": ['inproc://192.168.0.188/1007/3'], \"('mean_agg-aggregate-8a3aa5d5a7c11071fd31b41c9dfb8b0c', 7)\": ['inproc://192.168.0.188/1007/3'], \"('mean_agg-aggregate-8a3aa5d5a7c11071fd31b41c9dfb8b0c', 8)\": ['inproc://192.168.0.188/1007/3'], \"('mean_agg-aggregate-8a3aa5d5a7c11071fd31b41c9dfb8b0c', 4)\": ['inproc://192.168.0.188/1007/3'], \"('mean_agg-aggregate-8a3aa5d5a7c11071fd31b41c9dfb8b0c', 5)\": ['inproc://192.168.0.188/1007/3']}\n"
     ]
    },
    {
     "data": {
      "text/plain": [
       "array([ 2.18844347,  2.26968491,  2.59434695, ..., -1.45041756,\n",
       "        0.59989791,  1.95754821])"
      ]
     },
     "execution_count": 15,
     "metadata": {},
     "output_type": "execute_result"
    }
   ],
   "source": [
    "res = res.persist()  # start computation in the background\n",
    "progress(res)      # watch progress\n",
    "res.compute()      # convert to final result when done if desired"
   ]
  },
  {
   "cell_type": "code",
   "execution_count": null,
   "metadata": {},
   "outputs": [],
   "source": []
  }
 ],
 "metadata": {
  "kernelspec": {
   "display_name": "Python37(dsk)",
   "language": "python",
   "name": "dsk"
  },
  "language_info": {
   "codemirror_mode": {
    "name": "ipython",
    "version": 3
   },
   "file_extension": ".py",
   "mimetype": "text/x-python",
   "name": "python",
   "nbconvert_exporter": "python",
   "pygments_lexer": "ipython3",
   "version": "3.7.7"
  },
  "toc": {
   "base_numbering": 1,
   "nav_menu": {},
   "number_sections": true,
   "sideBar": true,
   "skip_h1_title": false,
   "title_cell": "Table of Contents",
   "title_sidebar": "Contents",
   "toc_cell": true,
   "toc_position": {},
   "toc_section_display": true,
   "toc_window_display": true
  }
 },
 "nbformat": 4,
 "nbformat_minor": 4
}
