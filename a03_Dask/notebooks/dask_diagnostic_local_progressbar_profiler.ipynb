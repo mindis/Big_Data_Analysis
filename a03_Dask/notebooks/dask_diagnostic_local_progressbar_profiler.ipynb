{
 "cells": [
  {
   "cell_type": "markdown",
   "metadata": {
    "toc": true
   },
   "source": [
    "<h1>Table of Contents<span class=\"tocSkip\"></span></h1>\n",
    "<div class=\"toc\"><ul class=\"toc-item\"><li><span><a href=\"#Imports\" data-toc-modified-id=\"Imports-1\"><span class=\"toc-item-num\">1&nbsp;&nbsp;</span>Imports</a></span></li><li><span><a href=\"#Data\" data-toc-modified-id=\"Data-2\"><span class=\"toc-item-num\">2&nbsp;&nbsp;</span>Data</a></span></li><li><span><a href=\"#Diagnostic-local\" data-toc-modified-id=\"Diagnostic-local-3\"><span class=\"toc-item-num\">3&nbsp;&nbsp;</span>Diagnostic local</a></span><ul class=\"toc-item\"><li><span><a href=\"#diagnostic-local-progressbar\" data-toc-modified-id=\"diagnostic-local-progressbar-3.1\"><span class=\"toc-item-num\">3.1&nbsp;&nbsp;</span>diagnostic local progressbar</a></span></li><li><span><a href=\"#diagnostic-local-profiler\" data-toc-modified-id=\"diagnostic-local-profiler-3.2\"><span class=\"toc-item-num\">3.2&nbsp;&nbsp;</span>diagnostic local profiler</a></span></li></ul></li></ul></div>"
   ]
  },
  {
   "cell_type": "markdown",
   "metadata": {
    "ExecuteTime": {
     "end_time": "2020-07-10T14:57:50.886920Z",
     "start_time": "2020-07-10T14:57:50.884654Z"
    }
   },
   "source": [
    "# Imports"
   ]
  },
  {
   "cell_type": "code",
   "execution_count": 1,
   "metadata": {
    "ExecuteTime": {
     "end_time": "2020-07-10T15:22:33.349781Z",
     "start_time": "2020-07-10T15:22:33.086755Z"
    }
   },
   "outputs": [],
   "source": [
    "import numpy as np\n",
    "import pandas as pd"
   ]
  },
  {
   "cell_type": "code",
   "execution_count": 2,
   "metadata": {
    "ExecuteTime": {
     "end_time": "2020-07-10T15:22:34.156078Z",
     "start_time": "2020-07-10T15:22:33.352326Z"
    }
   },
   "outputs": [
    {
     "name": "stdout",
     "output_type": "stream",
     "text": [
      "[('dask', '2.13.0'), ('dask_ml', '1.5.0')]\n"
     ]
    }
   ],
   "source": [
    "import dask\n",
    "import dask.dataframe as dd\n",
    "import dask.array as da\n",
    "import dask_ml\n",
    "\n",
    "print([(x.__name__,x.__version__) for x in [dask, dask_ml]])"
   ]
  },
  {
   "cell_type": "markdown",
   "metadata": {},
   "source": [
    "# Data"
   ]
  },
  {
   "cell_type": "code",
   "execution_count": 3,
   "metadata": {
    "ExecuteTime": {
     "end_time": "2020-07-10T15:22:34.186083Z",
     "start_time": "2020-07-10T15:22:34.159659Z"
    }
   },
   "outputs": [
    {
     "data": {
      "text/html": [
       "<div>\n",
       "<style scoped>\n",
       "    .dataframe tbody tr th:only-of-type {\n",
       "        vertical-align: middle;\n",
       "    }\n",
       "\n",
       "    .dataframe tbody tr th {\n",
       "        vertical-align: top;\n",
       "    }\n",
       "\n",
       "    .dataframe thead th {\n",
       "        text-align: right;\n",
       "    }\n",
       "</style>\n",
       "<table border=\"1\" class=\"dataframe\">\n",
       "  <thead>\n",
       "    <tr style=\"text-align: right;\">\n",
       "      <th></th>\n",
       "      <th>a</th>\n",
       "      <th>b</th>\n",
       "    </tr>\n",
       "  </thead>\n",
       "  <tbody>\n",
       "    <tr>\n",
       "      <th>0</th>\n",
       "      <td>0</td>\n",
       "      <td>0</td>\n",
       "    </tr>\n",
       "    <tr>\n",
       "      <th>1</th>\n",
       "      <td>1</td>\n",
       "      <td>1</td>\n",
       "    </tr>\n",
       "  </tbody>\n",
       "</table>\n",
       "</div>"
      ],
      "text/plain": [
       "   a  b\n",
       "0  0  0\n",
       "1  1  1"
      ]
     },
     "execution_count": 3,
     "metadata": {},
     "output_type": "execute_result"
    }
   ],
   "source": [
    "N = 1000\n",
    "\n",
    "df = pd.DataFrame({'a': range(N), 'b': range(N)})\n",
    "ddf = dd.from_pandas(df,npartitions=1)\n",
    "ddf.head(2)"
   ]
  },
  {
   "cell_type": "markdown",
   "metadata": {},
   "source": [
    "# Diagnostic local\n",
    "\n",
    "- https://docs.dask.org/en/latest/diagnostics-local.html"
   ]
  },
  {
   "cell_type": "markdown",
   "metadata": {},
   "source": [
    "## diagnostic local progressbar"
   ]
  },
  {
   "cell_type": "code",
   "execution_count": 4,
   "metadata": {
    "ExecuteTime": {
     "end_time": "2020-07-10T15:22:34.194248Z",
     "start_time": "2020-07-10T15:22:34.188168Z"
    }
   },
   "outputs": [],
   "source": [
    "from dask.diagnostics import ProgressBar"
   ]
  },
  {
   "cell_type": "code",
   "execution_count": 5,
   "metadata": {
    "ExecuteTime": {
     "end_time": "2020-07-10T15:22:34.632033Z",
     "start_time": "2020-07-10T15:22:34.197124Z"
    }
   },
   "outputs": [
    {
     "name": "stdout",
     "output_type": "stream",
     "text": [
      "[########################################] | 100% Completed |  0.4s\n"
     ]
    }
   ],
   "source": [
    "a = da.random.normal(size=(2000, 2000), chunks=(1000, 1000))\n",
    "res = a.dot(a.T).mean(axis=0)\n",
    "with ProgressBar():\n",
    "    out = res.compute()"
   ]
  },
  {
   "cell_type": "code",
   "execution_count": 6,
   "metadata": {
    "ExecuteTime": {
     "end_time": "2020-07-10T15:22:34.637539Z",
     "start_time": "2020-07-10T15:22:34.634502Z"
    }
   },
   "outputs": [],
   "source": [
    "# register and unregister to avoid with statement\n",
    "\"\"\"\n",
    "pbar = ProgressBar()\n",
    "pbar.register()\n",
    "out = res.compute()\n",
    "\n",
    "pbar.unregister()\n",
    "\"\"\";"
   ]
  },
  {
   "cell_type": "markdown",
   "metadata": {},
   "source": [
    "## diagnostic local profiler"
   ]
  },
  {
   "cell_type": "code",
   "execution_count": 7,
   "metadata": {
    "ExecuteTime": {
     "end_time": "2020-07-10T15:22:34.649580Z",
     "start_time": "2020-07-10T15:22:34.641440Z"
    }
   },
   "outputs": [],
   "source": [
    "from dask.diagnostics import Profiler, ResourceProfiler, CacheProfiler\n",
    "from cachey import nbytes\n",
    "from dask.diagnostics import visualize\n",
    "\n",
    "import dask.array as da\n",
    "\n",
    "import bokeh.io\n",
    "from bokeh.resources import INLINE\n",
    "bokeh.io.output_notebook(INLINE)"
   ]
  },
  {
   "cell_type": "code",
   "execution_count": 8,
   "metadata": {
    "ExecuteTime": {
     "end_time": "2020-07-10T15:22:34.656347Z",
     "start_time": "2020-07-10T15:22:34.652453Z"
    }
   },
   "outputs": [],
   "source": [
    "rprof = ResourceProfiler(dt=0.5)\n",
    "cprof = CacheProfiler(metric=nbytes)"
   ]
  },
  {
   "cell_type": "code",
   "execution_count": 9,
   "metadata": {
    "ExecuteTime": {
     "end_time": "2020-07-10T15:22:37.962060Z",
     "start_time": "2020-07-10T15:22:34.659943Z"
    }
   },
   "outputs": [],
   "source": [
    "a = da.random.random(size=(10000, 1000), chunks=(1000, 1000))\n",
    "q, r = da.linalg.qr(a)\n",
    "a2 = q.dot(r)\n",
    "\n",
    "with Profiler() as prof, ResourceProfiler(dt=0.25) as rprof, CacheProfiler() as cprof:\n",
    "    out = a2.compute()"
   ]
  },
  {
   "cell_type": "code",
   "execution_count": 13,
   "metadata": {
    "ExecuteTime": {
     "end_time": "2020-07-10T15:22:58.609003Z",
     "start_time": "2020-07-10T15:22:58.528704Z"
    }
   },
   "outputs": [
    {
     "data": {
      "text/html": [
       "\n",
       "\n",
       "\n",
       "\n",
       "\n",
       "\n",
       "  <div class=\"bk-root\" id=\"1a6f5dbe-6e5b-49eb-9b7c-7a0924bc5036\" data-root-id=\"1002\"></div>\n"
      ]
     },
     "metadata": {},
     "output_type": "display_data"
    },
    {
     "data": {
      "application/javascript": [
       "(function(root) {\n",
       "  function embed_document(root) {\n",
       "    \n",
       "  var docs_json = {\"5298d947-c91b-40ae-b252-670b220e4ada\":{\"roots\":{\"references\":[{\"attributes\":{\"below\":[{\"id\":\"1013\"}],\"center\":[{\"id\":\"1016\"},{\"id\":\"1019\"}],\"left\":[{\"id\":\"1017\"}],\"plot_height\":300,\"plot_width\":800,\"renderers\":[{\"id\":\"1035\"}],\"title\":{\"id\":\"1003\"},\"toolbar\":{\"id\":\"1025\"},\"toolbar_location\":\"above\",\"x_range\":{\"id\":\"1005\"},\"x_scale\":{\"id\":\"1009\"},\"y_range\":{\"id\":\"1007\"},\"y_scale\":{\"id\":\"1011\"}},\"id\":\"1002\",\"subtype\":\"Figure\",\"type\":\"Plot\"},{\"attributes\":{\"axis\":{\"id\":\"1017\"},\"dimension\":1,\"grid_line_color\":null,\"ticker\":null},\"id\":\"1019\",\"type\":\"Grid\"},{\"attributes\":{},\"id\":\"1040\",\"type\":\"BasicTickFormatter\"},{\"attributes\":{\"fill_color\":{\"field\":\"color\"},\"height\":{\"units\":\"data\",\"value\":1},\"line_color\":{\"value\":\"gray\"},\"width\":{\"field\":\"width\",\"units\":\"data\"},\"x\":{\"field\":\"x\"},\"y\":{\"field\":\"y\"}},\"id\":\"1033\",\"type\":\"Rect\"},{\"attributes\":{},\"id\":\"1042\",\"type\":\"UnionRenderers\"},{\"attributes\":{},\"id\":\"1038\",\"type\":\"CategoricalTickFormatter\"},{\"attributes\":{\"active_drag\":\"auto\",\"active_inspect\":\"auto\",\"active_multi\":null,\"active_scroll\":\"auto\",\"active_tap\":\"auto\",\"tools\":[{\"id\":\"1020\"},{\"id\":\"1021\"},{\"id\":\"1022\"},{\"id\":\"1023\"},{\"id\":\"1024\"}]},\"id\":\"1025\",\"type\":\"Toolbar\"},{\"attributes\":{\"data_source\":{\"id\":\"1031\"},\"glyph\":{\"id\":\"1033\"},\"hover_glyph\":null,\"muted_glyph\":null,\"nonselection_glyph\":{\"id\":\"1034\"},\"selection_glyph\":null,\"view\":{\"id\":\"1036\"}},\"id\":\"1035\",\"type\":\"GlyphRenderer\"},{\"attributes\":{\"fill_alpha\":{\"value\":0.1},\"fill_color\":{\"field\":\"color\"},\"height\":{\"units\":\"data\",\"value\":1},\"line_alpha\":{\"value\":0.1},\"line_color\":{\"value\":\"gray\"},\"width\":{\"field\":\"width\",\"units\":\"data\"},\"x\":{\"field\":\"x\"},\"y\":{\"field\":\"y\"}},\"id\":\"1034\",\"type\":\"Rect\"},{\"attributes\":{\"callback\":null,\"point_policy\":\"follow_mouse\",\"tooltips\":\"\\n    <div>\\n        <span style=\\\"font-size: 14px; font-weight: bold;\\\">Key:</span>&nbsp;\\n        <span style=\\\"font-size: 10px; font-family: Monaco, monospace;\\\">@key</span>\\n    </div>\\n    <div>\\n        <span style=\\\"font-size: 14px; font-weight: bold;\\\">Task:</span>&nbsp;\\n        <span style=\\\"font-size: 10px; font-family: Monaco, monospace;\\\">@function</span>\\n    </div>\\n    \"},\"id\":\"1020\",\"type\":\"HoverTool\"},{\"attributes\":{\"data\":{\"color\":[\"#208F8C\",\"#208F8C\",\"#208F8C\",\"#208F8C\",\"#440154\",\"#3B518A\",\"#3B518A\",\"#208F8C\",\"#440154\",\"#440154\",\"#3B518A\",\"#3B518A\",\"#3B518A\",\"#3B518A\",\"#208F8C\",\"#208F8C\",\"#440154\",\"#3B518A\",\"#3B518A\",\"#208F8C\",\"#440154\",\"#3B518A\",\"#3B518A\",\"#208F8C\",\"#440154\",\"#3B518A\",\"#3B518A\",\"#208F8C\",\"#440154\",\"#440154\",\"#3B518A\",\"#3B518A\",\"#3B518A\",\"#3B518A\",\"#440154\",\"#3B518A\",\"#3B518A\",\"#440154\",\"#3B518A\",\"#3B518A\",\"#5BC862\",\"#440154\",\"#3B518A\",\"#3B518A\",\"#3B518A\",\"#3B518A\",\"#3B518A\",\"#3B518A\",\"#FDE724\",\"#FDE724\",\"#FDE724\",\"#FDE724\",\"#440154\",\"#3B518A\",\"#FDE724\",\"#440154\",\"#3B518A\",\"#FDE724\",\"#440154\",\"#3B518A\",\"#FDE724\",\"#440154\",\"#3B518A\",\"#FDE724\",\"#440154\",\"#3B518A\",\"#FDE724\",\"#440154\",\"#3B518A\",\"#FDE724\",\"#440154\",\"#440154\",\"#440154\",\"#440154\"],\"function\":[\"subgraph_callable(_apply_random(...))\",\"subgraph_callable(_apply_random(...))\",\"subgraph_callable(_apply_random(...))\",\"subgraph_callable(_apply_random(...))\",\"_\",\"getitem(_, *)\",\"getitem(_, *)\",\"subgraph_callable(_apply_random(...))\",\"_\",\"_\",\"getitem(_, *)\",\"getitem(_, *)\",\"getitem(_, *)\",\"getitem(_, *)\",\"subgraph_callable(_apply_random(...))\",\"subgraph_callable(_apply_random(...))\",\"_\",\"getitem(_, *)\",\"getitem(_, *)\",\"subgraph_callable(_apply_random(...))\",\"_\",\"getitem(_, *)\",\"getitem(_, *)\",\"subgraph_callable(_apply_random(...))\",\"_\",\"getitem(_, *)\",\"getitem(_, *)\",\"subgraph_callable(_apply_random(...))\",\"_\",\"_\",\"getitem(_, *)\",\"getitem(_, *)\",\"getitem(_, *)\",\"getitem(_, *)\",\"_\",\"getitem(_, *)\",\"getitem(_, *)\",\"_\",\"getitem(_, *)\",\"getitem(_, *)\",\"subgraph_callable(vstack(tuple([_, _, _, ...])))\",\"_\",\"getitem(_, *)\",\"getitem(_, *)\",\"getitem(_, *)\",\"getitem(_, *)\",\"getitem(_, *)\",\"getitem(_, *)\",\"sum(subgraph_callable(_, _, _))\",\"sum(subgraph_callable(_, _, _))\",\"sum(subgraph_callable(_, _, _))\",\"sum(subgraph_callable(_, _, _))\",\"_\",\"getitem(_, *)\",\"sum(subgraph_callable(_, _, _))\",\"_\",\"getitem(_, *)\",\"sum(subgraph_callable(_, _, _))\",\"_\",\"getitem(_, *)\",\"sum(subgraph_callable(_, _, _))\",\"_\",\"getitem(_, *)\",\"sum(subgraph_callable(_, _, _))\",\"_\",\"getitem(_, *)\",\"sum(subgraph_callable(_, _, _))\",\"_\",\"getitem(_, *)\",\"sum(subgraph_callable(_, _, _))\",\"_\",\"_\",\"_\",\"_\"],\"key\":[\"('random_sample-qr-ec58dddaa0d03dfda5a3b39584ec99ac', 0, 0)\",\"('random_sample-qr-ec58dddaa0d03dfda5a3b39584ec99ac', 1, 0)\",\"('random_sample-qr-ec58dddaa0d03dfda5a3b39584ec99ac', 2, 0)\",\"('random_sample-qr-ec58dddaa0d03dfda5a3b39584ec99ac', 3, 0)\",\"('qr-ec58dddaa0d03dfda5a3b39584ec99ac', 0, 0)\",\"('getitem-ec58dddaa0d03dfda5a3b39584ec99ac-r1', 0, 0)\",\"('getitem-ec58dddaa0d03dfda5a3b39584ec99ac-q1', 0, 0)\",\"('random_sample-qr-ec58dddaa0d03dfda5a3b39584ec99ac', 4, 0)\",\"('qr-ec58dddaa0d03dfda5a3b39584ec99ac', 2, 0)\",\"('qr-ec58dddaa0d03dfda5a3b39584ec99ac', 3, 0)\",\"('getitem-ec58dddaa0d03dfda5a3b39584ec99ac-r1', 2, 0)\",\"('getitem-ec58dddaa0d03dfda5a3b39584ec99ac-r1', 3, 0)\",\"('getitem-ec58dddaa0d03dfda5a3b39584ec99ac-q1', 3, 0)\",\"('getitem-ec58dddaa0d03dfda5a3b39584ec99ac-q1', 2, 0)\",\"('random_sample-qr-ec58dddaa0d03dfda5a3b39584ec99ac', 5, 0)\",\"('random_sample-qr-ec58dddaa0d03dfda5a3b39584ec99ac', 6, 0)\",\"('qr-ec58dddaa0d03dfda5a3b39584ec99ac', 1, 0)\",\"('getitem-ec58dddaa0d03dfda5a3b39584ec99ac-r1', 1, 0)\",\"('getitem-ec58dddaa0d03dfda5a3b39584ec99ac-q1', 1, 0)\",\"('random_sample-qr-ec58dddaa0d03dfda5a3b39584ec99ac', 7, 0)\",\"('qr-ec58dddaa0d03dfda5a3b39584ec99ac', 5, 0)\",\"('getitem-ec58dddaa0d03dfda5a3b39584ec99ac-r1', 5, 0)\",\"('getitem-ec58dddaa0d03dfda5a3b39584ec99ac-q1', 5, 0)\",\"('random_sample-qr-ec58dddaa0d03dfda5a3b39584ec99ac', 8, 0)\",\"('qr-ec58dddaa0d03dfda5a3b39584ec99ac', 6, 0)\",\"('getitem-ec58dddaa0d03dfda5a3b39584ec99ac-r1', 6, 0)\",\"('getitem-ec58dddaa0d03dfda5a3b39584ec99ac-q1', 6, 0)\",\"('random_sample-qr-ec58dddaa0d03dfda5a3b39584ec99ac', 9, 0)\",\"('qr-ec58dddaa0d03dfda5a3b39584ec99ac', 7, 0)\",\"('qr-ec58dddaa0d03dfda5a3b39584ec99ac', 4, 0)\",\"('getitem-ec58dddaa0d03dfda5a3b39584ec99ac-r1', 7, 0)\",\"('getitem-ec58dddaa0d03dfda5a3b39584ec99ac-r1', 4, 0)\",\"('getitem-ec58dddaa0d03dfda5a3b39584ec99ac-q1', 4, 0)\",\"('getitem-ec58dddaa0d03dfda5a3b39584ec99ac-q1', 7, 0)\",\"('qr-ec58dddaa0d03dfda5a3b39584ec99ac', 8, 0)\",\"('getitem-ec58dddaa0d03dfda5a3b39584ec99ac-r1', 8, 0)\",\"('getitem-ec58dddaa0d03dfda5a3b39584ec99ac-q1', 8, 0)\",\"('qr-ec58dddaa0d03dfda5a3b39584ec99ac', 9, 0)\",\"('getitem-ec58dddaa0d03dfda5a3b39584ec99ac-r1', 9, 0)\",\"('getitem-ec58dddaa0d03dfda5a3b39584ec99ac-q1', 9, 0)\",\"('stack-qr-ec58dddaa0d03dfda5a3b39584ec99ac-qr2', 0, 0)\",\"('qr-ec58dddaa0d03dfda5a3b39584ec99ac-qr2', 0, 0)\",\"('getitem-ec58dddaa0d03dfda5a3b39584ec99ac-q2-aux', 0, 0)\",\"('getitem-ec58dddaa0d03dfda5a3b39584ec99ac-r2', 0, 0)\",\"('getitem-ec58dddaa0d03dfda5a3b39584ec99ac-q2', 0, 0)\",\"('getitem-ec58dddaa0d03dfda5a3b39584ec99ac-q2', 1, 0)\",\"('getitem-ec58dddaa0d03dfda5a3b39584ec99ac-q2', 2, 0)\",\"('getitem-ec58dddaa0d03dfda5a3b39584ec99ac-q2', 3, 0)\",\"('sum-sum-aggregate-bdbc93056fb07bf4058c8e78a36a603f', 0, 0)\",\"('sum-sum-aggregate-bdbc93056fb07bf4058c8e78a36a603f', 1, 0)\",\"('sum-sum-aggregate-bdbc93056fb07bf4058c8e78a36a603f', 2, 0)\",\"('sum-sum-aggregate-bdbc93056fb07bf4058c8e78a36a603f', 3, 0)\",\"('sum-aggregate-bdbc93056fb07bf4058c8e78a36a603f', 2, 0)\",\"('getitem-ec58dddaa0d03dfda5a3b39584ec99ac-q2', 4, 0)\",\"('sum-sum-aggregate-bdbc93056fb07bf4058c8e78a36a603f', 4, 0)\",\"('sum-aggregate-bdbc93056fb07bf4058c8e78a36a603f', 3, 0)\",\"('getitem-ec58dddaa0d03dfda5a3b39584ec99ac-q2', 5, 0)\",\"('sum-sum-aggregate-bdbc93056fb07bf4058c8e78a36a603f', 5, 0)\",\"('sum-aggregate-bdbc93056fb07bf4058c8e78a36a603f', 0, 0)\",\"('getitem-ec58dddaa0d03dfda5a3b39584ec99ac-q2', 6, 0)\",\"('sum-sum-aggregate-bdbc93056fb07bf4058c8e78a36a603f', 6, 0)\",\"('sum-aggregate-bdbc93056fb07bf4058c8e78a36a603f', 1, 0)\",\"('getitem-ec58dddaa0d03dfda5a3b39584ec99ac-q2', 7, 0)\",\"('sum-sum-aggregate-bdbc93056fb07bf4058c8e78a36a603f', 7, 0)\",\"('sum-aggregate-bdbc93056fb07bf4058c8e78a36a603f', 5, 0)\",\"('getitem-ec58dddaa0d03dfda5a3b39584ec99ac-q2', 8, 0)\",\"('sum-sum-aggregate-bdbc93056fb07bf4058c8e78a36a603f', 8, 0)\",\"('sum-aggregate-bdbc93056fb07bf4058c8e78a36a603f', 6, 0)\",\"('getitem-ec58dddaa0d03dfda5a3b39584ec99ac-q2', 9, 0)\",\"('sum-sum-aggregate-bdbc93056fb07bf4058c8e78a36a603f', 9, 0)\",\"('sum-aggregate-bdbc93056fb07bf4058c8e78a36a603f', 8, 0)\",\"('sum-aggregate-bdbc93056fb07bf4058c8e78a36a603f', 4, 0)\",\"('sum-aggregate-bdbc93056fb07bf4058c8e78a36a603f', 7, 0)\",\"('sum-aggregate-bdbc93056fb07bf4058c8e78a36a603f', 9, 0)\"],\"width\":[0.5745786030000004,0.583199391,0.5798494380000001,0.5798938219999998,0.0003555030000002013,0.00014884300000028716,8.899399999995339e-05,0.5801602860000004,0.0001662970000002595,0.0001605919999998484,0.00019461899999972943,0.00018922600000026435,0.00014216199999994572,0.00014834200000013453,0.565879528,0.5692016449999997,8.364199999988386e-05,7.058500000001189e-05,6.466799999982342e-05,0.5718195109999997,0.00015389399999987674,0.00014576399999999268,0.00010779300000018921,0.23547288800000032,0.00016471799999973058,0.0001300220000000074,0.00014241700000017232,0.2384154930000002,0.00014764600000027883,0.00014017299999968813,0.00015496100000023105,0.0001575860000002649,0.00012949400000028533,0.00010660100000015049,0.00013551199999994878,0.0005530849999999532,0.0005395570000001904,0.00010769699999979565,0.00012862800000013053,0.0001511560000002632,1.0538549489999998,0.00012913399999980868,0.00014866400000013158,0.00018916899999954495,0.0002059979999993189,0.00021785999999934802,0.0002292139999999776,0.00021987799999934055,0.28906778899999974,0.3607585420000001,0.2165413599999999,0.24958456900000048,0.001163764000000178,0.0039925220000007755,0.43238960899999945,0.0001941819999995431,0.00020955500000052751,0.18415352599999935,0.004244939000000336,0.002831268000000442,0.2503476640000004,0.0057494550000001254,0.006442802999999664,0.3098300810000003,0.0001411989999997587,0.00013906200000057822,0.15460473500000038,0.00012112599999980489,0.004081907000000662,0.19162353200000037,0.0025806420000007435,0.004591967999999724,0.00015332500000031501,0.00016553699999999338],\"x\":[0.2872893015,0.2916817035000001,0.2900301340000002,0.29006723700000014,0.5747797785000004,0.5750566015000005,0.575182222,0.865315727,0.5800487655000004,0.5800997379999999,0.5802399805000005,0.58028038,0.5804139330000004,0.5804529730000003,0.8634324740000001,0.8651339025000002,0.5833305630000001,0.5834149245,0.5834863829999999,0.8694351375000005,1.1464671250000005,1.1466304680000001,1.1467637295000004,1.2645679370000003,1.1498294800000002,1.1499907120000006,1.1501349265000003,1.2694248165000004,1.1554292630000003,1.1554710225,1.1555889085,1.1556262410000002,1.1557376660000003,1.1557630055000003,1.3823861160000002,1.3827439025000001,1.3827658855,1.3886950325000003,1.3888236710000004,1.3888600160000002,1.9158215175,2.4428470380000005,2.4429959720000007,2.4430439305000005,2.4431785749999997,2.443205847,2.4432258709999997,2.4432546900000003,2.5878198645000006,2.6236977970000006,2.5516149919999997,2.5681600785000005,2.6604884840000005,2.6630797200000003,2.8812811635,2.693081292,2.6933025065000007,2.785493493,2.7344990425,2.7380547100000006,2.8646526520000006,2.8069754295,2.8130882214999997,2.9712341345,2.8776680225000004,2.8778252500000003,2.9552049314999995,2.98990759,2.9920166515000006,3.0898849930000005,3.033821018,3.0997982270000004,3.1262509795000004,3.185809445500001],\"y\":[4,1,3,2,4,4,4,4,3,3,3,3,3,3,3,2,1,1,1,1,3,3,3,3,2,2,2,2,1,1,1,1,1,1,1,3,3,4,1,1,4,1,3,3,1,1,1,1,3,4,1,2,1,1,1,2,2,2,3,3,3,4,4,4,2,2,2,3,3,3,2,2,2,4]},\"selected\":{\"id\":\"1043\"},\"selection_policy\":{\"id\":\"1042\"}},\"id\":\"1031\",\"type\":\"ColumnDataSource\"},{\"attributes\":{},\"id\":\"1021\",\"type\":\"SaveTool\"},{\"attributes\":{},\"id\":\"1009\",\"type\":\"LinearScale\"},{\"attributes\":{\"end\":3.1858922140000003},\"id\":\"1005\",\"type\":\"Range1d\"},{\"attributes\":{},\"id\":\"1022\",\"type\":\"ResetTool\"},{\"attributes\":{\"dimensions\":\"width\"},\"id\":\"1023\",\"type\":\"WheelZoomTool\"},{\"attributes\":{\"source\":{\"id\":\"1031\"}},\"id\":\"1036\",\"type\":\"CDSView\"},{\"attributes\":{\"dimensions\":\"width\"},\"id\":\"1024\",\"type\":\"PanTool\"},{\"attributes\":{\"text\":\"Profile Results\"},\"id\":\"1003\",\"type\":\"Title\"},{\"attributes\":{\"factors\":[\"0\",\"1\",\"2\",\"3\"]},\"id\":\"1007\",\"type\":\"FactorRange\"},{\"attributes\":{},\"id\":\"1011\",\"type\":\"CategoricalScale\"},{\"attributes\":{\"axis_label\":\"Time (s)\",\"axis_line_color\":null,\"formatter\":{\"id\":\"1040\"},\"major_tick_line_color\":null,\"ticker\":{\"id\":\"1014\"}},\"id\":\"1013\",\"type\":\"LinearAxis\"},{\"attributes\":{\"axis_label\":\"Worker ID\",\"axis_line_color\":null,\"formatter\":{\"id\":\"1038\"},\"major_tick_line_color\":null,\"ticker\":{\"id\":\"1018\"}},\"id\":\"1017\",\"type\":\"CategoricalAxis\"},{\"attributes\":{},\"id\":\"1014\",\"type\":\"BasicTicker\"},{\"attributes\":{},\"id\":\"1043\",\"type\":\"Selection\"},{\"attributes\":{\"axis\":{\"id\":\"1013\"},\"grid_line_color\":null,\"ticker\":null},\"id\":\"1016\",\"type\":\"Grid\"},{\"attributes\":{},\"id\":\"1018\",\"type\":\"CategoricalTicker\"}],\"root_ids\":[\"1002\"]},\"title\":\"Bokeh Application\",\"version\":\"2.1.1\"}};\n",
       "  var render_items = [{\"docid\":\"5298d947-c91b-40ae-b252-670b220e4ada\",\"root_ids\":[\"1002\"],\"roots\":{\"1002\":\"1a6f5dbe-6e5b-49eb-9b7c-7a0924bc5036\"}}];\n",
       "  root.Bokeh.embed.embed_items_notebook(docs_json, render_items);\n",
       "\n",
       "  }\n",
       "  if (root.Bokeh !== undefined) {\n",
       "    embed_document(root);\n",
       "  } else {\n",
       "    var attempts = 0;\n",
       "    var timer = setInterval(function(root) {\n",
       "      if (root.Bokeh !== undefined) {\n",
       "        clearInterval(timer);\n",
       "        embed_document(root);\n",
       "      } else {\n",
       "        attempts++;\n",
       "        if (attempts > 100) {\n",
       "          clearInterval(timer);\n",
       "          console.log(\"Bokeh: ERROR: Unable to run BokehJS code because BokehJS library is missing\");\n",
       "        }\n",
       "      }\n",
       "    }, 10, root)\n",
       "  }\n",
       "})(window);"
      ],
      "application/vnd.bokehjs_exec.v0+json": ""
     },
     "metadata": {
      "application/vnd.bokehjs_exec.v0+json": {
       "id": "1002"
      }
     },
     "output_type": "display_data"
    },
    {
     "data": {
      "text/html": [
       "<div style=\"display: table;\"><div style=\"display: table-row;\"><div style=\"display: table-cell;\"><b title=\"bokeh.plotting.figure.Figure\">Figure</b>(</div><div style=\"display: table-cell;\">id&nbsp;=&nbsp;'1002', <span id=\"1094\" style=\"cursor: pointer;\">&hellip;)</span></div></div><div class=\"1093\" style=\"display: none;\"><div style=\"display: table-cell;\"></div><div style=\"display: table-cell;\">above&nbsp;=&nbsp;[],</div></div><div class=\"1093\" style=\"display: none;\"><div style=\"display: table-cell;\"></div><div style=\"display: table-cell;\">align&nbsp;=&nbsp;'start',</div></div><div class=\"1093\" style=\"display: none;\"><div style=\"display: table-cell;\"></div><div style=\"display: table-cell;\">aspect_ratio&nbsp;=&nbsp;None,</div></div><div class=\"1093\" style=\"display: none;\"><div style=\"display: table-cell;\"></div><div style=\"display: table-cell;\">aspect_scale&nbsp;=&nbsp;1,</div></div><div class=\"1093\" style=\"display: none;\"><div style=\"display: table-cell;\"></div><div style=\"display: table-cell;\">background&nbsp;=&nbsp;None,</div></div><div class=\"1093\" style=\"display: none;\"><div style=\"display: table-cell;\"></div><div style=\"display: table-cell;\">background_fill_alpha&nbsp;=&nbsp;1.0,</div></div><div class=\"1093\" style=\"display: none;\"><div style=\"display: table-cell;\"></div><div style=\"display: table-cell;\">background_fill_color&nbsp;=&nbsp;'#ffffff',</div></div><div class=\"1093\" style=\"display: none;\"><div style=\"display: table-cell;\"></div><div style=\"display: table-cell;\">below&nbsp;=&nbsp;[LinearAxis(id='1013', ...)],</div></div><div class=\"1093\" style=\"display: none;\"><div style=\"display: table-cell;\"></div><div style=\"display: table-cell;\">border_fill_alpha&nbsp;=&nbsp;1.0,</div></div><div class=\"1093\" style=\"display: none;\"><div style=\"display: table-cell;\"></div><div style=\"display: table-cell;\">border_fill_color&nbsp;=&nbsp;'#ffffff',</div></div><div class=\"1093\" style=\"display: none;\"><div style=\"display: table-cell;\"></div><div style=\"display: table-cell;\">center&nbsp;=&nbsp;[Grid(id='1016', ...), Grid(id='1019', ...)],</div></div><div class=\"1093\" style=\"display: none;\"><div style=\"display: table-cell;\"></div><div style=\"display: table-cell;\">css_classes&nbsp;=&nbsp;[],</div></div><div class=\"1093\" style=\"display: none;\"><div style=\"display: table-cell;\"></div><div style=\"display: table-cell;\">disabled&nbsp;=&nbsp;False,</div></div><div class=\"1093\" style=\"display: none;\"><div style=\"display: table-cell;\"></div><div style=\"display: table-cell;\">extra_x_ranges&nbsp;=&nbsp;{},</div></div><div class=\"1093\" style=\"display: none;\"><div style=\"display: table-cell;\"></div><div style=\"display: table-cell;\">extra_y_ranges&nbsp;=&nbsp;{},</div></div><div class=\"1093\" style=\"display: none;\"><div style=\"display: table-cell;\"></div><div style=\"display: table-cell;\">frame_height&nbsp;=&nbsp;None,</div></div><div class=\"1093\" style=\"display: none;\"><div style=\"display: table-cell;\"></div><div style=\"display: table-cell;\">frame_width&nbsp;=&nbsp;None,</div></div><div class=\"1093\" style=\"display: none;\"><div style=\"display: table-cell;\"></div><div style=\"display: table-cell;\">height&nbsp;=&nbsp;None,</div></div><div class=\"1093\" style=\"display: none;\"><div style=\"display: table-cell;\"></div><div style=\"display: table-cell;\">height_policy&nbsp;=&nbsp;'auto',</div></div><div class=\"1093\" style=\"display: none;\"><div style=\"display: table-cell;\"></div><div style=\"display: table-cell;\">hidpi&nbsp;=&nbsp;True,</div></div><div class=\"1093\" style=\"display: none;\"><div style=\"display: table-cell;\"></div><div style=\"display: table-cell;\">js_event_callbacks&nbsp;=&nbsp;{},</div></div><div class=\"1093\" style=\"display: none;\"><div style=\"display: table-cell;\"></div><div style=\"display: table-cell;\">js_property_callbacks&nbsp;=&nbsp;{},</div></div><div class=\"1093\" style=\"display: none;\"><div style=\"display: table-cell;\"></div><div style=\"display: table-cell;\">left&nbsp;=&nbsp;[CategoricalAxis(id='1017', ...)],</div></div><div class=\"1093\" style=\"display: none;\"><div style=\"display: table-cell;\"></div><div style=\"display: table-cell;\">lod_factor&nbsp;=&nbsp;10,</div></div><div class=\"1093\" style=\"display: none;\"><div style=\"display: table-cell;\"></div><div style=\"display: table-cell;\">lod_interval&nbsp;=&nbsp;300,</div></div><div class=\"1093\" style=\"display: none;\"><div style=\"display: table-cell;\"></div><div style=\"display: table-cell;\">lod_threshold&nbsp;=&nbsp;2000,</div></div><div class=\"1093\" style=\"display: none;\"><div style=\"display: table-cell;\"></div><div style=\"display: table-cell;\">lod_timeout&nbsp;=&nbsp;500,</div></div><div class=\"1093\" style=\"display: none;\"><div style=\"display: table-cell;\"></div><div style=\"display: table-cell;\">margin&nbsp;=&nbsp;(0, 0, 0, 0),</div></div><div class=\"1093\" style=\"display: none;\"><div style=\"display: table-cell;\"></div><div style=\"display: table-cell;\">match_aspect&nbsp;=&nbsp;False,</div></div><div class=\"1093\" style=\"display: none;\"><div style=\"display: table-cell;\"></div><div style=\"display: table-cell;\">max_height&nbsp;=&nbsp;None,</div></div><div class=\"1093\" style=\"display: none;\"><div style=\"display: table-cell;\"></div><div style=\"display: table-cell;\">max_width&nbsp;=&nbsp;None,</div></div><div class=\"1093\" style=\"display: none;\"><div style=\"display: table-cell;\"></div><div style=\"display: table-cell;\">min_border&nbsp;=&nbsp;5,</div></div><div class=\"1093\" style=\"display: none;\"><div style=\"display: table-cell;\"></div><div style=\"display: table-cell;\">min_border_bottom&nbsp;=&nbsp;None,</div></div><div class=\"1093\" style=\"display: none;\"><div style=\"display: table-cell;\"></div><div style=\"display: table-cell;\">min_border_left&nbsp;=&nbsp;None,</div></div><div class=\"1093\" style=\"display: none;\"><div style=\"display: table-cell;\"></div><div style=\"display: table-cell;\">min_border_right&nbsp;=&nbsp;None,</div></div><div class=\"1093\" style=\"display: none;\"><div style=\"display: table-cell;\"></div><div style=\"display: table-cell;\">min_border_top&nbsp;=&nbsp;None,</div></div><div class=\"1093\" style=\"display: none;\"><div style=\"display: table-cell;\"></div><div style=\"display: table-cell;\">min_height&nbsp;=&nbsp;None,</div></div><div class=\"1093\" style=\"display: none;\"><div style=\"display: table-cell;\"></div><div style=\"display: table-cell;\">min_width&nbsp;=&nbsp;None,</div></div><div class=\"1093\" style=\"display: none;\"><div style=\"display: table-cell;\"></div><div style=\"display: table-cell;\">name&nbsp;=&nbsp;None,</div></div><div class=\"1093\" style=\"display: none;\"><div style=\"display: table-cell;\"></div><div style=\"display: table-cell;\">outline_line_alpha&nbsp;=&nbsp;1.0,</div></div><div class=\"1093\" style=\"display: none;\"><div style=\"display: table-cell;\"></div><div style=\"display: table-cell;\">outline_line_cap&nbsp;=&nbsp;'butt',</div></div><div class=\"1093\" style=\"display: none;\"><div style=\"display: table-cell;\"></div><div style=\"display: table-cell;\">outline_line_color&nbsp;=&nbsp;'#e5e5e5',</div></div><div class=\"1093\" style=\"display: none;\"><div style=\"display: table-cell;\"></div><div style=\"display: table-cell;\">outline_line_dash&nbsp;=&nbsp;[],</div></div><div class=\"1093\" style=\"display: none;\"><div style=\"display: table-cell;\"></div><div style=\"display: table-cell;\">outline_line_dash_offset&nbsp;=&nbsp;0,</div></div><div class=\"1093\" style=\"display: none;\"><div style=\"display: table-cell;\"></div><div style=\"display: table-cell;\">outline_line_join&nbsp;=&nbsp;'bevel',</div></div><div class=\"1093\" style=\"display: none;\"><div style=\"display: table-cell;\"></div><div style=\"display: table-cell;\">outline_line_width&nbsp;=&nbsp;1,</div></div><div class=\"1093\" style=\"display: none;\"><div style=\"display: table-cell;\"></div><div style=\"display: table-cell;\">output_backend&nbsp;=&nbsp;'canvas',</div></div><div class=\"1093\" style=\"display: none;\"><div style=\"display: table-cell;\"></div><div style=\"display: table-cell;\">plot_height&nbsp;=&nbsp;300,</div></div><div class=\"1093\" style=\"display: none;\"><div style=\"display: table-cell;\"></div><div style=\"display: table-cell;\">plot_width&nbsp;=&nbsp;800,</div></div><div class=\"1093\" style=\"display: none;\"><div style=\"display: table-cell;\"></div><div style=\"display: table-cell;\">renderers&nbsp;=&nbsp;[GlyphRenderer(id='1035', ...)],</div></div><div class=\"1093\" style=\"display: none;\"><div style=\"display: table-cell;\"></div><div style=\"display: table-cell;\">reset_policy&nbsp;=&nbsp;'standard',</div></div><div class=\"1093\" style=\"display: none;\"><div style=\"display: table-cell;\"></div><div style=\"display: table-cell;\">right&nbsp;=&nbsp;[],</div></div><div class=\"1093\" style=\"display: none;\"><div style=\"display: table-cell;\"></div><div style=\"display: table-cell;\">sizing_mode&nbsp;=&nbsp;None,</div></div><div class=\"1093\" style=\"display: none;\"><div style=\"display: table-cell;\"></div><div style=\"display: table-cell;\">subscribed_events&nbsp;=&nbsp;[],</div></div><div class=\"1093\" style=\"display: none;\"><div style=\"display: table-cell;\"></div><div style=\"display: table-cell;\">tags&nbsp;=&nbsp;[],</div></div><div class=\"1093\" style=\"display: none;\"><div style=\"display: table-cell;\"></div><div style=\"display: table-cell;\">title&nbsp;=&nbsp;Title(id='1003', ...),</div></div><div class=\"1093\" style=\"display: none;\"><div style=\"display: table-cell;\"></div><div style=\"display: table-cell;\">title_location&nbsp;=&nbsp;'above',</div></div><div class=\"1093\" style=\"display: none;\"><div style=\"display: table-cell;\"></div><div style=\"display: table-cell;\">toolbar&nbsp;=&nbsp;Toolbar(id='1025', ...),</div></div><div class=\"1093\" style=\"display: none;\"><div style=\"display: table-cell;\"></div><div style=\"display: table-cell;\">toolbar_location&nbsp;=&nbsp;'above',</div></div><div class=\"1093\" style=\"display: none;\"><div style=\"display: table-cell;\"></div><div style=\"display: table-cell;\">toolbar_sticky&nbsp;=&nbsp;True,</div></div><div class=\"1093\" style=\"display: none;\"><div style=\"display: table-cell;\"></div><div style=\"display: table-cell;\">visible&nbsp;=&nbsp;True,</div></div><div class=\"1093\" style=\"display: none;\"><div style=\"display: table-cell;\"></div><div style=\"display: table-cell;\">width&nbsp;=&nbsp;None,</div></div><div class=\"1093\" style=\"display: none;\"><div style=\"display: table-cell;\"></div><div style=\"display: table-cell;\">width_policy&nbsp;=&nbsp;'auto',</div></div><div class=\"1093\" style=\"display: none;\"><div style=\"display: table-cell;\"></div><div style=\"display: table-cell;\">x_range&nbsp;=&nbsp;Range1d(id='1005', ...),</div></div><div class=\"1093\" style=\"display: none;\"><div style=\"display: table-cell;\"></div><div style=\"display: table-cell;\">x_scale&nbsp;=&nbsp;LinearScale(id='1009', ...),</div></div><div class=\"1093\" style=\"display: none;\"><div style=\"display: table-cell;\"></div><div style=\"display: table-cell;\">y_range&nbsp;=&nbsp;FactorRange(id='1007', ...),</div></div><div class=\"1093\" style=\"display: none;\"><div style=\"display: table-cell;\"></div><div style=\"display: table-cell;\">y_scale&nbsp;=&nbsp;CategoricalScale(id='1011', ...))</div></div></div>\n",
       "<script>\n",
       "(function() {\n",
       "  var expanded = false;\n",
       "  var ellipsis = document.getElementById(\"1094\");\n",
       "  ellipsis.addEventListener(\"click\", function() {\n",
       "    var rows = document.getElementsByClassName(\"1093\");\n",
       "    for (var i = 0; i < rows.length; i++) {\n",
       "      var el = rows[i];\n",
       "      el.style.display = expanded ? \"none\" : \"table-row\";\n",
       "    }\n",
       "    ellipsis.innerHTML = expanded ? \"&hellip;)\" : \"&lsaquo;&lsaquo;&lsaquo;\";\n",
       "    expanded = !expanded;\n",
       "  });\n",
       "})();\n",
       "</script>\n"
      ],
      "text/plain": [
       "Figure(id='1002', ...)"
      ]
     },
     "execution_count": 13,
     "metadata": {},
     "output_type": "execute_result"
    }
   ],
   "source": [
    "prof.visualize()"
   ]
  },
  {
   "cell_type": "code",
   "execution_count": 14,
   "metadata": {
    "ExecuteTime": {
     "end_time": "2020-07-10T15:23:03.731901Z",
     "start_time": "2020-07-10T15:23:03.604766Z"
    }
   },
   "outputs": [
    {
     "data": {
      "text/html": [
       "\n",
       "\n",
       "\n",
       "\n",
       "\n",
       "\n",
       "  <div class=\"bk-root\" id=\"0d92d0f4-6c11-4c0a-8b22-d51d946f877e\" data-root-id=\"1311\"></div>\n"
      ]
     },
     "metadata": {},
     "output_type": "display_data"
    },
    {
     "data": {
      "application/javascript": [
       "(function(root) {\n",
       "  function embed_document(root) {\n",
       "    \n",
       "  var docs_json = {\"230b0bf6-bf76-4755-bcff-e35ec1ddeb3a\":{\"roots\":{\"references\":[{\"attributes\":{\"children\":[{\"id\":\"1310\"},{\"id\":\"1308\"}]},\"id\":\"1311\",\"type\":\"Column\"},{\"attributes\":{\"source\":{\"id\":\"1125\"}},\"id\":\"1130\",\"type\":\"CDSView\"},{\"attributes\":{\"data_source\":{\"id\":\"1125\"},\"glyph\":{\"id\":\"1127\"},\"hover_glyph\":null,\"muted_glyph\":null,\"nonselection_glyph\":{\"id\":\"1128\"},\"selection_glyph\":null,\"view\":{\"id\":\"1130\"}},\"id\":\"1129\",\"type\":\"GlyphRenderer\"},{\"attributes\":{},\"id\":\"1112\",\"type\":\"CategoricalTicker\"},{\"attributes\":{\"end\":3.1858922140000003},\"id\":\"1099\",\"type\":\"Range1d\"},{\"attributes\":{\"below\":[{\"id\":\"1149\"}],\"center\":[{\"id\":\"1152\"},{\"id\":\"1156\"},{\"id\":\"1178\"}],\"extra_y_ranges\":{\"memory\":{\"id\":\"1180\"}},\"left\":[{\"id\":\"1153\"}],\"min_border_bottom\":20,\"min_border_left\":75,\"min_border_right\":75,\"min_border_top\":20,\"plot_height\":240,\"plot_width\":800,\"renderers\":[{\"id\":\"1169\"},{\"id\":\"1184\"}],\"right\":[{\"id\":\"1196\"}],\"title\":null,\"toolbar\":{\"id\":\"1161\"},\"toolbar_location\":null,\"x_range\":{\"id\":\"1099\"},\"x_scale\":{\"id\":\"1145\"},\"y_range\":{\"id\":\"1143\"},\"y_scale\":{\"id\":\"1147\"}},\"id\":\"1138\",\"subtype\":\"Figure\",\"type\":\"Plot\"},{\"attributes\":{\"fill_alpha\":{\"value\":0.1},\"fill_color\":{\"field\":\"color\"},\"height\":{\"units\":\"data\",\"value\":1},\"line_alpha\":{\"value\":0.1},\"line_color\":{\"value\":\"gray\"},\"width\":{\"field\":\"width\",\"units\":\"data\"},\"x\":{\"field\":\"x\"},\"y\":{\"field\":\"y\"}},\"id\":\"1128\",\"type\":\"Rect\"},{\"attributes\":{},\"id\":\"1132\",\"type\":\"CategoricalTickFormatter\"},{\"attributes\":{\"axis_label\":\"Worker ID\",\"axis_line_color\":null,\"formatter\":{\"id\":\"1132\"},\"major_tick_line_color\":null,\"ticker\":{\"id\":\"1112\"}},\"id\":\"1111\",\"type\":\"CategoricalAxis\"},{\"attributes\":{\"line_color\":\"#440154\",\"line_width\":4,\"x\":{\"field\":\"x\"},\"y\":{\"field\":\"y\"}},\"id\":\"1167\",\"type\":\"Line\"},{\"attributes\":{},\"id\":\"1136\",\"type\":\"UnionRenderers\"},{\"attributes\":{\"children\":[[{\"id\":\"1096\"},0,0],[{\"id\":\"1138\"},1,0],[{\"id\":\"1197\"},2,0]]},\"id\":\"1308\",\"type\":\"GridBox\"},{\"attributes\":{},\"id\":\"1134\",\"type\":\"BasicTickFormatter\"},{\"attributes\":{},\"id\":\"1137\",\"type\":\"Selection\"},{\"attributes\":{\"callback\":null,\"point_policy\":\"follow_mouse\",\"tooltips\":\"\\n    <div>\\n        <span style=\\\"font-size: 14px; font-weight: bold;\\\">Key:</span>&nbsp;\\n        <span style=\\\"font-size: 10px; font-family: Monaco, monospace;\\\">@key</span>\\n    </div>\\n    <div>\\n        <span style=\\\"font-size: 14px; font-weight: bold;\\\">Task:</span>&nbsp;\\n        <span style=\\\"font-size: 10px; font-family: Monaco, monospace;\\\">@function</span>\\n    </div>\\n    \"},\"id\":\"1114\",\"type\":\"HoverTool\"},{\"attributes\":{},\"id\":\"1147\",\"type\":\"LinearScale\"},{\"attributes\":{},\"id\":\"1145\",\"type\":\"LinearScale\"},{\"attributes\":{\"end\":392.1},\"id\":\"1143\",\"type\":\"Range1d\"},{\"attributes\":{\"axis_label\":null,\"formatter\":{\"id\":\"1174\"},\"ticker\":{\"id\":\"1150\"}},\"id\":\"1149\",\"type\":\"LinearAxis\"},{\"attributes\":{},\"id\":\"1154\",\"type\":\"BasicTicker\"},{\"attributes\":{},\"id\":\"1150\",\"type\":\"BasicTicker\"},{\"attributes\":{\"axis\":{\"id\":\"1149\"},\"ticker\":null},\"id\":\"1152\",\"type\":\"Grid\"},{\"attributes\":{\"items\":[{\"id\":\"1179\"},{\"id\":\"1195\"}]},\"id\":\"1178\",\"type\":\"Legend\"},{\"attributes\":{\"axis\":{\"id\":\"1153\"},\"dimension\":1,\"ticker\":null},\"id\":\"1156\",\"type\":\"Grid\"},{\"attributes\":{\"axis_label\":\"% CPU\",\"formatter\":{\"id\":\"1172\"},\"ticker\":{\"id\":\"1154\"}},\"id\":\"1153\",\"type\":\"LinearAxis\"},{\"attributes\":{\"source\":{\"id\":\"1166\"}},\"id\":\"1170\",\"type\":\"CDSView\"},{\"attributes\":{\"below\":[{\"id\":\"1107\"}],\"center\":[{\"id\":\"1110\"},{\"id\":\"1113\"}],\"left\":[{\"id\":\"1111\"}],\"min_border_bottom\":20,\"min_border_left\":75,\"min_border_right\":75,\"plot_height\":270,\"plot_width\":800,\"renderers\":[{\"id\":\"1129\"}],\"title\":{\"id\":\"1097\"},\"toolbar\":{\"id\":\"1119\"},\"toolbar_location\":null,\"x_range\":{\"id\":\"1099\"},\"x_scale\":{\"id\":\"1103\"},\"y_range\":{\"id\":\"1101\"},\"y_scale\":{\"id\":\"1105\"}},\"id\":\"1096\",\"subtype\":\"Figure\",\"type\":\"Plot\"},{\"attributes\":{\"data\":{\"x\":[0.0,0.25851465900000026,0.5088726280000002,0.7591909020000003,1.0094796550000003,1.2607710360000004,1.51199085,1.7632770630000003,2.0145856589999998,2.265085717,2.5157782190000004,2.7666324850000006,3.017359987],\"y\":[0.0,319.1,354.20000000000005,380.8,359.40000000000003,291.3,392.1,372.20000000000005,384.1,381.0,384.6,381.0,380.1]},\"selected\":{\"id\":\"1177\"},\"selection_policy\":{\"id\":\"1176\"}},\"id\":\"1166\",\"type\":\"ColumnDataSource\"},{\"attributes\":{\"fill_color\":{\"field\":\"color\"},\"height\":{\"units\":\"data\",\"value\":1},\"line_color\":{\"value\":\"gray\"},\"width\":{\"field\":\"width\",\"units\":\"data\"},\"x\":{\"field\":\"x\"},\"y\":{\"field\":\"y\"}},\"id\":\"1127\",\"type\":\"Rect\"},{\"attributes\":{},\"id\":\"1157\",\"type\":\"SaveTool\"},{\"attributes\":{},\"id\":\"1158\",\"type\":\"ResetTool\"},{\"attributes\":{\"active_drag\":\"auto\",\"active_inspect\":\"auto\",\"active_multi\":null,\"active_scroll\":\"auto\",\"active_tap\":\"auto\",\"tools\":[{\"id\":\"1114\"},{\"id\":\"1115\"},{\"id\":\"1116\"},{\"id\":\"1117\"},{\"id\":\"1118\"}]},\"id\":\"1119\",\"type\":\"Toolbar\"},{\"attributes\":{\"line_alpha\":0.1,\"line_color\":\"#440154\",\"line_width\":4,\"x\":{\"field\":\"x\"},\"y\":{\"field\":\"y\"}},\"id\":\"1168\",\"type\":\"Line\"},{\"attributes\":{\"dimensions\":\"width\"},\"id\":\"1159\",\"type\":\"WheelZoomTool\"},{\"attributes\":{\"axis\":{\"id\":\"1111\"},\"dimension\":1,\"grid_line_color\":null,\"ticker\":null},\"id\":\"1113\",\"type\":\"Grid\"},{\"attributes\":{\"dimensions\":\"width\"},\"id\":\"1160\",\"type\":\"PanTool\"},{\"attributes\":{\"factors\":[\"0\",\"1\",\"2\",\"3\"]},\"id\":\"1101\",\"type\":\"FactorRange\"},{\"attributes\":{\"active_drag\":\"auto\",\"active_inspect\":\"auto\",\"active_multi\":null,\"active_scroll\":\"auto\",\"active_tap\":\"auto\",\"tools\":[{\"id\":\"1157\"},{\"id\":\"1158\"},{\"id\":\"1159\"},{\"id\":\"1160\"}]},\"id\":\"1161\",\"type\":\"Toolbar\"},{\"attributes\":{\"data_source\":{\"id\":\"1166\"},\"glyph\":{\"id\":\"1167\"},\"hover_glyph\":null,\"muted_glyph\":null,\"nonselection_glyph\":{\"id\":\"1168\"},\"selection_glyph\":null,\"view\":{\"id\":\"1170\"}},\"id\":\"1169\",\"type\":\"GlyphRenderer\"},{\"attributes\":{\"end\":646.610944,\"start\":243.810304},\"id\":\"1180\",\"type\":\"Range1d\"},{\"attributes\":{},\"id\":\"1260\",\"type\":\"BasicTickFormatter\"},{\"attributes\":{\"data\":{\"x\":[0.0,0.25851465900000026,0.5088726280000002,0.7591909020000003,1.0094796550000003,1.2607710360000004,1.51199085,1.7632770630000003,2.0145856589999998,2.265085717,2.5157782190000004,2.7666324850000006,3.017359987],\"y\":[243.810304,245.8624,262.160384,288.239616,312.250368,352.186368,507.297792,512.196608,592.19968,592.19968,646.545408,646.610944,646.610944]},\"selected\":{\"id\":\"1194\"},\"selection_policy\":{\"id\":\"1193\"}},\"id\":\"1181\",\"type\":\"ColumnDataSource\"},{\"attributes\":{},\"id\":\"1108\",\"type\":\"BasicTicker\"},{\"attributes\":{},\"id\":\"1174\",\"type\":\"BasicTickFormatter\"},{\"attributes\":{\"axis\":{\"id\":\"1107\"},\"grid_line_color\":null,\"ticker\":null},\"id\":\"1110\",\"type\":\"Grid\"},{\"attributes\":{\"data_source\":{\"id\":\"1251\"},\"glyph\":{\"id\":\"1253\"},\"hover_glyph\":null,\"muted_glyph\":null,\"nonselection_glyph\":{\"id\":\"1254\"},\"selection_glyph\":null,\"view\":{\"id\":\"1256\"}},\"id\":\"1255\",\"type\":\"GlyphRenderer\"},{\"attributes\":{},\"id\":\"1194\",\"type\":\"Selection\"},{\"attributes\":{\"line_alpha\":0.1,\"line_color\":\"#29788E\",\"line_width\":4,\"x\":{\"field\":\"x\"},\"y\":{\"field\":\"y\"}},\"id\":\"1183\",\"type\":\"Line\"},{\"attributes\":{\"source\":{\"id\":\"1251\"}},\"id\":\"1256\",\"type\":\"CDSView\"},{\"attributes\":{},\"id\":\"1193\",\"type\":\"UnionRenderers\"},{\"attributes\":{},\"id\":\"1172\",\"type\":\"BasicTickFormatter\"},{\"attributes\":{\"label\":{\"value\":\"Memory\"},\"renderers\":[{\"id\":\"1184\"}]},\"id\":\"1195\",\"type\":\"LegendItem\"},{\"attributes\":{\"line_alpha\":0.1,\"line_color\":\"#FDE724\",\"line_width\":3,\"x\":{\"field\":\"x\"},\"y\":{\"field\":\"y\"}},\"id\":\"1254\",\"type\":\"Line\"},{\"attributes\":{},\"id\":\"1177\",\"type\":\"Selection\"},{\"attributes\":{\"line_color\":\"#29788E\",\"line_width\":4,\"x\":{\"field\":\"x\"},\"y\":{\"field\":\"y\"}},\"id\":\"1182\",\"type\":\"Line\"},{\"attributes\":{\"source\":{\"id\":\"1181\"}},\"id\":\"1185\",\"type\":\"CDSView\"},{\"attributes\":{},\"id\":\"1258\",\"type\":\"BasicTickFormatter\"},{\"attributes\":{},\"id\":\"1285\",\"type\":\"BasicTickFormatter\"},{\"attributes\":{\"axis_label\":\"Memory (MB)\",\"formatter\":{\"id\":\"1285\"},\"ticker\":{\"id\":\"1286\"},\"y_range_name\":\"memory\"},\"id\":\"1196\",\"type\":\"LinearAxis\"},{\"attributes\":{},\"id\":\"1176\",\"type\":\"UnionRenderers\"},{\"attributes\":{\"label\":{\"value\":\"% CPU\"},\"renderers\":[{\"id\":\"1169\"}]},\"id\":\"1179\",\"type\":\"LegendItem\"},{\"attributes\":{},\"id\":\"1262\",\"type\":\"UnionRenderers\"},{\"attributes\":{},\"id\":\"1264\",\"type\":\"UnionRenderers\"},{\"attributes\":{\"data_source\":{\"id\":\"1181\"},\"glyph\":{\"id\":\"1182\"},\"hover_glyph\":null,\"muted_glyph\":null,\"nonselection_glyph\":{\"id\":\"1183\"},\"selection_glyph\":null,\"view\":{\"id\":\"1185\"},\"y_range_name\":\"memory\"},\"id\":\"1184\",\"type\":\"GlyphRenderer\"},{\"attributes\":{\"data\":{\"label\":[\"_\",\"_\",\"_\",\"_\",\"_\",\"_\",\"_\",\"_\",\"_\",\"_\",\"_\",\"_\",\"_\",\"_\",\"_\",\"_\",\"_\",\"_\",\"_\",\"_\",\"_\",\"_\",\"_\",\"_\",\"_\",\"_\",\"_\",\"_\",\"_\",\"_\",\"_\",\"_\",\"_\",\"_\",\"_\",\"_\",\"_\",\"_\",\"_\",\"_\",\"_\",\"_\",\"_\",\"_\",\"_\",\"_\",\"_\",\"_\",\"_\",\"_\",\"_\",\"_\",\"_\",\"_\",\"_\",\"_\",\"_\",\"_\",\"_\",\"_\",\"_\",\"_\",\"_\",\"_\",\"_\",\"_\",\"_\",\"_\",\"_\",\"_\",\"_\",\"_\",\"_\",\"_\",\"_\",\"_\"],\"x\":[0,0.5764644949999997,0.5768393539999996,0.577012538,0.5771074749999996,0.581837277,0.5818949889999998,0.5820131089999996,0.5820605139999997,0.5822182069999999,0.5822554379999998,0.5823657019999997,0.582407672,0.5851627489999998,0.5852529829999997,0.5853306379999998,0.5853991809999997,1.1482557599999996,1.1484253889999998,1.1485842519999996,1.148698923,1.151617205,1.1517936929999997,1.1519369839999998,1.152087334,1.1572265919999998,1.1572765659999997,1.1573835989999997,1.157421468,1.157547395,1.1575855519999996,1.1576829279999998,1.1576966129999997,1.384186727,1.3843351039999998,1.3849014469999998,1.384916047,1.390513784,1.3906299439999996,1.3907688079999998,1.3908161069999996,2.4446325349999998,2.444792697,2.4449510369999996,2.4450189659999997,2.4451621079999994,2.4451952159999997,2.4452207929999994,2.4452448489999994,2.661768076,2.6629520159999998,2.666957799,2.694835863,2.6950606,2.695288182,2.7342389929999995,2.7385035839999996,2.741351878,2.8059601939999994,2.8117322759999994,2.818191244,2.8794544519999996,2.879620382,2.8797759189999996,2.9917087629999997,2.9918488919999997,2.9959395939999998,3.0343903529999996,3.036993867,3.099359266,3.10397571,3.1280319319999994,3.128208589,3.1875807139999996,3.187773198,3.1879007509999995],\"y\":[0,0,1,1,0,0,0,1,2,2,2,1,0,0,1,1,0,0,1,1,0,0,1,1,0,0,0,1,2,2,2,1,0,0,1,1,0,0,1,1,0,0,1,1,0,0,0,0,0,0,1,1,1,2,2,2,3,3,3,4,4,4,5,5,5,6,6,6,7,7,8,8,9,9,10,0]},\"selected\":{\"id\":\"1265\"},\"selection_policy\":{\"id\":\"1264\"}},\"id\":\"1233\",\"type\":\"ColumnDataSource\"},{\"attributes\":{},\"id\":\"1265\",\"type\":\"Selection\"},{\"attributes\":{\"data_source\":{\"id\":\"1227\"},\"glyph\":{\"id\":\"1229\"},\"hover_glyph\":null,\"muted_glyph\":null,\"nonselection_glyph\":{\"id\":\"1230\"},\"selection_glyph\":null,\"view\":{\"id\":\"1232\"}},\"id\":\"1231\",\"type\":\"GlyphRenderer\"},{\"attributes\":{},\"id\":\"1266\",\"type\":\"UnionRenderers\"},{\"attributes\":{\"line_color\":\"#440154\",\"line_width\":3,\"x\":{\"field\":\"x\"},\"y\":{\"field\":\"y\"}},\"id\":\"1235\",\"type\":\"Line\"},{\"attributes\":{\"source\":{\"id\":\"1227\"}},\"id\":\"1232\",\"type\":\"CDSView\"},{\"attributes\":{},\"id\":\"1267\",\"type\":\"Selection\"},{\"attributes\":{},\"id\":\"1115\",\"type\":\"SaveTool\"},{\"attributes\":{\"dimensions\":\"width\"},\"id\":\"1118\",\"type\":\"PanTool\"},{\"attributes\":{\"below\":[{\"id\":\"1208\"}],\"center\":[{\"id\":\"1211\"},{\"id\":\"1215\"}],\"left\":[{\"id\":\"1212\"}],\"min_border_left\":75,\"min_border_right\":75,\"min_border_top\":20,\"plot_height\":270,\"plot_width\":800,\"renderers\":[{\"id\":\"1231\"},{\"id\":\"1237\"},{\"id\":\"1243\"},{\"id\":\"1249\"},{\"id\":\"1255\"}],\"title\":null,\"toolbar\":{\"id\":\"1221\"},\"toolbar_location\":null,\"x_range\":{\"id\":\"1099\"},\"x_scale\":{\"id\":\"1204\"},\"y_range\":{\"id\":\"1202\"},\"y_scale\":{\"id\":\"1206\"}},\"id\":\"1197\",\"subtype\":\"Figure\",\"type\":\"Plot\"},{\"attributes\":{\"line_alpha\":0.1,\"line_color\":\"#208F8C\",\"line_width\":3,\"x\":{\"field\":\"x\"},\"y\":{\"field\":\"y\"}},\"id\":\"1230\",\"type\":\"Line\"},{\"attributes\":{},\"id\":\"1268\",\"type\":\"UnionRenderers\"},{\"attributes\":{\"dimensions\":\"width\"},\"id\":\"1117\",\"type\":\"WheelZoomTool\"},{\"attributes\":{},\"id\":\"1269\",\"type\":\"Selection\"},{\"attributes\":{\"data\":{\"label\":[\"getitem(_, *)\",\"getitem(_, *)\",\"getitem(_, *)\",\"getitem(_, *)\",\"getitem(_, *)\",\"getitem(_, *)\",\"getitem(_, *)\",\"getitem(_, *)\",\"getitem(_, *)\",\"getitem(_, *)\",\"getitem(_, *)\",\"getitem(_, *)\",\"getitem(_, *)\",\"getitem(_, *)\",\"getitem(_, *)\",\"getitem(_, *)\",\"getitem(_, *)\",\"getitem(_, *)\",\"getitem(_, *)\",\"getitem(_, *)\",\"getitem(_, *)\",\"getitem(_, *)\",\"getitem(_, *)\",\"getitem(_, *)\",\"getitem(_, *)\",\"getitem(_, *)\",\"getitem(_, *)\",\"getitem(_, *)\",\"getitem(_, *)\",\"getitem(_, *)\",\"getitem(_, *)\",\"getitem(_, *)\",\"getitem(_, *)\",\"getitem(_, *)\",\"getitem(_, *)\",\"getitem(_, *)\",\"getitem(_, *)\",\"getitem(_, *)\",\"getitem(_, *)\",\"getitem(_, *)\",\"getitem(_, *)\",\"getitem(_, *)\",\"getitem(_, *)\",\"getitem(_, *)\",\"getitem(_, *)\",\"getitem(_, *)\",\"getitem(_, *)\",\"getitem(_, *)\",\"getitem(_, *)\",\"getitem(_, *)\",\"getitem(_, *)\",\"getitem(_, *)\",\"getitem(_, *)\",\"getitem(_, *)\",\"getitem(_, *)\",\"getitem(_, *)\",\"getitem(_, *)\",\"getitem(_, *)\",\"getitem(_, *)\",\"getitem(_, *)\",\"getitem(_, *)\",\"getitem(_, *)\",\"getitem(_, *)\",\"getitem(_, *)\",\"getitem(_, *)\",\"getitem(_, *)\",\"getitem(_, *)\",\"getitem(_, *)\",\"getitem(_, *)\",\"getitem(_, *)\",\"getitem(_, *)\",\"getitem(_, *)\",\"getitem(_, *)\",\"getitem(_, *)\",\"getitem(_, *)\",\"getitem(_, *)\"],\"x\":[0,0.5764644949999997,0.5768393539999996,0.577012538,0.5771074749999996,0.581837277,0.5818949889999998,0.5820131089999996,0.5820605139999997,0.5822182069999999,0.5822554379999998,0.5823657019999997,0.582407672,0.5851627489999998,0.5852529829999997,0.5853306379999998,0.5853991809999997,1.1482557599999996,1.1484253889999998,1.1485842519999996,1.148698923,1.151617205,1.1517936929999997,1.1519369839999998,1.152087334,1.1572265919999998,1.1572765659999997,1.1573835989999997,1.157421468,1.157547395,1.1575855519999996,1.1576829279999998,1.1576966129999997,1.384186727,1.3843351039999998,1.3849014469999998,1.384916047,1.390513784,1.3906299439999996,1.3907688079999998,1.3908161069999996,2.4446325349999998,2.444792697,2.4449510369999996,2.4450189659999997,2.4451621079999994,2.4451952159999997,2.4452207929999994,2.4452448489999994,2.661768076,2.6629520159999998,2.666957799,2.694835863,2.6950606,2.695288182,2.7342389929999995,2.7385035839999996,2.741351878,2.8059601939999994,2.8117322759999994,2.818191244,2.8794544519999996,2.879620382,2.8797759189999996,2.9917087629999997,2.9918488919999997,2.9959395939999998,3.0343903529999996,3.036993867,3.099359266,3.10397571,3.1280319319999994,3.128208589,3.1875807139999996,3.187773198,3.1879007509999995],\"y\":[0,0,0,1,2,2,2,2,2,3,4,5,6,6,6,7,8,8,8,9,10,10,10,11,12,12,12,12,12,13,14,15,16,16,16,17,18,18,18,19,20,10,10,11,12,13,14,15,16,14,14,15,13,13,14,12,12,13,11,11,12,10,10,11,9,9,9,7,7,5,5,3,3,0,0,0]},\"selected\":{\"id\":\"1267\"},\"selection_policy\":{\"id\":\"1266\"}},\"id\":\"1239\",\"type\":\"ColumnDataSource\"},{\"attributes\":{},\"id\":\"1103\",\"type\":\"LinearScale\"},{\"attributes\":{},\"id\":\"1286\",\"type\":\"BasicTicker\"},{\"attributes\":{\"line_color\":\"#3B518A\",\"line_width\":3,\"x\":{\"field\":\"x\"},\"y\":{\"field\":\"y\"}},\"id\":\"1241\",\"type\":\"Line\"},{\"attributes\":{},\"id\":\"1204\",\"type\":\"LinearScale\"},{\"attributes\":{},\"id\":\"1116\",\"type\":\"ResetTool\"},{\"attributes\":{},\"id\":\"1206\",\"type\":\"LinearScale\"},{\"attributes\":{},\"id\":\"1213\",\"type\":\"BasicTicker\"},{\"attributes\":{\"source\":{\"id\":\"1233\"}},\"id\":\"1238\",\"type\":\"CDSView\"},{\"attributes\":{},\"id\":\"1263\",\"type\":\"Selection\"},{\"attributes\":{\"axis_label\":\"Time (s)\",\"formatter\":{\"id\":\"1260\"},\"ticker\":{\"id\":\"1209\"}},\"id\":\"1208\",\"type\":\"LinearAxis\"},{\"attributes\":{\"line_color\":\"#FDE724\",\"line_width\":3,\"x\":{\"field\":\"x\"},\"y\":{\"field\":\"y\"}},\"id\":\"1253\",\"type\":\"Line\"},{\"attributes\":{\"line_alpha\":0.1,\"line_color\":\"#440154\",\"line_width\":3,\"x\":{\"field\":\"x\"},\"y\":{\"field\":\"y\"}},\"id\":\"1236\",\"type\":\"Line\"},{\"attributes\":{\"axis\":{\"id\":\"1208\"},\"ticker\":null},\"id\":\"1211\",\"type\":\"Grid\"},{\"attributes\":{},\"id\":\"1202\",\"type\":\"DataRange1d\"},{\"attributes\":{\"data_source\":{\"id\":\"1233\"},\"glyph\":{\"id\":\"1235\"},\"hover_glyph\":null,\"muted_glyph\":null,\"nonselection_glyph\":{\"id\":\"1236\"},\"selection_glyph\":null,\"view\":{\"id\":\"1238\"}},\"id\":\"1237\",\"type\":\"GlyphRenderer\"},{\"attributes\":{\"data\":{\"label\":[\"subgraph_callable(vstack(tuple([_, _, _, ...])))\",\"subgraph_callable(vstack(tuple([_, _, _, ...])))\",\"subgraph_callable(vstack(tuple([_, _, _, ...])))\",\"subgraph_callable(vstack(tuple([_, _, _, ...])))\",\"subgraph_callable(vstack(tuple([_, _, _, ...])))\",\"subgraph_callable(vstack(tuple([_, _, _, ...])))\",\"subgraph_callable(vstack(tuple([_, _, _, ...])))\",\"subgraph_callable(vstack(tuple([_, _, _, ...])))\",\"subgraph_callable(vstack(tuple([_, _, _, ...])))\",\"subgraph_callable(vstack(tuple([_, _, _, ...])))\",\"subgraph_callable(vstack(tuple([_, _, _, ...])))\",\"subgraph_callable(vstack(tuple([_, _, _, ...])))\",\"subgraph_callable(vstack(tuple([_, _, _, ...])))\",\"subgraph_callable(vstack(tuple([_, _, _, ...])))\",\"subgraph_callable(vstack(tuple([_, _, _, ...])))\",\"subgraph_callable(vstack(tuple([_, _, _, ...])))\",\"subgraph_callable(vstack(tuple([_, _, _, ...])))\",\"subgraph_callable(vstack(tuple([_, _, _, ...])))\",\"subgraph_callable(vstack(tuple([_, _, _, ...])))\",\"subgraph_callable(vstack(tuple([_, _, _, ...])))\",\"subgraph_callable(vstack(tuple([_, _, _, ...])))\",\"subgraph_callable(vstack(tuple([_, _, _, ...])))\",\"subgraph_callable(vstack(tuple([_, _, _, ...])))\",\"subgraph_callable(vstack(tuple([_, _, _, ...])))\",\"subgraph_callable(vstack(tuple([_, _, _, ...])))\",\"subgraph_callable(vstack(tuple([_, _, _, ...])))\",\"subgraph_callable(vstack(tuple([_, _, _, ...])))\",\"subgraph_callable(vstack(tuple([_, _, _, ...])))\",\"subgraph_callable(vstack(tuple([_, _, _, ...])))\",\"subgraph_callable(vstack(tuple([_, _, _, ...])))\",\"subgraph_callable(vstack(tuple([_, _, _, ...])))\",\"subgraph_callable(vstack(tuple([_, _, _, ...])))\",\"subgraph_callable(vstack(tuple([_, _, _, ...])))\",\"subgraph_callable(vstack(tuple([_, _, _, ...])))\",\"subgraph_callable(vstack(tuple([_, _, _, ...])))\",\"subgraph_callable(vstack(tuple([_, _, _, ...])))\",\"subgraph_callable(vstack(tuple([_, _, _, ...])))\",\"subgraph_callable(vstack(tuple([_, _, _, ...])))\",\"subgraph_callable(vstack(tuple([_, _, _, ...])))\",\"subgraph_callable(vstack(tuple([_, _, _, ...])))\",\"subgraph_callable(vstack(tuple([_, _, _, ...])))\",\"subgraph_callable(vstack(tuple([_, _, _, ...])))\",\"subgraph_callable(vstack(tuple([_, _, _, ...])))\",\"subgraph_callable(vstack(tuple([_, _, _, ...])))\",\"subgraph_callable(vstack(tuple([_, _, _, ...])))\",\"subgraph_callable(vstack(tuple([_, _, _, ...])))\",\"subgraph_callable(vstack(tuple([_, _, _, ...])))\",\"subgraph_callable(vstack(tuple([_, _, _, ...])))\",\"subgraph_callable(vstack(tuple([_, _, _, ...])))\",\"subgraph_callable(vstack(tuple([_, _, _, ...])))\",\"subgraph_callable(vstack(tuple([_, _, _, ...])))\",\"subgraph_callable(vstack(tuple([_, _, _, ...])))\",\"subgraph_callable(vstack(tuple([_, _, _, ...])))\",\"subgraph_callable(vstack(tuple([_, _, _, ...])))\",\"subgraph_callable(vstack(tuple([_, _, _, ...])))\",\"subgraph_callable(vstack(tuple([_, _, _, ...])))\",\"subgraph_callable(vstack(tuple([_, _, _, ...])))\",\"subgraph_callable(vstack(tuple([_, _, _, ...])))\",\"subgraph_callable(vstack(tuple([_, _, _, ...])))\",\"subgraph_callable(vstack(tuple([_, _, _, ...])))\",\"subgraph_callable(vstack(tuple([_, _, _, ...])))\",\"subgraph_callable(vstack(tuple([_, _, _, ...])))\",\"subgraph_callable(vstack(tuple([_, _, _, ...])))\",\"subgraph_callable(vstack(tuple([_, _, _, ...])))\",\"subgraph_callable(vstack(tuple([_, _, _, ...])))\",\"subgraph_callable(vstack(tuple([_, _, _, ...])))\",\"subgraph_callable(vstack(tuple([_, _, _, ...])))\",\"subgraph_callable(vstack(tuple([_, _, _, ...])))\",\"subgraph_callable(vstack(tuple([_, _, _, ...])))\",\"subgraph_callable(vstack(tuple([_, _, _, ...])))\",\"subgraph_callable(vstack(tuple([_, _, _, ...])))\",\"subgraph_callable(vstack(tuple([_, _, _, ...])))\",\"subgraph_callable(vstack(tuple([_, _, _, ...])))\",\"subgraph_callable(vstack(tuple([_, _, _, ...])))\",\"subgraph_callable(vstack(tuple([_, _, _, ...])))\",\"subgraph_callable(vstack(tuple([_, _, _, ...])))\"],\"x\":[0,0.5764644949999997,0.5768393539999996,0.577012538,0.5771074749999996,0.581837277,0.5818949889999998,0.5820131089999996,0.5820605139999997,0.5822182069999999,0.5822554379999998,0.5823657019999997,0.582407672,0.5851627489999998,0.5852529829999997,0.5853306379999998,0.5853991809999997,1.1482557599999996,1.1484253889999998,1.1485842519999996,1.148698923,1.151617205,1.1517936929999997,1.1519369839999998,1.152087334,1.1572265919999998,1.1572765659999997,1.1573835989999997,1.157421468,1.157547395,1.1575855519999996,1.1576829279999998,1.1576966129999997,1.384186727,1.3843351039999998,1.3849014469999998,1.384916047,1.390513784,1.3906299439999996,1.3907688079999998,1.3908161069999996,2.4446325349999998,2.444792697,2.4449510369999996,2.4450189659999997,2.4451621079999994,2.4451952159999997,2.4452207929999994,2.4452448489999994,2.661768076,2.6629520159999998,2.666957799,2.694835863,2.6950606,2.695288182,2.7342389929999995,2.7385035839999996,2.741351878,2.8059601939999994,2.8117322759999994,2.818191244,2.8794544519999996,2.879620382,2.8797759189999996,2.9917087629999997,2.9918488919999997,2.9959395939999998,3.0343903529999996,3.036993867,3.099359266,3.10397571,3.1280319319999994,3.128208589,3.1875807139999996,3.187773198,3.1879007509999995],\"y\":[0,0,0,0,0,0,0,0,0,0,0,0,0,0,0,0,0,0,0,0,0,0,0,0,0,0,0,0,0,0,0,0,0,0,0,0,0,0,0,0,0,1,0,0,0,0,0,0,0,0,0,0,0,0,0,0,0,0,0,0,0,0,0,0,0,0,0,0,0,0,0,0,0,0,0,0]},\"selected\":{\"id\":\"1269\"},\"selection_policy\":{\"id\":\"1268\"}},\"id\":\"1245\",\"type\":\"ColumnDataSource\"},{\"attributes\":{},\"id\":\"1270\",\"type\":\"UnionRenderers\"},{\"attributes\":{\"axis_label\":\"Cache Size (count)\",\"formatter\":{\"id\":\"1258\"},\"ticker\":{\"id\":\"1213\"}},\"id\":\"1212\",\"type\":\"LinearAxis\"},{\"attributes\":{\"line_color\":\"#5BC862\",\"line_width\":3,\"x\":{\"field\":\"x\"},\"y\":{\"field\":\"y\"}},\"id\":\"1247\",\"type\":\"Line\"},{\"attributes\":{\"axis\":{\"id\":\"1212\"},\"dimension\":1,\"ticker\":null},\"id\":\"1215\",\"type\":\"Grid\"},{\"attributes\":{},\"id\":\"1209\",\"type\":\"BasicTicker\"},{\"attributes\":{\"data_source\":{\"id\":\"1239\"},\"glyph\":{\"id\":\"1241\"},\"hover_glyph\":null,\"muted_glyph\":null,\"nonselection_glyph\":{\"id\":\"1242\"},\"selection_glyph\":null,\"view\":{\"id\":\"1244\"}},\"id\":\"1243\",\"type\":\"GlyphRenderer\"},{\"attributes\":{\"data\":{\"color\":[\"#208F8C\",\"#208F8C\",\"#208F8C\",\"#208F8C\",\"#440154\",\"#3B518A\",\"#3B518A\",\"#208F8C\",\"#440154\",\"#440154\",\"#3B518A\",\"#3B518A\",\"#3B518A\",\"#3B518A\",\"#208F8C\",\"#208F8C\",\"#440154\",\"#3B518A\",\"#3B518A\",\"#208F8C\",\"#440154\",\"#3B518A\",\"#3B518A\",\"#208F8C\",\"#440154\",\"#3B518A\",\"#3B518A\",\"#208F8C\",\"#440154\",\"#440154\",\"#3B518A\",\"#3B518A\",\"#3B518A\",\"#3B518A\",\"#440154\",\"#3B518A\",\"#3B518A\",\"#440154\",\"#3B518A\",\"#3B518A\",\"#5BC862\",\"#440154\",\"#3B518A\",\"#3B518A\",\"#3B518A\",\"#3B518A\",\"#3B518A\",\"#3B518A\",\"#FDE724\",\"#FDE724\",\"#FDE724\",\"#FDE724\",\"#440154\",\"#3B518A\",\"#FDE724\",\"#440154\",\"#3B518A\",\"#FDE724\",\"#440154\",\"#3B518A\",\"#FDE724\",\"#440154\",\"#3B518A\",\"#FDE724\",\"#440154\",\"#3B518A\",\"#FDE724\",\"#440154\",\"#3B518A\",\"#FDE724\",\"#440154\",\"#440154\",\"#440154\",\"#440154\"],\"function\":[\"subgraph_callable(_apply_random(...))\",\"subgraph_callable(_apply_random(...))\",\"subgraph_callable(_apply_random(...))\",\"subgraph_callable(_apply_random(...))\",\"_\",\"getitem(_, *)\",\"getitem(_, *)\",\"subgraph_callable(_apply_random(...))\",\"_\",\"_\",\"getitem(_, *)\",\"getitem(_, *)\",\"getitem(_, *)\",\"getitem(_, *)\",\"subgraph_callable(_apply_random(...))\",\"subgraph_callable(_apply_random(...))\",\"_\",\"getitem(_, *)\",\"getitem(_, *)\",\"subgraph_callable(_apply_random(...))\",\"_\",\"getitem(_, *)\",\"getitem(_, *)\",\"subgraph_callable(_apply_random(...))\",\"_\",\"getitem(_, *)\",\"getitem(_, *)\",\"subgraph_callable(_apply_random(...))\",\"_\",\"_\",\"getitem(_, *)\",\"getitem(_, *)\",\"getitem(_, *)\",\"getitem(_, *)\",\"_\",\"getitem(_, *)\",\"getitem(_, *)\",\"_\",\"getitem(_, *)\",\"getitem(_, *)\",\"subgraph_callable(vstack(tuple([_, _, _, ...])))\",\"_\",\"getitem(_, *)\",\"getitem(_, *)\",\"getitem(_, *)\",\"getitem(_, *)\",\"getitem(_, *)\",\"getitem(_, *)\",\"sum(subgraph_callable(_, _, _))\",\"sum(subgraph_callable(_, _, _))\",\"sum(subgraph_callable(_, _, _))\",\"sum(subgraph_callable(_, _, _))\",\"_\",\"getitem(_, *)\",\"sum(subgraph_callable(_, _, _))\",\"_\",\"getitem(_, *)\",\"sum(subgraph_callable(_, _, _))\",\"_\",\"getitem(_, *)\",\"sum(subgraph_callable(_, _, _))\",\"_\",\"getitem(_, *)\",\"sum(subgraph_callable(_, _, _))\",\"_\",\"getitem(_, *)\",\"sum(subgraph_callable(_, _, _))\",\"_\",\"getitem(_, *)\",\"sum(subgraph_callable(_, _, _))\",\"_\",\"_\",\"_\",\"_\"],\"key\":[\"('random_sample-qr-ec58dddaa0d03dfda5a3b39584ec99ac', 0, 0)\",\"('random_sample-qr-ec58dddaa0d03dfda5a3b39584ec99ac', 1, 0)\",\"('random_sample-qr-ec58dddaa0d03dfda5a3b39584ec99ac', 2, 0)\",\"('random_sample-qr-ec58dddaa0d03dfda5a3b39584ec99ac', 3, 0)\",\"('qr-ec58dddaa0d03dfda5a3b39584ec99ac', 0, 0)\",\"('getitem-ec58dddaa0d03dfda5a3b39584ec99ac-r1', 0, 0)\",\"('getitem-ec58dddaa0d03dfda5a3b39584ec99ac-q1', 0, 0)\",\"('random_sample-qr-ec58dddaa0d03dfda5a3b39584ec99ac', 4, 0)\",\"('qr-ec58dddaa0d03dfda5a3b39584ec99ac', 2, 0)\",\"('qr-ec58dddaa0d03dfda5a3b39584ec99ac', 3, 0)\",\"('getitem-ec58dddaa0d03dfda5a3b39584ec99ac-r1', 2, 0)\",\"('getitem-ec58dddaa0d03dfda5a3b39584ec99ac-r1', 3, 0)\",\"('getitem-ec58dddaa0d03dfda5a3b39584ec99ac-q1', 3, 0)\",\"('getitem-ec58dddaa0d03dfda5a3b39584ec99ac-q1', 2, 0)\",\"('random_sample-qr-ec58dddaa0d03dfda5a3b39584ec99ac', 5, 0)\",\"('random_sample-qr-ec58dddaa0d03dfda5a3b39584ec99ac', 6, 0)\",\"('qr-ec58dddaa0d03dfda5a3b39584ec99ac', 1, 0)\",\"('getitem-ec58dddaa0d03dfda5a3b39584ec99ac-r1', 1, 0)\",\"('getitem-ec58dddaa0d03dfda5a3b39584ec99ac-q1', 1, 0)\",\"('random_sample-qr-ec58dddaa0d03dfda5a3b39584ec99ac', 7, 0)\",\"('qr-ec58dddaa0d03dfda5a3b39584ec99ac', 5, 0)\",\"('getitem-ec58dddaa0d03dfda5a3b39584ec99ac-r1', 5, 0)\",\"('getitem-ec58dddaa0d03dfda5a3b39584ec99ac-q1', 5, 0)\",\"('random_sample-qr-ec58dddaa0d03dfda5a3b39584ec99ac', 8, 0)\",\"('qr-ec58dddaa0d03dfda5a3b39584ec99ac', 6, 0)\",\"('getitem-ec58dddaa0d03dfda5a3b39584ec99ac-r1', 6, 0)\",\"('getitem-ec58dddaa0d03dfda5a3b39584ec99ac-q1', 6, 0)\",\"('random_sample-qr-ec58dddaa0d03dfda5a3b39584ec99ac', 9, 0)\",\"('qr-ec58dddaa0d03dfda5a3b39584ec99ac', 7, 0)\",\"('qr-ec58dddaa0d03dfda5a3b39584ec99ac', 4, 0)\",\"('getitem-ec58dddaa0d03dfda5a3b39584ec99ac-r1', 7, 0)\",\"('getitem-ec58dddaa0d03dfda5a3b39584ec99ac-r1', 4, 0)\",\"('getitem-ec58dddaa0d03dfda5a3b39584ec99ac-q1', 4, 0)\",\"('getitem-ec58dddaa0d03dfda5a3b39584ec99ac-q1', 7, 0)\",\"('qr-ec58dddaa0d03dfda5a3b39584ec99ac', 8, 0)\",\"('getitem-ec58dddaa0d03dfda5a3b39584ec99ac-r1', 8, 0)\",\"('getitem-ec58dddaa0d03dfda5a3b39584ec99ac-q1', 8, 0)\",\"('qr-ec58dddaa0d03dfda5a3b39584ec99ac', 9, 0)\",\"('getitem-ec58dddaa0d03dfda5a3b39584ec99ac-r1', 9, 0)\",\"('getitem-ec58dddaa0d03dfda5a3b39584ec99ac-q1', 9, 0)\",\"('stack-qr-ec58dddaa0d03dfda5a3b39584ec99ac-qr2', 0, 0)\",\"('qr-ec58dddaa0d03dfda5a3b39584ec99ac-qr2', 0, 0)\",\"('getitem-ec58dddaa0d03dfda5a3b39584ec99ac-q2-aux', 0, 0)\",\"('getitem-ec58dddaa0d03dfda5a3b39584ec99ac-r2', 0, 0)\",\"('getitem-ec58dddaa0d03dfda5a3b39584ec99ac-q2', 0, 0)\",\"('getitem-ec58dddaa0d03dfda5a3b39584ec99ac-q2', 1, 0)\",\"('getitem-ec58dddaa0d03dfda5a3b39584ec99ac-q2', 2, 0)\",\"('getitem-ec58dddaa0d03dfda5a3b39584ec99ac-q2', 3, 0)\",\"('sum-sum-aggregate-bdbc93056fb07bf4058c8e78a36a603f', 0, 0)\",\"('sum-sum-aggregate-bdbc93056fb07bf4058c8e78a36a603f', 1, 0)\",\"('sum-sum-aggregate-bdbc93056fb07bf4058c8e78a36a603f', 2, 0)\",\"('sum-sum-aggregate-bdbc93056fb07bf4058c8e78a36a603f', 3, 0)\",\"('sum-aggregate-bdbc93056fb07bf4058c8e78a36a603f', 2, 0)\",\"('getitem-ec58dddaa0d03dfda5a3b39584ec99ac-q2', 4, 0)\",\"('sum-sum-aggregate-bdbc93056fb07bf4058c8e78a36a603f', 4, 0)\",\"('sum-aggregate-bdbc93056fb07bf4058c8e78a36a603f', 3, 0)\",\"('getitem-ec58dddaa0d03dfda5a3b39584ec99ac-q2', 5, 0)\",\"('sum-sum-aggregate-bdbc93056fb07bf4058c8e78a36a603f', 5, 0)\",\"('sum-aggregate-bdbc93056fb07bf4058c8e78a36a603f', 0, 0)\",\"('getitem-ec58dddaa0d03dfda5a3b39584ec99ac-q2', 6, 0)\",\"('sum-sum-aggregate-bdbc93056fb07bf4058c8e78a36a603f', 6, 0)\",\"('sum-aggregate-bdbc93056fb07bf4058c8e78a36a603f', 1, 0)\",\"('getitem-ec58dddaa0d03dfda5a3b39584ec99ac-q2', 7, 0)\",\"('sum-sum-aggregate-bdbc93056fb07bf4058c8e78a36a603f', 7, 0)\",\"('sum-aggregate-bdbc93056fb07bf4058c8e78a36a603f', 5, 0)\",\"('getitem-ec58dddaa0d03dfda5a3b39584ec99ac-q2', 8, 0)\",\"('sum-sum-aggregate-bdbc93056fb07bf4058c8e78a36a603f', 8, 0)\",\"('sum-aggregate-bdbc93056fb07bf4058c8e78a36a603f', 6, 0)\",\"('getitem-ec58dddaa0d03dfda5a3b39584ec99ac-q2', 9, 0)\",\"('sum-sum-aggregate-bdbc93056fb07bf4058c8e78a36a603f', 9, 0)\",\"('sum-aggregate-bdbc93056fb07bf4058c8e78a36a603f', 8, 0)\",\"('sum-aggregate-bdbc93056fb07bf4058c8e78a36a603f', 4, 0)\",\"('sum-aggregate-bdbc93056fb07bf4058c8e78a36a603f', 7, 0)\",\"('sum-aggregate-bdbc93056fb07bf4058c8e78a36a603f', 9, 0)\"],\"width\":[0.5745786030000004,0.583199391,0.5798494380000001,0.5798938219999998,0.0003555030000002013,0.00014884300000028716,8.899399999995339e-05,0.5801602860000004,0.0001662970000002595,0.0001605919999998484,0.00019461899999972943,0.00018922600000026435,0.00014216199999994572,0.00014834200000013453,0.565879528,0.5692016449999997,8.364199999988386e-05,7.058500000001189e-05,6.466799999982342e-05,0.5718195109999997,0.00015389399999987674,0.00014576399999999268,0.00010779300000018921,0.23547288800000032,0.00016471799999973058,0.0001300220000000074,0.00014241700000017232,0.2384154930000002,0.00014764600000027883,0.00014017299999968813,0.00015496100000023105,0.0001575860000002649,0.00012949400000028533,0.00010660100000015049,0.00013551199999994878,0.0005530849999999532,0.0005395570000001904,0.00010769699999979565,0.00012862800000013053,0.0001511560000002632,1.0538549489999998,0.00012913399999980868,0.00014866400000013158,0.00018916899999954495,0.0002059979999993189,0.00021785999999934802,0.0002292139999999776,0.00021987799999934055,0.28906778899999974,0.3607585420000001,0.2165413599999999,0.24958456900000048,0.001163764000000178,0.0039925220000007755,0.43238960899999945,0.0001941819999995431,0.00020955500000052751,0.18415352599999935,0.004244939000000336,0.002831268000000442,0.2503476640000004,0.0057494550000001254,0.006442802999999664,0.3098300810000003,0.0001411989999997587,0.00013906200000057822,0.15460473500000038,0.00012112599999980489,0.004081907000000662,0.19162353200000037,0.0025806420000007435,0.004591967999999724,0.00015332500000031501,0.00016553699999999338],\"x\":[0.2872893015,0.2916817035000001,0.2900301340000002,0.29006723700000014,0.5747797785000004,0.5750566015000005,0.575182222,0.865315727,0.5800487655000004,0.5800997379999999,0.5802399805000005,0.58028038,0.5804139330000004,0.5804529730000003,0.8634324740000001,0.8651339025000002,0.5833305630000001,0.5834149245,0.5834863829999999,0.8694351375000005,1.1464671250000005,1.1466304680000001,1.1467637295000004,1.2645679370000003,1.1498294800000002,1.1499907120000006,1.1501349265000003,1.2694248165000004,1.1554292630000003,1.1554710225,1.1555889085,1.1556262410000002,1.1557376660000003,1.1557630055000003,1.3823861160000002,1.3827439025000001,1.3827658855,1.3886950325000003,1.3888236710000004,1.3888600160000002,1.9158215175,2.4428470380000005,2.4429959720000007,2.4430439305000005,2.4431785749999997,2.443205847,2.4432258709999997,2.4432546900000003,2.5878198645000006,2.6236977970000006,2.5516149919999997,2.5681600785000005,2.6604884840000005,2.6630797200000003,2.8812811635,2.693081292,2.6933025065000007,2.785493493,2.7344990425,2.7380547100000006,2.8646526520000006,2.8069754295,2.8130882214999997,2.9712341345,2.8776680225000004,2.8778252500000003,2.9552049314999995,2.98990759,2.9920166515000006,3.0898849930000005,3.033821018,3.0997982270000004,3.1262509795000004,3.185809445500001],\"y\":[4,1,3,2,4,4,4,4,3,3,3,3,3,3,3,2,1,1,1,1,3,3,3,3,2,2,2,2,1,1,1,1,1,1,1,3,3,4,1,1,4,1,3,3,1,1,1,1,3,4,1,2,1,1,1,2,2,2,3,3,3,4,4,4,2,2,2,3,3,3,2,2,2,4]},\"selected\":{\"id\":\"1137\"},\"selection_policy\":{\"id\":\"1136\"}},\"id\":\"1125\",\"type\":\"ColumnDataSource\"},{\"attributes\":{\"source\":{\"id\":\"1239\"}},\"id\":\"1244\",\"type\":\"CDSView\"},{\"attributes\":{\"toolbars\":[{\"id\":\"1119\"},{\"id\":\"1161\"},{\"id\":\"1221\"}],\"tools\":[{\"id\":\"1114\"},{\"id\":\"1115\"},{\"id\":\"1116\"},{\"id\":\"1117\"},{\"id\":\"1118\"},{\"id\":\"1157\"},{\"id\":\"1158\"},{\"id\":\"1159\"},{\"id\":\"1160\"},{\"id\":\"1216\"},{\"id\":\"1217\"},{\"id\":\"1218\"},{\"id\":\"1219\"},{\"id\":\"1220\"}]},\"id\":\"1309\",\"type\":\"ProxyToolbar\"},{\"attributes\":{\"data\":{\"label\":[\"subgraph_callable(_apply_random(...))\",\"subgraph_callable(_apply_random(...))\",\"subgraph_callable(_apply_random(...))\",\"subgraph_callable(_apply_random(...))\",\"subgraph_callable(_apply_random(...))\",\"subgraph_callable(_apply_random(...))\",\"subgraph_callable(_apply_random(...))\",\"subgraph_callable(_apply_random(...))\",\"subgraph_callable(_apply_random(...))\",\"subgraph_callable(_apply_random(...))\",\"subgraph_callable(_apply_random(...))\",\"subgraph_callable(_apply_random(...))\",\"subgraph_callable(_apply_random(...))\",\"subgraph_callable(_apply_random(...))\",\"subgraph_callable(_apply_random(...))\",\"subgraph_callable(_apply_random(...))\",\"subgraph_callable(_apply_random(...))\",\"subgraph_callable(_apply_random(...))\",\"subgraph_callable(_apply_random(...))\",\"subgraph_callable(_apply_random(...))\",\"subgraph_callable(_apply_random(...))\",\"subgraph_callable(_apply_random(...))\",\"subgraph_callable(_apply_random(...))\",\"subgraph_callable(_apply_random(...))\",\"subgraph_callable(_apply_random(...))\",\"subgraph_callable(_apply_random(...))\",\"subgraph_callable(_apply_random(...))\",\"subgraph_callable(_apply_random(...))\",\"subgraph_callable(_apply_random(...))\",\"subgraph_callable(_apply_random(...))\",\"subgraph_callable(_apply_random(...))\",\"subgraph_callable(_apply_random(...))\",\"subgraph_callable(_apply_random(...))\",\"subgraph_callable(_apply_random(...))\",\"subgraph_callable(_apply_random(...))\",\"subgraph_callable(_apply_random(...))\",\"subgraph_callable(_apply_random(...))\",\"subgraph_callable(_apply_random(...))\",\"subgraph_callable(_apply_random(...))\",\"subgraph_callable(_apply_random(...))\",\"subgraph_callable(_apply_random(...))\",\"subgraph_callable(_apply_random(...))\",\"subgraph_callable(_apply_random(...))\",\"subgraph_callable(_apply_random(...))\",\"subgraph_callable(_apply_random(...))\",\"subgraph_callable(_apply_random(...))\",\"subgraph_callable(_apply_random(...))\",\"subgraph_callable(_apply_random(...))\",\"subgraph_callable(_apply_random(...))\",\"subgraph_callable(_apply_random(...))\",\"subgraph_callable(_apply_random(...))\",\"subgraph_callable(_apply_random(...))\",\"subgraph_callable(_apply_random(...))\",\"subgraph_callable(_apply_random(...))\",\"subgraph_callable(_apply_random(...))\",\"subgraph_callable(_apply_random(...))\",\"subgraph_callable(_apply_random(...))\",\"subgraph_callable(_apply_random(...))\",\"subgraph_callable(_apply_random(...))\",\"subgraph_callable(_apply_random(...))\",\"subgraph_callable(_apply_random(...))\",\"subgraph_callable(_apply_random(...))\",\"subgraph_callable(_apply_random(...))\",\"subgraph_callable(_apply_random(...))\",\"subgraph_callable(_apply_random(...))\",\"subgraph_callable(_apply_random(...))\",\"subgraph_callable(_apply_random(...))\",\"subgraph_callable(_apply_random(...))\",\"subgraph_callable(_apply_random(...))\",\"subgraph_callable(_apply_random(...))\",\"subgraph_callable(_apply_random(...))\",\"subgraph_callable(_apply_random(...))\",\"subgraph_callable(_apply_random(...))\",\"subgraph_callable(_apply_random(...))\",\"subgraph_callable(_apply_random(...))\",\"subgraph_callable(_apply_random(...))\"],\"x\":[0,0.5764644949999997,0.5768393539999996,0.577012538,0.5771074749999996,0.581837277,0.5818949889999998,0.5820131089999996,0.5820605139999997,0.5822182069999999,0.5822554379999998,0.5823657019999997,0.582407672,0.5851627489999998,0.5852529829999997,0.5853306379999998,0.5853991809999997,1.1482557599999996,1.1484253889999998,1.1485842519999996,1.148698923,1.151617205,1.1517936929999997,1.1519369839999998,1.152087334,1.1572265919999998,1.1572765659999997,1.1573835989999997,1.157421468,1.157547395,1.1575855519999996,1.1576829279999998,1.1576966129999997,1.384186727,1.3843351039999998,1.3849014469999998,1.384916047,1.390513784,1.3906299439999996,1.3907688079999998,1.3908161069999996,2.4446325349999998,2.444792697,2.4449510369999996,2.4450189659999997,2.4451621079999994,2.4451952159999997,2.4452207929999994,2.4452448489999994,2.661768076,2.6629520159999998,2.666957799,2.694835863,2.6950606,2.695288182,2.7342389929999995,2.7385035839999996,2.741351878,2.8059601939999994,2.8117322759999994,2.818191244,2.8794544519999996,2.879620382,2.8797759189999996,2.9917087629999997,2.9918488919999997,2.9959395939999998,3.0343903529999996,3.036993867,3.099359266,3.10397571,3.1280319319999994,3.128208589,3.1875807139999996,3.187773198,3.1879007509999995],\"y\":[0,1,0,0,0,1,2,1,0,0,0,0,0,1,0,0,0,1,0,0,0,1,0,0,0,1,2,1,0,0,0,0,0,1,0,0,0,1,0,0,0,0,0,0,0,0,0,0,0,0,0,0,0,0,0,0,0,0,0,0,0,0,0,0,0,0,0,0,0,0,0,0,0,0,0,0]},\"selected\":{\"id\":\"1263\"},\"selection_policy\":{\"id\":\"1262\"}},\"id\":\"1227\",\"type\":\"ColumnDataSource\"},{\"attributes\":{\"line_alpha\":0.1,\"line_color\":\"#3B518A\",\"line_width\":3,\"x\":{\"field\":\"x\"},\"y\":{\"field\":\"y\"}},\"id\":\"1242\",\"type\":\"Line\"},{\"attributes\":{\"axis_label\":null,\"axis_line_color\":null,\"formatter\":{\"id\":\"1134\"},\"major_tick_line_color\":null,\"ticker\":{\"id\":\"1108\"}},\"id\":\"1107\",\"type\":\"LinearAxis\"},{\"attributes\":{\"line_color\":\"#208F8C\",\"line_width\":3,\"x\":{\"field\":\"x\"},\"y\":{\"field\":\"y\"}},\"id\":\"1229\",\"type\":\"Line\"},{\"attributes\":{\"data\":{\"label\":[\"sum(subgraph_callable(_, _, _))\",\"sum(subgraph_callable(_, _, _))\",\"sum(subgraph_callable(_, _, _))\",\"sum(subgraph_callable(_, _, _))\",\"sum(subgraph_callable(_, _, _))\",\"sum(subgraph_callable(_, _, _))\",\"sum(subgraph_callable(_, _, _))\",\"sum(subgraph_callable(_, _, _))\",\"sum(subgraph_callable(_, _, _))\",\"sum(subgraph_callable(_, _, _))\",\"sum(subgraph_callable(_, _, _))\",\"sum(subgraph_callable(_, _, _))\",\"sum(subgraph_callable(_, _, _))\",\"sum(subgraph_callable(_, _, _))\",\"sum(subgraph_callable(_, _, _))\",\"sum(subgraph_callable(_, _, _))\",\"sum(subgraph_callable(_, _, _))\",\"sum(subgraph_callable(_, _, _))\",\"sum(subgraph_callable(_, _, _))\",\"sum(subgraph_callable(_, _, _))\",\"sum(subgraph_callable(_, _, _))\",\"sum(subgraph_callable(_, _, _))\",\"sum(subgraph_callable(_, _, _))\",\"sum(subgraph_callable(_, _, _))\",\"sum(subgraph_callable(_, _, _))\",\"sum(subgraph_callable(_, _, _))\",\"sum(subgraph_callable(_, _, _))\",\"sum(subgraph_callable(_, _, _))\",\"sum(subgraph_callable(_, _, _))\",\"sum(subgraph_callable(_, _, _))\",\"sum(subgraph_callable(_, _, _))\",\"sum(subgraph_callable(_, _, _))\",\"sum(subgraph_callable(_, _, _))\",\"sum(subgraph_callable(_, _, _))\",\"sum(subgraph_callable(_, _, _))\",\"sum(subgraph_callable(_, _, _))\",\"sum(subgraph_callable(_, _, _))\",\"sum(subgraph_callable(_, _, _))\",\"sum(subgraph_callable(_, _, _))\",\"sum(subgraph_callable(_, _, _))\",\"sum(subgraph_callable(_, _, _))\",\"sum(subgraph_callable(_, _, _))\",\"sum(subgraph_callable(_, _, _))\",\"sum(subgraph_callable(_, _, _))\",\"sum(subgraph_callable(_, _, _))\",\"sum(subgraph_callable(_, _, _))\",\"sum(subgraph_callable(_, _, _))\",\"sum(subgraph_callable(_, _, _))\",\"sum(subgraph_callable(_, _, _))\",\"sum(subgraph_callable(_, _, _))\",\"sum(subgraph_callable(_, _, _))\",\"sum(subgraph_callable(_, _, _))\",\"sum(subgraph_callable(_, _, _))\",\"sum(subgraph_callable(_, _, _))\",\"sum(subgraph_callable(_, _, _))\",\"sum(subgraph_callable(_, _, _))\",\"sum(subgraph_callable(_, _, _))\",\"sum(subgraph_callable(_, _, _))\",\"sum(subgraph_callable(_, _, _))\",\"sum(subgraph_callable(_, _, _))\",\"sum(subgraph_callable(_, _, _))\",\"sum(subgraph_callable(_, _, _))\",\"sum(subgraph_callable(_, _, _))\",\"sum(subgraph_callable(_, _, _))\",\"sum(subgraph_callable(_, _, _))\",\"sum(subgraph_callable(_, _, _))\",\"sum(subgraph_callable(_, _, _))\",\"sum(subgraph_callable(_, _, _))\",\"sum(subgraph_callable(_, _, _))\",\"sum(subgraph_callable(_, _, _))\",\"sum(subgraph_callable(_, _, _))\",\"sum(subgraph_callable(_, _, _))\",\"sum(subgraph_callable(_, _, _))\",\"sum(subgraph_callable(_, _, _))\",\"sum(subgraph_callable(_, _, _))\",\"sum(subgraph_callable(_, _, _))\"],\"x\":[0,0.5764644949999997,0.5768393539999996,0.577012538,0.5771074749999996,0.581837277,0.5818949889999998,0.5820131089999996,0.5820605139999997,0.5822182069999999,0.5822554379999998,0.5823657019999997,0.582407672,0.5851627489999998,0.5852529829999997,0.5853306379999998,0.5853991809999997,1.1482557599999996,1.1484253889999998,1.1485842519999996,1.148698923,1.151617205,1.1517936929999997,1.1519369839999998,1.152087334,1.1572265919999998,1.1572765659999997,1.1573835989999997,1.157421468,1.157547395,1.1575855519999996,1.1576829279999998,1.1576966129999997,1.384186727,1.3843351039999998,1.3849014469999998,1.384916047,1.390513784,1.3906299439999996,1.3907688079999998,1.3908161069999996,2.4446325349999998,2.444792697,2.4449510369999996,2.4450189659999997,2.4451621079999994,2.4451952159999997,2.4452207929999994,2.4452448489999994,2.661768076,2.6629520159999998,2.666957799,2.694835863,2.6950606,2.695288182,2.7342389929999995,2.7385035839999996,2.741351878,2.8059601939999994,2.8117322759999994,2.818191244,2.8794544519999996,2.879620382,2.8797759189999996,2.9917087629999997,2.9918488919999997,2.9959395939999998,3.0343903529999996,3.036993867,3.099359266,3.10397571,3.1280319319999994,3.128208589,3.1875807139999996,3.187773198,3.1879007509999995],\"y\":[0,0,0,0,0,0,0,0,0,0,0,0,0,0,0,0,0,0,0,0,0,0,0,0,0,0,0,0,0,0,0,0,0,0,0,0,0,0,0,0,0,0,0,0,0,0,0,0,0,1,0,0,1,0,0,1,0,0,1,0,0,1,0,0,1,0,0,1,0,1,0,1,0,1,0,0]},\"selected\":{\"id\":\"1271\"},\"selection_policy\":{\"id\":\"1270\"}},\"id\":\"1251\",\"type\":\"ColumnDataSource\"},{\"attributes\":{\"callback\":null,\"tooltips\":\"\\n    <div>\\n        <span style=\\\"font-size: 14px; font-weight: bold;\\\">Task:</span>&nbsp;\\n        <span style=\\\"font-size: 10px; font-family: Monaco, monospace;\\\">@label</span>\\n    </div>\\n    \"},\"id\":\"1216\",\"type\":\"HoverTool\"},{\"attributes\":{},\"id\":\"1105\",\"type\":\"CategoricalScale\"},{\"attributes\":{},\"id\":\"1271\",\"type\":\"Selection\"},{\"attributes\":{},\"id\":\"1217\",\"type\":\"SaveTool\"},{\"attributes\":{},\"id\":\"1218\",\"type\":\"ResetTool\"},{\"attributes\":{\"text\":\"Profile Results\"},\"id\":\"1097\",\"type\":\"Title\"},{\"attributes\":{\"data_source\":{\"id\":\"1245\"},\"glyph\":{\"id\":\"1247\"},\"hover_glyph\":null,\"muted_glyph\":null,\"nonselection_glyph\":{\"id\":\"1248\"},\"selection_glyph\":null,\"view\":{\"id\":\"1250\"}},\"id\":\"1249\",\"type\":\"GlyphRenderer\"},{\"attributes\":{},\"id\":\"1219\",\"type\":\"WheelZoomTool\"},{\"attributes\":{\"source\":{\"id\":\"1245\"}},\"id\":\"1250\",\"type\":\"CDSView\"},{\"attributes\":{\"dimensions\":\"width\"},\"id\":\"1220\",\"type\":\"PanTool\"},{\"attributes\":{\"line_alpha\":0.1,\"line_color\":\"#5BC862\",\"line_width\":3,\"x\":{\"field\":\"x\"},\"y\":{\"field\":\"y\"}},\"id\":\"1248\",\"type\":\"Line\"},{\"attributes\":{\"active_drag\":\"auto\",\"active_inspect\":\"auto\",\"active_multi\":null,\"active_scroll\":\"auto\",\"active_tap\":\"auto\",\"tools\":[{\"id\":\"1216\"},{\"id\":\"1217\"},{\"id\":\"1218\"},{\"id\":\"1219\"},{\"id\":\"1220\"}]},\"id\":\"1221\",\"type\":\"Toolbar\"},{\"attributes\":{\"toolbar\":{\"id\":\"1309\"},\"toolbar_location\":\"above\"},\"id\":\"1310\",\"type\":\"ToolbarBox\"}],\"root_ids\":[\"1311\"]},\"title\":\"Bokeh Application\",\"version\":\"2.1.1\"}};\n",
       "  var render_items = [{\"docid\":\"230b0bf6-bf76-4755-bcff-e35ec1ddeb3a\",\"root_ids\":[\"1311\"],\"roots\":{\"1311\":\"0d92d0f4-6c11-4c0a-8b22-d51d946f877e\"}}];\n",
       "  root.Bokeh.embed.embed_items_notebook(docs_json, render_items);\n",
       "\n",
       "  }\n",
       "  if (root.Bokeh !== undefined) {\n",
       "    embed_document(root);\n",
       "  } else {\n",
       "    var attempts = 0;\n",
       "    var timer = setInterval(function(root) {\n",
       "      if (root.Bokeh !== undefined) {\n",
       "        clearInterval(timer);\n",
       "        embed_document(root);\n",
       "      } else {\n",
       "        attempts++;\n",
       "        if (attempts > 100) {\n",
       "          clearInterval(timer);\n",
       "          console.log(\"Bokeh: ERROR: Unable to run BokehJS code because BokehJS library is missing\");\n",
       "        }\n",
       "      }\n",
       "    }, 10, root)\n",
       "  }\n",
       "})(window);"
      ],
      "application/vnd.bokehjs_exec.v0+json": ""
     },
     "metadata": {
      "application/vnd.bokehjs_exec.v0+json": {
       "id": "1311"
      }
     },
     "output_type": "display_data"
    },
    {
     "data": {
      "text/html": [
       "<div style=\"display: table;\"><div style=\"display: table-row;\"><div style=\"display: table-cell;\"><b title=\"bokeh.models.layouts.Column\">Column</b>(</div><div style=\"display: table-cell;\">id&nbsp;=&nbsp;'1311', <span id=\"1551\" style=\"cursor: pointer;\">&hellip;)</span></div></div><div class=\"1550\" style=\"display: none;\"><div style=\"display: table-cell;\"></div><div style=\"display: table-cell;\">align&nbsp;=&nbsp;'start',</div></div><div class=\"1550\" style=\"display: none;\"><div style=\"display: table-cell;\"></div><div style=\"display: table-cell;\">aspect_ratio&nbsp;=&nbsp;None,</div></div><div class=\"1550\" style=\"display: none;\"><div style=\"display: table-cell;\"></div><div style=\"display: table-cell;\">background&nbsp;=&nbsp;None,</div></div><div class=\"1550\" style=\"display: none;\"><div style=\"display: table-cell;\"></div><div style=\"display: table-cell;\">children&nbsp;=&nbsp;[ToolbarBox(id='1310', ...), GridBox(id='1308', ...)],</div></div><div class=\"1550\" style=\"display: none;\"><div style=\"display: table-cell;\"></div><div style=\"display: table-cell;\">css_classes&nbsp;=&nbsp;[],</div></div><div class=\"1550\" style=\"display: none;\"><div style=\"display: table-cell;\"></div><div style=\"display: table-cell;\">disabled&nbsp;=&nbsp;False,</div></div><div class=\"1550\" style=\"display: none;\"><div style=\"display: table-cell;\"></div><div style=\"display: table-cell;\">height&nbsp;=&nbsp;None,</div></div><div class=\"1550\" style=\"display: none;\"><div style=\"display: table-cell;\"></div><div style=\"display: table-cell;\">height_policy&nbsp;=&nbsp;'auto',</div></div><div class=\"1550\" style=\"display: none;\"><div style=\"display: table-cell;\"></div><div style=\"display: table-cell;\">js_event_callbacks&nbsp;=&nbsp;{},</div></div><div class=\"1550\" style=\"display: none;\"><div style=\"display: table-cell;\"></div><div style=\"display: table-cell;\">js_property_callbacks&nbsp;=&nbsp;{},</div></div><div class=\"1550\" style=\"display: none;\"><div style=\"display: table-cell;\"></div><div style=\"display: table-cell;\">margin&nbsp;=&nbsp;(0, 0, 0, 0),</div></div><div class=\"1550\" style=\"display: none;\"><div style=\"display: table-cell;\"></div><div style=\"display: table-cell;\">max_height&nbsp;=&nbsp;None,</div></div><div class=\"1550\" style=\"display: none;\"><div style=\"display: table-cell;\"></div><div style=\"display: table-cell;\">max_width&nbsp;=&nbsp;None,</div></div><div class=\"1550\" style=\"display: none;\"><div style=\"display: table-cell;\"></div><div style=\"display: table-cell;\">min_height&nbsp;=&nbsp;None,</div></div><div class=\"1550\" style=\"display: none;\"><div style=\"display: table-cell;\"></div><div style=\"display: table-cell;\">min_width&nbsp;=&nbsp;None,</div></div><div class=\"1550\" style=\"display: none;\"><div style=\"display: table-cell;\"></div><div style=\"display: table-cell;\">name&nbsp;=&nbsp;None,</div></div><div class=\"1550\" style=\"display: none;\"><div style=\"display: table-cell;\"></div><div style=\"display: table-cell;\">rows&nbsp;=&nbsp;'auto',</div></div><div class=\"1550\" style=\"display: none;\"><div style=\"display: table-cell;\"></div><div style=\"display: table-cell;\">sizing_mode&nbsp;=&nbsp;None,</div></div><div class=\"1550\" style=\"display: none;\"><div style=\"display: table-cell;\"></div><div style=\"display: table-cell;\">spacing&nbsp;=&nbsp;0,</div></div><div class=\"1550\" style=\"display: none;\"><div style=\"display: table-cell;\"></div><div style=\"display: table-cell;\">subscribed_events&nbsp;=&nbsp;[],</div></div><div class=\"1550\" style=\"display: none;\"><div style=\"display: table-cell;\"></div><div style=\"display: table-cell;\">tags&nbsp;=&nbsp;[],</div></div><div class=\"1550\" style=\"display: none;\"><div style=\"display: table-cell;\"></div><div style=\"display: table-cell;\">visible&nbsp;=&nbsp;True,</div></div><div class=\"1550\" style=\"display: none;\"><div style=\"display: table-cell;\"></div><div style=\"display: table-cell;\">width&nbsp;=&nbsp;None,</div></div><div class=\"1550\" style=\"display: none;\"><div style=\"display: table-cell;\"></div><div style=\"display: table-cell;\">width_policy&nbsp;=&nbsp;'auto')</div></div></div>\n",
       "<script>\n",
       "(function() {\n",
       "  var expanded = false;\n",
       "  var ellipsis = document.getElementById(\"1551\");\n",
       "  ellipsis.addEventListener(\"click\", function() {\n",
       "    var rows = document.getElementsByClassName(\"1550\");\n",
       "    for (var i = 0; i < rows.length; i++) {\n",
       "      var el = rows[i];\n",
       "      el.style.display = expanded ? \"none\" : \"table-row\";\n",
       "    }\n",
       "    ellipsis.innerHTML = expanded ? \"&hellip;)\" : \"&lsaquo;&lsaquo;&lsaquo;\";\n",
       "    expanded = !expanded;\n",
       "  });\n",
       "})();\n",
       "</script>\n"
      ],
      "text/plain": [
       "Column(id='1311', ...)"
      ]
     },
     "execution_count": 14,
     "metadata": {},
     "output_type": "execute_result"
    }
   ],
   "source": [
    "visualize([prof, rprof, cprof])"
   ]
  },
  {
   "cell_type": "code",
   "execution_count": null,
   "metadata": {},
   "outputs": [],
   "source": []
  }
 ],
 "metadata": {
  "kernelspec": {
   "display_name": "Python (dataSc)",
   "language": "python",
   "name": "datasc"
  },
  "language_info": {
   "codemirror_mode": {
    "name": "ipython",
    "version": 3
   },
   "file_extension": ".py",
   "mimetype": "text/x-python",
   "name": "python",
   "nbconvert_exporter": "python",
   "pygments_lexer": "ipython3",
   "version": "3.7.7"
  },
  "toc": {
   "base_numbering": 1,
   "nav_menu": {},
   "number_sections": true,
   "sideBar": true,
   "skip_h1_title": false,
   "title_cell": "Table of Contents",
   "title_sidebar": "Contents",
   "toc_cell": true,
   "toc_position": {},
   "toc_section_display": true,
   "toc_window_display": true
  }
 },
 "nbformat": 4,
 "nbformat_minor": 4
}
