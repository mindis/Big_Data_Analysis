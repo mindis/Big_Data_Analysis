{
 "cells": [
  {
   "cell_type": "markdown",
   "metadata": {
    "toc": true
   },
   "source": [
    "<h1>Table of Contents<span class=\"tocSkip\"></span></h1>\n",
    "<div class=\"toc\"><ul class=\"toc-item\"><li><span><a href=\"#Introduction\" data-toc-modified-id=\"Introduction-1\"><span class=\"toc-item-num\">1&nbsp;&nbsp;</span>Introduction</a></span></li><li><span><a href=\"#Official-example\" data-toc-modified-id=\"Official-example-2\"><span class=\"toc-item-num\">2&nbsp;&nbsp;</span>Official example</a></span></li><li><span><a href=\"#Jupyter-magic\" data-toc-modified-id=\"Jupyter-magic-3\"><span class=\"toc-item-num\">3&nbsp;&nbsp;</span>Jupyter magic</a></span></li><li><span><a href=\"#module:-bq_helper\" data-toc-modified-id=\"module:-bq_helper-4\"><span class=\"toc-item-num\">4&nbsp;&nbsp;</span>module: bq_helper</a></span></li><li><span><a href=\"#module:-pandas-gbq\" data-toc-modified-id=\"module:-pandas-gbq-5\"><span class=\"toc-item-num\">5&nbsp;&nbsp;</span>module: pandas-gbq</a></span><ul class=\"toc-item\"><li><span><a href=\"#use-lru-cache\" data-toc-modified-id=\"use-lru-cache-5.1\"><span class=\"toc-item-num\">5.1&nbsp;&nbsp;</span>use lru cache</a></span></li></ul></li><li><span><a href=\"#Public-data-query-example:-nypd-motor-vehicle-collision\" data-toc-modified-id=\"Public-data-query-example:-nypd-motor-vehicle-collision-6\"><span class=\"toc-item-num\">6&nbsp;&nbsp;</span>Public data query example: nypd motor vehicle collision</a></span></li></ul></div>"
   ]
  },
  {
   "cell_type": "markdown",
   "metadata": {},
   "source": [
    "# Introduction\n",
    "- setup instructions: https://cloud.google.com/bigquery/docs/reference/libraries"
   ]
  },
  {
   "cell_type": "code",
   "execution_count": 35,
   "metadata": {
    "ExecuteTime": {
     "end_time": "2020-08-04T20:37:15.952826Z",
     "start_time": "2020-08-04T20:37:14.973283Z"
    }
   },
   "outputs": [],
   "source": [
    "import numpy as np\n",
    "import pandas as pd\n",
    "import seaborn as sns"
   ]
  },
  {
   "cell_type": "markdown",
   "metadata": {},
   "source": [
    "# Official example"
   ]
  },
  {
   "cell_type": "code",
   "execution_count": 2,
   "metadata": {
    "ExecuteTime": {
     "end_time": "2020-08-04T20:01:57.710255Z",
     "start_time": "2020-08-04T20:01:54.530164Z"
    }
   },
   "outputs": [
    {
     "name": "stdout",
     "output_type": "stream",
     "text": [
      "The query data:\n",
      "name=James, count=272793\n",
      "name=John, count=235139\n",
      "name=Michael, count=225320\n",
      "name=Robert, count=220399\n",
      "name=David, count=219028\n",
      "name=Mary, count=209893\n",
      "name=William, count=173092\n",
      "name=Jose, count=157362\n",
      "name=Christopher, count=144196\n",
      "name=Maria, count=131056\n",
      "name=Charles, count=126509\n",
      "name=Daniel, count=117470\n",
      "name=Richard, count=109888\n",
      "name=Juan, count=109808\n",
      "name=Jennifer, count=98696\n",
      "name=Joshua, count=90679\n",
      "name=Elizabeth, count=90465\n",
      "name=Joseph, count=89097\n",
      "name=Matthew, count=88464\n",
      "name=Joe, count=87977\n"
     ]
    }
   ],
   "source": [
    "from google.cloud import bigquery\n",
    "\n",
    "# Construct a BigQuery client object.\n",
    "client = bigquery.Client()\n",
    "\n",
    "query = \"\"\"\n",
    "    SELECT name, SUM(number) as total_people\n",
    "    FROM `bigquery-public-data.usa_names.usa_1910_2013`\n",
    "    WHERE state = 'TX'\n",
    "    GROUP BY name, state\n",
    "    ORDER BY total_people DESC\n",
    "    LIMIT 20\n",
    "\"\"\"\n",
    "query_job = client.query(query)  # Make an API request.\n",
    "\n",
    "print(\"The query data:\")\n",
    "for row in query_job:\n",
    "    # Row values can be accessed by field name or index.\n",
    "    print(\"name={}, count={}\".format(row[0], row[\"total_people\"]))"
   ]
  },
  {
   "cell_type": "code",
   "execution_count": 28,
   "metadata": {
    "ExecuteTime": {
     "end_time": "2020-08-04T20:10:55.815610Z",
     "start_time": "2020-08-04T20:10:51.447301Z"
    }
   },
   "outputs": [
    {
     "name": "stderr",
     "output_type": "stream",
     "text": [
      "/Users/poudel/opt/miniconda3/envs/dataSc/lib/python3.7/site-packages/pyarrow/util.py:39: FutureWarning: pyarrow.read_schema is deprecated as of 0.17.0, please use pyarrow.ipc.read_schema instead\n",
      "  warnings.warn(msg, FutureWarning)\n",
      "/Users/poudel/opt/miniconda3/envs/dataSc/lib/python3.7/site-packages/pyarrow/util.py:39: FutureWarning: pyarrow.read_record_batch is deprecated as of 0.17.0, please use pyarrow.ipc.read_record_batch instead\n",
      "  warnings.warn(msg, FutureWarning)\n"
     ]
    },
    {
     "data": {
      "text/html": [
       "<div>\n",
       "<style scoped>\n",
       "    .dataframe tbody tr th:only-of-type {\n",
       "        vertical-align: middle;\n",
       "    }\n",
       "\n",
       "    .dataframe tbody tr th {\n",
       "        vertical-align: top;\n",
       "    }\n",
       "\n",
       "    .dataframe thead th {\n",
       "        text-align: right;\n",
       "    }\n",
       "</style>\n",
       "<table border=\"1\" class=\"dataframe\">\n",
       "  <thead>\n",
       "    <tr style=\"text-align: right;\">\n",
       "      <th></th>\n",
       "      <th>plurality</th>\n",
       "      <th>count</th>\n",
       "      <th>year</th>\n",
       "    </tr>\n",
       "  </thead>\n",
       "  <tbody>\n",
       "    <tr>\n",
       "      <th>0</th>\n",
       "      <td>2</td>\n",
       "      <td>139209</td>\n",
       "      <td>2007</td>\n",
       "    </tr>\n",
       "    <tr>\n",
       "      <th>1</th>\n",
       "      <td>2</td>\n",
       "      <td>138866</td>\n",
       "      <td>2008</td>\n",
       "    </tr>\n",
       "    <tr>\n",
       "      <th>2</th>\n",
       "      <td>2</td>\n",
       "      <td>137239</td>\n",
       "      <td>2006</td>\n",
       "    </tr>\n",
       "    <tr>\n",
       "      <th>3</th>\n",
       "      <td>2</td>\n",
       "      <td>133285</td>\n",
       "      <td>2005</td>\n",
       "    </tr>\n",
       "    <tr>\n",
       "      <th>4</th>\n",
       "      <td>2</td>\n",
       "      <td>132344</td>\n",
       "      <td>2004</td>\n",
       "    </tr>\n",
       "  </tbody>\n",
       "</table>\n",
       "</div>"
      ],
      "text/plain": [
       "   plurality   count  year\n",
       "0          2  139209  2007\n",
       "1          2  138866  2008\n",
       "2          2  137239  2006\n",
       "3          2  133285  2005\n",
       "4          2  132344  2004"
      ]
     },
     "execution_count": 28,
     "metadata": {},
     "output_type": "execute_result"
    }
   ],
   "source": [
    "# https://cloud.google.com/bigquery/docs/visualize-jupyter\n",
    "# run a query to retrieve the annual count of plural births by\n",
    "# plurality (2 for twins, 3 for triplets, and so on).\n",
    "sql = \"\"\"\n",
    "SELECT\n",
    "    plurality,\n",
    "    COUNT(1) AS count,\n",
    "    year\n",
    "FROM\n",
    "    `bigquery-public-data.samples.natality`\n",
    "WHERE\n",
    "    NOT IS_NAN(plurality) AND plurality > 1\n",
    "GROUP BY\n",
    "    plurality, year\n",
    "ORDER BY\n",
    "    count DESC\n",
    "\"\"\"\n",
    "df = client.query(sql).to_dataframe()\n",
    "df.head()\n"
   ]
  },
  {
   "cell_type": "code",
   "execution_count": 29,
   "metadata": {
    "ExecuteTime": {
     "end_time": "2020-08-04T20:12:52.075227Z",
     "start_time": "2020-08-04T20:12:51.230359Z"
    }
   },
   "outputs": [
    {
     "data": {
      "text/plain": [
       "<matplotlib.axes._subplots.AxesSubplot at 0x7f8a0acf2ed0>"
      ]
     },
     "execution_count": 29,
     "metadata": {},
     "output_type": "execute_result"
    },
    {
     "data": {
      "image/png": "[encoded data removed]",
      "text/plain": [
       "<Figure size 1080x504 with 1 Axes>"
      ]
     },
     "metadata": {
      "needs_background": "light"
     },
     "output_type": "display_data"
    }
   ],
   "source": [
    "pivot_table = df.pivot(index=\"year\", columns=\"plurality\", values=\"count\")\n",
    "pivot_table.plot(kind=\"bar\", stacked=True, figsize=(15, 7))"
   ]
  },
  {
   "cell_type": "code",
   "execution_count": 30,
   "metadata": {
    "ExecuteTime": {
     "end_time": "2020-08-04T20:14:34.973260Z",
     "start_time": "2020-08-04T20:14:30.718652Z"
    }
   },
   "outputs": [
    {
     "name": "stderr",
     "output_type": "stream",
     "text": [
      "/Users/poudel/opt/miniconda3/envs/dataSc/lib/python3.7/site-packages/pyarrow/util.py:39: FutureWarning: pyarrow.read_schema is deprecated as of 0.17.0, please use pyarrow.ipc.read_schema instead\n",
      "  warnings.warn(msg, FutureWarning)\n",
      "/Users/poudel/opt/miniconda3/envs/dataSc/lib/python3.7/site-packages/pyarrow/util.py:39: FutureWarning: pyarrow.read_record_batch is deprecated as of 0.17.0, please use pyarrow.ipc.read_record_batch instead\n",
      "  warnings.warn(msg, FutureWarning)\n"
     ]
    }
   ],
   "source": [
    "# count of births by the number of gestation weeks.\n",
    "sql = \"\"\"\n",
    "SELECT\n",
    "    gestation_weeks,\n",
    "    COUNT(1) AS count\n",
    "FROM\n",
    "    `bigquery-public-data.samples.natality`\n",
    "WHERE\n",
    "    NOT IS_NAN(gestation_weeks) AND gestation_weeks <> 99\n",
    "GROUP BY\n",
    "    gestation_weeks\n",
    "ORDER BY\n",
    "    gestation_weeks\n",
    "\"\"\"\n",
    "df = client.query(sql).to_dataframe()"
   ]
  },
  {
   "cell_type": "code",
   "execution_count": 31,
   "metadata": {
    "ExecuteTime": {
     "end_time": "2020-08-04T20:14:44.611651Z",
     "start_time": "2020-08-04T20:14:44.317323Z"
    }
   },
   "outputs": [
    {
     "data": {
      "text/plain": [
       "Text(0, 0.5, 'Count')"
      ]
     },
     "execution_count": 31,
     "metadata": {},
     "output_type": "execute_result"
    },
    {
     "data": {
      "image/png": "[encoded data removed]",
      "text/plain": [
       "<Figure size 1080x504 with 1 Axes>"
      ]
     },
     "metadata": {
      "needs_background": "light"
     },
     "output_type": "display_data"
    }
   ],
   "source": [
    "ax = df.plot(kind=\"bar\", x=\"gestation_weeks\", y=\"count\",\n",
    "             figsize=(15, 7))\n",
    "ax.set_title(\"Count of Births by Gestation Weeks\")\n",
    "ax.set_xlabel(\"Gestation Weeks\")\n",
    "ax.set_ylabel(\"Count\")"
   ]
  },
  {
   "cell_type": "code",
   "execution_count": 33,
   "metadata": {
    "ExecuteTime": {
     "end_time": "2020-08-04T20:30:32.114882Z",
     "start_time": "2020-08-04T20:30:32.112458Z"
    }
   },
   "outputs": [],
   "source": [
    "# Personal datasets"
   ]
  },
  {
   "cell_type": "code",
   "execution_count": 32,
   "metadata": {
    "ExecuteTime": {
     "end_time": "2020-08-04T20:28:26.809548Z",
     "start_time": "2020-08-04T20:28:26.371739Z"
    }
   },
   "outputs": [
    {
     "name": "stdout",
     "output_type": "stream",
     "text": [
      "analog-signal-250501 project does not contain any datasets.\n"
     ]
    }
   ],
   "source": [
    "from google.cloud import bigquery\n",
    "\n",
    "# Construct a BigQuery client object.\n",
    "client = bigquery.Client()\n",
    "\n",
    "datasets = list(client.list_datasets())  # Make an API request.\n",
    "project = client.project\n",
    "\n",
    "if datasets:\n",
    "    print(\"Datasets in project {}:\".format(project))\n",
    "    for dataset in datasets:\n",
    "        print(\"\\t{}\".format(dataset.dataset_id))\n",
    "else:\n",
    "    print(\"{} project does not contain any datasets.\".format(project))"
   ]
  },
  {
   "cell_type": "markdown",
   "metadata": {},
   "source": [
    "# Jupyter magic\n",
    "- https://googleapis.dev/python/bigquery/latest/magics.html"
   ]
  },
  {
   "cell_type": "code",
   "execution_count": null,
   "metadata": {},
   "outputs": [],
   "source": []
  },
  {
   "cell_type": "code",
   "execution_count": 3,
   "metadata": {
    "ExecuteTime": {
     "end_time": "2020-08-04T20:01:57.749811Z",
     "start_time": "2020-08-04T20:01:57.715645Z"
    }
   },
   "outputs": [],
   "source": [
    "%load_ext google.cloud.bigquery"
   ]
  },
  {
   "cell_type": "code",
   "execution_count": 4,
   "metadata": {
    "ExecuteTime": {
     "end_time": "2020-08-04T20:02:03.888344Z",
     "start_time": "2020-08-04T20:01:57.753521Z"
    }
   },
   "outputs": [
    {
     "name": "stderr",
     "output_type": "stream",
     "text": [
      "/Users/poudel/opt/miniconda3/envs/dataSc/lib/python3.7/site-packages/pyarrow/util.py:39: FutureWarning: pyarrow.read_schema is deprecated as of 0.17.0, please use pyarrow.ipc.read_schema instead\n",
      "  warnings.warn(msg, FutureWarning)\n",
      "/Users/poudel/opt/miniconda3/envs/dataSc/lib/python3.7/site-packages/pyarrow/util.py:39: FutureWarning: pyarrow.read_record_batch is deprecated as of 0.17.0, please use pyarrow.ipc.read_record_batch instead\n",
      "  warnings.warn(msg, FutureWarning)\n"
     ]
    },
    {
     "data": {
      "text/html": [
       "<div>\n",
       "<style scoped>\n",
       "    .dataframe tbody tr th:only-of-type {\n",
       "        vertical-align: middle;\n",
       "    }\n",
       "\n",
       "    .dataframe tbody tr th {\n",
       "        vertical-align: top;\n",
       "    }\n",
       "\n",
       "    .dataframe thead th {\n",
       "        text-align: right;\n",
       "    }\n",
       "</style>\n",
       "<table border=\"1\" class=\"dataframe\">\n",
       "  <thead>\n",
       "    <tr style=\"text-align: right;\">\n",
       "      <th></th>\n",
       "      <th>name</th>\n",
       "      <th>count</th>\n",
       "    </tr>\n",
       "  </thead>\n",
       "  <tbody>\n",
       "    <tr>\n",
       "      <th>0</th>\n",
       "      <td>James</td>\n",
       "      <td>5015584</td>\n",
       "    </tr>\n",
       "    <tr>\n",
       "      <th>1</th>\n",
       "      <td>John</td>\n",
       "      <td>4885284</td>\n",
       "    </tr>\n",
       "    <tr>\n",
       "      <th>2</th>\n",
       "      <td>Robert</td>\n",
       "      <td>4749154</td>\n",
       "    </tr>\n",
       "  </tbody>\n",
       "</table>\n",
       "</div>"
      ],
      "text/plain": [
       "     name    count\n",
       "0   James  5015584\n",
       "1    John  4885284\n",
       "2  Robert  4749154"
      ]
     },
     "execution_count": 4,
     "metadata": {},
     "output_type": "execute_result"
    }
   ],
   "source": [
    "%%bigquery\n",
    "\n",
    "SELECT name, SUM(number) as count\n",
    "FROM `bigquery-public-data.usa_names.usa_1910_current`\n",
    "GROUP BY name\n",
    "ORDER BY count DESC\n",
    "LIMIT 3"
   ]
  },
  {
   "cell_type": "code",
   "execution_count": 5,
   "metadata": {
    "ExecuteTime": {
     "end_time": "2020-08-04T20:02:03.910304Z",
     "start_time": "2020-08-04T20:02:03.891857Z"
    }
   },
   "outputs": [],
   "source": [
    "params = {\"num\": 5}"
   ]
  },
  {
   "cell_type": "code",
   "execution_count": 6,
   "metadata": {
    "ExecuteTime": {
     "end_time": "2020-08-04T20:02:07.267116Z",
     "start_time": "2020-08-04T20:02:03.916295Z"
    }
   },
   "outputs": [
    {
     "name": "stderr",
     "output_type": "stream",
     "text": [
      "/Users/poudel/opt/miniconda3/envs/dataSc/lib/python3.7/site-packages/pyarrow/util.py:39: FutureWarning: pyarrow.read_schema is deprecated as of 0.17.0, please use pyarrow.ipc.read_schema instead\n",
      "  warnings.warn(msg, FutureWarning)\n",
      "/Users/poudel/opt/miniconda3/envs/dataSc/lib/python3.7/site-packages/pyarrow/util.py:39: FutureWarning: pyarrow.read_record_batch is deprecated as of 0.17.0, please use pyarrow.ipc.read_record_batch instead\n",
      "  warnings.warn(msg, FutureWarning)\n"
     ]
    },
    {
     "data": {
      "text/html": [
       "<div>\n",
       "<style scoped>\n",
       "    .dataframe tbody tr th:only-of-type {\n",
       "        vertical-align: middle;\n",
       "    }\n",
       "\n",
       "    .dataframe tbody tr th {\n",
       "        vertical-align: top;\n",
       "    }\n",
       "\n",
       "    .dataframe thead th {\n",
       "        text-align: right;\n",
       "    }\n",
       "</style>\n",
       "<table border=\"1\" class=\"dataframe\">\n",
       "  <thead>\n",
       "    <tr style=\"text-align: right;\">\n",
       "      <th></th>\n",
       "      <th>name</th>\n",
       "      <th>count</th>\n",
       "    </tr>\n",
       "  </thead>\n",
       "  <tbody>\n",
       "    <tr>\n",
       "      <th>0</th>\n",
       "      <td>James</td>\n",
       "      <td>5015584</td>\n",
       "    </tr>\n",
       "    <tr>\n",
       "      <th>1</th>\n",
       "      <td>John</td>\n",
       "      <td>4885284</td>\n",
       "    </tr>\n",
       "    <tr>\n",
       "      <th>2</th>\n",
       "      <td>Robert</td>\n",
       "      <td>4749154</td>\n",
       "    </tr>\n",
       "    <tr>\n",
       "      <th>3</th>\n",
       "      <td>Michael</td>\n",
       "      <td>4366524</td>\n",
       "    </tr>\n",
       "    <tr>\n",
       "      <th>4</th>\n",
       "      <td>William</td>\n",
       "      <td>3901134</td>\n",
       "    </tr>\n",
       "  </tbody>\n",
       "</table>\n",
       "</div>"
      ],
      "text/plain": [
       "      name    count\n",
       "0    James  5015584\n",
       "1     John  4885284\n",
       "2   Robert  4749154\n",
       "3  Michael  4366524\n",
       "4  William  3901134"
      ]
     },
     "execution_count": 6,
     "metadata": {},
     "output_type": "execute_result"
    }
   ],
   "source": [
    "%%bigquery --params $params\n",
    "\n",
    "SELECT name, SUM(number) as count\n",
    "FROM `bigquery-public-data.usa_names.usa_1910_current`\n",
    "GROUP BY name\n",
    "ORDER BY count DESC\n",
    "LIMIT @num"
   ]
  },
  {
   "cell_type": "markdown",
   "metadata": {},
   "source": [
    "# module: bq_helper\n",
    "- https://www.kaggle.com/bhishanpdl/introduction-to-the-bq-helper-package-7ec5a5/edit"
   ]
  },
  {
   "cell_type": "code",
   "execution_count": 7,
   "metadata": {
    "ExecuteTime": {
     "end_time": "2020-08-04T20:02:07.275251Z",
     "start_time": "2020-08-04T20:02:07.269809Z"
    }
   },
   "outputs": [],
   "source": [
    "from bq_helper import BigQueryHelper"
   ]
  },
  {
   "cell_type": "code",
   "execution_count": 8,
   "metadata": {
    "ExecuteTime": {
     "end_time": "2020-08-04T20:02:07.281134Z",
     "start_time": "2020-08-04T20:02:07.277069Z"
    }
   },
   "outputs": [],
   "source": [
    "bq_assistant = BigQueryHelper(\"bigquery-public-data\", \"openaq\")"
   ]
  },
  {
   "cell_type": "code",
   "execution_count": 9,
   "metadata": {
    "ExecuteTime": {
     "end_time": "2020-08-04T20:02:07.948951Z",
     "start_time": "2020-08-04T20:02:07.287890Z"
    }
   },
   "outputs": [
    {
     "data": {
      "text/plain": [
       "['global_air_quality']"
      ]
     },
     "execution_count": 9,
     "metadata": {},
     "output_type": "execute_result"
    }
   ],
   "source": [
    "bq_assistant.list_tables()"
   ]
  },
  {
   "cell_type": "code",
   "execution_count": 10,
   "metadata": {
    "ExecuteTime": {
     "end_time": "2020-08-04T20:02:08.257575Z",
     "start_time": "2020-08-04T20:02:07.953550Z"
    }
   },
   "outputs": [
    {
     "data": {
      "text/html": [
       "<div>\n",
       "<style scoped>\n",
       "    .dataframe tbody tr th:only-of-type {\n",
       "        vertical-align: middle;\n",
       "    }\n",
       "\n",
       "    .dataframe tbody tr th {\n",
       "        vertical-align: top;\n",
       "    }\n",
       "\n",
       "    .dataframe thead th {\n",
       "        text-align: right;\n",
       "    }\n",
       "</style>\n",
       "<table border=\"1\" class=\"dataframe\">\n",
       "  <thead>\n",
       "    <tr style=\"text-align: right;\">\n",
       "      <th></th>\n",
       "      <th>location</th>\n",
       "      <th>city</th>\n",
       "      <th>country</th>\n",
       "      <th>pollutant</th>\n",
       "      <th>value</th>\n",
       "      <th>timestamp</th>\n",
       "      <th>unit</th>\n",
       "      <th>source_name</th>\n",
       "      <th>latitude</th>\n",
       "      <th>longitude</th>\n",
       "      <th>averaged_over_in_hours</th>\n",
       "    </tr>\n",
       "  </thead>\n",
       "  <tbody>\n",
       "    <tr>\n",
       "      <th>0</th>\n",
       "      <td>BTM Layout, Bengaluru - KSPCB</td>\n",
       "      <td>Bengaluru</td>\n",
       "      <td>IN</td>\n",
       "      <td>co</td>\n",
       "      <td>910.00</td>\n",
       "      <td>2018-02-22 03:00:00+00:00</td>\n",
       "      <td>µg/m³</td>\n",
       "      <td>CPCB</td>\n",
       "      <td>12.912811</td>\n",
       "      <td>77.60922</td>\n",
       "      <td>0.25</td>\n",
       "    </tr>\n",
       "    <tr>\n",
       "      <th>1</th>\n",
       "      <td>BTM Layout, Bengaluru - KSPCB</td>\n",
       "      <td>Bengaluru</td>\n",
       "      <td>IN</td>\n",
       "      <td>no2</td>\n",
       "      <td>131.87</td>\n",
       "      <td>2018-02-22 03:00:00+00:00</td>\n",
       "      <td>µg/m³</td>\n",
       "      <td>CPCB</td>\n",
       "      <td>12.912811</td>\n",
       "      <td>77.60922</td>\n",
       "      <td>0.25</td>\n",
       "    </tr>\n",
       "    <tr>\n",
       "      <th>2</th>\n",
       "      <td>BTM Layout, Bengaluru - KSPCB</td>\n",
       "      <td>Bengaluru</td>\n",
       "      <td>IN</td>\n",
       "      <td>o3</td>\n",
       "      <td>15.57</td>\n",
       "      <td>2018-02-22 03:00:00+00:00</td>\n",
       "      <td>µg/m³</td>\n",
       "      <td>CPCB</td>\n",
       "      <td>12.912811</td>\n",
       "      <td>77.60922</td>\n",
       "      <td>0.25</td>\n",
       "    </tr>\n",
       "  </tbody>\n",
       "</table>\n",
       "</div>"
      ],
      "text/plain": [
       "                        location       city country pollutant   value  \\\n",
       "0  BTM Layout, Bengaluru - KSPCB  Bengaluru      IN        co  910.00   \n",
       "1  BTM Layout, Bengaluru - KSPCB  Bengaluru      IN       no2  131.87   \n",
       "2  BTM Layout, Bengaluru - KSPCB  Bengaluru      IN        o3   15.57   \n",
       "\n",
       "                  timestamp   unit source_name   latitude  longitude  \\\n",
       "0 2018-02-22 03:00:00+00:00  µg/m³        CPCB  12.912811   77.60922   \n",
       "1 2018-02-22 03:00:00+00:00  µg/m³        CPCB  12.912811   77.60922   \n",
       "2 2018-02-22 03:00:00+00:00  µg/m³        CPCB  12.912811   77.60922   \n",
       "\n",
       "   averaged_over_in_hours  \n",
       "0                    0.25  \n",
       "1                    0.25  \n",
       "2                    0.25  "
      ]
     },
     "execution_count": 10,
     "metadata": {},
     "output_type": "execute_result"
    }
   ],
   "source": [
    "bq_assistant.head(\"global_air_quality\", num_rows=3)"
   ]
  },
  {
   "cell_type": "code",
   "execution_count": 11,
   "metadata": {
    "ExecuteTime": {
     "end_time": "2020-08-04T20:02:08.277687Z",
     "start_time": "2020-08-04T20:02:08.259623Z"
    }
   },
   "outputs": [
    {
     "data": {
      "text/html": [
       "<div>\n",
       "<style scoped>\n",
       "    .dataframe tbody tr th:only-of-type {\n",
       "        vertical-align: middle;\n",
       "    }\n",
       "\n",
       "    .dataframe tbody tr th {\n",
       "        vertical-align: top;\n",
       "    }\n",
       "\n",
       "    .dataframe thead th {\n",
       "        text-align: right;\n",
       "    }\n",
       "</style>\n",
       "<table border=\"1\" class=\"dataframe\">\n",
       "  <thead>\n",
       "    <tr style=\"text-align: right;\">\n",
       "      <th></th>\n",
       "      <th>name</th>\n",
       "      <th>type</th>\n",
       "      <th>mode</th>\n",
       "      <th>description</th>\n",
       "    </tr>\n",
       "  </thead>\n",
       "  <tbody>\n",
       "    <tr>\n",
       "      <th>0</th>\n",
       "      <td>location</td>\n",
       "      <td>STRING</td>\n",
       "      <td>NULLABLE</td>\n",
       "      <td>Location where data was measured</td>\n",
       "    </tr>\n",
       "    <tr>\n",
       "      <th>1</th>\n",
       "      <td>city</td>\n",
       "      <td>STRING</td>\n",
       "      <td>NULLABLE</td>\n",
       "      <td>City containing location</td>\n",
       "    </tr>\n",
       "    <tr>\n",
       "      <th>2</th>\n",
       "      <td>country</td>\n",
       "      <td>STRING</td>\n",
       "      <td>NULLABLE</td>\n",
       "      <td>Country containing measurement in 2 letter ISO...</td>\n",
       "    </tr>\n",
       "    <tr>\n",
       "      <th>3</th>\n",
       "      <td>pollutant</td>\n",
       "      <td>STRING</td>\n",
       "      <td>NULLABLE</td>\n",
       "      <td>Name of the Pollutant being measured. Allowed ...</td>\n",
       "    </tr>\n",
       "    <tr>\n",
       "      <th>4</th>\n",
       "      <td>value</td>\n",
       "      <td>FLOAT</td>\n",
       "      <td>NULLABLE</td>\n",
       "      <td>Latest measured value for the pollutant</td>\n",
       "    </tr>\n",
       "    <tr>\n",
       "      <th>5</th>\n",
       "      <td>timestamp</td>\n",
       "      <td>TIMESTAMP</td>\n",
       "      <td>NULLABLE</td>\n",
       "      <td>The datetime at which the pollutant was measur...</td>\n",
       "    </tr>\n",
       "    <tr>\n",
       "      <th>6</th>\n",
       "      <td>unit</td>\n",
       "      <td>STRING</td>\n",
       "      <td>NULLABLE</td>\n",
       "      <td>The unit the value was measured in coded by UC...</td>\n",
       "    </tr>\n",
       "    <tr>\n",
       "      <th>7</th>\n",
       "      <td>source_name</td>\n",
       "      <td>STRING</td>\n",
       "      <td>NULLABLE</td>\n",
       "      <td>Name of the source of the data</td>\n",
       "    </tr>\n",
       "    <tr>\n",
       "      <th>8</th>\n",
       "      <td>latitude</td>\n",
       "      <td>FLOAT</td>\n",
       "      <td>NULLABLE</td>\n",
       "      <td>Latitude in decimal degrees. Precision &gt;3 deci...</td>\n",
       "    </tr>\n",
       "    <tr>\n",
       "      <th>9</th>\n",
       "      <td>longitude</td>\n",
       "      <td>FLOAT</td>\n",
       "      <td>NULLABLE</td>\n",
       "      <td>Longitude in decimal degrees. Precision &gt;3 dec...</td>\n",
       "    </tr>\n",
       "    <tr>\n",
       "      <th>10</th>\n",
       "      <td>averaged_over_in_hours</td>\n",
       "      <td>FLOAT</td>\n",
       "      <td>NULLABLE</td>\n",
       "      <td>The number of hours the value was averaged over.</td>\n",
       "    </tr>\n",
       "  </tbody>\n",
       "</table>\n",
       "</div>"
      ],
      "text/plain": [
       "                      name       type      mode  \\\n",
       "0                 location     STRING  NULLABLE   \n",
       "1                     city     STRING  NULLABLE   \n",
       "2                  country     STRING  NULLABLE   \n",
       "3                pollutant     STRING  NULLABLE   \n",
       "4                    value      FLOAT  NULLABLE   \n",
       "5                timestamp  TIMESTAMP  NULLABLE   \n",
       "6                     unit     STRING  NULLABLE   \n",
       "7              source_name     STRING  NULLABLE   \n",
       "8                 latitude      FLOAT  NULLABLE   \n",
       "9                longitude      FLOAT  NULLABLE   \n",
       "10  averaged_over_in_hours      FLOAT  NULLABLE   \n",
       "\n",
       "                                          description  \n",
       "0                    Location where data was measured  \n",
       "1                            City containing location  \n",
       "2   Country containing measurement in 2 letter ISO...  \n",
       "3   Name of the Pollutant being measured. Allowed ...  \n",
       "4             Latest measured value for the pollutant  \n",
       "5   The datetime at which the pollutant was measur...  \n",
       "6   The unit the value was measured in coded by UC...  \n",
       "7                      Name of the source of the data  \n",
       "8   Latitude in decimal degrees. Precision >3 deci...  \n",
       "9   Longitude in decimal degrees. Precision >3 dec...  \n",
       "10   The number of hours the value was averaged over.  "
      ]
     },
     "execution_count": 11,
     "metadata": {},
     "output_type": "execute_result"
    }
   ],
   "source": [
    "bq_assistant.table_schema(\"global_air_quality\")"
   ]
  },
  {
   "cell_type": "code",
   "execution_count": 12,
   "metadata": {
    "ExecuteTime": {
     "end_time": "2020-08-04T20:02:08.284107Z",
     "start_time": "2020-08-04T20:02:08.280813Z"
    }
   },
   "outputs": [],
   "source": [
    "QUERY = \"SELECT location, timestamp, pollutant FROM `bigquery-public-data.openaq.global_air_quality`\""
   ]
  },
  {
   "cell_type": "code",
   "execution_count": 13,
   "metadata": {
    "ExecuteTime": {
     "end_time": "2020-08-04T20:02:08.768702Z",
     "start_time": "2020-08-04T20:02:08.286182Z"
    }
   },
   "outputs": [
    {
     "data": {
      "text/plain": [
       "0.0005448907613754272"
      ]
     },
     "execution_count": 13,
     "metadata": {},
     "output_type": "execute_result"
    }
   ],
   "source": [
    "bq_assistant.estimate_query_size(QUERY) "
   ]
  },
  {
   "cell_type": "code",
   "execution_count": 14,
   "metadata": {
    "ExecuteTime": {
     "end_time": "2020-08-04T20:02:11.857394Z",
     "start_time": "2020-08-04T20:02:08.772251Z"
    }
   },
   "outputs": [
    {
     "name": "stderr",
     "output_type": "stream",
     "text": [
      "/Users/poudel/opt/miniconda3/envs/dataSc/lib/python3.7/site-packages/pyarrow/util.py:39: FutureWarning: pyarrow.read_schema is deprecated as of 0.17.0, please use pyarrow.ipc.read_schema instead\n",
      "  warnings.warn(msg, FutureWarning)\n",
      "/Users/poudel/opt/miniconda3/envs/dataSc/lib/python3.7/site-packages/pyarrow/util.py:39: FutureWarning: pyarrow.read_record_batch is deprecated as of 0.17.0, please use pyarrow.ipc.read_record_batch instead\n",
      "  warnings.warn(msg, FutureWarning)\n"
     ]
    },
    {
     "data": {
      "text/html": [
       "<div>\n",
       "<style scoped>\n",
       "    .dataframe tbody tr th:only-of-type {\n",
       "        vertical-align: middle;\n",
       "    }\n",
       "\n",
       "    .dataframe tbody tr th {\n",
       "        vertical-align: top;\n",
       "    }\n",
       "\n",
       "    .dataframe thead th {\n",
       "        text-align: right;\n",
       "    }\n",
       "</style>\n",
       "<table border=\"1\" class=\"dataframe\">\n",
       "  <thead>\n",
       "    <tr style=\"text-align: right;\">\n",
       "      <th></th>\n",
       "      <th>location</th>\n",
       "      <th>timestamp</th>\n",
       "      <th>pollutant</th>\n",
       "    </tr>\n",
       "  </thead>\n",
       "  <tbody>\n",
       "    <tr>\n",
       "      <th>0</th>\n",
       "      <td>BTM Layout, Bengaluru - KSPCB</td>\n",
       "      <td>2018-02-22 03:00:00+00:00</td>\n",
       "      <td>co</td>\n",
       "    </tr>\n",
       "    <tr>\n",
       "      <th>1</th>\n",
       "      <td>BTM Layout, Bengaluru - KSPCB</td>\n",
       "      <td>2018-02-22 03:00:00+00:00</td>\n",
       "      <td>no2</td>\n",
       "    </tr>\n",
       "  </tbody>\n",
       "</table>\n",
       "</div>"
      ],
      "text/plain": [
       "                        location                 timestamp pollutant\n",
       "0  BTM Layout, Bengaluru - KSPCB 2018-02-22 03:00:00+00:00        co\n",
       "1  BTM Layout, Bengaluru - KSPCB 2018-02-22 03:00:00+00:00       no2"
      ]
     },
     "execution_count": 14,
     "metadata": {},
     "output_type": "execute_result"
    }
   ],
   "source": [
    "df = bq_assistant.query_to_pandas(QUERY)\n",
    "df.head(2)"
   ]
  },
  {
   "cell_type": "markdown",
   "metadata": {},
   "source": [
    "# module: pandas-gbq\n",
    "- https://github.com/pydata/pandas-gbq"
   ]
  },
  {
   "cell_type": "code",
   "execution_count": 15,
   "metadata": {
    "ExecuteTime": {
     "end_time": "2020-08-04T20:02:11.884743Z",
     "start_time": "2020-08-04T20:02:11.859707Z"
    }
   },
   "outputs": [],
   "source": [
    "import pandas_gbq"
   ]
  },
  {
   "cell_type": "code",
   "execution_count": 16,
   "metadata": {
    "ExecuteTime": {
     "end_time": "2020-08-04T20:02:15.843771Z",
     "start_time": "2020-08-04T20:02:11.887054Z"
    }
   },
   "outputs": [
    {
     "name": "stderr",
     "output_type": "stream",
     "text": [
      "Downloading:   0%|          | 0/3 [00:00<?, ?rows/s]/Users/poudel/opt/miniconda3/envs/dataSc/lib/python3.7/site-packages/pyarrow/util.py:39: FutureWarning: pyarrow.read_schema is deprecated as of 0.17.0, please use pyarrow.ipc.read_schema instead\n",
      "  warnings.warn(msg, FutureWarning)\n",
      "/Users/poudel/opt/miniconda3/envs/dataSc/lib/python3.7/site-packages/pyarrow/util.py:39: FutureWarning: pyarrow.read_record_batch is deprecated as of 0.17.0, please use pyarrow.ipc.read_record_batch instead\n",
      "  warnings.warn(msg, FutureWarning)\n",
      "Downloading: 100%|██████████| 3/3 [00:01<00:00,  1.60rows/s]\n"
     ]
    },
    {
     "data": {
      "text/html": [
       "<div>\n",
       "<style scoped>\n",
       "    .dataframe tbody tr th:only-of-type {\n",
       "        vertical-align: middle;\n",
       "    }\n",
       "\n",
       "    .dataframe tbody tr th {\n",
       "        vertical-align: top;\n",
       "    }\n",
       "\n",
       "    .dataframe thead th {\n",
       "        text-align: right;\n",
       "    }\n",
       "</style>\n",
       "<table border=\"1\" class=\"dataframe\">\n",
       "  <thead>\n",
       "    <tr style=\"text-align: right;\">\n",
       "      <th></th>\n",
       "      <th>country_name</th>\n",
       "      <th>alpha_2_code</th>\n",
       "    </tr>\n",
       "  </thead>\n",
       "  <tbody>\n",
       "    <tr>\n",
       "      <th>0</th>\n",
       "      <td>Zambia</td>\n",
       "      <td>ZM</td>\n",
       "    </tr>\n",
       "    <tr>\n",
       "      <th>1</th>\n",
       "      <td>Zimbabwe</td>\n",
       "      <td>ZW</td>\n",
       "    </tr>\n",
       "    <tr>\n",
       "      <th>2</th>\n",
       "      <td>South Africa</td>\n",
       "      <td>ZA</td>\n",
       "    </tr>\n",
       "  </tbody>\n",
       "</table>\n",
       "</div>"
      ],
      "text/plain": [
       "   country_name alpha_2_code\n",
       "0        Zambia           ZM\n",
       "1      Zimbabwe           ZW\n",
       "2  South Africa           ZA"
      ]
     },
     "execution_count": 16,
     "metadata": {},
     "output_type": "execute_result"
    }
   ],
   "source": [
    "sql = \"\"\"\n",
    "SELECT country_name, alpha_2_code\n",
    "FROM [bigquery-public-data:utility_us.country_code_iso]\n",
    "WHERE alpha_2_code LIKE 'Z%'\n",
    "\"\"\"\n",
    "df = pandas_gbq.read_gbq(sql,dialect=\"legacy\")\n",
    "\n",
    "df"
   ]
  },
  {
   "cell_type": "markdown",
   "metadata": {},
   "source": [
    "## use lru cache"
   ]
  },
  {
   "cell_type": "code",
   "execution_count": 17,
   "metadata": {
    "ExecuteTime": {
     "end_time": "2020-08-04T20:02:15.852655Z",
     "start_time": "2020-08-04T20:02:15.846421Z"
    }
   },
   "outputs": [],
   "source": [
    "import functools"
   ]
  },
  {
   "cell_type": "code",
   "execution_count": 18,
   "metadata": {
    "ExecuteTime": {
     "end_time": "2020-08-04T20:02:15.876302Z",
     "start_time": "2020-08-04T20:02:15.859170Z"
    }
   },
   "outputs": [],
   "source": [
    "@functools.lru_cache(maxsize=1024)\n",
    "def get_data():\n",
    "    sql = \"\"\"\n",
    "    SELECT country_name, alpha_2_code\n",
    "    FROM [bigquery-public-data:utility_us.country_code_iso]\n",
    "    WHERE alpha_2_code LIKE 'Z%'\n",
    "    \"\"\"\n",
    "    df = pandas_gbq.read_gbq(sql,dialect=\"legacy\")\n",
    "\n",
    "    return df"
   ]
  },
  {
   "cell_type": "code",
   "execution_count": 19,
   "metadata": {
    "ExecuteTime": {
     "end_time": "2020-08-04T20:02:18.884125Z",
     "start_time": "2020-08-04T20:02:15.878444Z"
    }
   },
   "outputs": [
    {
     "name": "stderr",
     "output_type": "stream",
     "text": [
      "Downloading:   0%|          | 0/3 [00:00<?, ?rows/s]/Users/poudel/opt/miniconda3/envs/dataSc/lib/python3.7/site-packages/pyarrow/util.py:39: FutureWarning: pyarrow.read_schema is deprecated as of 0.17.0, please use pyarrow.ipc.read_schema instead\n",
      "  warnings.warn(msg, FutureWarning)\n",
      "/Users/poudel/opt/miniconda3/envs/dataSc/lib/python3.7/site-packages/pyarrow/util.py:39: FutureWarning: pyarrow.read_record_batch is deprecated as of 0.17.0, please use pyarrow.ipc.read_record_batch instead\n",
      "  warnings.warn(msg, FutureWarning)\n",
      "Downloading: 100%|██████████| 3/3 [00:01<00:00,  1.63rows/s]\n"
     ]
    },
    {
     "data": {
      "text/html": [
       "<div>\n",
       "<style scoped>\n",
       "    .dataframe tbody tr th:only-of-type {\n",
       "        vertical-align: middle;\n",
       "    }\n",
       "\n",
       "    .dataframe tbody tr th {\n",
       "        vertical-align: top;\n",
       "    }\n",
       "\n",
       "    .dataframe thead th {\n",
       "        text-align: right;\n",
       "    }\n",
       "</style>\n",
       "<table border=\"1\" class=\"dataframe\">\n",
       "  <thead>\n",
       "    <tr style=\"text-align: right;\">\n",
       "      <th></th>\n",
       "      <th>country_name</th>\n",
       "      <th>alpha_2_code</th>\n",
       "    </tr>\n",
       "  </thead>\n",
       "  <tbody>\n",
       "    <tr>\n",
       "      <th>0</th>\n",
       "      <td>Zambia</td>\n",
       "      <td>ZM</td>\n",
       "    </tr>\n",
       "    <tr>\n",
       "      <th>1</th>\n",
       "      <td>Zimbabwe</td>\n",
       "      <td>ZW</td>\n",
       "    </tr>\n",
       "    <tr>\n",
       "      <th>2</th>\n",
       "      <td>South Africa</td>\n",
       "      <td>ZA</td>\n",
       "    </tr>\n",
       "  </tbody>\n",
       "</table>\n",
       "</div>"
      ],
      "text/plain": [
       "   country_name alpha_2_code\n",
       "0        Zambia           ZM\n",
       "1      Zimbabwe           ZW\n",
       "2  South Africa           ZA"
      ]
     },
     "execution_count": 19,
     "metadata": {},
     "output_type": "execute_result"
    }
   ],
   "source": [
    "# data is downloaded only first time we call the function.\n",
    "df = get_data()\n",
    "df"
   ]
  },
  {
   "cell_type": "code",
   "execution_count": 20,
   "metadata": {
    "ExecuteTime": {
     "end_time": "2020-08-04T20:02:18.911262Z",
     "start_time": "2020-08-04T20:02:18.887124Z"
    }
   },
   "outputs": [
    {
     "data": {
      "text/html": [
       "<div>\n",
       "<style scoped>\n",
       "    .dataframe tbody tr th:only-of-type {\n",
       "        vertical-align: middle;\n",
       "    }\n",
       "\n",
       "    .dataframe tbody tr th {\n",
       "        vertical-align: top;\n",
       "    }\n",
       "\n",
       "    .dataframe thead th {\n",
       "        text-align: right;\n",
       "    }\n",
       "</style>\n",
       "<table border=\"1\" class=\"dataframe\">\n",
       "  <thead>\n",
       "    <tr style=\"text-align: right;\">\n",
       "      <th></th>\n",
       "      <th>country_name</th>\n",
       "      <th>alpha_2_code</th>\n",
       "    </tr>\n",
       "  </thead>\n",
       "  <tbody>\n",
       "    <tr>\n",
       "      <th>0</th>\n",
       "      <td>Zambia</td>\n",
       "      <td>ZM</td>\n",
       "    </tr>\n",
       "    <tr>\n",
       "      <th>1</th>\n",
       "      <td>Zimbabwe</td>\n",
       "      <td>ZW</td>\n",
       "    </tr>\n",
       "    <tr>\n",
       "      <th>2</th>\n",
       "      <td>South Africa</td>\n",
       "      <td>ZA</td>\n",
       "    </tr>\n",
       "  </tbody>\n",
       "</table>\n",
       "</div>"
      ],
      "text/plain": [
       "   country_name alpha_2_code\n",
       "0        Zambia           ZM\n",
       "1      Zimbabwe           ZW\n",
       "2  South Africa           ZA"
      ]
     },
     "execution_count": 20,
     "metadata": {},
     "output_type": "execute_result"
    }
   ],
   "source": [
    "# this time it doesnot download the data\n",
    "df = get_data()\n",
    "df"
   ]
  },
  {
   "cell_type": "markdown",
   "metadata": {},
   "source": [
    "# Public data query example: nypd motor vehicle collision"
   ]
  },
  {
   "cell_type": "code",
   "execution_count": 26,
   "metadata": {
    "ExecuteTime": {
     "end_time": "2020-08-04T20:05:30.102857Z",
     "start_time": "2020-08-04T20:05:26.747438Z"
    }
   },
   "outputs": [
    {
     "name": "stderr",
     "output_type": "stream",
     "text": [
      "/Users/poudel/opt/miniconda3/envs/dataSc/lib/python3.7/site-packages/pyarrow/util.py:39: FutureWarning: pyarrow.read_schema is deprecated as of 0.17.0, please use pyarrow.ipc.read_schema instead\n",
      "  warnings.warn(msg, FutureWarning)\n",
      "/Users/poudel/opt/miniconda3/envs/dataSc/lib/python3.7/site-packages/pyarrow/util.py:39: FutureWarning: pyarrow.read_record_batch is deprecated as of 0.17.0, please use pyarrow.ipc.read_record_batch instead\n",
      "  warnings.warn(msg, FutureWarning)\n"
     ]
    },
    {
     "data": {
      "text/html": [
       "<div>\n",
       "<style scoped>\n",
       "    .dataframe tbody tr th:only-of-type {\n",
       "        vertical-align: middle;\n",
       "    }\n",
       "\n",
       "    .dataframe tbody tr th {\n",
       "        vertical-align: top;\n",
       "    }\n",
       "\n",
       "    .dataframe thead th {\n",
       "        text-align: right;\n",
       "    }\n",
       "</style>\n",
       "<table border=\"1\" class=\"dataframe\">\n",
       "  <thead>\n",
       "    <tr style=\"text-align: right;\">\n",
       "      <th></th>\n",
       "      <th>borough</th>\n",
       "      <th>contributing_factor_vehicle_1</th>\n",
       "      <th>contributing_factor_vehicle_2</th>\n",
       "      <th>contributing_factor_vehicle_3</th>\n",
       "      <th>contributing_factor_vehicle_4</th>\n",
       "      <th>contributing_factor_vehicle_5</th>\n",
       "      <th>cross_street_name</th>\n",
       "      <th>timestamp</th>\n",
       "      <th>latitude</th>\n",
       "      <th>longitude</th>\n",
       "      <th>...</th>\n",
       "      <th>number_of_persons_killed</th>\n",
       "      <th>off_street_name</th>\n",
       "      <th>on_street_name</th>\n",
       "      <th>unique_key</th>\n",
       "      <th>vehicle_type_code1</th>\n",
       "      <th>vehicle_type_code2</th>\n",
       "      <th>vehicle_type_code_3</th>\n",
       "      <th>vehicle_type_code_4</th>\n",
       "      <th>vehicle_type_code_5</th>\n",
       "      <th>zip_code</th>\n",
       "    </tr>\n",
       "  </thead>\n",
       "  <tbody>\n",
       "    <tr>\n",
       "      <th>0</th>\n",
       "      <td>QUEENS</td>\n",
       "      <td>Outside Car Distraction</td>\n",
       "      <td>Unspecified</td>\n",
       "      <td></td>\n",
       "      <td></td>\n",
       "      <td></td>\n",
       "      <td>GREENWAY SOUTH</td>\n",
       "      <td>2018-01-17 10:35:00+00:00</td>\n",
       "      <td>40.710400</td>\n",
       "      <td>-73.839740</td>\n",
       "      <td>...</td>\n",
       "      <td>0</td>\n",
       "      <td></td>\n",
       "      <td>UNION TURNPIKE</td>\n",
       "      <td>3830694</td>\n",
       "      <td>SPORT UTILITY / STATION WAGON</td>\n",
       "      <td>AM</td>\n",
       "      <td></td>\n",
       "      <td></td>\n",
       "      <td></td>\n",
       "      <td>11375</td>\n",
       "    </tr>\n",
       "    <tr>\n",
       "      <th>1</th>\n",
       "      <td>MANHATTAN</td>\n",
       "      <td>Fatigued/Drowsy</td>\n",
       "      <td>Other Vehicular</td>\n",
       "      <td></td>\n",
       "      <td></td>\n",
       "      <td></td>\n",
       "      <td>3 AVENUE</td>\n",
       "      <td>2015-05-08 17:30:00+00:00</td>\n",
       "      <td>40.780125</td>\n",
       "      <td>-73.953034</td>\n",
       "      <td>...</td>\n",
       "      <td>0</td>\n",
       "      <td></td>\n",
       "      <td>EAST 88 STREET</td>\n",
       "      <td>3216563</td>\n",
       "      <td>PASSENGER VEHICLE</td>\n",
       "      <td>MOTORCYCLE</td>\n",
       "      <td></td>\n",
       "      <td></td>\n",
       "      <td></td>\n",
       "      <td>10128</td>\n",
       "    </tr>\n",
       "    <tr>\n",
       "      <th>2</th>\n",
       "      <td>QUEENS</td>\n",
       "      <td>Driver Inattention/Distraction</td>\n",
       "      <td>Unspecified</td>\n",
       "      <td></td>\n",
       "      <td></td>\n",
       "      <td></td>\n",
       "      <td></td>\n",
       "      <td>2017-11-22 07:15:00+00:00</td>\n",
       "      <td>40.685524</td>\n",
       "      <td>-73.844600</td>\n",
       "      <td>...</td>\n",
       "      <td>0</td>\n",
       "      <td>99-08     97 STREET</td>\n",
       "      <td></td>\n",
       "      <td>3795174</td>\n",
       "      <td>PASSENGER VEHICLE</td>\n",
       "      <td>CONV</td>\n",
       "      <td></td>\n",
       "      <td></td>\n",
       "      <td></td>\n",
       "      <td>11416</td>\n",
       "    </tr>\n",
       "    <tr>\n",
       "      <th>3</th>\n",
       "      <td>BRONX</td>\n",
       "      <td>Turning Improperly</td>\n",
       "      <td>Unspecified</td>\n",
       "      <td></td>\n",
       "      <td></td>\n",
       "      <td></td>\n",
       "      <td>WESTCHESTER AVENUE</td>\n",
       "      <td>2017-12-05 07:30:00+00:00</td>\n",
       "      <td>40.832650</td>\n",
       "      <td>-73.863660</td>\n",
       "      <td>...</td>\n",
       "      <td>0</td>\n",
       "      <td></td>\n",
       "      <td>LELAND AVENUE</td>\n",
       "      <td>3803160</td>\n",
       "      <td>PASSENGER VEHICLE</td>\n",
       "      <td>BU</td>\n",
       "      <td></td>\n",
       "      <td></td>\n",
       "      <td></td>\n",
       "      <td>10472</td>\n",
       "    </tr>\n",
       "    <tr>\n",
       "      <th>4</th>\n",
       "      <td>BRONX</td>\n",
       "      <td>Driver Inattention/Distraction</td>\n",
       "      <td>Unspecified</td>\n",
       "      <td></td>\n",
       "      <td></td>\n",
       "      <td></td>\n",
       "      <td></td>\n",
       "      <td>2017-11-03 09:22:00+00:00</td>\n",
       "      <td>40.853233</td>\n",
       "      <td>-73.891750</td>\n",
       "      <td>...</td>\n",
       "      <td>0</td>\n",
       "      <td>4487      3 AVENUE</td>\n",
       "      <td></td>\n",
       "      <td>3794016</td>\n",
       "      <td>PASSENGER VEHICLE</td>\n",
       "      <td>TK</td>\n",
       "      <td></td>\n",
       "      <td></td>\n",
       "      <td></td>\n",
       "      <td>10457</td>\n",
       "    </tr>\n",
       "  </tbody>\n",
       "</table>\n",
       "<p>5 rows × 28 columns</p>\n",
       "</div>"
      ],
      "text/plain": [
       "     borough   contributing_factor_vehicle_1 contributing_factor_vehicle_2  \\\n",
       "0     QUEENS         Outside Car Distraction                   Unspecified   \n",
       "1  MANHATTAN                 Fatigued/Drowsy               Other Vehicular   \n",
       "2     QUEENS  Driver Inattention/Distraction                   Unspecified   \n",
       "3      BRONX              Turning Improperly                   Unspecified   \n",
       "4      BRONX  Driver Inattention/Distraction                   Unspecified   \n",
       "\n",
       "  contributing_factor_vehicle_3 contributing_factor_vehicle_4  \\\n",
       "0                                                               \n",
       "1                                                               \n",
       "2                                                               \n",
       "3                                                               \n",
       "4                                                               \n",
       "\n",
       "  contributing_factor_vehicle_5   cross_street_name                 timestamp  \\\n",
       "0                                    GREENWAY SOUTH 2018-01-17 10:35:00+00:00   \n",
       "1                                          3 AVENUE 2015-05-08 17:30:00+00:00   \n",
       "2                                                   2017-11-22 07:15:00+00:00   \n",
       "3                                WESTCHESTER AVENUE 2017-12-05 07:30:00+00:00   \n",
       "4                                                   2017-11-03 09:22:00+00:00   \n",
       "\n",
       "    latitude  longitude  ... number_of_persons_killed      off_street_name  \\\n",
       "0  40.710400 -73.839740  ...                        0                        \n",
       "1  40.780125 -73.953034  ...                        0                        \n",
       "2  40.685524 -73.844600  ...                        0  99-08     97 STREET   \n",
       "3  40.832650 -73.863660  ...                        0                        \n",
       "4  40.853233 -73.891750  ...                        0   4487      3 AVENUE   \n",
       "\n",
       "   on_street_name  unique_key             vehicle_type_code1  \\\n",
       "0  UNION TURNPIKE     3830694  SPORT UTILITY / STATION WAGON   \n",
       "1  EAST 88 STREET     3216563              PASSENGER VEHICLE   \n",
       "2                     3795174              PASSENGER VEHICLE   \n",
       "3   LELAND AVENUE     3803160              PASSENGER VEHICLE   \n",
       "4                     3794016              PASSENGER VEHICLE   \n",
       "\n",
       "   vehicle_type_code2  vehicle_type_code_3  vehicle_type_code_4  \\\n",
       "0                  AM                                             \n",
       "1          MOTORCYCLE                                             \n",
       "2                CONV                                             \n",
       "3                  BU                                             \n",
       "4                  TK                                             \n",
       "\n",
       "   vehicle_type_code_5 zip_code  \n",
       "0                         11375  \n",
       "1                         10128  \n",
       "2                         11416  \n",
       "3                         10472  \n",
       "4                         10457  \n",
       "\n",
       "[5 rows x 28 columns]"
      ]
     },
     "execution_count": 26,
     "metadata": {},
     "output_type": "execute_result"
    }
   ],
   "source": [
    "%%bigquery\n",
    "SELECT *\n",
    "FROM\n",
    "  `bigquery-public-data.new_york.nypd_mv_collisions`\n",
    "LIMIT 5"
   ]
  },
  {
   "cell_type": "code",
   "execution_count": 36,
   "metadata": {
    "ExecuteTime": {
     "end_time": "2020-08-04T20:38:52.140555Z",
     "start_time": "2020-08-04T20:37:20.524628Z"
    }
   },
   "outputs": [
    {
     "data": {
      "text/html": [
       "<div>\n",
       "<style scoped>\n",
       "    .dataframe tbody tr th:only-of-type {\n",
       "        vertical-align: middle;\n",
       "    }\n",
       "\n",
       "    .dataframe tbody tr th {\n",
       "        vertical-align: top;\n",
       "    }\n",
       "\n",
       "    .dataframe thead th {\n",
       "        text-align: right;\n",
       "    }\n",
       "</style>\n",
       "<table border=\"1\" class=\"dataframe\">\n",
       "  <thead>\n",
       "    <tr style=\"text-align: right;\">\n",
       "      <th></th>\n",
       "      <th>CRASH DATE</th>\n",
       "      <th>CRASH TIME</th>\n",
       "      <th>BOROUGH</th>\n",
       "      <th>ZIP CODE</th>\n",
       "      <th>LATITUDE</th>\n",
       "      <th>LONGITUDE</th>\n",
       "      <th>LOCATION</th>\n",
       "      <th>ON STREET NAME</th>\n",
       "      <th>CROSS STREET NAME</th>\n",
       "      <th>OFF STREET NAME</th>\n",
       "      <th>...</th>\n",
       "      <th>CONTRIBUTING FACTOR VEHICLE 2</th>\n",
       "      <th>CONTRIBUTING FACTOR VEHICLE 3</th>\n",
       "      <th>CONTRIBUTING FACTOR VEHICLE 4</th>\n",
       "      <th>CONTRIBUTING FACTOR VEHICLE 5</th>\n",
       "      <th>COLLISION_ID</th>\n",
       "      <th>VEHICLE TYPE CODE 1</th>\n",
       "      <th>VEHICLE TYPE CODE 2</th>\n",
       "      <th>VEHICLE TYPE CODE 3</th>\n",
       "      <th>VEHICLE TYPE CODE 4</th>\n",
       "      <th>VEHICLE TYPE CODE 5</th>\n",
       "    </tr>\n",
       "  </thead>\n",
       "  <tbody>\n",
       "    <tr>\n",
       "      <th>0</th>\n",
       "      <td>06/26/2017</td>\n",
       "      <td>22:00</td>\n",
       "      <td>MANHATTAN</td>\n",
       "      <td>10002.0</td>\n",
       "      <td>40.718270</td>\n",
       "      <td>-73.99072</td>\n",
       "      <td>POINT (-73.99072 40.71827)</td>\n",
       "      <td>ALLEN STREET</td>\n",
       "      <td>BROOME STREET</td>\n",
       "      <td>NaN</td>\n",
       "      <td>...</td>\n",
       "      <td>Unspecified</td>\n",
       "      <td>NaN</td>\n",
       "      <td>NaN</td>\n",
       "      <td>NaN</td>\n",
       "      <td>3699702</td>\n",
       "      <td>Station Wagon/Sport Utility Vehicle</td>\n",
       "      <td>Sedan</td>\n",
       "      <td>NaN</td>\n",
       "      <td>NaN</td>\n",
       "      <td>NaN</td>\n",
       "    </tr>\n",
       "    <tr>\n",
       "      <th>1</th>\n",
       "      <td>07/14/2017</td>\n",
       "      <td>13:17</td>\n",
       "      <td>NaN</td>\n",
       "      <td>NaN</td>\n",
       "      <td>40.783180</td>\n",
       "      <td>-73.94362</td>\n",
       "      <td>POINT (-73.94362 40.78318)</td>\n",
       "      <td>FDR DRIVE</td>\n",
       "      <td>NaN</td>\n",
       "      <td>NaN</td>\n",
       "      <td>...</td>\n",
       "      <td>Unspecified</td>\n",
       "      <td>NaN</td>\n",
       "      <td>NaN</td>\n",
       "      <td>NaN</td>\n",
       "      <td>3712558</td>\n",
       "      <td>Taxi</td>\n",
       "      <td>Sedan</td>\n",
       "      <td>NaN</td>\n",
       "      <td>NaN</td>\n",
       "      <td>NaN</td>\n",
       "    </tr>\n",
       "    <tr>\n",
       "      <th>2</th>\n",
       "      <td>07/04/2017</td>\n",
       "      <td>14:00</td>\n",
       "      <td>BRONX</td>\n",
       "      <td>10462.0</td>\n",
       "      <td>40.833557</td>\n",
       "      <td>-73.85774</td>\n",
       "      <td>POINT (-73.85774 40.833557)</td>\n",
       "      <td>WESTCHESTER AVENUE</td>\n",
       "      <td>PUGSLEY AVENUE</td>\n",
       "      <td>NaN</td>\n",
       "      <td>...</td>\n",
       "      <td>Unspecified</td>\n",
       "      <td>NaN</td>\n",
       "      <td>NaN</td>\n",
       "      <td>NaN</td>\n",
       "      <td>3705809</td>\n",
       "      <td>Sedan</td>\n",
       "      <td>Sedan</td>\n",
       "      <td>NaN</td>\n",
       "      <td>NaN</td>\n",
       "      <td>NaN</td>\n",
       "    </tr>\n",
       "    <tr>\n",
       "      <th>3</th>\n",
       "      <td>07/17/2017</td>\n",
       "      <td>21:03</td>\n",
       "      <td>MANHATTAN</td>\n",
       "      <td>10032.0</td>\n",
       "      <td>40.833843</td>\n",
       "      <td>-73.94851</td>\n",
       "      <td>POINT (-73.94851 40.833843)</td>\n",
       "      <td>RIVERSIDE DRIVE</td>\n",
       "      <td>WEST 155 STREET</td>\n",
       "      <td>NaN</td>\n",
       "      <td>...</td>\n",
       "      <td>NaN</td>\n",
       "      <td>NaN</td>\n",
       "      <td>NaN</td>\n",
       "      <td>NaN</td>\n",
       "      <td>3713274</td>\n",
       "      <td>Sedan</td>\n",
       "      <td>NaN</td>\n",
       "      <td>NaN</td>\n",
       "      <td>NaN</td>\n",
       "      <td>NaN</td>\n",
       "    </tr>\n",
       "    <tr>\n",
       "      <th>4</th>\n",
       "      <td>06/26/2017</td>\n",
       "      <td>15:35</td>\n",
       "      <td>BROOKLYN</td>\n",
       "      <td>11203.0</td>\n",
       "      <td>40.654434</td>\n",
       "      <td>-73.92139</td>\n",
       "      <td>POINT (-73.92139 40.654434)</td>\n",
       "      <td>REMSEN AVENUE</td>\n",
       "      <td>LINDEN BOULEVARD</td>\n",
       "      <td>NaN</td>\n",
       "      <td>...</td>\n",
       "      <td>Driver Inexperience</td>\n",
       "      <td>NaN</td>\n",
       "      <td>NaN</td>\n",
       "      <td>NaN</td>\n",
       "      <td>3702089</td>\n",
       "      <td>Station Wagon/Sport Utility Vehicle</td>\n",
       "      <td>Sedan</td>\n",
       "      <td>NaN</td>\n",
       "      <td>NaN</td>\n",
       "      <td>NaN</td>\n",
       "    </tr>\n",
       "  </tbody>\n",
       "</table>\n",
       "<p>5 rows × 29 columns</p>\n",
       "</div>"
      ],
      "text/plain": [
       "   CRASH DATE CRASH TIME    BOROUGH  ZIP CODE   LATITUDE  LONGITUDE  \\\n",
       "0  06/26/2017      22:00  MANHATTAN   10002.0  40.718270  -73.99072   \n",
       "1  07/14/2017      13:17        NaN       NaN  40.783180  -73.94362   \n",
       "2  07/04/2017      14:00      BRONX   10462.0  40.833557  -73.85774   \n",
       "3  07/17/2017      21:03  MANHATTAN   10032.0  40.833843  -73.94851   \n",
       "4  06/26/2017      15:35   BROOKLYN   11203.0  40.654434  -73.92139   \n",
       "\n",
       "                      LOCATION                    ON STREET NAME  \\\n",
       "0   POINT (-73.99072 40.71827)  ALLEN STREET                       \n",
       "1   POINT (-73.94362 40.78318)  FDR DRIVE                          \n",
       "2  POINT (-73.85774 40.833557)  WESTCHESTER AVENUE                 \n",
       "3  POINT (-73.94851 40.833843)  RIVERSIDE DRIVE                    \n",
       "4  POINT (-73.92139 40.654434)  REMSEN AVENUE                      \n",
       "\n",
       "  CROSS STREET NAME  OFF STREET NAME  ...  CONTRIBUTING FACTOR VEHICLE 2  \\\n",
       "0     BROOME STREET              NaN  ...                    Unspecified   \n",
       "1               NaN              NaN  ...                    Unspecified   \n",
       "2    PUGSLEY AVENUE              NaN  ...                    Unspecified   \n",
       "3   WEST 155 STREET              NaN  ...                            NaN   \n",
       "4  LINDEN BOULEVARD              NaN  ...            Driver Inexperience   \n",
       "\n",
       "   CONTRIBUTING FACTOR VEHICLE 3  CONTRIBUTING FACTOR VEHICLE 4  \\\n",
       "0                            NaN                            NaN   \n",
       "1                            NaN                            NaN   \n",
       "2                            NaN                            NaN   \n",
       "3                            NaN                            NaN   \n",
       "4                            NaN                            NaN   \n",
       "\n",
       "   CONTRIBUTING FACTOR VEHICLE 5  COLLISION_ID  \\\n",
       "0                            NaN       3699702   \n",
       "1                            NaN       3712558   \n",
       "2                            NaN       3705809   \n",
       "3                            NaN       3713274   \n",
       "4                            NaN       3702089   \n",
       "\n",
       "                   VEHICLE TYPE CODE 1  VEHICLE TYPE CODE 2  \\\n",
       "0  Station Wagon/Sport Utility Vehicle                Sedan   \n",
       "1                                 Taxi                Sedan   \n",
       "2                                Sedan                Sedan   \n",
       "3                                Sedan                  NaN   \n",
       "4  Station Wagon/Sport Utility Vehicle                Sedan   \n",
       "\n",
       "   VEHICLE TYPE CODE 3 VEHICLE TYPE CODE 4 VEHICLE TYPE CODE 5  \n",
       "0                  NaN                 NaN                 NaN  \n",
       "1                  NaN                 NaN                 NaN  \n",
       "2                  NaN                 NaN                 NaN  \n",
       "3                  NaN                 NaN                 NaN  \n",
       "4                  NaN                 NaN                 NaN  \n",
       "\n",
       "[5 rows x 29 columns]"
      ]
     },
     "execution_count": 36,
     "metadata": {},
     "output_type": "execute_result"
    }
   ],
   "source": [
    "url = \"https://data.cityofnewyork.us/api/views/h9gi-nx95/rows.csv?accessType=DOWNLOAD\"\n",
    "\n",
    "df = pd.read_csv(url,nrows=5)\n",
    "df.head()"
   ]
  },
  {
   "cell_type": "code",
   "execution_count": null,
   "metadata": {},
   "outputs": [],
   "source": []
  }
 ],
 "metadata": {
  "kernelspec": {
   "display_name": "Python (dataSc)",
   "language": "python",
   "name": "datasc"
  },
  "language_info": {
   "codemirror_mode": {
    "name": "ipython",
    "version": 3
   },
   "file_extension": ".py",
   "mimetype": "text/x-python",
   "name": "python",
   "nbconvert_exporter": "python",
   "pygments_lexer": "ipython3",
   "version": "3.7.7"
  },
  "toc": {
   "base_numbering": 1,
   "nav_menu": {},
   "number_sections": true,
   "sideBar": true,
   "skip_h1_title": false,
   "title_cell": "Table of Contents",
   "title_sidebar": "Contents",
   "toc_cell": true,
   "toc_position": {},
   "toc_section_display": true,
   "toc_window_display": true
  },
  "varInspector": {
   "cols": {
    "lenName": 16,
    "lenType": 16,
    "lenVar": 40
   },
   "kernels_config": {
    "python": {
     "delete_cmd_postfix": "",
     "delete_cmd_prefix": "del ",
     "library": "var_list.py",
     "varRefreshCmd": "print(var_dic_list())"
    },
    "r": {
     "delete_cmd_postfix": ") ",
     "delete_cmd_prefix": "rm(",
     "library": "var_list.r",
     "varRefreshCmd": "cat(var_dic_list()) "
    }
   },
   "types_to_exclude": [
    "module",
    "function",
    "builtin_function_or_method",
    "instance",
    "_Feature"
   ],
   "window_display": false
  }
 },
 "nbformat": 4,
 "nbformat_minor": 4
}
