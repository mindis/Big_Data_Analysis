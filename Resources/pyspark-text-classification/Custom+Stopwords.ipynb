{
 "cells": [
  {
   "cell_type": "code",
   "execution_count": 18,
   "metadata": {
    "collapsed": false
   },
   "outputs": [
    {
     "name": "stdout",
     "output_type": "stream",
     "text": [
      "+---+-----------------------------------------------------------+-----------------------------+\n",
      "|id |raw                                                        |filtered                     |\n",
      "+---+-----------------------------------------------------------+-----------------------------+\n",
      "|0  |[Text, with, some, stopwords, like, is, are, an, the, etc.]|[Text, stopwords, like, etc.]|\n",
      "+---+-----------------------------------------------------------+-----------------------------+\n",
      "\n",
      "+---+-----------------------------------------------------------+-----------------+\n",
      "|id |raw                                                        |filtered         |\n",
      "+---+-----------------------------------------------------------+-----------------+\n",
      "|0  |[Text, with, some, stopwords, like, is, are, an, the, etc.]|[Text, stopwords]|\n",
      "+---+-----------------------------------------------------------+-----------------+\n",
      "\n"
     ]
    }
   ],
   "source": [
    "from pyspark.context import SparkContext\n",
    "from pyspark.sql.session import SparkSession\n",
    "from pyspark.ml.feature import StopWordsRemover\n",
    "\n",
    "#sc = SparkContext('local')\n",
    "spark = SparkSession(sc)\n",
    "\n",
    "sent_1 = \"Text with some stopwords like is are an the etc.\"\n",
    "\n",
    "sentenceData = spark.createDataFrame([\n",
    "    (0, sent_1.split(\" \"))\n",
    "], [\"id\", \"raw\"])\n",
    "\n",
    "remover = StopWordsRemover(inputCol=\"raw\", outputCol=\"filtered\")\n",
    "remover.transform(sentenceData).show(truncate=False)\n",
    "\n",
    "custom_stopwords_list = [\"etc.\",\"like\"]\n",
    "updated_stopwords_list = remover.getStopWords() + custom_stopword_list\n",
    "remover_custom = StopWordsRemover(inputCol=\"raw\", outputCol=\"filtered\", stopWords=updated_stopwords_list)\n",
    "remover_custom.transform(sentenceData).show(truncate=False)\n",
    "\n"
   ]
  },
  {
   "cell_type": "code",
   "execution_count": null,
   "metadata": {
    "collapsed": true
   },
   "outputs": [],
   "source": []
  },
  {
   "cell_type": "code",
   "execution_count": null,
   "metadata": {
    "collapsed": true
   },
   "outputs": [],
   "source": []
  }
 ],
 "metadata": {
  "anaconda-cloud": {},
  "kernelspec": {
   "display_name": "Python [default]",
   "language": "python",
   "name": "python2"
  },
  "language_info": {
   "codemirror_mode": {
    "name": "ipython",
    "version": 2
   },
   "file_extension": ".py",
   "mimetype": "text/x-python",
   "name": "python",
   "nbconvert_exporter": "python",
   "pygments_lexer": "ipython2",
   "version": "2.7.12"
  }
 },
 "nbformat": 4,
 "nbformat_minor": 1
}
