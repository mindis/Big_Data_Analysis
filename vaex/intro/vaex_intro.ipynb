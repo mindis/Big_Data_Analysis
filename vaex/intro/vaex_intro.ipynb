{
 "cells": [
  {
   "cell_type": "markdown",
   "metadata": {
    "toc": true
   },
   "source": [
    "<h1>Table of Contents<span class=\"tocSkip\"></span></h1>\n",
    "<div class=\"toc\"><ul class=\"toc-item\"><li><span><a href=\"#Vaex-example-data\" data-toc-modified-id=\"Vaex-example-data-1\"><span class=\"toc-item-num\">1&nbsp;&nbsp;</span>Vaex example data</a></span></li><li><span><a href=\"#Virtual-Functions\" data-toc-modified-id=\"Virtual-Functions-2\"><span class=\"toc-item-num\">2&nbsp;&nbsp;</span>Virtual Functions</a></span></li><li><span><a href=\"#Selections-and-Filterings\" data-toc-modified-id=\"Selections-and-Filterings-3\"><span class=\"toc-item-num\">3&nbsp;&nbsp;</span>Selections and Filterings</a></span></li><li><span><a href=\"#Statistics\" data-toc-modified-id=\"Statistics-4\"><span class=\"toc-item-num\">4&nbsp;&nbsp;</span>Statistics</a></span></li></ul></div>"
   ]
  },
  {
   "cell_type": "code",
   "execution_count": 1,
   "metadata": {
    "ExecuteTime": {
     "end_time": "2020-01-28T01:07:22.180576Z",
     "start_time": "2020-01-28T01:07:20.220233Z"
    }
   },
   "outputs": [],
   "source": [
    "import numpy as np\n",
    "import pandas as pd\n",
    "\n",
    "import seaborn as sns\n",
    "import bqplot\n",
    "import matplotlib.pyplot as plt\n",
    "\n",
    "plt.style.use('ggplot')\n",
    "%matplotlib inline"
   ]
  },
  {
   "cell_type": "code",
   "execution_count": 11,
   "metadata": {
    "ExecuteTime": {
     "end_time": "2020-01-28T01:11:11.146536Z",
     "start_time": "2020-01-28T01:11:11.129272Z"
    }
   },
   "outputs": [
    {
     "data": {
      "text/plain": [
       "'1.0.0-beta.6'"
      ]
     },
     "execution_count": 11,
     "metadata": {},
     "output_type": "execute_result"
    }
   ],
   "source": [
    "import vaex\n",
    "\n",
    "vaex.__version__"
   ]
  },
  {
   "cell_type": "markdown",
   "metadata": {
    "ExecuteTime": {
     "end_time": "2020-01-28T01:04:37.867842Z",
     "start_time": "2020-01-28T01:04:37.132203Z"
    }
   },
   "source": [
    "# Vaex example data"
   ]
  },
  {
   "cell_type": "code",
   "execution_count": 3,
   "metadata": {
    "ExecuteTime": {
     "end_time": "2020-01-28T01:07:24.416371Z",
     "start_time": "2020-01-28T01:07:24.172835Z"
    }
   },
   "outputs": [
    {
     "data": {
      "text/html": [
       "<table>\n",
       "<thead>\n",
       "<tr><th>#                            </th><th style=\"text-align: right;\">        E</th><th style=\"text-align: right;\">      FeH</th><th style=\"text-align: right;\">       L</th><th style=\"text-align: right;\">      Lz</th><th style=\"text-align: right;\">    random_index</th><th style=\"text-align: right;\">         vx</th><th style=\"text-align: right;\">       vy</th><th style=\"text-align: right;\">        vz</th><th style=\"text-align: right;\">         x</th><th style=\"text-align: right;\">        y</th><th style=\"text-align: right;\">        z</th></tr>\n",
       "</thead>\n",
       "<tbody>\n",
       "<tr><td><i style='opacity: 0.6'>0</i></td><td style=\"text-align: right;\">-121238  </td><td style=\"text-align: right;\">-2.30923 </td><td style=\"text-align: right;\"> 831.08 </td><td style=\"text-align: right;\">-336.427</td><td style=\"text-align: right;\">     1.51165e+06</td><td style=\"text-align: right;\">  53.2767  </td><td style=\"text-align: right;\"> 288.386 </td><td style=\"text-align: right;\"> -95.2649 </td><td style=\"text-align: right;\"> -0.777471</td><td style=\"text-align: right;\"> 2.10626 </td><td style=\"text-align: right;\"> 1.93743 </td></tr>\n",
       "<tr><td><i style='opacity: 0.6'>1</i></td><td style=\"text-align: right;\">-100820  </td><td style=\"text-align: right;\">-1.78874 </td><td style=\"text-align: right;\">1435.18 </td><td style=\"text-align: right;\">-828.757</td><td style=\"text-align: right;\">     2.72866e+06</td><td style=\"text-align: right;\"> 252.811   </td><td style=\"text-align: right;\"> -69.9498</td><td style=\"text-align: right;\"> -56.3121 </td><td style=\"text-align: right;\">  3.77427 </td><td style=\"text-align: right;\"> 2.23387 </td><td style=\"text-align: right;\"> 3.76209 </td></tr>\n",
       "<tr><td><i style='opacity: 0.6'>2</i></td><td style=\"text-align: right;\">-100560  </td><td style=\"text-align: right;\">-0.761811</td><td style=\"text-align: right;\">1039.3  </td><td style=\"text-align: right;\"> 920.802</td><td style=\"text-align: right;\">     1.20263e+06</td><td style=\"text-align: right;\">  96.2765  </td><td style=\"text-align: right;\"> 226.44  </td><td style=\"text-align: right;\"> -34.7527 </td><td style=\"text-align: right;\">  1.37576 </td><td style=\"text-align: right;\">-6.32838 </td><td style=\"text-align: right;\"> 2.6325  </td></tr>\n",
       "<tr><td><i style='opacity: 0.6'>3</i></td><td style=\"text-align: right;\"> -70174.9</td><td style=\"text-align: right;\">-1.52088 </td><td style=\"text-align: right;\">2441.72 </td><td style=\"text-align: right;\">1183.59 </td><td style=\"text-align: right;\">     1.0205e+06 </td><td style=\"text-align: right;\"> 204.969   </td><td style=\"text-align: right;\">-205.679 </td><td style=\"text-align: right;\"> -58.9777 </td><td style=\"text-align: right;\"> -7.06738 </td><td style=\"text-align: right;\"> 1.31738 </td><td style=\"text-align: right;\">-6.10544 </td></tr>\n",
       "<tr><td><i style='opacity: 0.6'>4</i></td><td style=\"text-align: right;\">-144139  </td><td style=\"text-align: right;\">-2.65534 </td><td style=\"text-align: right;\"> 374.816</td><td style=\"text-align: right;\">-314.535</td><td style=\"text-align: right;\">     3.15482e+06</td><td style=\"text-align: right;\">-311.742   </td><td style=\"text-align: right;\">-238.412 </td><td style=\"text-align: right;\"> 186.824  </td><td style=\"text-align: right;\">  0.243441</td><td style=\"text-align: right;\">-0.822782</td><td style=\"text-align: right;\">-0.206594</td></tr>\n",
       "<tr><td><i style='opacity: 0.6'>5</i></td><td style=\"text-align: right;\">-100302  </td><td style=\"text-align: right;\">-1.61908 </td><td style=\"text-align: right;\">1687.46 </td><td style=\"text-align: right;\">-529.641</td><td style=\"text-align: right;\">     2.90904e+06</td><td style=\"text-align: right;\"> 104.11    </td><td style=\"text-align: right;\"> -55.194 </td><td style=\"text-align: right;\"> 150.262  </td><td style=\"text-align: right;\"> -5.17174 </td><td style=\"text-align: right;\"> 7.82915 </td><td style=\"text-align: right;\"> 1.82669 </td></tr>\n",
       "<tr><td><i style='opacity: 0.6'>6</i></td><td style=\"text-align: right;\"> -80560.7</td><td style=\"text-align: right;\">-2.56015 </td><td style=\"text-align: right;\"> 476.89 </td><td style=\"text-align: right;\">-420.012</td><td style=\"text-align: right;\">226546          </td><td style=\"text-align: right;\">  -0.510219</td><td style=\"text-align: right;\">  26.5112</td><td style=\"text-align: right;\">  -7.00457</td><td style=\"text-align: right;\">-15.9539  </td><td style=\"text-align: right;\"> 5.77126 </td><td style=\"text-align: right;\">-9.02472 </td></tr>\n",
       "<tr><td><i style='opacity: 0.6'>7</i></td><td style=\"text-align: right;\"> -99240.9</td><td style=\"text-align: right;\">-1.63861 </td><td style=\"text-align: right;\"> 852.243</td><td style=\"text-align: right;\"> 252.836</td><td style=\"text-align: right;\">358186          </td><td style=\"text-align: right;\">  -3.92174 </td><td style=\"text-align: right;\"> 240.036 </td><td style=\"text-align: right;\">-256.749  </td><td style=\"text-align: right;\">  1.05089 </td><td style=\"text-align: right;\"> 0.148724</td><td style=\"text-align: right;\"> 3.05692 </td></tr>\n",
       "<tr><td><i style='opacity: 0.6'>8</i></td><td style=\"text-align: right;\"> -99924.7</td><td style=\"text-align: right;\">-1.051   </td><td style=\"text-align: right;\">1406.84 </td><td style=\"text-align: right;\"> 886.529</td><td style=\"text-align: right;\">     1.23878e+06</td><td style=\"text-align: right;\"> -38.9771  </td><td style=\"text-align: right;\">  78.8494</td><td style=\"text-align: right;\"> 105.413  </td><td style=\"text-align: right;\"> 11.0414  </td><td style=\"text-align: right;\"> 0.408391</td><td style=\"text-align: right;\">-2.53974 </td></tr>\n",
       "<tr><td><i style='opacity: 0.6'>9</i></td><td style=\"text-align: right;\"> -78041.8</td><td style=\"text-align: right;\">-0.838702</td><td style=\"text-align: right;\"> 842.849</td><td style=\"text-align: right;\"> 807.236</td><td style=\"text-align: right;\">     1.43722e+06</td><td style=\"text-align: right;\"> -75.7314  </td><td style=\"text-align: right;\">  19.9047</td><td style=\"text-align: right;\"> -22.136  </td><td style=\"text-align: right;\">-12.3995  </td><td style=\"text-align: right;\">13.9182  </td><td style=\"text-align: right;\">-5.43482 </td></tr>\n",
       "</tbody>\n",
       "</table>"
      ],
      "text/plain": [
       "  #          E        FeH         L        Lz      random_index           vx         vy          vz           x          y          z\n",
       "  0  -121238    -2.30923    831.08   -336.427       1.51165e+06    53.2767     288.386    -95.2649    -0.777471   2.10626    1.93743\n",
       "  1  -100820    -1.78874   1435.18   -828.757       2.72866e+06   252.811      -69.9498   -56.3121     3.77427    2.23387    3.76209\n",
       "  2  -100560    -0.761811  1039.3     920.802       1.20263e+06    96.2765     226.44     -34.7527     1.37576   -6.32838    2.6325\n",
       "  3   -70174.9  -1.52088   2441.72   1183.59        1.0205e+06    204.969     -205.679    -58.9777    -7.06738    1.31738   -6.10544\n",
       "  4  -144139    -2.65534    374.816  -314.535       3.15482e+06  -311.742     -238.412    186.824      0.243441  -0.822782  -0.206594\n",
       "  5  -100302    -1.61908   1687.46   -529.641       2.90904e+06   104.11       -55.194    150.262     -5.17174    7.82915    1.82669\n",
       "  6   -80560.7  -2.56015    476.89   -420.012  226546              -0.510219    26.5112    -7.00457  -15.9539     5.77126   -9.02472\n",
       "  7   -99240.9  -1.63861    852.243   252.836  358186              -3.92174    240.036   -256.749      1.05089    0.148724   3.05692\n",
       "  8   -99924.7  -1.051     1406.84    886.529       1.23878e+06   -38.9771      78.8494   105.413     11.0414     0.408391  -2.53974\n",
       "  9   -78041.8  -0.838702   842.849   807.236       1.43722e+06   -75.7314      19.9047   -22.136    -12.3995    13.9182    -5.43482"
      ]
     },
     "execution_count": 3,
     "metadata": {},
     "output_type": "execute_result"
    }
   ],
   "source": [
    "df = vaex.example()\n",
    "\n",
    "df.head()"
   ]
  },
  {
   "cell_type": "code",
   "execution_count": 6,
   "metadata": {
    "ExecuteTime": {
     "end_time": "2020-01-28T01:08:48.833956Z",
     "start_time": "2020-01-28T01:08:46.407364Z"
    }
   },
   "outputs": [],
   "source": [
    "from bhishan import bp"
   ]
  },
  {
   "cell_type": "code",
   "execution_count": 8,
   "metadata": {
    "ExecuteTime": {
     "end_time": "2020-01-28T01:09:24.426667Z",
     "start_time": "2020-01-28T01:09:24.179782Z"
    }
   },
   "outputs": [
    {
     "name": "stdout",
     "output_type": "stream",
     "text": [
      "Object Type: <class 'vaex.hdf5.dataset.Hdf5MemoryMapped'>\n",
      "\n"
     ]
    },
    {
     "data": {
      "text/html": [
       "<div>\n",
       "<style scoped>\n",
       "    .dataframe tbody tr th:only-of-type {\n",
       "        vertical-align: middle;\n",
       "    }\n",
       "\n",
       "    .dataframe tbody tr th {\n",
       "        vertical-align: top;\n",
       "    }\n",
       "\n",
       "    .dataframe thead th {\n",
       "        text-align: right;\n",
       "    }\n",
       "</style>\n",
       "<table border=\"1\" class=\"dataframe\">\n",
       "  <thead>\n",
       "    <tr style=\"text-align: right;\">\n",
       "      <th></th>\n",
       "      <th>0</th>\n",
       "      <th>1</th>\n",
       "      <th>2</th>\n",
       "      <th>3</th>\n",
       "    </tr>\n",
       "  </thead>\n",
       "  <tbody>\n",
       "    <tr>\n",
       "      <td>0</td>\n",
       "      <td>E</td>\n",
       "      <td>dtypes</td>\n",
       "      <td>length_original</td>\n",
       "      <td>selected_serie_index</td>\n",
       "    </tr>\n",
       "    <tr>\n",
       "      <td>1</td>\n",
       "      <td>FeH</td>\n",
       "      <td>echo</td>\n",
       "      <td>length_unfiltered</td>\n",
       "      <td>selection_can_redo</td>\n",
       "    </tr>\n",
       "    <tr>\n",
       "      <td>2</td>\n",
       "      <td>L</td>\n",
       "      <td>evaluate</td>\n",
       "      <td>limits</td>\n",
       "      <td>selection_can_undo</td>\n",
       "    </tr>\n",
       "    <tr>\n",
       "      <td>3</td>\n",
       "      <td>Lz</td>\n",
       "      <td>evaluate_selection_mask</td>\n",
       "      <td>limits_percentage</td>\n",
       "      <td>selection_histories</td>\n",
       "    </tr>\n",
       "    <tr>\n",
       "      <td>4</td>\n",
       "      <td>active_length</td>\n",
       "      <td>evaluate_variable</td>\n",
       "      <td>map_reduce</td>\n",
       "      <td>selection_history_indices</td>\n",
       "    </tr>\n",
       "    <tr>\n",
       "      <td>5</td>\n",
       "      <td>addAxis</td>\n",
       "      <td>execute</td>\n",
       "      <td>mapping</td>\n",
       "      <td>selection_redo</td>\n",
       "    </tr>\n",
       "    <tr>\n",
       "      <td>6</td>\n",
       "      <td>addColumn</td>\n",
       "      <td>executor</td>\n",
       "      <td>mapping_map</td>\n",
       "      <td>selection_undo</td>\n",
       "    </tr>\n",
       "    <tr>\n",
       "      <td>7</td>\n",
       "      <td>addFile</td>\n",
       "      <td>export</td>\n",
       "      <td>mask</td>\n",
       "      <td>serie_index_selection_listeners</td>\n",
       "    </tr>\n",
       "    <tr>\n",
       "      <td>8</td>\n",
       "      <td>addRank1</td>\n",
       "      <td>export_arrow</td>\n",
       "      <td>matches_url</td>\n",
       "      <td>set_active_fraction</td>\n",
       "    </tr>\n",
       "    <tr>\n",
       "      <td>9</td>\n",
       "      <td>add_column</td>\n",
       "      <td>export_fits</td>\n",
       "      <td>materialize</td>\n",
       "      <td>set_active_range</td>\n",
       "    </tr>\n",
       "    <tr>\n",
       "      <td>10</td>\n",
       "      <td>add_columns</td>\n",
       "      <td>export_hdf5</td>\n",
       "      <td>max</td>\n",
       "      <td>set_auto_fraction</td>\n",
       "    </tr>\n",
       "    <tr>\n",
       "      <td>11</td>\n",
       "      <td>add_function</td>\n",
       "      <td>export_parquet</td>\n",
       "      <td>mean</td>\n",
       "      <td>set_current_row</td>\n",
       "    </tr>\n",
       "    <tr>\n",
       "      <td>12</td>\n",
       "      <td>add_variable</td>\n",
       "      <td>extract</td>\n",
       "      <td>median_approx</td>\n",
       "      <td>set_selection</td>\n",
       "    </tr>\n",
       "    <tr>\n",
       "      <td>13</td>\n",
       "      <td>add_virtual_column</td>\n",
       "      <td>favorite_selections</td>\n",
       "      <td>min</td>\n",
       "      <td>set_variable</td>\n",
       "    </tr>\n",
       "    <tr>\n",
       "      <td>14</td>\n",
       "      <td>all_column_names</td>\n",
       "      <td>file</td>\n",
       "      <td>minmax</td>\n",
       "      <td>shallow_copy</td>\n",
       "    </tr>\n",
       "    <tr>\n",
       "      <td>15</td>\n",
       "      <td>all_columns</td>\n",
       "      <td>file_map</td>\n",
       "      <td>ml</td>\n",
       "      <td>signal_active_fraction_changed</td>\n",
       "    </tr>\n",
       "    <tr>\n",
       "      <td>16</td>\n",
       "      <td>apply</td>\n",
       "      <td>filename</td>\n",
       "      <td>mode</td>\n",
       "      <td>signal_column_changed</td>\n",
       "    </tr>\n",
       "    <tr>\n",
       "      <td>17</td>\n",
       "      <td>astro</td>\n",
       "      <td>filenames</td>\n",
       "      <td>mutual_information</td>\n",
       "      <td>signal_pick</td>\n",
       "    </tr>\n",
       "    <tr>\n",
       "      <td>18</td>\n",
       "      <td>axes</td>\n",
       "      <td>fileno</td>\n",
       "      <td>nColumns</td>\n",
       "      <td>signal_selection_changed</td>\n",
       "    </tr>\n",
       "    <tr>\n",
       "      <td>19</td>\n",
       "      <td>axis_names</td>\n",
       "      <td>fileno_map</td>\n",
       "      <td>name</td>\n",
       "      <td>signal_sequence_index_change</td>\n",
       "    </tr>\n",
       "    <tr>\n",
       "      <td>20</td>\n",
       "      <td>bin_centers</td>\n",
       "      <td>fillna</td>\n",
       "      <td>nbytes</td>\n",
       "      <td>signal_variable_changed</td>\n",
       "    </tr>\n",
       "    <tr>\n",
       "      <td>21</td>\n",
       "      <td>bin_edges</td>\n",
       "      <td>filtered</td>\n",
       "      <td>nearest_bin</td>\n",
       "      <td>sort</td>\n",
       "    </tr>\n",
       "    <tr>\n",
       "      <td>22</td>\n",
       "      <td>binby</td>\n",
       "      <td>first</td>\n",
       "      <td>nommap</td>\n",
       "      <td>split</td>\n",
       "    </tr>\n",
       "    <tr>\n",
       "      <td>23</td>\n",
       "      <td>bins</td>\n",
       "      <td>fraction</td>\n",
       "      <td>nop</td>\n",
       "      <td>split_random</td>\n",
       "    </tr>\n",
       "    <tr>\n",
       "      <td>24</td>\n",
       "      <td>byte_size</td>\n",
       "      <td>func</td>\n",
       "      <td>offsets</td>\n",
       "      <td>state_get</td>\n",
       "    </tr>\n",
       "    <tr>\n",
       "      <td>25</td>\n",
       "      <td>can_open</td>\n",
       "      <td>functions</td>\n",
       "      <td>option_to_args</td>\n",
       "      <td>state_load</td>\n",
       "    </tr>\n",
       "    <tr>\n",
       "      <td>26</td>\n",
       "      <td>cat</td>\n",
       "      <td>geo</td>\n",
       "      <td>ordinal_encode</td>\n",
       "      <td>state_set</td>\n",
       "    </tr>\n",
       "    <tr>\n",
       "      <td>27</td>\n",
       "      <td>categorize</td>\n",
       "      <td>get_active_fraction</td>\n",
       "      <td>path</td>\n",
       "      <td>state_write</td>\n",
       "    </tr>\n",
       "    <tr>\n",
       "      <td>28</td>\n",
       "      <td>category_count</td>\n",
       "      <td>get_active_range</td>\n",
       "      <td>percentile_approx</td>\n",
       "      <td>std</td>\n",
       "    </tr>\n",
       "    <tr>\n",
       "      <td>29</td>\n",
       "      <td>category_labels</td>\n",
       "      <td>get_auto_fraction</td>\n",
       "      <td>plot</td>\n",
       "      <td>strides</td>\n",
       "    </tr>\n",
       "    <tr>\n",
       "      <td>30</td>\n",
       "      <td>category_values</td>\n",
       "      <td>get_column_names</td>\n",
       "      <td>plot1d</td>\n",
       "      <td>sum</td>\n",
       "    </tr>\n",
       "    <tr>\n",
       "      <td>31</td>\n",
       "      <td>close</td>\n",
       "      <td>get_current_row</td>\n",
       "      <td>plot2d_contour</td>\n",
       "      <td>tail</td>\n",
       "    </tr>\n",
       "    <tr>\n",
       "      <td>32</td>\n",
       "      <td>close_files</td>\n",
       "      <td>get_options</td>\n",
       "      <td>plot2d_tensor</td>\n",
       "      <td>take</td>\n",
       "    </tr>\n",
       "    <tr>\n",
       "      <td>33</td>\n",
       "      <td>col</td>\n",
       "      <td>get_path</td>\n",
       "      <td>plot2d_vector</td>\n",
       "      <td>to_arrow_table</td>\n",
       "    </tr>\n",
       "    <tr>\n",
       "      <td>34</td>\n",
       "      <td>column_count</td>\n",
       "      <td>get_private_dir</td>\n",
       "      <td>plot3d</td>\n",
       "      <td>to_astropy_table</td>\n",
       "    </tr>\n",
       "    <tr>\n",
       "      <td>35</td>\n",
       "      <td>column_names</td>\n",
       "      <td>get_selection</td>\n",
       "      <td>plot_bq</td>\n",
       "      <td>to_copy</td>\n",
       "    </tr>\n",
       "    <tr>\n",
       "      <td>36</td>\n",
       "      <td>columns</td>\n",
       "      <td>get_variable</td>\n",
       "      <td>plot_widget</td>\n",
       "      <td>to_dict</td>\n",
       "    </tr>\n",
       "    <tr>\n",
       "      <td>37</td>\n",
       "      <td>combinations</td>\n",
       "      <td>global_links</td>\n",
       "      <td>propagate_uncertainties</td>\n",
       "      <td>to_items</td>\n",
       "    </tr>\n",
       "    <tr>\n",
       "      <td>38</td>\n",
       "      <td>compare</td>\n",
       "      <td>graphql</td>\n",
       "      <td>random_index</td>\n",
       "      <td>to_pandas_df</td>\n",
       "    </tr>\n",
       "    <tr>\n",
       "      <td>39</td>\n",
       "      <td>concat</td>\n",
       "      <td>groupby</td>\n",
       "      <td>rank1names</td>\n",
       "      <td>trim</td>\n",
       "    </tr>\n",
       "    <tr>\n",
       "      <td>40</td>\n",
       "      <td>copy</td>\n",
       "      <td>h5file</td>\n",
       "      <td>rank1s</td>\n",
       "      <td>ucd_find</td>\n",
       "    </tr>\n",
       "    <tr>\n",
       "      <td>41</td>\n",
       "      <td>copy_metadata</td>\n",
       "      <td>h5table_root_name</td>\n",
       "      <td>remove_virtual_meta</td>\n",
       "      <td>ucds</td>\n",
       "    </tr>\n",
       "    <tr>\n",
       "      <td>42</td>\n",
       "      <td>correlation</td>\n",
       "      <td>has_current_row</td>\n",
       "      <td>rename_column</td>\n",
       "      <td>unique</td>\n",
       "    </tr>\n",
       "    <tr>\n",
       "      <td>43</td>\n",
       "      <td>count</td>\n",
       "      <td>has_selection</td>\n",
       "      <td>row_selection_listeners</td>\n",
       "      <td>unit</td>\n",
       "    </tr>\n",
       "    <tr>\n",
       "      <td>44</td>\n",
       "      <td>cov</td>\n",
       "      <td>has_snapshots</td>\n",
       "      <td>samp_id</td>\n",
       "      <td>units</td>\n",
       "    </tr>\n",
       "    <tr>\n",
       "      <td>45</td>\n",
       "      <td>covar</td>\n",
       "      <td>head</td>\n",
       "      <td>sample</td>\n",
       "      <td>validate_expression</td>\n",
       "    </tr>\n",
       "    <tr>\n",
       "      <td>46</td>\n",
       "      <td>create</td>\n",
       "      <td>head_and_tail_print</td>\n",
       "      <td>scatter</td>\n",
       "      <td>var</td>\n",
       "    </tr>\n",
       "    <tr>\n",
       "      <td>47</td>\n",
       "      <td>current_slice</td>\n",
       "      <td>healpix_count</td>\n",
       "      <td>select</td>\n",
       "      <td>variables</td>\n",
       "    </tr>\n",
       "    <tr>\n",
       "      <td>48</td>\n",
       "      <td>data</td>\n",
       "      <td>healpix_plot</td>\n",
       "      <td>selectSerieIndex</td>\n",
       "      <td>virtual_columns</td>\n",
       "    </tr>\n",
       "    <tr>\n",
       "      <td>49</td>\n",
       "      <td>delete_variable</td>\n",
       "      <td>info</td>\n",
       "      <td>select_box</td>\n",
       "      <td>viz</td>\n",
       "    </tr>\n",
       "    <tr>\n",
       "      <td>50</td>\n",
       "      <td>delete_virtual_column</td>\n",
       "      <td>is_category</td>\n",
       "      <td>select_circle</td>\n",
       "      <td>vx</td>\n",
       "    </tr>\n",
       "    <tr>\n",
       "      <td>51</td>\n",
       "      <td>describe</td>\n",
       "      <td>is_datetime</td>\n",
       "      <td>select_ellipse</td>\n",
       "      <td>vy</td>\n",
       "    </tr>\n",
       "    <tr>\n",
       "      <td>52</td>\n",
       "      <td>description</td>\n",
       "      <td>is_local</td>\n",
       "      <td>select_inverse</td>\n",
       "      <td>vz</td>\n",
       "    </tr>\n",
       "    <tr>\n",
       "      <td>53</td>\n",
       "      <td>descriptions</td>\n",
       "      <td>is_masked</td>\n",
       "      <td>select_lasso</td>\n",
       "      <td>widget</td>\n",
       "    </tr>\n",
       "    <tr>\n",
       "      <td>54</td>\n",
       "      <td>drop</td>\n",
       "      <td>iterrows</td>\n",
       "      <td>select_non_missing</td>\n",
       "      <td>write</td>\n",
       "    </tr>\n",
       "    <tr>\n",
       "      <td>55</td>\n",
       "      <td>dropmissing</td>\n",
       "      <td>join</td>\n",
       "      <td>select_nothing</td>\n",
       "      <td>write_meta</td>\n",
       "    </tr>\n",
       "    <tr>\n",
       "      <td>56</td>\n",
       "      <td>dropna</td>\n",
       "      <td>label</td>\n",
       "      <td>select_rectangle</td>\n",
       "      <td>x</td>\n",
       "    </tr>\n",
       "    <tr>\n",
       "      <td>57</td>\n",
       "      <td>dropnan</td>\n",
       "      <td>label_encode</td>\n",
       "      <td>selected_length</td>\n",
       "      <td>y</td>\n",
       "    </tr>\n",
       "    <tr>\n",
       "      <td>58</td>\n",
       "      <td>dtype</td>\n",
       "      <td>length</td>\n",
       "      <td>selected_row_index</td>\n",
       "      <td>z</td>\n",
       "    </tr>\n",
       "  </tbody>\n",
       "</table>\n",
       "</div>"
      ],
      "text/plain": [
       "                        0                        1                        2  \\\n",
       "0                       E                   dtypes          length_original   \n",
       "1                     FeH                     echo        length_unfiltered   \n",
       "2                       L                 evaluate                   limits   \n",
       "3                      Lz  evaluate_selection_mask        limits_percentage   \n",
       "4           active_length        evaluate_variable               map_reduce   \n",
       "5                 addAxis                  execute                  mapping   \n",
       "6               addColumn                 executor              mapping_map   \n",
       "7                 addFile                   export                     mask   \n",
       "8                addRank1             export_arrow              matches_url   \n",
       "9              add_column              export_fits              materialize   \n",
       "10            add_columns              export_hdf5                      max   \n",
       "11           add_function           export_parquet                     mean   \n",
       "12           add_variable                  extract            median_approx   \n",
       "13     add_virtual_column      favorite_selections                      min   \n",
       "14       all_column_names                     file                   minmax   \n",
       "15            all_columns                 file_map                       ml   \n",
       "16                  apply                 filename                     mode   \n",
       "17                  astro                filenames       mutual_information   \n",
       "18                   axes                   fileno                 nColumns   \n",
       "19             axis_names               fileno_map                     name   \n",
       "20            bin_centers                   fillna                   nbytes   \n",
       "21              bin_edges                 filtered              nearest_bin   \n",
       "22                  binby                    first                   nommap   \n",
       "23                   bins                 fraction                      nop   \n",
       "24              byte_size                     func                  offsets   \n",
       "25               can_open                functions           option_to_args   \n",
       "26                    cat                      geo           ordinal_encode   \n",
       "27             categorize      get_active_fraction                     path   \n",
       "28         category_count         get_active_range        percentile_approx   \n",
       "29        category_labels        get_auto_fraction                     plot   \n",
       "30        category_values         get_column_names                   plot1d   \n",
       "31                  close          get_current_row           plot2d_contour   \n",
       "32            close_files              get_options            plot2d_tensor   \n",
       "33                    col                 get_path            plot2d_vector   \n",
       "34           column_count          get_private_dir                   plot3d   \n",
       "35           column_names            get_selection                  plot_bq   \n",
       "36                columns             get_variable              plot_widget   \n",
       "37           combinations             global_links  propagate_uncertainties   \n",
       "38                compare                  graphql             random_index   \n",
       "39                 concat                  groupby               rank1names   \n",
       "40                   copy                   h5file                   rank1s   \n",
       "41          copy_metadata        h5table_root_name      remove_virtual_meta   \n",
       "42            correlation          has_current_row            rename_column   \n",
       "43                  count            has_selection  row_selection_listeners   \n",
       "44                    cov            has_snapshots                  samp_id   \n",
       "45                  covar                     head                   sample   \n",
       "46                 create      head_and_tail_print                  scatter   \n",
       "47          current_slice            healpix_count                   select   \n",
       "48                   data             healpix_plot         selectSerieIndex   \n",
       "49        delete_variable                     info               select_box   \n",
       "50  delete_virtual_column              is_category            select_circle   \n",
       "51               describe              is_datetime           select_ellipse   \n",
       "52            description                 is_local           select_inverse   \n",
       "53           descriptions                is_masked             select_lasso   \n",
       "54                   drop                 iterrows       select_non_missing   \n",
       "55            dropmissing                     join           select_nothing   \n",
       "56                 dropna                    label         select_rectangle   \n",
       "57                dropnan             label_encode          selected_length   \n",
       "58                  dtype                   length       selected_row_index   \n",
       "\n",
       "                                  3  \n",
       "0              selected_serie_index  \n",
       "1                selection_can_redo  \n",
       "2                selection_can_undo  \n",
       "3               selection_histories  \n",
       "4         selection_history_indices  \n",
       "5                    selection_redo  \n",
       "6                    selection_undo  \n",
       "7   serie_index_selection_listeners  \n",
       "8               set_active_fraction  \n",
       "9                  set_active_range  \n",
       "10                set_auto_fraction  \n",
       "11                  set_current_row  \n",
       "12                    set_selection  \n",
       "13                     set_variable  \n",
       "14                     shallow_copy  \n",
       "15   signal_active_fraction_changed  \n",
       "16            signal_column_changed  \n",
       "17                      signal_pick  \n",
       "18         signal_selection_changed  \n",
       "19     signal_sequence_index_change  \n",
       "20          signal_variable_changed  \n",
       "21                             sort  \n",
       "22                            split  \n",
       "23                     split_random  \n",
       "24                        state_get  \n",
       "25                       state_load  \n",
       "26                        state_set  \n",
       "27                      state_write  \n",
       "28                              std  \n",
       "29                          strides  \n",
       "30                              sum  \n",
       "31                             tail  \n",
       "32                             take  \n",
       "33                   to_arrow_table  \n",
       "34                 to_astropy_table  \n",
       "35                          to_copy  \n",
       "36                          to_dict  \n",
       "37                         to_items  \n",
       "38                     to_pandas_df  \n",
       "39                             trim  \n",
       "40                         ucd_find  \n",
       "41                             ucds  \n",
       "42                           unique  \n",
       "43                             unit  \n",
       "44                            units  \n",
       "45              validate_expression  \n",
       "46                              var  \n",
       "47                        variables  \n",
       "48                  virtual_columns  \n",
       "49                              viz  \n",
       "50                               vx  \n",
       "51                               vy  \n",
       "52                               vz  \n",
       "53                           widget  \n",
       "54                            write  \n",
       "55                       write_meta  \n",
       "56                                x  \n",
       "57                                y  \n",
       "58                                z  "
      ]
     },
     "execution_count": 8,
     "metadata": {},
     "output_type": "execute_result"
    }
   ],
   "source": [
    "bp.show_method_attributes(df,4)"
   ]
  },
  {
   "cell_type": "code",
   "execution_count": 9,
   "metadata": {
    "ExecuteTime": {
     "end_time": "2020-01-28T01:09:58.976834Z",
     "start_time": "2020-01-28T01:09:58.963200Z"
    }
   },
   "outputs": [
    {
     "data": {
      "text/plain": [
       "OrderedDict([('E',\n",
       "              array([-121238.171875 , -100819.9140625, -100559.9609375, ...,\n",
       "                     -112580.359375 ,  -74862.90625  ,  -95361.765625 ])),\n",
       "             ('FeH',\n",
       "              array([-2.30922761, -1.78873549, -0.7618109 , ..., -1.93062276,\n",
       "                     -1.22501982, -2.56896369])),\n",
       "             ('L',\n",
       "              array([ 831.07995605, 1435.18395996, 1039.2989502 , ..., 1182.4362793 ,\n",
       "                     1324.59265137,  351.09555054])),\n",
       "             ('Lz',\n",
       "              array([-336.42651367, -828.7567749 ,  920.80249023, ...,  115.58557892,\n",
       "                     1057.01733398, -309.81439209])),\n",
       "             ('random_index',\n",
       "              array([1511648, 2728665, 1202632, ...,  374845,  425745,  289364])),\n",
       "             ('vx',\n",
       "              array([ 53.276722  , 252.810791  ,  96.276474  , ...,   8.46711349,\n",
       "                     110.221558  ,  -2.10541415])),\n",
       "             ('vy',\n",
       "              array([288.386047 , -69.9498444, 226.440201 , ..., -38.2765236,\n",
       "                     -31.3925591, -27.6108856])),\n",
       "             ('vz',\n",
       "              array([ -95.2649078 ,  -56.3121033 ,  -34.7527161 , ..., -127.541473  ,\n",
       "                       86.2726822 ,    3.80799961])),\n",
       "             ('x',\n",
       "              array([ -0.77747077,   3.77427316,   1.3757627 , ...,  -1.14041007,\n",
       "                     -14.2985935 ,  10.5450506 ])),\n",
       "             ('y',\n",
       "              array([ 2.10626292,  2.23387194, -6.3283844 , ..., -8.4957695 ,\n",
       "                     -5.51750422, -8.86106777])),\n",
       "             ('z',\n",
       "              array([ 1.93743467,  3.76209331,  2.63250017, ...,  2.25749826,\n",
       "                     -8.65472317, -4.65835428]))])"
      ]
     },
     "execution_count": 9,
     "metadata": {},
     "output_type": "execute_result"
    }
   ],
   "source": [
    "df.columns"
   ]
  },
  {
   "cell_type": "code",
   "execution_count": 10,
   "metadata": {
    "ExecuteTime": {
     "end_time": "2020-01-28T01:10:45.801850Z",
     "start_time": "2020-01-28T01:10:45.791659Z"
    }
   },
   "outputs": [
    {
     "data": {
      "text/plain": [
       "Expression = x\n",
       "Length: 330,000 dtype: float64 (column)\n",
       "---------------------------------------\n",
       "     0  -0.777471\n",
       "     1    3.77427\n",
       "     2    1.37576\n",
       "     3   -7.06738\n",
       "     4   0.243441\n",
       "       ...       \n",
       "329995    3.76884\n",
       "329996    9.17409\n",
       "329997   -1.14041\n",
       "329998   -14.2986\n",
       "329999    10.5451"
      ]
     },
     "execution_count": 10,
     "metadata": {},
     "output_type": "execute_result"
    }
   ],
   "source": [
    "df['x']"
   ]
  },
  {
   "cell_type": "code",
   "execution_count": 13,
   "metadata": {
    "ExecuteTime": {
     "end_time": "2020-01-28T01:11:53.725685Z",
     "start_time": "2020-01-28T01:11:53.721943Z"
    }
   },
   "outputs": [],
   "source": [
    "# df.shape # AttributeError"
   ]
  },
  {
   "cell_type": "code",
   "execution_count": null,
   "metadata": {
    "ExecuteTime": {
     "end_time": "2020-01-28T01:17:42.545506Z",
     "start_time": "2020-01-28T01:17:20.301Z"
    }
   },
   "outputs": [],
   "source": [
    "len(df)"
   ]
  },
  {
   "cell_type": "code",
   "execution_count": 14,
   "metadata": {
    "ExecuteTime": {
     "end_time": "2020-01-28T01:12:43.653756Z",
     "start_time": "2020-01-28T01:12:43.628241Z"
    }
   },
   "outputs": [
    {
     "data": {
      "text/plain": [
       "array([ -0.77747077,   3.77427316,   1.3757627 , ...,  -1.14041007,\n",
       "       -14.2985935 ,  10.5450506 ])"
      ]
     },
     "execution_count": 14,
     "metadata": {},
     "output_type": "execute_result"
    }
   ],
   "source": [
    "# get numpy array\n",
    "df.evaluate(df.x)"
   ]
  },
  {
   "cell_type": "markdown",
   "metadata": {},
   "source": [
    "# Virtual Functions"
   ]
  },
  {
   "cell_type": "code",
   "execution_count": 17,
   "metadata": {
    "ExecuteTime": {
     "end_time": "2020-01-28T01:15:06.128682Z",
     "start_time": "2020-01-28T01:15:06.099894Z"
    }
   },
   "outputs": [
    {
     "data": {
      "text/html": [
       "<table>\n",
       "<thead>\n",
       "<tr><th>#                            </th><th style=\"text-align: right;\">        x</th><th style=\"text-align: right;\">      y</th><th style=\"text-align: right;\">      z</th><th style=\"text-align: right;\">      r</th></tr>\n",
       "</thead>\n",
       "<tbody>\n",
       "<tr><td><i style='opacity: 0.6'>0</i></td><td style=\"text-align: right;\">-0.777471</td><td style=\"text-align: right;\">2.10626</td><td style=\"text-align: right;\">1.93743</td><td style=\"text-align: right;\">2.96555</td></tr>\n",
       "<tr><td><i style='opacity: 0.6'>1</i></td><td style=\"text-align: right;\"> 3.77427 </td><td style=\"text-align: right;\">2.23387</td><td style=\"text-align: right;\">3.76209</td><td style=\"text-align: right;\">5.77829</td></tr>\n",
       "</tbody>\n",
       "</table>"
      ],
      "text/plain": [
       "  #          x        y        z        r\n",
       "  0  -0.777471  2.10626  1.93743  2.96555\n",
       "  1   3.77427   2.23387  3.76209  5.77829"
      ]
     },
     "execution_count": 17,
     "metadata": {},
     "output_type": "execute_result"
    }
   ],
   "source": [
    "df['r'] = np.sqrt(df.x**2 + df.y**2 + df.z**2)\n",
    "\n",
    "df[['x','y','z','r']].head(2)"
   ]
  },
  {
   "cell_type": "markdown",
   "metadata": {},
   "source": [
    "# Selections and Filterings"
   ]
  },
  {
   "cell_type": "code",
   "execution_count": 18,
   "metadata": {
    "ExecuteTime": {
     "end_time": "2020-01-28T01:15:10.184217Z",
     "start_time": "2020-01-28T01:15:10.152054Z"
    }
   },
   "outputs": [
    {
     "data": {
      "text/html": [
       "<table>\n",
       "<thead>\n",
       "<tr><th>#                            </th><th style=\"text-align: right;\">        x</th><th style=\"text-align: right;\">      y</th><th style=\"text-align: right;\">       z</th><th style=\"text-align: right;\">      r</th></tr>\n",
       "</thead>\n",
       "<tbody>\n",
       "<tr><td><i style='opacity: 0.6'>0</i></td><td style=\"text-align: right;\">-0.777471</td><td style=\"text-align: right;\">2.10626</td><td style=\"text-align: right;\"> 1.93743</td><td style=\"text-align: right;\">2.96555</td></tr>\n",
       "<tr><td><i style='opacity: 0.6'>1</i></td><td style=\"text-align: right;\">-7.06738 </td><td style=\"text-align: right;\">1.31738</td><td style=\"text-align: right;\">-6.10544</td><td style=\"text-align: right;\">9.43184</td></tr>\n",
       "</tbody>\n",
       "</table>"
      ],
      "text/plain": [
       "  #          x        y         z        r\n",
       "  0  -0.777471  2.10626   1.93743  2.96555\n",
       "  1  -7.06738   1.31738  -6.10544  9.43184"
      ]
     },
     "execution_count": 18,
     "metadata": {},
     "output_type": "execute_result"
    }
   ],
   "source": [
    "df_neg = df[df.x < 0]\n",
    "\n",
    "df_neg[['x','y','z','r']].head(2)"
   ]
  },
  {
   "cell_type": "markdown",
   "metadata": {},
   "source": [
    "# Statistics"
   ]
  },
  {
   "cell_type": "code",
   "execution_count": 19,
   "metadata": {
    "ExecuteTime": {
     "end_time": "2020-01-28T01:15:50.716265Z",
     "start_time": "2020-01-28T01:15:50.689555Z"
    }
   },
   "outputs": [
    {
     "data": {
      "text/plain": [
       "array(330000)"
      ]
     },
     "execution_count": 19,
     "metadata": {},
     "output_type": "execute_result"
    }
   ],
   "source": [
    "df.count()"
   ]
  },
  {
   "cell_type": "code",
   "execution_count": 22,
   "metadata": {
    "ExecuteTime": {
     "end_time": "2020-01-28T01:17:51.634676Z",
     "start_time": "2020-01-28T01:17:51.572133Z"
    }
   },
   "outputs": [],
   "source": [
    "# df.mean(df.x) # extreme slow"
   ]
  },
  {
   "cell_type": "code",
   "execution_count": 23,
   "metadata": {
    "ExecuteTime": {
     "end_time": "2020-01-28T01:18:21.461030Z",
     "start_time": "2020-01-28T01:18:21.420459Z"
    }
   },
   "outputs": [
    {
     "data": {
      "text/plain": [
       "array([1310, 1416, 1452, 1519, 1599, 1810, 1956, 2005, 2157, 2357, 2653,\n",
       "       2786, 3012, 3215, 3619, 3890, 3973, 4400, 4782, 5126, 5302, 5729,\n",
       "       6042, 6562, 6852, 7167, 7456, 7633, 7910, 8415, 8619, 8246, 8358,\n",
       "       8769, 8294, 7870, 7749, 7389, 7174, 6901, 6557, 6173, 5721, 5367,\n",
       "       4963, 4655, 4246, 4110, 3939, 3611, 3289, 3018, 2811, 2570, 2505,\n",
       "       2267, 2013, 1803, 1687, 1563, 1384, 1326, 1257, 1189])"
      ]
     },
     "execution_count": 23,
     "metadata": {},
     "output_type": "execute_result"
    }
   ],
   "source": [
    "xcounts = df.count(binby=df.x,\n",
    "                  limits=[-10,10],\n",
    "                  shape=64)\n",
    "\n",
    "xcounts"
   ]
  },
  {
   "cell_type": "code",
   "execution_count": 24,
   "metadata": {
    "ExecuteTime": {
     "end_time": "2020-01-28T01:18:58.778352Z",
     "start_time": "2020-01-28T01:18:58.230366Z"
    }
   },
   "outputs": [
    {
     "data": {
      "text/plain": [
       "[<matplotlib.lines.Line2D at 0x11d9c8550>]"
      ]
     },
     "execution_count": 24,
     "metadata": {},
     "output_type": "execute_result"
    },
    {
     "data": {
      "image/png": "[encoded data removed]",
      "text/plain": [
       "<Figure size 576x576 with 1 Axes>"
      ]
     },
     "metadata": {},
     "output_type": "display_data"
    }
   ],
   "source": [
    "plt.plot(np.linspace(-10,10,64), xcounts)"
   ]
  },
  {
   "cell_type": "code",
   "execution_count": 25,
   "metadata": {
    "ExecuteTime": {
     "end_time": "2020-01-28T01:19:52.268313Z",
     "start_time": "2020-01-28T01:19:52.181356Z"
    }
   },
   "outputs": [
    {
     "data": {
      "text/plain": [
       "array([[ 9,  3,  3, ...,  3,  2,  1],\n",
       "       [ 5,  3,  1, ...,  1,  3,  3],\n",
       "       [11,  3,  2, ...,  1,  1,  4],\n",
       "       ...,\n",
       "       [12,  6,  8, ...,  0,  1,  0],\n",
       "       [ 7,  6, 12, ...,  3,  0,  0],\n",
       "       [11, 10,  7, ...,  1,  1,  1]])"
      ]
     },
     "execution_count": 25,
     "metadata": {},
     "output_type": "execute_result"
    }
   ],
   "source": [
    "xycounts = df.count(binby=[df.x,df.y],\n",
    "                   limits=[[-10,10],[-10,20]],\n",
    "                   shape=[64,128])\n",
    "\n",
    "xycounts"
   ]
  },
  {
   "cell_type": "code",
   "execution_count": 27,
   "metadata": {
    "ExecuteTime": {
     "end_time": "2020-01-28T01:20:55.583447Z",
     "start_time": "2020-01-28T01:20:54.896401Z"
    }
   },
   "outputs": [
    {
     "data": {
      "image/png": "[encoded data removed]",
      "text/plain": [
       "<Figure size 576x576 with 1 Axes>"
      ]
     },
     "metadata": {},
     "output_type": "display_data"
    }
   ],
   "source": [
    "plt.imshow(xycounts.T,\n",
    "          origin='lower',\n",
    "          extent=[-10,10,-10,20])\n",
    "\n",
    "plt.grid(False)\n",
    "plt.show()"
   ]
  },
  {
   "cell_type": "code",
   "execution_count": 30,
   "metadata": {
    "ExecuteTime": {
     "end_time": "2020-01-28T01:23:02.877221Z",
     "start_time": "2020-01-28T01:23:02.856901Z"
    }
   },
   "outputs": [
    {
     "data": {
      "text/plain": [
       "array(-0.06713149)"
      ]
     },
     "execution_count": 30,
     "metadata": {},
     "output_type": "execute_result"
    }
   ],
   "source": [
    "df.mean('x')"
   ]
  },
  {
   "cell_type": "code",
   "execution_count": 29,
   "metadata": {
    "ExecuteTime": {
     "end_time": "2020-01-28T01:22:58.265281Z",
     "start_time": "2020-01-28T01:22:58.217264Z"
    }
   },
   "outputs": [
    {
     "data": {
      "text/plain": [
       "array([ 2.43483742,  4.41840721,  8.26742458, 15.53846476])"
      ]
     },
     "execution_count": 29,
     "metadata": {},
     "output_type": "execute_result"
    }
   ],
   "source": [
    "df.mean(\"(x**2+y**2)**0.5\", binby=\"E\", shape=4)"
   ]
  },
  {
   "cell_type": "code",
   "execution_count": null,
   "metadata": {},
   "outputs": [],
   "source": []
  }
 ],
 "metadata": {
  "kernelspec": {
   "display_name": "Python37 (xx)",
   "language": "python",
   "name": "xx"
  },
  "language_info": {
   "codemirror_mode": {
    "name": "ipython",
    "version": 3
   },
   "file_extension": ".py",
   "mimetype": "text/x-python",
   "name": "python",
   "nbconvert_exporter": "python",
   "pygments_lexer": "ipython3",
   "version": "3.7.5"
  },
  "toc": {
   "base_numbering": 1,
   "nav_menu": {},
   "number_sections": true,
   "sideBar": true,
   "skip_h1_title": false,
   "title_cell": "Table of Contents",
   "title_sidebar": "Contents",
   "toc_cell": true,
   "toc_position": {},
   "toc_section_display": true,
   "toc_window_display": true
  }
 },
 "nbformat": 4,
 "nbformat_minor": 2
}
